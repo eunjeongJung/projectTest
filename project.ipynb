{
 "cells": [
  {
   "cell_type": "code",
   "execution_count": 6,
   "metadata": {},
   "outputs": [],
   "source": [
    "import time\n",
    "from selenium import webdriver\n",
    "from selenium.webdriver.common.by import By\n",
    "from selenium.webdriver.support.ui import WebDriverWait\n",
    "from selenium.webdriver.support import expected_conditions as EC\n",
    "from bs4 import BeautifulSoup as bs\n",
    "from tqdm import tqdm\n",
    "from selenium.common.exceptions import NoSuchElementException\n",
    "from selenium.common.exceptions import TimeoutException\n",
    "import csv"
   ]
  },
  {
   "cell_type": "code",
   "execution_count": 7,
   "metadata": {},
   "outputs": [
    {
     "name": "stderr",
     "output_type": "stream",
     "text": [
      "  0%|          | 0/29 [00:00<?, ?it/s]"
     ]
    },
    {
     "name": "stdout",
     "output_type": "stream",
     "text": [
      "Content: \n",
      "국내에서 사이테스를 그렇게관리했다가 행정력 커버못쳐서 손놓은지경인데 포유류정도면 그렇게 파악가능한데 포유류보다 통상적으로 번식력뛰어난 조류 파충류 어류 절지류는 그게안됨 당장 절지류쪽은 무서류 오너멘탈애들 판치는데 환경부알고도 걍 손놨다 ㅇㅇ 거기 담당공무원 웃긴게 임기가 반년도 아닌데 거의 반년주기로 담당자교체되어있음 티오늘리면 해결이라고 생각할수있겠으나, 애초에 나라가 공무원티오를 전체적으로 줄이는마당에 환경부한테 우선권으로 티오줄리도 없고 사이테스종으로만 한정해도 저지랄인데 전종확대면 절대커버안됨. 그걸 알아서 환경부도 의견좀 받겠다고 공청회를 열었던거고 \n",
      "\n",
      "Comment: 그렇다고 동물학대를 그냥 냅둘수 있나허가제라도 나와야 무분별한 번식 줄일수있을듯  - dc App\n",
      "Comment: 크레의정상화를기원합니다다른거도 폭사한다고??함께 폭4하자\n"
     ]
    },
    {
     "name": "stderr",
     "output_type": "stream",
     "text": []
    },
    {
     "name": "stdout",
     "output_type": "stream",
     "text": [
      "Content: \n",
      "???: 크레 탈출은 능지순ㅇㅇ???: 제대로 된 크레 가격표 알려줌??????갤 탈출은 능지순 ㅂㅂ~\n",
      "\n"
     ]
    },
    {
     "name": "stderr",
     "output_type": "stream",
     "text": []
    },
    {
     "name": "stdout",
     "output_type": "stream",
     "text": [
      "Content: \n",
      "동물학대 멈춰!  - dc official App\n",
      "\n",
      "Comment: 이상 동물단체도 하는 공청회참석도 안하고 이런데서 자판기밖에 못두드리는 어린학생의 빼액대기 잘봤다\n",
      "Comment: 크레 정상화 기원합니다\n"
     ]
    },
    {
     "name": "stderr",
     "output_type": "stream",
     "text": []
    },
    {
     "name": "stdout",
     "output_type": "stream",
     "text": [
      "Content: \n",
      "그거로 예산편성해서 굴릴수있었으면 진작 외래종들 포상금헌터들이 싹쓸어갔음  포상금이라는 제도 자체가 국가에서 돈주는거라 딴쪽도 쉽게 인정안되는데 그깟 좆충류따위로? ㅋㅋ  \n",
      "\n"
     ]
    },
    {
     "name": "stderr",
     "output_type": "stream",
     "text": []
    },
    {
     "name": "stdout",
     "output_type": "stream",
     "text": [
      "Content: \n",
      "환경부가 왜 공청회같은거 더이상 유튭라이브안키는지 아냐 저런글처럼 그냥 현실성없는소리 나불대기만하는 민원때문이야 ㅋㅋㅋㅋㅋ 제대로 현장까지 찾아와서 발언권얻고 차분히 의견제시할사람을 요구하지 저런식으로 말하면 절대안쳐들음ㅋㅋ 왜, 실명이랑 얼굴까고 하면 쳐맞을거같아서 못가겠냐? 근데 동물단체애들도 거기와서 잘만발언하고 그랬는데? 그새끼들은 최소 지들의견내고 행동하는 모습이라도 보이지 할줄아는게 정식절차로 민원도 못넣으면서 궁시렁궁시렁ㅋㅋ \n",
      "\n"
     ]
    },
    {
     "name": "stderr",
     "output_type": "stream",
     "text": []
    },
    {
     "name": "stdout",
     "output_type": "stream",
     "text": [
      "Content: \n",
      "비바리움이 작아서 과습에도 심을만한 조그만한 반수생(?)식물하고 이끼 추천좀 해줘\n",
      "\n"
     ]
    },
    {
     "name": "stderr",
     "output_type": "stream",
     "text": []
    },
    {
     "name": "stdout",
     "output_type": "stream",
     "text": [
      "Content: \n",
      "마케팅에 속은건지 먹성좋은얘들도절레절레 정도인데 이거 맞는거?\n",
      "\n",
      "Comment: 거의 사기 수준 마케팅이지.. 자율이나 숟가락은 아얘 안먹으니, 붙임 된 애들만 주사기로만 피딩한거 올리잖아ㅋㅋ 그러고서 주시기가 낫다고만 하고ㅋㅋㅋ 말도 그렇게 교묘하게 돌려서 하더만?\n"
     ]
    },
    {
     "name": "stderr",
     "output_type": "stream",
     "text": []
    },
    {
     "name": "stdout",
     "output_type": "stream",
     "text": [
      "Content: \n",
      "지난주 금욜 두마리 입양해와서 개별사육중인데 먹이는 히카리 팩어택? 팩맨먹이는거 급여하고있는데 이대로 키워도 괜찮음? 한마리는 잘받아먹는데 한마리는 안먹노 ㅜㅜ.. 양서류 핀셋피딩 빡쎄다.. 걍 귀뚜라미 주는수밖에없나.. 샵에선 먹는거봤거든.. 가끔 칼슘제 묻혀서 급여하는게좋나? 걍 급여해도되지? Uvb 같은건 따로필요없을것같고\n",
      "\n"
     ]
    },
    {
     "name": "stderr",
     "output_type": "stream",
     "text": []
    },
    {
     "name": "stdout",
     "output_type": "stream",
     "text": [
      "Content: \n",
      "유로메스틱스 이구아나 거북 얘네빼곤 없나?\n",
      "\n",
      "Comment: 척왈라  - dc App\n"
     ]
    },
    {
     "name": "stderr",
     "output_type": "stream",
     "text": []
    },
    {
     "name": "stdout",
     "output_type": "stream",
     "text": [
      "Content: \n",
      "전자 후자  - dc official App\n",
      "\n",
      "Comment: 왜 다들 똑같지?\n",
      "Comment: 위에 백인이고 아래 흑인이지?\n"
     ]
    },
    {
     "name": "stderr",
     "output_type": "stream",
     "text": []
    },
    {
     "name": "stdout",
     "output_type": "stream",
     "text": [
      "Content: \n",
      "사육금지 때려야지 성인이 피 많이날 정도면 애기가 물렸을때는 뜯겨나갈수도있는대 안그럼?? 비어디도 리키 차화 가고일 펫테일 모니터전종 토케이 블루텅 다 위험종이네 이것도 참고해줘 환경부야  - dc official App\n",
      "\n",
      "Comment: 게이야 개는 사람물어 죽여도 사육금지 안당하자나  물어서 피나는걸로 금지는 힘들걸\n",
      "Comment: 그논리면 개도 금지해야지\n"
     ]
    },
    {
     "name": "stderr",
     "output_type": "stream",
     "text": []
    },
    {
     "name": "stdout",
     "output_type": "stream",
     "text": [
      "Content: \n",
      "ㅇㅇ- dc official App\n",
      "\n",
      "Comment: 크기같으면\n",
      "Comment: 베이비때는 비추하고 아성체 이상부터\n",
      "Comment: 죽었을때\n"
     ]
    },
    {
     "name": "stderr",
     "output_type": "stream",
     "text": []
    },
    {
     "name": "stdout",
     "output_type": "stream",
     "text": [
      "Content: \n",
      "쿠레파스 인터뷰 햇던 예전영상인디ㅈㄴ 거들먹거리며 선민의식? 넘치고남들이 비싸게 파는건 사기처럼 몰아가노야이새캬 ㅋㅋ 에혀- dc official App\n",
      "\n",
      "Comment: 정작 본인은 똥퀄 ㅈㄴ 비싸게 팜ㅋㅋ  심지어 똥퀄이라 일반 행사에는 비교되서 나오지도 못함ㅋㅋㅋㅋㅋ\n",
      "Comment: 걔는 양심이 없음 목소리부터가 ㅈㄴ 표독스러움\n"
     ]
    },
    {
     "name": "stderr",
     "output_type": "stream",
     "text": []
    },
    {
     "name": "stdout",
     "output_type": "stream",
     "text": [
      "Content: \n",
      "비어디는 10자에서 키우고 카멜 토케이 리킨 가고일 차화는 100 100 200짜리 스크린케이지랑 유리장 만드는건가?ㅋㅋㅋ ㅈㄴ웃길듯ㅋㅋ 레게 펫테일도 기본2자에 바이퍼게코는 합사시키면 거북이 방사장크기에서 합사시켜야하고ㅋㅋ 개웃기긴할듯  - dc official App\n",
      "\n",
      "Comment: 45 =크레길이2배급임 같은비율로 보면비어디는 2~3자 안에 떡침  - dc App\n"
     ]
    },
    {
     "name": "stderr",
     "output_type": "stream",
     "text": []
    },
    {
     "name": "stdout",
     "output_type": "stream",
     "text": [
      "Content: \n",
      "모어닝 키우고 싶은데 싸게 넘기실 분 5마리 이상\n",
      "\n",
      "Comment: 지금 찻집 모어님 개싸던데 얼마나 싸게 살려고 ㄷㄷ\n"
     ]
    },
    {
     "name": "stderr",
     "output_type": "stream",
     "text": []
    },
    {
     "name": "stdout",
     "output_type": "stream",
     "text": [
      "Content: \n",
      "수천만원에 분양된거 맞아여?\n",
      "\n",
      "Comment: 겠냐?  - dc App\n",
      "Comment: 마즘\n",
      "Comment: 진짜 메리트없게 생기긴했네\n"
     ]
    },
    {
     "name": "stderr",
     "output_type": "stream",
     "text": []
    },
    {
     "name": "stdout",
     "output_type": "stream",
     "text": [
      "Content: \n",
      " 환경부 일안하냐? 여기 모니터링하는거 안다  크레 재테크랍시고 동물학대를  자유시장이라고 하는놈들이다  정작 취미로 좋은 환경에서  키우는 애들은 1%도 안된다  이거 냅둘거냐?  크레 재테크하는애들 잡는 방법 알려준다  1. 마리당 시설등록 454560 (동물복지차원)      합사시 1마리 추가당 1.5배씩 사육장 키울것  2. 20마리 이상 사육시 허가제 시행     (이거 가끔 20마리 키우다 새끼 나오면 범법자되냐느니       염병하는새키 있는데 20마리 정해놓으면 알아서     성체는 10마리 이하로 키운다. 애초에 취미수준인데     20마리 키울새끼도 없음.     이상이다? 이새낀 크레재테크임)  3. 허가제는 집구석에서 허가 불가(상가)  4. 신고포상제도 (중요)     건당 5천원만 줘도 기계처럼할새끼들 널림     (예:퍙갤새끼들)  5. 증식서류 및 인수인계서류       (허가제 범위 들어가는 사업자 대상)      응당 ㅅㅂ 외래종인데 몇마리 번식하고     뒤지는진 알아야지?     이거갖고 지랄하는 업자새낀 국가의 역적임.     늑대거북 방생하는새키랑 진배없음.  이거 나와도 다 맞춰서 할 업자들 많음.  그냥 방구석 브리딩하는새끼들이 능력안되서 지랄하는거지  시장망한다? 이렇게 해도 먹고살새끼는 다 먹고삼.  샵사장들도 방구석 브리더&브리더 지망생한테  지금까지 존나 편하게 돈벌엇었으니 취미시장만 남으면  존나 빡세개 돈벌게 되니 염병떨수밖에 없지  이 글은 왜 어따가 쓰냐? 파사모에 안쓰고?  ㅅㅂ 거긴 99%가 업자거나 업자 지망생 집단이라  저런거 쓰면 집단린치당한다.  국회의원들이 입법시켯는데 있으나 마나한 법안  동물학대 두둔하는 법안 만들지만고  할거면 눈치보지말고 똑바로 해라.  그리고 박람회같은거 한다고 하면 한번쯤 와바라  동물학대의 온상이다.  건강한 파양생활만들자  다 봤으면 꺼져라.  - dc official App\n",
      "\n",
      "Comment: ㅂㅅ같은 소리 길게도 썻다\n",
      "Comment: 취미로 키우던 애들은 그냥 키우던데로 키우면됨 ㅇㅇ  - dc App\n",
      "Comment: 개추\n",
      "Comment: 파충류 집에서 키우면 급습해서 삼단봉으로 패자 그냥\n",
      "Comment: 환경부가 여길왜봐\n",
      "Comment: 신고포상제도를 자체적으로 운영할수있을만큼 환경부예산 못끌어쓴다외래종인데 몇마리 번식하고 하는지파악: 사이테스를 이지랄로하다가 감당못하는 지경, 담당자 기한못채우고 매번 1년도 못넘기고 그만둬서 계속바뀌는건 아냐?그리고 이런거 공청회에서 말못할거면서 여기서만 나불거리면 절대 듣지않음ㅋㅋ 안그래도 저번간담회때 실무자들 이야기나왔다. 공청회에서 제대로 이야기도 안하면서 초딩식으로 민원테러하는놈들 존나 심하다고 그래서 앞으로 그런식으로 의견안받을거라고 ㅋㅋ\n",
      "Comment: 비추박는 업자새끼들 보소 ㅋㅋ  - dc App\n",
      "Comment: 이거 모니터링할 환경부직원이면 니글보고 개빡칠걸. 안그래도 일감당못하는데 사람죽일셈이냐고\n"
     ]
    },
    {
     "name": "stderr",
     "output_type": "stream",
     "text": []
    },
    {
     "name": "stdout",
     "output_type": "stream",
     "text": [
      "Content: \n",
      "1 이미지 순서 ON2 이미지 순서 ON3 이미지 순서 ON물고기는 어느정도 떼합사가 가능하다는 인식 좁은통에 있어도 지능이 낮아서 괜찮다는 인식 =괴리감 없음 4 이미지 순서 ON5 이미지 순서 ON떼합사가 안된다는 인식부족 물고기 =관상 도마뱀=어느정도의 반려동물로써의 인식 지능이 물고기 보다 월등히 높을거라는 착각 최소30×30큐브에 메인개체나 모프별로 10마리정도만 전시하고 푸딩컵은 대놓고 보이지말고 뒤에쌓아놨다가 보여주는 방식의 운영이필요 >한쌍만 키워도 10마리에 새끼가 나옴 >>불가 >>>자멸ㅇㅇ  - dc official App\n",
      "\n",
      "Comment: 인식을 떠나서 움직일 수 있는 공간이 너무 차이나잖냐\n",
      "Comment: 크레를 보면 그냥 ㅈ같고 불쾌해짐 표현하기 어려울정도로 씹스러움ㅋㅋ\n",
      "Comment: 과연 생물로 생각하나 싶을정도의 취급이다\n",
      "Comment: 동물학대 신고해야할듯;;  - dc App\n"
     ]
    },
    {
     "name": "stderr",
     "output_type": "stream",
     "text": []
    },
    {
     "name": "stdout",
     "output_type": "stream",
     "text": [
      "Content: \n",
      "목 근처는 주황점박이 나머지는 초록점박이 이거 무슨 뱀인가용 \n",
      "\n",
      "Comment: 찾아보니 유혈목이같네; 미리 ㄱㅅ\n"
     ]
    },
    {
     "name": "stderr",
     "output_type": "stream",
     "text": []
    },
    {
     "name": "stdout",
     "output_type": "stream",
     "text": [
      "Content: \n",
      "참 아이러니한 인생이야 \n",
      "\n",
      "Comment: 사실은 개체들 한테 비바가 그렇게 살기좋은 환경이 아니야\n"
     ]
    },
    {
     "name": "stderr",
     "output_type": "stream",
     "text": []
    },
    {
     "name": "stdout",
     "output_type": "stream",
     "text": [
      "Content: \n",
      "만다린도 이 이상 가격대부턴 때탄거같은 색 나오는거지 쨍한 주황은 저 가격대부터 이미 만렙찍고나옴 \n",
      "\n",
      "Comment: 15만원은? - dc App\n"
     ]
    },
    {
     "name": "stderr",
     "output_type": "stream",
     "text": []
    },
    {
     "name": "stdout",
     "output_type": "stream",
     "text": [
      "Content: \n",
      "영끌해서 수백 수천 알공장으로돈벌려고 얼마나 설레였을까현실은 10만원에도 못파는 듣보알공장파산ㅋㅋ\n",
      "\n",
      "Comment: 너의 인생은 그런 돈도 없는 도전할 용기도 없는 인생\n",
      "Comment: 문신 돼지도 다하는거 본인만 못해서 갤에나 웅앵거림ㅋㅋ\n"
     ]
    },
    {
     "name": "stderr",
     "output_type": "stream",
     "text": []
    },
    {
     "name": "stdout",
     "output_type": "stream",
     "text": [
      "Content: \n",
      "수십만원써는거 개킹반지업체당 마릿수제한하고반찬통금지시켜라ㅡ사랑으로그기운담서 ㅎ\n",
      "\n",
      "Comment: 사랑 ㅋㅋㅋ 집에 오면 손도 안타고 날뛰는 애들 부지기수인데 뭔 사랑\n",
      "Comment: ㅇㅇ\n"
     ]
    },
    {
     "name": "stderr",
     "output_type": "stream",
     "text": []
    },
    {
     "name": "stdout",
     "output_type": "stream",
     "text": [
      "Content: \n",
      "졸라 불쌍하다 진짜  파사모에 올려도 욕 뒤지게 처먹을거같은데  - dc official App\n",
      "\n",
      "Comment: 어디 업체인가요...ˀ̣\n",
      "Comment: 끔찍하다\n",
      "Comment: 위에거 살찐거도 학대임..\n"
     ]
    },
    {
     "name": "stderr",
     "output_type": "stream",
     "text": []
    },
    {
     "name": "stdout",
     "output_type": "stream",
     "text": [
      "Content: \n",
      "동에등애 가루 5프로정도 섞어주면 됨 1키로 만원밖에 안함 순수 지방 그 자체임  - dc official App\n",
      "\n"
     ]
    },
    {
     "name": "stderr",
     "output_type": "stream",
     "text": []
    },
    {
     "name": "stdout",
     "output_type": "stream",
     "text": [
      "Content: \n",
      "반박해봐  - dc official App\n",
      "\n",
      "Comment: 진짜졸라불쌍하네ㅋㅋㅋㅋㅋㅋㅋㅋ  - dc App\n",
      "Comment: ???:크레가 비주류 입문을 도와줬고 주저리주저리개씹쌉소리져\n"
     ]
    },
    {
     "name": "stderr",
     "output_type": "stream",
     "text": []
    },
    {
     "name": "stdout",
     "output_type": "stream",
     "text": [
      "Content: \n",
      "\n",
      "\n"
     ]
    },
    {
     "name": "stderr",
     "output_type": "stream",
     "text": []
    },
    {
     "name": "stdout",
     "output_type": "stream",
     "text": [
      "Content: \n",
      "1미터 넘어보이던데 이거 물리면 뒤짐?\n",
      "\n",
      "Comment: 해결함 이름은 아오다이쇼\n",
      "Comment: 청대장이돌아다니네 일본임?\n"
     ]
    },
    {
     "name": "stderr",
     "output_type": "stream",
     "text": []
    },
    {
     "name": "stdout",
     "output_type": "stream",
     "text": [
      "Content: \n",
      "이게 정상인들의 반응이야 알공장 ㅅㄲ들아 반성해라 \n",
      "\n",
      "Comment: 근데 저렇게 생각하면 베타 담겨있는통은 크고?  - dc App\n",
      "Comment: 개고양이 이동장도 좁으니까 쓰지 말라고 해라\n",
      "Comment: 베타도 불쌍하다고 생각하는 사람 꽤 있음\n",
      "Comment: 동물학대 멈춰  - dc App\n"
     ]
    },
    {
     "name": "stderr",
     "output_type": "stream",
     "text": []
    },
    {
     "name": "stdout",
     "output_type": "stream",
     "text": [
      "Content: \n",
      "그냥 아무 밀웜가루나 봐도 지방 제거 없이 그냥 갈아넣거든..?근데 무슨 ㅈㄴ 새로운 신기술인거마냥 홍보해대고 있어ㅋㅋㅋ올인원? 애들이 다 닦아내는거?ㅎ기호도 빼고 올인원이겠지ㅋㅋㅋㅋㅋ기호도 개같아서 심지어 지가 욕하는 시중 슈푸에 섞여먹이랰ㅋㅋ한가지만 해라 제발ㅎ\n",
      "\n",
      "Comment: 곤충가루 다 기름 압착해서 만드는거임 압착 안하면 가루가 안되고 덩어리 반죽됨  - dc App\n",
      "Comment: 개인적으로 ㅋㄹㅍㅅ 슈푸 싫어하지만 팩트로 이야기하면저거는 밀웜가루니까 당연히 지방제가가 없지 비교를 할거면 다른 슈퍼푸드랑 비교하는게 맞음\n",
      "Comment: 솔직히 기호성 떨어져서 손절 많이한다던데\n",
      "Comment: ㅋㅋㅋ쌉입정\n"
     ]
    },
    {
     "name": "stderr",
     "output_type": "stream",
     "text": []
    },
    {
     "name": "stdout",
     "output_type": "stream",
     "text": [
      "Content: \n",
      "집에 귀뚤 두기 싫음\n",
      "\n",
      "Comment: 거의 안먹음\n",
      "Comment: 우리집 애는 없어서 못먹을 정도로 잘 먹음.\n"
     ]
    },
    {
     "name": "stderr",
     "output_type": "stream",
     "text": []
    },
    {
     "name": "stdout",
     "output_type": "stream",
     "text": [
      "Content: \n",
      "인줄 알았는데 진짜 거북이더라얘는 무슨 거북인지 아는 사람 있을까크기는 한 30센치쯤 되는듯\n",
      "\n",
      "Comment: 플로리다 레드벨리\n"
     ]
    },
    {
     "name": "stderr",
     "output_type": "stream",
     "text": []
    },
    {
     "name": "stdout",
     "output_type": "stream",
     "text": [
      "Content: \n",
      " 글삭하지말라고  - dc official App\n",
      "\n"
     ]
    },
    {
     "name": "stderr",
     "output_type": "stream",
     "text": []
    },
    {
     "name": "stdout",
     "output_type": "stream",
     "text": [
      "Content: \n",
      "택시타고 병원 갔는데 애가 중간중간 발작하다가 병원 도착 후 대기하는 중에 갑자기 소리 내면서 양 뒷다리랑 골반을 트월킹발작하더니 지 목을 돌려서 얼굴을 응꼬쪽으로 향하다가 요산 찔끔 싸고 안정화됨 그리고 조금 이따 진료 받았는데 똥을 안 싸는 이유가 장막힘이라기엔 장이 막혔으면 배가 엄청 빵빵해진다고 아마 지난주 탈장때 처방했던약이 장을 안정화 해주는 약이라 먹은것도 얼마 없어서 아직 똥이 안 나온 걸수도 있다고 배마사지좀 해주라 하고 약 3일치 처방받음  - dc official App\n",
      "\n",
      "Comment: 게이 그래도 게코 아끼는 모습이 보기 좋노 - dc App\n"
     ]
    },
    {
     "name": "stderr",
     "output_type": "stream",
     "text": []
    },
    {
     "name": "stdout",
     "output_type": "stream",
     "text": [
      "Content: \n",
      "20만원이면 하이엔드 급 아니더라도 레게 전문 샵에서 구매 가능?- dc official App\n",
      "\n",
      "Comment: 어떤모프?\n",
      "Comment: 20이면 누가봐도 이쁜애 씹가능\n"
     ]
    },
    {
     "name": "stderr",
     "output_type": "stream",
     "text": []
    },
    {
     "name": "stdout",
     "output_type": "stream",
     "text": [
      "Content: \n",
      "1 이미지 순서 ON제일 위에가 새로 데려온거2 이미지 순서 ON3 이미지 순서 ON룸메들이랑 잘 지내고 있음\n",
      "\n",
      "Comment: 커엽농 잡으면 안무냐\n",
      "Comment: 무슨종이냐? 다 큰 사이즈는?\n",
      "Comment: 루프ㄷㄷ 부럽  - dc App\n",
      "Comment: 윗놈 젤 커엽네\n",
      "Comment: 무서류 충?  - dc App\n"
     ]
    },
    {
     "name": "stderr",
     "output_type": "stream",
     "text": []
    },
    {
     "name": "stdout",
     "output_type": "stream",
     "text": [
      "Content: \n",
      "와스도 크레랑 육겁 팔더라 요즘 순수 고기만 팔아서 버티는 물생활샵도 얼마 없나봄 \n",
      "\n"
     ]
    },
    {
     "name": "stderr",
     "output_type": "stream",
     "text": []
    },
    {
     "name": "stdout",
     "output_type": "stream",
     "text": [
      "Content: \n",
      " 태생이 귀족인거시야?  자연에선 어케 살은거임? \n",
      "\n",
      "Comment: 나도 궁금. 펫텔로 유명한 샵에선 냉뚤도 안되고 무조건 생뚤만 줘야된다 그러던데 일본에선 냉뚤로도 잘 기르는거 같음\n",
      "Comment: 1. 귀뚜라미 붙임 된 애들은 단거 안먹음 (먹어도 어느순간부터 안먹음)2. 장이 약해서 소화를 잘 못시킴(그래서 나는 뚜리도 대자는 안줌)이정도인거 같음\n",
      "Comment: 되는데 누가 그러냐ㅅㅂ 옛날엔 밀웜으로 다 키웠어\n",
      "Comment: 이문제때매 나도 안데려오고있는대 생뚤개오바임\n",
      "Comment: 울집 펫텔은 밀웜보면 눈돌아가서 물려듬.그냥 밀웜 안먹는다는건 개체차이인듯  - dc App\n",
      "Comment: 원래 펫게하는놈들이 폐쇄적임 자기들만 해처먹을려함ㅋ\n"
     ]
    },
    {
     "name": "stderr",
     "output_type": "stream",
     "text": []
    },
    {
     "name": "stdout",
     "output_type": "stream",
     "text": [
      "Content: \n",
      "2세랑 뷰모랑 섞고 그래도 문제안되노? 크레는 그럼 ㅈ되자나 궁금함안된다면 몇세대 건너띠고 가능함? \n",
      "\n",
      "Comment: 처음 교배해서 나온 근친 첫세대는 별 탈 없음, 쌓이면 쌓일수록 이제 병신발생률이 높아짐\n",
      "Comment: 펫텔모프는 wc랑 혈섞음 잘 안하더라   - dc App\n",
      "Comment: 3세대이상부터 유전병확률이 확올라간다고 들었던거같은데\n"
     ]
    },
    {
     "name": "stderr",
     "output_type": "stream",
     "text": []
    },
    {
     "name": "stdout",
     "output_type": "stream",
     "text": [
      "Content: \n",
      "1. 아침부터 처주무시기 전까지 카톡 ㅈㄴ함 집구석에서 죙일 처 놀다가 남편 퇴근하면 집안일 ㅈㄴ힘들다고 차라리 출근하고 싶다는 개소리 시전2. 크레 일주일만 키우면 개쌉고수 하루 18시간 톡방 보면서 오만 잡소리 다 듣고 그걸 자기 경험치라고 착각함ㅋㅋㅋㅋ 집구석에서 죙일 드라마나 처보다가 뉴비들 오면 자기가 뭔가 알려주고 쓸모있는 존재란 뽕이 차오름3. 잠깐 일하다 보면 톡999999개 개잡소리 ㅈㄴ해대니까 기존 인원들 나가는건데 왜 나가는지  모름ㅋㅋㅋㅋㅋㅋㅋㅋㅋㅋ난 여자을 비하 하는게 아님ㅋㅋㅋㅋ일반 여자랑 아줌마는 다른 개체임ㅋㅋㅋㅋ크레 입문하고 오픈톡 들어와서 3개월간 느낀점이다\n",
      "\n",
      "Comment: ㅋㅋㅋㅋㅋㅋㅋ 그중에 이쁜줌마 챱챱\n"
     ]
    },
    {
     "name": "stderr",
     "output_type": "stream",
     "text": []
    },
    {
     "name": "stdout",
     "output_type": "stream",
     "text": [
      "Content: \n",
      "이정도 가격이면 어느정도 퀄리티 애들 데려 올 슈 있음?  - dc official App\n",
      "\n",
      "Comment: 초고퀄 니가 원하는거 다살수 잇음\n",
      "Comment: 갤럭시같은거 가자  - dc App\n",
      "Comment: 파사모면 블랙나이트도 떡을치고도 남는다 - dc App\n"
     ]
    },
    {
     "name": "stderr",
     "output_type": "stream",
     "text": []
    },
    {
     "name": "stdout",
     "output_type": "stream",
     "text": [
      "Content: \n",
      "이친구 알비노 퍼펙트 패턴리스 팩맨이 맞나요?  - dc official App\n",
      "\n",
      "Comment: 화이트라임\n",
      "Comment: 커엽농\n"
     ]
    },
    {
     "name": "stderr",
     "output_type": "stream",
     "text": []
    },
    {
     "name": "stdout",
     "output_type": "stream",
     "text": [
      "Content: \n",
      "지난주 월욜에 생식기 탈갤로 탈장 나서 동물병원 가서 생식기 집어넣고 처방받은 약 3일 치 다 먹인 후 2일전에 귀뚜라미분말 먹이고 오늘 새벽에 탈피함 오늘이 탈장난 날로부터 딱 1주일인데 여태까지 똥을 한 번도 안 싸고 요산만 줄줄 샘 또 종종 뒷다리 발작함 이거 장 막힌 건가? 지금 당장 병원 가야 하나?  - dc official App\n",
      "\n",
      "Comment: 아 너 아까 걔구나 다시 병원 가고 바닥재 부터 바꾸자\n",
      "Comment: 뒷다리 발작은 MBD증상 요산만 싸고 똥을 못누는건 임팩션 증상일 수 있음 병원에서 엑스레이는 촬영함? - dc App\n",
      "Comment: mbd가 칼슘을 흡수못해서 올수도 이슴병원가삼 난 20정도 엑스레이 깨져스\n"
     ]
    },
    {
     "name": "stderr",
     "output_type": "stream",
     "text": []
    },
    {
     "name": "stdout",
     "output_type": "stream",
     "text": [
      "Content: \n",
      "여기서 계속 이야기 하잖아허가제 나오면 그냥 무료분양하는것도 문제가 돼?취미로 몇마리 키우는데 언젠가 번식도 해볼계획임근데 못팔면 처리할방법이 없으니.. 양도 적어서 도매같은건 꿈도 못꾸고- dc official App\n",
      "\n",
      "Comment: 안돨걸 ㅠㅠ 구냥 몰래 방생이 답인거지\n",
      "Comment: 무분 왜못해 강아지 고양이도 무분하는데  - dc App\n",
      "Comment: 무분은 전혀 관련없다. 그래서 햄스터같은것도 눈가리고 아웅식으로 용품사면 햄스터드려요같은 편법쓰는거고\n"
     ]
    },
    {
     "name": "stderr",
     "output_type": "stream",
     "text": []
    },
    {
     "name": "stdout",
     "output_type": "stream",
     "text": [
      "Content: \n",
      "에어컨도 24도정도로밖에 안틀어서UVB만 달아주고 사육이 가능하려나보통 출근해있을때는 에어컨이 꺼져있어서 방온도가 좀 더운편임\n",
      "\n",
      "Comment: 쌉가능\n",
      "Comment: 걍 일체형ㄱㄱ\n"
     ]
    },
    {
     "name": "stderr",
     "output_type": "stream",
     "text": []
    },
    {
     "name": "stdout",
     "output_type": "stream",
     "text": [
      "Content: \n",
      "형들 사진처럼 크레가 설사를 하여 문의드립니다.8/21 19:00 피딩 (슈푸) _ 이전 샵에서 먹인 슈푸로 먹은지 한달정도 됨..8/22 23:00 탈피8/23 16:00 피딩 (슈푸)8/23 16:30 피딩 중 약간 묽은 변8/24 설사 2회 - 첨부 사진과 같이 묽게함 (슈푸가 그대로 나온 것 처럼 생겼음...)8/25 설사 1회 - 묽은 기가 약간 줄어들음8/26 아침에 보니 설사를 1회 - 묽은 기가 약간 줄어들음이러한 상황입니다. 인터넷 찾아보니 아래와 같이 탈피 후에 묽은 변을 본다고 하는데 이 것 때문에 그러한지....\n",
      "\n",
      "Comment: 아 그리고 씁쓸한 냄새가 좀 나....\n",
      "Comment: 밥은 잘먹니?\n",
      "Comment: 밥 잘먹으면 내비둬 괜히 뭐 유산균이니 뭐니 돈 쓰지말고 슈푸에 물을 좀 줄이고 내비둬  보조용품 죄다 돈지랄이니까\n",
      "Comment: 슈푸를 좀 바꿔봐라. 그러고 관찰했을때도 동일 증상이면 몸 문제\n",
      "Comment: 원래 물똥도 쌈  - dc App\n"
     ]
    },
    {
     "name": "stderr",
     "output_type": "stream",
     "text": []
    },
    {
     "name": "stdout",
     "output_type": "stream",
     "text": [
      "Content: \n",
      "잘 아는 사람있노? \n",
      "\n",
      "Comment: 님이 원하는대로임\n",
      "Comment: 퀄 애매하긴 한데 확실한 모프들이 있음.. 어떤 모프 원하는데?\n"
     ]
    },
    {
     "name": "stderr",
     "output_type": "stream",
     "text": [
      "100%|██████████| 47/47 [02:06<00:00,  2.69s/it]\n",
      "  3%|▎         | 1/29 [02:09<1:00:15, 129.13s/it]"
     ]
    },
    {
     "name": "stdout",
     "output_type": "stream",
     "text": [
      "Content: \n",
      "엘베 타는데 갑자기 위에서 떨어졌어요\n",
      "\n",
      "Comment: japanese gecko  - dc App\n"
     ]
    },
    {
     "name": "stderr",
     "output_type": "stream",
     "text": []
    },
    {
     "name": "stdout",
     "output_type": "stream",
     "text": [
      "Content: \n",
      "ㅇㅅㅇ\n",
      "\n",
      "Comment: 그딴걸 왜 밀수해 - dc App\n",
      "Comment: 야생은 노멀인데 뭣하러\n",
      "Comment: 밀수할 비용으로 비어디 농장가면 다 사오겠다  - dc App\n"
     ]
    },
    {
     "name": "stderr",
     "output_type": "stream",
     "text": []
    },
    {
     "name": "stdout",
     "output_type": "stream",
     "text": [
      "Content: \n",
      "타란튤라가 파양보다 낫다  - dc official App\n",
      "\n",
      "Comment: 시른디\n",
      "Comment: 타란 키울빠에 전갈키움\n",
      "Comment: 타란튤라특브리딩 한다고 소문좀나면 샵들이 접근해서모든물량 샵통해서 보내라고 접선함개인브리더가 절사모에 풀어서 가격낮아지는꼴절대못봐서 단합ㅈ됨  - dc App\n"
     ]
    },
    {
     "name": "stderr",
     "output_type": "stream",
     "text": []
    },
    {
     "name": "stdout",
     "output_type": "stream",
     "text": [
      "Content: \n",
      "귀뚜라미 먹이 배추 당근 양배추 줘도됭?\n",
      "\n",
      "Comment: 추 들어가는건 안주는게 좋음 당근이나 애호박 ㄱㄱ\n"
     ]
    },
    {
     "name": "stderr",
     "output_type": "stream",
     "text": []
    },
    {
     "name": "stdout",
     "output_type": "stream",
     "text": [
      "Content: \n",
      "라그나로크오토 로드나인오토 거상오토 알투비트오토 미르전설오토 이터널시티오토 뮤모나크오토 텔레그램 @auto4989라그나로크오토 로드나인오토 거상오토 알투비트오토 미르전설오토 이터널시티오토 뮤모나크오토 텔레그램 @auto4989라그나로크오토 로드나인오토 거상오토 알투비트오토 미르전설오토 이터널시티오토 뮤모나크오토 텔레그램 @auto4989라그나로크오토 로드나인오토 거상오토 알투비트오토 미르전설오토 이터널시티오토 뮤모나크오토 텔레그램 @auto4989라그나로크오토 로드나인오토 거상오토 알투비트오토 미르전설오토 이터널시티오토 뮤모나크오토 텔레그램 @auto4989라그나로크오토 로드나인오토 거상오토 알투비트오토 미르전설오토 이터널시티오토 뮤모나크오토 텔레그램 @auto4989\n",
      "\n"
     ]
    },
    {
     "name": "stderr",
     "output_type": "stream",
     "text": []
    },
    {
     "name": "stdout",
     "output_type": "stream",
     "text": [
      "Content: \n",
      "크레가 지방을먹으면 예민한애가 얌전해지고 탈피를 잘하고 성장속도가 빨라지고 발바닥힘이 쌔지면서 산란을 유도하고 번식기를 유도할수있다는대 지방 개쩌는듯  - dc official App\n",
      "\n",
      "Comment: 그건 참.. 쩝\n",
      "Comment: ㅋㄹㅍㅅ는쫌..ㅋㅋ\n",
      "Comment: 그거 안 먹으면 죽는다ㄷㄷ 먹여야함\n",
      "Comment: 헛소리ㅅㅂㅋㅋ\n",
      "Comment: 자기 사료팔려고 개소리하는거임ㅋㅋ 비탈지방식이란거부터가 ㅈㄴ 웃긴게, 시중에 파는 밀웜가루 전부 그냥 지방제거 없이 만드는데 무슨 대단한 신기술인거마냥ㅋㅋㅋㅋㅋ 약을 팔아도 정도껏 팔아야지ㅎ 대놓고 바가지 씌우는 대담함이 ㅈㄴ 대단한거임ㅎ\n"
     ]
    },
    {
     "name": "stderr",
     "output_type": "stream",
     "text": []
    },
    {
     "name": "stdout",
     "output_type": "stream",
     "text": [
      "Content: \n",
      "소신 발언 하고 개 처 맞음  고추 때라 네오 - ㄴㄱㅋ 무지 - 행사 참여자 ㅋㅋㅋㅋㅋㅋㅋㅋㅋㅋㅋㅋㅋㅋㅋㅋㅋㅋㅋㅋㅋㅋㅋㅋㅋㅋㅋㅋㅋㅋㅋㅋㅋㅋㅋㅋㅋㅋㅋㅋㅋㅋㅋㅋㅋㅋㅋㅋㅋㅋㅋㅋㅋㅋㅋㅋㅋㅋㅋㅋㅋㅋㅋㅋㅋㅋㅋㅋㅋㅋㅋㅋㅋㅋㅋㅋㅋㅋㅋㅋㅋㅋㅋㅋㅋㅋㅋㅋㅋㅋㅋㅋㅋㅋㅋㅋㅋㅋㅋㅋㅋㅋ 1 이미지 순서 ON2 이미지 순서 ON3 이미지 순서 ON4 이미지 순서 ON5 이미지 순서 ON - dc official App\n",
      "\n",
      "Comment: 9큐브를 만들었다는거부터가 충격적이긴 하네 기어코 저걸 넣어버리누ㅋㅋ  - dc App\n",
      "Comment: 몸을 필 면적조차없는데 좁은건 맞지 ㅋㅋ 이틀내내 저러고 잇는데\n",
      "Comment: 학대왕..\n",
      "Comment: 2틀 ㅇㅈㄹ ㅋㅋㅋ  - dc App\n"
     ]
    },
    {
     "name": "stderr",
     "output_type": "stream",
     "text": []
    },
    {
     "name": "stdout",
     "output_type": "stream",
     "text": [
      "Content: \n",
      "열대어들 다양하게 있고 다 좋았는데 물고기 파는 곳에 크레가 왤케 많은 거임 거북이는 이해해도 크레만 있는 부스는 하 \n",
      "\n",
      "Comment: 수족관들 ㅈ망하고 문닫을뻔한곳들중크레 들여와서 살아난곳 ㅈㄴ많아서 수족관이랑 크레는 땔수없음  - dc App\n",
      "Comment: 이제 어시장도 크레한테 잠식당했노\n",
      "Comment: 크레 씨발 좆같은 도마뱀새끼 시세 떡락 액션빔\n"
     ]
    },
    {
     "name": "stderr",
     "output_type": "stream",
     "text": []
    },
    {
     "name": "stdout",
     "output_type": "stream",
     "text": [
      "Content: \n",
      "1. 이쁜가?2. 타 모프와 콤보가 되는가?3. 퀄리티의 구분이 합의적으로 가능한가?4. 결함이 없는가?이제는 모프라는 이유만으로는 떡상하는 시절은 끝났음부정 불가능한 모프인 하이포도 결국 3번의 부재로 빛을 못 봄.마블링은 유전적으로는 모프가 확실하나 1번 3번이 아쉬움.어쨋거나 신모프의 출현은 시장의 활력에 보탬이 되니 환영함.3천이던 5천이는 셀러 마음이고 구매도 바이어 마음임.인비지블 핸드는 작동되고 있음.\n",
      "\n",
      "Comment: 1~4를 상쇄 하는게 3500에 이미 팔림 결과가 중요허지  - dc App\n",
      "Comment: 무슨 신모프는 완벽하게 나와야만 한다는 법칙이 있다는 건가 억까가 심하네ㅋㅋ  - dc App\n",
      "Comment: 정확하다고 본다.\n",
      "Comment: ㅇㅇ 맞다고 봄 1 3번은 매니아 영역이라 한정된 매니아들이 사가고나면 끝이라고 봄\n",
      "Comment: 그걸 왜 니딴놈들이 정함? ㅋㅋㅋㅋ\n",
      "Comment: 씹 흑우들아 크레 마블링사지말고가족끼리 투뿔한우나 먹어라\n",
      "Comment: 마블링은 무슨ㅋㅋㅋㅋ 걍 세이블사라\n"
     ]
    },
    {
     "name": "stderr",
     "output_type": "stream",
     "text": []
    },
    {
     "name": "stdout",
     "output_type": "stream",
     "text": [
      "Content: \n",
      "슈푸 과일 골고루 줘봤는데도 안먹네 원래 자율로 엄청 잘먹는다고 그랬는데크레 원래 핸들링하면 점프 존나하면서 도망감?\n",
      "\n",
      "Comment: 일주 더 굶겨  - dc App\n",
      "Comment: 수분만좀 잘챙겨줘 형\n"
     ]
    },
    {
     "name": "stderr",
     "output_type": "stream",
     "text": []
    },
    {
     "name": "stdout",
     "output_type": "stream",
     "text": [
      "Content: \n",
      "이거 초저온 종이라서28-29도만 돼도 죽을 가능성 높지?개복치라고 들었는데현실적으로 국내 여름 집안에서 20-25도 맞추려면 에어컨 24시간 틀어야 되는데 가능함?전기세 엄청 나올거 같은데\n",
      "\n",
      "Comment: 케바케더라 난 크레방 에어컨 두달째 안끄는중\n",
      "Comment: 그지냐 에어컨 좀 틀어라\n",
      "Comment: 매년 여름내내 24시간 풀가동중임 오피스텔인데 전기세 얼마안오름 겨울난방보다 훨 적게나옴\n",
      "Comment: 25도까지는 그래도 괜찬은데 27도까지 올라가면 그냥 안 키우는게 답  26도 정도만 해도 지속되면 불안함\n",
      "Comment: 적재 대자에 잔가지랑 인조 나뭇잎 해서 3년째 키우는 중인데 죽이는 놈들이 ㅄ같음난 여름기준 주간 27도 야간 23도 해서 키우는데 환기랑 먹이만 잘 먹이면 알아서 잘삼\n",
      "Comment: 여름 에어컨은 필수다 ㄹㅇ\n",
      "Comment: 나 24시간 튼다 5만원 전기세 늘었다\n"
     ]
    },
    {
     "name": "stderr",
     "output_type": "stream",
     "text": []
    },
    {
     "name": "stdout",
     "output_type": "stream",
     "text": [
      "Content: \n",
      "1 이미지 순서 ON2 이미지 순서 ON3 이미지 순서 ON4 이미지 순서 ON5 이미지 순서 ON6 이미지 순서 ON7 이미지 순서 ON8 이미지 순서 ON9 이미지 순서 ON10 이미지 순서 ON11 이미지 순서 ON조깅하다가 줍했어요\n",
      "\n",
      "Comment: 맞네\n",
      "Comment: 맞아\n",
      "Comment: 마즘\n"
     ]
    },
    {
     "name": "stderr",
     "output_type": "stream",
     "text": []
    },
    {
     "name": "stdout",
     "output_type": "stream",
     "text": [
      "Content: \n",
      "근데 내가 키우는애는 건강히 잘지냄 스노우 이쪽이 좀 약한가? 내가키우는애는 시트러스 \n",
      "\n"
     ]
    },
    {
     "name": "stderr",
     "output_type": "stream",
     "text": []
    },
    {
     "name": "stdout",
     "output_type": "stream",
     "text": [
      "Content: \n",
      "ㅈㄱㄴ- dc official App\n",
      "\n",
      "Comment: ㅇㅇ 한쌍 쌉가능\n",
      "Comment: 행님 저거 어디서 구매했나여\n"
     ]
    },
    {
     "name": "stderr",
     "output_type": "stream",
     "text": []
    },
    {
     "name": "stdout",
     "output_type": "stream",
     "text": [
      "Content: \n",
      "내가 하는 속도로는 1시간에 베이비 30마리 절대 안되는데사장은 1시간에 30마리 피딩 충분히 가능하다며 지금껏 피딩 알바 했던 사람들도 다 했다고3시간에 90마리 해야하는데 매번 4시간에 90마리 하고 퇴근함뭔가 1시간 더 일하는것 같아서 억울한데 3시간 일한 일당 3만원만 받고있음.이게 맞는건가?중간 중간 폰도 보고 담배도 피러 가긴 하는데 그런 행동 가지고 뭐라고 하진 않고 90마리 피딩만 잘하면되는데 3시간안에 끝내는게 불가능함 도저히\n",
      "\n",
      "Comment: 븅신ㅋㅋㅋ  - dc App\n",
      "Comment: 추가수당안줌? ㄷㄷ\n",
      "Comment: 1시간 50마리도 문제없음\n",
      "Comment: 한 타임에 두마리씩 주면 가능함한놈 입주변에 발라주고 먹는동안 다른놈 발라주고익숙해지면 3마리까지도 가능함\n",
      "Comment: 50~55분에 40마리는 무조건 컷 해야댐 그리고 5분 10분 쉬고 그렇게 돌린다  - dc App\n",
      "Comment: 반대로 2시간에 90마리주면 2시간하고 가도됨? 그럼 ㅈ빠지게 연습해야지  - dc App\n",
      "Comment: 이런새낄 고용하는 사장 보살이네ㅋㅋㅋㅋㅋㅋ - dc App\n",
      "Comment: 한번에 피딩대에 5마리씩 올리면서 하면 한시간에 50마리도 우숩게 가능함\n"
     ]
    },
    {
     "name": "stderr",
     "output_type": "stream",
     "text": []
    },
    {
     "name": "stdout",
     "output_type": "stream",
     "text": [
      "Content: \n",
      "아마주 엔제이 파우나 그리고 대학교두곳? 다 한쪽 근처에 붙어있는데 여기만 딱 구경하면 끗 다른덴 안봐도댐 크레라 \n",
      "\n"
     ]
    },
    {
     "name": "stderr",
     "output_type": "stream",
     "text": []
    },
    {
     "name": "stdout",
     "output_type": "stream",
     "text": [
      "Content: \n",
      "축구보는데 거실에 기어다니길래 어카지하다가 크레생각나서 풀어줬음근데 2년간 슈푸만 먹고 자라서 그런가 입질 두번 다 헛방침ㅋㅋ아빠가 그거 도망가기 전에 잡으래서 기생충 걱정도 되고 그냥 잡아서 창 밖에 던졌음 ㅋㅋ재밌는 경험이었다 \n",
      "\n",
      "Comment: 너가먹지\n"
     ]
    },
    {
     "name": "stderr",
     "output_type": "stream",
     "text": []
    },
    {
     "name": "stdout",
     "output_type": "stream",
     "text": [
      "Content: \n",
      "그래도 나름 먹을거랑 안먹을거를 사리분별 할 줄 아는 애들인줄 알았는데밥 안준지 좀 됐다고 손 물렸네물갈아줄때도 항상 장갑 끼곤 하는데아래가 고무?같은거고 윗부분이 면장갑이어서 그런지 뚫려서 물림파충류 핸들링 전용 장갑은 너무 커서 다루기 불편해서 옛날에 쓰다가 안쓴지 좀 됐는데그거 다시 사야하나 흠 \n",
      "\n"
     ]
    },
    {
     "name": "stderr",
     "output_type": "stream",
     "text": []
    },
    {
     "name": "stdout",
     "output_type": "stream",
     "text": [
      "Content: \n",
      " 분명 국제양파 박람회에서 무슨 카펫 카멜레온 수명이 10년가량 된다고 했는데 찾아보니 기껏해야 3년임Interested in Carpet Chameleons? (youtube.com)에라이~ 수입벌레 놈들아수입만 하고 쥐뿔도 모르고 틀린 말만 하노수컷이 더 화려해? 심지어 이말도 틀림. 해당 종은 암컷이 더 화려하다고 나옴 여기서 업자놈들이라고 왜 까이는지 이제 알겠음\n",
      "\n",
      "Comment: 덕표내는 까지말자 그래도 비주류 국가대표급임\n",
      "Comment: 쟤내 같이둬서그런지 계속 서로 하악질하더라\n",
      "Comment: 보아 카펫 이제 몇년 해본 ㅂ신들이 몇년더해봤다고 까분거지  - dc App\n",
      "Comment: 순 사기꾼ㅅㄲ들\n"
     ]
    },
    {
     "name": "stderr",
     "output_type": "stream",
     "text": []
    },
    {
     "name": "stdout",
     "output_type": "stream",
     "text": [
      "Content: \n",
      "온도는 픽시한테 딱히 문젠 없어보이는데 바닥재가 좀 축축한거 같음. 그런 환경에선 세균 증식도 워낙 쉽게 되고 픽시 자체가 배설량이 많아서 암모니아 중독이나 세균 감염으로 사망한거 아닐까싶어 \n",
      "\n",
      "Comment: 온도 개높음 ㅂㅅ아  - dc App\n"
     ]
    },
    {
     "name": "stderr",
     "output_type": "stream",
     "text": []
    },
    {
     "name": "stdout",
     "output_type": "stream",
     "text": [
      "Content: \n",
      "와이프가 허락해줫다  예전에 따로 사육방 둘 정도로 크게 했는데 일같이 느껴져서 정리하고 정땟는데 크레 한두마리 반려로 키우고싶네  - dc official App\n",
      "\n",
      "Comment: 다음 렙타일포럼 가서 상대적으로 덜 유명한 곳에서 찾아봐라 가성비 좋은 개체들 많다\n",
      "Comment: 아깝네 내가 같이 갔으면 가성비 좋은 개체 찾아줬을텐데\n",
      "Comment: 22 오는 포럼 추\n",
      "Comment: 지방러라 포럼은 못가 ㅠ.ㅜ  - dc App\n",
      "Comment: 근처샵을 가면되지  - dc App\n",
      "Comment: 아니면 피들ㄱㄱ\n"
     ]
    },
    {
     "name": "stderr",
     "output_type": "stream",
     "text": []
    },
    {
     "name": "stdout",
     "output_type": "stream",
     "text": [
      "Content: \n",
      "회사 사람이 잡았다는데 궁금해서 올려봄\n",
      "\n",
      "Comment: 코브라\n",
      "Comment: 까치살모사다   - dc App\n",
      "Comment: 까살 같은데 ㄷㄷ  - dc App\n",
      "Comment: 블랙맘바\n"
     ]
    },
    {
     "name": "stderr",
     "output_type": "stream",
     "text": []
    },
    {
     "name": "stdout",
     "output_type": "stream",
     "text": [
      "Content: \n",
      "원하는건 크레 크림시클, 블루텅, 유로이거 3개 보고싶음추천 좀 부탁해유~\n",
      "\n",
      "Comment: 곤충마트\n",
      "Comment: 계대쪽에 하나 있는데 이름 까먹음 몬스터빌드였너 - dc App\n",
      "Comment: 밀림\n"
     ]
    },
    {
     "name": "stderr",
     "output_type": "stream",
     "text": []
    },
    {
     "name": "stdout",
     "output_type": "stream",
     "text": [
      "Content: \n",
      "시트러스 헷 윗블릿 암컷이랑 하이포 제로 윗블릿 수컷끼리 메이팅하면 새끼 어떻게나옴? \n",
      "\n",
      "Comment: 윗블릿 헷 제로 하이포 아니면 헷 윗블릿 하이포 제로시트러스는 연하게 깔릴듯\n"
     ]
    },
    {
     "name": "stderr",
     "output_type": "stream",
     "text": []
    },
    {
     "name": "stdout",
     "output_type": "stream",
     "text": [
      "Content: \n",
      "반년에서 일년 지났는데도 빅베이비 수준 ㅋㅋ그런데도 지 편하자고 슈푸만 뒤적뒤적파양판은 양심이 없어\n",
      "\n",
      "Comment: 어..? 울집에도 그런 애 하나 있는데 ㄹㅇ 장애인건가..? 혼자 안커\n",
      "Comment: RCK도 1년차에 빅베이비급 많던대나도 작년9월부터 뚜리 마비병때문에 수급어려워서 잘못맥였더니 반년에 빅베이비수준인애들도 많음  - dc App\n",
      "Comment: 수퓨 원튤 정량 핸피 똑바로하면 제대로큼;;\n",
      "Comment: 안쳐먹여놓고 1년짜리 10그람암컷 데려가서 바짝먹이시면 시즌가능 쳐죽이까\n"
     ]
    },
    {
     "name": "stderr",
     "output_type": "stream",
     "text": []
    },
    {
     "name": "stdout",
     "output_type": "stream",
     "text": [
      "Content: \n",
      "사육통 반찬통금지법안허자ㅅㅂ 50만원이 장난이냐ㅋㅋ이게 박람회장이냐거\n",
      "\n",
      "Comment: 50만원도 없음? 너무하네  - dc App\n",
      "Comment: 반찬통이 어때서? 왜 그럼 개고양이도 이동장 ㅈㄴ 좁으니까 넣지 말라고 하든가ㅇㅇ\n"
     ]
    },
    {
     "name": "stderr",
     "output_type": "stream",
     "text": []
    },
    {
     "name": "stdout",
     "output_type": "stream",
     "text": [
      "Content: \n",
      "천원될듯ㅋㅋㅋ\n",
      "\n",
      "Comment: 슈퍼푸드값은 나와야지\n"
     ]
    },
    {
     "name": "stderr",
     "output_type": "stream",
     "text": []
    },
    {
     "name": "stdout",
     "output_type": "stream",
     "text": [
      "Content: \n",
      "둥에 점이있고 없고 라던지유튜브봐도 뭐 다 이쁘네 다 좋내 이러기만 해서..- dc official App\n",
      "\n",
      "Comment: 크레 얘기하는거면 일단 점 없고 밥 잘먹으면 ㅅㅌㅊ임. 거기서 두상 크라운 등 꼬리 굵직하면 좋음. 이후 보통 발색을 보는데, 본인 취향인 색감이 진하면 진할수록 고퀄이라 보면 됨ㅇㅇ\n",
      "Comment: 한마디로 말하면 색깔이 많으면 고퀄이고 그 색깔이 진하면 고퀄\n",
      "Comment: 퀄이 퀄리티에여  각 모프마다 지향점이 다르니까 그 지향점에 가까울수록 퀄이 좋다~ 퀄리티 좋다~ 이러는겁니다\n"
     ]
    },
    {
     "name": "stderr",
     "output_type": "stream",
     "text": []
    },
    {
     "name": "stdout",
     "output_type": "stream",
     "text": [
      "Content: \n",
      "은혜갚는 도마뱀 좀요\n",
      "\n",
      "Comment: 도얌이도 유목 넣어줘\n",
      "Comment: 90 사육장 왜 팔았나 했더니 멋진녀석으로 갈아탔구만?\n",
      "Comment: 사육장 전세계 1티어네ㅋㅋ  - dc App\n",
      "Comment: 우와 사육정 0.01%\n",
      "Comment: 애들도 되게 커보이네\n",
      "Comment: 높이몇임?\n",
      "Comment: 저런건 청소때문에 엄두가 안남\n",
      "Comment: 근데 저러면 똥냄시 좀 나지 않나?  - dc App\n",
      "Comment: 행복한 크레\n",
      "Comment: 여기저기 똥칠할거같아서 보는데도 스트레스\n",
      "Comment: 어디브랜드임? 사고싶다. - dc App\n",
      "Comment: 야이건 거의 도마뱀사육장이 아니라 옷장개조한거같네 개크다\n"
     ]
    },
    {
     "name": "stderr",
     "output_type": "stream",
     "text": []
    },
    {
     "name": "stdout",
     "output_type": "stream",
     "text": [
      "Content: \n",
      "찻집 이벤트 돈은 주냐\n",
      "\n",
      "Comment: 주겠냐? ㅋㅋㅋㅋ\n",
      "Comment: 왜안줘..?\n",
      "Comment: 안주는 킹리적 갓심 = 현금으로 준다고 현금사진 올려놓고 인증은 카카오페이로 준걸로 인증함ㅋㅋㅋㅋ개주작\n",
      "Comment: ㅋㅋㅋㅋㅋㅋㅋ돈 안준애들 삐졌노~?\n"
     ]
    },
    {
     "name": "stderr",
     "output_type": "stream",
     "text": []
    },
    {
     "name": "stdout",
     "output_type": "stream",
     "text": [
      "Content: \n",
      "- dc official App\n",
      "\n",
      "Comment: 기침 죤나나오는 바닥재 쓰는구나  - dc App\n",
      "Comment: 집가다가 졸려서 쓰러진듯\n",
      "Comment: 녹소토 분진 어때?  - dc App\n",
      "Comment: 가서 뽀뽀 갈겨도 됨?\n"
     ]
    },
    {
     "name": "stderr",
     "output_type": "stream",
     "text": []
    },
    {
     "name": "stdout",
     "output_type": "stream",
     "text": [
      "Content: \n",
      "1 이미지 순서 ON2 이미지 순서 ON슈스 화이트나이트 3 이미지 순서 ON4 이미지 순서 ON슈스디블 ㅋㅋ나도 눈깔말곤 모르것다  - dc official App\n",
      "\n",
      "Comment: 쟤네 모프는 원래 이렇게 돼지임?  - dc App\n",
      "Comment: 그냥 키우는거면 ㅈ도 차이없음 ㅋㅋ  - dc App\n",
      "Comment: 분양가 얼마 차이남?\n",
      "Comment: 눈깔말고 차이없는 모프인데 당연한걸\n",
      "Comment: 둘다 근데 너무 이쁘다 ㅎㅎ\n",
      "Comment: 보통 분양가격이 슈스디블 20-30슈스화이트나이트 60-70\n"
     ]
    },
    {
     "name": "stderr",
     "output_type": "stream",
     "text": []
    },
    {
     "name": "stdout",
     "output_type": "stream",
     "text": [
      "Content: \n",
      "뭐가 나음? \n",
      "\n",
      "Comment: 실제로 보고 결정해 ㅎ 크레는 귀엽고 리키는 멋짐\n",
      "Comment: 700이면 헷초초 2마리 그룹 맞추기 추천  - dc App\n",
      "Comment: 육겁 ㄱ\n",
      "Comment: 700이면 걍 돈 더 모아서 예금하고 3만짜리 크레 하나 사서 키워라\n",
      "Comment: 부모님 한테 용돈이나 드려라\n",
      "Comment: 릴잔1마리+헷암5    - dc App\n",
      "Comment: 야이씨 도마뱀에 70까지만 써라그이상은 정신 나간년임\n",
      "Comment: 리키는 싼거만 분양잘가고 크레는 비싼게 분양간다\n",
      "Comment: 크레는 진짜 답없음 .. 개인이 분양하기개힘듬 ㅋㅋㅋ\n"
     ]
    },
    {
     "name": "stderr",
     "output_type": "stream",
     "text": []
    },
    {
     "name": "stdout",
     "output_type": "stream",
     "text": [
      "Content: \n",
      "요즘 역병이다 뭐다 하는데 어디꺼 시켜야할지 모르겠네  - dc official App\n",
      "\n",
      "Comment: ㅈㅍㅅ 에서 시키다가 최근에 더워서 인지 자꾸 뒤져서 안시킴 - dc App\n",
      "Comment: 난 웰ㅂ 에서 시키다가 뒤지는 애들이 많아서 ㄸㄹ팜에서 시키는데 요즘 따라 좀 죽눈 느낌이라 걍 요즘 슈푸맥임\n"
     ]
    },
    {
     "name": "stderr",
     "output_type": "stream",
     "text": []
    },
    {
     "name": "stdout",
     "output_type": "stream",
     "text": [
      "Content: \n",
      "\n",
      "\n",
      "Comment: 졸기 ㅋㅋㅋㅋㅋㅋ\n",
      "Comment: 진짜 너무귀엽네ㅋㅋㅋㅋㅋㅋㅋ 땡글해가지고 - dc App\n"
     ]
    },
    {
     "name": "stderr",
     "output_type": "stream",
     "text": []
    },
    {
     "name": "stdout",
     "output_type": "stream",
     "text": [
      "Content: \n",
      "이정도면 ㄱㅊ냐? 난 만족함- dc official App\n",
      "\n",
      "Comment: 점 없고 괜춘한듯 ㅊㅊ  암컷인듯..?\n",
      "Comment: 너만 좋다면 됐다…\n",
      "Comment: 너만 좋으면 최고지 ㅎㅎ 축하해\n",
      "Comment: 그냥 샵에서 델꼬온거면 쏘쏘 행사장가서 델꼬온거면 눈탱이 - dc App\n",
      "Comment: 눈썹이 넘 이뻐  - dc App\n",
      "Comment: 이게 카푸야?!\n",
      "Comment: 꼬리봐도 누렇잖아\n",
      "Comment: 3개월이라며; y자 없는애도 있는거고.. 눈도 제대로 봐야지 집에 카푸 없어??\n",
      "Comment: 응 카푸 맞네^^ 이쁘게 잘 키워~\n",
      "Comment: 이정도 퀄에 14만원이면..... - dc App\n",
      "Comment: 발작하지마 나중에 분양보낸 애한테 발작해 ㅂㅅㄴ아 ㅋㅋㅋㅋ\n",
      "Comment: 비꼰거를 그대로 받아들이는 대단함이다 ㅋㅋㅋ\n",
      "Comment: 칭찬받고싶으면 크레갤ㄱㄱ똥믈리에 소굴이라 이거 올리면 고퀄이라 빨아줌 - dc App\n"
     ]
    },
    {
     "name": "stderr",
     "output_type": "stream",
     "text": []
    },
    {
     "name": "stdout",
     "output_type": "stream",
     "text": [
      "Content: \n",
      "8월달에 롯데월드,캐리비안베이 갖다온거랑  모어닝산거(제일 후회됨)  좆마뱀 병원비  회전초밥 개처먹은거  피방에서 ㅈㄴ처먹은거  비바리움조명,거북이 스팟산거 오늘 행사에서 크레데려온거때매  통장 개거지됨 씨발   - dc official App\n",
      "\n",
      "Comment: 이거에 개그지된거면 니가 마블링 데려왓냐?  - dc App\n",
      "Comment: 뭐 골고루 많이 키우는구먼\n",
      "Comment: 풀무치 2만메추리 2만외여기 5만많이썼노\n",
      "Comment: ㅅㅂ 인싸련이네 ㅡㅡ 난 회사 집 헬스장만 몇년째다\n",
      "Comment: 모어닝 왜 후회함?\n"
     ]
    },
    {
     "name": "stderr",
     "output_type": "stream",
     "text": []
    },
    {
     "name": "stdout",
     "output_type": "stream",
     "text": [
      "Content: \n",
      "3자에 한마리 키울려는데 괜춘? \n",
      "\n",
      "Comment: ㅇㅇ\n"
     ]
    },
    {
     "name": "stderr",
     "output_type": "stream",
     "text": []
    },
    {
     "name": "stdout",
     "output_type": "stream",
     "text": [
      "Content: \n",
      "조금이라도 돈 벌만한거 찾고있는데\n",
      "\n",
      "Comment: 이번 행사 보니까 크레 입양 마렵네...난 크레는 안하는데 최근 행사도 열고 크레값도 싸다고 하던데초기자본 200만원 정도만 넣어서 세이블 그룹 맞추면 최저시급 벌면서 유튜브 넷플릭스 보는 거잖아이정도면 나름 할만하지 않나?나중에 크레 다 팔면 돈도 다 회수 가능하고 좋을거 같은데..그리고 곧있으면 행사 열릴 시기라 지금이 저점이라고 들었음넷플릭스 보면서 돈 벌면 개꿀아님?이건 안하면 그게 더 이상한것같음ㅋㅋ..ㅋㅋ  - dc App\n",
      "Comment: 솔직히 지금은 늦었져 꿀 빨아도 얼마 못 빨듯\n"
     ]
    },
    {
     "name": "stderr",
     "output_type": "stream",
     "text": []
    },
    {
     "name": "stdout",
     "output_type": "stream",
     "text": [
      "Content: \n",
      "1. 주변에 가까운 샵 vs 박람회 & 쇼= 주변에 가까운샵이 있으면 여러가지로 상담하기 용이하다는 장점이 있을거 같은데 오히려 박람회나 쇼는 정신없어서 어려울듯 하고 추천 좀 부탁드려요.2. 호갱 이라는게 존재하는가= 아무래도 생명체다 보니까 건강상태 수명을 알기는 어려우나 거래가 되고 있는 만큼 적정가격 이라는게 있을텐데 사전에 방지하는 방법은 뭔가요?3. 크레? 가고일?= 초보자들중 처음부터 각잡고 하는걸 좋아하는 사람도 물론 있지만 대부분의 유저들은 적은 초기비용에서 점진적 시작을 원할텐데 추천하는 품종이 있을까요?- dc official App\n",
      "\n",
      "Comment: 가까운 샵 있으면 구경 몇번 가보면서 어떤지 판단해보셈 처음 입문이면 샵이 나을듯. 입문용으로 크레 레게 추천함 찾아보고 취향대로 ㄱㄱ\n",
      "Comment: 22 주변에 키우는 지인 없으면 그래도 첫 사육은 직접 설명을 좀 들을 수 있는 샵이 좋제ㅇㅇ\n"
     ]
    },
    {
     "name": "stderr",
     "output_type": "stream",
     "text": []
    },
    {
     "name": "stdout",
     "output_type": "stream",
     "text": [
      "Content: \n",
      "머 \n",
      "\n",
      "Comment: 저 은신처 개비싸던데 사는 호구 잇엇노\n"
     ]
    },
    {
     "name": "stderr",
     "output_type": "stream",
     "text": []
    },
    {
     "name": "stdout",
     "output_type": "stream",
     "text": [
      "Content: \n",
      "1 이미지 순서 ON눈깔 뭔가 이상한거 발견 2 이미지 순서 ON3 이미지 순서 ON병원데려갔을때 상태 ㄹㅇ 개씹지랄남 4 이미지 순서 ON5 이미지 순서 ON그리고 오늘 찍은거 어처피 얘 수컷이니깐 습은바닥재 코코피트,수태 이딴거 절대 안쓸거임  - dc official App\n",
      "\n",
      "Comment: 많이나아졌네\n",
      "Comment: 다 나은거 아님..? ㅊㅊ\n"
     ]
    },
    {
     "name": "stderr",
     "output_type": "stream",
     "text": []
    },
    {
     "name": "stdout",
     "output_type": "stream",
     "text": [
      "Content: \n",
      "난 신모프 같던데아니 저런 형질 가지고 유전되는 개체가 어딧음\n",
      "\n",
      "Comment: 사진\n",
      "Comment: 미안 흑우야 실제로 보니까5만원에 팔아도 사기 애매할만큼노멀보다 구리던데\n",
      "Comment: 사진이라도 올리고 말해라\n",
      "Comment: 그냥 라인브리딩개념. 형질 고정화일뿐 별의미도 없음. 무슨 모프냐 ㅋ 마블링에 핀스 섞어서 전혀다른 타입애로 똑같이 다 나오면 모를까 좀 어이없네 요즘은 모프가 돈되니 너도 나도 비슷하면 모프라하는건 좀 아닌거 같음.\n"
     ]
    },
    {
     "name": "stderr",
     "output_type": "stream",
     "text": []
    },
    {
     "name": "stdout",
     "output_type": "stream",
     "text": [
      "Content: \n",
      "똥마려\n",
      "\n"
     ]
    },
    {
     "name": "stderr",
     "output_type": "stream",
     "text": []
    },
    {
     "name": "stdout",
     "output_type": "stream",
     "text": [
      "Content: \n",
      "딴 종들은 걍 구경온 사람이 먼저 와 이쁘다~ 하고 가격도 이쁘니까 비싸구나 하고 넘어가는데 크레는 ㄹㅇ 뜬금없는 가격에 이게뭐노;; 하고있으면 얘는 성질이 유전이 머시기저시기 큐레이터 빙의해서 설명해야하더라\n",
      "\n",
      "Comment: 일반인들한텐.. 설명해도 이해불가일듯\n"
     ]
    },
    {
     "name": "stderr",
     "output_type": "stream",
     "text": []
    },
    {
     "name": "stdout",
     "output_type": "stream",
     "text": [
      "Content: \n",
      "이거 염증 맞나요?\n",
      "\n",
      "Comment: 신 시대임이제 신 시대에 걸고 오면됨\n"
     ]
    },
    {
     "name": "stderr",
     "output_type": "stream",
     "text": []
    },
    {
     "name": "stdout",
     "output_type": "stream",
     "text": [
      "Content: \n",
      "쥐가 거부감빼면 사료보다 넘사로편한데 ㄹㅇ 굳이임뱀 키우는새끼도 적은데 그 중에서도 뱀은 좋고 쥐는 싫은사람이 몇이나된다고 \n",
      "\n"
     ]
    },
    {
     "name": "stderr",
     "output_type": "stream",
     "text": []
    },
    {
     "name": "stdout",
     "output_type": "stream",
     "text": [
      "Content: \n",
      "그러기위해선 지금 암컷 스디블있으니 수컷 슈퍼스노우 구해서 10개월 열심히키우고 붙히고싶은데  슈스는커녕 레게수컷이 매물이거의업네 \n",
      "\n",
      "Comment: 아니 슈퍼스노우랑 스디블 붙이면 슈퍼스노우나 스노우가 나온다고\n",
      "Comment: 슈스디블을 또 데려와서 야스를 시키자\n",
      "Comment: 혹시 나이가?\n",
      "Comment: 헷디블 나오는데 외형은 걍 슈스 스노우 나오잖음ㅋㅋㅋㅋ\n"
     ]
    },
    {
     "name": "stderr",
     "output_type": "stream",
     "text": []
    },
    {
     "name": "stdout",
     "output_type": "stream",
     "text": [
      "Content: \n",
      "신기허구먼진짜 천마넌 주고 사는 사람  있음? - dc official App\n",
      "\n",
      "Comment: 호구라이더도 거름\n"
     ]
    },
    {
     "name": "stderr",
     "output_type": "stream",
     "text": [
      "100%|██████████| 49/49 [02:12<00:00,  2.71s/it]\n",
      "  7%|▋         | 2/29 [04:23<59:36, 132.46s/it]  "
     ]
    },
    {
     "name": "stdout",
     "output_type": "stream",
     "text": [
      "Content: \n",
      "아직까지 뱀전용 사료 비슷한것도 안나온거보면 걍 무능력자 백수들밖에 없는듯\n",
      "\n",
      "Comment: 나왔는데 안쓰잖어\n",
      "Comment: 쥐가 편함\n"
     ]
    },
    {
     "name": "stderr",
     "output_type": "stream",
     "text": []
    },
    {
     "name": "stdout",
     "output_type": "stream",
     "text": [
      "Content: \n",
      "1 이미지 순서 ON2 이미지 순서 ON3 이미지 순서 ON- dc official App\n",
      "\n",
      "Comment: 아무리 전시용이라도... 애들 상태도 별로고\n",
      "Comment: 크레 성체 진짜 크구나?\n",
      "Comment: 저거 1번에 있는건 진짜.. 학대다\n",
      "Comment: 어디임? 그냥 보는건데도 이렇게까지 불편한 건 처음이네\n",
      "Comment: 저건 진짜 너무 좁은데\n",
      "Comment: 와… 씨발ㅋㅋㅋㅋㅋㅋ\n",
      "Comment: 이건아니지예ㅋㅋ\n",
      "Comment: 적재가 양반이엿노\n",
      "Comment: 와... 심하노\n",
      "Comment: 흑인노예수송선 생각나네ㄷㄷ\n",
      "Comment: 적재 소 존나 큰거였네\n",
      "Comment: 좆돼지를 자랑이라고 전시해놓네 - dc App\n",
      "Comment: 아 ㅅㅂ 댓글 개웃기노\n",
      "Comment: 엄마 나 너무 좁아 ㅠㅠㅠㅠㅠ 살려줘 ㅠㅠㅠㅠ\n",
      "Comment: 병신새끼들 50만원 쳐 팔아먹고싶어서 지랄을 하고있네 양계장 닭팔이같은 병신 크레팔이새끼들\n",
      "Comment: ㅈㄴ 보기만 해도 역겹고 구역질이 나오네 동물학대나 하는 병신 싸이코패스 변태새끼들\n"
     ]
    },
    {
     "name": "stderr",
     "output_type": "stream",
     "text": []
    },
    {
     "name": "stdout",
     "output_type": "stream",
     "text": [
      "Content: \n",
      "불가능해 ㅋ\n",
      "\n",
      "Comment: 세이블 지금 들어가면 가능\n",
      "Comment: 난 사료값만 벌어서 자급자족 하고싶다\n",
      "Comment: 사료값도 안나옴\n"
     ]
    },
    {
     "name": "stderr",
     "output_type": "stream",
     "text": []
    },
    {
     "name": "stdout",
     "output_type": "stream",
     "text": [
      "Content: \n",
      "1. 어제 친구 권유로 구경할겸 가니까 노란색 도마뱀 (크레?) 가 주류던데 왜 그런건가요(초보자가 키우기 쉽다던가)\n",
      "\n",
      "Comment: 키우기쉽고 번식도 쉬운데 돈된다고 존나게 몰렸다가 가격 떡락해서 공급이 넘쳐남\n",
      "Comment: 대한민국 유행 심리\n"
     ]
    },
    {
     "name": "stderr",
     "output_type": "stream",
     "text": []
    },
    {
     "name": "stdout",
     "output_type": "stream",
     "text": [
      "Content: \n",
      "선주는 초초 중국 계약 어찌한거임?? 진짜 순수한 궁금증헤비 논리대로면 선주도 불법????\n",
      "\n",
      "Comment: 불법이면 벌써 신고들어가서 털렸겠지\n",
      "Comment: 불법임\n",
      "Comment: 아마 다들 중국인이랑 거래는 하지만 중국으로 안보내고 홍콩까지만 보냄 그 뒤는 중국인들 알아서 하는거니 상관없는거임 쉽게 말하면 편법인거지\n"
     ]
    },
    {
     "name": "stderr",
     "output_type": "stream",
     "text": []
    },
    {
     "name": "stdout",
     "output_type": "stream",
     "text": [
      "Content: \n",
      "진짜 성격만 좀\n",
      "\n"
     ]
    },
    {
     "name": "stderr",
     "output_type": "stream",
     "text": []
    },
    {
     "name": "stdout",
     "output_type": "stream",
     "text": [
      "Content: \n",
      "1 이미지 순서 ON2 이미지 순서 ON3 이미지 순서 ON4 이미지 순서 ON - dc official App\n",
      "\n",
      "Comment: ??:아!!!솔리드면 비싸다구요!!!\n",
      "Comment: 등에 점없이 깔끔한거땜에 라고할려했는데 2번이 4번보다 훨이쁜데 왜지\n",
      "Comment: 다 테구밥으로 보여서 모루겠서요\n",
      "Comment: 릴잔틱이 아직도 저래 비싼가? 또 배짱 장사하네ㅋㅋ  - dc App\n",
      "Comment: 누가사냐  - dc App\n",
      "Comment: ㅋㅋㅋ적정가 2만원,2만5천원,2만원ㅋㅋ분양하려고 써놓은게 아니라 시장조작하고 가격 띄우려고 써놓은거임ㅋㅋ사람들 ㅈ으로 보고 순사기꾼ㅅㄲ들ㅋㅋㅋㅋㅋ\n",
      "Comment: 이쁘긴 하네\n",
      "Comment: 대가리에 얘네들 왜 전부 한자로 한일자 써있는 거야 ㅅㅂ해부자린가?가격왜저럼?\n"
     ]
    },
    {
     "name": "stderr",
     "output_type": "stream",
     "text": []
    },
    {
     "name": "stdout",
     "output_type": "stream",
     "text": [
      "Content: \n",
      "이렇게된 이상 내가 슈스디블을 만들겠다 난천재야 \n",
      "\n",
      "Comment: 단일스노우는 노말이랑 별 차이 없음\n",
      "Comment: 슈스디블이나 스디블이랑 붙이면 슈스디블 나옴\n",
      "Comment: 스디블 똥퀄이라 노란색임 ㅋㅋ  - dc App\n"
     ]
    },
    {
     "name": "stderr",
     "output_type": "stream",
     "text": []
    },
    {
     "name": "stdout",
     "output_type": "stream",
     "text": [
      "Content: \n",
      "디블에 비해 눈 확실히 빨개서 매리트있는데 디블은 꽤 있어도 화이트나이트는 분양글 못본지 오래된거같다\n",
      "\n",
      "Comment: 화나 몇마리 뽑아봤는데 몸이 약하다\n",
      "Comment: 디블도 고온해칭하면 가끔 눈 빨개져서 나옴\n",
      "Comment: 성장속도가 느림ㅋㅋㅋ  - dc App\n"
     ]
    },
    {
     "name": "stderr",
     "output_type": "stream",
     "text": []
    },
    {
     "name": "stdout",
     "output_type": "stream",
     "text": [
      "Content: \n",
      "얘네 모프들 직관성 ㅈ도없어서 걍 두상에 이목구비 이쁜애가 걍 젤 이쁨ㄹㅇ 모프는 고급인데 눈작고 미간멀고 ㅇㅈㄹ인애들 개좆갘이생김\n",
      "\n",
      "Comment: 진짜 다른종 모프에 비해 직관성없는거 맞음 ㅅㅂ\n",
      "Comment: 이게 사실이긴 함ㅋㅋ 근데 갠취이지만 미간 좁은거보다는 넓은게 나은듯..?\n",
      "Comment: 좋은 점 그냥 슈푸맥이는 거? 눈 볼때마다 소름\n",
      "Comment: 대가리크고 상체 짧뚱한애들이 이쁨\n"
     ]
    },
    {
     "name": "stderr",
     "output_type": "stream",
     "text": []
    },
    {
     "name": "stdout",
     "output_type": "stream",
     "text": [
      "Content: \n",
      "아잔틱 그룹하나 반려로 키우고 싶었는데.. 여러 샵 돌아보니.. 사진같은 발색은 거의 없노…ㅠ\n",
      "\n",
      "Comment: 인피니트.게코 가셈 ㅋㅋㅋㅋ 대신 마리당 400정도 해 ㅇㅇ 파업 안해도 색대비 지림 ㅇㅇ  - dc App\n",
      "Comment: 원래 성체되면 아잔틱은 니가원하는 발색 절대안나옴\n"
     ]
    },
    {
     "name": "stderr",
     "output_type": "stream",
     "text": []
    },
    {
     "name": "stdout",
     "output_type": "stream",
     "text": [
      "Content: \n",
      "산 근처에서 봄\n",
      "\n",
      "Comment: 능구\n",
      "Comment: 능사  - dc App\n",
      "Comment: 능구렁이\n"
     ]
    },
    {
     "name": "stderr",
     "output_type": "stream",
     "text": []
    },
    {
     "name": "stdout",
     "output_type": "stream",
     "text": [
      "Content: \n",
      "아잔 40 삐빕 삐빕 세이블 20 삐빕  - dc official App\n",
      "\n",
      "Comment: 세이블 20..? 한마리 댈꼬오까..\n",
      "Comment: 15에도 안나간다\n"
     ]
    },
    {
     "name": "stderr",
     "output_type": "stream",
     "text": []
    },
    {
     "name": "stdout",
     "output_type": "stream",
     "text": [
      "Content: \n",
      "오산대 호서대가 진짜 씹캐리하더라 구석 한쪽라인 통으로 내주니까 북치고 장구치고 다하더만\n",
      "\n",
      "Comment: 구경하러 가는 입장에선 비주류가 최고지\n",
      "Comment: 와 비주류가 확실히 진짜다\n",
      "Comment: 옛날엔 비주류라는 단어도없었는데\n"
     ]
    },
    {
     "name": "stderr",
     "output_type": "stream",
     "text": []
    },
    {
     "name": "stdout",
     "output_type": "stream",
     "text": [
      "Content: \n",
      "박람회에 몇 있던데 죄다 패턴보이더라와중에 슈스디블 og에 있어서 데려가려는데 누가 채감 ㅅㅂ\n",
      "\n",
      "Comment: 캘킹 백사모프는 퀄 심하게 탐브룩스킹 백사모프 찾는게 나음고화사+알파나 알비센트 같은거\n"
     ]
    },
    {
     "name": "stderr",
     "output_type": "stream",
     "text": []
    },
    {
     "name": "stdout",
     "output_type": "stream",
     "text": [
      "Content: \n",
      "1 이미지 순서 ON2 이미지 순서 ON3 이미지 순서 ON4 이미지 순서 ON배쪽에 살짝 노란끼가 약하게 보이는데 누렇게 조끼입을까 걱정되네 사진으로 좀 보임? \n",
      "\n",
      "Comment: ㅇㅇ 슬슬 조끼입늘드ㅛ\n",
      "Comment: 누런끼 약간올라올듯 슈스하나 뽑으면 편해\n"
     ]
    },
    {
     "name": "stderr",
     "output_type": "stream",
     "text": []
    },
    {
     "name": "stdout",
     "output_type": "stream",
     "text": [
      "Content: \n",
      "성체는 숟가락  - dc official App\n",
      "\n"
     ]
    },
    {
     "name": "stderr",
     "output_type": "stream",
     "text": []
    },
    {
     "name": "stdout",
     "output_type": "stream",
     "text": [
      "Content: \n",
      "헤비 이야기 대로면 줄스도 밀수 존나게 한거임?\n",
      "\n",
      "Comment: 코로나 이후로 강화된거 같은데  - dc App\n",
      "Comment: 예전이랑 다르지않냐 그때는 규제도 덜해서 지금 몇십하는애들 그당시에 잡도마뱀인 경우도 많았고\n",
      "Comment: 시기가 중요하지호그노즈나 타란, 외곤도 예전엔 다 합법이었으니까\n",
      "Comment: 바보들.....중국인하고 거래한다고 중국으로 바로 들어가는게 아니고 홍콩까지만 보내고 그다음은 중국 애들이 다시 홍콩에서 가져가는거다....그 반대로 수입도 홍콩으로 해서 수입하는거고....\n"
     ]
    },
    {
     "name": "stderr",
     "output_type": "stream",
     "text": []
    },
    {
     "name": "stdout",
     "output_type": "stream",
     "text": [
      "Content: \n",
      "모르겠으면  외워 ㅂㅅ들아  - dc official App\n",
      "\n"
     ]
    },
    {
     "name": "stderr",
     "output_type": "stream",
     "text": []
    },
    {
     "name": "stdout",
     "output_type": "stream",
     "text": [
      "Content: \n",
      "퍙갤에서도 익명으로 ㅈㄴ까지?ㅋㅋ갤럼들아 파사모 잘봐라헤비 까는 업자는 이유불문 무조건 불매하고 무조건 거르고톡방에도 불매하라고 퍼트리자 퍙밀수하고 서류주작하고 너네한테 미소지으며 친절하게 퍙바가지 씨우고 사기치는 그런 업자들 전부 헤비싫어함 헤비가 걔네 팩폭ㅈㄴ하거든기억해라 헤비는 무조건옳다 항상옳다 헤비가 진짜다\n",
      "\n",
      "Comment: 그새끼들 밀수업자 ㅋ 중국에서 수입 어케오노 ㅋㅋ빤스에 넣어오나 ㅋㅋㅋ  - dc App\n"
     ]
    },
    {
     "name": "stderr",
     "output_type": "stream",
     "text": []
    },
    {
     "name": "stdout",
     "output_type": "stream",
     "text": [
      "Content: \n",
      "개체들이 보여야 뭘 하던가 하는데 \n",
      "\n",
      "Comment: 밑에 장판 깔아둬서 그럴걸?  - dc App\n"
     ]
    },
    {
     "name": "stderr",
     "output_type": "stream",
     "text": []
    },
    {
     "name": "stdout",
     "output_type": "stream",
     "text": [
      "Content: \n",
      "1. 자꾸 사육장에 얼굴 비비는데 저러면 코 부분이 다친다고 들었는데 어캐 못말리냐 ㅠㅠ2. 새끼인데 밥 얼마나 자주 먹어야함?3. 뱀들 핫존 쿨존 구분해야한다고 들었는데 렉사나 필름히터같은거 붙인 포맥스에서 어캐 키우는거임? 쿨존이 없잔아\n",
      "\n",
      "Comment: 배고픈거 or 좁은거일주에한번정도히터없는곳이 쿨존역할\n",
      "Comment: 1. 그냥 냅두면 못 나가는거 알고 멈춤, 그때까지 상처가 좀 날 수도 있는데 나 봤자 지저분해 보이는 건 피딱지 때문이고 탈피하면 없어짐2. 일반적으로 주 1회인데 어릴 땐 좀 자주 주기도 함, 냉동붙임 풀릴 수도 있어서 먹이 기억하도록3. 방이 사람 생활할 환경(2~30도)쯤 되면 히터 없어도 됨\n"
     ]
    },
    {
     "name": "stderr",
     "output_type": "stream",
     "text": []
    },
    {
     "name": "stdout",
     "output_type": "stream",
     "text": [
      "Content: \n",
      "입장객이 늘어남  입장객은 비주류 구경만하고 크레사감  비주류업체는 참여할 메리트가 부족함  비주류 없는 크레쇼는 손님도 줄어둠  결국 소비자도 먹이 공간 접근성 가족 등등 요인으로 크레만(밖에) 못키우지만  비주류 구경, 대리만족하러 행사장 찾나  - dc official App\n",
      "\n",
      "Comment: 크레는 키우니까 집에서도 볼수있는거시간 돈써서 구경갔는데 크레만 있으면 짜치지\n",
      "Comment: 그린, 바킹게코 있다더라  - dc App\n",
      "Comment: 집에서 개새끼 키우는데 개새끼 동물원 가서 볼 이유는 없긴해\n",
      "Comment: 윗댓ㅋㅋㅋ ㅂㄹ을 탁치고 간다ㅋㅋㅋㅋㅋㅋ\n"
     ]
    },
    {
     "name": "stderr",
     "output_type": "stream",
     "text": []
    },
    {
     "name": "stdout",
     "output_type": "stream",
     "text": [
      "Content: \n",
      "ㅈㄱㄴ - dc official App\n",
      "\n",
      "Comment: 수컷or미구분\n",
      "Comment: 암컷일리는 없을듯\n"
     ]
    },
    {
     "name": "stderr",
     "output_type": "stream",
     "text": []
    },
    {
     "name": "stdout",
     "output_type": "stream",
     "text": [
      "Content: \n",
      "ㅈㄱㄴ - dc official App\n",
      "\n"
     ]
    },
    {
     "name": "stderr",
     "output_type": "stream",
     "text": []
    },
    {
     "name": "stdout",
     "output_type": "stream",
     "text": [
      "Content: \n",
      "콧구멍이 윗턱통해서 입안으로  연결되는거 같던데 - dc official App\n",
      "\n",
      "Comment: 콧구멍으로 공기가 들어가면 코로 숨쉬는거지\n"
     ]
    },
    {
     "name": "stderr",
     "output_type": "stream",
     "text": []
    },
    {
     "name": "stdout",
     "output_type": "stream",
     "text": [
      "Content: \n",
      "트익할 베이비 키우고 있다가 프랖 베이비 친구삼아 한 마리 더 데려왔습니다근데 원래 데리고 있던 트익할 친구와는 성격이 정반대더라구요트익할 친구는 차분한데 프랖은 데려왔을때부터 여기저기서 뛰내리고 점프하고 해서 피딩하는 것도 초보집사라 쉽지가 않습니다 ㅠㅠ 이런 친구들은 어떻게 피딩해야할까요..? 피딩대를 사면 도움이 좀 될까요? \n",
      "\n"
     ]
    },
    {
     "name": "stderr",
     "output_type": "stream",
     "text": []
    },
    {
     "name": "stdout",
     "output_type": "stream",
     "text": [
      "Content: \n",
      "진짜 시발 지금 헷아잔 미구분 사서 돌려도 아잔 얻으려면 최소 2년은 있어야하는데 시발 걍 돈주고 사고말지 2년을 어케 기다려 시발아 기다리다 죽겟네\n",
      "\n",
      "Comment: 그냥사 덜떨아ㅋㅋㅋ예전 50에 팔때 사서 성체만들어서 350에 팔았다예전부터 징징만대니까 지금도 이모양 이꼴이지.ㅋㅋㅋㅋ에라이 덜떨아ㅋㅋㅋ\n",
      "Comment: 귀여워ㅋㅋㅋ\n",
      "Comment: 플러팅인가\n",
      "Comment: 내년 겨울되면 좀 떨어질거다ㅋㅋㅋ  - dc App\n"
     ]
    },
    {
     "name": "stderr",
     "output_type": "stream",
     "text": []
    },
    {
     "name": "stdout",
     "output_type": "stream",
     "text": [
      "Content: \n",
      "볼파 귀여운데  - dc official App\n",
      "\n",
      "Comment: 뱀 혐오하는 사람들 많음\n"
     ]
    },
    {
     "name": "stderr",
     "output_type": "stream",
     "text": []
    },
    {
     "name": "stdout",
     "output_type": "stream",
     "text": [
      "Content: \n",
      "미친새끼들인가\n",
      "\n",
      "Comment: 뭘 사전예매했는데\n"
     ]
    },
    {
     "name": "stderr",
     "output_type": "stream",
     "text": []
    },
    {
     "name": "stdout",
     "output_type": "stream",
     "text": [
      "Content: \n",
      "나 강림.\n",
      "\n",
      "Comment: 사람 없어\n"
     ]
    },
    {
     "name": "stderr",
     "output_type": "stream",
     "text": []
    },
    {
     "name": "stdout",
     "output_type": "stream",
     "text": [
      "Content: \n",
      "아잔틱이나 세이블이나 그냥 짙은 고동색인데  진짜 시커멓고 세상에서 가장 까만 반타블랙이니 이 ㅈㄹ ㅋㅋ  - dc official App\n",
      "\n",
      "Comment: 왜냐면 니가 그것조차 없어서 반박 못하니까 우기는거ㅋㅋ\n",
      "Comment: ㅋㅋㅋ팩폭당해버렸누ㅋㅋㅋ\n",
      "Comment: 블루베리 많이먹은 똥은 검은색이니까 퉁치는거지\n"
     ]
    },
    {
     "name": "stderr",
     "output_type": "stream",
     "text": []
    },
    {
     "name": "stdout",
     "output_type": "stream",
     "text": [
      "Content: \n",
      "재매이햄 ㅈㄴ웃기네 ㅋㅋㅋㅋ  - dc official App\n",
      "\n"
     ]
    },
    {
     "name": "stderr",
     "output_type": "stream",
     "text": []
    },
    {
     "name": "stdout",
     "output_type": "stream",
     "text": [
      "Content: \n",
      "올렸다가 중국에 수출보냈다고하는 브리더 몇명한테 집중포화 받는중인가보네ㅋㅋㅋ선ㅈ 머시기를 비롯해서..설마 중국독점수출 이런글들 구라들켜서 발작하는건가?실상 아무도관심없는거 다들알텐데?\n",
      "\n",
      "Comment: 그니까 잘못 한 거야 안 한 거야 한 거면 시발 헤비가 맞wksk\n",
      "Comment: 맞자나\n",
      "Comment: 헤비가맞지ㅋㅋ근데 헤비글저격하는 놈들보면다 중국수출한다고 글올렸던 놈들 부계들임ㅋㅋㅋ\n"
     ]
    },
    {
     "name": "stderr",
     "output_type": "stream",
     "text": []
    },
    {
     "name": "stdout",
     "output_type": "stream",
     "text": [
      "Content: \n",
      "형질이라?  걍 다 노말임?  - dc official App\n",
      "\n",
      "Comment: 형질이야~ 트라이랑 시클 붙이면  두알중에 어떤건 트라이. 어떤건 시클 나오듯이 근데ㅋㅋㅋ이번신모프 뭐?ㅋㅋㅋㅋ형질이던데혼자 떠들면모해 아무도인정안해주는데\n"
     ]
    },
    {
     "name": "stderr",
     "output_type": "stream",
     "text": []
    },
    {
     "name": "stdout",
     "output_type": "stream",
     "text": [
      "Content: \n",
      "언제들어갓노…- dc official App\n",
      "\n",
      "Comment: ?!  - dc App\n"
     ]
    },
    {
     "name": "stderr",
     "output_type": "stream",
     "text": []
    },
    {
     "name": "stdout",
     "output_type": "stream",
     "text": [
      "Content: \n",
      "1 이미지 순서 ON2 이미지 순서 ON3 이미지 순서 ON태어난지 6개월?정도 된애임밖으로 계속 탈출시도하는중\n",
      "\n",
      "Comment: 핥고싶네\n",
      "Comment: 커엽.. 부럽..\n",
      "Comment: 아긔야 돌아왔구나!!\n",
      "Comment: 얼굴두상이랑 색이 그대로 유지된채로 크면 이쁘겠네\n"
     ]
    },
    {
     "name": "stderr",
     "output_type": "stream",
     "text": []
    },
    {
     "name": "stdout",
     "output_type": "stream",
     "text": [
      "Content: \n",
      "그냥 ㅇㅇ\n",
      "\n",
      "Comment: 중국어케수출함?\n"
     ]
    },
    {
     "name": "stderr",
     "output_type": "stream",
     "text": []
    },
    {
     "name": "stdout",
     "output_type": "stream",
     "text": [
      "Content: \n",
      "아니 이새끼들 나도 취미로팔루 비바 만드는데가격 존나 개씹창렬임업체새끼들도 마찬가지 개인 판매자인데도가격 ㅇㅁ 창렬임 저렇게 터무니없이 팔면누가사냐 미친놈들 한놈만 걸려라 이거냐???0\n",
      "\n",
      "Comment: 진짜 인건비 인건비 시불이는데 개그튼거 존나게 비쌈\n"
     ]
    },
    {
     "name": "stderr",
     "output_type": "stream",
     "text": []
    },
    {
     "name": "stdout",
     "output_type": "stream",
     "text": [
      "Content: \n",
      "여름이라 더 그런거 같긴한데 계란판에 똥오줌+먹이찌꺼기 합쳐지면 초파리도 생기고 악취도 나서 관리하기 짜잉남.그래서 리빙박스 큰거에 몰아서 뚜껑닫고 키우면서 1주일에 1~2번은 꼭 청소함\n",
      "\n",
      "Comment: 냉동 짱짱\n",
      "Comment: 그냥얼리면되지 그걸 관리하고있냐\n"
     ]
    },
    {
     "name": "stderr",
     "output_type": "stream",
     "text": []
    },
    {
     "name": "stdout",
     "output_type": "stream",
     "text": [
      "Content: \n",
      "귀뚜라미,밀웜은 제외 풀무치랑 누에가 파충류한테 좋다는데 얘네말고 대체먹이 추천좀..\n",
      "\n",
      "Comment: 그럽파이  - dc App\n"
     ]
    },
    {
     "name": "stderr",
     "output_type": "stream",
     "text": []
    },
    {
     "name": "stdout",
     "output_type": "stream",
     "text": [
      "Content: \n",
      "난 얼굴에 존나게 뿌리거든 근데 그러지말라던데 다들 어케함\n",
      "\n",
      "Comment: 벽에뿌려야지\n",
      "Comment: 물고문하냐\n",
      "Comment: 존나개는 아니고 나도 얼굴에뿌림 얼굴에묻은물 마시라고  - dc App\n",
      "Comment: 분무기 니 면상에 가따대고 뿌려바라 어떤지  - dc App\n",
      "Comment: 물 안마시면 얼굴엥뿌림  - dc App\n",
      "Comment: 난 푸딩컵 갖다놓고 거기다 잠깐 옮겨놓고 반자동 분무기로 사육장에만 빠르게 분무한다음에 다시 옮겨주는데\n",
      "Comment: 난 물그릇만 놔주고 분무 안함ㅇㅇ\n",
      "Comment: 베이비 때부터 분무 안하고 물그릇만 놔줬음 ㅇㅇ성체인 현재까지 탈피부전이나 이외 잔병치리 없이 아주 건강하게 자라는 중ㅋㅋ\n"
     ]
    },
    {
     "name": "stderr",
     "output_type": "stream",
     "text": []
    },
    {
     "name": "stdout",
     "output_type": "stream",
     "text": [
      "Content: \n",
      "가볼까 하는디\n",
      "\n"
     ]
    },
    {
     "name": "stderr",
     "output_type": "stream",
     "text": []
    },
    {
     "name": "stdout",
     "output_type": "stream",
     "text": [
      "Content: \n",
      "만져보세요 하던뎅 \n",
      "\n",
      "Comment: 알다브라 존나 큰거 등짝 만질수있더라\n",
      "Comment: 판매를 목적으로 하는건 합법\n"
     ]
    },
    {
     "name": "stderr",
     "output_type": "stream",
     "text": []
    },
    {
     "name": "stdout",
     "output_type": "stream",
     "text": [
      "Content: \n",
      "개굴개굴- dc official App\n",
      "\n"
     ]
    },
    {
     "name": "stderr",
     "output_type": "stream",
     "text": []
    },
    {
     "name": "stdout",
     "output_type": "stream",
     "text": [
      "Content: \n",
      "그냥 텐저린인가?\n",
      "\n",
      "Comment: 노말  - dc App\n"
     ]
    },
    {
     "name": "stderr",
     "output_type": "stream",
     "text": []
    },
    {
     "name": "stdout",
     "output_type": "stream",
     "text": [
      "Content: \n",
      "흑화를 좀... 못나게 된듯.뭔가 하고 싶어하는 건 알겠는데너무 관종쪽으로 가는듯.ㅋㅋㅋㅋㅋ\n",
      "\n",
      "Comment: 어그로 끌려면 그게 방법이기도하지\n",
      "Comment: 똑똑한거임 저래야 사람들이 보거든\n",
      "Comment: 흑화가 아니라 애초부터 상븅신이었던거지ㅎ 그냥 돈때문에 아닥하던 업자였을 때가 정상인 코스프레였던거고ㅋㅋㅋ\n"
     ]
    },
    {
     "name": "stderr",
     "output_type": "stream",
     "text": []
    },
    {
     "name": "stdout",
     "output_type": "stream",
     "text": [
      "Content: \n",
      "존나 잘처먹음 숟가락까지 씹어먹을려고 하더라  - dc official App\n",
      "\n"
     ]
    },
    {
     "name": "stderr",
     "output_type": "stream",
     "text": []
    },
    {
     "name": "stdout",
     "output_type": "stream",
     "text": [
      "Content: \n",
      "1 이미지 순서 ON2 이미지 순서 ON3 이미지 순서 ON\n",
      "\n",
      "Comment: 씨발아  - dc App\n"
     ]
    },
    {
     "name": "stderr",
     "output_type": "stream",
     "text": [
      "100%|██████████| 49/49 [02:07<00:00,  2.61s/it]\n",
      " 10%|█         | 3/29 [06:32<56:40, 130.79s/it]"
     ]
    },
    {
     "name": "stdout",
     "output_type": "stream",
     "text": [
      "Content: \n",
      "릴리마블링 말고 마블링성체사진 가져와\n",
      "\n",
      "Comment: 핑프도 아니고 이정돈 걍 찾아보려는 생각 좀 해라업체 인스타 들어가서 스크롤 좀 내려보면 나옴\n",
      "Comment: 참고로 마블링 별로라고 생각함근데 이런 글은 더 별로임\n",
      "Comment: 팔린척한거야~ 장사 한두번하니?\n",
      "Comment: 이쁘지도 않더만\n"
     ]
    },
    {
     "name": "stderr",
     "output_type": "stream",
     "text": []
    },
    {
     "name": "stdout",
     "output_type": "stream",
     "text": [
      "Content: \n",
      "문득 든 생각인데 올해 귀찮아서 에어컨 청소 안했는데 원룸이고 여름 내내 나는 별 이상 증상 없었거든 냉방병도 걸린적없고 환기는 엄청 자주하는 편이긴한데 에어컨이 돌고 있을때가 문제니까 에어컨청소 안하면 곰팡이균 같은거 퍼진다고 본거같은데 크레한테도 데미지 있음? ​  - dc official App\n",
      "\n",
      "Comment: 일년정도는 뭐\n"
     ]
    },
    {
     "name": "stderr",
     "output_type": "stream",
     "text": []
    },
    {
     "name": "stdout",
     "output_type": "stream",
     "text": [
      "Content: \n",
      "섹스  - dc official App\n",
      "\n",
      "Comment: 뚜벅이 급식색히 불쌍하다 불쌍해 육수조옹나 흘리면서 구경만 처하고 오겠네\n",
      "Comment: 이놈은 성격 ㅈㄴ 지랄맞네 사회성 결격이다\n"
     ]
    },
    {
     "name": "stderr",
     "output_type": "stream",
     "text": []
    },
    {
     "name": "stdout",
     "output_type": "stream",
     "text": [
      "Content: \n",
      "승객유기하고 버스 뒷자석에 누워서 딸치니깐 좋냐  - dc official App\n",
      "\n"
     ]
    },
    {
     "name": "stderr",
     "output_type": "stream",
     "text": []
    },
    {
     "name": "stdout",
     "output_type": "stream",
     "text": [
      "Content: \n",
      "왜 안처오냐  빨리 출발하라고  - dc official App\n",
      "\n",
      "Comment: ㅉ\n"
     ]
    },
    {
     "name": "stderr",
     "output_type": "stream",
     "text": []
    },
    {
     "name": "stdout",
     "output_type": "stream",
     "text": [
      "Content: \n",
      "차고지에 처박혀있지말고 빨리처오라고 씨발새씨야 나 덥다고 탈수걸릴거같다고  - dc official App\n",
      "\n",
      "Comment: 걸어서ㄱ - dc App\n",
      "Comment: 알빠노\n"
     ]
    },
    {
     "name": "stderr",
     "output_type": "stream",
     "text": []
    },
    {
     "name": "stdout",
     "output_type": "stream",
     "text": [
      "Content: \n",
      "씨발  - dc official App\n",
      "\n"
     ]
    },
    {
     "name": "stderr",
     "output_type": "stream",
     "text": []
    },
    {
     "name": "stdout",
     "output_type": "stream",
     "text": [
      "Content: \n",
      "새끼 뱀인데 차가 밟았는지 죽었다독사 맞지??\n",
      "\n",
      "Comment: 꽃뱀새끼\n",
      "Comment: 누룩뱀\n",
      "Comment: 볼파이톤\n",
      "Comment: 아나콘다\n",
      "Comment: 누룩뱀 같은데\n",
      "Comment: 누룩뱀이야 병신아  - dc App\n"
     ]
    },
    {
     "name": "stderr",
     "output_type": "stream",
     "text": []
    },
    {
     "name": "stdout",
     "output_type": "stream",
     "text": [
      "Content: \n",
      "베일드 카멜레온 1쌍 완전 애기때 데려와서 벌써 6개월 지났네. 내가 얘네 사육비용 정리해보니까 그동안 거의 100만원 듬.베일드 1쌍 분양비 20만원귀뚜리.밀웜 25~30만원사육장 10만원 정도사육용품(영양제,먹이통,인조나무 같은거) 10~15만원UVB.스팟램프 20~25만원쯤. (T5 형광등 UVB가 좀 비쌌음...)내가 파충류 처음 키워본거라 굳이 안사도 되는거나 중복. 잘못산거 빼면 60만원 대까지 줄일 수 있었을텐데 아쉽.\n",
      "\n",
      "Comment: 그돈이면 새거하나 더사겠다  - dc App\n",
      "Comment: 개호구네ㅋㅋ\n",
      "Comment: 뭔 한쌍처키우는데 귀뚜리 밀웜을 6개월간 30이상쓰냐?돈낭비 존나심하네\n",
      "Comment: 아무리 애정을 가지고 키웠다고 해도 6개월에 100이면너 문제가 뭔지 생각해봐\n",
      "Comment: 뭔데 뭔데 왜 100이냐\n",
      "Comment: 취미생활에 100쓰는게 모가크냐 골프 낚시만해도 100 은 몇개월만에씀\n",
      "Comment: 돈없는 거지 새끼들 열등감 폭발 ㅋ돈도 중요하지만 사전에 좀 잘 알아보고 사지 그랬노여튼 이래된거 오래 잘 키우길\n",
      "Comment: 귀뚜리 밀웜이 어케 35가 나와? 구라도 적당히 쳐야지 7년전에 피그미 카멜 한쌍, 잭슨 한쌍 키울때도 먹이+칼슘, 영양제 값이 달에 2만원이 안나왔는데\n",
      "Comment: 어그로에 ㅈㄴ 잘끌리네 급식들밀웜 귀뚤 35  ㅋㅋㅋㅋ\n",
      "Comment: 팬서도 한입해봐라 이뿌다\n"
     ]
    },
    {
     "name": "stderr",
     "output_type": "stream",
     "text": []
    },
    {
     "name": "stdout",
     "output_type": "stream",
     "text": [
      "Content: \n",
      "작년에 봤제잉~ ㅈㄴ게 떨어지는 거 막 그때 페닉샐하고 크레판 망한다 ㅈㄹ을 했었제잉~ 이번 겨울 시발 고퀄 아잔틱!!! 48만원에  넌 내 꺼야!  - dc official App\n",
      "\n",
      "Comment: 48이면 오늘도 가능  - dc App\n"
     ]
    },
    {
     "name": "stderr",
     "output_type": "stream",
     "text": []
    },
    {
     "name": "stdout",
     "output_type": "stream",
     "text": [
      "Content: \n",
      "인원통제쪽에서 너무 잘 못하더라사전예약한 사람과 현장예매인원을 좀 따로 나눠야하는데 그런게 없어서 사전예약한 의미가 없고들어와서도 사람들 너무 많아서 앞으로도 뒤로도 못가는 경우가 많고심지어 정브르 사인회를 입구쪽에다가 해서 초반부부터 움직이기 힘들더라게다가 그 사인회도 중간에 안전문지로 중지했었음내년에 2회차 하게되면 이건 개선해야한다고 봄\n",
      "\n"
     ]
    },
    {
     "name": "stderr",
     "output_type": "stream",
     "text": []
    },
    {
     "name": "stdout",
     "output_type": "stream",
     "text": [
      "Timeout while processing article 13. Moving to next article.\n"
     ]
    },
    {
     "name": "stderr",
     "output_type": "stream",
     "text": []
    },
    {
     "name": "stdout",
     "output_type": "stream",
     "text": [
      "Content: \n",
      "퍙갤에서 말하는 시세는 본인의 희망사항을 적어놓는거임알겠냐? 땡전 한푼 없는 거지 집합소다.\n",
      "\n",
      "Comment: 지브릴 시세\n",
      "Comment: 노멀 릴리 카푸는 진짜 저렇고피들만봐도 세이블 아잔틱은 딱 저가격 두배정도?최저가 기준 - dc App\n",
      "Comment: 지브릴 시세\n"
     ]
    },
    {
     "name": "stderr",
     "output_type": "stream",
     "text": []
    },
    {
     "name": "stdout",
     "output_type": "stream",
     "text": [
      "Content: \n",
      "그냥 팬텀 같은 느낌에 모프일뿐인것 같은데 저걸 3500주고 사다니….. 미친짓인것 같다주작이다 뭐다 하는데 주작이면 웃긴거고 진짜로 사간거면 좌뇌 우뇌 둘중에 오함마로 존나 씨게 쳐맞은 ㅅㄲ가 틀림없다현금영수증이건 키드내역이건 나발이건 그딴건 중요하지 않다아직 모프라고 보기엔 조또 스미마생이다- dc official App\n",
      "\n",
      "Comment: 팔린척한거지... 장사한두번하니\n"
     ]
    },
    {
     "name": "stderr",
     "output_type": "stream",
     "text": []
    },
    {
     "name": "stdout",
     "output_type": "stream",
     "text": [
      "Content: \n",
      "똥짤 10초컷 뭔데\n",
      "\n"
     ]
    },
    {
     "name": "stderr",
     "output_type": "stream",
     "text": []
    },
    {
     "name": "stdout",
     "output_type": "stream",
     "text": [
      "Content: \n",
      "파는업체는 적고 꾸준히 잘나가는 국밥같은 모프임성격도 사납다보니 오히려 밥잘먹는애들이 많아서 손덜감\n",
      "\n",
      "Comment: 화이트라이트는 뭐냐ㅋㅋ  - dc App\n",
      "Comment: 어느정도 가격도 있어서 맞는말 같음\n"
     ]
    },
    {
     "name": "stderr",
     "output_type": "stream",
     "text": []
    },
    {
     "name": "stdout",
     "output_type": "stream",
     "text": [
      "Content: \n",
      "위가 암 아래가 숫(살짝 논파) 이렇게 한쌍인데 얼마정도 보시나요? 가고일 입문하려는데 가격이 감이 잘 안잡혀서 편하게 의견주시면 감사드리겠습니다\n",
      "\n",
      "Comment: 렙시티에서 15만원에 팔던데\n"
     ]
    },
    {
     "name": "stderr",
     "output_type": "stream",
     "text": []
    },
    {
     "name": "stdout",
     "output_type": "stream",
     "text": [
      "Content: \n",
      "1 이미지 순서 ON2 이미지 순서 ON3 이미지 순서 ON종종 낮에도나와서 나한번 스윽 쳐다보고 다시 들어가서 잠 웃긴놈임 \n",
      "\n",
      "Comment: Wy는 우예 앎\n"
     ]
    },
    {
     "name": "stderr",
     "output_type": "stream",
     "text": []
    },
    {
     "name": "stdout",
     "output_type": "stream",
     "text": [
      "Content: \n",
      "1 이미지 순서 ON2 이미지 순서 ON저기서 저렇게있다가 찍은거뿐 3 이미지 순서 ON대려왔을때 \n",
      "\n",
      "Comment: 이쁨 화이트 나이트도 데려오자\n"
     ]
    },
    {
     "name": "stderr",
     "output_type": "stream",
     "text": []
    },
    {
     "name": "stdout",
     "output_type": "stream",
     "text": [
      "Content: \n",
      "새벽에 불끄고 애들 상태 점검할겸 멀리서 후레시 젤약하게키고 살짝 다 둘러보는데 얘만 좀보면 후다닥 바로 은신처로 튐 \n",
      "\n",
      "Comment: 사진을 가져와\n"
     ]
    },
    {
     "name": "stderr",
     "output_type": "stream",
     "text": []
    },
    {
     "name": "stdout",
     "output_type": "stream",
     "text": [
      "Content: \n",
      "해외에서도 크레퀄로 주접 쌈? 크레 모프 설명하는 유튜브 보는데 줄하나 더 그어있다고 이건 퀄이 좋니 뭐니 이러던데\n",
      "\n",
      "Comment: 맘충같은 느낌의 유난은 아니고, 극성은 있는듯ㅇㅇ\n"
     ]
    },
    {
     "name": "stderr",
     "output_type": "stream",
     "text": []
    },
    {
     "name": "stdout",
     "output_type": "stream",
     "text": [
      "Content: \n",
      "색감 ㅈㄴ 예쁜데 이런건 진지하게 얼마짜리냐?\n",
      "\n",
      "Comment: 그냥 저퀄 익할인데 - dc App\n",
      "Comment: 진찐 크알못천국 익할이랜다ㅋㅋ  - dc App\n",
      "Comment: 크림시클\n",
      "Comment: 익할은 아니고 크림할리ㅇㅇ 암컷이면 10~15\n",
      "Comment: 나 진짜 크레 모르는 데 그냥 박람회에서 2500만원이라고 하고 신규 모프라고 구라로 하나박고 팔아라바로 팔린다\n",
      "Comment: 10만 미만\n",
      "Comment: 3만원\n",
      "Comment: 크림시클이면 20이하 정도 될듯\n",
      "Comment: ㅋㅋ호구새끼 알려줘도 ㅈㄹㄴㄴ 이지랄 ㅋㅋㅋㅋㅋ답정너새끼 좋게말해서 20이하 따리다ㅋㅋ\n",
      "Comment: 그냥 점없는 일반모프 암컷이면 10~15정도라고 보면된다. 저기 위에 20 이하라고 한거도 잘 처준거여. 그나저나 유명 브리더 누군데..? 올ㄷㅌㄹ는 또 무슨 듣보임..\n",
      "Comment: 님이 보시기에도 저게 70이상은 말이 안되는거죠?\n",
      "Comment: 올드ㅌㄹ ㅈㄴ 듣도보도 못했는대 유명브리더ㅋㅋㅋㅋ 크림으로보자면 색감좋음 근데 요즘은 크림도 화이트월 화이트크라운임ㅋㅋ  - dc App\n",
      "Comment: 그냥 찌꺼기 입양한거네 ㅋㅋ 속 시원한 답변 감사합니당\n",
      "Comment: 진지하게 암컷이어도 10-20사이임 그이상이면 호구\n",
      "Comment: 여기서 답 안나오고 찻집가서 암컷으로 비슷한 개체 팔린 가격 보면 답나온다.  호가말고 진짜 완료된 가격. 그리고 새로고침 하면서 완료된거 말고 진짜 분양된 가격을 봐라내가 볼땐 냉정하게 7정도\n",
      "Comment: 가격 알려달래서 알려주면 ㅈㄹㄴㄴ브리더 누군지 모른다니까 어거지로 알게 하려 하고쿨한 척하는 건지 진짜 개병신인건지 지가 이쁘다고 올린애를 찌꺼기라고 욕하는 건 진짜 한심하다쟤는 뭔 잘못이 있어서 너같은 새끼를 만났을까\n",
      "Comment: 개 씹 호구 흑우 새끼개 답장새낀데 가격쳐물어보고 ㅈㄹ임ㅅㅂ년\n",
      "Comment: 크레는 무분이나 마리당 2만 이하가 찐가격 ㅋ\n",
      "Comment: 진지하게 진짜 암컷이면 15에서 20정도고 수컷이면 ㅅ3만에서 5만임   - dc App\n",
      "Comment: 개이쁜데\n"
     ]
    },
    {
     "name": "stderr",
     "output_type": "stream",
     "text": []
    },
    {
     "name": "stdout",
     "output_type": "stream",
     "text": [
      "Content: \n",
      "수도권 모업체 사장님 좀 죽어야 더 팔수 있다는 사장님 반성하세요소시오패스인줄\n",
      "\n",
      "Comment: 누구..? 초성이라도..\n",
      "Comment: 한참 레게 죽여먹을때도 사장들 화내는 척 하면서 입가에 숨길 수 없는 미소 짓고 좋아죽음\n"
     ]
    },
    {
     "name": "stderr",
     "output_type": "stream",
     "text": []
    },
    {
     "name": "stdout",
     "output_type": "stream",
     "text": [
      "Content: \n",
      "이거 레알임 ㅋㅋ 시장성 모노크롬인걸 왜 돈주고 사노 ㅋㅋ  - dc official App\n",
      "\n",
      "Comment: ㅈㅈ 자지냐? 뭐냐 ㅈㅈ은 뭐임?\n",
      "Comment: 진즉  - dc App\n",
      "Comment: 진즉이 뭔데 먼듣보잡인데\n",
      "Comment: 돈냄새 잘맡긴하지 ㅋㅋ ㅈ같은데 돈엔 트인놈\n",
      "Comment: ㅈㅈ이랑 낭게이랑 마블링이랑 존나 친해서 팔아주는거 아님? ㅋ\n"
     ]
    },
    {
     "name": "stderr",
     "output_type": "stream",
     "text": []
    },
    {
     "name": "stdout",
     "output_type": "stream",
     "text": [
      "Content: \n",
      "내 눈엔 그딴 모프보다 호감고닉 야스오가 데려온 레게 텐저린이 훨씬 예뻐보인다.크레에 돈 쓰지 마라 호구다\n",
      "\n",
      "Comment: 마블링 베이비가 3500 이면 성체는 7000정도인가\n",
      "Comment: 모두의마블2 나온다\n"
     ]
    },
    {
     "name": "stderr",
     "output_type": "stream",
     "text": []
    },
    {
     "name": "stdout",
     "output_type": "stream",
     "text": [
      "Content: \n",
      "크림 옐로우 장인 추천좀\n",
      "\n",
      "Comment: 똥퀄은 ㅋㄹㅍㅅ - dc App\n",
      "Comment: 대세인건 오버고 ㅁㅇ 혼자 좋아하는거 아님?\n",
      "Comment: ㄹㄷㅅ ㅋㅋㅋㅋㅋ조오타\n",
      "Comment: ㄹㄷㅅ나 ㅂㅇㅇ는 그냥 게시물보면 ㅈㄴ 평범해 보이던데 왜그렇게 빨아주는지 몰겠음\n",
      "Comment: 작으로 시작하거나 영어로 시작하는거 찾아보삼\n"
     ]
    },
    {
     "name": "stderr",
     "output_type": "stream",
     "text": []
    },
    {
     "name": "stdout",
     "output_type": "stream",
     "text": [
      "Content: \n",
      "근데 초초 이 시발련은 크면 다 검정색 되고, 어렸을 땐 애미디진 초고추창 색 초초<--- 이새끼 존재가치가 뭐임? 그냥 레드 노멀 사세요 ㅂㅅ아 성체는 검흰 노멀 사시고  마블링 이 시발련은 환공포증 걸릴 거 마냥 ㅈㄴ 징그럽기만해 열성도 아냐 시발 우성이야 ㅇㅇ 3500은 시발 ㅋ 마블링<-- 존재의의가 뭐임?  진짜 와 ㅈㄴ 이쁘다 생각되는 릴리, 카푸도 아니고 시발 ㅋㅋㅋ 환공포증처럼 생기고 뭐 별다를 것도 없음 ㅋㅋㅋ 대체 뭔 생각을 하고 사는 거냐? 이게 국장 투자 같은 거냐? 태풍 노루오면 노루 페인트 사는? 애미가 디져도 철져하게 디져버리네 ㅋㅋㅋㅋㅋㅋㅋ  - dc official App\n",
      "\n",
      "Comment: 아니 근데 마블링은 그냥 개똥 릴리 같이 보이는데...\n",
      "Comment: ㅋㅋ 딱 키보드워리어 그자체네  - dc App\n"
     ]
    },
    {
     "name": "stderr",
     "output_type": "stream",
     "text": []
    },
    {
     "name": "stdout",
     "output_type": "stream",
     "text": [
      "Content: \n",
      "근데 시장이 망하는건 확실하지 않은 추측이고 한마리에 2000만원 초초랑 3500만원 마블링은 현실이잖아...쩐다...인생함 걸어볼만한듯  - dc official App\n",
      "\n",
      "Comment: 애초에 그냥 영업 허가제라고 해봤자 사업자 등록증이나 면허정도일거임ㅇㅇ 걍 허가받으면 그만임ㅎ\n",
      "Comment: 집구석에선 허가 못받음 ㅇㅇ  - dc App\n",
      "Comment: 초초 고 나발이고 색하나 에3500 왜사냐ㅋㄱㅋ 미친놈인가ㅋㅋㅋ그래봤자 안팔리면 100 따리로 훅내려오다가 20마넌되겠더만ㅋ ㅋ 3천5백 대체 어디서 나온 금액일까ㅋㅋㅋㄱㅋ 미친새끼들\n",
      "Comment: 존나 멍청한 소리하네 2년전에 프라푸치노 600만원에 분양글 내놓으면 사기꾼이라고 의심받았다. 먼소리인지 알겠제초초 그돈주고 사서 키워서 분양한다?  몇마리 팔아야 원금회수 되겠노지금 물린애들도 처음에 블루오션인지 알았겠지\n"
     ]
    },
    {
     "name": "stderr",
     "output_type": "stream",
     "text": []
    },
    {
     "name": "stdout",
     "output_type": "stream",
     "text": [
      "Content: \n",
      "에스파 슈퍼노바보다 대단함?\n",
      "\n",
      "Comment: 파양판의 아이돌이긴 하지세계 1위 볼파쟁이니까\n"
     ]
    },
    {
     "name": "stderr",
     "output_type": "stream",
     "text": []
    },
    {
     "name": "stdout",
     "output_type": "stream",
     "text": [
      "Content: \n",
      "니들 돈 써서 산것도 아닌데 왜 시애미질 하고 있는지 모르거스 \n",
      "\n",
      "Comment: 맨날 방구석에서 갤질이나 하고 남의 개체 까기 바쁜 년들이 뭘알겠누ㅎ 다 주작하는 업자로나 보이겠지ㅋㅋㅋ\n",
      "Comment: 알맹이는 정작 몇그람안하는 핑키덩어린데 거품이 상상초월이노 거품왜사냐?\n"
     ]
    },
    {
     "name": "stderr",
     "output_type": "stream",
     "text": []
    },
    {
     "name": "stdout",
     "output_type": "stream",
     "text": [
      "Content: \n",
      "모프화트프 데려올만 하냐?개구리는 ㅈㄴ잘뒤진다는데 - dc official App\n",
      "\n",
      "Comment: 왁시도 맘에 들면 왁시키워생각이상으로 튼튼하고 신기하게 생김\n",
      "Comment: 양서류 키우는 게이년들아나 왁시 분양 ㅈㄴ했는 데 똥냄새에 진짜 노답 살처분하고싶었다\n",
      "Comment: 좀 키우지말라면 키우지마 답정너냐?\n"
     ]
    },
    {
     "name": "stderr",
     "output_type": "stream",
     "text": []
    },
    {
     "name": "stdout",
     "output_type": "stream",
     "text": [
      "Content: \n",
      "1 이미지 순서 ON2 이미지 순서 ON3 이미지 순서 ON카멜레온 피규어 사셈일반이랑 빨강 있음가격 개당 단돈 12,6000원밖에 안함밥도 안 먹고 똥도 안 싸고 죽지도 않음 ㅆㅅㅍㅊ\n",
      "\n",
      "Comment: 아직 발매 안하지않았나? 이것보다 곧 예약받을 썬게이저가 ㄹㅇ goat임\n",
      "Comment: 쉼표를 왜 거기다 찍노\n",
      "Comment: 애새끼냐  - dc App\n",
      "Comment: 관절 안보였음 샀다  - dc App\n",
      "Comment: 1절만 해\n",
      "Comment: 난 티라노 있는데 ㅈㄴ고퀄리티\n",
      "Comment: 진짜 개 씹 노잼인거알지? 초딩새낀가\n"
     ]
    },
    {
     "name": "stderr",
     "output_type": "stream",
     "text": []
    },
    {
     "name": "stdout",
     "output_type": "stream",
     "text": [
      "Content: \n",
      "- dc official App\n",
      "\n",
      "Comment: 그만해 통장에 350도 없다고;;  - dc App\n",
      "Comment: 뭐 갑자기 새삼스럽게ㅎ 그냥 렙킹보다 좀 나은 정도지 뭐ㅋㅋ\n"
     ]
    },
    {
     "name": "stderr",
     "output_type": "stream",
     "text": []
    },
    {
     "name": "stdout",
     "output_type": "stream",
     "text": [
      "Content: \n",
      "\n",
      "\n",
      "Comment: 3번 보면 죽는 짤.\n"
     ]
    },
    {
     "name": "stderr",
     "output_type": "stream",
     "text": []
    },
    {
     "name": "stdout",
     "output_type": "stream",
     "text": [
      "Content: \n",
      "니들이 떠들어주는것만으로도 이미 노이즈마케팅 대성공임3500을 지르는데 한푼을 안깍는다?마치 인증을 염두해둔거마냥 현금영수증을 했다?보통 업체들 어떻게하는지 알사람은 알거라고 봄의문은 많고 명확히 증명할 방법은 없음돈이야 돌려주고 현금영수증이야 취소하면 그만이니알빠노긴 함\n",
      "\n",
      "Comment: 소름 진짜\n",
      "Comment: 이야 이렇게 생각하는 사람도 있구나 ㄷㄷ합의에 의한 쇼맨쉽이면 낭게코 너 줄게\n",
      "Comment: 조용해 ㅆㅂ 시세작업중이다  - dc App\n",
      "Comment: 확실히 방구석 찐따새끼들이 많으니 피해의식 ㅆㅅㅌㅊ - dc App\n",
      "Comment: 적당히해라 다 보인다 ㅋㅋ\n",
      "Comment: 조용해. 다들 이렇게작업하니까\n",
      "Comment: 왜 나한테만 대하는 기준이 엄격한건데??\n"
     ]
    },
    {
     "name": "stderr",
     "output_type": "stream",
     "text": []
    },
    {
     "name": "stdout",
     "output_type": "stream",
     "text": [
      "Content: \n",
      "이거 ㅅㅂ 설마 두비아냐?  - dc official App\n",
      "\n",
      "Comment: ㅇㅇ\n",
      "Comment: 잘키워죠\n",
      "Comment: 국내에 못해도 1억마리는 잇을걸?  - dc App\n"
     ]
    },
    {
     "name": "stderr",
     "output_type": "stream",
     "text": []
    },
    {
     "name": "stdout",
     "output_type": "stream",
     "text": [
      "Content: \n",
      "크레 노말 2만원놀이목 5000원백업 12000원물그릇 1000원키친타올 2000원사료 판게아 18000       레파시 17000사육통은 30큐브 어항 19000원토탈 94000원임생각보다 많이 썼네이상 크레 사육 6개월차 뉴비\n",
      "\n",
      "Comment: 뚜껌 제작비 2000원은 뺐다뚜껑은 루바망이랑 캐이블타이로 제작함\n",
      "Comment: 초기비용 들인것 치곤 알뜰하노\n"
     ]
    },
    {
     "name": "stderr",
     "output_type": "stream",
     "text": []
    },
    {
     "name": "stdout",
     "output_type": "stream",
     "text": [
      "Content: \n",
      "ㅋㅋㅋㅂㅅ들ㅋㅋ\n",
      "\n",
      "Comment: 모든 톡방에 짤퍼트려야겟다ㅎ\n"
     ]
    },
    {
     "name": "stderr",
     "output_type": "stream",
     "text": []
    },
    {
     "name": "stdout",
     "output_type": "stream",
     "text": [
      "Content: \n",
      "분양받은 개 흑우 면상 보고싶다물소처럼 여캠에 3500만원어치 부모전재산팔아서 별풍 날린거랑 똑같음 소름…\n",
      "\n",
      "Comment: 20대에 젋고 이쁜 여캠이면 이해라도하지 ㅋㅋ50대중반에 쭈구렁할매에다가 ㅋㅋㅋㅋ\n",
      "Comment: 팔린척한거지 니들 장사 한두번하냐\n"
     ]
    },
    {
     "name": "stderr",
     "output_type": "stream",
     "text": []
    },
    {
     "name": "stdout",
     "output_type": "stream",
     "text": [
      "Content: \n",
      "오늘 길에서 발견함\n",
      "\n",
      "Comment: 뱀\n",
      "Comment: 대륙유혈목이 같은데\n",
      "Comment: 멸종위기 2급 구렁이새끼이네요 구렁이 새끼 특유의 무늬가 머리 쪽에 보입니다 대륙유혈목이에게 보이는 목 무늬는 보이지 않네요\n"
     ]
    },
    {
     "name": "stderr",
     "output_type": "stream",
     "text": []
    },
    {
     "name": "stdout",
     "output_type": "stream",
     "text": [
      "Content: \n",
      "중딩시절부터 하고 싶었던거고 진짜 지네 전갈 거미 ㅈ마뱀 몇 종류 까지 왠만하게 싸게 구할수 있는 종류는 다했는데육겁은 브리딩 하고 뒷감당 안될거 같아서 시작조차 못하겠노진짜 ㅈㄴ 해보고는 싶은데 하고 분양 안될까봐분양 안되서 10마리 이상의 새끼들을 안고 키워야 될까바 겁나노 ㅋㅋㅋㅋ지네 전갈 거미 ㅈ마뱀 얘들은 떨이치면 분양이라도 잘 갔지......육겁은 샵이 아닌 개인이 떨이쳐도 분양 잘 안되겠지?레오파드나 설가타도 아니고 레드풋이라 ㅠ\n",
      "\n",
      "Comment: 돈 욕심 없이 분양하면 무조건 나간다 아님 무료분양이라도 하면되지 너가 진짜 하고싶은게 돈이 아니라 브리딩이라면\n",
      "Comment: 돈 욕심보다는 알 까고 새끼 태어나는 그 과정이 넘 재밌더라고 그래서 레드풋도 마침 암놈 두마리 있겠다....수컷하나 구해서 시도해볼까 싶긴한데무료분양은 진짜 별의별 새끼들이 다 꼬여서 진짜 ㅈㄴ 안끌리고니 말대로 싸게 올리면 분양 잘 될려나 육겁이라 싸게 해도 안될것 같은 느낌이 드노\n",
      "Comment: 나도 크레 키우기 전에는 육겁 브리딩하고싶었는데ㅎㅎ 생각보다 공간도 필요하고 빡세보여서 걍 크레로 만족중.. 하고싶은거 있으면 하는게 맞다고 본다 응원함ㅇㅇ\n",
      "Comment: 5만원에 올리면 하루만에 완판이다 급식애새끼들도 거를만한 금액이고  - dc App\n",
      "Comment: 적당한 가격이면 난 줄서보고싶다\n",
      "Comment: 돈보단 경험이 더 중요한거지\n"
     ]
    },
    {
     "name": "stderr",
     "output_type": "stream",
     "text": []
    },
    {
     "name": "stdout",
     "output_type": "stream",
     "text": [
      "Content: \n",
      "레게 밥으로 주면 안되겠지?\n",
      "\n",
      "Comment: ㅇㅇ 기생충 덩어리 일수도\n",
      "Comment: 요즘 농잔것들도 못믿는다고 직접 길러먹이는애들도 있는판에 야생은 절대안됨\n"
     ]
    },
    {
     "name": "stderr",
     "output_type": "stream",
     "text": []
    },
    {
     "name": "stdout",
     "output_type": "stream",
     "text": [
      "Content: \n",
      "이미 수족관들은 용품가격 ㅂㅅ되고 물고기판매도 저조해서 개힘든 상황에 크레랑 슈가같은 야생동물 댈고오면서 살아남았음 근데 이거 못팔게한다..? 수족관쪽에서도 움직일거임...  - dc official App\n",
      "\n",
      "Comment: 아닌데??\n",
      "Comment: 겠냐? ㅋ1년2개월남은 시장이다식별잘해서 재산 보존잘해라 ㅋ  - dc App\n"
     ]
    },
    {
     "name": "stderr",
     "output_type": "stream",
     "text": []
    },
    {
     "name": "stdout",
     "output_type": "stream",
     "text": [
      "Content: \n",
      "선주비원더 초초는 생각보다 훨씬 이뻣고 존나 비쌌음근데 솔드아웃이 많았음인피니트게코 아잔틱은 인기가 엄청 많았음진짜 구경하기 힘들정도였음크레요트도 퀄리티 좋은애들 많아서 깜짝 놀람나는 4시쯤 갔는데 5분정도 대기하고 시원하게 구경함확실히 여기 쇼는 입문자가 가기는 빡시고어느정도 이바닥에서 구르는 사람들이 가야함\n",
      "\n",
      "Comment: 나도 그냥 여기저기서 보는 박람회라 생각했는데 엄청 좋았음 ㅋㅋㅋ 특히 벽면에 로고 움직이는거 대박이더라\n",
      "Comment: 초초는 비쌀거 예상하긴 했는데 헷초초는 얼마였음?\n",
      "Comment: 진짜 개쩔드라 품격이다름  - dc App\n",
      "Comment: 더 크레쇼 가봤는데 나는 ㅈ같았음 웨이팅 하게끔 해놓고서 입장하니까 앞에서부터 순서대로 구경하는것도 아니고 지들 멋대로 왔다갔다 길막고 안비키고 무슨 패밀리 존 있대서 봤는데 금액도 제대로 안적혀있고 걍 ㅂㅅ 상업 쇼같던데\n",
      "Comment: 중고차딜러, 폰팔이들과 같은 격의호갱무는 쇼 후기 잘들었습니다초초나 마블ㅈㄴ 말장난…ㅅㅂ ㅋㅋㅋ\n",
      "Comment: 근데 그러면 초초는 가격대가 얼마에서 최대 얼마까지 있었음?? 헷100이 저정도면 초초도 내 예상처럼 비싸진 않았을거 같은데...\n",
      "Comment: 무슨 업체 관련자냐?ㅋㅋㅋ 누구랑 연관있는 샵만 올려놨네\n"
     ]
    },
    {
     "name": "stderr",
     "output_type": "stream",
     "text": []
    },
    {
     "name": "stdout",
     "output_type": "stream",
     "text": [
      "Content: \n",
      "나라에서 ㅈㄴ밀어주고있는 관상어쪽도 크레 꼽껴서 팔아대는마당에 크레 저격당하면 웃기긴할듯\n",
      "\n",
      "Comment: 크레 저격x방구석 재테크충 저격 ㅇ시장99%날라갈 위기  - dc App\n"
     ]
    },
    {
     "name": "stderr",
     "output_type": "stream",
     "text": []
    },
    {
     "name": "stdout",
     "output_type": "stream",
     "text": [
      "Content: \n",
      "1 이미지 순서 ON2 이미지 순서 ON아직 12g이긴한데설마 생식기쪽 저거 봉알이냐?얘 수컷임????3 이미지 순서 ON4 이미지 순서 ON5 이미지 순서 ON6 이미지 순서 ON7 이미지 순서 ON8 이미지 순서 ON- dc official App\n",
      "\n",
      "Comment: 암컷도 봉알나옴 천공을 봐야대\n",
      "Comment: 암컷같은데\n"
     ]
    },
    {
     "name": "stderr",
     "output_type": "stream",
     "text": []
    },
    {
     "name": "stdout",
     "output_type": "stream",
     "text": [
      "Content: \n",
      "행사 인파볼때마다 이게 향후5년안에 망한다고..? 상상이안됨 환경부에서 이정도 인파를보고도 ㅈ같이만든다고? 진짜 무서워서 못건들거같음 네이버 검색량도 강아지가 1달에14만 나오는대 크레가 6만을 향해 계속 상승중 이미 햄스터보다 2만 더많음 이게 5년안에 망한다고?  - dc official App\n",
      "\n",
      "Comment: 개새끼 시장도 원펀치에 박살낸형들인데 크레따위가? ㅋ애초에 생물로 재테크한다는 개념을 안갖는형들인데 ㅋㅋㅋ  - dc App\n",
      "Comment: 내 생각도 같음 이걸 망하게 둔다고? 언젠간 망하더라도 당장 오늘 내일은 아닐듯 ㅋㅋㅋㅋ   - dc App\n",
      "Comment: 시장 규모가 함부러 크게 못건드는 수준이 옴  - dc App\n"
     ]
    },
    {
     "name": "stderr",
     "output_type": "stream",
     "text": []
    },
    {
     "name": "stdout",
     "output_type": "stream",
     "text": [
      "Content: \n",
      "눈에 확연히 보일정도로 검정색인데 점일까\n",
      "\n",
      "Comment: 그부분만 가위로 자르면 아무도 모름\n",
      "Comment: 점임 모양이 구형만 아닐뿐  - dc App\n"
     ]
    },
    {
     "name": "stderr",
     "output_type": "stream",
     "text": [
      "100%|██████████| 49/49 [02:19<00:00,  2.85s/it]\n",
      " 14%|█▍        | 4/29 [08:53<56:08, 134.75s/it]"
     ]
    },
    {
     "name": "stdout",
     "output_type": "stream",
     "text": [
      "Content: \n",
      " 모프는 릴리x노말 타이거타임? 이라던대  잘키워봐야징 헣 귀엽다  - dc official App\n",
      "\n"
     ]
    },
    {
     "name": "stderr",
     "output_type": "stream",
     "text": []
    },
    {
     "name": "stdout",
     "output_type": "stream",
     "text": [
      "Content: \n",
      "내일 한번 가볼까 고민중인데\n",
      "\n",
      "Comment: 사람 많긴한데 가볼만한듯 생각보다 막 크레판도 아니고 이것저것 신기한 것도 많고 난 괜찮았음 - dc App\n",
      "Comment: 크레판\n",
      "Comment: 비주류는 한 5프로 파우나 3군데랑,  아마쥬,  덕표내,  워터테일 이렇게? 중심적인듯 나머지는 크레 90프로 레게 10프로\n",
      "Comment: 시간낭비임 시장\n"
     ]
    },
    {
     "name": "stderr",
     "output_type": "stream",
     "text": []
    },
    {
     "name": "stdout",
     "output_type": "stream",
     "text": [
      "Content: \n",
      "몸이나 다리 머리에선 점안보이는데 핀중에 하나만 검정색이네 이거 점일까?\n",
      "\n"
     ]
    },
    {
     "name": "stderr",
     "output_type": "stream",
     "text": []
    },
    {
     "name": "stdout",
     "output_type": "stream",
     "text": [
      "Content: \n",
      "는 없고 렙코부스서 갤럭시 데려옴당연하겠지만 같은 크기 종류라도 부스마다 가격이 다르니 천천히 둘러보는 것을 추천합니다- dc official App\n",
      "\n"
     ]
    },
    {
     "name": "stderr",
     "output_type": "stream",
     "text": []
    },
    {
     "name": "stdout",
     "output_type": "stream",
     "text": [
      "Content: \n",
      "무생물이니까 똥 안치워도 되고 먹이는 줄 필요 없고온도, 습도 신경 쓸 필요 없다~생물 부담이면 피규어 사라엄청 귀엽더라1 이미지 순서 ON2 이미지 순서 ON3 이미지 순서 ON4 이미지 순서 ON5 이미지 순서 ON6 이미지 순서 ON\n",
      "\n",
      "Comment: 가격 내가 잘못본거냐?  - dc App\n",
      "Comment: 사람피규어는 비싸고 조형도 떨어지는데양서파충류 피규어는 퀄리티좋고 값도 저렴해서 ㄹㅇ가성빈듯   - dc App\n",
      "Comment: 퀄 좋다!!!\n",
      "Comment: 반다이 상물대도감이나 타오바오에서 사는게 퀄도 가격도 나음 피규어업계는\n"
     ]
    },
    {
     "name": "stderr",
     "output_type": "stream",
     "text": []
    },
    {
     "name": "stdout",
     "output_type": "stream",
     "text": [
      "Content: \n",
      "대전 파동에서 충동적으로 데려왔는데너무 맘에들어서 데려오자마자 2자 사육장 해주고이제 7일차 된 파충류 뉴비인데얘네 베이비때 원래 잠만자냐지난 화요일에 핑키도 먹이고금요일에는 탈피도 완벽하게 해줘서 다행히 건강한건 알겠는데활발히 움직이는걸 좀 보고싶은데(물론 새벽에는 열심히 움직이는지 아침에 일어나면 사육장 안에 베딩이 난장판이 돼있음)내가 활동하는 낮시간엔 진짜 자면서 뒤척이는거 빼면 움직이는걸 볼수가 없는디 대체 얘네 하루 수면시간이 몇시간임?검색해도 안나와서 파양갤로 왔음사진은 이제 좀 일어날 시간이 된거같아서깨워서 이불로 데려왔는데데려와서 잠깐 움직이더니 또 자리잡고 자는 딱복이(이름) 사진임\n",
      "\n",
      "Comment: 느\n",
      "Comment: 금\n",
      "Comment: 마\n",
      "Comment: 개색기들아 대답좀 해줘\n",
      "Comment: 기엽다 울집콘이랑같네 울집도 낮엔자고 밤에활동하는거같더라  - dc App\n",
      "Comment: 낮에 자다가 어두워지면 꼼지락거림\n",
      "Comment: 우리가 밤에 자는거철ㆍㅁ 쟤네도 아침에 잠\n",
      "Comment: 키운지 6개월됐는데;; 존나 간헐적으로 깨서 한두시간씩 움직임ㅋㄲㅋ 나머진 자는듯  - dc App\n"
     ]
    },
    {
     "name": "stderr",
     "output_type": "stream",
     "text": []
    },
    {
     "name": "stdout",
     "output_type": "stream",
     "text": [
      "Content: \n",
      "종 벌레부터, 곤충, 양서류, 파충류 다양한데?누가 크레판이래 이정도면 입장료 대비 혜자임다리가 아플정도2시간 보고 나옴1 이미지 순서 ON2 이미지 순서 ON3 이미지 순서 ON4 이미지 순서 ON5 이미지 순서 ON6 이미지 순서 ON7 이미지 순서 ON8 이미지 순서 ON9 이미지 순서 ON10 이미지 순서 ON11 이미지 순서 ON12 이미지 순서 ON13 이미지 순서 ON14 이미지 순서 ON15 이미지 순서 ON16 이미지 순서 ON17 이미지 순서 ON18 이미지 순서 ON19 이미지 순서 ON20 이미지 순서 ON21 이미지 순서 ON몇몇 사장도 아닌 직원 새끼들 싸가지 없이 툴툴 대면서 사육정보 말하던데참았다.. 좆도 모르는거 같은데 카멜레온도 난태생이 있구만 ''당연히 알로 낳죠'' ㅇㅈㄹ 나이도 어리 새끼가 수입만 하고 사육정보 좆도 모르는 직원들도 많으니까 정보 잘 찾아봐라 알려준게 틀린 걸수도 있음 파양판이 확실히 문신충, 가오충, 못배운 새끼가 많다는 건 사실임내일 갈꺼면 너무 일찍가지 마라. 오히려 몰릴 가능성 99%임3시쯤 가라 점심 지나서~  막타라 어차피 한번더 세일해주고 말만 잘하면에누리 해줄거다\n",
      "\n",
      "Comment: 파우더블루 7은 좀 끌리네  - dc App\n",
      "Comment: ㄱㅅㄱㅅ\n",
      "Comment: 자의로 참은거 맞냐..?\n",
      "Comment: 카멜은 엔제이가서 물어보면 다해결될듯 노재찡 쌉고수라\n"
     ]
    },
    {
     "name": "stderr",
     "output_type": "stream",
     "text": []
    },
    {
     "name": "stdout",
     "output_type": "stream",
     "text": [
      "Content: \n",
      "키티 팔레트 삼++++++++❣++❤+‍+❤+‍+❤++++++++++++키티 팔레트 삼++++++++❣++❤+‍+❤+‍+❤++++++++++++키티 팔레트 삼++++++++❣++❤+‍+❤+‍+❤++++++++++++키티 팔레트 삼++++++++❣++❤+‍+❤+‍+❤++++++++++++키티 팔레트 삼++++++++❣++❤+‍+❤+‍+❤++++++++++++키티 팔레트 삼++++++++❣++❤+‍+❤+‍+❤++++++++++++키티 팔레트 삼++++++++❣++❤+‍+❤+‍+❤++++++++++++키티 팔레트 삼++++++++❣++❤+‍+❤+‍+❤++++++++++++키티 팔레트 삼++++++++❣++❤+‍+❤+‍+❤++++++++++++키티 팔레트 삼++++++++❣++❤+‍+❤+‍+❤++++++++++++키티 팔레트 삼++++++++❣++❤+‍+❤+‍+❤++++++++++++키티 팔레트 삼++++++++❣++❤+‍+❤+‍+❤++++++++++++키티 팔레트 삼++++++++❣++❤+‍+❤+‍+❤++++++++++++키티 팔레트 삼++++++++❣++❤+‍+❤+‍+❤++++++++++++키티 팔레트 삼++++++++❣++❤+‍+❤+‍+❤++++++++++++키티 팔레트 삼++++++++❣++❤+‍+❤+‍+❤++++++++++++키티 팔레트 삼++++++++❣++❤+‍+❤+‍+❤++++++++++++키티 팔레트 삼++++++++❣++❤+‍+❤+‍+❤++++++++++++키티 팔레트 삼++++++++❣++❤+‍+❤+‍+❤++++++++++++키티 팔레트 삼++++++++❣++❤+‍+❤+‍+❤++++++++++++키티 팔레트 삼++++++++❣++❤+‍+❤+‍+❤++++++++++++키티 팔레트 삼++++++++❣++❤+‍+❤+‍+❤++++++++++++키티 팔레트 삼++++++++❣++❤+‍+❤+‍+❤++++++++++++키티 팔레트 삼++++++++❣++❤+‍+❤+‍+❤++++++++++++키티 팔레트 삼++++++++❣++❤+‍+❤+‍+❤++++++++++++키티 팔레트 삼++++++++❣++❤+‍+❤+‍+❤++++++++++++키티 팔레트 삼++++++++❣++❤+‍+❤+‍+❤++++++++++++키티 팔레트 삼++++++++❣++❤+‍+❤+‍+❤++++++++++++키티 팔레트 삼++++++++❣++❤+‍+❤+‍+❤++++++++++++키티 팔레트 삼++++++++❣++❤+‍+❤+‍+❤++++++++++++ \n",
      "\n"
     ]
    },
    {
     "name": "stderr",
     "output_type": "stream",
     "text": []
    },
    {
     "name": "stdout",
     "output_type": "stream",
     "text": [
      "Content: \n",
      "키티 팔레트 삼++++++++❣++❤+‍+❤+‍+❤++++++++++++키티 팔레트 삼++++++++❣++❤+‍+❤+‍+❤++++++++++++키티 팔레트 삼++++++++❣++❤+‍+❤+‍+❤++++++++++++키티 팔레트 삼++++++++❣++❤+‍+❤+‍+❤++++++++++++키티 팔레트 삼++++++++❣++❤+‍+❤+‍+❤++++++++++++키티 팔레트 삼++++++++❣++❤+‍+❤+‍+❤++++++++++++키티 팔레트 삼++++++++❣++❤+‍+❤+‍+❤++++++++++++키티 팔레트 삼++++++++❣++❤+‍+❤+‍+❤++++++++++++키티 팔레트 삼++++++++❣++❤+‍+❤+‍+❤++++++++++++키티 팔레트 삼++++++++❣++❤+‍+❤+‍+❤++++++++++++키티 팔레트 삼++++++++❣++❤+‍+❤+‍+❤++++++++++++키티 팔레트 삼++++++++❣++❤+‍+❤+‍+❤++++++++++++키티 팔레트 삼++++++++❣++❤+‍+❤+‍+❤++++++++++++키티 팔레트 삼++++++++❣++❤+‍+❤+‍+❤++++++++++++키티 팔레트 삼++++++++❣++❤+‍+❤+‍+❤++++++++++++키티 팔레트 삼++++++++❣++❤+‍+❤+‍+❤++++++++++++키티 팔레트 삼++++++++❣++❤+‍+❤+‍+❤++++++++++++키티 팔레트 삼++++++++❣++❤+‍+❤+‍+❤++++++++++++키티 팔레트 삼++++++++❣++❤+‍+❤+‍+❤++++++++++++키티 팔레트 삼++++++++❣++❤+‍+❤+‍+❤++++++++++++키티 팔레트 삼++++++++❣++❤+‍+❤+‍+❤++++++++++++키티 팔레트 삼++++++++❣++❤+‍+❤+‍+❤++++++++++++키티 팔레트 삼++++++++❣++❤+‍+❤+‍+❤++++++++++++키티 팔레트 삼++++++++❣++❤+‍+❤+‍+❤++++++++++++키티 팔레트 삼++++++++❣++❤+‍+❤+‍+❤++++++++++++키티 팔레트 삼++++++++❣++❤+‍+❤+‍+❤++++++++++++키티 팔레트 삼++++++++❣++❤+‍+❤+‍+❤++++++++++++키티 팔레트 삼++++++++❣++❤+‍+❤+‍+❤++++++++++++키티 팔레트 삼++++++++❣++❤+‍+❤+‍+❤++++++++++++키티 팔레트 삼++++++++❣++❤+‍+❤+‍+❤++++++++++++ \n",
      "\n"
     ]
    },
    {
     "name": "stderr",
     "output_type": "stream",
     "text": []
    },
    {
     "name": "stdout",
     "output_type": "stream",
     "text": [
      "Content: \n",
      "키티 팔레트 삼++++++++❣++❤+‍+❤+‍+❤++++++++++++키티 팔레트 삼++++++++❣++❤+‍+❤+‍+❤++++++++++++키티 팔레트 삼++++++++❣++❤+‍+❤+‍+❤++++++++++++키티 팔레트 삼++++++++❣++❤+‍+❤+‍+❤++++++++++++키티 팔레트 삼++++++++❣++❤+‍+❤+‍+❤++++++++++++키티 팔레트 삼++++++++❣++❤+‍+❤+‍+❤++++++++++++키티 팔레트 삼++++++++❣++❤+‍+❤+‍+❤++++++++++++키티 팔레트 삼++++++++❣++❤+‍+❤+‍+❤++++++++++++키티 팔레트 삼++++++++❣++❤+‍+❤+‍+❤++++++++++++키티 팔레트 삼++++++++❣++❤+‍+❤+‍+❤++++++++++++키티 팔레트 삼++++++++❣++❤+‍+❤+‍+❤++++++++++++키티 팔레트 삼++++++++❣++❤+‍+❤+‍+❤++++++++++++키티 팔레트 삼++++++++❣++❤+‍+❤+‍+❤++++++++++++키티 팔레트 삼++++++++❣++❤+‍+❤+‍+❤++++++++++++키티 팔레트 삼++++++++❣++❤+‍+❤+‍+❤++++++++++++키티 팔레트 삼++++++++❣++❤+‍+❤+‍+❤++++++++++++키티 팔레트 삼++++++++❣++❤+‍+❤+‍+❤++++++++++++키티 팔레트 삼++++++++❣++❤+‍+❤+‍+❤++++++++++++키티 팔레트 삼++++++++❣++❤+‍+❤+‍+❤++++++++++++키티 팔레트 삼++++++++❣++❤+‍+❤+‍+❤++++++++++++키티 팔레트 삼++++++++❣++❤+‍+❤+‍+❤++++++++++++키티 팔레트 삼++++++++❣++❤+‍+❤+‍+❤++++++++++++키티 팔레트 삼++++++++❣++❤+‍+❤+‍+❤++++++++++++키티 팔레트 삼++++++++❣++❤+‍+❤+‍+❤++++++++++++키티 팔레트 삼++++++++❣++❤+‍+❤+‍+❤++++++++++++키티 팔레트 삼++++++++❣++❤+‍+❤+‍+❤++++++++++++키티 팔레트 삼++++++++❣++❤+‍+❤+‍+❤++++++++++++키티 팔레트 삼++++++++❣++❤+‍+❤+‍+❤++++++++++++키티 팔레트 삼++++++++❣++❤+‍+❤+‍+❤++++++++++++키티 팔레트 삼++++++++❣++❤+‍+❤+‍+❤++++++++++++ \n",
      "\n"
     ]
    },
    {
     "name": "stderr",
     "output_type": "stream",
     "text": []
    },
    {
     "name": "stdout",
     "output_type": "stream",
     "text": [
      "Content: \n",
      "키티 팔레트 삼++++++++❣++❤+‍+❤+‍+❤++++++++++++키티 팔레트 삼++++++++❣++❤+‍+❤+‍+❤++++++++++++키티 팔레트 삼++++++++❣++❤+‍+❤+‍+❤++++++++++++키티 팔레트 삼++++++++❣++❤+‍+❤+‍+❤++++++++++++키티 팔레트 삼++++++++❣++❤+‍+❤+‍+❤++++++++++++키티 팔레트 삼++++++++❣++❤+‍+❤+‍+❤++++++++++++키티 팔레트 삼++++++++❣++❤+‍+❤+‍+❤++++++++++++키티 팔레트 삼++++++++❣++❤+‍+❤+‍+❤++++++++++++키티 팔레트 삼++++++++❣++❤+‍+❤+‍+❤++++++++++++키티 팔레트 삼++++++++❣++❤+‍+❤+‍+❤++++++++++++키티 팔레트 삼++++++++❣++❤+‍+❤+‍+❤++++++++++++키티 팔레트 삼++++++++❣++❤+‍+❤+‍+❤++++++++++++키티 팔레트 삼++++++++❣++❤+‍+❤+‍+❤++++++++++++키티 팔레트 삼++++++++❣++❤+‍+❤+‍+❤++++++++++++키티 팔레트 삼++++++++❣++❤+‍+❤+‍+❤++++++++++++키티 팔레트 삼++++++++❣++❤+‍+❤+‍+❤++++++++++++키티 팔레트 삼++++++++❣++❤+‍+❤+‍+❤++++++++++++키티 팔레트 삼++++++++❣++❤+‍+❤+‍+❤++++++++++++키티 팔레트 삼++++++++❣++❤+‍+❤+‍+❤++++++++++++키티 팔레트 삼++++++++❣++❤+‍+❤+‍+❤++++++++++++키티 팔레트 삼++++++++❣++❤+‍+❤+‍+❤++++++++++++키티 팔레트 삼++++++++❣++❤+‍+❤+‍+❤++++++++++++키티 팔레트 삼++++++++❣++❤+‍+❤+‍+❤++++++++++++키티 팔레트 삼++++++++❣++❤+‍+❤+‍+❤++++++++++++키티 팔레트 삼++++++++❣++❤+‍+❤+‍+❤++++++++++++키티 팔레트 삼++++++++❣++❤+‍+❤+‍+❤++++++++++++키티 팔레트 삼++++++++❣++❤+‍+❤+‍+❤++++++++++++키티 팔레트 삼++++++++❣++❤+‍+❤+‍+❤++++++++++++키티 팔레트 삼++++++++❣++❤+‍+❤+‍+❤++++++++++++키티 팔레트 삼++++++++❣++❤+‍+❤+‍+❤++++++++++++ \n",
      "\n"
     ]
    },
    {
     "name": "stderr",
     "output_type": "stream",
     "text": []
    },
    {
     "name": "stdout",
     "output_type": "stream",
     "text": [
      "Content: \n",
      "키티 팔레트 삼++++++++❣++❤+‍+❤+‍+❤++++++++++++키티 팔레트 삼++++++++❣++❤+‍+❤+‍+❤++++++++++++키티 팔레트 삼++++++++❣++❤+‍+❤+‍+❤++++++++++++키티 팔레트 삼++++++++❣++❤+‍+❤+‍+❤++++++++++++키티 팔레트 삼++++++++❣++❤+‍+❤+‍+❤++++++++++++키티 팔레트 삼++++++++❣++❤+‍+❤+‍+❤++++++++++++키티 팔레트 삼++++++++❣++❤+‍+❤+‍+❤++++++++++++키티 팔레트 삼++++++++❣++❤+‍+❤+‍+❤++++++++++++키티 팔레트 삼++++++++❣++❤+‍+❤+‍+❤++++++++++++키티 팔레트 삼++++++++❣++❤+‍+❤+‍+❤++++++++++++키티 팔레트 삼++++++++❣++❤+‍+❤+‍+❤++++++++++++키티 팔레트 삼++++++++❣++❤+‍+❤+‍+❤++++++++++++키티 팔레트 삼++++++++❣++❤+‍+❤+‍+❤++++++++++++키티 팔레트 삼++++++++❣++❤+‍+❤+‍+❤++++++++++++키티 팔레트 삼++++++++❣++❤+‍+❤+‍+❤++++++++++++키티 팔레트 삼++++++++❣++❤+‍+❤+‍+❤++++++++++++키티 팔레트 삼++++++++❣++❤+‍+❤+‍+❤++++++++++++키티 팔레트 삼++++++++❣++❤+‍+❤+‍+❤++++++++++++키티 팔레트 삼++++++++❣++❤+‍+❤+‍+❤++++++++++++키티 팔레트 삼++++++++❣++❤+‍+❤+‍+❤++++++++++++키티 팔레트 삼++++++++❣++❤+‍+❤+‍+❤++++++++++++키티 팔레트 삼++++++++❣++❤+‍+❤+‍+❤++++++++++++키티 팔레트 삼++++++++❣++❤+‍+❤+‍+❤++++++++++++키티 팔레트 삼++++++++❣++❤+‍+❤+‍+❤++++++++++++키티 팔레트 삼++++++++❣++❤+‍+❤+‍+❤++++++++++++키티 팔레트 삼++++++++❣++❤+‍+❤+‍+❤++++++++++++키티 팔레트 삼++++++++❣++❤+‍+❤+‍+❤++++++++++++키티 팔레트 삼++++++++❣++❤+‍+❤+‍+❤++++++++++++키티 팔레트 삼++++++++❣++❤+‍+❤+‍+❤++++++++++++키티 팔레트 삼++++++++❣++❤+‍+❤+‍+❤++++++++++++ \n",
      "\n"
     ]
    },
    {
     "name": "stderr",
     "output_type": "stream",
     "text": []
    },
    {
     "name": "stdout",
     "output_type": "stream",
     "text": [
      "Content: \n",
      "개추 부탁한다 \n",
      "\n",
      "Comment: 씹추!!\n",
      "Content: \n",
      "뭔 베이비가 이렇게 포악함\n",
      "\n",
      "Comment: ㅋㅌㅋㅋㅋㅋㅋㅋ독두꺼비됐네\n",
      "Comment: 베르세르크에 나오는 괴물같넼ㅋㅋㅋ\n",
      "Comment: 존나 음흉하넼ㅋㅋㅋㅋㅋ  - dc App\n",
      "Comment: 그래도 애가 윤기가 있고 깔끔하내\n",
      "Comment: 귀엽네   - dc App\n",
      "Comment: 계속 먹여ㅋ  - dc App\n",
      "Comment: 애가 두꺼비가 됐냐  - dc App\n",
      "Comment: 이건 베이비가 아냐!\n",
      "Comment: 개귀엽다\n"
     ]
    },
    {
     "name": "stderr",
     "output_type": "stream",
     "text": []
    },
    {
     "name": "stdout",
     "output_type": "stream",
     "text": [
      "Content: \n",
      "\n",
      "\n"
     ]
    },
    {
     "name": "stderr",
     "output_type": "stream",
     "text": []
    },
    {
     "name": "stdout",
     "output_type": "stream",
     "text": [
      "Content: \n",
      "ㅇㄷㄴㅂㅌㅋㅋㅋㅋㅋㅋㅋㅋㅋㅋㅋㅋ- dc official App\n",
      "\n",
      "Comment: ㅋㅋㅋㅋㅋㅋㅋㅋㅋㅋㅋ 햄복 ㅠ\n"
     ]
    },
    {
     "name": "stderr",
     "output_type": "stream",
     "text": []
    },
    {
     "name": "stdout",
     "output_type": "stream",
     "text": [
      "Content: \n",
      "손톱만한 개구리인데내가 어제 저녁에 밑에 그림에 노란색 원 있는곳에 있는걸 발견 했음그때 구출 실패해서 어딘가로 튀었는데, 새벽 1시쯤에 나와보니 또 저기 올라가 있더라구.그때는 잘 잡아서 오른쪽 화단쪽으로 옮겨 줬음.아까 30분 전쯤에 가보니 어떻게 또 저기까지 가서 앉아있네..;;;또 화단으로 옮겨주긴 했는데, 이따 또 새벽에 가봐야겠다.어떻게 저기까지 갔는지도 의문인데,왜 자꾸 저기로 가는거임?\n",
      "\n",
      "Comment: 몰라\n"
     ]
    },
    {
     "name": "stderr",
     "output_type": "stream",
     "text": [
      "\n"
     ]
    },
    {
     "name": "stdout",
     "output_type": "stream",
     "text": [
      "Content: \n",
      " - dc official App\n",
      "\n",
      "Comment: 직원\n",
      "Comment: 와 뭐야 나도직원할래  - dc App\n"
     ]
    },
    {
     "name": "stderr",
     "output_type": "stream",
     "text": [
      " 35%|███▍      | 17/49 [00:39<01:05,  2.06s/it]\u001b[A"
     ]
    },
    {
     "name": "stdout",
     "output_type": "stream",
     "text": [
      "Content: \n",
      "1 이미지 순서 ON바게 바게트 2 이미지 순서 ON어린 엠페러뉴트 3 이미지 순서 ON4 이미지 순서 ONnj 수입! 5 이미지 순서 ON카멜도 키워보고싶긴 하다 6 이미지 순서 ON요나구니 가격대가 생각보다 꽤 있음 7 이미지 순서 ON쿠밍기 8 이미지 순서 ON밍기적 사람 많음 펫테일게코가 레오파드게코보다 많은 느낌 호서전문학교와 오산대에서 비주류로 제대로 홍보한 거 같다 비주류가 종류가 꽤 있어서 볼만했다 크레 경매 주작업체는 다른 곳에 비해서 휑~ 그래도 모르는 사람들은 가겠지만.. 온 몸이 문신가득한 사람도 있었고 양양 옷차림도 있었고 진짜 여러모로 다양한 행사 \n",
      "\n",
      "Comment: 경매주작업체 이름 뭐임?\n",
      "Comment: 펫테일 많으면 함 가볼만한디 가격은 어떰?\n",
      "Comment: 오 바이퍼있네\n",
      "Comment: 벰 많음?? 드디어 내일 간다 너무 기대된다\n",
      "Comment: ㅇㄴㄱㄴ ㅇㅁ?\n",
      "Comment: 저런데 꾸밍기는얼마임?\n",
      "Comment: 뉴트 ㅇㅁ?\n",
      "Comment: Nj수입예약 존내마렵다\n"
     ]
    },
    {
     "name": "stderr",
     "output_type": "stream",
     "text": []
    },
    {
     "name": "stdout",
     "output_type": "stream",
     "text": [
      "Content: \n",
      "갤에 태ㅇㅇ머시기인가 어그로끌고 존나까불던놈있는데 자꾸시비걸길레 같은지방산다는거알고 나오라했음 진짜나왔는데 진짜 전형적인 사회부적응자 모습에 집도 다뿌서져가는 빌라였음 불쌍해서 차에타라해서 감자탕 사먹이고 5만원인가 용돈쥐어주고보낸기억나네 잘사냐  잘살리가없겟지  그뒤로 어디갤을가던 보랄발광하는새끼들보면 그새끼 오버랩되서 웃김  - dc official App\n",
      "\n",
      "Comment: 내가 아는사람얘기해줄게~ - dc App\n",
      "Comment: 그래서 했냐?  - dc App\n"
     ]
    },
    {
     "name": "stderr",
     "output_type": "stream",
     "text": []
    },
    {
     "name": "stdout",
     "output_type": "stream",
     "text": [
      "Content: \n",
      "사진좀\n",
      "\n",
      "Comment: 슈퍼 펫테루 ㄷㄷ\n"
     ]
    },
    {
     "name": "stderr",
     "output_type": "stream",
     "text": []
    },
    {
     "name": "stdout",
     "output_type": "stream",
     "text": [
      "Content: \n",
      "쌉니다 싸요 수명 1주일\n",
      "\n",
      "Comment: 몇주 몇달전에도 수명 1주일이라고 했는데지금파는건 예토전생함?\n"
     ]
    },
    {
     "name": "stderr",
     "output_type": "stream",
     "text": []
    },
    {
     "name": "stdout",
     "output_type": "stream",
     "text": [
      "Content: \n",
      "암컷들 안팔리노  - dc official App\n",
      "\n",
      "Comment: ㄹㅇ..? 하 씨발.. 담주에 한 30마리 분양해야대는디 좆됐네\n",
      "Comment: 만원에 제가 데려감\n"
     ]
    },
    {
     "name": "stderr",
     "output_type": "stream",
     "text": []
    },
    {
     "name": "stdout",
     "output_type": "stream",
     "text": [
      "Content: \n",
      "투자사기 아님?  ?_?   - dc official App\n",
      "\n",
      "Comment: 크레도 이제 투자종목인데 투자 사기 아닌가요?   - dc App\n",
      "Comment: 추하다 106.101 게이야.. 그만해 !_!\n",
      "Comment: ;_;  - dc App\n",
      "Content: \n",
      "이번 행사 보니까 크레 입양 마렵네... 난 크레는 안하는데 최근 행사도 열고 크레값도 싸다고 하던데 초기자본 200만원 정도만 넣어서 세이블 그룹 맞추면 최저시급 벌면서 유튜브 넷플릭스 보는 거잖아 이정도면 나름 할만하지 않나? 나중에 크레 다 팔면 돈도 다 회수 가능하고 좋을거 같은데.. 그리고 곧있으면 행사 열릴 시기라 지금이 저점이라고 들었음 넷플릭스 보면서 돈 벌면 개꿀아님? 이건 안하면 그게 더 이상한것같음ㅋㅋ..ㅋㅋ  - dc official App\n",
      "\n",
      "Comment: ㅋㅋㅋㅋㅋ이게 대체 무슨 바이럴이노 ㅠㅠ\n",
      "Comment: 매번 같은 글 홍보 왜하냐\n",
      "Comment: 사장님 아갈쳐다물고 빚이나 갚으세요 그지걸뱅이ㅅㄲ야^^/\n",
      "Comment: 역시 정상화의 신 신창섭\n"
     ]
    },
    {
     "name": "stderr",
     "output_type": "stream",
     "text": []
    },
    {
     "name": "stdout",
     "output_type": "stream",
     "text": [
      "Content: \n",
      "그때는 이 크레지옥도 아니었고 비주류도 많았었음…\n",
      "\n",
      "Comment: 그때 레게 블블이 존나 꼴렸는디 하..\n",
      "Comment: 어유 븡신같은소리만 하고앉았네\n"
     ]
    },
    {
     "name": "stderr",
     "output_type": "stream",
     "text": []
    },
    {
     "name": "stdout",
     "output_type": "stream",
     "text": [
      "Content: \n",
      "결국 니들이 최고 소비자임 항상 고맙다 낭낭~~~!\n",
      "\n"
     ]
    },
    {
     "name": "stderr",
     "output_type": "stream",
     "text": []
    },
    {
     "name": "stdout",
     "output_type": "stream",
     "text": [
      "Content: \n",
      "낼 가려했는데 웨이팅 씨발이면 굳이인데 \n",
      "\n",
      "Comment: 비퍙인 비중이 역대급인듯 가족단위도 많고\n",
      "Comment: 한미디로 좆됨갈거면 30분전에 도착해서 줄서는게 신상에 이로움 14시에 나올때보니까 주차줄도 뒤지고안에 사람 너무 많아서 입장객 조절할려고표줄도 1시간 넘게 대기하고 그러더라\n"
     ]
    },
    {
     "name": "stderr",
     "output_type": "stream",
     "text": []
    },
    {
     "name": "stdout",
     "output_type": "stream",
     "text": [
      "Content: \n",
      "헤비가 다맞고 옳음ㅇㅇ그니까 뼈맞고 찔리는 밀수사기업자들이 익명으로 여론선동하고 바람잡이해서 몰아가려하고 그런거임ㅇㅇ\n",
      "\n",
      "Comment: 개인취미사육자 1%크레 업자 및 업자 지망생 99%찻집 인구 분포도다헤비가 옳은얘기해도 쳐맞는게 어찌보면 당연한듯그나마 99%중에 법안나올거만 제대로 알아도50%는 헤비편 될듯 아직 돈 많이 안담군 업자 지망생들은 살길 남음  - dc App\n",
      "Content: \n",
      "법안에 대해서 찻집에서도 좀 다뤄야하지 않겠냐? 정당한 크레 투자자의 알권리 아니냐? ㅋ 아무것도 모르고 돈 투자하는놈들 너 가만히 냅둘꺼냐 찻집 단속반인데? 니 샵 접고나서야 찻집 네임드 되고있는거같으니 꿈을 펼쳐봐   - dc official App\n",
      "\n",
      "Comment: 이미 다른 애가 대학생 머시기가 선빵쳐서 지는 아닌 업자인척 다룸 ㅇㅇ  - dc App\n",
      "Comment: 헤비가 다맞고 옳음ㅇㅇ그니까 뼈맞고 찔리는 밀수사기업자들이 익명으로 여론선동하고 바람잡이해서 몰아가려하고 그런거임ㅇㅇ\n",
      "Comment: 뭐라쓸까ㅋㅋ\n"
     ]
    },
    {
     "name": "stderr",
     "output_type": "stream",
     "text": []
    },
    {
     "name": "stdout",
     "output_type": "stream",
     "text": [
      "Content: \n",
      "병신들 ㅋ  - dc official App\n",
      "\n"
     ]
    },
    {
     "name": "stderr",
     "output_type": "stream",
     "text": []
    },
    {
     "name": "stdout",
     "output_type": "stream",
     "text": [
      "Content: \n",
      "끝까지갈듯  - dc official App\n",
      "\n",
      "Comment: 모르긴 몰라도 개고양이 아닌 특정 애완동물 번창은, 고려시대 응방 매키우는거 빼고 최다일듯\n"
     ]
    },
    {
     "name": "stderr",
     "output_type": "stream",
     "text": []
    },
    {
     "name": "stdout",
     "output_type": "stream",
     "text": [
      "Content: \n",
      "인스스 노래 존나 잘 부르네 \n",
      "\n",
      "Comment: 에스치낫 나한테 팔로워걸던데 안받아줬음 ㅁㅌㅊ?\n"
     ]
    },
    {
     "name": "stderr",
     "output_type": "stream",
     "text": []
    },
    {
     "name": "stdout",
     "output_type": "stream",
     "text": [
      "Content: \n",
      "붙이류새끼들 싹다뒤지자 렉사 업체 꽤 타격가겠네이제 ㅇㅇ 유기를 하든 말든 국회는 밀어붙인다니 기대하자  - dc official App\n",
      "\n",
      "Comment: ㅋㅋ허가제라 개인이 허가를 받고 분양을 하겠지ㅎ\n",
      "Comment: ㅅㅅㅅ\n"
     ]
    },
    {
     "name": "stderr",
     "output_type": "stream",
     "text": []
    },
    {
     "name": "stdout",
     "output_type": "stream",
     "text": [
      "Content: \n",
      "여기서도 더 안믿으면 몰라.. 믿고 싶은거 믿으시고...\n",
      "\n",
      "Comment: 나 치킨 사줘\n",
      "Comment: 돈아깝다\n",
      "Comment: 이야.. 진짜 돈 땅바닥에 버리네 ..ㅋㅋㅋ ㄹㅈㄷ다 ㅋㅋㅋ\n",
      "Comment: 낭형 화이팅이야여기 35000원도 없는 그지 새끼들 뿐이라 방구석 열등감들 뿐이니까 신경 끄고 많이 벌어서 취기가 좋은 행사도 많이 열어줘\n",
      "Comment: 근데 법안관련 고지는함?   - dc App\n",
      "Comment: 저사람이 파사모 위드게코 계정 쓰는 사람임?\n",
      "Comment: 노좆방에 먼 아갈턴거아님?\n",
      "Comment: 노좆~\n",
      "Comment: 저돈 쓸 재력도 부럽지만 참 거지같은데 돈쓰네ㅋ\n",
      "Comment: 돈 많음 모.근데 그거 아님  어쩌냐ㅠㅠ\n",
      "Comment: 미쳤다 저딴걸 왜사냐 집갈때 마블타고다니냐 생긴거 노말이하\n",
      "Comment: 위드게코 오늘 개씹호구잡아서 집에서개다리춤 출듯마계인천 개쓰러져가는 빌라 살것 같은데로또맞은 듯\n",
      "Comment: 흠..\n",
      "Comment: 크레노조 낭사장\n",
      "Comment: 여기 디시는 다 허언뿐이라고 증명해주는 ㅋㅋㅋㅋㅋㅋㅋㅋㅋㅋ\n",
      "Comment: 어차피 취소하면 그만인 현영가지고 지랄도 가지가지한다 ㅋㅋㅋㅋ\n",
      "Comment: 거래시간은 왜 지움?\n"
     ]
    },
    {
     "name": "stderr",
     "output_type": "stream",
     "text": []
    },
    {
     "name": "stdout",
     "output_type": "stream",
     "text": [
      "Content: \n",
      "살아는있나 ㅋ 살아있으면 갤에 크레 욕 존나 하는애중 하나일듯한데 ㅋㅋ  - dc official App\n",
      "\n",
      "Comment: 너보다 잘살듯\n",
      "Comment: ㅂㅅ눈엔 ㅂㅅ만 생각난다고 - dc App\n",
      "Comment: 근데 너는 그럴 돈도 없는거 아님?\n"
     ]
    },
    {
     "name": "stderr",
     "output_type": "stream",
     "text": []
    },
    {
     "name": "stdout",
     "output_type": "stream",
     "text": [
      "Content: \n",
      "1. 행사가 많네 뭐니 해도 아직 사람 쥰내 많음 2. 가족단위 및 커플로 오는 사람들 많음 3. 남녀성비 이제 6:4까지 가는듯 4. 크레밭은 아니고 생각보다 대형충 및 비얌들 비중 있음 5. 양서류는 ㄹㅇ 멸망함 6. 입장이 역대급으로 지연되는데 보완 필요할듯 \n",
      "\n",
      "Comment: 양서류 별로 없었어?? 토드나 밀키프록 등..\n",
      "Comment: 낼가면 사람 좀 없으려나\n",
      "Comment: 솔까 양서류 물냄새\n",
      "Comment: 입장 지연은 별 수 없는듯. 회장 내부에 사람 너무 많아서..\n"
     ]
    },
    {
     "name": "stderr",
     "output_type": "stream",
     "text": []
    },
    {
     "name": "stdout",
     "output_type": "stream",
     "text": [
      "Content: \n",
      "1 이미지 순서 ON2 이미지 순서 ON3 이미지 순서 ON날씨 종나 더워서 요즘 베란다에 둔다 나이 이제 10살 접어드는데 그냥 탱크다. 점점 크면서 더 건강해지는듯\n",
      "\n",
      "Comment: 10년째 기르고 있는거야?? 멋지당\n",
      "Comment: 어케살앗노  - dc App\n",
      "Comment: 추자 들어간거 먹이면 안되지 않나?\n"
     ]
    },
    {
     "name": "stderr",
     "output_type": "stream",
     "text": []
    },
    {
     "name": "stdout",
     "output_type": "stream",
     "text": [
      "Content: \n",
      "크레만함?사키시마그래스 못구함?\n",
      "\n",
      "Comment: 크레 키울바에 송장메뚜기 키우는 게 이득\n",
      "Comment: 이제 다양성이라 함은 크레 모프의 다양성만 남았다..\n",
      "Comment: ㅋㅋㅋㅋ오히려 크레덕에 비주류도 팔리는건 모르나봄ㅎ 비주류 키우는 사람은 예나 지금이나 똑같지만, 크레만 키우다 레게 펫텔  가고일 리키 토케이까지 입양하는 사람 ㅈㄴ 많은데ㅎ\n",
      "Comment: 감히 비주류가 지옥행이라고? 지옥행이면 감지덕지 아니냐 비주류는 그냥 無무 자체임ㅋㅋㅋ  - dc App\n"
     ]
    },
    {
     "name": "stderr",
     "output_type": "stream",
     "text": []
    },
    {
     "name": "stdout",
     "output_type": "stream",
     "text": [
      "Content: \n",
      " - dc official App\n",
      "\n",
      "Comment: 커피빵이욤\n",
      "Comment: 맹꽁  - dc App\n",
      "Comment: 감자떡 개구리\n"
     ]
    },
    {
     "name": "stderr",
     "output_type": "stream",
     "text": []
    },
    {
     "name": "stdout",
     "output_type": "stream",
     "text": [
      "Content: \n",
      "ㄹㅇ 무슨 깡으로 사는걸까..?100헷도 못믿는데 50헷은 진짜 리스펙 한다\n",
      "\n",
      "Comment: 사는게 솔직히 ㅂㅅ이지 ㅋㅋㅋㅋㅋ 안사면됨\n",
      "Comment: 50사는새끼가있음? ㅋㅋㅋ  - dc App\n",
      "Comment: 초초헷50..... 오늘 초초 실물 봤는데 예쁘긴한데 가격이 맞나 싶음\n"
     ]
    },
    {
     "name": "stderr",
     "output_type": "stream",
     "text": []
    },
    {
     "name": "stdout",
     "output_type": "stream",
     "text": [
      "Content: \n",
      "1 이미지 순서 ON2 이미지 순서 ON3 이미지 순서 ON오늘보니 썩어서 오그라든 부위가 사라져있음 저절로 떨어졌나??? 다행이다 4 이미지 순서 ON그거랑 지금 매일 밀웜먹어서 뚱땡이됨 발색도 훅올라오는중 \n",
      "\n",
      "Comment: 거봐 ㅋㅋㅋ 내비두면 ㄱㅊ아지는 정도였다니깐ㅋㅋㅋㅋㅋ\n",
      "Comment: ㅊㅊ\n"
     ]
    },
    {
     "name": "stderr",
     "output_type": "stream",
     "text": []
    },
    {
     "name": "stdout",
     "output_type": "stream",
     "text": [
      "Content: \n",
      "진짜 들어갈 틈새라고는 침대하나밖에 없고 창문 높고 닫혀있고 올라갈만한 줄도 없는데 침대틈새 내시경 카메라로 뒤져도 없음;; 죽었으면 시체라도 있어야하는데 없는거면 걍 나간건가? \n",
      "\n",
      "Comment: 너가 보지않은 곳에 숨어 있을 뿐.. 늘 그러하듯 인내심을 갖고 기다리면서 찾아보거라..\n",
      "Comment: 냉장고 뒤에 엄청 따뜻해서 거기에서 몸 지지고 있을 수도 - dc App\n"
     ]
    },
    {
     "name": "stderr",
     "output_type": "stream",
     "text": []
    },
    {
     "name": "stdout",
     "output_type": "stream",
     "text": [
      "Content: \n",
      "내가 크레에 관심이 없으니 점점 가고싶은 생각이 없어지네\n",
      "\n",
      "Comment: 극혐크래\n"
     ]
    },
    {
     "name": "stderr",
     "output_type": "stream",
     "text": []
    },
    {
     "name": "stdout",
     "output_type": "stream",
     "text": [
      "Content: \n",
      "핀셋피딩은 잘 안하려하고 사냥은 곧잘해서 다리떼고 주려는데 괜춘?\n",
      "\n",
      "Comment: ㅇㅇㅇㄱㅊㄱㅊ 근데 일정시간 지났는데도 안먹으면 다시 빼주는거 추천한당\n"
     ]
    },
    {
     "name": "stderr",
     "output_type": "stream",
     "text": []
    },
    {
     "name": "stdout",
     "output_type": "stream",
     "text": [
      "Content: \n",
      "맞냐 진짜 ..? 다들 부자구나..\n",
      "\n",
      "Comment: 부럽당\n",
      "Comment: 내가 봤을땐 모프 헷작업 용으로 데려갔을거같음. 아마 마초헷이 마잔헷 작업하려고 데려갔을듯ㅇㅇ\n",
      "Comment: 그렌져 깡통대신 초초몰고 가세요\n"
     ]
    },
    {
     "name": "stderr",
     "output_type": "stream",
     "text": []
    },
    {
     "name": "stdout",
     "output_type": "stream",
     "text": [
      "Content: \n",
      "떡하니 3500올리는거 보니 누가봐도 친한놈 350에 주고 3500 자랑 오지구요  이렇게 시세 만들어보려하지만 현실은 모노크롬 이하임   - dc official App\n",
      "\n",
      "Comment: ㅋㅋㅋㅋㅋ  - dc App\n"
     ]
    },
    {
     "name": "stderr",
     "output_type": "stream",
     "text": []
    },
    {
     "name": "stdout",
     "output_type": "stream",
     "text": [
      "Content: \n",
      "얼마 안남앗다는건가 초초프리미엄도  - dc official App\n",
      "\n",
      "Comment: 2년가겠냐ㅋㅋㅋ\n",
      "Comment: 솔까 크레 50이상 받으려는 놈들은 제정신 아님사는 놈도 파는 놈도\n",
      "Comment: 레바사셈\n"
     ]
    },
    {
     "name": "stderr",
     "output_type": "stream",
     "text": []
    },
    {
     "name": "stdout",
     "output_type": "stream",
     "text": [
      "Content: \n",
      "슬슬 가볼까 하는데\n",
      "\n",
      "Comment: 사람겁나많다 시큼한육수땀내 오지게남 - dc App\n"
     ]
    },
    {
     "name": "stderr",
     "output_type": "stream",
     "text": []
    },
    {
     "name": "stdout",
     "output_type": "stream",
     "text": [
      "Content: \n",
      "ㅈㄴ 초초 거리는 데 역겨운 게이새끼들\n",
      "\n"
     ]
    },
    {
     "name": "stderr",
     "output_type": "stream",
     "text": [
      "100%|██████████| 49/49 [01:55<00:00,  2.36s/it]\n",
      " 17%|█▋        | 5/29 [10:50<51:17, 128.24s/it]"
     ]
    },
    {
     "name": "stdout",
     "output_type": "stream",
     "text": [
      "Content: \n",
      "줄장지인지 아무르인지.. 잘 모르겠는데 아버지가 창고 청소하시다 말라죽은거 찾으심 혹시 무슨 종류인지 시체보고도 알 수 있음? \n",
      "\n",
      "Comment: 줄장지뱀\n"
     ]
    },
    {
     "name": "stderr",
     "output_type": "stream",
     "text": []
    },
    {
     "name": "stdout",
     "output_type": "stream",
     "text": [
      "Content: \n",
      "탈장때문에 병원 다녀온 뒤 약3일치 먹였는데도 빈혈때문인지 무기력하고 거식와서 새로산 풀무치랑 귀뚜라미 안 먹어서 푸디파이 사서 묽게 타서 먹였는데 잘 핥아먹음 남은건 다른에들한테 줬는게 엄청 잘먹는다  - dc official App\n",
      "\n"
     ]
    },
    {
     "name": "stderr",
     "output_type": "stream",
     "text": []
    },
    {
     "name": "stdout",
     "output_type": "stream",
     "text": [
      "Content: \n",
      "아직도 자기만의 세상에서 살아가는 망상가 혹은 몽상가 그 이상 그 이하도 아니다맨날 자위질 하면서 남탓과 자기가 이판에 영향을 줄수 있다고 굳게 믿고 있다하지만 자기 자신은 좆도 아니라는 걸 자기도 알고 있는거 같다찾집만 봐도 자기는 출처 밝히라고 하는데 알려달라고 하는 사람한테 나는 이제 알려줄 의무가 없다 시전 ㅋㅋㅋㅋㅋㅋㅋㅋㅋㅋㅋㅋㅋ그러다 계속 알려달라고 하니 그때서야 찔끔찔끔 알려줌ㅋ 그리고 역병 생물 보내줌 ㅋㅋㅋㅋㅋㅋㅋㅋㅋㅋㅋㅋㅋㅋㅋㅋㅋㅋㅋㅋㅋㅋㅋㅋㅋ그래서 그거 따지고 통녹 되있다고 통녹 확인고?? 이러니개쫄았지만 안쫄은척 까봐까봐 하지만사실은 개쫄아서 까면 너 고소함 시전 함쫄지도 않고 자기가 잘못이 없었으면 오히려 통녹 공개 하라고 하겠지자신의 무죄도 사람들 한테 인정 받는 동시에 그 사람 무덤을 자기가 파는 길이니까하지만 무서워서 고소드립 ㅋㅋㅋㅋㅋㅋㅋㅋㅋㅋㅋㅋㅋㅋㅋㅋㅋㅋㅋㅋㅋㅋㅋㅋㅋ까보라고는 하지만 고소할꺼야!!!!!!!!!!!!!!!!!!!!!!!!!!! 시전하면 진짜 찌질해 보이잖아아니면 전에 바들바들 떨리던거 이번에도 그럴까봐 그러는 건가????여윽시 ㅎㅂ는 이게 맞아 개쫄보 남탓 몽상가 망상가둡액이보다 못한 찌질이 ㅋㅋㅋㅋㅋㅋㅋㅋㅋㅋㅋㅋㅋㅋㅋㅋㅋㅋㅋㅋㅋㅋ잘 봐봐 자기가 말한거 중에 지킨거 얼마나 있나 ㅋㅋㅋㅋㅋㅋㅋㅋㅋㅋㅋㅋㅋㅋㅋㅋㅋㅋㅋㅋ마약 까발린다는거 절대 못깜 자꾸 귀찮게 한다고 하는데 마약 자기도 껴있으니 못까는거 아냐? ㅋㅋㅋㅋㅋㅋㅋㅋㅋㅋㅋㅋㅋ\n",
      "\n",
      "Comment: 정신없는 소리 해대는거 보면 본인 얘기 아닌가 싶음..ㅎ\n",
      "Comment: ㅎㅂ나 ㅎㅂ이나 도찐개찐  - dc App\n"
     ]
    },
    {
     "name": "stderr",
     "output_type": "stream",
     "text": []
    },
    {
     "name": "stdout",
     "output_type": "stream",
     "text": [
      "Content: \n",
      "구독해달라서 했더니 영상엔 씨발 아저씨가 여과기소개하는거 밖에 없노  - dc official App\n",
      "\n",
      "Comment: 여미새는 도태가 답임\n",
      "Comment: 병신\n",
      "Comment: ㅋㅋㅋㅋㅋㅋ\n"
     ]
    },
    {
     "name": "stderr",
     "output_type": "stream",
     "text": []
    },
    {
     "name": "stdout",
     "output_type": "stream",
     "text": [
      "Content: \n",
      "ㅇㅈ\n",
      "\n"
     ]
    },
    {
     "name": "stderr",
     "output_type": "stream",
     "text": [
      "\n",
      " 12%|█▏        | 6/49 [00:15<01:50,  2.58s/it]"
     ]
    },
    {
     "name": "stdout",
     "output_type": "stream",
     "text": [
      "Content: \n",
      "모노크롬 팬텀 급 모노크롬 지금 어찌됬는지 봤쟤?  - dc official App\n",
      "\n",
      "Comment: 쉿  - dc App\n",
      "Comment: 풉\n"
     ]
    },
    {
     "name": "stderr",
     "output_type": "stream",
     "text": [
      "\u001b[A\n"
     ]
    },
    {
     "name": "stdout",
     "output_type": "stream",
     "text": [
      "Content: \n",
      "갓고일 베이비 고퀄도 많음??레숲이나 빨강맛 싸면 입양 마려울거 같음\n",
      "\n"
     ]
    },
    {
     "name": "stderr",
     "output_type": "stream",
     "text": [
      " 14%|█▍        | 7/49 [00:17<01:40,  2.38s/it]\u001b[A"
     ]
    },
    {
     "name": "stdout",
     "output_type": "stream",
     "text": [
      "Content: \n",
      "이번 행사 보니까 크레 입양 마렵네... 난 크레는 안하는데 최근 행사도 열고 크레값도 싸다고 하던데 초기자본 200만원 정도만 넣어서 세이블 그룹 맞추면 최저시급 벌면서 유튜브 넷플릭스 보는 거잖아 이정도면 나름 할만하지 않나? 나중에 크레 다 팔면 돈도 다 회수 가능하고 좋을거 같은데.. 그리고 곧있으면 행사 열릴 시기라 지금이 저점이라고 들었음 넷플릭스 보면서 돈 벌면 개꿀아님? 이건 안하면 그게 더 이상한것같음ㅋㅋ..ㅋㅋ  - dc official App\n",
      "\n",
      "Comment: ㄴ\n",
      "Comment: 200만 지르면~\n"
     ]
    },
    {
     "name": "stderr",
     "output_type": "stream",
     "text": []
    },
    {
     "name": "stdout",
     "output_type": "stream",
     "text": [
      "Content: \n",
      "다단계 피라미드 맨 밑 다지기 들어가내 ㅋㅋㅋ 빠질 타이밍 ㄱㄱ  - dc official App\n",
      "\n",
      "Comment: ㅇㅈ이다\n"
     ]
    },
    {
     "name": "stderr",
     "output_type": "stream",
     "text": []
    },
    {
     "name": "stdout",
     "output_type": "stream",
     "text": [
      "Content: \n",
      "3시쯤 가려고 했는데 현장구매라 오래 기다릴거 같은데낼 갈까\n",
      "\n"
     ]
    },
    {
     "name": "stderr",
     "output_type": "stream",
     "text": []
    },
    {
     "name": "stdout",
     "output_type": "stream",
     "text": [
      "Content: \n",
      "누가 밀수하다 걸림?  - dc official App\n",
      "\n"
     ]
    },
    {
     "name": "stderr",
     "output_type": "stream",
     "text": []
    },
    {
     "name": "stdout",
     "output_type": "stream",
     "text": [
      "Content: \n",
      " - dc official App\n",
      "\n",
      "Comment: 개 김\n",
      "Comment: 나참 이게 뭐라고 이렇게 인기가많은거..다육부터 사야겠네  - dc App\n",
      "Comment: 존나게 김 ㅅㅂ;\n"
     ]
    },
    {
     "name": "stderr",
     "output_type": "stream",
     "text": []
    },
    {
     "name": "stdout",
     "output_type": "stream",
     "text": [
      "Content: \n",
      "톡방에 사진 올라옴  - dc official App\n",
      "\n",
      "Comment: ㅎㄷㄷ\n",
      "Comment: ㅋㅋㅋㅋㅋ 시발 이게 맞나\n",
      "Comment: 짬당햇내  - dc App\n",
      "Comment: 미친놈들이다\n",
      "Comment: 초초는 싼거였노 ㅋㅋㅋ\n",
      "Comment: 으이구 대깨들\n",
      "Comment: 이딴걸 3500 주고 사는 흑우가 있냐 .. 나같으면 초초 한마리 사고 헷초초 3마리 더 데려가겠다\n"
     ]
    },
    {
     "name": "stderr",
     "output_type": "stream",
     "text": []
    },
    {
     "name": "stdout",
     "output_type": "stream",
     "text": [
      "Content: \n",
      "충식도 안되고 슈푸도 안먹고 물만먹는거같다코에 묻혀주면 ㅈㄴ털어대고 벽지가 다 슈푸다어떻게 잡고 무슨짓해야 주둥이 아악하고 벌리냐\n",
      "\n",
      "Comment: 빡쳐서 입벌리는 애들만 가능ㅇㅇ\n",
      "Comment: 주둥이 양옆쪽 페미 손가락으로 쓰담쓰담 하면 입 벌림\n"
     ]
    },
    {
     "name": "stderr",
     "output_type": "stream",
     "text": []
    },
    {
     "name": "stdout",
     "output_type": "stream",
     "text": [
      "Content: \n",
      "나 활동 할 때도 크레판이라서 예상은 했는데가격까지 개떡락하니까 오히려 좋네취미로 키우긴 최고야 ㅋㅋ나 때 막 200~300하던 릴리가 1/10 가격 ㄷㄷ\n",
      "\n",
      "Comment: ㅇㅈ - dc App\n"
     ]
    },
    {
     "name": "stderr",
     "output_type": "stream",
     "text": []
    },
    {
     "name": "stdout",
     "output_type": "stream",
     "text": [
      "Content: \n",
      "어느 주최인가에 따라서 똑같은 업체들을 불러놔도 차이가 남비난의 의도보다는 내 생각은 그러함어중이 떠중이들은 행사 열 생각하지 말고네임드들이 주관하는 행사에 입점업체로만 있길 바람행사가 늘어날수록 행사라는 단어의 고유성이 퇴락함\n",
      "\n",
      "Comment: 근데 협회장 후문이 많던데.. 사실이 아닌감\n"
     ]
    },
    {
     "name": "stderr",
     "output_type": "stream",
     "text": []
    },
    {
     "name": "stdout",
     "output_type": "stream",
     "text": [
      "Content: \n",
      "진짜 모름\n",
      "\n",
      "Comment: 와이프 애칭\n",
      "Comment: 신모프 이름 아닌가  - dc App\n"
     ]
    },
    {
     "name": "stderr",
     "output_type": "stream",
     "text": []
    },
    {
     "name": "stdout",
     "output_type": "stream",
     "text": [
      "Content: \n",
      "그냥 유전형질 발견 아님?? 레드 브린들 벅스킨 이런것도 모프라고 안하자나 형질인데 유전되자나 모프라고보기엔 걍 쓰레긴데 ㅋㅋㅋㅋ 모프던 아니던 ㅈ나 못생김 ㅇㅇ \n",
      "\n",
      "Comment: 트익 벅스킨 타이거 이런것도 모프라고 하긴 함. 보통 우성 열성모프를 줄어 모프라고 하니까, 형질모프라고 따로 표현하는게 좀 낫지 싶긴 해ㅇㅇ\n",
      "Comment: 딱봐도 모프 맞구만 초초만큼 비싸진 않겟지만은 로또 당첨된 급인데 배아픔?ㅋㅋㅋ   - dc App\n",
      "Comment: 지랄낫다 ㅋㅋㅋㅋㅋ 3500 다시 환불각보이내  - dc App\n",
      "Comment: ㅅㅂ 소고기도 아니고 적당히하자\n",
      "Comment: ㅋㅋㅋㅋㅋ 개나소나 다 신모프 타령이네\n",
      "Comment: 수컷이면 만원밖에 안될 퀄리티로 어그로는 ㅋㅋㅋㅋ\n",
      "Comment: 무지성 세이블충 왔노? - dc App\n",
      "Comment: 6개월만 지나도 땅을치고 후회할듯ㅋㅋ  - dc App\n",
      "Comment: 분양은 간건 맞는데 할인해서 3000에삿대\n",
      "Comment: 3천이 누구에게는 몇 년을 일해도 시드로 모으기 힘든 돈이겠지만, 누구는 불로소득으로 달마다 들어오는 돈임3천 쓴게 부러우면 그녕 담백하게 부러워 하면 되고걱정되는거면 아 3천 한큐에 태울만큼 부자구나 하면 됨아 물론 날린건 팩트\n"
     ]
    },
    {
     "name": "stderr",
     "output_type": "stream",
     "text": []
    },
    {
     "name": "stdout",
     "output_type": "stream",
     "text": [
      "Content: \n",
      "흠... - dc official App\n",
      "\n"
     ]
    },
    {
     "name": "stderr",
     "output_type": "stream",
     "text": []
    },
    {
     "name": "stdout",
     "output_type": "stream",
     "text": [
      "Content: \n",
      "차단한 ㄷㅎㅅ이랑 업체만 도배되서 차단게시글만쳐뜨다가헤비헝아 작두타고 ㄱㅋㅍㅇ절친줌마는 전공자한테 발리다 댓삭하고 팝콘이노\n",
      "\n",
      "Comment: ㄹㅇㅋㅋ  - dc App\n",
      "Comment: 전공자는 머고 ㅋㅋㅋ - dc App\n",
      "Comment: 개추\n",
      "Comment: 3500 대깨새끼\n",
      "Comment: ?\n"
     ]
    },
    {
     "name": "stderr",
     "output_type": "stream",
     "text": [
      "\n"
     ]
    },
    {
     "name": "stdout",
     "output_type": "stream",
     "text": [
      "Content: \n",
      "2년전 보는것같네 \n",
      "\n",
      "Comment: 줄꼬라지 말이안되네 ㅋㅋ\n",
      "Comment: 사진 ㄱ\n"
     ]
    },
    {
     "name": "stderr",
     "output_type": "stream",
     "text": [
      " 43%|████▎     | 21/49 [00:40<00:45,  1.61s/it]\u001b[A"
     ]
    },
    {
     "name": "stdout",
     "output_type": "stream",
     "text": [
      "Content: \n",
      "ㅇㅇ \n",
      "\n",
      "Comment: 하루 지나면 지날수록 찾을 확률 줄어든다고 생각하면됨\n",
      "Comment: 난 최장 반년   - dc App\n",
      "Comment: 6개월 버틴 아이 있음 결국 죽음ㅋ - dc App\n"
     ]
    },
    {
     "name": "stderr",
     "output_type": "stream",
     "text": []
    },
    {
     "name": "stdout",
     "output_type": "stream",
     "text": [
      "Content: \n",
      "밤에 나가보면 손톱만한 작은 개구리들 자주 보는데건물에 붙어있거나 화단 턱이 높아서 바닦에서 있음...해뜨면 싹다 뒤지는거임...;;내가 보면 화단으로 옮겨주는데갖고와서 키울수 있음?정수기 있고, 곤충은 없는데 물고기밥 사서 갈아서 주면 잘먹지 않나...?\n",
      "\n",
      "Comment: 청개구리고 벽에 붙을 수 있어서 해뜨기 전에 틈에 숨어들어감움직이는 거만 먹음\n",
      "Comment: 정수기는 코웨이가 압도적으로 1등이고 다른데는 고만고만한듯ㅇㅇ그래서 난 걍 코웨이꺼 중에서 제일 잘팔리는 아이콘 정수기로 렌탈 했음http://water.esink.kr/coway 이런 코웨이 전문 견적사이트에서 알아보니까얼음포함하면 월2만원대, 얼음빼면 월1만원대로 가능한듯ㅇㅇ 참고해\n"
     ]
    },
    {
     "name": "stderr",
     "output_type": "stream",
     "text": []
    },
    {
     "name": "stdout",
     "output_type": "stream",
     "text": [
      "Content: \n",
      "오늘 양재오던데 그정도로 볼파로 유명함?\n",
      "\n",
      "Comment: ㅇㅇ\n"
     ]
    },
    {
     "name": "stderr",
     "output_type": "stream",
     "text": []
    },
    {
     "name": "stdout",
     "output_type": "stream",
     "text": [
      "Content: \n",
      "크기는 작은데 저런서랍에도 발톱걸고 갈수있음? \n",
      "\n",
      "Comment: 사람도 절벽 타는 사람 있으니  - dc App\n"
     ]
    },
    {
     "name": "stderr",
     "output_type": "stream",
     "text": []
    },
    {
     "name": "stdout",
     "output_type": "stream",
     "text": [
      "Content: \n",
      "뭔 병으로 죽은 걸까\n",
      "\n",
      "Comment: 너 아직도 애기지?  - dc App\n"
     ]
    },
    {
     "name": "stderr",
     "output_type": "stream",
     "text": []
    },
    {
     "name": "stdout",
     "output_type": "stream",
     "text": [
      "Content: \n",
      "존나 ,, 크기가 , ,감당이 안될만큼, , 존나 커지네 \n",
      "\n",
      "Comment: 유기ㄱ\n"
     ]
    },
    {
     "name": "stderr",
     "output_type": "stream",
     "text": [
      "\n"
     ]
    },
    {
     "name": "stdout",
     "output_type": "stream",
     "text": [
      "Content: \n",
      "신모프면 뭐할거여 이쁘지가 않은데릴리 / 아잔틱 만큼 확실하게 이쁜애들이 없네카푸 세이블도 좀 븅신같았는데초초 하이포 spt 몬스터 마블링 기타 개잡스런 신모프들보니차라리 카푸 세이블이 선녀다그지같이 생긴 신모프 말고 진짜 이쁜거 뭐 안나오나\n",
      "\n",
      "Comment: 키클롭스 하나 나왓잖아\n",
      "Comment: 릴리 1세대 보면 똑같은말 할거다  - dc App\n",
      "Comment: 나 있는데 아직 공개안함 내년에 공개할거임\n",
      "Comment: 나올만한거 초록색이랑 멜라니스틱 정도뿐 아닐까..? 카키 말고 그린. 그거랑 차화 교잡에서 나올만 할듯ㅇㅇ\n",
      "Comment: 몬스터는 ㅋㅋ 그냥 이름부터가 짜침  - dc App\n"
     ]
    },
    {
     "name": "stderr",
     "output_type": "stream",
     "text": [
      " 57%|█████▋    | 28/49 [00:52<00:36,  1.75s/it]\u001b[A"
     ]
    },
    {
     "name": "stdout",
     "output_type": "stream",
     "text": [
      "Content: \n",
      "신모프 왜케 만ㄹ노 … \n",
      "\n",
      "Comment: 신모프 호소인아님  - dc App\n",
      "Comment: 고깃집임\n",
      "Comment: ㅋㅋㅋㅋ진심 신모프마블링이라고 저런글 쓴 새끼 비위좋네 이불킥할만한 글인데 ㅋㅋㅋ\n"
     ]
    },
    {
     "name": "stderr",
     "output_type": "stream",
     "text": [
      "\n"
     ]
    },
    {
     "name": "stdout",
     "output_type": "stream",
     "text": [
      "Content: \n",
      "오토사냥믹스마스터 자동사냥달빛조각사 오토사냥하스스톤 자동사냥포트리스 자동사냥아키에이지워 오토사냥드래곤 자동사냥거상 텔레@auto4989오토사냥믹스마스터 자동사냥달빛조각사 오토사냥하스스톤 자동사냥포트리스 자동사냥아키에이지워 오토사냥드래곤 자동사냥거상 텔레@auto4989오토사냥믹스마스터 자동사냥달빛조각사 오토사냥하스스톤 자동사냥포트리스 자동사냥아키에이지워 오토사냥드래곤 자동사냥거상 텔레@auto4989오토사냥믹스마스터 자동사냥달빛조각사 오토사냥하스스톤 자동사냥포트리스 자동사냥아키에이지워 오토사냥드래곤 자동사냥거상 텔레@auto4989\n",
      "\n"
     ]
    },
    {
     "name": "stderr",
     "output_type": "stream",
     "text": [
      " 61%|██████    | 30/49 [00:56<00:32,  1.73s/it]\u001b[A"
     ]
    },
    {
     "name": "stdout",
     "output_type": "stream",
     "text": [
      "Content: \n",
      "찻집에도 불타는 장작이 등장했노…\n",
      "\n"
     ]
    },
    {
     "name": "stderr",
     "output_type": "stream",
     "text": []
    },
    {
     "name": "stdout",
     "output_type": "stream",
     "text": [
      "Content: \n",
      "볼파 서로 1마리씩만 교환하기로했는데 서로 볼파서류갯수는 똑같아도 개체는 바꼈으니까 서로 사이테스 신청 해야돼는거맞지?  - dc official App\n",
      "\n",
      "Comment: 하는게 좋긴한데 개체 식별 번호 없으면 안해도 그만이지 않을까\n",
      "Comment: 안해도 모르긴함 ㅋㅋㅋㅋ\n"
     ]
    },
    {
     "name": "stderr",
     "output_type": "stream",
     "text": []
    },
    {
     "name": "stdout",
     "output_type": "stream",
     "text": [
      "Content: \n",
      "1 이미지 순서 ON2 이미지 순서 ON3 이미지 순서 ON추억의 비주류 일본도 오랫동안 소식없다가 지난달에 소량 수입온듯   - dc official App\n",
      "\n",
      "Comment: 개똥퀄이네 걍 길바닥에서 보일꺼같이 생기긴햇네  - dc App\n",
      "Comment: 머여 진짜 살면서 처음 보노  - dc App\n",
      "Comment: 몸통이 개똥같이 생김\n"
     ]
    },
    {
     "name": "stderr",
     "output_type": "stream",
     "text": []
    },
    {
     "name": "stdout",
     "output_type": "stream",
     "text": [
      "Content: \n",
      "다음 간담회든 공청회든 ㅈ될거임 발등에 불떨어진 크레업자들 수백명이 우루루 가서 기준완화 하라고 개ㅈㄹ할거 뻔함 근데 기준이 ㅈ같이 나오기전에좀 움직여라 박람회만 참여하지말고  - dc official App\n",
      "\n",
      "Comment: 조선에서 단합을 기대하지마라ㅋㅋㅋㅋㅋ  - dc App\n"
     ]
    },
    {
     "name": "stderr",
     "output_type": "stream",
     "text": []
    },
    {
     "name": "stdout",
     "output_type": "stream",
     "text": [
      "Content: \n",
      "다 떠나고 혼자라서 방송안하는건가?  - dc official App\n",
      "\n",
      "Comment: 아직도 샵 운영하긴하냐 - dc App\n",
      "Comment: ㅈㄴ 싸구려들로만 브리딩 하는놈이 내대니까 뽀록나고 다 손절하지 ㅋㅋ 십년을 해봐라 우물 개구리지 - dc App\n"
     ]
    },
    {
     "name": "stderr",
     "output_type": "stream",
     "text": []
    },
    {
     "name": "stdout",
     "output_type": "stream",
     "text": [
      "Content: \n",
      "중국에서 수입수출을한다? 밀수다 ㅂㅅ들아 불쌍한 헤비야 어깨펴라\n",
      "\n",
      "Comment: 바레기는 응징 당해야지. 암...\n",
      "Comment: 누가밀수한건대  - dc App\n",
      "Comment: ㅂㅇ 중국에서 수입했다는데 중국에서 생물 수출 불가능함 ㅋㅋㅋ\n",
      "Comment: ㅈㄴ감사하노ㅋ\n"
     ]
    },
    {
     "name": "stderr",
     "output_type": "stream",
     "text": []
    },
    {
     "name": "stdout",
     "output_type": "stream",
     "text": [
      "Content: \n",
      "씨발 1,2는 바르기 개어렵네 3,4는 할만한데  - dc official App\n",
      "\n",
      "Comment: 엥간하면 처방 받은대로 해줘야지 ㅇㅇ1번 오큐프록스는 건조 완화나 상처 치유 등 사람한테도 쓰이는거니까 힘들더라도 잘 투약해줘야 할 듯 ㅠ\n"
     ]
    },
    {
     "name": "stderr",
     "output_type": "stream",
     "text": []
    },
    {
     "name": "stdout",
     "output_type": "stream",
     "text": [
      "Content: \n",
      "니네 가게 종이봉투에서 비어디 똥내남\n",
      "\n",
      "Comment: 그만큼 비어디 똥에 진심이었던거지\n"
     ]
    },
    {
     "name": "stderr",
     "output_type": "stream",
     "text": []
    },
    {
     "name": "stdout",
     "output_type": "stream",
     "text": [
      "Content: \n",
      "보종이도 그렇고 렙킹 헤비들 셋다 공통점이 있음 내가 하면 뭔가 시장에 변화게 생긴다고 본인들이 특별할수 있다고 믿는 병이있음 불과 몇년전 빅잭이 인니수입으로 파양판 비주류 시장 먹는다고 줄줄이 예약받고 결국 예약받은 생물은 못가져오고 현금 돌려막기하다가 옥농 줄스랑 셋이서 모스 밑에서 노예생활하던게 몇년전임 쿠펫도 볼파이톤 몇년좀 브리딩 해봤다고 렙쇼 창시자 부심 부리고 절대 파충류샵하는 안 되는 위치에 말도 안 되는 비싼돈주고 인수해서 개좃박았는데 재력으로 커버치고 판교로 투자받아서 떠난거임 그런 낭만의 시대를 지나온  그당시 고인물들의 특징은 뭔지암? 게코는 언제 망할지 모른다였음ㅋㅋㅋ 렙코, BDB,선주 제외하고 파충류판 고인물중 합법적인선에서 끌어당긴돈 불린사람 없다고 봐도댐 뭐 도덕이니 인성은 개인판단이니 버리고 렙코는 옛날 하우스는 원래 허가 안 나는곳인거 빼곤 없는듯? 낭만의 시대때 게코 안 하고 살아있는애들? 다 밀수하던애들임ㅋㅋㅋ 아스퍼  싱글백 천만원 넘던거 400까지 꼬라박고 성체급 레이스모니터 들어오고 에게르니아 수천만원하던애들 손가락잘린건 300도 안 하는 돈에 팔리고 그랬다. 근데 이제 누구나 용돈만주면 핸드캐리로 동물배달하는 아만타티움 간땡이 가진 문신쟁이들이 밀수를 항공 다이렉트로 하니 말도 안 되는 생물들이 사테서류를 가진채 분양되기 시작함 그리고 밀수로 돈이 안 되니 루트를 바꾼게 밀수로 저렴해진걸 사오고 번식해서 무한 서류증식으로 외국에 역수출 보내는거임ㅋㅋㅋ oecd13위안에 드는 국가에서 제3국에서 할법한 사업을 합벅적으로 하는거임 이젠 개나소나 밀수하니까 크레를 하기엔 늦었으니 낸 아이디어지 모두가 알다시피 정식으로 들어온 방사는 렙킹,한신정도가 끝임 버마별도 합법증식 개체는 발토가 뿌렷고 5년도 채 되지 않았음 근데 어디서 숨어있던 성체들이 번식하고 부화를 존나해 그리고 개넨 서류덕분에 합벅개체야 개체수가 ㅈㄴ늘어나는데 가격이 여전히 비싸 왜?  한국에서 팔바엔 수출해서 없애버리는게 편하거든 한국에 파는건 이벤트 같은거야 그냥 돈놀이지 다른 사람이 뛰어들기엔 늦었어 재력 있는 애들이 국내 있는거 싹다 담아서 농장 차렸거든 법안발의에  사람들이 신경 안 쓰는거 특히 고인물일수록? 내심 맘에 안 드는거임 지들 눈으로볼때 게코로 돈번건 장사치 눈탱이로 실력으로 번게 아니라고 생각하는거임ㅋㅋㅋ 뉴런, 지곤도 직접 수입도 안 하던 애들이라 싫고 다흑도 유튜버빨이라 싫고 자기들이 실력과 지식으로 올라왔다고 믿고 싶은거임 근데 이런거 아는 고인물들이 더 싫은건 뭔지 아냐? 니들처럼 아는척하면서 배만 ㅈㄴ아픈애들ㅋㅋㅋ 그냥 있잘키하면서 행복사육은 못하고 돈은 없고   사회성떨어지는애들이 좃도 모르면서 글싸지르니까 갤에 정보가 없는거야  그러니 그냥 앞으로도 심해 같은 갤에 있거라  딸피인 형은 이만 자러간다  ㅃㅇ  - dc official App\n",
      "\n",
      "Comment: 그래서 결론이 뭐임?? 고인물 끝판왕은 선주다? 임??\n",
      "Comment: 렙코사장이 근데 보면 트랜드 잘 읽고 시장 파악 잘하긴 하더라 요즘은 조용하긴하네\n",
      "Comment: 렙킹에서 거른다 - dc App\n",
      "Comment: 발토 이번에 조사받지 않앗나... - dc App\n",
      "Content: \n",
      "1 이미지 순서 ON2 이미지 순서 ON3 이미지 순서 ON4 이미지 순서 ON5 이미지 순서 ON6 이미지 순서 ON7 이미지 순서 ON8 이미지 순서 ON9 이미지 순서 ON10 이미지 순서 ON위에 9장은 순서대로 보면댐 미시오 첨 데려왔을때 그냥 돌색이엿는데 크면서 이쁘쟝해짐아래 2장은 새로 델고온 앙카라미 귀한로컬임 ㄹㅇ 구하기 쉽지않아적응기땜시 어두웠다가 슬슬 본례색 올라오는중카멜해라 수명,성격빼고 단점은 없다카멜붐도 오겟지..?\n",
      "\n",
      "Comment: 예전에 잠깐 피그미카멜 붐 오긴 했었지  - dc App\n",
      "Comment: 수명이 진짜 너무 아쉽다 짧으면 3년이면 수명사 한다는데 ㅠㅜ\n",
      "Comment: 뒷방 할배같노\n",
      "Comment: 몇개월된건가오\n"
     ]
    },
    {
     "name": "stderr",
     "output_type": "stream",
     "text": []
    },
    {
     "name": "stdout",
     "output_type": "stream",
     "text": [
      "Content: \n",
      "특히 렉사제작하는 업자는 타격 클거같은데- dc official App\n",
      "\n",
      "Comment: 왜??\n",
      "Comment: 렉사 업체들이야말로 공청회 참석 필수인데 말이지ㅋㅋ 특히 지곤ㅎ\n"
     ]
    },
    {
     "name": "stderr",
     "output_type": "stream",
     "text": []
    },
    {
     "name": "stdout",
     "output_type": "stream",
     "text": [
      "Content: \n",
      "꿀잼인데 둘다 사이좋게 마지막에 잘자요 굿나잇 했으면다음날 굿모닝으로 시작해서 다시싸워야되는거아니냐?재밋게 싸우다가 왜 안일어나다시 일어나서 싸워!\n",
      "\n",
      "Comment: 원래 이런게 재밌는거야\n"
     ]
    },
    {
     "name": "stderr",
     "output_type": "stream",
     "text": []
    },
    {
     "name": "stdout",
     "output_type": "stream",
     "text": [
      "Content: \n",
      "헛수고 씨발년아 \n",
      "\n",
      "Comment: ㅋㅋㅋ씨발 뻘하게 웃기네 ㅋㅋㅋㅋㅋㅋㅋ\n"
     ]
    },
    {
     "name": "stderr",
     "output_type": "stream",
     "text": []
    },
    {
     "name": "stdout",
     "output_type": "stream",
     "text": [
      "Content: \n",
      "부모개체 입증할때 제출하는 사이테스서류부모 2개체 모두 서류 있어야됨?암컷꺼밖에 없는데 어카지\n",
      "\n",
      "Comment: 왜 서류가 없냐\n",
      "Comment: 지금이라도 하나 입양하고 그걸로 떼워 ㄱ\n"
     ]
    },
    {
     "name": "stderr",
     "output_type": "stream",
     "text": []
    },
    {
     "name": "stdout",
     "output_type": "stream",
     "text": [
      "Content: \n",
      "탁구공보다 살짝큰 사이즈 어제 두마리 입양해왔는데 먹이는 히카리 팩어택이라고 변잘나온다고 이거추천받아서 먹이고는있는데 한마리는 톡떨궈주니 먹고 한마리는 안먹더라.. 예전에 팩맨도 키웟엇는데 팩푸먹이기 너무힘들더라.. 거식와서 죽은 ㅜ뭐 먹이먹이는 노하우있음? 그리고 먹이 저거만줘도되려나? 하루에한번씩?\n",
      "\n",
      "Comment: 버젯이 먹이를 안먹는다고? 핀셋피딩 해보고 안먹으면 구매에 따지셈  - dc App\n"
     ]
    },
    {
     "name": "stderr",
     "output_type": "stream",
     "text": []
    },
    {
     "name": "stdout",
     "output_type": "stream",
     "text": [
      "Content: \n",
      "ㅈ만이에서 2개월만에 이리큼 에어컨도 안틀어주는데 장하다\n",
      "\n",
      "Comment: 에어컨 안틀어서 습도는 좋겠네 - dc App\n"
     ]
    },
    {
     "name": "stderr",
     "output_type": "stream",
     "text": []
    },
    {
     "name": "stdout",
     "output_type": "stream",
     "text": [
      "Content: \n",
      "다 꼬리 뜯기나?- dc official App\n",
      "\n",
      "Comment: 케바케\n",
      "Comment: 생각만큼 안뜯김 꼬짤은 따로 키워도 비슷한 비율  - dc App\n",
      "Comment: 몸에 흉터만 죠낸 생기겠지\n"
     ]
    },
    {
     "name": "stderr",
     "output_type": "stream",
     "text": []
    },
    {
     "name": "stdout",
     "output_type": "stream",
     "text": [
      "Content: \n",
      "누가 대장임?접기 전에 자색고구마 및 팀 욜로? 친구들이 최고였음\n",
      "\n",
      "Comment: 리틀레몬\n"
     ]
    },
    {
     "name": "stderr",
     "output_type": "stream",
     "text": [
      "100%|██████████| 49/49 [01:26<00:00,  1.77s/it]\n",
      " 21%|██        | 6/29 [12:18<43:55, 114.59s/it]"
     ]
    },
    {
     "name": "stdout",
     "output_type": "stream",
     "text": [
      "Content: \n",
      "주소랑 실내 인테리어 똑같은데 이름만 바꿔 오픈한거임?\n",
      "\n",
      "Comment: ㅇㅇ 사기꾼 새끼들임 부부전부\n",
      "Comment: 이름 바꿧네 ㄷㄷ\n"
     ]
    },
    {
     "name": "stderr",
     "output_type": "stream",
     "text": []
    },
    {
     "name": "stdout",
     "output_type": "stream",
     "text": [
      "Content: \n",
      "커먼머스크터틀 왤케 많이보임  - dc official App\n",
      "\n",
      "Comment: 머드머스크는 개인브리딩하는사람들 있다당장 퍙갤 꾸준히 왔던 사람중에서도 아예 성체급들 모아서 그룹브리딩했고\n",
      "Comment: 최근에 ㄷㅍㄴ에서 수입한 물거북들 사테종 꽤 되지않나\n"
     ]
    },
    {
     "name": "stderr",
     "output_type": "stream",
     "text": []
    },
    {
     "name": "stdout",
     "output_type": "stream",
     "text": [
      "Content: \n",
      "사장은 없고 왠 안경 뚱녀 한마리 앉아있던데? 강서구에있는곳이 본점맞음? \n",
      "\n",
      "Comment: 안경 뚱녀가 헤비사장님 아님?  - dc App\n",
      "Comment: 그친구 말랐을때 아이돌 준비한 친구인데 왜그래ㅜ\n"
     ]
    },
    {
     "name": "stderr",
     "output_type": "stream",
     "text": []
    },
    {
     "name": "stdout",
     "output_type": "stream",
     "text": [
      "Content: \n",
      "뭐 보면 채소, 과일, 개사료 주면서 영양 챙겨야한다는데우리집 스킨크는 그딴거 관심 없고 오직 생고기, 귀뚜라미만 좋아해서 ㅇㅇ채소 같은거 먹일려면 3,4일 밥안줘야할꺼같은데 ㅋㅋ\n",
      "\n",
      "Comment: 무슨 스킨크인지는 모르겠는데 블루텅같은거만 아니면 괜찮지않을까\n"
     ]
    },
    {
     "name": "stderr",
     "output_type": "stream",
     "text": []
    },
    {
     "name": "stdout",
     "output_type": "stream",
     "text": [
      "Content: \n",
      "ㅇㅇ\n",
      "\n",
      "Comment: 없음 어차피 다 크레밭  - dc App\n",
      "Comment: 스샷이라 안보임ㅠ 파일로 받아서 올려보삼..\n",
      "Comment: 관심있는 종이 뭔질 알아야 업체를 추천해주지?\n",
      "Comment: 가서 꼴리면 유심히 보는거지 뭐가 있을줄알고 미리 물어봄\n",
      "Comment: 가봤자 기존업체들 들고나오는 거 뻔해서 걍 집에서 파사모 판매글 보는 게 편함\n"
     ]
    },
    {
     "name": "stderr",
     "output_type": "stream",
     "text": []
    },
    {
     "name": "stdout",
     "output_type": "stream",
     "text": [
      "Content: \n",
      "가야지\n",
      "\n"
     ]
    },
    {
     "name": "stderr",
     "output_type": "stream",
     "text": []
    },
    {
     "name": "stdout",
     "output_type": "stream",
     "text": [
      "Content: \n",
      "야밤에 샵 정리하고 할거없어서 치킨 뜯을거면 개체 사진 좀 찍어서 올려봐\n",
      "\n",
      "Comment: 너네 대장이 ㅎㅂ아녓냐? 대장도 접었어  - dc App\n"
     ]
    },
    {
     "name": "stderr",
     "output_type": "stream",
     "text": []
    },
    {
     "name": "stdout",
     "output_type": "stream",
     "text": [
      "Content: \n",
      "애초에 중국 수출보내려고 홍콩 경유해서 브로커들이 불법으로 목숨걸고 중국가는데ㅋㅋㅋ 그정도로 빡센 나라를 동물원도 아닌 개인이 합법으로 갖고온다는게 신기하네..나도 해보려고 apm쪽 무역회사 대표 물어보니까 합법쪽은 무조건 서류 있어야된다는데… 중국 동식물 서류 못받으면 수입안되는데 어찌 그러냐…코로나 동물땜에 터진걸로 이후 인증 받은곳(서류) 아니면 아예 못하는데ㅋㅋㅋㅋㅋㅋ자기지인이 운송회사 대표니까 인보이스 허위기재하고 불법수입하는거 아니노ㅋㅋㅋㅋㅋ신기하다\n",
      "\n",
      "Comment: 도대체 누굴 저격하는거여?\n",
      "Comment: 헤비야 그거 자격지심이야 바으한테 따잇당하고 ㅂㄷㅂㄷ하는거야?\n",
      "Comment: 너가 하는말 무슨 말인지 알겠는데 정 억울하면 업체명이라도 까던지 지금 이러고있는거 조현병 환자로 밖에 안보인다\n",
      "Comment: 그냥 아주 바들바들 ㅋㅋㅋㅋㅋㅋㅋㅋㅋㅋ - dc App\n"
     ]
    },
    {
     "name": "stderr",
     "output_type": "stream",
     "text": []
    },
    {
     "name": "stdout",
     "output_type": "stream",
     "text": [
      "Content: \n",
      "업자들 이미지 망칠까봐 지금 밥줄 끊길까봐 어떻게든 익명으로라도 욕하고싶어서 억까뒤짐\n",
      "\n"
     ]
    },
    {
     "name": "stderr",
     "output_type": "stream",
     "text": []
    },
    {
     "name": "stdout",
     "output_type": "stream",
     "text": [
      "Content: \n",
      "그 용기낸 찐들 특유의 발성은 꽤 큰데 공기 ㅈㄴ차있고 목소리 디크레센도로 파르르 떨리는 그거 생각나서 너무 싫다;\n",
      "\n",
      "Comment: 업자밭이네 여론몰이 그만해라 너도\n",
      "Comment: ㄹㅇㅋㅋㅋ개웃김ㅋㅋㅋ 욕하고 튀어서 전화하니까 초딩 마냥 안받고 병먹금한 우리 업자님…\n"
     ]
    },
    {
     "name": "stderr",
     "output_type": "stream",
     "text": []
    },
    {
     "name": "stdout",
     "output_type": "stream",
     "text": [
      "Content: \n",
      "갤러리에선 당당하노 행복하다그러고 https://cafe.naver.com/reptilia/4258170?tc=shared_link  - dc official App\n",
      "\n",
      "Comment: ㅋㄱㅋㅋㅋㅋㅋ 아휴 난 모르겠다 환불해준다해도 안받는다고 하면서 저러는데 뭐 우짜냐~\n"
     ]
    },
    {
     "name": "stderr",
     "output_type": "stream",
     "text": []
    },
    {
     "name": "stdout",
     "output_type": "stream",
     "text": [
      "Content: \n",
      "목소리를 파들파들 ㅇㅈㄹ하면서 그렇게까지 쎈척 쳐하고 싶나…븅X이러고 툭 끊고 튀고 전화 안받더니 오지게 전화하니까 신고할겁니다~이러고신고도 안하드마…ㅋㅋㅋㅋㅋ어후 이판 ㅈㄴ 지들끼리 말지어내는건 오져요~~사장님 왜 욕하고 튀나요… 애새기마냥…ㅋㅋㅋㅋㅋㅋㄱㅋ 개웃기노말좀 그만 지어내셈요…ㅋㄱㅋㅋㄱㅋㅈㄴ코미디다 코미디야ㅋㅋㅋ\n",
      "\n",
      "Comment: 너 나랑 맞짱까자\n",
      "Comment: 숲사장이 어디임?\n",
      "Comment: ㅋㄹ숲?  - dc App\n"
     ]
    },
    {
     "name": "stderr",
     "output_type": "stream",
     "text": []
    },
    {
     "name": "stdout",
     "output_type": "stream",
     "text": [
      "Content: \n",
      "그냥 드라이아이스 넣어서 꽁꽁 얼려보내라 ㅇㅇ\n",
      "\n"
     ]
    },
    {
     "name": "stderr",
     "output_type": "stream",
     "text": []
    },
    {
     "name": "stdout",
     "output_type": "stream",
     "text": [
      "Content: \n",
      "이번 행사 보니까 크레 입양 마렵네... 난 크레는 안하는데 최근 행사도 열고 크레값도 싸다고 하던데 초기자본 200만원 정도만 넣어서 세이블 그룹 맞추면 최저시급 벌면서 유튜브 넷플릭스 보는 거잖아 이정도면 나름 할만하지 않나? 나중에 크레 다 팔면 돈도 다 회수 가능하고 좋을거 같은데.. 그리고 곧있으면 행사 열릴 시기라 지금이 저점이라고 들었음 넷플릭스 보면서 돈 벌면 개꿀아님? 이건 안하면 그게 더 이상한것같음ㅋㅋ..ㅋㅋ  - dc official App\n",
      "\n",
      "Comment: 아오 메쌤!!  - dc App\n"
     ]
    },
    {
     "name": "stderr",
     "output_type": "stream",
     "text": []
    },
    {
     "name": "stdout",
     "output_type": "stream",
     "text": [
      "Content: \n",
      "아침에 일어나서 사육장 문열고 현미경으로 모어밍게코 들여다보면 게코가 윙크하면서 모어닝 한다는데 맞음? 살짝 피식했으면 개추 뿅뿅 ㅋㅋㅋ\n",
      "\n"
     ]
    },
    {
     "name": "stderr",
     "output_type": "stream",
     "text": []
    },
    {
     "name": "stdout",
     "output_type": "stream",
     "text": [
      "Content: \n",
      "알비노 말고 와일드타입 키우고싶다  - dc official App\n",
      "\n"
     ]
    },
    {
     "name": "stderr",
     "output_type": "stream",
     "text": []
    },
    {
     "name": "stdout",
     "output_type": "stream",
     "text": [
      "Content: \n",
      "관짝급 적재에 쳐넣거나 호화스럽게 해준답시고 습도만땅 씹습계비바에 쳐박힘\n",
      "\n",
      "Comment: 씹습계비바에서 키우는 사람들이 크레 사랑 뽐내고 싶어서 호소하는거 보면 얼탱이 없긴 함\n"
     ]
    },
    {
     "name": "stderr",
     "output_type": "stream",
     "text": []
    },
    {
     "name": "stdout",
     "output_type": "stream",
     "text": [
      "Content: \n",
      "탈출한거 겨우 잡았더니 또 탈출했네 이젠 침대밑으로 가서 영영 못잡음  - dc official App\n",
      "\n",
      "Comment: 느금마\n"
     ]
    },
    {
     "name": "stderr",
     "output_type": "stream",
     "text": []
    },
    {
     "name": "stdout",
     "output_type": "stream",
     "text": [
      "Content: \n",
      "집에 풀어둘건데\n",
      "\n"
     ]
    },
    {
     "name": "stderr",
     "output_type": "stream",
     "text": []
    },
    {
     "name": "stdout",
     "output_type": "stream",
     "text": [
      "Content: \n",
      "아버지가 20억 자산가라네 ㅋㅋㅋㅋㅋㅋ 불공평한 세상 \n",
      "\n",
      "Comment: ㄴㄴㄴ 택배 기사함\n",
      "Comment: 뭔타격이 없어ㅋ걔밀수좃목들 전부뒤져가는데ㅋㅋㅋ\n"
     ]
    },
    {
     "name": "stderr",
     "output_type": "stream",
     "text": []
    },
    {
     "name": "stdout",
     "output_type": "stream",
     "text": [
      "Content: \n",
      "4년전까지만해도  무조건 큰게 좋다 vs. 파충류는 공간감이적고 활동량이 적어서 작아도 된다 이걸로 맨날 싸웠는데 지금은 대세가 머임? 팡갤 4년 만에 복귀라 진지하게 질문하는 거임  - dc official App\n",
      "\n",
      "Comment: 크레 망할때까지 싸울듯\n",
      "Comment: 그래도 요즘은 무지성 댓글 안 달리고 큰 게 좋은 편이라는 여론 형성됨\n",
      "Comment: 구조물 잘 넣어준다는 조건 하에 넓은게 낫지. 꼴랑 백업 하나 넣어줄거면 적재 정도가 낫고\n",
      "Comment: 크레는 크면 안좋은게 맞음 454560에 드가면 절반이상이 미친놈 되버리고 밥도 안먹고 빼빼 말라감  - dc App\n",
      "Comment: 옛날엔 303045아니면 혼났었는데\n",
      "Comment: 개체마다 다르다고 생각함 ㅇㅅㅇ..난 베이비 때부터 jif 적재형 대로 시작했는데, 자율도 잘하고 건강 이상이나 마른 적 한번도 없었움\n",
      "Comment: 크면 밥도 안쳐먹고 손피하고 잡으면 오줌 갈기고 불안해 하는게 느껴져서 손태워서 키우기엔 작은게 좋은거 같은데본성을 억누르나 싶기도 하고 - dc App\n",
      "Comment: 3평 독방에 갇히기 vs 사하라 사막에서 혼자 지내기\n"
     ]
    },
    {
     "name": "stderr",
     "output_type": "stream",
     "text": []
    },
    {
     "name": "stdout",
     "output_type": "stream",
     "text": [
      "Content: \n",
      "방금 약먹였는데 혀 낼름낼름하면서 잘받아먹는다 다른애는 약먹일때 개지랄했는데 씨발련  - dc official App\n",
      "\n",
      "Comment: 주인 잘만났네\n",
      "Comment: 지도 괴로왔는듯ㅋㅋ\n",
      "Comment: 크으 효자새끼는 개추야\n"
     ]
    },
    {
     "name": "stderr",
     "output_type": "stream",
     "text": []
    },
    {
     "name": "stdout",
     "output_type": "stream",
     "text": [
      "Content: \n",
      "약 한번 발랐다고 상태 개좋아지네  - dc official App\n",
      "\n",
      "Comment: 얼라료..? 쩌네ㄷㄷ 근데 눈 왜그런거래..?\n",
      "Comment: 테라마이신\n",
      "Comment: 그걸 또 병원에가서 치료받은거냐 돈아깝다 그돈으로 부모님께 효도나해라\n"
     ]
    },
    {
     "name": "stderr",
     "output_type": "stream",
     "text": []
    },
    {
     "name": "stdout",
     "output_type": "stream",
     "text": [
      "Content: \n",
      "블랙킹 블리자드킹 ㅇㅇ\n",
      "\n"
     ]
    },
    {
     "name": "stderr",
     "output_type": "stream",
     "text": []
    },
    {
     "name": "stdout",
     "output_type": "stream",
     "text": [
      "Content: \n",
      "난 몇명 보이는듯 지역별로 한명씩은 있는듯함\n",
      "\n",
      "Comment: 생각보다 은둔고수들이 많음 찻집에 활동하는 놈들은 혀만 길다  - dc App\n",
      "Comment: 용용이는 자꾸 똑똑한 척함 당연히 아는 거에 참견댓 달고\n",
      "Comment: ㅂㅅ\n",
      "Comment: 대가리 총맞은 게인가\n",
      "Comment: 누구임?\n"
     ]
    },
    {
     "name": "stderr",
     "output_type": "stream",
     "text": []
    },
    {
     "name": "stdout",
     "output_type": "stream",
     "text": [
      "Content: \n",
      "1 이미지 순서 ON2 이미지 순서 ON3 이미지 순서 ON병원에서 올린사진보니깐 아침보다 더 심한데 4 이미지 순서 ON5 이미지 순서 ON이건 아침에 찍은건데 몇시간만에 저렇게 악화가 되노  - dc official App\n",
      "\n",
      "Comment: 잘했다 클날뻔했구먼 - dc App\n"
     ]
    },
    {
     "name": "stderr",
     "output_type": "stream",
     "text": []
    },
    {
     "name": "stdout",
     "output_type": "stream",
     "text": [
      "Content: \n",
      "이번 행사 보니까 크레 입양 마렵네... 난 크레는 안하는데 최근 행사도 열고 크레값도 싸다고 하던데 초기자본 200만원 정도만 넣어서 세이블 그룹 맞추면 최저시급 벌면서 유튜브 넷플릭스 보는 거잖아 이정도면 나름 할만하지 않나? 나중에 크레 다 팔면 돈도 다 회수 가능하고 좋을거 같은데.. 그리고 곧있으면 행사 열릴 시기라 지금이 저점이라고 들었음 넷플릭스 보면서 돈 벌면 개꿀아님? 이건 안하면 그게 더 이상한것같음ㅋㅋ..ㅋㅋ https://youtu.be/r7ViabfaOgU?si=RoS7a4CW4toh7pTQ 작은물결: 파동~작은물결: 파동~youtu.be - dc official App\n",
      "\n",
      "Comment: 아니다 이 갈등의 주범아\n",
      "Comment: 초초는 괜찮음 아무리 떡락해도 성체만 찍으면 이득봄  - dc App\n",
      "Comment: 초초사서 모니터 던져줘\n",
      "Comment: 이새끼는 언제까지 이런 글 쓰려나 슬 재미없는데\n"
     ]
    },
    {
     "name": "stderr",
     "output_type": "stream",
     "text": []
    },
    {
     "name": "stdout",
     "output_type": "stream",
     "text": [
      "Content: \n",
      "알바가다가주웟음\n",
      "\n",
      "Comment: 두꺼비독있고 불법임\n"
     ]
    },
    {
     "name": "stderr",
     "output_type": "stream",
     "text": []
    },
    {
     "name": "stdout",
     "output_type": "stream",
     "text": [
      "Content: \n",
      "틈새 개좁고 길어서 안을 볼수가 없음;; 일단 휴대용 내시경 카메라 사놨는데 저 틈새로 밀웜넣고 기다리면되려나 방에서 갈수있는데가 저기밖에 없어 \n",
      "\n",
      "Comment: 물그릇두고 밤에 불끄고 대기가자\n",
      "Comment: 에어컨틀고 앞에 전기장판두기\n",
      "Comment: ㅋㅋㅋ - dc App\n"
     ]
    },
    {
     "name": "stderr",
     "output_type": "stream",
     "text": []
    },
    {
     "name": "stdout",
     "output_type": "stream",
     "text": [
      "Content: \n",
      "개멋지다 모프 이름이 키클롭스 ㅋㅋ \n",
      "\n",
      "Comment: 기공포 무공술 태양권 가능\n",
      "Comment: 포네그리프 읽겠노\n",
      "Comment: 와...씹  - dc App\n",
      "Comment: r개무섭네\n",
      "Comment: 무서워 ㅅㅂ\n"
     ]
    },
    {
     "name": "stderr",
     "output_type": "stream",
     "text": []
    },
    {
     "name": "stdout",
     "output_type": "stream",
     "text": [
      "Content: \n",
      " 하도 귀뚜라미가 없어서 한번 풀무치 사보기로 함  B사이즈? 성충 25마리 있는걸로 삼  생각보다 많이 와서 마릿수 새어보니 오다 죽은거 4마리 포함해서 총 45마리나 왔음 기호도 ㅅㅌㅊ  - dc official App\n",
      "\n"
     ]
    },
    {
     "name": "stderr",
     "output_type": "stream",
     "text": []
    },
    {
     "name": "stdout",
     "output_type": "stream",
     "text": [
      "Content: \n",
      "ㅋㅋㅋㅋ씨팔 조팔 깜짝 놀랐네 ㅋㅋㅋ 시체 찍어서 올리노 ㅋㅋㅋㅋㅋㅋㅋㅋ 눈3개 도랏노 ㅋㅋㅋ\n",
      "\n",
      "Comment: ㅇㅎ 천진반\n",
      "Comment: 링크좀\n"
     ]
    },
    {
     "name": "stderr",
     "output_type": "stream",
     "text": []
    },
    {
     "name": "stdout",
     "output_type": "stream",
     "text": [
      "Content: \n",
      "안뇽? 나는 뱜만 4마뤼 키우는 집사얗ㅎ 일단 사진이 첨부되지 않은건 좀 양해 ㅠㅠ  그래도 말로 설명을 잘해 볼테니!우리 집에 맨 첨으로 온 뱜으론 알비노 콘이야내 생일때 받은 내 인생의 첫 뱀이야!색깔은 코랄색 비슷하고 엄청 순딩이야 성별은 수컷 추정이얏글구 이름은 루비 퀸 이야 ㅋㅋ 내가 좀 특이한 이름을 좋아해스 그리고 눈이 루비 같아서 말이징ㅋㅋ길이는 한 113센치 정도이고 머리 위에 다야 문양이 있어!여튼 내가 키우는 뱜중 젤 첫뱀이야두번째로 온 뱜으론 노멀 볼파가 있어!이름은 모카이구 성별은 미구분이라서 잘 모르겠엇노멀인데 딴 개체들 보단 색이 더 밝고 마치 모카 커피가 연상 되는 아이라스 모카라 지엇으ㅋㅋ 요 친구는 내가 레테를 데리러 갈려다가 내가 원하는 그린폼이 아닌 실버폼이라스 실망하며 갈려 하는데 샵 직원 분께서 볼파는 어떻냐고 보여주셨을때 넘 귀여워서ㅋㅋ 델꼬 온 내 두번째 뱜이야 ㅋㅋ세번째로는 호그 헷알비노야!내가 키우고 싶은 뱜들 중 top2였는데 어쩌다 보니 내게 기회가 와스 잽싸게 델꼬 올수 있엇으 ㅋㅋ암컷이구 첨에 왔을땐 아직 익숙치 않아선지 히싱하면서 입질을 햇었음 ㅋㅋ 근데 점차 있다보니 지도 괜찮은지 세상 순둥이가 됏드라 ㅎㅎ 그렇게 해서 내가 키우는 뱜중 3번째로 온 뱜이얃마지막으로 내가 정말루 키우고 싶엇던 블뷰야!진짜 데리고 왓을때 심장이 터지는줄 알았어 ㅋㅋ 너무 이쁘드라구 ㅋㅋ 근데 애가 오면서 통에 지렷더라고..그래서 통 씻을려구 갸 꺼냈는데 아가 나오자마자 입질 ㅋㅋ 성격이 뭣같다더니 정말이더라..여튼 어찌저찌 씻고 핸들링을 시도해봣어 첨에는 물릴까브 장갑끼고 했는데 애가 손을 아는지 지난 뒤부터 맨손으로 하니 입질도 없고 얌전해 졋더라 ㅋㅋ 이제는 그냥 잡아두 경계를 많이 풀고 입질도 안해 ㅋㅋ 역시 뭐든 익숙해 져야해 ㅋㅋ 참! 이름은 루나야 내가 야를 키우게 되면 이렇게 꼭 짓구 싶더라구 그래서 일케 지었어! 근데 성별은 ㅠㅠ 나중에 검사해야해 ....ㅋㅋㅋ 제발 이름 처럼 여성다운 암컷임 좋겟으 ㅠㅠ이렇게 해서 내가 키우는 뱜들 소갤 해봣으 갑자기 뜬금 없지마는 해보구 싶드라 ㅋㅋ 말투가 좀 그렇지만 일케 안함 내 말투가 너무 딱딱해서 ㅋㅋ 여튼 긴 소개글 읽어 줘스 감사~ 다들 좋은 하루보내셈!\n",
      "\n",
      "Comment: 사진으로 올리쇼  - dc App\n",
      "Comment: ㅋㅋㅋ커엽노\n",
      "Comment: 개귀엽네\n"
     ]
    },
    {
     "name": "stderr",
     "output_type": "stream",
     "text": []
    },
    {
     "name": "stdout",
     "output_type": "stream",
     "text": [
      "Content: \n",
      "각막염 처걸렸네 개좆같다  - dc official App\n",
      "\n",
      "Comment: 흙 매주 갈아주냐?습해서 요즘날씨엔 곰팡이 필정돈데  - dc App\n"
     ]
    },
    {
     "name": "stderr",
     "output_type": "stream",
     "text": []
    },
    {
     "name": "stdout",
     "output_type": "stream",
     "text": [
      "Content: \n",
      "크레가 뱀이된거같네 \n",
      "\n"
     ]
    },
    {
     "name": "stderr",
     "output_type": "stream",
     "text": []
    },
    {
     "name": "stdout",
     "output_type": "stream",
     "text": [
      "Content: \n",
      "17~18년도만해도 크레 몸값고 합리적이고 대체로 퀄리티가 모자라다보니 발전시켜나가는 재미도 있고 찻집에 간간히 올라오는 브리더들 개체들 보면 와 개이쁘다 했었음 물론 정보도 쏠쏠히 얻을수 있었음 ㅋㅋ 그때 하이앤드는 진짜로 아무나 가지고 있지않고 희소성높은걸 하이앤드라고 불렀었다 파충류 박람회를 가도 재미있었음 근데 이놈들이 크레팔아다가 돈맛봤다는 소리가 들리니까 난잡하고 근본없는 애들이 우후죽순 뛰어들어서 릴리로 알공장 돌려댐 이거때문에 그전까지는 릴리이기만 해도 미구분이 100~200하던 릴리 몸값이 19년부터 개쳐박음 ㅋㅋㅋ 진짜 지금 카푸 쳐박는거보다야 느렸지만 그래도 지금안팔면 내일은 더 싸게 팔아야한다 그 위기감때문에 릴리 갖고있던 공장장들은 해칭하면 0그람때부터 막 내보내기 바빴다 나름대로 희소성있던 모프인 릴리가 쳐박으니 노말도 말할것도 없이 내리꽂았고 그때 이제 크레판 끝났다 이 말 줫나 나왔다 ㅋㅋㅋ 내 기억으로 수컷 3~5만원, 미구분 도매가 3만, 노말암컷 15~20 스타트,  릴리 미구분 10만원 초반대까지 쳐박았었음 (23년 현시점 쳐박은 시세랑 비슷하다고 보면됨) 근데 크레 분양가가 쳐박으니 오히려 가볍게 입문하는 사람이 많아졌고 딸내미 아들내미들이 하나만 사달라고해도 쉽게 사줄만한 금액이니까 생각보다 유입이 꽤 됐엇고 처음엔 딸내미 사줬다가 잘키워보려고 정보얻어볼라고 찻집 드나드는 부모들이 여기저기서 보이는 고퀄들 보고 눈돌아갔고 더불어서 이거 돈된다 이소리 들으니 고퀄개체들 분양도 늘어났고 몸값들도 서서히 오름. 그리고 릴리중에서도 풀커버, 솔리드, 퓨어화이트 등등 저퀄 고퀄 구분이 육안으로도 구분되니까 저퀄은 여전히 똥값이였지만 고퀄은 그만큼 대우받게되었음 근데 몸값이 오르다보니 이게 터무니 없이 오르기 시작함 초창기에는 도마뱀이 100만원?! 이렇게 느끼던 사람들도 워낙 그런애들이 많고 투자하면 금방 원금회수 하는게 여기저기 퍼지니까 뭐만하면 200 300 돈천만원 우습게됨 ㅋㅋㅋ 결국 돈때려박아서 고퀄데려오면 2배는 우습게 번다 이딴게 공식처럼 되버리니 진짜 말그대로 근본없는 놈들 개나소나 00렙타일, 00크레 이 ㅈㄹ병 떨면서 로고 만들고 팀이랍시고 활동함 ㅋㅋㅋ 이게 얼마나 같잖냐면 그놈들 글보면 가입인사, 00입양 그리고 한두달 지나서 닉변하고 브리더 등록해서 활동함 ㅋㅋㅋㅋ 팀이라고 만든놈들 보면 딱 그수준 뉴비들만 모아놨드라 이게 브리더냐? ㅋㅋㅋ 무슨 특별한 라인이 있는것도 아니고 여기서 하나 저기서 하나 걍 고퀄이라고 하면 눈탱이 맞아가면서 사온애들 급하게 사진찍고 이쁜우리애기~ ㅇㅈㄹ하면서 공장돌리는것뿐임 지들도 해칭경험 없고 정보도 없어서 얘네한테 배울점은 1도없음. 그냥 그 브리더들 개체로 혈섞음 하는거밖에 더되냐 ㅋㅋㅋ 생각이 박혀있으면 걔네들 새끼들 데려올 이유가 없지.. 원 브리더한테 데려오면 될걸 가격차이 얼마나지도 않고 지들도 투자한게 있으니 눈탱이는 또 얼마나 쳐대는데 뭐하러 굳이? ㅋㅋㅋㅋ 아무튼 이런 무지랭이들이 여기저기서 고퀄 찾으면서 수요증가 + 카푸치노, 설악, 세이블, 슈퍼카푸 등등 신모프 등장 + 뭐만하면 돈천만원. 이런게 일상이 되어버려서 분양가의 심리적 허들이 개박살남. 이땐 100~200쓰는건 고퀄도 아닌거처럼 되버림 등등 복합적인 이유로 22년 상반기에 크레 몸값이 역대 최고점을 찍음 나보다 안이쁜애가 100에 분양됐네? 그럼 난 120에 보내야지 이러면서 하루가 멀다하고 몸값이 쳐오름 솔직히 난 이때부터 이 시장 조만간 터지겠구나 느꼈다 입문자들이 랜덤모프 8만원주고 데려와서 방구석에 쳐박아놓고 키우던것들이 카푸라고 밝혀졌고 알게모르게 엄청나게 퍼진게 카푸인데 유명 브리더 놈들은 공장풀가동 하려고 성체한번 얻어볼라고 헐레벌떡 딸랑딸랑 거리면서 단아저씨한테 개체 빼오기 바쁘고 무지랭이 뉴비 자칭 브리더들은 거기서 떨어지는 베이비 분양받아서 지들도 돈벌생각에 희망회로나 굴리고 있고 ㅉㅉ 정작 신규유입은 줫도 없는데 쏟아지는 개체들은 누가 사줄거라고 생각하는건지.. 쯧쯧 한창 크레몸값 거품끼고나서 렙쇼갔을때 느낀게 가족들이 뭔 파충류 행사한다고 해서 구경왔는데 딸내미 아들내미가 귀엽다 갖고싶다 하는데 가격 써있는거보면 제일싼게 몇십만원인데 ㅋㅋㅋㅋ 누가사냐 ㅋㅋㅋ 그들만의 리그도 아니고 ㅋㅋㅋ 개체들은 시즌마다 10배씩 늘어가는데 그걸 소화해줄 유입은 없고 키우는 놈들 안에서만 뺑뺑이 도는데 언젠간 터질 폭탄이였음 ㅋㅋㅋ 패닉셀 나오는것도 뭐 예상 못한것도 아니고 ㅋㅋㅋ 이전부터 브리딩 했던 사람들이야 뭐 원금회수 진작에 다하고 이제 뭐 시세가 쳐박던 말던 용돈벌이나 하면 되는건데 뇌에 우동사리밖에 없는 뉴비브리더들이 패닉와서 급매로 다 던져댐 ㅋㅋㅋ 이와중에 세이블에 물린애들은 그냥 레전드고.. 지금은 아무리 싸게 보내도 데려올 메리트 자체가 없으니 찻집에 악성재고만 쌓여가는 상황이다 이런  남들 다 예상한 상황을 지가 여론만들고 주물렀다거 믿고 인생최대업적 갱신한 무근본 변방 잼민이 씹태백 고점에 물렸는데 물린지도 모르고 현실부정하면서 내새꾸 내새꾸하면서 정작 아잔틱 급매하기 바쁘고 눈물의 똥꼬쇼 쳐하다가 봉별기쓰고 떠난  자칭네임드브리더 그와중에 지들 장사에 지장생길까봐 물어뜯기바쁜 업체들 이제 끝물이다 싶으니 쌓아둔 아잔틱 다풀면서 굿바이 창고정리 하는 ㅇㅍㄴㅌ도 하나같이 크레판이 진짜 끝물인거 보여준다 ㅋㅋㅋㅋ 해칭을 하지 말던 몰래 변기에 쳐내리던 암매장을 하던 자연에 방생하던 개체수 줄이는게 아니면 무조건적으로 공급이 수요보다 많을 수 밖에 없음 그리고 그동안 이 시장을 굳건하게 유지시켜준 핵심은 '돈벌이가 된다' 였음 ㅋㅋㅋ 근데 이젠 그게 아님 말그대로 잘못 물면 뒤지는 독사과임 ㅋㅋㅋㅋ 유일한 상황 타개는 몸값이 더 쳐박아서 마트에서 사던 이구아나마냥 아무나 쉽게 접근 가능해져서 유입이 느는걸 바라는게 유일한 방법임 근데 현실적으로 그럴 확률은 높지않음 ㅋㅋㅋ 당장 찻집 분양게시판만 가봐도 그게그거고 별차이도 없는 개체들만 쌓여있다 ㅋㅋㅋ 정보도 얻어가고 인기가 없어도 한분야만 파고드는 브리더 보는맛 이런건 이제 역사속으로 사라짐 ㅋㅋㅋ 개나소나 고퀄고퀄 하이앤드 프리미엄 온갖수식어 갖다붙혀서 팔아볼라고 발악하고 악성재고떨이를 이벤트, 행사로 위장하는 장사치만 가득한게 현상황이다 - dc official App  - dc official App\n",
      "\n",
      "Comment: 씹태백ver.2 냐  - dc App\n",
      "Comment: 올려보면 알겠지\n",
      "Comment: 돈만 보는사람이 많아서 그래용 전 사랑으로 키우고 있답니다 하면서 크레맘들 기어나오고 업자들은 긁혀서 댓담\n",
      "Comment: 근데 이리 안흘러가는게 오히려 이상하지않냐? 자본주의사회에서 당연히 일어날법한 일이 일어난것 뿐이다. 이제 누군가는 도퇴되겠지.\n",
      "Comment: 알공장 한마리통한의 비추?\n",
      "Comment: 재밌게 잘쓰네 ㅋㅋ - dc App\n",
      "Comment: 다 아는 이야기를 구구절절이도 써놨노\n",
      "Comment: 독사로 끝나면 다행이지 ㅋ\n",
      "Comment: 다 아는 이야긴데 굳이 길게도 다썻네  - dc App\n",
      "Comment: 빨리써 현기증난다   - dc App\n",
      "Comment: 될놈될\n",
      "Comment: 이글 여기서만 네벜째봄 ㅋㅋㅋㅋㅋㅋ 영원히 고통받는 ㅇㅍㄴㅌ ㅋㅋㅋㅋㅋㅋㅋㅋ\n",
      "Comment: 똑똑하네그래서 얼마 범?\n",
      "Comment: ㄹㅇ\n"
     ]
    },
    {
     "name": "stderr",
     "output_type": "stream",
     "text": []
    },
    {
     "name": "stdout",
     "output_type": "stream",
     "text": [
      "Content: \n",
      "댓글에서 싸우는거 보소\n",
      "\n",
      "Comment: ㄹㅇ 싸움쿤ㅋㅋㅋ 싸움은 항상 다른놈들이 걸어옴ㅋㅋ\n"
     ]
    },
    {
     "name": "stderr",
     "output_type": "stream",
     "text": [
      "\n"
     ]
    },
    {
     "name": "stdout",
     "output_type": "stream",
     "text": [
      "Content: \n",
      "주문한 새사육장 오기전까지 적재 특대에 뒀는데 밤새 사라짐  베이비라 벽도못타고 올라갈 구조물도없고 뚜껑도 닫아뒀는데 대체 어디로간거야 미치겠네 \n",
      "\n",
      "Comment: 바닥재 아래 봐봐 ㅋㅋㅋ 키친타올 아래로 잘 들어감 - dc App\n",
      "Comment: 새로입양ㄱㄱ내꺼 데려가셈 퀄 좋음  - dc App\n",
      "Comment: 몇일뒤 미라화되서 발견될듯\n",
      "Comment: 너가 세팅해두고 다른데놔둔거아님?그럴일이없는데 - dc App\n",
      "Comment: Jif 특대 사육장이야?\n"
     ]
    },
    {
     "name": "stderr",
     "output_type": "stream",
     "text": [
      " 76%|███████▌  | 37/49 [01:11<00:20,  1.75s/it]\u001b[A"
     ]
    },
    {
     "name": "stdout",
     "output_type": "stream",
     "text": [
      "Content: \n",
      "하.. 어느날 보니 울 집에 있는 애기 호그노즈가 블루가 와서 곧있음 허물 벗겠다 싶어서 몇일 뒀어. 근데 갑자기 몸은 탈피 한것마냥 깨끗한데 눈은 아직 퍼래. ..허나 움직이질 않아 ㅠㅠ그러고 보니 얼마전에 밥줬는데 아직도 배설을 안했어...그래서 탈피부전인가 싶어서 온욕도 해주고 배 마사지도 해 줬는데 ㅠㅠㅠ 애가 안움직여 ㅠㅠ 글구 애가 뻣뻣해 이거 왜 이런거?ㅠㅠㅠ 진짜 확 갈까바 무서워 어떡해야 할지 누가좀 도와줘 나 급해 ㅠㅠㅠㅠ\n",
      "\n",
      "Comment: 뻣뻣하면 이미 간거 아니냐? 만져도 반응 없어?\n",
      "Comment: 살아는 있는데 거의 안 움직임 ㅠㅠ 어케\n",
      "Comment: 원래 탈피 전 탈피한거처럼 깨끗해져. 아직 전체가 탈피가 안된거 같은데 호그는 극심한 스트레스 받으면 죽은척하는건 알지..? 사육장에 탈피껍질이 없으면 물그릇만 깨끗하게 유지해주면 잘 벗을거야. 의외로 온욕은 파충류한테 큰 스트레스를 줘서 베이비 특히 호그같은 예민한 애들은 몸 전체탈피를 오랜기간 못한게 아니라면 온욕은 비추야.  - dc App\n",
      "Comment: 탈피 할 준비도 안됐는데 온욕, 배마사지, 탈피시키려고 몸 문지르기 등등등 스트레스 많이 주면 탈피 할 애들도 못해  - dc App\n",
      "Comment: 애기뱀 탈피 잘 해주길 바랄게!!  - dc App\n",
      "Comment: 원래 탈피할 때 먹이 먹으면 탈피하면서 같이 싸는게 많음\n"
     ]
    },
    {
     "name": "stderr",
     "output_type": "stream",
     "text": []
    },
    {
     "name": "stdout",
     "output_type": "stream",
     "text": [
      "Content: \n",
      "벗어나면 뒤지는줄 알았음 근데 겨울에 샵에서 데리고와도 멀쩡하더라  - dc official App\n",
      "\n",
      "Comment: 난 레게 처음샀을때 한겨울에 막 갖고다니다가 동사함\n",
      "Comment: 그런줄아는ㅂㅅ들많음ㅎ\n",
      "Comment: 그런 생물은 진작 멸종했겠지\n",
      "Comment: 저온종은 뒤지긴하던데\n"
     ]
    },
    {
     "name": "stderr",
     "output_type": "stream",
     "text": []
    },
    {
     "name": "stdout",
     "output_type": "stream",
     "text": [
      "Content: \n",
      "\n",
      "\n",
      "Comment: 왜.??\n"
     ]
    },
    {
     "name": "stderr",
     "output_type": "stream",
     "text": []
    },
    {
     "name": "stdout",
     "output_type": "stream",
     "text": [
      "Content: \n",
      "뭐? 서비스로 줘?? 도매가로 손님한테 주는거 도매 준 업체에서는 알고 있냐? 돈 많이 버는거 아니야ㅠㅠ? 구질구질하게 500만원으로 뭘 그러냐 깔끔하게 514만 카드 결제 취소 시켜주고 그대로 돌려 받으면 될듯   - dc official App\n",
      "\n",
      "Comment: 돈없어서 못해줄듯 ㅋㅋㅋㅋㅋㅋㅋㅋㅋㅋ\n"
     ]
    },
    {
     "name": "stderr",
     "output_type": "stream",
     "text": []
    },
    {
     "name": "stdout",
     "output_type": "stream",
     "text": [
      "Content: \n",
      "판다데려올돈으로 에버랜드 공룡테마로 꾸미고 이새끼나 데려와라  - dc official App\n",
      "\n"
     ]
    },
    {
     "name": "stderr",
     "output_type": "stream",
     "text": []
    },
    {
     "name": "stdout",
     "output_type": "stream",
     "text": [
      "Content: \n",
      "버젯토마토\n",
      "\n",
      "Comment: 아예 환경이 달라서 추천하기 힘드노\n",
      "Comment: 버젯 완수생 아닌가 근데 개구리는 못생기면 호감임  - dc App\n",
      "Comment: 버젯 개재밌다 ㄱㄱ\n",
      "Comment: 당근빳따 토마토죠 쉬불쟝  - dc App\n",
      "Comment: 그렇지만 버젯도 귀여움  - dc App\n",
      "Comment: 버젯진짜 ㅈㄴ징그러워서 밟아죽이고싶던데\n"
     ]
    },
    {
     "name": "stderr",
     "output_type": "stream",
     "text": []
    },
    {
     "name": "stdout",
     "output_type": "stream",
     "text": [
      "Content: \n",
      "물론 뱀이 좆쳐망한 것도 있긴 하지만그거 이전에 파사모에 저런 식으로 '투자로 산 사람'이 나중에 클레임 걸 때는 '동물을 사랑하는 애호가'로 둔갑해서'울고 있어요ㅠㅠ' '눈물이 멈추지 않아요ㅠㅠ'이런 내용이 담긴 장문글을 올려대는거, 그리고 그런게 결코 소수가 아니라는거 확인하고 깔끔하게 접음생각해보면 그 전에 절지 쪽 정리하는데 영포티가 멀쩡한 개체 가지고 '이거 병신개체 아니에요?' 이런 글 올리면서 사람 개새끼 만드는거 보고이런 취미생물 분야에 정나미 다 떨어진 것도 있고\n",
      "\n",
      "Comment: 파충류 절지 음습한 놈들이 다른 생물판 보다 더 많음ㅋㅋ 기지베 마냥 존나 징징거림 업자든 일반인이든\n"
     ]
    },
    {
     "name": "stderr",
     "output_type": "stream",
     "text": []
    },
    {
     "name": "stdout",
     "output_type": "stream",
     "text": [
      "Content: \n",
      "왜 저러는거야 이불이라도 깔아줘야하나  - dc official App\n",
      "\n",
      "Comment: 냅둬 거기가 편한가보지\n"
     ]
    },
    {
     "name": "stderr",
     "output_type": "stream",
     "text": []
    },
    {
     "name": "stdout",
     "output_type": "stream",
     "text": [
      "Content: \n",
      "찻집은 ㅈㄴ댓글 안달아주고 여기는 헛소리만 ㅈㄴ하니깐  - dc official App\n",
      "\n",
      "Comment: 예전엔 여기도 참 좋았는데 이제 완전히 맛이 갔지당장 지금 페이지에 대부분이 통피인 것만 봐도\n"
     ]
    },
    {
     "name": "stderr",
     "output_type": "stream",
     "text": []
    },
    {
     "name": "stdout",
     "output_type": "stream",
     "text": [
      "Content: \n",
      "폭로한다면서 폭로할건없고돈번다면서 돈은없고능력좋다면서 능력없고마치 작은 고슴도치 같아가시를 세워서 커보이려고 애쓰지만그 가시때문에 누구와도 함께하지 못하는 작은 고슴도치...\n",
      "\n",
      "Comment: 홍철 없는 홍철팀\n",
      "Comment: 전혀 아닌데유 사기업자님ㅎ여론선동 열심히 하시느라 애쓰시네유 사기업자님ㅎ\n",
      "Comment: 머노 게이야\n"
     ]
    },
    {
     "name": "stderr",
     "output_type": "stream",
     "text": [
      "\n"
     ]
    },
    {
     "name": "stdout",
     "output_type": "stream",
     "text": [
      "Content: \n",
      "말투 트젠같아서 보기 싫음저 딸피때문에 사람들도 다 나가나봐\n",
      "\n",
      "Comment: 뉴트 감정풍부화 외침이 말하는거지?제 뉴트는 부모의 유전을 받아서 성격이 조아요!!!!뉴트는 친구가 밥먹는 모습을 보면 따라 배워요!!!!\n"
     ]
    },
    {
     "name": "stderr",
     "output_type": "stream",
     "text": [
      "100%|██████████| 49/49 [01:33<00:00,  1.91s/it]\u001b[A\n",
      " 24%|██▍       | 7/29 [13:53<39:38, 108.11s/it]"
     ]
    },
    {
     "name": "stdout",
     "output_type": "stream",
     "text": [
      "Content: \n",
      "어제새벽에 미친듯이 돌아다니더니 습은에서 퍼질러자네 \n",
      "\n",
      "Comment: 스오야 스디블은 이쁘다 ㅇㅈ한다근데 텐저린은 못생김\n"
     ]
    },
    {
     "name": "stderr",
     "output_type": "stream",
     "text": []
    },
    {
     "name": "stdout",
     "output_type": "stream",
     "text": [
      "Content: \n",
      "진짜 궁금한건데...대량 번식하시는 분들중에 개체가 장애가 나오거나 퀄이 너무 똥퀄이라 분양이 어렵다고 판단되는 애들은어떻게 처리해???많이 키우시는 분들은 번식도 한두마리가아니라 몇백마리씩 나올텐데 어떻게 관리하는지...\n",
      "\n",
      "Comment: 먹이 또는 종랑제  - dc App\n",
      "Comment: 산에다가 방생 하고 옴\n",
      "Comment: 무분하거나 먹이용으로 처리\n",
      "Comment: 진지하게 방생, 먹이, 종량제 인거야?\n",
      "Comment: 1000원 도매로 처리하지 ㅇㅇ  - dc App\n"
     ]
    },
    {
     "name": "stderr",
     "output_type": "stream",
     "text": []
    },
    {
     "name": "stdout",
     "output_type": "stream",
     "text": [
      "Content: \n",
      "ㅋㅋㅋ잼노\n",
      "\n",
      "Comment: 반대 아님?  - dc App\n",
      "Comment: ㅋㅋㅋㅋㅋㅋㅋㅋㅋ 저능 - dc App\n",
      "Comment: 그렇게 잘 아는애가 돈은 왜 못...\n",
      "Comment: 일본 크레 퀄리티 개똥인데 왜 수입해옴?\n",
      "Content: \n",
      "개미 거미 전갈 이런건 번식하면 ㅈㄴ 많을텐데..?양서류 어류 갑각류도 마찬가지고..이걸 다 일일히 신고하고 허가하겠다고..??\n",
      "\n",
      "Comment: 미친거지. 똥개들 허가제 축산부에서 하니까 환경부 새끼들 아무생각없이 따라하는것일뿐\n",
      "Comment: ㅋㅋㅋ대가리빈 문신충 업자들 감당 가능하냐\n",
      "Comment: 그냥 서류처리 ㅈ빠지라고 업자끼리 우리 도매보내요~하고 300 400마리 서류신청만 돌리면 환장하고 좋아할듯  - dc App\n"
     ]
    },
    {
     "name": "stderr",
     "output_type": "stream",
     "text": []
    },
    {
     "name": "stdout",
     "output_type": "stream",
     "text": [
      "Content: \n",
      "시발아  - dc official App\n",
      "\n"
     ]
    },
    {
     "name": "stderr",
     "output_type": "stream",
     "text": []
    },
    {
     "name": "stdout",
     "output_type": "stream",
     "text": [
      "Content: \n",
      "빅존슨 vs 피그미 뭐가 더 나음?\n",
      "\n",
      "Comment: 피그미존슨\n"
     ]
    },
    {
     "name": "stderr",
     "output_type": "stream",
     "text": []
    },
    {
     "name": "stdout",
     "output_type": "stream",
     "text": [
      "Content: \n",
      "ㄹㅇ 크레 다음 피그미다 알려줄때 사 파샵들 다 뒤에서 준비한다 방구석 브리더들 빨리 준비해\n",
      "\n",
      "Comment: 오줌냄시 ㅈ댐\n",
      "Comment: 피그미 애들보니 다 뒤지던데 ㅋㅋㄹㅇ 소모품임  - dc App\n",
      "Comment: 존나 안팔리나봐요 씨발련아\n",
      "Comment: 지났어작년에 성체사서 새끼쳐서 올 상반기에 팔았어야...\n",
      "Comment: 똥냄시 ㅈ됨\n",
      "Content: \n",
      "1 이미지 순서 ON액키 2 이미지 순서 ON레게 3 이미지 순서 ON비어디  - dc official App\n",
      "\n",
      "Comment: 넌 허가받아라 그대로 해도 받을듯  - dc App\n",
      "Comment: 외모는 레게가 넘사긴하네\n",
      "Comment: 액키.. 부럽..\n"
     ]
    },
    {
     "name": "stderr",
     "output_type": "stream",
     "text": []
    },
    {
     "name": "stdout",
     "output_type": "stream",
     "text": [
      "Content: \n",
      "개체가 작긴한데 저런곳에도 들어갈수있음? \n",
      "\n",
      "Comment: 당연히 들어갈듯\n"
     ]
    },
    {
     "name": "stderr",
     "output_type": "stream",
     "text": []
    },
    {
     "name": "stdout",
     "output_type": "stream",
     "text": [
      "Content: \n",
      "ㄹㅇㅋㅋ\n",
      "\n",
      "Comment: 실력자들만 남아서 레게처럼 1-2천 하던거4-50에 취미시장에 파는거지재테크는 곧 망한다고 봐도됨  - dc App\n",
      "Comment: 물갈이 끝나고 가격 오를 기미 보이면 또 물들어오고 무한 반복  - dc App\n"
     ]
    },
    {
     "name": "stderr",
     "output_type": "stream",
     "text": []
    },
    {
     "name": "stdout",
     "output_type": "stream",
     "text": [
      "Content: \n",
      "좀 많이 추하네 자기네가 아잔틱 1.5세대라고 수출 수입 다했다 어쩌고하는데 왤케 보기안좋냐 \n",
      "\n",
      "Comment: ㅅㅈ도 자기가 2세대라고하는데 쟨 90년대에 크레키웠대냐?   - dc App\n",
      "Content: \n",
      "원래저것도 바로먹는디 입에물고 한참있다가 먹었음 \n",
      "\n"
     ]
    },
    {
     "name": "stderr",
     "output_type": "stream",
     "text": []
    },
    {
     "name": "stdout",
     "output_type": "stream",
     "text": [
      "Content: \n",
      "ㄹㅇ  - dc official App\n",
      "\n",
      "Comment: 중고ㄱ  - dc App\n",
      "Comment: ㄹㅇ\n",
      "Comment: ㅇㅁ는 왜죽여 ㅋ - dc App\n"
     ]
    },
    {
     "name": "stderr",
     "output_type": "stream",
     "text": []
    },
    {
     "name": "stdout",
     "output_type": "stream",
     "text": [
      "Content: \n",
      "좋다면 그걸로 됐다~꼭 원금회수 하길\n",
      "\n",
      "Comment: 니 면상보다 나음\n",
      "Comment: 히잉 나는 그냥 적정가격이 이뿐애들 열시미 키우고잇능딩\n",
      "Comment: 고생이많다\n"
     ]
    },
    {
     "name": "stderr",
     "output_type": "stream",
     "text": []
    },
    {
     "name": "stdout",
     "output_type": "stream",
     "text": [
      "Content: \n",
      "1 이미지 순서 ON얼마전에 집 온도가 너무 높아서 쇼크와가지고 요단강 건널뻔했음.. 2 이미지 순서 ON그래서 요샌 좀 시원한 안방에서 요양중.. 집도 오염원 다 빼고 치료요양버전으로 3 이미지 순서 ON와이프가 걱정 많이 해줘서 감동받았다.. 4 이미지 순서 ON도마도쟝.. 요샌 그래도 기운 많이차려서 밥 잘먹고 똥 잘쌈. 5 이미지 순서 ON* 레게는 따뜻하니 그저 신남  - dc official App\n",
      "\n",
      "Comment: 개귀엽노\n",
      "Comment: ㄹㅇ 개귀엽네\n",
      "Comment: 땅개구린 바닥재 깊게 깔아주고 화장실에 두면 ㄱㅊ  - dc App\n",
      "Comment: 도마도 개국엽네\n",
      "Comment: 토마토 30도면 위험함? - dc App\n",
      "Content: \n",
      "뭔가 이상함 ㅅㅂ 반대쪽은 멀쩡한데  - dc official App\n",
      "\n",
      "Comment: ㄱㅊ아보임\n"
     ]
    },
    {
     "name": "stderr",
     "output_type": "stream",
     "text": []
    },
    {
     "name": "stdout",
     "output_type": "stream",
     "text": [
      "Content: \n",
      "내가 최초 발견자냐 ㄷㄷㄷ 쿠앤크 개구리라고 명명하겠음. \n",
      "\n",
      "Comment: 청개구리 변이네\n",
      "Comment: 보호색 이자식아\n",
      "Comment: 나는 널 호모병신엔스라고 명명하겠음  - dc App\n",
      "Comment: 에휴\n",
      "Comment: 헐 쿠엔크개구리다\n"
     ]
    },
    {
     "name": "stderr",
     "output_type": "stream",
     "text": []
    },
    {
     "name": "stdout",
     "output_type": "stream",
     "text": [
      "Content: \n",
      "ㅋㅋㅋㅋㅋㅋㅋㅋㅋㅋㅋㅋㅋㅋㅋㅋㅋㅋㅋㅋㅋㅋㅋㅋㅋㅋㅋㅋㅋㅋㅋㅋㅋㅋㅋㅋㅋㅋㅋㅋㅋㅋ 아니 시발 수능이 3등급 이상이 아닐 수가 있다고?? 그럼 수능 4등급은 어때?  - dc official App\n",
      "\n"
     ]
    },
    {
     "name": "stderr",
     "output_type": "stream",
     "text": []
    },
    {
     "name": "stdout",
     "output_type": "stream",
     "text": [
      "Content: \n",
      "다들 고닉 파서 수능, 대학교 인증하고 글 쓰는게 어떨까? 그리고 최소 3등급, 건동홍 이상만 글을 쓰는 거야 서로 토론하고 ㅇㅇ 어때?  - dc official App\n",
      "\n",
      "Comment: 공산당임?\n",
      "Comment: 애샠기 인증인가 ㅋㅋ  - dc App\n",
      "Comment: ㅋㅋㅋ본인이 급식 학식인거 인증하누?\n",
      "Comment: ㅈㄹ\n"
     ]
    },
    {
     "name": "stderr",
     "output_type": "stream",
     "text": []
    },
    {
     "name": "stdout",
     "output_type": "stream",
     "text": [
      "Content: \n",
      "이젠 파충류 인싸픽아니냐 부스 직원누나들도 이쁘더라  - dc official App\n",
      "\n",
      "Comment: 가뭄에 콩나듯 있던데  - dc App\n",
      "Comment: 눈이 낮은걸 넘어서 퇴화된 수준이노\n",
      "Comment: 비주류는 아님\n",
      "Comment: 쌉오크던데 뭔솔;;\n",
      "Comment: 겠노?  - dc App\n",
      "Comment: 전부 침팬지암컷닮앗던데ㄷ\n",
      "Comment: 예전보다 늘긴했음 ㅋㅋ\n",
      "Comment: 저번에 세텍에서 한명봄ㅋㅋ\n"
     ]
    },
    {
     "name": "stderr",
     "output_type": "stream",
     "text": [
      "\n"
     ]
    },
    {
     "name": "stdout",
     "output_type": "stream",
     "text": [
      "Content: \n",
      "개체도 개같이 비싸고 용품도 싼것도 아닌데 왜가는거임?\n",
      "\n",
      "Comment: 여자구경 - dc App\n",
      "Comment: 중독\n"
     ]
    },
    {
     "name": "stderr",
     "output_type": "stream",
     "text": [
      " 41%|████      | 20/49 [00:39<00:57,  1.97s/it]\u001b[A"
     ]
    },
    {
     "name": "stdout",
     "output_type": "stream",
     "text": [
      "Content: \n",
      " - dc official App\n",
      "\n",
      "Comment: 얌전한 누룩뱀  - dc App\n",
      "Comment: 누룩뱀 아니고 무자치\n"
     ]
    },
    {
     "name": "stderr",
     "output_type": "stream",
     "text": []
    },
    {
     "name": "stdout",
     "output_type": "stream",
     "text": [
      "Content: \n",
      "우리집에 있는 피규어인데  - dc official App\n",
      "\n",
      "Comment: 할리퀸\n",
      "Comment: 좀 짬뽕이긴 하네 핀트라이임  - dc App\n",
      "Comment: 트익할\n"
     ]
    },
    {
     "name": "stderr",
     "output_type": "stream",
     "text": [
      "\n"
     ]
    },
    {
     "name": "stdout",
     "output_type": "stream",
     "text": [
      "Content: \n",
      "크레 정상화 응원한다  - dc official App\n",
      "\n"
     ]
    },
    {
     "name": "stderr",
     "output_type": "stream",
     "text": [
      " 47%|████▋     | 23/49 [00:44<00:45,  1.74s/it]\u001b[A"
     ]
    },
    {
     "name": "stdout",
     "output_type": "stream",
     "text": [
      "Content: \n",
      "지 조오온나게 쫄려서 어떻게든 욕으로 뒤지게 감싸농욕 더 해줘라ㅎㅎ 븅신들아 어차피 매번 와서 너네들 안잊게 어그로 끌고잊혀지지 않게 할거다ㅋㅋㅋㅋ지네들이 당하거나 불합리하다 생각하거나 기분 나쁘면 자기가 잘못한거도 다 까먹고 남탓 핑계 시전하면서 욕하고 하는게 너네들인거 제일 잘알거든ㅋㅋㅋㄱㅋ\n",
      "\n",
      "Comment: 자아성찰 잘하노 - dc App\n",
      "Comment: 마약이나 까보라고 쫄보련아 븅신이 누군지 지가 알텐데지 사업 망했다고 징징거리기 바쁘지 그래서 마약은 깔수 있고? 마약은 못 까면서 잊혀지지 않게 한데 개븅신니가 사업 접힌 이유를 알겠다이렇게하니 하나 남은 비어디도 따잇 당하지\n",
      "Comment: 결국 그냥 ㅈ도 없는 어그로 관종이었음ㅋㅋㅋ\n",
      "Comment: 말은 정이 떨어져서 판을 떠났다고는 하지만 누구보다 디시 파사모 활동을 열심히하는 성배쿤 비어디로 자기가 원툴 유지해볼려다가 여럿에게 따잇당하고 자리가 없어서 망해서 접어놓고 ㅠㅠ 지금 누구보다 잘번다고 하지만 정작 통장 잔고 하나 못까는 불쌍한 성배쿤 ㅠㅠ\n",
      "Comment: 실업자 ㅋㅋㅋㅋ케 - dc App\n"
     ]
    },
    {
     "name": "stderr",
     "output_type": "stream",
     "text": []
    },
    {
     "name": "stdout",
     "output_type": "stream",
     "text": [
      "Content: \n",
      "고맙다 븅들아~~ 욕하고 짖어라~~~~ 계속 이ㅈㄹ하면서 어그로 오지게 할거임ㅋㅋㅋ\n",
      "\n"
     ]
    },
    {
     "name": "stderr",
     "output_type": "stream",
     "text": []
    },
    {
     "name": "stdout",
     "output_type": "stream",
     "text": [
      "Content: \n",
      "삐빅  - dc official App\n",
      "\n",
      "Comment: 니 면상보다 나음\n"
     ]
    },
    {
     "name": "stderr",
     "output_type": "stream",
     "text": []
    },
    {
     "name": "stdout",
     "output_type": "stream",
     "text": [
      "Content: \n",
      "방 구조  창문  높음 틈새는 침대 밑밖에 없음 선반이나 벽등도 미끄러워서 올라기진못하는 구조 방 문 닫겨진상태로 밖에잇다가 왔는데 없어짐 침대 밑 아무리봐도 없고 침대 밀어봐도 안보임 아무리 찾아도 없는데 거실이나 다른곳들도 봐야하나ㅅㅂ 아니면 50L쓰레기봉투 바닥에 쓰레기통 겸 놓여있는데 레게가 비닐타고 올라갈수도있음? \n",
      "\n",
      "Comment: 비닐 탈 수 있긴함 탈출레게 찾은 후기들 많이 찾아봐바 아케하냐.. - dc App\n",
      "Comment: 예전에 키우던놈은 자온조 전선 외줄타기해서 타공 구멍으로 나갔음 ㅇㅇ 이새끼들 좆밥같아도 게코라는 이름값 충분히 한다\n",
      "Comment: 바닥 구석 어딘가에 있을거임 벽이 탈수있는 재질이 아니라면우리집은 원룸인데 냉장고 밑 구멍에 쳐들어가있더라\n",
      "Comment: 우리레게 탈출했을때 방에서 부엌까지 이동해서 냉장고 아래서 찾음ㅋㅋ아마 따뜻하고 좁은곳 찾아서 갔으면 냉장고 아래가 제일 가능성 있을듯  - dc App\n"
     ]
    },
    {
     "name": "stderr",
     "output_type": "stream",
     "text": []
    },
    {
     "name": "stdout",
     "output_type": "stream",
     "text": [
      "Content: \n",
      "재패니즈겟코?\n",
      "\n"
     ]
    },
    {
     "name": "stderr",
     "output_type": "stream",
     "text": []
    },
    {
     "name": "stdout",
     "output_type": "stream",
     "text": [
      "Content: \n",
      "국내상황 해외 뿌려라 니 수출하던 업자들 몇명 뿌리면  수일내 수출막힘  - dc official App\n",
      "\n",
      "Comment: 국내퀄이 이제 세계탑급이라 중국이랑 유럽에서 오히려 쇼구경와서 입양해가는 상황임 결국 탑급은 국내ㅈ망해도 수출뺄수있음  - dc App\n"
     ]
    },
    {
     "name": "stderr",
     "output_type": "stream",
     "text": []
    },
    {
     "name": "stdout",
     "output_type": "stream",
     "text": [
      "Content: \n",
      "일단 ㅎㅂ의 최고 전성기는 크레 ㅈ망했던 개떡락했던 그시절임 이유는 국내크레는 ㅈㄴ싸졋는대 해외에선 괜찮았음 당시 수출하던 사람이 푸랖 카푸같은거 20만원 10만원에 퀄상관없이 쓸어다가 푸랖80 카푸30에 수출빼서 이거 번식 왜하지? 생각했다했는대  ㅎㅂ가 딱 그때 국내크레 땡겨다 돈 많이벌었을거임  근데 크레가격이 정상화되면서 수출뺄 물량 도매를 못받기 시작함 가진건 비어디인대 이건 해외랑 국내 둘다 개노답이라 답이없음 그래서 선택한게 크레까면서 비어디 바이럴 근데 개같이 실패하고 결국 ㅈ망해서 샵접어놓고  판이 더러워서 떠난다고 쿨찐의 모습을 보여줌   - dc official App\n",
      "\n",
      "Comment: 크레가격 정상화는 앞으로 벌어질일인데  - dc App\n",
      "Comment: 헤비야 고생이 많다\n"
     ]
    },
    {
     "name": "stderr",
     "output_type": "stream",
     "text": []
    },
    {
     "name": "stdout",
     "output_type": "stream",
     "text": [
      "Content: \n",
      "영양소 다 빠져나가서 그렇다는데 비닐봉지에 귀뚜라미넣고 물에 담그면 되는거아님?  - dc official App\n",
      "\n",
      "Comment: 30분이면 다 녹는데 왜 담궈놈?\n",
      "Content: \n",
      "디시때문에 망한거임 비어디 바이럴 디시에서 ㅈㄴ했는대 안당해줘서 망한거잖아  - dc official App\n",
      "\n",
      "Comment: 아뇨 밀수업자님ㅎ\n"
     ]
    },
    {
     "name": "stderr",
     "output_type": "stream",
     "text": []
    },
    {
     "name": "stdout",
     "output_type": "stream",
     "text": [
      "Content: \n",
      "찍힌 곳이 한둘이 아닌거 같은데 저러다가 맞으면 안아프려나 몰라 키가 작아 맞을 곳이 적어서 당당 하나 힘내라 작아도 맞으면 아플거다 이미 아픈 상태 일 수 도있고  - dc official App\n",
      "\n",
      "Comment: 쩔수지 자기가 자초한 일인데\n",
      "Comment: 아뇨 밀수업자님ㅎ\n",
      "Comment: ㅋㅋㅋㅋㅋㅋㅋ 때리라고 오라니깐 안오던데ㅜ\n"
     ]
    },
    {
     "name": "stderr",
     "output_type": "stream",
     "text": []
    },
    {
     "name": "stdout",
     "output_type": "stream",
     "text": [
      "Content: \n",
      "나이 28살이고 전공은 수산쪽나옴.. 원래는 전문대졸이엿은데 아쿠아리스트가 너무 하고싶어서 4년제편입하고 대기업아쿠아리움 들어갓다가 갈굼이랑 군기못버티고 1달만에나오고.. 또 다른 아쿠아리움들어갓다가 3달하고 나오고... 그이후엔 그냥 알바하다가 이번에 해수부에서 인턴하고잇음 주변에서 공무원 준비해보래서 그냥 한국사 자격증공부부터 하고잇는데.... 공무원준비허는게맞을까? 이제 하고싶은일이 없음...마음은 아직도 아쿠아리움같은데서 물냄새맡으면서 생물관리하고싶은데 수족관쪽은 다 똑같더라 ..박봉에 갈굼심하고 군기잡고.. 난 그런거 못버텨 앞으로 진로를 어떻게해야될까 조언좀해주라 요즘 청년 백수 시대라는데 공감은 되더라... 참고로 모아놓은 자산은 3천중반정도밖에없음.. 우울하다 \n",
      "\n",
      "Comment: 28에 3천 모은것부터 평타 이상인데? - dc App\n",
      "Comment: 수족관 빡세구나.. 창업할거 아니믄 소소하게 생물방 운영부터 해보샤~\n",
      "Comment: 퍙밀수해서 사기치세유ㅎ여기전부그런업자들뿐이에유ㅎ\n",
      "Comment: 물방 야가다 투잡ㄱ\n"
     ]
    },
    {
     "name": "stderr",
     "output_type": "stream",
     "text": []
    },
    {
     "name": "stdout",
     "output_type": "stream",
     "text": [
      "Content: \n",
      "ㅎㅂ 보면 맨날 우리 때문에 접었다고 헛소리 하는데 그냥 장사가 안되니 접은거지 ㅋㅋㅋㅋㅋㅋ니들 때문에 접는다 = 이게 존나 어이없는 말인게 장사 잘됬으면 아무리 우리가 욕하고 지랄하고 접으라고 해도 안접지 ㅋㅋㅋㅋㅋㅋㅋㅋㅋㅋㅋㄹㅍㅅ,ㅁㅅㅌㅍ, 기타등등 샵들 디시나 우리한테 욕먹는다고 장사 접고 그러냐? 장사되니 디시에서 욕하던 말던 장사 계속 하는거지 심지어 둡액이도 욕 먹었다고 찌질하게 힘악팔이 접거나 그러지는 않는다 ㅋㅋㅋㅋㅋㅋㅋㅋㅋㅋㅋㅋㅋ장사가 안되는 걸 왜 디시 탓하냐 바으한테 따인게 우리탓이냐? 그래놓고 찌찔하게 니들이 나 괴롭혔으니 나 삐졌어 접을꺼야!!! 나 혼자 죽기는 그러니 비밀 마약 까발리고 갈꺼야!!! 이러는 중 ㅋㅋㅋㅋㅋㅋㅋㅋㅋㅋㅋㅋㅋㅋㅋㅋㅋㅋㅋ근데 심지어 마약은 쫄아서 까발리지도 못하고 아직도 정신 못차리고 니들 때문이야 시전중 그렇게 디시에서 욕 먹은게 충격이라 장사까지 접었는데 디시에 꾸역꾸역 오는 놈이 뭔 장사를 디시때문에 접어 ㅋㅋㅋㅋㅋㅋㅋㅋㅋㅋㅋㅋㅋㅋ그냥 돈 안벌리니 핑계지\n",
      "\n",
      "Comment: 그만때려 울겠다ㄷㄷ - dc App\n",
      "Comment: 아뇨 밀수업자님ㅎ\n",
      "Comment: 븅들인가ㅋㅋㅋㅋ디시때문에 접는다고 안했는데ㅜㅜ진짜 여기 븅들은 과대망상증 ㅈ되서 저지랄로ㅡ 익명으로 어떻게든 지 입장만 가스라이팅 뒤짐~\n",
      "Comment: 개추 ㅋㅋㅋㅋㅋㅋㅋㅋ - dc App\n",
      "Comment: 디시 때문이 아니라 그냥 장사안되고 망해서 접은거지 사업 접는게 그런거 아냐?매출 존나나와봐라 이런곳 기웃거릴 여유도없다\n"
     ]
    },
    {
     "name": "stderr",
     "output_type": "stream",
     "text": []
    },
    {
     "name": "stdout",
     "output_type": "stream",
     "text": [
      "Content: \n",
      "탈출은 아직 늦지 않았어 얼른 탈출해 너네들의 그런 이상한 정신이 지금 다시 정상으로 돌려질 기회야파충류 업자 접으니까 인생이 더 잘풀리고 있어 얼른 접고 다른 사업해라지금 돈때문에 물려서 버티는게 오히려 더 독이 되고 있는거라 생각해라…\n",
      "\n",
      "Comment: ㅋㅋㄹㅇㅋㅋㅋㅋ잡혀가고나서 후회하겠지\n",
      "Comment: 님 문신있음?\n",
      "Comment: 이제 업자아니면 닥치고 마약썰이나 나빳던업체들 저격해서 다죽여놔주면안됨? 존나심심한대\n",
      "Comment: 그냥 뭐 큰거 어쩌구 입만 털고 별거 없어서, 이후로는 그냥 관종이구나 싶음ㅎ\n",
      "Comment: 넌 왜 자꾸 정상인인척 하냐 헤비야 그리고 너 바으한테 제껴져서 그만둔거 아니냐? ㅋㅋㅋㅋㅋㅋㅋㅋ\n",
      "Comment: 돈 잘버는데 오은영박사라도 좀 만나봐라\n",
      "Comment: ㅇㅈ헤비최고\n",
      "Comment: 맨날 예고만하고 뭐가없어  - dc App\n",
      "Comment: 마약썰은 없으면서 있다고 자위질하는 꼬라지 재미있다 ㅎㅂ야 ㅋㅋㅋㅋ\n",
      "Comment: 제대로된 썰이나 폭로도 없고 그냥 흔한 관종이노\n",
      "Comment: ㅋㅋㅋㅋ벌벌 떨리드나\n",
      "Comment: 니 면상보다 나음\n",
      "Comment: 목소리 파들파들 떨었다매ㅜㅜ\n",
      "Comment: 취미는 취미로만...\n",
      "Comment: ㅋㅋㅋㅋㅋㅋㅋㅋ목소리파들파들 ㅋㅋㅋㅋㅋㅋㅋㅋㅋㅋㅋ\n",
      "Comment: 고생이많아요\n"
     ]
    },
    {
     "name": "stderr",
     "output_type": "stream",
     "text": []
    },
    {
     "name": "stdout",
     "output_type": "stream",
     "text": [
      "Content: \n",
      "자신이 한 행동은 생각을 안하고 남을 탓하며 자신이 욕한건 갑자기 안했다 하며 신고한다해놓고 안하고 심심해서 전화로 왜 신고 안하세요 하니까 아무말도 못하는 인생~~무서운 파충류판 방구석 브리더 업자들~\n",
      "\n",
      "Comment: 말아먹은새끼가 말이 많노ㅋㅋㅋㅋ - dc App\n",
      "Comment: 뭐 소송이나 고소하면 자기가 다 이기는줄 알음ㅋㅋ 병신들 지가 갑의 위치에 있다고 생각한다니까\n",
      "Comment: ㅋㅋㅋㅋㅋㅋㅋ 진짜 실업자 거지 - dc App\n"
     ]
    },
    {
     "name": "stderr",
     "output_type": "stream",
     "text": []
    },
    {
     "name": "stdout",
     "output_type": "stream",
     "text": [
      "Content: \n",
      "마산인데 얘 뭐임??신발장 쪽으로 도망갔는데\n",
      "\n",
      "Comment: 파충류 아예 모르는데 게코 그거 맞음?\n",
      "Comment: 하우스게코  - dc App\n",
      "Comment: 경상도에선 흔함 있으면 모기잡아주니까 냅두셈\n"
     ]
    },
    {
     "name": "stderr",
     "output_type": "stream",
     "text": []
    },
    {
     "name": "stdout",
     "output_type": "stream",
     "text": [
      "Content: \n",
      "반수생거북 많은곳 찾는중\n",
      "\n",
      "Comment: 용인에 육겁밀던 업자있엇는데 그밀수사기업자한테 사기당하고 육겁거의접고 잡퍙분양하는곳잇음\n",
      "Comment: 아쿠아스쿨\n",
      "Comment: 이번에 TNT(Turtle N Tortoise)라고 용인에 오픈했음\n"
     ]
    },
    {
     "name": "stderr",
     "output_type": "stream",
     "text": []
    },
    {
     "name": "stdout",
     "output_type": "stream",
     "text": [
      "Content: \n",
      "펫테일게코 이거 뭐냐 요석이나  - dc official App\n",
      "\n",
      "Comment: 걍 오줌\n"
     ]
    },
    {
     "name": "stderr",
     "output_type": "stream",
     "text": []
    },
    {
     "name": "stdout",
     "output_type": "stream",
     "text": [
      "Content: \n",
      "이동하면 걍 틈새로만 숨는거? \n",
      "\n",
      "Comment: 거친데는 발톱박고 어느점도 올라가긴함\n"
     ]
    },
    {
     "name": "stderr",
     "output_type": "stream",
     "text": []
    },
    {
     "name": "stdout",
     "output_type": "stream",
     "text": [
      "Content: \n",
      "역겨운 혐뚜리 안봐도되고 맨날 거저리되는 밀웜새끼 안봐도 되니까 너무 좋다ㅋㅋㅋㅋ3마리다 붙임성공ㅋㅋ\n",
      "\n",
      "Comment: 그래서 크레가 탑인거야  - dc App\n",
      "Comment: 사료뭐줌?\n",
      "Comment: 밀웜이 사료보다 편하지 않음?\n",
      "Comment: 사료로 못키운다는거는 밥그릇걱정하는 크레 업자들임\n",
      "Comment: 냉뚤이나 사료 붙이면 정말 편하긴 해 ㅋㅋ난 네마리 밖에 안키워서 충식 위주긴 하다만, 사료도 잘 먹어줘서 고마움.. 펫테일 마저 누에랑 사료 먹어주니까 세상 고맙더라\n"
     ]
    },
    {
     "name": "stderr",
     "output_type": "stream",
     "text": []
    },
    {
     "name": "stdout",
     "output_type": "stream",
     "text": [
      "Content: \n",
      "어캐 생긴겨? 찾아봤는데 왜 안보이지 \n",
      "\n",
      "Comment: 콘스 버그아이 치면 바로 나올텐디 툭눈이 금붕어마냥 눈이 튀어나와있음\n",
      "Comment: 눈 튀어나온거  - dc App\n"
     ]
    },
    {
     "name": "stderr",
     "output_type": "stream",
     "text": []
    },
    {
     "name": "stdout",
     "output_type": "stream",
     "text": [
      "Content: \n",
      " - dc official App\n",
      "\n"
     ]
    },
    {
     "name": "stderr",
     "output_type": "stream",
     "text": []
    },
    {
     "name": "stdout",
     "output_type": "stream",
     "text": [
      "Content: \n",
      "오늘 볼 밥주다가 오인으로 물렸는데오른손으로 쥐 주물거렸더니 끝까지 손인 줄 모르고 물고 힘주더라푸는 거 기다리다가 걍 포기하고 왼 손으로 나머지 밥 줌그러고 있으니 풀길래 다시 쥐 주고 있는데 사냥무브가 아니고죽은 거 찾는 무빙임..쥐 떨궈주니 삼키더라오늘 훌륭한 사냥을 하셨다고 생각하는 거 같았음..\n",
      "\n",
      "Comment: 먹이로 오인하고 무는 건 찐텐으로 무는거였을건데 엄청 아프지 않았음?? 어땠음요\n",
      "Comment: 걔 눈은 밝고 어두운거 구분하는 정도야\n"
     ]
    },
    {
     "name": "stderr",
     "output_type": "stream",
     "text": []
    },
    {
     "name": "stdout",
     "output_type": "stream",
     "text": [
      "Content: \n",
      "거북이키움 ㅇㅇ 그게 육겁이던 반수생이던 수생이던 ㅇㅇ 반박시 파충류 아직 덜키운 잼민이 ㅇㅇ  - dc official App\n",
      "\n",
      "Comment: 남생이 ㅈㄴ귀엽다 ㅠㅠ\n",
      "Comment: 남생이 개추\n",
      "Comment: 솔직히 거북이 이쁨\n"
     ]
    },
    {
     "name": "stderr",
     "output_type": "stream",
     "text": []
    },
    {
     "name": "stdout",
     "output_type": "stream",
     "text": [
      "Content: \n",
      "먼가 징그럽냐\n",
      "\n",
      "Comment: 에도 워도\n"
     ]
    },
    {
     "name": "stderr",
     "output_type": "stream",
     "text": []
    },
    {
     "name": "stdout",
     "output_type": "stream",
     "text": [
      "Content: \n",
      "https://youtube.com/shorts/t0bQcUo2HyU?si=_Y2_sQ5yeCo9Zx2v ++++ ++++ ++++ ++++++ ++ +++++ ++++++ #shorts#shorts #+++++ #++ #++++++++ #++++ #++++ #++++ #++++++ #++#+++++ #++++++youtube.com존나궁금하네 \n",
      "\n"
     ]
    },
    {
     "name": "stderr",
     "output_type": "stream",
     "text": [
      "100%|██████████| 49/49 [01:30<00:00,  1.86s/it]\n",
      " 28%|██▊       | 8/29 [15:24<36:00, 102.86s/it]"
     ]
    },
    {
     "name": "stdout",
     "output_type": "stream",
     "text": [
      "Content: \n",
      "예외는 없는건가여\n",
      "\n",
      "Comment: 열원없이 상온으로만 사는애들 많음\n",
      "Comment: 주행성들은 필수야행성들은 없다고 죽는 건 아닌데.. 생체리듬 및 필수비타민 공급이 깨져버려서 장수하긴 힘들다고 예측은 가능함 주행성이든 야행성이든 D3 비타민이 필요한데, 이 D3 비타민이 없으면 병에 걸려서 죽게 됨즉 주행성 애들은 이걸 공급해주는 UV등이 필수적이고, 야행성들은 이 UV등이 필요가 없다고 알려졌지만 지금까지 사육 결과 D3를 공급해주지 않은 개체들이 병에 걸렸을 때 회복이 되지 않음. 즉 주행성이든 야행성이든 D3 공급이 필수적이고, 등을 켜주지 않으면 당장 죽지는 않으나 장기적으로 볼 때 생체리듬이 깨져서 장수는 못할 것이다이게 결론임\n"
     ]
    },
    {
     "name": "stderr",
     "output_type": "stream",
     "text": []
    },
    {
     "name": "stdout",
     "output_type": "stream",
     "text": [
      "Content: \n",
      "크레프록 떳음아쉽게도 죽음\n",
      "\n",
      "Comment: 크레별에서 행복하길...  - dc App\n",
      "Comment: 크레프록 크레와 프록 교잡..\n",
      "Comment: 고정좀 시켜바  - dc App\n",
      "Comment: 니가 밟은거 아님?\n",
      "Comment: 숏바디? ㅋ\n",
      "Comment: ㅋㅋ - dc App\n"
     ]
    },
    {
     "name": "stderr",
     "output_type": "stream",
     "text": []
    },
    {
     "name": "stdout",
     "output_type": "stream",
     "text": [
      "Content: \n",
      "적어도 수능 3등급 이상, 대학 졸업한 사람들한테 줘야하는 거 아님? 지적능력이 딸리면 주지 말아야지 미성년자처럼;; 이 갤러리 ㅂㅅ들이랑 찻집 봐~ 이 ㅂㅅ들 떼는 존나게 써대서 계몽시키기도 ㅈㄴ 힘든데;; 내가 말한 위에 최소 조건 충족하는 애들이 몇이나 되겠어? 이게 맞냐? 시발?  - dc official App\n",
      "\n"
     ]
    },
    {
     "name": "stderr",
     "output_type": "stream",
     "text": []
    },
    {
     "name": "stdout",
     "output_type": "stream",
     "text": [
      "Content: \n",
      "그럼 시발 의대증원엔 의대 근처도 못가본 새끼들이 왜 훈수를 둠 왜 서연고 출신 정치인들의 정책 방향성에 직접 정책을 만들어 보지 못한 놈들이 훈수를 둠? 자동차를 한 번도 만들어본 적 없는 사람들이 자동차 산업의 미래를 논하는 게 말이 되냐는 거지. 농사 한 번 지어본 적 없는 사람들이 농업 정책을 좌지우지하려고 하니 이상한 거 아니냐는 거야. 정작 음악이나 영화 한 번 만들어본 적 없는 사람들이 문화 정책을 좌우하려고 하니 어처구니가 없지 않냐는 거지. 스포츠 경기장에서 뛴 적도 없는 사람들이 왜 정몽규식 스포츠 정책을 만들겠다고 나서는 게 이해가 안 된다는 거야. 직접 넥슨 기업을 운영해본 적 없는 사람들이 메이플스토리 경제 정책을 주도하려고 하는 게 납득이 안 간다는 거지. https://youtu.be/r7ViabfaOgU?si=RoS7a4CW4toh7pTQ 작은물결: 파동~작은물결: 파동~youtu.be - dc official App\n",
      "\n"
     ]
    },
    {
     "name": "stderr",
     "output_type": "stream",
     "text": []
    },
    {
     "name": "stdout",
     "output_type": "stream",
     "text": [
      "Content: \n",
      "기웃대다가 우연히 리키 가격봤는데 내 눈을 의심했네 30만원대 뭐임 ㅋㅋㅋ 4년전에 접었었는데 그때만해도 최소 80이었던걸로 기억하는데  - dc official App\n",
      "\n",
      "Comment: 공급 > 수요 - dc App\n",
      "Comment: 고퀄은 살아남는다구요 빼에엑\n",
      "Comment: 4년전에 80이었으면 생각보다 가격방어 잘되내\n",
      "Comment: 브리딩 어렵다고 근들갑 떨더니 그냥 알공장 크레mk2임ㅋㅋ\n",
      "Comment: 크레 1/10토막 날때 그정도면 덜떨어진거다\n",
      "Comment: 가격방어 존나게 잘된거임ㅋㅋㅋ 4년이면 코로나 이전이다ㅋㅋ 강산이 바꼇네  - dc App\n",
      "Comment: 리키는 온도해칭되잖어 성성숙 좀 늦을 뿐 결국ㅇ물량은 빨리 풀릴수밖에 읍쎠\n"
     ]
    },
    {
     "name": "stderr",
     "output_type": "stream",
     "text": []
    },
    {
     "name": "stdout",
     "output_type": "stream",
     "text": [
      "Content: \n",
      "고퀄, 노멀은 편차 심해서 논외평범퀄 기준 잘산가격베이비 기준릴리 2카푸 3프랍 5세이블 30내외아잔틱 50내외- dc official App\n",
      "\n",
      "Comment: 릴리는 젤 이쁜데 젤 싸네\n"
     ]
    },
    {
     "name": "stderr",
     "output_type": "stream",
     "text": []
    },
    {
     "name": "stdout",
     "output_type": "stream",
     "text": [
      "Content: \n",
      "우리.....귀여운 육겁 친구들에게 관심과 사랑을....ㅠ\n",
      "\n",
      "Comment: 테라핀은 안망해\n",
      "Comment: 테라핀 망할수가 없는데 업자들 다 뒤지지 않는이상  - dc App\n"
     ]
    },
    {
     "name": "stderr",
     "output_type": "stream",
     "text": []
    },
    {
     "name": "stdout",
     "output_type": "stream",
     "text": [
      "Content: \n",
      "분양가 25면 너무 비싼가? 25g임\n",
      "\n",
      "Comment: 양심있냐?\n",
      "Comment: 가격 모르면 찻집에 25에 올리고 3일에 한번씩 가격 내려서 팔면 간단함\n",
      "Comment: 15면 삼\n",
      "Comment: 페닉샐 시작?  - dc App\n",
      "Comment: 15가 딱 적당하네 ㅇㅇ  - dc App\n"
     ]
    },
    {
     "name": "stderr",
     "output_type": "stream",
     "text": []
    },
    {
     "name": "stdout",
     "output_type": "stream",
     "text": [
      "Content: \n",
      "유치원때 많이 키워서 불쌍함  - dc official App\n",
      "\n",
      "Comment: 비싸서 글치 혐뚜리 혐웜보다 냄새도 안나고 좋던데\n"
     ]
    },
    {
     "name": "stderr",
     "output_type": "stream",
     "text": []
    },
    {
     "name": "stdout",
     "output_type": "stream",
     "text": [
      "Content: \n",
      "ㄱㅂㅅㅋㅋ\n",
      "\n"
     ]
    },
    {
     "name": "stderr",
     "output_type": "stream",
     "text": []
    },
    {
     "name": "stdout",
     "output_type": "stream",
     "text": [
      "Content: \n",
      "오랜만에 곡구리가 보고싶다  - dc official App\n",
      "\n",
      "Comment: 그러게\n"
     ]
    },
    {
     "name": "stderr",
     "output_type": "stream",
     "text": []
    },
    {
     "name": "stdout",
     "output_type": "stream",
     "text": [
      "Content: \n",
      "이쁜애는 베이비때 얼굴 유지해서 참 이쁜데 못난애들은 미간 뒤지게 넓어서 걍 리섭도마뱀임\n",
      "\n",
      "Comment: 색보다 차라리 두상이쁘면 나을듯\n",
      "Comment: 맞음 브리딩 할꺼 아니면 두상 체형 보는게 맞지 - dc App\n"
     ]
    },
    {
     "name": "stderr",
     "output_type": "stream",
     "text": []
    },
    {
     "name": "stdout",
     "output_type": "stream",
     "text": [
      "Content: \n",
      "깨끗하고 관리하기도 쉽고 왜 굳이 살아있는 귀뚜라미키움?  - dc official App\n",
      "\n",
      "Comment: 두비아 키우자\n",
      "Comment: 부패조심하세요 잘못하면 훅갑니다 관리측면에서는 ㅆㅅㅌㅊ ㅇㅈ - dc App\n"
     ]
    },
    {
     "name": "stderr",
     "output_type": "stream",
     "text": []
    },
    {
     "name": "stdout",
     "output_type": "stream",
     "text": [
      "Content: \n",
      "어제 두마리 주니깐 약간 삼키기 힘든지 목 옆으로 꺾던데 토할까봐 그만줬음  - dc official App\n",
      "\n",
      "Comment: 목꺽는거 배불러서가 아니라 커서그럼 성체면 이틀에 2~3마리\n"
     ]
    },
    {
     "name": "stderr",
     "output_type": "stream",
     "text": []
    },
    {
     "name": "stdout",
     "output_type": "stream",
     "text": [
      "Content: \n",
      "따뜻한물에 몇초 담그면 다 녹아서 흐물흐물해지노 냉동쥐는 핑키만해도 녹이는데 ㅈㄴ오래걸리는디  - dc official App\n",
      "\n",
      "Comment: 물 담그지 말고 그냥 상온에 녹이는게 좋다던데\n"
     ]
    },
    {
     "name": "stderr",
     "output_type": "stream",
     "text": []
    },
    {
     "name": "stdout",
     "output_type": "stream",
     "text": [
      "Content: \n",
      "제가 비어디를 키우고 있는데요 어느순간부터 엉덩이에 종양같은게 생겨서요치료방법같은게 있을까요?\n",
      "\n",
      "Comment: 병원ㅃㄹㄱㄱ\n",
      "Comment: 이미 늦었나보다  - dc App\n",
      "Comment: 이게 뭐야..ㄷㄷ\n",
      "Content: \n",
      "1 이미지 순서 ON2 이미지 순서 ON3 이미지 순서 ON당징.놓아줘여하나요?\n",
      "\n",
      "Comment: 뱀배냠냠?\n",
      "Comment: ㄴ, ㅇ\n",
      "Comment: 냥이라고??\n",
      "Comment: 재패니즈게코\n",
      "Comment: 감사합니다\n",
      "Comment: 크레\n"
     ]
    },
    {
     "name": "stderr",
     "output_type": "stream",
     "text": [
      "\n"
     ]
    },
    {
     "name": "stdout",
     "output_type": "stream",
     "text": [
      "Content: \n",
      "무슨 모프인지 몰라서 어떤 느낌으로 자라는지 알수있낭- dc official App\n",
      "\n",
      "Comment: ㅇㅇ 1m까지 자람\n",
      "Comment: 대충 인터넷에 레게 아토믹 검색하면 비슷한애들 나올거임\n"
     ]
    },
    {
     "name": "stderr",
     "output_type": "stream",
     "text": [
      " 35%|███▍      | 17/49 [00:40<01:00,  1.89s/it]\u001b[A"
     ]
    },
    {
     "name": "stdout",
     "output_type": "stream",
     "text": [
      "Content: \n",
      "7년전 유모씨 : 비트코인 튤립버블 사기다 절대하지마라 ....? ㅋㅋㅋㅋㅋㅋ  - dc official App\n",
      "\n",
      "Comment: 걍 뭐든 할놈할, 될놈될임ㅋㅋ\n"
     ]
    },
    {
     "name": "stderr",
     "output_type": "stream",
     "text": []
    },
    {
     "name": "stdout",
     "output_type": "stream",
     "text": [
      "Content: \n",
      "그냥 주면 문제 생기나요?? 지금까지 그냥 줘 왔는데  - dc official App\n",
      "\n",
      "Comment: 떼서주면 좋고대가리 한번 부시면 상관없긴함  - dc App\n",
      "Comment: 아니 야생에서 걔들이 곤충잡아먹는데 뭔 다리를떼서줘\n",
      "Comment: 팩맨은 그냥 줘도 ㄱㅊ음ㅋㅋ\n",
      "Content: \n",
      "좀 인테리어 되는 예쁘장한 사육장 추천 해주세요 블랙킹 베이비 들여오려고 해요  - dc official App\n",
      "\n"
     ]
    },
    {
     "name": "stderr",
     "output_type": "stream",
     "text": []
    },
    {
     "name": "stdout",
     "output_type": "stream",
     "text": [
      "Content: \n",
      "내 주변은 크레 예쁘단 사람이 더 많은데 여기는 못생겼다는 사람이 많네 아무리 사료 먹는다고 해도 못생겼으면 난 크레 관심 갖지도 않았을 거임\n",
      "\n",
      "Comment: 니 애기가 존나 이쁜 거임스오가 키우는 레게나 흰곰팡이 크레 보셈으아악\n",
      "Comment: 펫테일 보고와라 그담보면 개못생김\n",
      "Comment: 콩깍지임\n",
      "Comment: 솔직히 생먹이 필요없어서 인기많은거지 외모는 레게 압승임\n",
      "Comment: 양지에선 우리들이 목소리를 낼 수 없거든..크킄..\n",
      "Comment: 다른 각도는 괜찮은데 정면은 눈튀어나와서 좀 징그러워보이더라. 근데 못생겼다기보다는 하도 봐서 식상해보이게 느끼는듯. 원래 디시는 주류에대한 배척도 있고\n"
     ]
    },
    {
     "name": "stderr",
     "output_type": "stream",
     "text": []
    },
    {
     "name": "stdout",
     "output_type": "stream",
     "text": [
      "Content: \n",
      "DM주면 역병세팅법도 알려드림\n",
      "\n"
     ]
    },
    {
     "name": "stderr",
     "output_type": "stream",
     "text": []
    },
    {
     "name": "stdout",
     "output_type": "stream",
     "text": [
      "Content: \n",
      "ㅇㄱㄹㅇ\n",
      "\n",
      "Comment: ㄷㄷ  - dc App\n"
     ]
    },
    {
     "name": "stderr",
     "output_type": "stream",
     "text": []
    },
    {
     "name": "stdout",
     "output_type": "stream",
     "text": [
      "Content: \n",
      "좆레보다 귀여움 ㅋㅋ\n",
      "\n",
      "Comment: 뒤집어라\n",
      "Content: \n",
      "트익할 베이비 키우고있는데 친구삼아 데려올려하는데퀄 괜찮나요?\n",
      "\n",
      "Comment: 이거로 돈벌수있냐고 물어보는거냐~아니면 이거 애완으로 이쁘냐고 물어보는거냐?전자면 x 후자면 o  - dc App\n",
      "Comment: 사진 각도가 좀 애매한데 꼬리 시작부분 확인은 해봐야 할듯\n",
      "Comment: 똥퀄  - dc App\n",
      "Comment: 노점에 밥잘먹으면야 뭐든 본인 맘에 들면 됨ㅇㅇ\n"
     ]
    },
    {
     "name": "stderr",
     "output_type": "stream",
     "text": []
    },
    {
     "name": "stdout",
     "output_type": "stream",
     "text": [
      "Content: \n",
      "원래는 하던대로 벼룩시장 열어도 알거 다 알놈들만 가서 별문제 없었을텐데 생각보다 홍보가 잘되어서 저게 생소한사람들이 존나몰려가다보니 컬쳐쇼크받은듯\n",
      "\n"
     ]
    },
    {
     "name": "stderr",
     "output_type": "stream",
     "text": []
    },
    {
     "name": "stdout",
     "output_type": "stream",
     "text": [
      "Content: \n",
      "근데 가격도 이제 ㄷㅂㅇ가 귀뚜리 소량기준이랑 별차이 안나고 관리 씹넘사에 먹이반응 좀 후달려도 애들이 느려서 잘먹노\n",
      "\n",
      "Comment: 아니 불법이여서 가격 떡락쳣다고ㅋㅋㅋ 어케 귀뚜리랑 가격 비슷해짐?ㅋㅋㅋㅋ 개웃기네 합법이면 누에만큼 비쌋을거다 실제로 미국 유럽은 비싸서 대량으로 먹이긴 힘듬  - dc App\n"
     ]
    },
    {
     "name": "stderr",
     "output_type": "stream",
     "text": []
    },
    {
     "name": "stdout",
     "output_type": "stream",
     "text": [
      "Content: \n",
      "1. 난 허가제 기준나오면 맞추면된다 2. ㅈ되는건 방구석브리더 니들인데 공청회 왜안오냐 3. 계속이렇게 무관심하다간 니들 ㅈ된다 4. 다음 공청회때 얼굴보자 크레시장 샵 20% 방구석브리더 30% 방구석브리더 및 샵 지망생 49% 취미인 1% 잘못하면 크레시장 79% 날라가는건데  ㅈ됫으니 관심가져라 결국 샵20% 취미인1% 남는 시장인데 샵1% 취미1% 로 키맞추기 들어가면서 폐업샵도  많아지면서 크레시장 파이 좀만해지는거 관심좀 가져주자 씨발들아  - dc official App\n",
      "\n",
      "Comment: 저 퍼센티지는 0.1단위로 오차범위 있을수있음  - dc App\n",
      "Comment: ??? : 살려줘 - dc App\n",
      "Comment: 방구석 브리더 ㅈ됨 ----> 샵도 ㅈ됨 ㅋ\n",
      "Comment: 난 취미1%라 어케되든 1도 상관없음 ㅎ\n",
      "Comment: 허가제 기준 맞췃니 샵 운영할수 있겠지. 근데 지금만큼 사갈사람 있나?  자기 똥줄타서 하는 소리임\n"
     ]
    },
    {
     "name": "stderr",
     "output_type": "stream",
     "text": []
    },
    {
     "name": "stdout",
     "output_type": "stream",
     "text": [
      "Content: \n",
      "민심이나 후기가 안좋다고 슬퍼하지마라 충청도인들은 원체 앞에서는 절대 티안나게 괜찮아유 하다가 뒤에가서 후기로 칼꼽는 뒷담의 종족들이기 때문이다 무더위가 한창일때 가족단위로 야외보다는 실내행사를 선호하였기에 안그래도 행사가 없는 충청도권에서 가족단위 일반인들이 몰린게컸다 특히현수막이 일반인들 엄청난 홍보가됬다본다 또한다면 현수막홍보는 무조건하자 크레부스 줄이고 역투자를해서라도 거북이부스 용품부스 먹이부스 늘리고 특히 곤충부스 무조건 늘리고 만들어라 이것만 해놔도 너도나도 만족하는 행사가된다 부스별로 어떤생물이던 제대로된 사육장에서 사육되는 모습을 보일수있게 하나씩은 꼭세팅을 해놓도록 하여라 푸딩컵에만 줄줄이 담겨있는 모습 정말보기안좋고 일반인들이 보기에 엄청괴상하다 바닥에 화살표로 관람방향 정해줘라 시장통이따로없더라 지방행사라고 기존 행사들하는거 구색만 갖추지말고 먼저 앞서가거나 새로운 시도를해라 그럼 이만ㅡ내년에도 해줄거지?  - dc official App\n",
      "\n",
      "Comment: 네 형지금 워드에 받았던 피드백 고쳐야 할 부분크고 작은 아이디어들 전부 메모 완료입니다!내년 몇월인지는 모르겠지만 이번 행사 기점 1년 전 후로 DCC 한번 더 처들어갑니다.중간에 타 지역 1회정도만 더 넣어서 바뀐 모습을 뽐내보겠읍니다!\n",
      "Comment: 너도 대학생 머시기처럼 찻집에서 집단 강간되고 싶냐???????  - dc App\n",
      "Comment: 근거는 있냐? 누구누구는 시장통이 아니라고 했는데?  - dc App\n",
      "Comment: 푸팅컵이 안전한건데?  - dc App\n"
     ]
    },
    {
     "name": "stderr",
     "output_type": "stream",
     "text": []
    },
    {
     "name": "stdout",
     "output_type": "stream",
     "text": [
      "Content: \n",
      "털어말어?\n",
      "\n",
      "Comment: 크레는 안망해요 브리더가 망하지\n",
      "Comment: 걍 근들갑임ㅋㅋ\n",
      "Comment: 크레 망함 ㅇㅇ  - dc App\n",
      "Comment: 솔직히 말하면 아무도 모르는거고 내 생각에 망할 일은 없을듯  - dc App\n"
     ]
    },
    {
     "name": "stderr",
     "output_type": "stream",
     "text": []
    },
    {
     "name": "stdout",
     "output_type": "stream",
     "text": [
      "Content: \n",
      "중고 몇개업어왔더만 뚜껑꼬라지가 말이아니네60.45.60짜린데ㅠ\n",
      "\n",
      "Comment: 겠노?   - dc App\n",
      "Comment: 아크릴 뚜껑 팔던데 정 안되면 그거라도 사야..\n"
     ]
    },
    {
     "name": "stderr",
     "output_type": "stream",
     "text": []
    },
    {
     "name": "stdout",
     "output_type": "stream",
     "text": [
      "Content: \n",
      "ㅇㅇ?\n",
      "\n",
      "Comment: 호주출신이 블루폼임\n"
     ]
    },
    {
     "name": "stderr",
     "output_type": "stream",
     "text": []
    },
    {
     "name": "stdout",
     "output_type": "stream",
     "text": [
      "Content: \n",
      "이번 행사 보니까 크레 입양 마렵네... 난 메이플은 안하는데 최근 행사도 열고 크레값도 싸다고 하던데 초기자본 200만원 정도만 넣으면 최저시급 벌면서 유튜브 넷플릭스 보는 거잖아 이정도면 나름 할만하지 않나? 나중에 돈도 다 회수 가능하고 좋을거 같은데.. 그리고 곧있으면 행사 열릴 시기라 지금이 저점이라고 들었음 넷플릭스 보면서 돈 벌면 개꿀아님? 이건 안하면 그게 더 이상한것같음ㅋㅋ..ㅋㅋ;;  - dc official App\n",
      "\n",
      "Comment: 행사에 부스비 내고 들어오는 업체가 지금 던질꺼 같진 않음법안 어느정도 확정되거나 진짜 ㅈ됐다는 소문이 돌아야 찐으로 던질듯 - dc App\n",
      "Comment: ㅇㅈㅇㅈ\n",
      "Comment: 왜 다 똑같은 것들만 있지?\n",
      "Comment: 왜 다 똑같은 것들만 있지?\n",
      "Comment: 이녀석 주식 잘하겠네\n",
      "Comment: ㅋㅋㅋㅋ크레공장 ㅅㅂ\n",
      "Content: \n",
      "1 이미지 순서 ON2 이미지 순서 ON3 이미지 순서 ON베이비들 보는데 하나같이 소리지르고 난리더라 그나마 만져도 소리안지르고 상대적으로 얌전한 애루 대려옴 이제 레게는 그만대려와야징 4 이미지 순서 ON글고 다리에 핏줄 비치던데 알비노 베이비들은 원래 비춰? \n",
      "\n",
      "Comment: 헤츨링에 가까운애 일수록 소리지르고 난리더라 핸드피딩 좀 해주면 없어짐그리고 레게 왤케 많이데려오냐\n",
      "Comment: 혹시 나이가?\n",
      "Comment: 야스오 돈 개많네 ㅋㅋ\n",
      "Comment: 새끼땐 피부가 얇아서, 특히 알비노 들어가면 더 그런듯\n",
      "Comment: 스디블 마려웠는데 어디서데려오심???\n",
      "Comment: 갤럭시나 유니버스나 스디블같은 알비노 계열은 눈부심에 약해서 눈 감는거암  - dc App\n"
     ]
    },
    {
     "name": "stderr",
     "output_type": "stream",
     "text": []
    },
    {
     "name": "stdout",
     "output_type": "stream",
     "text": [
      "Content: \n",
      "릴리헷아잔틱이 맞는 표현임?헷아잔틱릴리가 맞는 표현임?\n",
      "\n",
      "Comment: 둘다 바른 명칭이야  - dc App\n",
      "Comment: 후자가 맞는거아님?\n",
      "Comment: 비쥬얼 표기가 우선이라 후자가 맞음. 아잔틱 헷 팬텀. 팬텀 헷 아진틱 이게 맞음\n"
     ]
    },
    {
     "name": "stderr",
     "output_type": "stream",
     "text": []
    },
    {
     "name": "stdout",
     "output_type": "stream",
     "text": [
      "Content: \n",
      "하나 허싈?\n",
      "\n"
     ]
    },
    {
     "name": "stderr",
     "output_type": "stream",
     "text": []
    },
    {
     "name": "stdout",
     "output_type": "stream",
     "text": [
      "Content: \n",
      "어떤게 나을까?  - dc official App\n",
      "\n",
      "Comment: 아니 써본사람들없어?  - dc App\n"
     ]
    },
    {
     "name": "stderr",
     "output_type": "stream",
     "text": [
      "\n"
     ]
    },
    {
     "name": "stdout",
     "output_type": "stream",
     "text": [
      "Content: \n",
      "ㅈㄴ 노잼이라 생각되는 뱀보다도 더 노잼인육겁보다도 더 노잼인 파충류가 크레인듯하다못해 뱀이나 육겁은 핸들링이라도 할 수 있는데크레는 뭔가 조심스러워서 함부로 못 만지겠음밥도 뱀이나 육겁은 주기만 하면 지 알아서 잘 처묵는데크레는 슈퍼푸드 물에타서 반죽 만든다음에그걸 또 일일이 피딩주사기에 넣어갖고크레 입가에 일일이 묻혀줘서 먹이는거 참지랄 같음뱀, 육겁은 예쁘거나 귀여운가?= 예크레는 예쁘거나 귀여운가?= 그저 그럼아 물론 지극히 개인적인 의견임을 참고할 것\n",
      "\n",
      "Comment: 머야ㅋㅋ 개쫄보 인증임?ㅎ\n",
      "Comment: 뱀이 이쁘다고?? 취향 보소\n",
      "Comment: 핸들링 하려고하면 지랄발광하고 점프 존나 해댐 ㅋㅋㅋ\n",
      "Comment: 슈푸 맥여서 그럼. 맛도 없는거 많이 묵겠음? 귀뚤이 줘봐 환장한다ㅋㅋ\n",
      "Comment: 재미로 키우냐? 돈 되니꺼 키우지 ㅋ\n",
      "Comment: 타란 키우면 크레 꿀잼처럼 느껴짐\n",
      "Comment: 난 그래서 크레 데려오면 꼬리 바로 잘라버리고 시작함\n"
     ]
    },
    {
     "name": "stderr",
     "output_type": "stream",
     "text": [
      " 78%|███████▊  | 38/49 [01:20<00:19,  1.78s/it]\u001b[A"
     ]
    },
    {
     "name": "stdout",
     "output_type": "stream",
     "text": [
      "Content: \n",
      "크레 파는 애들아 어디가 더 잘팔리더냐?아니면 걍 둘다 ㅈ도 안팔림?\n",
      "\n",
      "Comment: 팔릴애는 어디다 올려도 팔림\n",
      "Comment: 피들은 업자들이 많이봄 일반인한텐 아직 덜 알려졋어 그래서 그 차이가 크지  - dc App\n",
      "Comment: 내 기준 피들 보단 무조건 찻집\n",
      "Comment: 적재물량10만마리 이상일듯  - dc App\n",
      "Comment: ㅍㄷ\n",
      "Comment: 무조건ㅍㄷ\n"
     ]
    },
    {
     "name": "stderr",
     "output_type": "stream",
     "text": [
      "\n"
     ]
    },
    {
     "name": "stdout",
     "output_type": "stream",
     "text": [
      "Content: \n",
      "퍙갤에서 유동으로 365일 24시간 상주하는 백수 느그들이랑 중딩 때 가오잡다가 좆반고에서 인생 나락 감지하고 딸배 뛰다 유튜브로 도마뱀 팔아 X억 수익 이딴 거 보고 도마뱀팔이로 전직한 문신돼지국밥 니들이지 비밀벌레가 어디 있겠냐 너희다 병신들 \n",
      "\n"
     ]
    },
    {
     "name": "stderr",
     "output_type": "stream",
     "text": [
      " 82%|████████▏ | 40/49 [01:23<00:15,  1.70s/it]\u001b[A"
     ]
    },
    {
     "name": "stdout",
     "output_type": "stream",
     "text": [
      "Content: \n",
      "비트보다는 크레가 튤립버블이랑 가까운듯- dc official App\n",
      "\n",
      "Comment: 크레랑 비트코인이랑 시총이 같노 ㅋㅋㅋㅋㅋㅋㅋㅋ\n"
     ]
    },
    {
     "name": "stderr",
     "output_type": "stream",
     "text": []
    },
    {
     "name": "stdout",
     "output_type": "stream",
     "text": [
      "Content: \n",
      "왜 다 화이트밸런스가 화이트부분이  시퍼렁색된사진뿐임?  2차부분 텐저린 만들기위해? 3차 화이트로 보이게 하기위해? ^_^? ㅉㅉ 아님 69차 돋보이게 하려고?  - dc official App\n",
      "\n"
     ]
    },
    {
     "name": "stderr",
     "output_type": "stream",
     "text": []
    },
    {
     "name": "stdout",
     "output_type": "stream",
     "text": [
      "Content: \n",
      "진짜로 분양보내야하나.... 집에서 귀뚜라미 못키울거같은데 ㅅㅂ  - dc official App\n",
      "\n",
      "Comment: 냉뚜리 안먹으면 사료를 잠깐 써보면?\n",
      "Comment: 아니면 밀웜을...\n",
      "Comment: 누에 이런거 안먹어? - dc App\n",
      "Comment: 먹이 계속 로테이션 돌리면 댐.\n"
     ]
    },
    {
     "name": "stderr",
     "output_type": "stream",
     "text": []
    },
    {
     "name": "stdout",
     "output_type": "stream",
     "text": [
      "Content: \n",
      "직접 인천까지 와달라하고 3만원은 양심있냐? \n",
      "\n",
      "Comment: 어리겠지\n"
     ]
    },
    {
     "name": "stderr",
     "output_type": "stream",
     "text": []
    },
    {
     "name": "stdout",
     "output_type": "stream",
     "text": [
      "Content: \n",
      "ㅅㅂ 사는데 지장은없는데 재미가없냐 재밌는 취미없냐\n",
      "\n"
     ]
    },
    {
     "name": "stderr",
     "output_type": "stream",
     "text": []
    },
    {
     "name": "stdout",
     "output_type": "stream",
     "text": [
      "Content: \n",
      "아무리 그래도 크레가 양반이지 테라핀??그똥거북이 유동성 떨어지고 아무도 안삼 ㅋㅋ\n",
      "\n"
     ]
    },
    {
     "name": "stderr",
     "output_type": "stream",
     "text": []
    },
    {
     "name": "stdout",
     "output_type": "stream",
     "text": [
      "Content: \n",
      "파양갤에서 욕을 먹는다? 아직 파양갤에 싸게 준다 오픈톡 만드는 글이 하루 3개씩 나온다? 큰일남  - dc official App\n",
      "\n",
      "Comment: 아니지 팡갤에 크레글이 계속 올라온다? 폭주상태 크레글은 적고 비주류만 주구장창 올라온다? 크레 망한상태  - dc App\n",
      "Comment: 파양갤에 글 그나마 올라올때가제값받고 팔수있을때크레글안올라고오고 비주류 글만 올라온다? 이미 떡밥 다식어서 비어디급 됫다는거임  - dc App\n"
     ]
    },
    {
     "name": "stderr",
     "output_type": "stream",
     "text": [
      "\n"
     ]
    },
    {
     "name": "stdout",
     "output_type": "stream",
     "text": [
      "Content: \n",
      "이 두 댓글만 봐선 어디서 무료로 주워 온 불펌 디자인 사용하는 능력밖에 모르겠노ㅋ- dc official App\n",
      "\n",
      "Comment: 왜케 싸워대노 .. 싸우지말고  열심히 크리 팔자.. 목숨 얼마 안남았다.. ㅠ\n"
     ]
    },
    {
     "name": "stderr",
     "output_type": "stream",
     "text": [
      "100%|██████████| 49/49 [01:39<00:00,  2.03s/it]\u001b[A\n",
      " 31%|███       | 9/29 [17:05<34:01, 102.09s/it]"
     ]
    },
    {
     "name": "stdout",
     "output_type": "stream",
     "text": [
      "Content: \n",
      "ㅈㄴ 웃기긴 하네 ㅋㅋ\n",
      "\n",
      "Comment: 왜똑있ㅋㅋㅋㅋㅅㅂ  - dc App\n"
     ]
    },
    {
     "name": "stderr",
     "output_type": "stream",
     "text": []
    },
    {
     "name": "stdout",
     "output_type": "stream",
     "text": [
      "Content: \n",
      "켜지지가않네 \n",
      "\n"
     ]
    },
    {
     "name": "stderr",
     "output_type": "stream",
     "text": []
    },
    {
     "name": "stdout",
     "output_type": "stream",
     "text": [
      "Content: \n",
      "관리하기 힘든 똥쟁이 테라핀 고점에 다들 물려서 처분하기도 어렵고 분양글 보니까 다 가격 다운, 가격 조정 이러면서 n차 가격 내리기 ㅋㅋㅋㅋ진작에 테라핀 브리더 탈세꾼들 잡아족치자니까 찻집에서 이악물고 모른척 하더니결국 저렇게 되는구나 \n",
      "\n",
      "Comment: 크레=테라핀\n",
      "Comment: 테라핀 하는애들 다병신임\n"
     ]
    },
    {
     "name": "stderr",
     "output_type": "stream",
     "text": []
    },
    {
     "name": "stdout",
     "output_type": "stream",
     "text": [
      "Content: \n",
      "냄새흡수 괜찮음?\n",
      "\n",
      "Comment: 레게얘기면 ㅇㅇ 괜찮은거 같음\n",
      "Comment: 굿\n"
     ]
    },
    {
     "name": "stderr",
     "output_type": "stream",
     "text": []
    },
    {
     "name": "stdout",
     "output_type": "stream",
     "text": [
      "Content: \n",
      "밥은 먹는지 안먹는지도 모르겠고 분명 3마리데려왔는데 2마리밖에 안보이고 괜히 303045에 넣어서 밤에 아주 잠깐 볼수있고 걍 저새끼들 다잡아서 다른 통에 옮겨야겠다  - dc official App\n",
      "\n",
      "Comment: 보이지도 않음ㅋㅋ  - dc App\n",
      "Comment: 모어닝 보면서 키울라면 최소 열마리는 넣어야제  - dc App\n",
      "Comment: 한마리 어디 낑겨죽으면 구더기 나올듯\n",
      "Comment: 걍 냅둬 이쁜데 왜 ㅠ\n",
      "Comment: 모어닝이 어디 있냐?\n"
     ]
    },
    {
     "name": "stderr",
     "output_type": "stream",
     "text": []
    },
    {
     "name": "stdout",
     "output_type": "stream",
     "text": [
      "Content: \n",
      "색맹 눈깔장애인이라 블루가 뭔지 몰라요 빨리 설거지해주세요\n",
      "\n",
      "Comment: 7000원 잘못 올린거?  - dc App\n",
      "Comment: 블루가 뭔지 모르나  - dc App\n",
      "Comment: 희귀????\n"
     ]
    },
    {
     "name": "stderr",
     "output_type": "stream",
     "text": []
    },
    {
     "name": "stdout",
     "output_type": "stream",
     "text": [
      "Content: \n",
      "크레인들이 왜 크레키우냐 질문했을때제일 많이 답하는 대답은 바로 사료로 사육가능하지만 돈에 눈이 멀어 귀뚜리 사육하면 빨리크니징그러워하면서도 귀뚜리 먹이는 모습이 참으로 안타까울따름(돈의힘)귀뚜리 잘만 먹일수있으면서 사료사육가능하다고 자위함이제 대답할때 사료는 빼고 사이테스만 들먹이시길 바람\n",
      "\n",
      "Comment: 근데 이제 재테크도 곧 막혀서 ㅠ 역사속으로 사라질예정임  - dc App\n",
      "Comment: 돈에환장한 집게사장들이 가스라이팅 쳐 한 결과물\n",
      "Comment: 걍 번식 쉽고 돈벌이 되니까 그게 끝  - dc App\n"
     ]
    },
    {
     "name": "stderr",
     "output_type": "stream",
     "text": []
    },
    {
     "name": "stdout",
     "output_type": "stream",
     "text": [
      "Content: \n",
      "니들돈 휴지조각됨 ㅇㅇ  휴지조각 카운트 1년   - dc official App\n",
      "\n"
     ]
    },
    {
     "name": "stderr",
     "output_type": "stream",
     "text": []
    },
    {
     "name": "stdout",
     "output_type": "stream",
     "text": [
      "Content: \n",
      "ㄹㅇ로 \n",
      "\n",
      "Comment: 크레. 단 슈프만 먹여. 생먹이 먹이면 냄새남\n",
      "Comment: 그렇진 않아.  크레보다 더 많지 양이\n"
     ]
    },
    {
     "name": "stderr",
     "output_type": "stream",
     "text": []
    },
    {
     "name": "stdout",
     "output_type": "stream",
     "text": [
      "Content: \n",
      "씨발 ㅋㅋㅋㅋㅋㅋㅋㅋㅋㅋㅋㅋㅋㅋㅋㅋㅋㅋㅋㅋㅋㅋ \n",
      "\n",
      "Comment: -본 글의 제목은 '그 박람회' 후기에서 발췌함-\n",
      "Comment: \"왜 다 똑같은 것만 있지?\"\n",
      "Comment: 똑같은거만 있으니까!  - dc App\n"
     ]
    },
    {
     "name": "stderr",
     "output_type": "stream",
     "text": []
    },
    {
     "name": "stdout",
     "output_type": "stream",
     "text": [
      "Content: \n",
      "슬슬 해칭잼 떨어져서 분양할까 하는디 팔릴래나ㅠㅠㅠㅠ 참담하노  \n",
      "\n",
      "Comment: 나10마리\n"
     ]
    },
    {
     "name": "stderr",
     "output_type": "stream",
     "text": []
    },
    {
     "name": "stdout",
     "output_type": "stream",
     "text": [
      "Content: \n",
      "돌고돌아  \n",
      "\n",
      "Comment: 컨텐츠 부족  - dc App\n"
     ]
    },
    {
     "name": "stderr",
     "output_type": "stream",
     "text": []
    },
    {
     "name": "stdout",
     "output_type": "stream",
     "text": [
      "Content: \n",
      "ㅋㅌㅌㅋㅌㅋㅋ 뭐 생먹이 주면서 지들이 마초남인줄 아는게 짜침  - dc official App\n",
      "\n",
      "Comment: 난 크레가 파충류판 살렸다는 말이 젤 역하던데다양성 족쳐서 죽인건데\n",
      "Comment: ㄹㅇㅋㅋ\n",
      "Comment: ㅈㅅ 그리 생각은 안하는데 오늘부터 그리 생각해봄 ㅎ  - dc App\n"
     ]
    },
    {
     "name": "stderr",
     "output_type": "stream",
     "text": []
    },
    {
     "name": "stdout",
     "output_type": "stream",
     "text": [
      "Content: \n",
      "여기 열등한 비주류쟁이들진짜 왜이래?신모프나 개발해\n",
      "\n",
      "Comment: 크레=모니터밥인데모프개발하면 뭐함\n",
      "Comment: 허가제 처맞고 들고있는크레휴지조각될놈들이 ㅋㅋ  - dc App\n",
      "Comment: 그런 줫같이생긴걸 도마뱀이라고 ㅋㅋ 대가리만 ㅈㄴ커서 꼴뵈기싫음 - dc App\n",
      "Comment: 비주류충 부들거리노ㅋㅋ 비주류가 파충류는 맞긴함?ㅋ  - dc App\n",
      "Comment: 크레 양서류 아니였냐?벽에 들러붙고 폴짝폴짝 뛰어다니던데\n"
     ]
    },
    {
     "name": "stderr",
     "output_type": "stream",
     "text": []
    },
    {
     "name": "stdout",
     "output_type": "stream",
     "text": [
      "Content: \n",
      "이거 좆비주류치곤 매년 꾸준히 들어오는거 같은데오래 키우는사람도 없고 제대로 브리딩하는 사람도 없네예전에 지호 홈페이지 상단에 떡하니 있던거 생각나노\n",
      "\n",
      "Comment: 잘 죽나봄  - dc App\n",
      "Comment: 포레스트 리자드들이 저온에 흐르는 물만 마시다 보니 무턱대고 입양해서 키우면 죽을수밖에\n"
     ]
    },
    {
     "name": "stderr",
     "output_type": "stream",
     "text": [
      "\n"
     ]
    },
    {
     "name": "stdout",
     "output_type": "stream",
     "text": [
      "Content: \n",
      " - dc official App\n",
      "\n",
      "Comment: 예쁘네\n",
      "Comment: 아니 씨발 같은 질문을 몇 번을 하는 거야\n"
     ]
    },
    {
     "name": "stderr",
     "output_type": "stream",
     "text": [
      " 31%|███       | 15/49 [00:30<01:01,  1.82s/it]\u001b[A"
     ]
    },
    {
     "name": "stdout",
     "output_type": "stream",
     "text": [
      "Content: \n",
      "여기에 짤 소장하신분 계실거 같은데 올려주심 안되나요\n",
      "\n",
      "Comment: 우흥  - dc App\n",
      "Comment: 만붕아.\n"
     ]
    },
    {
     "name": "stderr",
     "output_type": "stream",
     "text": [
      "\n"
     ]
    },
    {
     "name": "stdout",
     "output_type": "stream",
     "text": [
      "Content: \n",
      "왜 헤비랑싸운거임? 뭔글썻길래 \n",
      "\n",
      "Comment: 벌벌 떨어버린 그…\n",
      "Comment: 금마 원래 병신임 ㅇㅇ - dc App\n"
     ]
    },
    {
     "name": "stderr",
     "output_type": "stream",
     "text": [
      " 35%|███▍      | 17/49 [00:33<00:55,  1.74s/it]\u001b[A"
     ]
    },
    {
     "name": "stdout",
     "output_type": "stream",
     "text": [
      "Content: \n",
      "탈피하려고 하는 것 같은데 오늘 하루종일 집 밖으로 한 발자국도 안 나옴.. 먹성도 예전에 비해 줄었고원래 탈피하려고 하면 다 이래?? \n",
      "\n",
      "Comment: ㅇㅇ 앵간열어보고 놔둬라\n"
     ]
    },
    {
     "name": "stderr",
     "output_type": "stream",
     "text": []
    },
    {
     "name": "stdout",
     "output_type": "stream",
     "text": [
      "Content: \n",
      "나야 크레판매 부스인거 알고가서 그럭저럭 보고왔다 주차부터 성심당인가 그것때문에인지 주차장통제 없고 주차개씹헬이었음 허나 세차 2년정도 안하니까 알아서 자리만들고 피해주더라 지나가는 커플1 여기는 왜 파는거만 있는데 입장료를 돈을 받아? 커플2 컨벤션센터 여기는 맨날 판매부스만들어오네 박람회라더니 커플3 왜 애들이 다 반찬통에 있어?파는거야? 불쌍하다 가족1 사람너무 많네 도마뱀 좋아하는 사람들이 이렇게 많았나 가족2 엄마이거 사줘 저거 사줘 나키울래 안되 120만원짜리를 어떻게사주니 가족3 애들 뱀 만지는 체험부스는 없고 죄다 팔기만하네 가족4 왜 다 똑같은거만 있지?(크레) 후기 사람많아서 땀냄새에 덥고 습할줄 알았는데 추울정도로 시원해서 좋았음 애새끼들 많은데 줄서서 관람이아니라 막무가내로 가까이서 보고 한번 자리잡으면 안비켜서 구경하기 빡셨음 성심당 빵 맛있음 크레부스 비중좀 줄여야할듯 세택 짤주워옴  - dc official App\n",
      "\n",
      "Comment: 추가 급식새끼들 밴트부착형 티켓안붙이고 있다가ㅜ화장실에서 돌려쓰는거 봄 ㅋ  - dc App\n",
      "Comment: 추가 돈주고 들어가서 팔아주세요 하는거야? 라는말 들음  - dc App\n",
      "Comment: ㅋㅋㅋㅋㅋㅋㅋㅋㅋㅋㅋ진짜 크레 알공장 팔이들 싹다 처물려서 빚에 깔렸으면 좋겠다 역겨운놈들\n",
      "Comment: 크레공장 동물학대자들 평카페에서 성기정리 잘한다는 글 볼때마다 역겨움\n",
      "Comment: ㅋㅋㅋ파충류문화를 제대로 알렸네 얼마나 령신같아보일까\n",
      "Comment: 진짜 박람회 뜻 모르는거 개장애인 같네 ㅋㅋ - dc App\n",
      "Comment: 근데 비주류만하면 50명은 오냐??ㅋ\n",
      "Comment: 테라리움 가지고싶다...\n",
      "Comment: 진짜 사람들 개쌉호구빙시 취급하는 개ㅂㅅ퍙사기밀수걸뱅이업자ㅅㄲ들 개역하네\n",
      "Comment: 8천원?\n"
     ]
    },
    {
     "name": "stderr",
     "output_type": "stream",
     "text": []
    },
    {
     "name": "stdout",
     "output_type": "stream",
     "text": [
      "Content: \n",
      "다만 자격증이 없을뿐.꿀매 올라오면 5분컷이다. 팔릴놈인지 재고로 남을지는 5분만에 결정나는 것이다. 기준은 하나.  내가 되팔때 이가격 이상 받을수 있겠다. 그정도 가치가 된다면  팔리는것이고 아니면 나가리다판매자들 내가 얼마에 샀다. 근데 얼마에 판다. 이런건 읽는 사람들에게 쾌감만 줄뿐 전혀 가격 책정에 도움이 안된다. 내가 산다면 얼마에 사겠는가. 생각해보면 그게 분양적정가 이다사기 싫다고?   정답이다. 그건 백날 올려봐야 안팔리는거다. \n",
      "\n"
     ]
    },
    {
     "name": "stderr",
     "output_type": "stream",
     "text": []
    },
    {
     "name": "stdout",
     "output_type": "stream",
     "text": [
      "Content: \n",
      "네 들어왔으면 뒤로가기 누르시고 꺼지십셔\n",
      "\n",
      "Comment: 핵노잼  - dc App\n",
      "Comment: 노잼\n",
      "Comment: ㅇㅂ\n"
     ]
    },
    {
     "name": "stderr",
     "output_type": "stream",
     "text": []
    },
    {
     "name": "stdout",
     "output_type": "stream",
     "text": [
      "Content: \n",
      "요즘 맛집들 리뷰해서 인스타에 올리는데 수익도 생기네 ㅎ나는 여기서 구매했는데 저렴하고 서비스도 많아서 금방 수익화되더라https://smartstore.naver.com/goodgoodgoodgood/\n",
      "\n",
      "Comment: 이딴데까지 바이럴돌리는거 보니까 장사 안되는건 알겠다\n",
      "Content: \n",
      "1 이미지 순서 ON2 이미지 순서 ON3 이미지 순서 ON밥먹다가 졸고 자다깨면 밥먹느라 하루 ㅈㄴ 바쁘게살아\n",
      "\n",
      "Comment: 바닥에 뭐 깐겨\n",
      "Comment: 개귀엽네\n",
      "Comment: 존나 멍청하게생겼네 대가리에 딱밤 개쎼게 떄리고싶다\n",
      "Comment: 거북이는 왜비싼거냐\n",
      "Comment: 군만두같네  - dc App\n",
      "Comment: 존나 키우고싶다 집만 좀 더 커지면 키울텐데 싸밯\n"
     ]
    },
    {
     "name": "stderr",
     "output_type": "stream",
     "text": [
      "\n"
     ]
    },
    {
     "name": "stdout",
     "output_type": "stream",
     "text": [
      "Content: \n",
      "칠점사 같은데 맞나요 충북\n",
      "\n",
      "Comment: 쇠살모사 독사\n",
      "Comment: 충북에도 사람이 사네\n"
     ]
    },
    {
     "name": "stderr",
     "output_type": "stream",
     "text": [
      " 49%|████▉     | 24/49 [00:46<00:45,  1.82s/it]\u001b[A"
     ]
    },
    {
     "name": "stdout",
     "output_type": "stream",
     "text": [
      "Content: \n",
      "뭐하노ㅋㅋㅋ  - dc official App\n",
      "\n",
      "Comment: 어어 뛰지 마라\n"
     ]
    },
    {
     "name": "stderr",
     "output_type": "stream",
     "text": []
    },
    {
     "name": "stdout",
     "output_type": "stream",
     "text": [
      "Content: \n",
      "1 이미지 순서 ON2 이미지 순서 ON3 이미지 순서 ON존나예쁘지? 이게 귀족 볼파이톤임 \n",
      "\n",
      "Comment: ㅈ빻음\n",
      "Comment: 마약수사 접수했다 잘 가라\n",
      "Comment: 모프 레몬임?\n",
      "Comment: 그래봤자 렉사\n",
      "Comment: 싸구려\n",
      "Comment: 좀 버려라\n",
      "Comment: ㄱㅊ 종이접기 나올줄 알았는데ㅋㅋㅋ\n"
     ]
    },
    {
     "name": "stderr",
     "output_type": "stream",
     "text": [
      "\n"
     ]
    },
    {
     "name": "stdout",
     "output_type": "stream",
     "text": [
      "Content: \n",
      "ㅇㅇ\n",
      "\n",
      "Comment: UVB는 괜춘 스팟은 변형 올지도\n"
     ]
    },
    {
     "name": "stderr",
     "output_type": "stream",
     "text": [
      " 55%|█████▌    | 27/49 [00:51<00:37,  1.71s/it]\u001b[A"
     ]
    },
    {
     "name": "stdout",
     "output_type": "stream",
     "text": [
      "Content: \n",
      ".\n",
      "\n",
      "Comment: 킬드렛  - dc App\n",
      "Comment: 뽀뽀쪽  - dc App\n",
      "Comment: 킬드렛 아님?\n"
     ]
    },
    {
     "name": "stderr",
     "output_type": "stream",
     "text": []
    },
    {
     "name": "stdout",
     "output_type": "stream",
     "text": [
      "Content: \n",
      "좆잔보다 훨 이득이다 ㄹㅇ- dc official App\n",
      "\n",
      "Comment: 우성모프는 조만간 릴리꼴 나는거지~\n",
      "Comment: 세이블은 아니야\n",
      "Comment: 우성은 릴리로  - dc App\n",
      "Comment: 크레 자체가 좆떡락 중인데 크레를 안해야지 ㅂㅅ아\n"
     ]
    },
    {
     "name": "stderr",
     "output_type": "stream",
     "text": []
    },
    {
     "name": "stdout",
     "output_type": "stream",
     "text": [
      "Content: \n",
      "크레 같은 애들 가정번식 막히면앞으로 생물 입양할땐 퍙샵으로만 가게 될거 아냐내가 생각이 너무 짧은거임?\n",
      "\n",
      "Comment: 그만큼 유입이 안되는데 뭐가 좋냐 빡대갈아 - dc App\n",
      "Comment: 그러면 온리 취미시장으로 가는건데취미하는애들이 재테크충들처럼 돈을 써줄까? ㅋ그리고 크레는 재테크 빼면 아무것도 없는종..  - dc App\n",
      "Comment: 크레는 제태크 투기 없으면 시체야 ㅂㅅ같은련아 ㅋ  - dc App\n",
      "Comment: 반찬통에 못기르고 큰데 키우면 지금 키우는 반의 반도 못키우잖아 생각이 많이 짜치노\n",
      "Comment: 취미로하면 많아야 두세마리브리딩 생각하는 일반인들이 수십마리씩 들이는데.. 그 수요가 많이 줄겠지 - dc App\n",
      "Comment: 사실상 법안 들여오면 개인들은 취미로 끽해야 2-3만원 짜리 1-2마리 키울텐데 샵에서 몇십~몇백따리 들여오겠니?뇌라는게 있으면 생각을 좀 해라 이건 업체들도 힘들어지는거야ㅋㅋㅋㅋㅋㅋ 근데도 공청회 안가고 크레팔이 하는거 보면 답 없다\n",
      "Comment: 이렇게 얘기 해봐야 못 알아먹는 지능만 그득한 곳임ㅋㅋㅋ그냥 허구한날 망하길 기도하는 저능아들 모임임ㅠㅠ\n"
     ]
    },
    {
     "name": "stderr",
     "output_type": "stream",
     "text": []
    },
    {
     "name": "stdout",
     "output_type": "stream",
     "text": [
      "Content: \n",
      "크레 피딩 할 때 남는 슈푸 아까운 거 거기에 넣고 싶네... \n",
      "\n",
      "Comment: 나도 그런 생각했는데 결국 다 일이다\n",
      "Comment: 만갤고닉게이야\n"
     ]
    },
    {
     "name": "stderr",
     "output_type": "stream",
     "text": []
    },
    {
     "name": "stdout",
     "output_type": "stream",
     "text": [
      "Content: \n",
      "어짜피 샵들은 다 허가 받을거임 ㅇㅇ  - dc official App\n",
      "\n",
      "Comment: 돈을 덜 버는데 이 ㅂㅅ은 ㅋ  - dc App\n"
     ]
    },
    {
     "name": "stderr",
     "output_type": "stream",
     "text": [
      "\n"
     ]
    },
    {
     "name": "stdout",
     "output_type": "stream",
     "text": [
      "Content: \n",
      "꼬마뱀 유목 사주니까 저녁 6시되면 유목으로 출근함ㅎㅎ\n",
      "\n",
      "Comment: 귀여워\n",
      "Comment: 기여워라\n",
      "Comment: 문좀 열고찍어라\n",
      "Comment: 응 점박이똥퀄\n",
      "Comment: 계속 지워봐\n",
      "Comment: 바나나 고퀄도 얼마안할건데 저딴걸 샀네\n"
     ]
    },
    {
     "name": "stderr",
     "output_type": "stream",
     "text": [
      " 67%|██████▋   | 33/49 [01:02<00:28,  1.80s/it]\u001b[A"
     ]
    },
    {
     "name": "stdout",
     "output_type": "stream",
     "text": [
      "Content: \n",
      "25년 대 방브(방구석 브리더)시대가 온다 방구석 브리더들이 음지에서 양지로 물밀듯 밀려 샵을 차리게 된다. (자의 아님) 샵을 차리지 않는 방브들은 도태되어 리타이어 물량이 쏟아져나오고 샵을 차린 수십 수백의 방브들은 무한 경쟁시대로 들어간다. 하지만 더이상 집구석에서 크레 재테크의 의미는 없어져버렸고 Real취미의 크레시장만 어찌저찌 유지 된다... 고퀄어쩌구 입놀림으로 비싸게 분양하는건 의미가 없어졌다 방브들이 죽어서 남기고간 전리품크레들 때문에 널리고널린게 고퀄어쩌구하다는 개체들과  재테크의미가 없어졌기 때문이다 그렇게 한해가 더 지나고 방브샵들은 다 없어지고 크레로만 먹고살지 않았던 샵들만 전투에서 살아남아 비어디,레게,크레를 같이 회상하며  그땐 그랬었지... 하면서 라면한사발한다. 대방브 폰지사기시대는 그렇게 막을 내린다.  - dc official App\n",
      "\n",
      "Comment: 원피스충 ㄲㅈ\n",
      "Comment: 용돈줄게 재밋게라도 좀 써봐ㅇㅇ\n"
     ]
    },
    {
     "name": "stderr",
     "output_type": "stream",
     "text": []
    },
    {
     "name": "stdout",
     "output_type": "stream",
     "text": [
      "Content: \n",
      "도대체가 ㅋ- dc official App\n",
      "\n",
      "Comment: ㅈㄴ 웃김 원가 200원에 제품 10배 가격 ㅋㅌㅌㅌㅌ거지새끼들\n",
      "Comment: 원래 다 그런거아니노..?ㅋㅋㅋㅋㅋ\n",
      "Comment: 인건비란걸 아시나요\n",
      "Comment: 디자인은 하늘에서 뚝떨어짐? ㅋㅋ\n",
      "Comment: 꼬우면 니들도 만들어ㅋㅋㅋㅋㅋ븅신들이 능력은 없고 원가탓만 하고있누ㄷㄷ느들이 식당에서 쳐 먹는건 왜사먹노??\n",
      "Comment: 이젠 하다하다 제품까지 가격욕을먹네 ㅋㅋ 진짜 거지들만 있냐 여기는?\n"
     ]
    },
    {
     "name": "stderr",
     "output_type": "stream",
     "text": []
    },
    {
     "name": "stdout",
     "output_type": "stream",
     "text": [
      "Content: \n",
      "개인분양 막는다는 법 없었고, 허가제는 실내동물원만임 일반 파충류샵은 노상관, 전시도 다 가능함ㅇㅇ도대체 화이트리스트가 왜 문제? \n",
      "\n",
      "Comment: 너의 정보는 어디서 멈춰있는거냐 한2년전?  - dc App\n"
     ]
    },
    {
     "name": "stderr",
     "output_type": "stream",
     "text": []
    },
    {
     "name": "stdout",
     "output_type": "stream",
     "text": [
      "Content: \n",
      " 오늘 밥 먹고 참깨형아 보고싶어서  가까이 갔는데  유독 예민한 참깨형  아예 등을 돌려버린다....  오늘따라 귀가하는거 왜케 애잔하고 짠하냐...  참깨도 내심 차갑게 대한게 후회는 되는듯...  다음 피딩데이 때는 훈훈한 우애보여주길.  - dc official App\n",
      "\n",
      "Comment: 마이컷네\n",
      "Comment: 귀여워\n"
     ]
    },
    {
     "name": "stderr",
     "output_type": "stream",
     "text": []
    },
    {
     "name": "stdout",
     "output_type": "stream",
     "text": [
      "Content: \n",
      "ㅇㅇ- dc official App\n",
      "\n",
      "Comment: 열등감에 찌든 놈들이 다수\n",
      "Comment: 여기 업자가 80%이상임  - dc App\n",
      "Comment: 갤치고 분탕없는게 얼마나된다고\n",
      "Comment: 보다보면 그냥 자연스럽게 개소리 판독기 탑재됨ㅎㅇ\n",
      "Comment: 다 고닉으로 까고 말해라\n"
     ]
    },
    {
     "name": "stderr",
     "output_type": "stream",
     "text": []
    },
    {
     "name": "stdout",
     "output_type": "stream",
     "text": [
      "Content: \n",
      "ㅋㅋㅋ  - dc official App\n",
      "\n",
      "Comment: 귀여워\n"
     ]
    },
    {
     "name": "stderr",
     "output_type": "stream",
     "text": [
      "\n"
     ]
    },
    {
     "name": "stdout",
     "output_type": "stream",
     "text": [
      "Content: \n",
      "중형종에 충식하는데  - dc official App\n",
      "\n",
      "Comment: 비주류지?\n",
      "Comment: 번식쉽고 많이낳고 퍙초반때부터 있어서?\n",
      "Comment: 비어디갤에 오너라\n"
     ]
    },
    {
     "name": "stderr",
     "output_type": "stream",
     "text": [
      " 82%|████████▏ | 40/49 [01:16<00:17,  1.89s/it]\u001b[A"
     ]
    },
    {
     "name": "stdout",
     "output_type": "stream",
     "text": [
      "Content: \n",
      "걔들은 그럼 시간 넘쳐서 나간건가?.... 렙테이먼트,게코빌리지, 렙코 여기 다 그누구보다도 바쁜 사장들 아닌가? 솔찍히 간담회는 쇼 있더라도 자기 시간 줄여가며 가는게맞는거지 업체는, 무슨 생업이 어쩌고 저쩌고 핑계지\n",
      "\n",
      "Comment: 어허.. 비추 ㅈㄴ 받고 대학생 머시기처럼 집단 강간당하고 싶냐??   - dc App\n",
      "Comment: 맞는 말을 한 죄!\n",
      "Comment: 네 다음김씨\n"
     ]
    },
    {
     "name": "stderr",
     "output_type": "stream",
     "text": [
      "\n"
     ]
    },
    {
     "name": "stdout",
     "output_type": "stream",
     "text": [
      "Content: \n",
      "화리ㅡ알빠노 주류급은 무시 허가제ㅡ이게 얼마나 주옥같을지가 문제  - dc official App\n",
      "\n"
     ]
    },
    {
     "name": "stderr",
     "output_type": "stream",
     "text": [
      " 86%|████████▌ | 42/49 [01:19<00:13,  1.87s/it]\u001b[A"
     ]
    },
    {
     "name": "stdout",
     "output_type": "stream",
     "text": [
      "Content: \n",
      "여기붙어있었음 ㅅㅂ ㅋㅋ 잡아서 넣었다 벽쪽에 있는놈이 탈출했던애임 씨발 3마리넣었는데 한마리가 안보인다.....  - dc official App\n",
      "\n"
     ]
    },
    {
     "name": "stderr",
     "output_type": "stream",
     "text": []
    },
    {
     "name": "stdout",
     "output_type": "stream",
     "text": [
      "Content: \n",
      " - dc official App\n",
      "\n",
      "Comment: 갤 잘못왔어요 ㅈㅅ  - dc App\n",
      "Comment: 나도프레임저건데\n",
      "Comment: 나도 저래서 강에다 버리고옴\n",
      "Comment: 나도 저런적있는데 자전거 고물상에 팔아서 미네랄150 가스 150모아서 발업했음\n",
      "Comment: 버리고 걸어다니셈 - dc App\n",
      "Comment: 이제 고물상가면 2만원 주겠네  - dc App\n"
     ]
    },
    {
     "name": "stderr",
     "output_type": "stream",
     "text": []
    },
    {
     "name": "stdout",
     "output_type": "stream",
     "text": [
      "Content: \n",
      "2~3년전까지만해도 활발했던거 같은데죄다 다트프록에 도롱뇽뿐이네\n",
      "\n",
      "Comment: 흥한적이 있어야 망했다하지ㅋ  - dc App\n"
     ]
    },
    {
     "name": "stderr",
     "output_type": "stream",
     "text": []
    },
    {
     "name": "stdout",
     "output_type": "stream",
     "text": [
      "Content: \n",
      "뭐가 문제임? 비주류 못들어갈까봐??\n",
      "\n",
      "Comment: 뒷북몬이냐 허가제가 문제임방구석 브리더 다 샵차려야할판임 ㅋ  - dc App\n",
      "Comment: 이나라 단순히 수입량 너무 많아서 위험하다고 비어디 볼파 금지각잰건 알고있냐?\n"
     ]
    },
    {
     "name": "stderr",
     "output_type": "stream",
     "text": []
    },
    {
     "name": "stdout",
     "output_type": "stream",
     "text": [
      "Content: \n",
      "의견 주셈\n",
      "\n",
      "Comment: 니가 누고\n",
      "Comment: 저번에 한번 했었다는데...으흠.... 으...\n",
      "Comment: 사람은 몰릴듯 근데 안타깝지만 팔리지는 않을듯…\n",
      "Comment: 할려면 무조건 설경에서\n",
      "Comment: 양서류양서류양서류양서류양서류양서류양서류양서류\n",
      "Comment: 양서류 가져와 양서류 가져와 양서류 가져와 양서류 가져와\n",
      "Comment: 저번에 크레없이 했는데 사람 ㅈㄴ 없었음\n",
      "Comment: 생각보다 비주류가 ㅈㄴ 비싼데다가좇크에게이들처럼 메이킹발기가 쉽지 않아서인기가 없을 듯ㅅㅂ 그시간에 초초 구매해서 호구 잡이 ㄱ ㄱ\n",
      "Comment: ㅋㅋ 50명도 안올듯\n",
      "Comment: 제발 많이 많이 열어서 디씨에 홍보하고 손님 얼마나 왔는지도 올려주라\n"
     ]
    },
    {
     "name": "stderr",
     "output_type": "stream",
     "text": []
    },
    {
     "name": "stdout",
     "output_type": "stream",
     "text": [
      "Content: \n",
      "요리보고 조리봐도 \n",
      "\n",
      "Comment: 모프 레몬임?\n"
     ]
    },
    {
     "name": "stderr",
     "output_type": "stream",
     "text": [
      "100%|██████████| 49/49 [01:32<00:00,  1.89s/it]\n",
      " 34%|███▍      | 10/29 [18:38<31:30, 99.48s/it]"
     ]
    },
    {
     "name": "stdout",
     "output_type": "stream",
     "text": [
      "Content: \n",
      "리키 크레 레게 이런 애들 못키우는거냐아니면 키울순 있는데 제한 걸려서 키우느니 안키우는거랑 같은거냐\n",
      "\n",
      "Comment: 리키는 좀 애매한데 크레 리카자체는 화이트리스트에 백퍼들어가고제한걸리는건 특정마릿수넘어가면 제한걸리고 이런거긴한데 그게 어떨지 몰라서 알수가 없음\n"
     ]
    },
    {
     "name": "stderr",
     "output_type": "stream",
     "text": []
    },
    {
     "name": "stdout",
     "output_type": "stream",
     "text": [
      "Content: \n",
      "과거에 비하면 진짜 80퍼 정도는 줄어든것 같은데?찻집만 봐도 팔릴만한 애들도 안팔려 ㅋㅋ진짜 판매자들 뭔 생각을 하고 있을까?너무 안팔리니 오히려 사기가 싫어지네\n",
      "\n",
      "Comment: 반려로 키울사람은 마릿수 조절하면 진작에 다 데려왔으니까 그런듯 나머지야 알공장 공장장들끼리 거래일거고\n",
      "Comment: 작년보다 올해 입문자수 수요 급등햇는데 무슨 소리인건지ㅋㅋㅋㅋ   - dc App\n",
      "Comment: 퍙찻집 들어갈때마다 소름끼치는 건첫들부터 좉크레팔이새끼들 물소짓\n"
     ]
    },
    {
     "name": "stderr",
     "output_type": "stream",
     "text": []
    },
    {
     "name": "stdout",
     "output_type": "stream",
     "text": [
      "Content: \n",
      "혐키  - dc official App\n",
      "\n",
      "Comment: 새침한게 귀엽다\n"
     ]
    },
    {
     "name": "stderr",
     "output_type": "stream",
     "text": []
    },
    {
     "name": "stdout",
     "output_type": "stream",
     "text": [
      "Content: \n",
      "?_? 뽀뽀 쪽~~~\\\\~~\\\\~~~~~ 추릅추릅  - dc official App\n",
      "\n",
      "Comment: 으;;;\n"
     ]
    },
    {
     "name": "stderr",
     "output_type": "stream",
     "text": []
    },
    {
     "name": "stdout",
     "output_type": "stream",
     "text": [
      "Content: \n",
      "원래 참개구리는 귀뚜라미만 먹어? 방아깨비가 주변에 많아서 저번에 줘봤는데 관심없고 매미, 메뚜기 다줘봤는데 안먹음 근데 귀뚜라미는 주는족족 먹어치우던데 귀뚜라미가 주식인건가- dc official App\n",
      "\n",
      "Comment: 요새 귀뚜라미 시즌이라 우리 부대 막사 안에서도 엄청 나오는데 공급실 이런데다가 몰래 키우셈\n"
     ]
    },
    {
     "name": "stderr",
     "output_type": "stream",
     "text": []
    },
    {
     "name": "stdout",
     "output_type": "stream",
     "text": [
      "Content: \n",
      "레게꾸미는 용품들은 어디서주로사니 바닥재도 추천좀  - dc official App\n",
      "\n",
      "Comment: 햄스터용품검색\n"
     ]
    },
    {
     "name": "stderr",
     "output_type": "stream",
     "text": []
    },
    {
     "name": "stdout",
     "output_type": "stream",
     "text": [
      "Content: \n",
      "방금 잡았어귀엽네\n",
      "\n",
      "Comment: 재패니즈게코\n",
      "Comment: 꼬리 잘라먹었누  - dc App\n",
      "Comment: 마 니 부산살제\n"
     ]
    },
    {
     "name": "stderr",
     "output_type": "stream",
     "text": []
    },
    {
     "name": "stdout",
     "output_type": "stream",
     "text": [
      "Content: \n",
      "근데 욕한번 하고 집에있는 귀뚜리통 열고 다시보니 비밀벌레 얘네 귀여워보임 \n",
      "\n",
      "Comment: 신고했음\n"
     ]
    },
    {
     "name": "stderr",
     "output_type": "stream",
     "text": []
    },
    {
     "name": "stdout",
     "output_type": "stream",
     "text": [
      "Content: \n",
      "1 이미지 순서 ON2 이미지 순서 ON3 이미지 순서 ON요즘 푹 빠진 종 중 하나,,, 헷 알비노라 번식하면 알비노 나옴. 먹성도 좋고, 외모도 귀여워서 재밌음. 요즘 무당개구리 종류가 끌리네,,,  - dc official App\n",
      "\n",
      "Comment: 와 정말 귀엽네\n",
      "Comment: 봄비나 이쁜애들 많지갠적으론 파키푸스, 막시마가 이쁜듯  - dc App\n"
     ]
    },
    {
     "name": "stderr",
     "output_type": "stream",
     "text": []
    },
    {
     "name": "stdout",
     "output_type": "stream",
     "text": [
      "Content: \n",
      "나 렙틸리언이였나? 수영장갔다왔더니 피부탔나봄 ㅋㅋ  - dc official App\n",
      "\n",
      "Comment: 분무해라\n",
      "Comment: 아기장수 우투리 ㅋㅋㅋ\n"
     ]
    },
    {
     "name": "stderr",
     "output_type": "stream",
     "text": []
    },
    {
     "name": "stdout",
     "output_type": "stream",
     "text": [
      "Content: \n",
      "샵차려서 허가받을지 접을지 고민 많이 하실듯 ㅠ 크레인 99%가 재테크 목적일텐데  이젠 정말 취미 크레인들만 남게되는건가? 어쩌면 이번에 반려취미로 정상화되는거같내 폰지사기처럼 휴지조각되버린 크레  잘가라! 아디오스  - dc official App\n",
      "\n",
      "Comment: 집구녁에선 못해?? - dc App\n",
      "Comment: 할놈할 - dc App\n"
     ]
    },
    {
     "name": "stderr",
     "output_type": "stream",
     "text": []
    },
    {
     "name": "stdout",
     "output_type": "stream",
     "text": [
      "Content: \n",
      "먹이던가 주사놓던가 하라는데 이거 맞음?주사는 못놓겟어서 먹여야겟는데...+요산을 못싸는 이유가 요석이 없어서는 아님걍 신장기능이 약해서 못만드는거임원래 신장 약해서 작년에도 2주 이상 못싼적 있는데 약으로 금방 나아지긴 함근데 이번은 ㅈㄴ 1달째 안싸는듯정신머리아프고 뒤질것같다 건강해져라제발\n",
      "\n",
      "Comment: 병원한테 사기먹엇네ㅋ\n"
     ]
    },
    {
     "name": "stderr",
     "output_type": "stream",
     "text": []
    },
    {
     "name": "stdout",
     "output_type": "stream",
     "text": [
      "Content: \n",
      "냉동귀뚜라미 2마리 주니깐 갑자기 쌩쌩해짐  - dc official App\n",
      "\n",
      "Comment: 귀뚜라미가 입에 맞나보네 ㅋㅋ\n",
      "Comment: 그동안 밀웜준 새끼가 잘못했네\n",
      "Comment: 밀웜 반응 최악\n"
     ]
    },
    {
     "name": "stderr",
     "output_type": "stream",
     "text": []
    },
    {
     "name": "stdout",
     "output_type": "stream",
     "text": [
      "Content: \n",
      "엄마가 무화과 사왔던데 이거 줘도됨?\n",
      "\n",
      "Comment: ㅇㅇ 간식 개념으로 ㄲㄲ\n",
      "Comment: 줘도 돼\n",
      "Comment: ㅇㅇ엊그제 첨 줘봤는데 코박고 먹더라\n"
     ]
    },
    {
     "name": "stderr",
     "output_type": "stream",
     "text": []
    },
    {
     "name": "stdout",
     "output_type": "stream",
     "text": [
      "Content: \n",
      "하지만 질문자의 기대와 같이 주인을 보고 '오 주인님!!' 하고 인식하는 것이 아니라, '먹이자판기 쒸배애애애애앨'과 같은 인식이라고 답하겠다.  \n",
      "\n",
      "Comment: 행복회로ㅈㄴ돌리네\n"
     ]
    },
    {
     "name": "stderr",
     "output_type": "stream",
     "text": []
    },
    {
     "name": "stdout",
     "output_type": "stream",
     "text": [
      "Content: \n",
      "들어오긴할까요\n",
      "\n",
      "Comment: 베이비가 들어와야지\n",
      "Comment: 지금 상황으로는 수입하는 업체가 없기 때문에 들어올 가능성 없습니다. 예전에 수입하던 ㅍㅌㄴ에서도 이제 일본 수입은 안하는 것 같습니다.\n",
      "Comment: 개구리시장 좃망했다\n"
     ]
    },
    {
     "name": "stderr",
     "output_type": "stream",
     "text": []
    },
    {
     "name": "stdout",
     "output_type": "stream",
     "text": [
      "Content: \n",
      "지금 환경청이랑 외주업체 둘다 어버버 ㅈㄴ어렵네 어버버버 이러고있는대 1안은 공청회 간담회 ㅈㄴ하다가 시간촉박해져서 시바 모르겠다 하고 기존 반려동물법 살짝틀어서 시장 다 죽이는 법으로 나온다 2안 공청회 간담회 열때마다 ㅅㅂ 전쟁난거같고 ㅈㄴ많이오고 ㅈㄴ목소리크고 ㅈㄴ무서운데 이거 ㅈ같이 만들면 민원 ㅈ될거같고 그냥 있어도 없는거처럼 ㅈㄴ 느슨하게 만들어야지.....이러거나  - dc official App\n",
      "\n"
     ]
    },
    {
     "name": "stderr",
     "output_type": "stream",
     "text": []
    },
    {
     "name": "stdout",
     "output_type": "stream",
     "text": [
      "Content: \n",
      "귀뚜리 공급의 문제와 계속되는 가격인상으로 레게나 펫테일같이 충식위주가 점점 죽을예정  - dc official App\n",
      "\n",
      "Comment: 집마다 파충류 사육 할당량이 있는 것도 아니고 충식 못키우면 그냥 안 키우고 말지 그게 크레로 유입되노?\n",
      "Comment: 좆까라 이기~ 밀웜주면 그만이노 빡통처럼 생긴 크레 너무 줫같이 생겨서 뒤져도 못키운다 ㅠㅜㅜㅜㅜㅜㅜ - dc App\n",
      "Comment: 그깟 사료먹는다고 졷같이 징그러운 크레 안키움그냥 안키우고 말지\n",
      "Comment: 평생의 적 크레공장 돌리는 업체와 그걸키우는 십게이들\n"
     ]
    },
    {
     "name": "stderr",
     "output_type": "stream",
     "text": []
    },
    {
     "name": "stdout",
     "output_type": "stream",
     "text": [
      "Content: \n",
      "ㄹㅇ \n",
      "\n",
      "Comment: 도마뱀이 아니라 악어같은데\n",
      "Comment: 둘 다 존나 불쌍하다\n"
     ]
    },
    {
     "name": "stderr",
     "output_type": "stream",
     "text": []
    },
    {
     "name": "stdout",
     "output_type": "stream",
     "text": [
      "Content: \n",
      "시발새끼가 깨시민척 오지노~ 그냥 같이 설거지시키면 되는 걸 ㅋㅋ 그걸 왜 말하노 화이트리스트 좋은게 좋은건데 시발  - dc official App\n",
      "\n",
      "Comment: 되가지고x 돼가지고o\n"
     ]
    },
    {
     "name": "stderr",
     "output_type": "stream",
     "text": []
    },
    {
     "name": "stdout",
     "output_type": "stream",
     "text": [
      "Content: \n",
      " 대학생 머시기 이 시발련이 슬 슬 독을 풀었네 꽁꽁 쉬쉬하면서 감쳐놨던 진실을 이 개시발새끼가 깨시민인척 오지노 그냥 좋은게 좋은거지 내년까지 크레 털고 나가려했는데 이 시발련이 그냥 아무도 모르게 넘어가면 되지 시발 뭔 공청회야 시발~ ㅋㅋㅋㅋㅋㅋㅋㅋㅋ  - dc official App\n",
      "\n"
     ]
    },
    {
     "name": "stderr",
     "output_type": "stream",
     "text": []
    },
    {
     "name": "stdout",
     "output_type": "stream",
     "text": [
      "Content: \n",
      "페닉샐 슬~슬 나오냐? 대학생 머시기 이 시발련이 슬 슬 독을 풀었네 꽁꽁 쉬쉬하면서 감쳐놨던 진실을 이 개시발새끼가 깨시민인척 오지노 그냥 좋은게 좋은거지 내년까지 크레 털고 나가려했는데 이 시발련이 그냥 아무도 모르게 넘어가면 되지 시발 뭔 공청회야 시발~ ㅋㅋㅋㅋㅋㅋㅋㅋㅋ   - dc official App\n",
      "\n",
      "Comment: 저 똥퀄 초초가 2100이라는게 개그네ㅋㅋㅋㅋ 1년 안에 0하나 빠질듯ㅋㅋㅋㅋ\n",
      "Comment: ㅋㅋㅋㅋ 저거 2년안에 안팔려서 무료분양 나온다에 내 손목아지 건다ㅋㅋㄱㄱ어휴 모프에 미친새끼들 저걸 뭘 2천만원주고사ㅋㅋㅋ 끝난마당에 수박에 줄긋기냐?\n",
      "Comment: 저거 사는놈들 이미 크레로 12억4천쯤 벌어서 2천 그냥 재미로 사보는거임\n",
      "Comment: 야이씨210에누가가냐 미친 빡대가리도 아니고21이어도 숫은 렙탈킹게이처럼 모니터법으로던져야지\n"
     ]
    },
    {
     "name": "stderr",
     "output_type": "stream",
     "text": []
    },
    {
     "name": "stdout",
     "output_type": "stream",
     "text": [
      "Content: \n",
      " - dc official App\n",
      "\n",
      "Comment: 뭐긴 피딩영상아님?  - dc App\n",
      "Comment: 어어 물린다\n"
     ]
    },
    {
     "name": "stderr",
     "output_type": "stream",
     "text": []
    },
    {
     "name": "stdout",
     "output_type": "stream",
     "text": [
      "Content: \n",
      "정력에 좋다 or 탈모에 좋다  - dc official App\n",
      "\n",
      "Comment: 이거 보고 농장 차리러간다\n",
      "Comment: 나 탈모 초기인거 같은데 그렇다고 약먹기엔 부작용 무서워서최근에 탈모샴푸 하나 쓰기 시작했는데 좀 덜빠지는거같음ㅇㅇhttp://talgenplus.oco.kr 여기서 탈젠 샴푸 신청했는데한달 내 효과없으면 백퍼 환불해준대서 속는셈치고 썼는데 2달째 쓰는중ㅋㅋ\n"
     ]
    },
    {
     "name": "stderr",
     "output_type": "stream",
     "text": []
    },
    {
     "name": "stdout",
     "output_type": "stream",
     "text": [
      "Content: \n",
      "법안에 대한 공포로 한동안 저가매물 많이 나온나. 매수해서 라이센스 획득후 2년 버티면 공급감소로 수혜 받는다. 이미 수요는 충분히 확대됐기 때문에 수요감소를 공급감소가 상회하며 가격상승 한다. 나는 현금 모아두고 연말까지 개체들 매수할 예정. \n",
      "\n",
      "Comment: 고퀄시장이 ㅈ됬다는게 현재 업자들사이 정설임개고양이 시장보고 가격상승 피 따먹을라는거같은데그럴라면 개고양이처럼 온리 반려,취미로 수요가 따라와줘야되는데 크레는 99% 재테크수요였기때문에 잘못하면 100에 사와서 1에 파는경우도 생길수있으니 조심히 접근하셈 괜히 재산 1/100토막 내지말고  - dc App\n"
     ]
    },
    {
     "name": "stderr",
     "output_type": "stream",
     "text": []
    },
    {
     "name": "stdout",
     "output_type": "stream",
     "text": [
      "Content: \n",
      "다녀오라고 배웅하는거 같아서 귀여웠다\n",
      "\n"
     ]
    },
    {
     "name": "stderr",
     "output_type": "stream",
     "text": []
    },
    {
     "name": "stdout",
     "output_type": "stream",
     "text": [
      "Content: \n",
      "무분도 안되는거 진짜 생매장이나 변기행이냐너무 넘칠것같은데요\n",
      "\n",
      "Comment: 노멀 레게는 오히려 못찾는다 게이야;; - dc App\n",
      "Comment: 요즘은 오히려 노멀레게가 귀한 세상\n",
      "Comment: 노멀크레는 입문자용사육세트같은데 껴서 팜\n",
      "Comment: 야생에 풀었지 뭐\n",
      "Comment: 크레 진짜 왜키우냐? 병신들\n"
     ]
    },
    {
     "name": "stderr",
     "output_type": "stream",
     "text": []
    },
    {
     "name": "stdout",
     "output_type": "stream",
     "text": [
      "Content: \n",
      "십만원도 안팔리는데팔고 다음사업 뭐하지주식사놓까?\n",
      "\n",
      "Comment: 그냥 크레나 더 사들여 병신마냥ㅋㅋㅋㅋ\n"
     ]
    },
    {
     "name": "stderr",
     "output_type": "stream",
     "text": []
    },
    {
     "name": "stdout",
     "output_type": "stream",
     "text": [
      "Content: \n",
      "https://youtube.com/shorts/SB6BZC-TE6I?si=BxWNKbSyHve6GV4F +++++ ++++ ++++ ? ++ ++ ++++ ++ ++ #++++++++ #+++++++ #+++++++ ++++++ +++++++ +++++ +++ ++++++++ ++++ ++++ ? ++ ++ ++++ ++ ++ #++++++++ #+++++++ #+++++++ ++++++ +++++++ +++++ +++ +++youtube.com참 쉽죠? \n",
      "\n"
     ]
    },
    {
     "name": "stderr",
     "output_type": "stream",
     "text": []
    },
    {
     "name": "stdout",
     "output_type": "stream",
     "text": [
      "Content: \n",
      " https://youtube.com/shorts/z1n8Amow-jk?si=Bnw2eF_KgmJyDkY9 naveen yogi। baund गौशालाnaveen yogi। baund गौशालाyoutube.com ㅎㄷㄷ \n",
      "\n",
      "Comment: 노래에서 카레냄새 존나나네\n"
     ]
    },
    {
     "name": "stderr",
     "output_type": "stream",
     "text": []
    },
    {
     "name": "stdout",
     "output_type": "stream",
     "text": [
      "Content: \n",
      "그냥 궁금해서요\n",
      "\n",
      "Comment: 여름엔 수입 보기 힘들다\n",
      "Comment: 양서류쪽은 망해서 이제 거의 안들어온다밀수 새끼들 빼고는 안함 - dc App\n"
     ]
    },
    {
     "name": "stderr",
     "output_type": "stream",
     "text": []
    },
    {
     "name": "stdout",
     "output_type": "stream",
     "text": [
      "Content: \n",
      "얘는 진짜거든  마이 뜨겁다  193cm 97kg이 ㅈ으로 보이노?  - dc official App\n",
      "\n",
      "Comment: 뱀 키우는 인간들 평균이네  - dc App\n"
     ]
    },
    {
     "name": "stderr",
     "output_type": "stream",
     "text": []
    },
    {
     "name": "stdout",
     "output_type": "stream",
     "text": [
      "Content: \n",
      "지금 크레 3마리, 스킨크, 거북이  총 5마리 키우는중인데 애들 전부 귀엽고 좋음 하지만 똥치워주고 바닥재 갈아주고 밥,물그릇 치워주고... 5마리도 때때로 귀찮은데  그 이상 키우는 사람들 ㅈㄴ 대단한듯... 업체는 빼고  - dc official App\n",
      "\n",
      "Comment: 두마리 키우는것도 버겁다한마리가 젤 좋아\n"
     ]
    },
    {
     "name": "stderr",
     "output_type": "stream",
     "text": []
    },
    {
     "name": "stdout",
     "output_type": "stream",
     "text": [
      "Content: \n",
      "사육장 용품11만 스디블15만해서 26만지출 크악 \n",
      "\n",
      "Comment: 무슨 사육장을 산거야\n",
      "Comment: 나도 사줘 스오야\n"
     ]
    },
    {
     "name": "stderr",
     "output_type": "stream",
     "text": []
    },
    {
     "name": "stdout",
     "output_type": "stream",
     "text": [
      "Content: \n",
      "얼마전에 유튜브 라이브로  레게튀겨먹더만;;  - dc official App\n",
      "\n",
      "Comment: 토케이는 약재로도씀\n",
      "Comment: 씨발새끼야 너가 하고 싶어서 밑밥 까는 거지\n",
      "Comment: 1년전에 크레 다리 4개 토막낸거 튀긴 사진 올려놓고 시식 후기글 올라온적 잇음 그 후로 가끔 올라왓는데 ㄹㅇ 싸이코더라  - dc App\n",
      "Comment: 크레 방사능 덩어린데 그걸 먹어 병신들 ㅉㅉ릴리화이트 가 왜 생기는지 아냐? 레몬프로스트같은거임 애초에 모프들이 다 장애 란뜻인데 그게 이뻐서 사고자빠졌노 ㅉㅉ\n"
     ]
    },
    {
     "name": "stderr",
     "output_type": "stream",
     "text": []
    },
    {
     "name": "stdout",
     "output_type": "stream",
     "text": [
      "Content: \n",
      "진짜 얼탱이없다개같이 남겨먹을라하네\n",
      "\n",
      "Comment: 수입 받아와서 파는데 수입가보다 비싸야 정상 아니냐?  - dc App\n",
      "Comment: 로컬이?\n",
      "Comment: 시장가라는게 있는데 krcb되면 개같이 감가맞음?\n",
      "Comment: 수입후샵가격 120국내번식 가격 150이게맞나? 돈에 눈돌아간거지ㅋ\n"
     ]
    },
    {
     "name": "stderr",
     "output_type": "stream",
     "text": []
    },
    {
     "name": "stdout",
     "output_type": "stream",
     "text": [
      "Content: \n",
      " - dc official App\n",
      "\n",
      "Comment: ㅋㅋㅋㅋㅋㅋㅋㅋㅋㅋㅋㅋㅋㅋㅋㅋㅋㅋ 표현이랑 뭔가 들어맞노\n",
      "Comment: 배우 김의성 닮음\n"
     ]
    },
    {
     "name": "stderr",
     "output_type": "stream",
     "text": []
    },
    {
     "name": "stdout",
     "output_type": "stream",
     "text": [
      "Content: \n",
      "똥치우는것도 화나노\n",
      "\n",
      "Comment: 코인은 안샀으니 성공한거나 - dc App\n"
     ]
    },
    {
     "name": "stderr",
     "output_type": "stream",
     "text": []
    },
    {
     "name": "stdout",
     "output_type": "stream",
     "text": [
      "Content: \n",
      "안되면 포맥스 지르겠지만 이왕이면 언더베드에 가능한 친구들로\n",
      "\n",
      "Comment: 픽시프록\n",
      "Comment: 비어디\n"
     ]
    },
    {
     "name": "stderr",
     "output_type": "stream",
     "text": []
    },
    {
     "name": "stdout",
     "output_type": "stream",
     "text": [
      "Content: \n",
      "얘는 진짜거든 마이 뜨겁다  - dc official App\n",
      "\n",
      "Comment: 노빙무\n"
     ]
    },
    {
     "name": "stderr",
     "output_type": "stream",
     "text": [
      "\n"
     ]
    },
    {
     "name": "stdout",
     "output_type": "stream",
     "text": [
      "Content: \n",
      "?\n",
      "\n",
      "Comment: 잘 먹지 않으려나? 어차피 분해생물이니까...\n",
      "Comment: 걍 다이소 가서 천원짜리 물고기사료 사셈\n",
      "Comment: ㅇㅇ 근데 제때 다 안먹으면 응애생김\n"
     ]
    },
    {
     "name": "stderr",
     "output_type": "stream",
     "text": [
      " 82%|████████▏ | 40/49 [01:47<00:20,  2.25s/it]\u001b[A"
     ]
    },
    {
     "name": "stdout",
     "output_type": "stream",
     "text": [
      "Content: \n",
      "개체 ㄱㅊ고 점없는게 고작 36만 낙찰 ㅋㅋㅋㅋㅋ아잔이제 들어가려는애들 발빼라\n",
      "\n",
      "Comment: 아직도 비싸다 똥퀄 잔티기는 10미만으로 가야된다\n",
      "Comment: 이제 크레시장의미 없음. ㅋ 레게전처밟는중 네임드만 야부리로 살아남는중 ㅋ\n",
      "Comment: 올해 초 입문했는디. 아잔틱 초기업자들은 돈 많이 범??\n",
      "Comment: ㅋㅋㅋㅋ 야들아 초초? 그게 2천만이라는데 살 병신없지? ㅋㅋㅋ솔직히 크레거 이쁘냐?..  난 존나 이해안가 차라리 레게 블러드급을 해\n"
     ]
    },
    {
     "name": "stderr",
     "output_type": "stream",
     "text": []
    },
    {
     "name": "stdout",
     "output_type": "stream",
     "text": [
      "Content: \n",
      "1. 후빨러와 크레팔이의 대화 후빨러 : 법안 괜찮을까요?..(전재산 꼬라박음) 크레팔이 : 그거 아무것도 아니에요~                    지금이랑 별차이 없을겁니다 ^_^                   (오줌을 지리며 이미 ㅈ됨을 감지했었음) 2. 크레팔이들 끼리의 대화 크레팔이 1 : ㅈ됬는데 이번년도에 빨리 개체 털고                      돈 모아놨다가 내년에 상황봐서 다시                       개체사던 접던해야겠내요.. 크레팔이 2 : 저는 지금 조금씩 정리중입니다 크레팔이 3 : 상황 좋지않내요... 크레팔이 4 : 대출금 아직 남았는데 지금 갖고있는거                       다팔아도 원금 회수가 안되내요 ㅜ                      3년정도만 더 했으면 손익분기점 넘는데                      나라가 안도와주내요 크레팔이 2 : 222222 크레팔이 1 : 3333333 크레팔이 5 : 4444 크레팔이 2 : ㅠㅠ  - dc official App\n",
      "\n",
      "Comment: 노잼 ㅋㅋㅋ 초딩도 아니고 대화극 적은건  - dc App\n",
      "Comment: ㅋㅋㅋㅋㅋㅋㅋㅋ커엽자노 ㅜ\n",
      "Comment: 괜히 법안가지고 드립치다 고생하지말고 사려\n",
      "Content: \n",
      " - dc official App\n",
      "\n",
      "Comment: 의외로 천국이었노ㅎ\n",
      "Comment: ㅋㅋㅋㅋㅋㅋㅋ미친 ㅋㅋㅋㅋㅋ\n",
      "Comment: ㅋㅋ 예수믿냐  - dc App\n"
     ]
    },
    {
     "name": "stderr",
     "output_type": "stream",
     "text": []
    },
    {
     "name": "stdout",
     "output_type": "stream",
     "text": [
      "Content: \n",
      "동거한다고??  - dc official App\n",
      "\n",
      "Comment: 모닝짤 ㄱㅅ\n",
      "Comment: ㅁㅊ는 누구냐\n"
     ]
    },
    {
     "name": "stderr",
     "output_type": "stream",
     "text": [
      "\n"
     ]
    },
    {
     "name": "stdout",
     "output_type": "stream",
     "text": [
      "Content: \n",
      "1 이미지 순서 ON2 이미지 순서 ON3 이미지 순서 ON4 이미지 순서 ON우리 어머니 강아지 고양이 같은 애들도 귀엽다고 안하시고별로 안좋아하시는데 이번에 갤럭시 데려온건 진짜 좋아하심생물보고 귀엽다면서 웃으시는거 첨봐서 뭔가 신기했음강아지도 고양이도 아닌 도마뱀 보고 귀엽다고 하실줄은..가끔 집 비워야 할 일 있으면 나 대신 먹이도 주심- dc official App\n",
      "\n",
      "Comment: 개추야~  - dc App\n",
      "Comment: 어른들도 다 우리같은 시기가 있지 않았을까\n",
      "Comment: 귀엽다 개추~!\n"
     ]
    },
    {
     "name": "stderr",
     "output_type": "stream",
     "text": [
      " 92%|█████████▏| 45/49 [01:56<00:07,  1.85s/it]\u001b[A"
     ]
    },
    {
     "name": "stdout",
     "output_type": "stream",
     "text": [
      "Content: \n",
      "입문할때 저기본점서 데려왓는데젤리팜코리아 저기는 평이안좋네\n",
      "\n",
      "Comment: 동일\n"
     ]
    },
    {
     "name": "stderr",
     "output_type": "stream",
     "text": []
    },
    {
     "name": "stdout",
     "output_type": "stream",
     "text": [
      "Content: \n",
      "자주 언급되노  - dc official App\n",
      "\n"
     ]
    },
    {
     "name": "stderr",
     "output_type": "stream",
     "text": []
    },
    {
     "name": "stdout",
     "output_type": "stream",
     "text": [
      "Content: \n",
      "근데 창원인데 개멀다 부산이라 걸릴거같은데 \n",
      "\n",
      "Comment: 모프 판독 요 등까리 점 있는게 이상한디\n",
      "Content: \n",
      "거부기는 여깄음 ㅋㅎㅋㅎㅋㅎㅋㅎ  - dc official App\n",
      "\n",
      "Comment: 오랜만에 집 샀당! 김콘 쪼아~\n",
      "Comment: 집얼마\n",
      "Comment: 파갤러 상위1퍼남ㄷㄷ  - dc App\n",
      "Comment: 부럽노\n",
      "Comment: 어그래축하해\n",
      "Comment: 얌마 햄스터는 집안인데 왜 거북인 밖이여\n",
      "Comment: 겨울엔 어떻게 관리함?\n",
      "Comment: 아 햄토리도 잇구나  - dc App\n",
      "Comment: ㅊㅋ\n",
      "Comment: 느개비가 니 여친한테 이것 저것 시키던데... 혹시? ㅋㅋㅋㅋ\n",
      "Comment: ㅊㅊ어디동네야\n",
      "Comment: 집사면 신고식으로 베란다 다이빙 하던데 ㄱㄱ\n"
     ]
    },
    {
     "name": "stderr",
     "output_type": "stream",
     "text": [
      "100%|██████████| 49/49 [02:03<00:00,  2.52s/it]\n",
      " 38%|███▊      | 11/29 [20:43<32:08, 107.15s/it]"
     ]
    },
    {
     "name": "stdout",
     "output_type": "stream",
     "text": [
      "Content: \n",
      "귀여운 거부기 보구가  - dc official App\n",
      "\n",
      "Comment: 여갤러 흑기사 뮤츠게이 왔노\n",
      "Comment: 뭐야 육겁이 메뚜기도 먹어요? 동심파괴 잣대네\n",
      "Comment: 느개비랑 니 여친 장미캐슬에서 몰래 접선했다는데 ㄹㅇ임? ㅋㅋ\n"
     ]
    },
    {
     "name": "stderr",
     "output_type": "stream",
     "text": []
    },
    {
     "name": "stdout",
     "output_type": "stream",
     "text": [
      "Content: \n",
      "아프다.. 예전에 데려온애도 이래가면서 테임시켰나..  존나 금방 순해졌던거같은데 그친구는 이번에 데려온놈은  나랑 맞짱이라도 뜰 기새로 입질을 하네   - dc official App\n",
      "\n",
      "Comment: 토케이 테임 빡세구나.. 개고양이 간식주듯 얼러가며 길들여야해..?\n",
      "Comment: 사진\n"
     ]
    },
    {
     "name": "stderr",
     "output_type": "stream",
     "text": []
    },
    {
     "name": "stdout",
     "output_type": "stream",
     "text": [
      "Content: \n",
      "레몬프로스트ㅋㅋ 팝콘공장장ㅋㅋ\n",
      "\n",
      "Comment: 레몬프로스트 비하ㄴㄴ\n",
      "Comment: 뭔 요산 붙인거마냥 생겻노 신기  - dc App\n",
      "Comment: 와… 저건 진짜 기괴한데 ㅠㅜ - dc App\n",
      "Comment: 저건 종양맞는듯  - dc App\n",
      "Comment: 징그러워  - dc App\n",
      "Comment: ㅇㅅㅇㅈ 인스타에서 퍼옴? - dc App\n"
     ]
    },
    {
     "name": "stderr",
     "output_type": "stream",
     "text": []
    },
    {
     "name": "stdout",
     "output_type": "stream",
     "text": [
      "Content: \n",
      "씨발 나도 저기 껴서 돈벌고싶은데안껴줘서 좆같은뎅 억까라도 ㅈㄴ해서 깨시민네임드로 올라가야지맞냐?- dc official App\n",
      "\n",
      "Comment: 크레갤로  - dc App\n",
      "Comment: ㅇㅇ\n",
      "Comment: ㅇㅇ\n",
      "Comment: 이전글에 보면 알지 ㅇㅇ\n"
     ]
    },
    {
     "name": "stderr",
     "output_type": "stream",
     "text": []
    },
    {
     "name": "stdout",
     "output_type": "stream",
     "text": [
      "Content: \n",
      "ㅋㅋㅋㅋㅋㅋㅋㅋㅋㅋ- dc official App\n",
      "\n",
      "Comment: 명예 황국신민이시라네요 글내려주세요\n",
      "Comment: 우리 아버지랑 할아버지가 지어주셨어\n",
      "Comment: 소덮이가 어때서.;  - dc App\n"
     ]
    },
    {
     "name": "stderr",
     "output_type": "stream",
     "text": []
    },
    {
     "name": "stdout",
     "output_type": "stream",
     "text": [
      "Content: \n",
      "스킨크 키우는데 원래 개사료, 귀뚜라미, 슈푸만 주다가 돼지고기 남은거 있어서 주니깐 존나 잘먹길레 이번주에 3번 줬더니 이제 사료주면 한번 보고 그냥 가버림 ㅅㅂ ㅋㅋㅋㅋㅋ고기 주니깐 바로 달려와서 먹네 \n",
      "\n"
     ]
    },
    {
     "name": "stderr",
     "output_type": "stream",
     "text": []
    },
    {
     "name": "stdout",
     "output_type": "stream",
     "text": [
      "Content: \n",
      "갤럭시 쓰는 사람들 보면 99% 찐따임\n",
      "\n",
      "Comment: 시발련아뒤질래?\n",
      "Comment: 야발련아  - dc App\n",
      "Comment: ㅋㅋㅋㅋㅋㅋㅋㅋㅋㅋ\n",
      "Comment: 야이 xxxxxxxxxxxxxxx  - dc App\n"
     ]
    },
    {
     "name": "stderr",
     "output_type": "stream",
     "text": []
    },
    {
     "name": "stdout",
     "output_type": "stream",
     "text": [
      "Content: \n",
      "모프많이나오네\n",
      "\n",
      "Comment: 근데 일단 별로 안이쁨..\n",
      "Comment: 신모프 거의 확정인듯  - dc App\n",
      "Comment: 뭐만 나오면 다 모프래 ㅋㅋ 별 이쁘지도 않고 의미도 없구먼 ㅋ\n"
     ]
    },
    {
     "name": "stderr",
     "output_type": "stream",
     "text": []
    },
    {
     "name": "stdout",
     "output_type": "stream",
     "text": [
      "Content: \n",
      "ㄷㅎ 행사 와서 ㅈㄹ했던 년들ㅋㅋㅋ 뭔데 남의 행사가지고 뭐라고 함?ㅅㅂ 지적질 평가질 훈수질은 ㅈㄴ쉽지ㅋㅋㅋ아주 행사 전문가 평론가 동물보호 운동가 나셨어요ㅎ꼬우면 즤들 맘에 드는 행사 직접 하라고누가 칼들고 하지말라 협박함?저런것들 영업방해 명훼로 고소해도 시원찮을 판에 사과까지ㅋㅋㅋ낭게이 십 대인배였노ㅎ\n",
      "\n",
      "Comment: 크레갤로  - dc App\n",
      "Comment: 꼬우면 지가행사열어야지\n"
     ]
    },
    {
     "name": "stderr",
     "output_type": "stream",
     "text": []
    },
    {
     "name": "stdout",
     "output_type": "stream",
     "text": [
      "Content: \n",
      "안자고 내려와서 나 컴하는거 구경하고 있네\n",
      "\n",
      "Comment: 카멜 여름에 어캐 버팀 에어컨으로 버티나\n"
     ]
    },
    {
     "name": "stderr",
     "output_type": "stream",
     "text": []
    },
    {
     "name": "stdout",
     "output_type": "stream",
     "text": [
      "Content: \n",
      "노무현 브라\n",
      "\n",
      "Comment: 아 씨발련이\n",
      "Comment: 뿝!\n"
     ]
    },
    {
     "name": "stderr",
     "output_type": "stream",
     "text": []
    },
    {
     "name": "stdout",
     "output_type": "stream",
     "text": [
      "Content: \n",
      "거북이 배 껍데기 (복갑) 쉘롯 규모가 작은 편인데 보통 낫는데 얼마나 걸려? 6달 정도? 발라주는 약은 후시딘이야.왼쪽은 거의 다 나았고 오른쪽이 조금 남았어...\n",
      "\n",
      "Comment: 건조시키고 카네스텐or 라미실을 발라주셈 균을잡아야됨  - dc App\n"
     ]
    },
    {
     "name": "stderr",
     "output_type": "stream",
     "text": []
    },
    {
     "name": "stdout",
     "output_type": "stream",
     "text": [
      "Content: \n",
      "무섭다 진짜- dc official App\n",
      "\n",
      "Comment: 이게 뭐하는건데\n",
      "Comment: 저래놓고 온욕만끽이라네 저거 백프로 싸이코패스임ㅋㅋㅋ\n",
      "Comment: 그래도 잘못한건 아나본데... 아이디가 미얀 이네...  - dc App\n",
      "Comment: ㅋㅋ꿀잼 이런거 더올려줘\n",
      "Comment: 으엑 !_! 이게 뭐야 ?_?\n",
      "Comment: 레진표본인줄\n",
      "Comment: 좋아서 아가리 벌리고 있는데 왜 지랄이노\n"
     ]
    },
    {
     "name": "stderr",
     "output_type": "stream",
     "text": []
    },
    {
     "name": "stdout",
     "output_type": "stream",
     "text": [
      "Content: \n",
      "보통 몇 g부터 가능하노?- dc official App\n",
      "\n",
      "Comment: https://m.dcinside.com/board/reptile/724136\n"
     ]
    },
    {
     "name": "stderr",
     "output_type": "stream",
     "text": []
    },
    {
     "name": "stdout",
     "output_type": "stream",
     "text": [
      "Content: \n",
      " - dc official App\n",
      "\n",
      "Comment: 귀엽노 ㅋㅋ\n",
      "Comment: https://m.dcinside.com/board/reptile/724136\n"
     ]
    },
    {
     "name": "stderr",
     "output_type": "stream",
     "text": []
    },
    {
     "name": "stdout",
     "output_type": "stream",
     "text": [
      "Content: \n",
      "이틀 대관료 해봐야 1~2천이면 떡치고업체 50팀 팀당 100만 받아도 5천임거기다 입장료 만원 잡고 이틀 1만명 오면억대임...그 외 테이블 의자 조명설치 업체 부르면 알아서싹 설치하고 끝나면 싹 치워줌잘되는 행사는 주최측에서 건당 억도 땡기기 가능임근데 제일 중요한게 있음니들은 못해왜냐면 실행력도 대가리고 빠가에다니들이 쇼 주최한다면 누가 참여하겠음?업체 50군데 섭외가 가능하겠음?여기서 능력차이가 나오는거임돈은 쉽게 벌수있음대신 거기에 걸맞는 능력이 있어야함낭게이?나는 솔직히 응원함쉽지 않은거 한거고 원래 사람일이라는게모든게 예상 밖임예상대로만 되면 여기 모두가 부자고카리나 같은 여자 끼고 살겠지근데 중요한건 실패를 인정하고 고치고 나아가면 되는거임근데 니들은?두려워 실패한 경험도 없도설령 실패하더라도 본인 탓이 아닌남탓하기 바쁨그러니 니들은 성공을 못하고 낭게이 욕이나 하고 있음솔직히 여기 낭게이 욕하는 애들중에 쇼 갔다온 사람있음?절대 없을거임누군가 하나가 욕하기 시작하니 다 따라서 욕하는거임낭게이가 3번째 행사 주최인데도 이런식이면욕먹어 마땅하지근데 이제 처음 한거임실수는 누구나 할수있고 예측 불가능한 일은 언제나 일어남니들도 좀 이제는 세상 밖에 나와서 살아라동생인 내가 진짜 안타까워서 그런다25살인 나도 대리 뛰면서 낮엔 편의점에서 일하면서공부한다ㅉㅉ\n",
      "\n",
      "Comment: ㅋㅋㅋ맞는말임ㅎ\n",
      "Comment: 업체들 100씩이나 주고 참여해? ㄷㄷ 분양나가는거 보면 몇마리 나가지도 않던데 적자아님?\n",
      "Comment: 대리뛰고 편의점 일하면 공부는 언제하노 ㅋㅋㅋ그시간에 자기개발해서 더 좋은데 갈 생각을 해야지\n",
      "Comment: 딸배 지망생이내  - dc App\n",
      "Comment: 딸배든 뭐든 투잡 뛰는게 쉽겠냐 낭게이는 욕박고싶지만 글쓴게이는 ㄹㅇ 될놈임 화이팅이다 열심히 살자\n",
      "Comment: 너가 틀렸어ㅋ\n",
      "Comment: 낭게코가 왜 욕먹냐고? 낭게코가 능력있고 돈잘벌고 문제를 떠나서 이번 행사에 자기 이름을 걸고 홍보를 했고, 얼굴마담했으니까 욕먹는거지난 물론 낭게코 욕먹을 이유 없다고 봄. 본문대로 첫 행사였고 부족한 면 있을 수 있는데 다음에 고치면 되는거고. 실수한거라고 생각하는거 두가지는 ㅈ병신다혈질양아치같은 놈을 주관이라고 앉혀서 대학생브리더<<얘 글에 어그로 끌려서 카페 가입하고 존나 추한 글 쓰는걸 막지 못한 거또 하나는 행사 부족한거랑 타이밍 안좋았던것도 인지했을텐데 대학생 브리더 얘가 저격하기전에 먼저 글올려서 이런점이 부족했고 개선하겠다 안한거그리고 디씨는 항상 잼민이들이랑 나이값 못하는 엠생 새끼들 이 두 부류는 뭘하든 억까를 하기 때문에 아마 낭게코게이는 ㅈ도 신경 안쓸거라고 생각한다\n",
      "Comment: ㅂㅅ이냐\n",
      "Comment: 100만원 ㅇㅈㄹ ㅋㄱㅋ  - dc App\n",
      "Comment: ㅋㅋ 7급 준비함?\n",
      "Comment: 50준다드라\n",
      "Comment: 낭게이 억대급 매출이것네 ㄷㄷ\n",
      "Comment: 맞말\n",
      "Comment: ㅋㅋ 편돌이가 국룰인지 알고 자랑마냥 떠들고있노 편의정 에서 공부하면서 알바한단 새끼들 5년지나도편돌이하고있던데?\n",
      "Comment: 이런식으로 행사하면 안그래도 그들만의 리그인 퍙에 대한 관심도 적어지고 인식만 더 나빠지고 결국 업자들 손해임. 눈앞의 이득만 보는 병신들\n"
     ]
    },
    {
     "name": "stderr",
     "output_type": "stream",
     "text": []
    },
    {
     "name": "stdout",
     "output_type": "stream",
     "text": [
      "Content: \n",
      "2+2=4가 왜 인종차별임? \n",
      "\n",
      "Comment: 우민화정책모르냐?\n",
      "Comment: 그 영화에서 본 거 같은데빡대가리들끼리만 애낳아서 전 국민들이 빡대가리된 영화 생각나네\n",
      "Comment: https://m.dcinside.com/board/reptile/724136\n"
     ]
    },
    {
     "name": "stderr",
     "output_type": "stream",
     "text": []
    },
    {
     "name": "stdout",
     "output_type": "stream",
     "text": [
      "Content: \n",
      "왜자꾸 행사에 비주류를 데려오라고하는거임? 왔다갔다하다가 죽으면 니들이 책임질거임?\n",
      "\n",
      "Comment: 파는 새끼가 그정도 리스크도 감당 못할거면 사업 접는게 맞지\n",
      "Comment: 비주류 데려오는 업자는 다 동물학대자 마인드임?\n",
      "Comment: 그럼 크레는 주류라 반찬통에 그렇게 맨날 이동해도 괜찮은거임?\n",
      "Comment: 비주류라고 전부 상태 메롱한 WC 주워다 파는게 아닐텐데\n",
      "Comment: 원래 비주류하는 쉑들 음침함\n",
      "Comment: 파사모만 봐도 크레판인데 내가 업자여도 크레들고감\n",
      "Comment: 랜킨스 기르는데 갑자기 뒤짐ㅡㅡ  - dc App\n",
      "Comment: 그게 아니고 매장에서 유물마냥 안나가니까 혹시라도진짜 혹시라도 하나 나갈까 하는 생각으로 가져나오는거지ㅋㅋㅋ\n"
     ]
    },
    {
     "name": "stderr",
     "output_type": "stream",
     "text": []
    },
    {
     "name": "stdout",
     "output_type": "stream",
     "text": [
      "Content: \n",
      "ㅋㅋㅋ 짭짜루~!!!\n",
      "\n",
      "Comment: 쉬익 쉬익!!  !_!\n"
     ]
    },
    {
     "name": "stderr",
     "output_type": "stream",
     "text": []
    },
    {
     "name": "stdout",
     "output_type": "stream",
     "text": [
      "Content: \n",
      "성심당이 ㄹㅇ 10초거리에 있더라.. 처음으로 가봤는데 개맛있었음.. 특히 생크림롤케익 존나맛있으니까 꼭 먹어봐라.. 가격도 다른빵집에비해 쌌음..\n",
      "\n",
      "Comment: 성공했네\n",
      "Comment: ㅇㅈ 성심당이 최고였음  - dc App\n",
      "Comment: 성심당이 대전 뿐만 아니라 행사마저 살려주네 ㄷㄷ\n",
      "Comment: 성심당이 더 나음 파동 다신안감 ㅋ\n"
     ]
    },
    {
     "name": "stderr",
     "output_type": "stream",
     "text": [
      "\n"
     ]
    },
    {
     "name": "stdout",
     "output_type": "stream",
     "text": [
      "Content: \n",
      "  크레1만   모어닝2만   레게1.5만   가고일3.5만   전일 대비 소폭하락 1 이미지 순서 ON2 이미지 순서 ON3 이미지 순서 ON4 이미지 순서 ON\n",
      "\n",
      "Comment: 누가 만원짜리 똥퀄이래  짝봐도 퀄 좋구만 어!\n",
      "Comment: 크레는 ㄹㅇ 먹이용으로 손색없는 가격이네\n"
     ]
    },
    {
     "name": "stderr",
     "output_type": "stream",
     "text": [
      " 43%|████▎     | 21/49 [00:50<00:53,  1.91s/it]\u001b[A\n"
     ]
    },
    {
     "name": "stdout",
     "output_type": "stream",
     "text": [
      "Content: \n",
      "엘리펀트 말고 \n",
      "\n",
      "Comment: 바다뱀\n",
      "Comment: 펍헤드랑 촉수뱀외 동남아 물뱀류 몇종펍헤드는 빅혼에서 몇년전까지 수입햇는데 최근들어 본적은 없음   - dc App\n"
     ]
    },
    {
     "name": "stderr",
     "output_type": "stream",
     "text": [
      " 45%|████▍     | 22/49 [00:51<00:51,  1.91s/it]\u001b[A"
     ]
    },
    {
     "name": "stdout",
     "output_type": "stream",
     "text": [
      "Content: \n",
      "https://cafe.naver.com/reptilia/4252390?tc=shared_linkㅋㅋㅋㅋㅋㅋㅋㅋㅋ 업자충 씨발 멸망~  - dc official App\n",
      "\n",
      "Comment: 그래도 낭게코가 다혈질 주관측 잘달래면서 마무리햇네\n",
      "Comment: 진짜 업자들 카르텔 만들어서 물고빨고 개지랄하는거 진짜 역겨워 죽겠네\n",
      "Comment: 사과문은 깔끔하네  첨부터 그랬으면 이미지 급상승인데 ㅋㅋ  소는 잃었지만 외양간은 고쳤으니 앞으로 지켜보면될듯\n",
      "Comment: 죄송하다고는 하지만 \" \"강조표시로 돌리는거 같은데?  - dc App\n"
     ]
    },
    {
     "name": "stderr",
     "output_type": "stream",
     "text": []
    },
    {
     "name": "stdout",
     "output_type": "stream",
     "text": [
      "Content: \n",
      "갱생불가가 절지류판이고 등각류 쥐며느리가 개초딩 집합소임 \n",
      "\n",
      "Comment: 등배갤 파딱인데 이거 맞다\n"
     ]
    },
    {
     "name": "stderr",
     "output_type": "stream",
     "text": []
    },
    {
     "name": "stdout",
     "output_type": "stream",
     "text": [
      "Content: \n",
      "이거 레오파드 재판인겨? ㅠㅠ - dc official App\n",
      "\n",
      "Comment: 한마리 사면 그냥 끼워줌\n",
      "Comment: 만원이나해? 존나개양심없이비싸네\n"
     ]
    },
    {
     "name": "stderr",
     "output_type": "stream",
     "text": [
      "\n"
     ]
    },
    {
     "name": "stdout",
     "output_type": "stream",
     "text": [
      "Content: \n",
      "ㅈㄱㄴ - dc official App\n",
      "\n",
      "Comment: 15g이상인데 천공없으면 보통 확정임\n"
     ]
    },
    {
     "name": "stderr",
     "output_type": "stream",
     "text": [
      " 53%|█████▎    | 26/49 [00:59<00:43,  1.87s/it]\u001b[A"
     ]
    },
    {
     "name": "stdout",
     "output_type": "stream",
     "text": [
      "Content: \n",
      "맞잖아욥ㅎㅋ밀수사기덤팅이로 사람들 등쳐먹어 번돈으로 자식새끼 치킨시켜주면 뿌듯해욥?자식새끼한테도 그리 가르쳐욥?밀수사기덤팅이 업자ㅅㄲ들아ㅎㅋ\n",
      "\n"
     ]
    },
    {
     "name": "stderr",
     "output_type": "stream",
     "text": []
    },
    {
     "name": "stdout",
     "output_type": "stream",
     "text": [
      "Content: \n",
      " 1짤 윗놈이랑 2짤놈은 새끼시절에 둘 포함 총 6마리를 다이소에서 산 넓직한 통에서 합사 시키다가 유일한 숫놈이 섹스를 알려주겠다면서 꼬리물고 안놔서 사이좋게 저래됨  1짤 윗놈이 먼저 꼬리 짤리고 범인은 못찾았는데 몇일뒤에 실시간으로 2짤놈 당하는거 발견해서 범인 검거하고 보니까 알고보니 숫놈인걸 알게됨  1짤 밑놈은 다른놈이 렉사 틈으로 기어들어와서 직접 찾아가 꼬리때먹음  - dc official App\n",
      "\n",
      "Comment: 팻테일이라 속이고 판매 ㄱㄱ\n",
      "Comment: ㅂㅅ키워서 좋겠다 - dc App\n",
      "Content: \n",
      "양서류나 거북이, 스킨크같은거 좀 있었음? 귀찮아서 안갔는데\n",
      "\n",
      "Comment: 반트? 그쪽이 그나마 리프테일? 데이게코 토케이 이런애들 있었음\n",
      "Comment: 리키 좀 많았던것 같음 비주류 업체 자체는 많이 없었는데 종류는 꽤 다양하게 볼 수 있었음\n"
     ]
    },
    {
     "name": "stderr",
     "output_type": "stream",
     "text": []
    },
    {
     "name": "stdout",
     "output_type": "stream",
     "text": [
      "Content: \n",
      "1 이미지 순서 ON2 이미지 순서 ON비판 수용하고 더 좋은 행사를 위해 노력하겠습니다 감사합니다!  3 이미지 순서 ON이틀 뒤..  4 이미지 순서 ON 엥? 리뷰 안 막혀있는데용?_? 20일까지 잘 달리고 있어요! 그거랑은 별개로 앞으로 저 또한 많은 생각을 하게 될거 같네요~ 5 이미지 순서 ON 오늘자까지 잘 달려있고, 왜 허위사실을 이야기를 하시는지 전혀 모르겠어요! ?_? 6 이미지 순서 ON ^^ \n",
      "\n",
      "Comment: 팩트는 바로 잡아야지ㅋㅋ 이건 좀...  - dc App\n",
      "Comment: 그럼 팩트가아닌데 가만히있냐 등신처럼?\n"
     ]
    },
    {
     "name": "stderr",
     "output_type": "stream",
     "text": [
      "\n"
     ]
    },
    {
     "name": "stdout",
     "output_type": "stream",
     "text": [
      "Content: \n",
      "키야 ㅋㅋㅋㅋ \n",
      "\n",
      "Comment: 왜 시바 얼마 벌었는데?  - dc App\n"
     ]
    },
    {
     "name": "stderr",
     "output_type": "stream",
     "text": [
      " 63%|██████▎   | 31/49 [01:08<00:34,  1.91s/it]\u001b[A"
     ]
    },
    {
     "name": "stdout",
     "output_type": "stream",
     "text": [
      "Content: \n",
      "수컷임. 1주전에 미꾸라지 한마리 먹인게 다임. 바닥재 먹은 적도 없음. 어제 짝짓기 비슷한 행위를 함.(암컷 같이키움) 물리거나 떨어진 적 없음. 왜그런지 아는사람 있나. 정보가 너무 없네- dc official App\n",
      "\n",
      "Comment: 이런말하긴 뭐하지만 진짜 뭐같이 생겼네;\n",
      "Comment: 진짜 ㅈㄴ못생김\n",
      "Comment: 더러운 바닥재나 갈아줘라\n",
      "Comment: 오네이트임?\n",
      "Comment: 진짜 좆같이 생겼네 ㅋㅋㅋㅋㅋㅋㅋ\n",
      "Comment: 가스 찬거 아님?\n",
      "Comment: 기어4 탱크맨임\n",
      "Comment: 줫같이 키웠노  - dc App\n",
      "Comment: 디시에선 물어봐도 의미 없이 욕만 먹음;;팩맨 분양한 업체에 문의하는게 가장 좋아\n"
     ]
    },
    {
     "name": "stderr",
     "output_type": "stream",
     "text": []
    },
    {
     "name": "stdout",
     "output_type": "stream",
     "text": [
      "Content: \n",
      "요새 경매 밴드들 보면 분위기가 확실히 이상하다몇달전 경매글이랑 요즘 경매글 비교하면 가격이 박살난게 느껴짐- dc official App\n",
      "\n"
     ]
    },
    {
     "name": "stderr",
     "output_type": "stream",
     "text": []
    },
    {
     "name": "stdout",
     "output_type": "stream",
     "text": [
      "Content: \n",
      "파충류 키워본경험 전무한데이번에 대전 파동갔다가 키우기 쉽다는말 듣고 한마리 데려옴30cm안되는 베이비귀여워서 바로 2자 사육장에 세라믹램프 달아서 넣어줬는데지난 3일동안 움직이는걸 본적이 없음(볼때마다 위치가 바뀌긴 하는데 활발하게 움직이는걸 본적이 없음)핑키는 주문때린거 내일쯤 와서 밥줄건데밥 잘먹었음 좋겠다\n",
      "\n",
      "Comment: 원래 불 꺼져있거나 하면 행동하는데어릴 땐 겁이 많아서 더 그럼\n"
     ]
    },
    {
     "name": "stderr",
     "output_type": "stream",
     "text": [
      "\n"
     ]
    },
    {
     "name": "stdout",
     "output_type": "stream",
     "text": [
      "Content: \n",
      "잘못한게 없는데 왜 욕먹는거?진짜 이해가 안되서 물어봄누가 설명좀...\n",
      "\n",
      "Comment: 만만하자나  - dc App\n",
      "Comment: ?_?\n",
      "Comment: 문재인은 왜 욕 먹음?\n",
      "Comment: 다른행사는 언급못하지 만만한곳을 저격하지 ㅋㅋㅋㅋㅋㅋㅋㅋㅋ\n"
     ]
    },
    {
     "name": "stderr",
     "output_type": "stream",
     "text": [
      " 71%|███████▏  | 35/49 [01:16<00:27,  1.98s/it]\u001b[A"
     ]
    },
    {
     "name": "stdout",
     "output_type": "stream",
     "text": [
      "Content: \n",
      "바이러스 걸렸어도 증상 발현되기 전에 팔딱팔딱 뛰댕기는거 먹이면 안죽음 비실비실한거 혹은 죽은거 먹여도 괜찮겠지...?해서 먹였다가 문제 생기는거지 걱정하지 말고 싱싱한거 잘 골라 먹여 \n",
      "\n"
     ]
    },
    {
     "name": "stderr",
     "output_type": "stream",
     "text": []
    },
    {
     "name": "stdout",
     "output_type": "stream",
     "text": [
      "Content: \n",
      "33만원정도 입양할 개체 추천받는다용품값 포함이다\n",
      "\n",
      "Comment: 레오파드게코\n"
     ]
    },
    {
     "name": "stderr",
     "output_type": "stream",
     "text": [
      "\n"
     ]
    },
    {
     "name": "stdout",
     "output_type": "stream",
     "text": [
      "Content: \n",
      "그리운 이름이다 \n",
      "\n",
      "Comment: https://m.dcinside.com/board/reptile/724136\n"
     ]
    },
    {
     "name": "stderr",
     "output_type": "stream",
     "text": [
      " 78%|███████▊  | 38/49 [01:22<00:21,  1.96s/it]\u001b[A"
     ]
    },
    {
     "name": "stdout",
     "output_type": "stream",
     "text": [
      "Content: \n",
      "난 작년에 귀뚜라미 농장 시도하다가 바이러스 먹은 귀뚜라미 받고 쫄딱 망했거든 세번정도 더 번식해보고 귀뚜라미 시체 치우는게 일이라서 더이상 시도 하지도 않는다. ㅎㅎㅎ이 바이러스가 참 고약한게 집안 곳곳에 바이러스 입자가 퍼져있고건조 고열 추위에도 강한 바이러스라서 잘 안죽는다 니가 건강한 귀뚜라미를 받았다 하더라도 집안에 있던 귀뚜라미 바이러스가 침투하는건어떻게 할수가 없음\n",
      "\n",
      "Content: \n",
      "잘나면 돌을 던진다 명심하도록 \n",
      "\n",
      "Comment: 잘아네\n"
     ]
    },
    {
     "name": "stderr",
     "output_type": "stream",
     "text": []
    },
    {
     "name": "stdout",
     "output_type": "stream",
     "text": [
      "Content: \n",
      "퓨어 랍시고 존나 비싸게 수입해서 뿌려대더만새끼까서 팔아도 국키랑 똑같이 30마넌이네 ㅋㅋㅋㅋㅋ\n",
      "\n",
      "Comment: 퓨어 gt는?\n",
      "Comment: 솔직히 퓨어 보다는 색감있는 퍼플 레디 핑크가 이쁘긴 함\n"
     ]
    },
    {
     "name": "stderr",
     "output_type": "stream",
     "text": []
    },
    {
     "name": "stdout",
     "output_type": "stream",
     "text": [
      "Content: \n",
      "초성이라도 알 수 없나\n",
      "\n",
      "Comment: ㅂㅁ\n",
      "Comment: ㅈㅍㅅ\n"
     ]
    },
    {
     "name": "stderr",
     "output_type": "stream",
     "text": []
    },
    {
     "name": "stdout",
     "output_type": "stream",
     "text": [
      "Content: \n",
      "바람잡이 하는거 보면 참…퀄리티 좋은거 알겠고 네임드라 비싼건 알겠는데 더 심각한 문제는 광신도들이 꿀매라고 외치는거 보고 할말을 잃음..무슨 폰지사기 같아보임…\n",
      "\n",
      "Comment: 사기 맞지\n",
      "Comment: ㄹㅇ\n",
      "Comment: 단톡경매는 괜찮고? ㅋ\n",
      "Comment: 어딤지 바로 알겠노 ㅋㅋㅋㅋㅋㅋㅋ.\n",
      "Comment: 본인은 게코 안팔리는데 잘 나가는거 보니 배 아프노?ㅋ  - dc App\n",
      "Comment: 조만간 딸배해야되는애들이다오토바이 살돈은 벌게 해주자  - dc App\n",
      "Comment: 꿀매면 지가 사얘지. 외치지만 말고  - dc App\n",
      "Comment: 좀 네임드되면 알아서 붙는 광신도들이 진짜 코미디임\n",
      "Comment: 걔네 하는 짓 보면.. 이삼십대 성인이 자원해서 노비짓하는거 웃겨죽겠음\n"
     ]
    },
    {
     "name": "stderr",
     "output_type": "stream",
     "text": []
    },
    {
     "name": "stdout",
     "output_type": "stream",
     "text": [
      "Content: \n",
      "다른 도마뱀이나 거북이는 니름 유리장에 유목같은 것도 넣고 키우던데 뱀은 그렇게 키우는걸 본 적이 없음\n",
      "\n",
      "Comment: 내가 글케 키우는데유리장은 아니고 포맥스긴 한데\n",
      "Comment: 나무에 사는애들 아니고는 그렇게 해봤자 안 예쁨\n",
      "Comment: 예뻐서 책상 서랍장에 키움??ㅋㅋㅋㅋ\n",
      "Comment: 뱀도 그렇게 키우는데? 갈라치기 ㄴㄴ\n",
      "Comment: 나 그렇게 키우는디 - dc App\n"
     ]
    },
    {
     "name": "stderr",
     "output_type": "stream",
     "text": [
      "\n"
     ]
    },
    {
     "name": "stdout",
     "output_type": "stream",
     "text": [
      "Content: \n",
      "이런 믿 힌 ㄷㄷ 신기하당 \n",
      "\n",
      "Comment: 은은하니까 이쁘넹ㅋㅋ\n"
     ]
    },
    {
     "name": "stderr",
     "output_type": "stream",
     "text": [
      " 92%|█████████▏| 45/49 [01:36<00:07,  1.98s/it]\u001b[A"
     ]
    },
    {
     "name": "stdout",
     "output_type": "stream",
     "text": [
      "Content: \n",
      "여기서 더 가격 올라가면 찐해지는게 아니라 니그로마냥 까매져서 나처럼 쨍한거 좋아하는 사람은 저 가격대가 하이엔드여 \n",
      "\n",
      "Comment: 삘간게 난 더 이쁨 왜 곰팡이같은 색이 비싼겨 개꿀 - dc App\n"
     ]
    },
    {
     "name": "stderr",
     "output_type": "stream",
     "text": []
    },
    {
     "name": "stdout",
     "output_type": "stream",
     "text": [
      "Content: \n",
      "물론 펫텔처럼 혐뚜리만 고집하는 놈이면 모르겟는디 충식이면 밀웜이란 대체제가 있잔슴?영양부분은 것로딩을 좀 신경쓰면 되는거고\n",
      "\n",
      "Comment: 성분비율이 귀뚤이가 제일 좋다던데\n",
      "Comment: 메뚜기 좋아하더라\n",
      "Comment: 우리 레게랑 펫텔은 사료랑 누에 잘 먹어줘서 고마움ㅋㅋ 게이 말대로 것로딩 더스팅만 신경 잘 써주면 밀웜도 되게 괜찮던디 ㅇㅇ\n",
      "Comment: 그냥 두비아로치 사서 먹이는게 훨 나음냄새도 안나고 도망도 안가고 울지도 않고 영양 면에서도 낫고불법이라는 점에만 눈감으면 사육자 입장에서 안 쓸 이유가 없음\n"
     ]
    },
    {
     "name": "stderr",
     "output_type": "stream",
     "text": []
    },
    {
     "name": "stdout",
     "output_type": "stream",
     "text": [
      "Content: \n",
      "왜임 2년전엔 최소 60만원부터아니엇음?  - dc official App\n",
      "\n",
      "Comment: 너도 나도 알 부화 시키면서 공급이 넘쳐남ㅋㅋ\n",
      "Content: \n",
      "낮에 너무 더워서 못하겠다.\n",
      "\n",
      "Comment: 뭐든 일한다는게 굿임 열심히하자\n",
      "Comment: 방구석에서 한탄하거나 불법 저지르는 새끼들보다 멋있으니까 당당하게 살자구~\n",
      "Comment: 모르나본데 상하차도 노가다임\n"
     ]
    },
    {
     "name": "stderr",
     "output_type": "stream",
     "text": [
      "100%|██████████| 49/49 [01:44<00:00,  2.13s/it]\n",
      " 41%|████▏     | 12/29 [22:28<30:12, 106.64s/it]"
     ]
    },
    {
     "name": "stdout",
     "output_type": "stream",
     "text": [
      "Content: \n",
      "낮에 너무 더워서 못하겠다.\n",
      "\n",
      "Comment: 뭐든 일한다는게 굿임 열심히하자\n",
      "Comment: 방구석에서 한탄하거나 불법 저지르는 새끼들보다 멋있으니까 당당하게 살자구~\n",
      "Comment: 모르나본데 상하차도 노가다임\n"
     ]
    },
    {
     "name": "stderr",
     "output_type": "stream",
     "text": []
    },
    {
     "name": "stdout",
     "output_type": "stream",
     "text": [
      "Content: \n",
      "크레랑 좀 다르네\n",
      "\n",
      "Comment: 강냉이라고 생각해\n",
      "Comment: 보면 레게 천공이 더 심함\n",
      "Comment: 신용카드 같은걸로 벅벅긁고싶다\n",
      "Comment: ㅋㄷ 좀 끼워줘라\n"
     ]
    },
    {
     "name": "stderr",
     "output_type": "stream",
     "text": []
    },
    {
     "name": "stdout",
     "output_type": "stream",
     "text": [
      "Content: \n",
      "마비병    기존 난리났던 바이러스로 요건 우리 파양인에게 알빠노 바이러스임. 외골격 친구들을 조지는 바이러스로 알려짐. 원인은 단백질 형성에 문제를 일으킨다는데 정확한건 전문가가 댓글 달아줄거임 지금 난리난거(뇌피셜)     먹고 파양이 죽었다?  신종 바이러스일 확률이 높다. 이전에도 마비병 난리였는데 단체 폐사 기록은 없음. 갑자기 난리난거 보니 온도 상승으로 인한 새로운 병균 도는게 아닌가 의심감 크레 어쩌고 싸우지 말고 서로 쓰레기 정보라도 공유하자!       - dc official App\n",
      "\n",
      "Comment: 정말 쓰레기 정보네\n",
      "Comment: 걍 어그로같던데?? 여럿 죽은거 아니면 근거없음ㅇㅇ\n",
      "Comment: 새로운 병균이 아니고, 감염되고 증상 발현돼서 체액이 다 상해버린거 먹이면 탈이 남 글고 바이러스랑 병균은 다른거다\n"
     ]
    },
    {
     "name": "stderr",
     "output_type": "stream",
     "text": []
    },
    {
     "name": "stdout",
     "output_type": "stream",
     "text": [
      "Content: \n",
      "24살인데 수의대 꿈으로 하다가 포기했는데 등급은 걍 4등급정도인데 여기서 더 열심히해서 하위인서울 대학간다고 의미가 있나? 그냥 순경 준비하려고 하는데 어떰 진지하게 조언 좀 참고로 수의대 목표인데 4등급이라고 ㅈㄴ ㅈㄹ하던데 올해 개씹노베에서 시작한 거다 \n",
      "\n",
      "Comment: 왜 이렇게 씹노베에 강조를 하지..?진지하게 조언해주자면 게이는 현재 순경도 어려워보임우선 자기객관화부터 찬찬히 해보고 대학 입시나 공시 뭐든간에 진입하는 것을 추천함\n",
      "Comment: 걍 공무원해서 워라벨챙기고 퍙이나 키워\n",
      "Comment: 아무나 다가는 대학교마저 못갔다면 그걸 어따쓰냐  상하차나 해라\n",
      "Comment: 딸피냐? 공무원 워라밸 있어보이냐?? ㅋㅋㅋ\n",
      "Comment: 군대는갔다왔냐? - dc App\n"
     ]
    },
    {
     "name": "stderr",
     "output_type": "stream",
     "text": [
      "\n"
     ]
    },
    {
     "name": "stdout",
     "output_type": "stream",
     "text": [
      "Content: \n",
      "다 죽었다는거\n",
      "\n"
     ]
    },
    {
     "name": "stderr",
     "output_type": "stream",
     "text": [
      " 10%|█         | 5/49 [00:10<01:27,  1.99s/it]\u001b[A"
     ]
    },
    {
     "name": "stdout",
     "output_type": "stream",
     "text": [
      "Content: \n",
      "법안 전 크레 털기춤 출예정 크레시장 멸망 1년 4개월전 딱 ~지금 새끼 보내면 받아가는놈 브리딩 하기전에 멸망각 나오내 ㅋ   - dc official App\n",
      "\n",
      "Comment: 75티어 ㅋㅋㅋㅋ어디노\n",
      "Comment: 헐레벌떡 비추누르는 업자 보소 크레털기춤이나 춰라  - dc App\n"
     ]
    },
    {
     "name": "stderr",
     "output_type": "stream",
     "text": []
    },
    {
     "name": "stdout",
     "output_type": "stream",
     "text": [
      "Content: \n",
      "생물이라 택배 안될 줄 알고 고택얘기 했더니 전화와서 그냥 택배로 받으라 하네ㅋㅋㅋㅋㅋ브리딩한거 냉동 거부해서 생먹이 수급때문에 걱정했는데 다행이구만여기는 우크라이나고 한국얘기 아님\n",
      "\n",
      "Comment: 안물\n",
      "Comment: 우크라이나도 고택이 있구나\n",
      "Comment: 미사일 조심해라\n"
     ]
    },
    {
     "name": "stderr",
     "output_type": "stream",
     "text": []
    },
    {
     "name": "stdout",
     "output_type": "stream",
     "text": [
      "Content: \n",
      "난 ㄸㄹ팜 쓰긴하는디. 여긴 애들 안뒤져서 오드라고..? 다들 어디꺼 씀?\n",
      "\n",
      "Comment: 근데 그거 냉뚜리에도 영향이 있으려나?\n",
      "Comment: 웰빙 맛뚜리 ㄱㄱ\n",
      "Comment: 당연히 살아있는거 보내니까 뒤져서 오진 않지몇일 뒤 부터 뒤져나갈뿐\n",
      "Comment: 뚜리팜이 제일 낫더라아~~~~\n",
      "Comment: ㄸㄹㅍ 1등\n"
     ]
    },
    {
     "name": "stderr",
     "output_type": "stream",
     "text": []
    },
    {
     "name": "stdout",
     "output_type": "stream",
     "text": [
      "Content: \n",
      "알나오더니 대가리가 2개노\n",
      "\n",
      "Comment: https://m.cafe.naver.com/reptilia/4252030이거너냐? - dc App\n"
     ]
    },
    {
     "name": "stderr",
     "output_type": "stream",
     "text": [
      "\n"
     ]
    },
    {
     "name": "stdout",
     "output_type": "stream",
     "text": [
      "Content: \n",
      "극소밀웜임  - dc official App\n",
      "\n"
     ]
    },
    {
     "name": "stderr",
     "output_type": "stream",
     "text": [
      " 20%|██        | 10/49 [00:20<01:19,  2.03s/it]\u001b[A"
     ]
    },
    {
     "name": "stdout",
     "output_type": "stream",
     "text": [
      "Content: \n",
      "이미 1년 넘은 애 데려왔음 첨부터 손바닥만했는데데려와서 열심히 먹였는데 3살 넘었는데도 안큼보아뱀인데도 안크면 노답맞지나한테 오기전 어렷을때 거의 안먹였거나 어디 아팠었나봄그냥 아픈 손가락처럼 키우는중식욕은 제일 좋아서 그 부분은 기특해\n",
      "\n",
      "Comment: 실압근임\n",
      "Comment: 그냥 그 개체가 작게 자라는거임\n",
      "Comment: 몇그람이야? 나도 베이비사이즈길래 이번년도개체겠지 싶었는데 2살쳐먹고 250그람이더라 깝깝함\n"
     ]
    },
    {
     "name": "stderr",
     "output_type": "stream",
     "text": []
    },
    {
     "name": "stdout",
     "output_type": "stream",
     "text": [
      "Content: \n",
      "이런 개주접은 왜 싸고 있는 거임?  똑같이 똥통에 구르면서 아가리랑 귓구녕에 오물이란 오물은 다 묻혀 놓고, '나는 너희와 달라'라는 듯한 이분법적 태도로 고귀함을 표하시면 면상 가득 입혀진 똥내가 지워짐?  그래 너 말하는 거야 너 223 39 좆병신아  \n",
      "\n",
      "Comment: 살살패라.. 보는 내가 다 아프노\n",
      "Comment: 밀수사기꾼아자씨닥치세유ㅎㅎ\n",
      "Comment: 밀수사기아자씨 버러지인간아자씨ㅎㅎ아가리 쉿ㅋ\n",
      "Comment: 아자씨 애미팬티사주면서 어머니 제가밀수와사기로 사람들을 등쳐먹고번돈으로 니팬티를샀어용 이러세용 맞죵?ㅎㅎ아자씨의 그못생긴 애새끼들한테 치킨시켜주며 애들아 아빠가 밀수랑 사기 죤내쳐서 사람들 속이고 등쳐먹으며 번돈으로 시킨치킨이야 많이 먹엏ㅎㅎ이러세용 맞죵?ㅎㅎ\n",
      "Comment: ㅋㅋㅋㅋㅋㅋㅋㅋㅋㅋ\n",
      "Comment: ㅋㅋㅋㅋㅋㅋㅋㅋㅋㅋㅋㅋㅋㅋ\n",
      "Comment: 너무 팩폭이고 ㄷㄷ\n"
     ]
    },
    {
     "name": "stderr",
     "output_type": "stream",
     "text": []
    },
    {
     "name": "stdout",
     "output_type": "stream",
     "text": [
      "Content: \n",
      "인스타 타 플랫폼 등등 홍보 금지인거 모르나깝싸는글 올리기전에 홍보글이나 내려라 몰래 뒤로 신고했음\n",
      "\n",
      "Comment: ㅋㅋㅋㅋㅋㅋㅋ 메시지에 반박할 수 없으면 메신저를 까라 ㅋㅋㅋㅋㅋㅋ 딱 재명이쪽이노 퍙갤평  - dc App\n",
      "Content: \n",
      "평가좀\n",
      "\n",
      "Comment: 윤하 7집 앨범이 드디어 9월1일 오후6시에 나와!!사건의 지평선 앨범에 이어 윤하가 프로듀싱한 새 앨범알람 맞춰두길!!  - dc App\n",
      "Comment: 다트프록 아닌데?\n",
      "Comment: 한달 본다\n",
      "Comment: 뭐가 문제노??.\n",
      "Comment: 소일이나 적옥토 깔고 그 위에 수태 조금이랑 낙엽 깔아\n"
     ]
    },
    {
     "name": "stderr",
     "output_type": "stream",
     "text": []
    },
    {
     "name": "stdout",
     "output_type": "stream",
     "text": [
      "Content: \n",
      "피그미다람쥐뭐냐 먹이도파냐- dc official App\n",
      "\n"
     ]
    },
    {
     "name": "stderr",
     "output_type": "stream",
     "text": [
      "\n"
     ]
    },
    {
     "name": "stdout",
     "output_type": "stream",
     "text": [
      "Content: \n",
      "모어닝은 그런다며 데이게코들도 그래도 됨? \n",
      "\n",
      "Comment: 자데게는  성체가 먹더라 ㅡㅡ\n",
      "Comment: 새끼 먹음 데이게코는\n",
      "Comment: 모어닝도 방치하면 잡아먹힘\n"
     ]
    },
    {
     "name": "stderr",
     "output_type": "stream",
     "text": [
      " 33%|███▎      | 16/49 [00:32<01:06,  2.02s/it]\u001b[A"
     ]
    },
    {
     "name": "stdout",
     "output_type": "stream",
     "text": [
      "Content: \n",
      "줄스 더쥬는 칭찬밖에 없었음 궤변 그만하고 싸닥치셈 \n",
      "\n",
      "Comment: ㄹㅇㅋㅋ  - dc App\n",
      "Comment: ㅋㅋㅋㅋㅋㅋ씨발 팩트폭행 도랏노\n",
      "Comment: 씹 ㅋㅋㅋㅋ\n",
      "Comment: 속이뻥ㅋㅋㅋ\n",
      "Comment: 야 이 시발새끼야 내가 분명히 팩트 말하지 말랬지 시발련아  - dc App\n",
      "Comment: 너 어디사냐?  - dc App\n",
      "Comment: 팩트) 다흑은 뭐 논란 작은거라도 나오기전에 자기가 게시물로 뭐가 부족했고 다음엔 어떻게 개선하겠다라고 먼저 게시물 올림업자라는 놈들이 딱봐도 불만 많은거 알텐데 조용히 넘어가려다가 비판받으니까 비난으로 프레이밍해서 기싸움하는게 역겨운거임\n"
     ]
    },
    {
     "name": "stderr",
     "output_type": "stream",
     "text": []
    },
    {
     "name": "stdout",
     "output_type": "stream",
     "text": [
      "Content: \n",
      "국내 크레 3대장이 ㅅㅈㅂㅇㄷ,ㅇㅍㄴㅌ,ㅋㄹㅇㅌ가 맞음? 요즘 엄청 홍보하네ㅋㅋ\n",
      "\n",
      "Comment: ㅇㅌ쟤는 사실상 그냥 ㅅㅈㅂㅇㄷ아님? 그냥 매번 쟤 개체 받아와서 분양하는거보면\n",
      "Comment: 누가정함?\n",
      "Comment: 빨리 망하는 3대장\n",
      "Comment: 홍보에 비해서 퀄은 그닥인데ㅋㅋㅋㅋ 초초랑 아잔틱 물량빼면 뭐있나?\n",
      "Comment: 시팔 손발 오그라들고 소름돋는다 3대장 이지랄ㅋㅋㅌ\n"
     ]
    },
    {
     "name": "stderr",
     "output_type": "stream",
     "text": []
    },
    {
     "name": "stdout",
     "output_type": "stream",
     "text": [
      "Content: \n",
      "베이비 입양하고 싶은데 10~20만원 선은 취급하지 않으려나? 퀄은 안따짐 ㅇㅇ \n",
      "\n",
      "Comment: 5만부터 있어 매장가봐 ㅈㄴ많음\n",
      "Comment: 블나 패턴리스같은거 살거 아니면 저 가격으로 앵간한 이쁜이 쌉가능\n",
      "Content: \n",
      "나는 충식을 안 키워서 상관 없는 얘기지만 아는 사람 말 들어보면 두비아에서 온 비밀벌레 쓰면 되는데 뭐하러 귀두라미 걱정을 하냐 그러더라고\n",
      "\n",
      "Comment: 비밀벌레가 뭐야\n",
      "Comment: 허가받지않은 외국곤충 사육시 3000만원 이하의 벌금이나 3년이하 징역의 벌을 받을수 있습니다 -농림축산검역본부-\n",
      "Comment: 두비아 초콜릿\n",
      "Comment: 근데 궁금하네 두비아는 전염병 없나\n",
      "Comment: 헛소리 작작\n",
      "Comment: 찐\n",
      "Comment: 두비두밥  - dc App\n"
     ]
    },
    {
     "name": "stderr",
     "output_type": "stream",
     "text": []
    },
    {
     "name": "stdout",
     "output_type": "stream",
     "text": [
      "Content: \n",
      "ㅋㅋㅋ개판이네진짜ㅋㅋ\n",
      "\n"
     ]
    },
    {
     "name": "stderr",
     "output_type": "stream",
     "text": []
    },
    {
     "name": "stdout",
     "output_type": "stream",
     "text": [
      "Content: \n",
      "왜 우리나라에서 유행타서 왈가왈부와랄랄락 그냥 크레 지구에서 멸종하자 다같이 원위치. \n",
      "\n",
      "Comment: ㅋㅋㅋㅋㅋㅋ깔끔한 답안이노\n",
      "Comment: 크레의 정상화\n",
      "Comment: 크레 모니터 먹이로 던져줘라\n"
     ]
    },
    {
     "name": "stderr",
     "output_type": "stream",
     "text": [
      "\n"
     ]
    },
    {
     "name": "stdout",
     "output_type": "stream",
     "text": [
      "Content: \n",
      "또 대란 일어날 듯- dc official App\n",
      "\n",
      "Comment: 딱봐도 개소리임ㅋㅋ\n"
     ]
    },
    {
     "name": "stderr",
     "output_type": "stream",
     "text": [
      " 47%|████▋     | 23/49 [00:47<00:54,  2.09s/it]\u001b[A"
     ]
    },
    {
     "name": "stdout",
     "output_type": "stream",
     "text": [
      "Content: \n",
      "나서봤자임너희도 너희 특성 알지?뭘해도 욕하는거임 니들임잘하면 잘한다 못하면 못한다해야지잘해도 거기서 꼬투리 잡아 욕해기껏 나서서 못하면 오히려 욕먹어니들같음 하겠어? ㅋㅋㅋㅋㅋ파양판이 망하는게 일부 부도덕한 병신들과무지성 억까인 니들때메 망하는거야병신들아사람은 원래 이기적이고 본인이 한번 피해를 보면나서서 안하는게 사람 심리다 ㅋㅋㅋ좃밥들 ㅋㅋㅋ\n",
      "\n",
      "Comment: (디시에 익명으로 쓰며)\n",
      "Comment: 맞는말이긴한데 ㅋㅋㅋㅋ 윗댓이 넘 웃기노 ㅋㅋㅋㅋ\n"
     ]
    },
    {
     "name": "stderr",
     "output_type": "stream",
     "text": []
    },
    {
     "name": "stdout",
     "output_type": "stream",
     "text": [
      "Content: \n",
      "뻔히 닉네임 다 알면서 대학생 뭐시기 이러노 한 술 더 떠서 퍙갤에 쓰는 내 글 너도 보고 있겠지? ㅋㅋ \n",
      "\n",
      "Comment: 아니 닉넴 풀로 다 적기 귀찮았어 ㅋㅋ\n"
     ]
    },
    {
     "name": "stderr",
     "output_type": "stream",
     "text": []
    },
    {
     "name": "stdout",
     "output_type": "stream",
     "text": [
      "Content: \n",
      "그냥 뭐 인정하고 다음부터 잘하겠다 하고 박박 조아리든지 점점 정털리노 \n",
      "\n"
     ]
    },
    {
     "name": "stderr",
     "output_type": "stream",
     "text": []
    },
    {
     "name": "stdout",
     "output_type": "stream",
     "text": [
      "Content: \n",
      "어?\n",
      "\n",
      "Comment: 있어  릴리슈퍼폼\n",
      "Comment: 그건 그냥 다른종 아님?\n"
     ]
    },
    {
     "name": "stderr",
     "output_type": "stream",
     "text": []
    },
    {
     "name": "stdout",
     "output_type": "stream",
     "text": [
      "Content: \n",
      "레게 펫테일은 왠만해서는 꼬리 안끊음  크레도 정도의 차이는 있지만 일반적인 상황에서는 꼬리 안끊는다 분양받을때 무조건 걸러라  \n",
      "\n",
      "Comment: 아 그래? 레게 만질때마다 꼬리자를까봐 조심스러운데\n"
     ]
    },
    {
     "name": "stderr",
     "output_type": "stream",
     "text": []
    },
    {
     "name": "stdout",
     "output_type": "stream",
     "text": [
      "Content: \n",
      "?_?  존나웃기네 ㅋㅋㅋㅋ 낭게코 쿨내 쩌누 ㅋㅋㅋ대학생 뭐시기 너도 이글 보고있겠지??공청회 참여 안하는거에 대한 유감이라 적었던데 , 틀린말은 아님 하지만내용 흐름상 업체들은 돈벌기 급급하고 중요한거에 신경 안쓴다 라는 말도 하고싶은거 같은데무슨 파충류샵 사장들이 돈 긁어모으는줄 아나본데 (물론 많이버는 사람도 있겠지만 어딜가나 어떤 시장이나 다 예외가있듯 극소수 잘되는곳이 그 시장의 평균이 될수 없음)경기안좋아서 힘들어 다들 매장 지키기도 바쁘고 행사 하나라도 더 나가기 바쁘고 힘들다고지금 대한민국 역사상 자영업 폐업률 최고치라고 법안이 뭔 지랄이 나던 쨋든 책임과 결과는 다 우리가 생업에 지장을 받는거 아니겠누나도 예전에 업체톡방에서 작게나마 얘기를 꺼낸적이 있지만나대면 손가락질 받는 느낌이라 그뒤론 아무것도 하기싫더라단합이 안되는데에는 이유가 다 있는거같음누굴탓하랴 결과는 다 같이 책임지는거지 뭐 그리고 너가 어떤얘기를 하고싶어하는지는 충분히 이해되지만요즘은 유튜브만 봐도 어그로가 기본이 아니겠나너도 워딩쌔게해서 어그로 끈거고 그지??어쨋든 실제로 행사 덕분에 입문자가 많아지는효과도 있었고,어제만 해도 입문자가 5명 넘게 오더라좋은게 좋은거라는말 썩 좋아하진 않지만...좋은게 좋은거더라  자꾸 핀트 나가지말고 좋게좋게 생각하자아 그리고 낭사장 돈 긁어모은건 팩트임 ㅋㅋㅋㅋ 존나부럽다 \n",
      "\n",
      "Comment: 아 모르겠고 꺼져그냥\n",
      "Comment: 자기소개 잘봤고\n",
      "Comment: 팩트만 보자 낭게이 크레로 돈 쓸어담음  - dc App\n",
      "Comment: 여기다 쓰지 말고 찻집에 적어라 대학생 뭐시기 너도 보고 있겠지? 이러지 말고\n",
      "Comment: 알빠노\n",
      "Comment: ㅋㅋㅋㅋㅋ대학생 머시기 어그로 맞음\n",
      "Comment: 꺼져 병신아ㅋㅋ  - dc App\n",
      "Comment: 몬펫은 그래도 유튜브 어그로 없어서 조음ㅇㅇ\n",
      "Comment: 차마 찻집에 올리실 용기는 없으신가봐요 사장님!!\n",
      "Comment: 좋고 좋고 좋고 좋은게 좋은겁니다!!크레는? ~~~~~!!\n",
      "Comment: 얘 왜 안 나오나했다 ㅋㅋㅋ\n",
      "Comment: 몬펫한테 왜 그려 응원한다\n",
      "Comment: 윤하 7집 앨범이 드디어 9월1일 오후6시에 나와!!사건의 지평선 앨범에 이어 윤하가 프로듀싱한 새 앨범알람 맞춰두길!!  - dc App\n",
      "Comment: 신모프 몬스터 공개부탁드립니다~~  - dc App\n",
      "Comment: 안녕하세요. 대전 행사 갔는데 얼마 없었지만 비주류 부스들에 개체가 다양해서 좋았고 좆방충이라서 섹스합니다. 담에는 체험부스 위주로해서 체험비까지 받고 전시 파트도 각잡고 크게 연다음에 입장료 1만원하면 돈 긁을것 같아요. 감사합니다.\n",
      "Comment: 어이크레 공장 ㅈㄴ 돌리니까 좋냐?ㅅㅂ 찻집에 수컷 일잘해서 ㅈㅈ 정리잘한다고쓰는 발기년들 어떻게 생각함?\n",
      "Comment: 고택보이콧왓노\n"
     ]
    },
    {
     "name": "stderr",
     "output_type": "stream",
     "text": [
      "\n"
     ]
    },
    {
     "name": "stdout",
     "output_type": "stream",
     "text": [
      "Content: \n",
      "김레몬 언급금지 \n",
      "\n",
      "Comment: 그새끼 민증깜?\n"
     ]
    },
    {
     "name": "stderr",
     "output_type": "stream",
     "text": [
      " 61%|██████    | 30/49 [01:02<00:39,  2.07s/it]\u001b[A\n"
     ]
    },
    {
     "name": "stdout",
     "output_type": "stream",
     "text": [
      "Content: \n",
      "김레몬 노형석 ㅇㅇ 둘 다 상남자스타일에 복싱이나 mma 수련자일거 같고 기세가 엄청 드셈 웬만한 길거리 싸움에서는 절대 안질듯 걍 마초 상남자 그 자체임  - dc official App\n",
      "\n",
      "Comment: 적당히 지랄해 병신아\n",
      "Comment: 김도연도 언급해라\n"
     ]
    },
    {
     "name": "stderr",
     "output_type": "stream",
     "text": [
      " 63%|██████▎   | 31/49 [01:03<00:34,  1.93s/it]\u001b[A"
     ]
    },
    {
     "name": "stdout",
     "output_type": "stream",
     "text": [
      "Content: \n",
      "살이 통통하게 올라 1인분씩은 하겠군 \n",
      "\n",
      "Comment: 쫄깃쫄깃 하겠네 ㅎ\n",
      "Comment: 귀여웤ㅋㅋㅋㅋ - dc App\n",
      "Comment: 군침 싹도누\n",
      "Comment: 몇도에서 키웡?  - dc App\n"
     ]
    },
    {
     "name": "stderr",
     "output_type": "stream",
     "text": [
      "\n"
     ]
    },
    {
     "name": "stdout",
     "output_type": "stream",
     "text": [
      "Content: \n",
      "목을 90도로 거의 꺽어서 있는데 이거 괜찮은거 맞나요? 혹시 왜이런지 알수있을까요???  - dc official App\n",
      "\n",
      "Comment: 천정에 바퀴벌레 기어다니는거 아님?\n",
      "Comment: 목을 강제로 꺾어서 돌려놓으셈\n"
     ]
    },
    {
     "name": "stderr",
     "output_type": "stream",
     "text": [
      " 67%|██████▋   | 33/49 [01:07<00:28,  1.79s/it]\u001b[A"
     ]
    },
    {
     "name": "stdout",
     "output_type": "stream",
     "text": [
      "Content: \n",
      "매일 떡락해서 똥줄 타니까 여기저기 쑤시고 다니고 그런 거지  왜 못 사면 거지냐 엄마한테나 소리 지르는 찐따 이런 말만 하겠냐 자기가 하루 벌어 하루 먹고 사니까 언제까지 이 짓거리 할 수 있을지 모르겠으니 민감해서 거지냐는 말이 컴플렉스이자 발작버튼인 거고 엄마한테 소리 지르냐는 자기가 학창시절에 부모랑 절연했거나 부모랑 맨날 싸웠으니까 그 말밖에 못 하는 거임 자기가 가장 힘든 부분을 남한테 욕하는 수단으로 쓴다는 건 너무 흔한 얘기잖아 \n",
      "\n",
      "Comment: 1티어들도 힘들다 도매띠기된지언젠대\n"
     ]
    },
    {
     "name": "stderr",
     "output_type": "stream",
     "text": []
    },
    {
     "name": "stdout",
     "output_type": "stream",
     "text": [
      "Content: \n",
      "모르게쏘용 \n",
      "\n"
     ]
    },
    {
     "name": "stderr",
     "output_type": "stream",
     "text": []
    },
    {
     "name": "stdout",
     "output_type": "stream",
     "text": [
      "Content: \n",
      "욕 먹어도 인간한테 욕먹어야지여기 버러지들한테 욕먹어야할 사람이 아닌데방구석에 틀어박혀 할줄아는거라곤악플과 엄마한테 고함지르는것뿐인 병신들이어데 실천하고 행동하는 낭게이를 욕하노븅신들 ㅋㅋㅋㅋ주제를 알아라\n",
      "\n",
      "Comment: (퍙갤에서 글을 쓰며..)\n",
      "Comment: 좆목방 친구 어서오고\n",
      "Comment: 악플을 다며(지가 하는중)엄마한테 고함을 지르며(양아치짓으로 학창 시절 속썩이다가 딸배에서 도마뱀팔이로 전직하며)\n",
      "Comment: 웅앵웅앵\n",
      "Comment: 자기소개잘봤고\n",
      "Comment: 많이 긁혔네 ㅋㅋㅋㅋ 버러지들 몰려오는거 보니 내가 아주 바른말을 했어! ㅋㅋㅋㅋㅋㅋㅋㅋㅋㅋ\n",
      "Comment: 돈 잘벌어서 배아픈거임 쉽게 생각하자 한잔해~  - dc App\n",
      "Comment: 빨리 탁탁탁 속편좀 나왔으면ㅋㅋ\n"
     ]
    },
    {
     "name": "stderr",
     "output_type": "stream",
     "text": []
    },
    {
     "name": "stdout",
     "output_type": "stream",
     "text": [
      "Content: \n",
      "크레는 순수 재미로 키우려면 재미없는 파충류임 크레는 마음에 드는 애들 골라서 메이팅 시키고 자기가 원하는 형질 골라서 도화지에 그림 그리듯 그리고 당연히 해칭해서 분양하고 쏠쏠하게 버는 재미ㅎ 마지막으로 같은 알공장끼리 형님아우 하면서 친목하고 단톡방에서 놀고 또 오프라인 행사 나가서 하하호호 좆같은 새끼 있으면 담그고 통수치고 이런 재미라고 이런 원초적 재미는 인프라가 약한 다른 파충류에서는 찾기 힘든거임 근데 그런 크레를 한두마리...재미로 키운다? 걍 크레알못이라고 보면 됨 배울게 없어 \n",
      "\n",
      "Comment: ㅋㅋㅋㅋㅋㅋㅋㅋㅋ진짜 쌍놈판이네\n",
      "Comment: 진짜 정확하네\n",
      "Comment: 역시 결국 쌀에 연관될 수 밖에 없는 쌀마뱀이네\n",
      "Comment: 크레로 입문했는데 리키하러 갈듯 - dc App\n",
      "Comment: ㅋㅋㅋㅋㅋㅋㅋ맞다\n"
     ]
    },
    {
     "name": "stderr",
     "output_type": "stream",
     "text": []
    },
    {
     "name": "stdout",
     "output_type": "stream",
     "text": [
      "Content: \n",
      "썻던글이나 좀만 찾아봐도 말도 안되는 개씹니기미씹소리인지말바꾸기 거짓말이 상습인지 이상함이나 쎄한게 못느껴지노?한번 통수 당하고도 두통수 세통수는 똑같은 끼리끼리라는거다똑같이 남한테 민폐끼치는 인간재앙 폐급러 ㅇㅇ\n",
      "\n",
      "Comment: 돈에 눈이 멀면 당연히 정상적인 사고가 안됨 ㅋㅋㅋ\n",
      "Content: \n",
      "1 이미지 순서 ON2 이미지 순서 ON3 이미지 순서 ON4 이미지 순서 ON https://cafe.naver.com/reptilia/4249346?tc=shared_link  이게 바로 파충류판 평균이다 ㅋㅋ \n",
      "\n",
      "Comment: ㅋㅋㅋㅋㅋㅋㅋ돈으로만 보는데 당연히 저러지ㅋㅋ\n",
      "Comment: ㅋㅋㅋㅋ ㅅㅂ 상상이 가네ㅋㅋ 무슨 재래시장도 아니고 크레 다리 앞뒤로 잡고 \"자 월 보시고~\" ㅋㅋㅋㅋ\n",
      "Comment: ㅉㅉ  - dc App\n",
      "Comment: 저기 콩설찌 사건때 경주팜이네\n",
      "Comment: ㅋㅋㅋ자자 보고거세요~ 월 보고가세요~!\n",
      "Comment: 접니다  시발 자수하는 심정이겠네 ㅋㅋㅋ\n",
      "Comment: 걍 미친놈이네ㅋㅋㅋ\n",
      "Comment: 기싸움 하노ㅋㅋ\n",
      "Comment: ㅋㅅㅉ 돌아와라...\n",
      "Comment: ㅁㅊ\n"
     ]
    },
    {
     "name": "stderr",
     "output_type": "stream",
     "text": []
    },
    {
     "name": "stdout",
     "output_type": "stream",
     "text": [
      "Content: \n",
      "자금만 있으면 수수료 정도 손해보고 판매인척 가능함원래부터 돈없고 개병신판이었는데 무슨 부자들 있을수도 있겠지 근데 돈 허투로 쓰는 부자몇없다부자들 한번 돈으로 통수쳐봐라 그들이 우째행동하나 ㅋㅋㅋㅋ\n",
      "\n",
      "Comment: 그냥 판매글 거래완료로 띄워놓으면 되는거아님?ㅋㅋ 수수료 나갈일도없음ㅋㅋㅋㅋ\n",
      "Comment: ㄹㅇ임\n"
     ]
    },
    {
     "name": "stderr",
     "output_type": "stream",
     "text": []
    },
    {
     "name": "stdout",
     "output_type": "stream",
     "text": [
      "Content: \n",
      "댓글들보면 무슨~개코 ~크레 달고있는 애들이거나 물빨해주는 소속감결핍 호구들만 열심히 반박하는거 개웃기네ㅋㅋ\n",
      "\n",
      "Comment: 분양글보면 90프로가 업체임\n",
      "Comment: 여기도 분탕선동 알공장이 과반수임\n"
     ]
    },
    {
     "name": "stderr",
     "output_type": "stream",
     "text": []
    },
    {
     "name": "stdout",
     "output_type": "stream",
     "text": [
      "Content: \n",
      "좌파선동가나 패션우파새끼들둘다 좌도우도 아닌 극내로남불파다\n",
      "\n",
      "Comment: 자기소개 잘봤고\n"
     ]
    },
    {
     "name": "stderr",
     "output_type": "stream",
     "text": [
      "\n"
     ]
    },
    {
     "name": "stdout",
     "output_type": "stream",
     "text": [
      "Content: \n",
      "설명길고 요약없는 구구절절? 그래서 결론이뭔데내꺼사라 이거다이기야 눈치도 없노수익 나는걸 가족도 아닌 다른사람에게 왜알려주노\n",
      "\n"
     ]
    },
    {
     "name": "stderr",
     "output_type": "stream",
     "text": [
      " 88%|████████▊ | 43/49 [01:28<00:12,  2.04s/it]\u001b[A"
     ]
    },
    {
     "name": "stdout",
     "output_type": "stream",
     "text": [
      "Content: \n",
      "키유는 사육장은 먹이주면 숨구멍에 초파리들 탈출허노\n",
      "\n",
      "Comment: 초파리주고 종이커버나 스타킹 씌워노면 됨  - dc App\n",
      "Comment: 숨구멍 안뚫고 다트가 거의다 잡아먹엇다 싶으면 뚜껑열고 커버벗겨   - dc App\n"
     ]
    },
    {
     "name": "stderr",
     "output_type": "stream",
     "text": []
    },
    {
     "name": "stdout",
     "output_type": "stream",
     "text": [
      "Content: \n",
      "잼민이들 밖에 없다나머지는 다 돈 이지 뭐\n",
      "\n",
      "Comment: 요즘 잼민이들도 알까서 판다\n",
      "Comment: 미구분 2마리 데려와서 2년째 키우는중  - dc App\n",
      "Comment: 잼민이라 미안허다ㅎ 난 육겁 키우려다 빡세서 크레 키운다\n"
     ]
    },
    {
     "name": "stderr",
     "output_type": "stream",
     "text": [
      "\n"
     ]
    },
    {
     "name": "stdout",
     "output_type": "stream",
     "text": [
      "Content: \n",
      "나루호도 \n",
      "\n",
      "Comment: 똥퀄이잖아  - dc App\n"
     ]
    },
    {
     "name": "stderr",
     "output_type": "stream",
     "text": [
      " 94%|█████████▍| 46/49 [01:34<00:06,  2.02s/it]\u001b[A"
     ]
    },
    {
     "name": "stdout",
     "output_type": "stream",
     "text": [
      "Content: \n",
      "늠름하게 생김ㅋ\n",
      "\n",
      "Comment: 외래종 보석거북임 돌로 내려찍으셈\n",
      "Comment: 등갑특유의 세줄무늬로 볼때 멸종위기종 한국토종 남생이\n",
      "Comment: 오 멋있다 ㅋㅋ\n",
      "Comment: 남생이네\n",
      "Comment: 왜 나는 이런거 못 봄 ㅠㅠ\n"
     ]
    },
    {
     "name": "stderr",
     "output_type": "stream",
     "text": []
    },
    {
     "name": "stdout",
     "output_type": "stream",
     "text": [
      "Content: \n",
      "돈돤다고 해서 너도나도 키우다가 떡락하고 돈될 기미없으니까 손절 ㅋㅋㅋ \n",
      "\n"
     ]
    },
    {
     "name": "stderr",
     "output_type": "stream",
     "text": [
      "100%|██████████| 49/49 [01:41<00:00,  2.07s/it]\n",
      " 45%|████▍     | 13/29 [24:11<28:08, 105.53s/it]"
     ]
    },
    {
     "name": "stdout",
     "output_type": "stream",
     "text": [
      "Content: \n",
      "심함?- dc official App\n",
      "\n",
      "Comment: ㄴㄴ 심하진 않음\n",
      "Comment: 그냥 먹이 조준을 잘 못하는 정도?\n",
      "Comment: 시력이 아니라 시야각이 다른 모프이비해  좀 좁은거같음\n"
     ]
    },
    {
     "name": "stderr",
     "output_type": "stream",
     "text": []
    },
    {
     "name": "stdout",
     "output_type": "stream",
     "text": [
      "Content: \n",
      "돈돤다고 해서 너도나도 키우다가 떡락하고 돈될 기미없으니까 손절 ㅋㅋㅋ \n",
      "\n"
     ]
    },
    {
     "name": "stderr",
     "output_type": "stream",
     "text": [
      "\n"
     ]
    },
    {
     "name": "stdout",
     "output_type": "stream",
     "text": [
      "Content: \n",
      "심함?- dc official App\n",
      "\n",
      "Comment: ㄴㄴ 심하진 않음\n",
      "Comment: 그냥 먹이 조준을 잘 못하는 정도?\n",
      "Comment: 시력이 아니라 시야각이 다른 모프이비해  좀 좁은거같음\n"
     ]
    },
    {
     "name": "stderr",
     "output_type": "stream",
     "text": [
      "  4%|▍         | 2/49 [00:04<01:42,  2.18s/it]\u001b[A"
     ]
    },
    {
     "name": "stdout",
     "output_type": "stream",
     "text": [
      "Content: \n",
      "이미 죽어있는데 독사인가요?  - dc official App\n",
      "\n",
      "Comment: 능구렁이  - dc App\n",
      "Comment: 잘뒤졌다\n"
     ]
    },
    {
     "name": "stderr",
     "output_type": "stream",
     "text": []
    },
    {
     "name": "stdout",
     "output_type": "stream",
     "text": [
      "Content: \n",
      "레게들 3박 4일쯤 밥 안줘도 괜찮나?지금은 매일 주고 있는데\n",
      "\n",
      "Comment: 배란거식오면 3~4주도  안먹음\n",
      "Comment: 정 불안하면 호텔링 맡겨라 아니면 그냥 웜디쉬에 밀웜들 채워주고나 지인한테 도움요청 해도됨 근데 제일 안전빵은 호텔링 이긴 해 - dc App\n",
      "Content: \n",
      "s엠은 모프불가 홍ㄹ는 x희롱? o지는 환불사건 이게 다 뭔말임 ㅇ지 무슨 사건 있었냐\n",
      "\n",
      "Comment: 그냥 방구석 초딩들 개소리하는거임..\n",
      "Comment: 삼류도 못끼는 팀오즈 같은 방구석 레게 번식쟁이들이 하는 병신소리 ㅇㅇ 정작 홍리는 쉴드 못치겠는데 스엠이랑 오지는 잘먹고 잘삼 ㅋㅋㅋㅋㅋㅋ\n"
     ]
    },
    {
     "name": "stderr",
     "output_type": "stream",
     "text": []
    },
    {
     "name": "stdout",
     "output_type": "stream",
     "text": [
      "Content: \n",
      "지방이라 가족단위로 손님 많아서 인것도 한 몫하는 듯- dc official App\n",
      "\n",
      "Comment: 시발 입장료 꼴랑 6천원인데 뭔 불만이 그렇게 많은지ㅋㅋㅋ\n",
      "Comment: 평일에 일로 정신없이 살다가 황금 같은 주말에 가족과 시간 보내려는데 박람회인 줄 알았던 곳이 크레장터면 기분이 썩 좋진 않지\n",
      "Comment: ㅋㅋㅋ 렙타일페어는 입장료 사전예약 10,000원 현장 12,000원 받는데 ㅋㅋㅋ\n",
      "Content: \n",
      "낭게이 쿨한척은 하지만 긁힌거 ㅈㄴ웃기네 ㅋㅋㅋ ?_?   ㅇㅈㄹ ㅈㄴ짜침 ㅋㅋㅋ어쨋든 내가봤을땐 저친구가 하는말은 홍보할때 프리마켓이라는 단어만 적어도문제되지않을텐데 돈만 벌 생각에 프리마켓이 아닌 체험관마냥  기만해서 표팔아먹었네 !!! 이거같은데 ㅋㅋ 댓글들 보면 핀트를 모르는거같고...근데 만약 저친구가 진짜 개빡쳐서불만족 있는사람들 싹 모아다가 소보원에 신고하면어케되는거임?? ㄷㄷㄷㄷㄷㄷ\n",
      "\n",
      "Comment: 별일안일어날듯오히려낭게이전적을보면저러고고소때릴거같은데느낌이  - dc App\n",
      "Comment: 몬?\n",
      "Comment: 내로남불마냥 쓰니 그런듯\n",
      "Comment: 그냥 글쓴이 쟤 어디가 좀 모자라보임ㅇㅇ\n",
      "Comment: 딱히 짜치는건 모르겠고 오히려 해명글없이 조용하게 있는게\n",
      "Comment: 이해가 불가야박람회라고 하질 말던지 첨부터 판매장터 뭐 이랬음..  반박불가잖아\n",
      "Comment: 개역겨운 업체련들ㅋㅋ싹다 처망해라\n",
      "Comment: 이제 저 친구 신고러쉬 맞고 곧 ㅃㅃ할듯\n",
      "Comment: ?_?\n"
     ]
    },
    {
     "name": "stderr",
     "output_type": "stream",
     "text": []
    },
    {
     "name": "stdout",
     "output_type": "stream",
     "text": [
      "Content: \n",
      "걍 지퍼팩에 귀뚜라미넣은다음에 물에넣고 녹이면 안됨?  - dc official App\n",
      "\n",
      "Comment: 1시간이면 됨\n",
      "Content: \n",
      "레오파드 자체가 표범무늬게코란 건데 검은무늬 없는건 레게가 아니지 \n",
      "\n",
      "Comment: 사람도 슬기롭다는 의미로 사피엔스라하는데 멍청이까지 통틀어주자나\n"
     ]
    },
    {
     "name": "stderr",
     "output_type": "stream",
     "text": []
    },
    {
     "name": "stdout",
     "output_type": "stream",
     "text": [
      "Content: \n",
      "귀뚜라미만 죽는게 아니라 먹은 애들까지 죽고 있다는데 \n",
      "\n",
      "Comment: https://cafe.naver.com/reptilia/4251211?tc=shared_link\n",
      "Comment: ?? 저게 말이 되나..?? 뚜리 배송와서 다죽어가는거 당연히 먼저 겁라 먹이는데, 애들 다 멀쩡한데..\n",
      "Comment: 아직도 혐뚜리멕이는 호구들이잇음?\n",
      "Comment: 듑 먹여라\n"
     ]
    },
    {
     "name": "stderr",
     "output_type": "stream",
     "text": []
    },
    {
     "name": "stdout",
     "output_type": "stream",
     "text": [
      "Content: \n",
      "컨설팅 금팔찌 문신충들 때문이란거지? 그거 대부분 레게랑 뱀하던애들이 컨설팅 금팔찌 문신충이잖아.... 레게랑 뱀은 왜 안싫어함...?  - dc official App\n",
      "\n",
      "Comment: 크레만 ㅈㄴ 늘고 찻집이나 그런데 보면 죄다 크레만 나오니까 좆같다는거임\n",
      "Comment: 크레레게뱀 좋아해  컨설팅 문신충 극혐\n",
      "Comment: 나도 크레 헤비브리더지만 그냥 공장돌리다 돈안되니 일괄 ㅇㅈㄹ 하는 년들은 싫음ㅇㅇ 맘충이랑 그년들 빨아먹으려고 입터는 업자년들도 역하고\n",
      "Comment: 안그래도 뱀은 그거때매 허구한날 끌려와서 쳐맞는데\n"
     ]
    },
    {
     "name": "stderr",
     "output_type": "stream",
     "text": [
      "\n"
     ]
    },
    {
     "name": "stdout",
     "output_type": "stream",
     "text": [
      "Content: \n",
      "레게 키우는 4자 사육장인데대충 이런 느낌으로 세팅 해뒀는데 (자온조 30도 해둠)내 생각은 열원이 켜지면서 왼쪽은 자연스레 오른쪽 핫 존 보다온도가 낮아서 자연스레 쿨존 이라고 생각했는데 여름이다보니 열원이 켜질일이 거의 없단걸 알아버림막상 게코들 넣고 보니 핫,쿨존 구분없이 전체 사육장 온도가30도가 되버림 이거 어케하노? 도와줘라 게이들아 ㅠㅜ- dc official App\n",
      "\n",
      "Comment: 실내 온도 낮추는거 아니면 답 없을듯...여름엔 글케 지내거나 습은을 만들어주면 되지  - dc App\n",
      "Comment: 에어컨을 틀어줘라\n",
      "Comment: 나같은 경우는 습은을 아예 30큐브로 만들고 아이소 핑크로 칸막이 처럼 만들고 하부열원만 써서 핫존 온도만 살짝 높임\n",
      "Comment: 문에 철망이나 루바망같은거 껴둘수도있는데 환기가 잘 되야되니까  - dc App\n",
      "Comment: 나도 4자에 키우는데 여름에 에어컨 틀고, 열원을 33도 정도로 하면 26/29 정도되긴함\n"
     ]
    },
    {
     "name": "stderr",
     "output_type": "stream",
     "text": [
      " 24%|██▍       | 12/49 [00:23<01:14,  2.00s/it]\u001b[A\n"
     ]
    },
    {
     "name": "stdout",
     "output_type": "stream",
     "text": [
      "Content: \n",
      "확실히 새끼때부터 키운애가 정이 더 가는데 정상?\n",
      "\n",
      "Comment: 난 밥 잘먹으면 애정도 올라감\n",
      "Comment: 같은 조건이면 당연히 베이비부터\n"
     ]
    },
    {
     "name": "stderr",
     "output_type": "stream",
     "text": [
      " 27%|██▋       | 13/49 [00:25<01:09,  1.93s/it]\u001b[A"
     ]
    },
    {
     "name": "stdout",
     "output_type": "stream",
     "text": [
      "Content: \n",
      "만다린이라고 부름? 슈하텐 아니고? 썬글, 블러드 x \n",
      "\n",
      "Comment: 슈하텐은 노란빛 만다린은 주황인데 꼬리까지 아예 흰부분 없는건 잘 없더라\n"
     ]
    },
    {
     "name": "stderr",
     "output_type": "stream",
     "text": []
    },
    {
     "name": "stdout",
     "output_type": "stream",
     "text": [
      "Content: \n",
      "죽은곤충이란걸 인지못하고 먹는거임?  - dc official App\n",
      "\n",
      "Comment: 산거 죽은거 안가리는놈들은 모르겠고개구리처럼 움직이는거 반응하는 애들은 모르겠지\n",
      "Content: \n",
      "밀웜에 관심은 보이는데 애가 안처먹어서 귀뚜라미줘볼려고 근데 살아있는건 엄마가 싫데  - dc official App\n",
      "\n",
      "Comment: 맛있어보이게 잘 흔들어봐\n",
      "Comment: 그럼 살아있는 귀뚜라미를 너가 죽이면 되잖아\n",
      "Comment: 울집 레게는  푸디바이트가 주식이고 밀웜주면 환장하고 먹던데 배가 불렀네\n"
     ]
    },
    {
     "name": "stderr",
     "output_type": "stream",
     "text": []
    },
    {
     "name": "stdout",
     "output_type": "stream",
     "text": [
      "Content: \n",
      "크레 1만  모어닝 2만 레게 3만  가고일 5만  무료분양도 많더라  \n",
      "\n",
      "Comment: ㅋㅋ얼마나 배럭을 쳐 돌리면 크레가 무분도 안나감\n",
      "Comment: 퀄은 높아지고 거품은 빠지는게 서로 좋은거긴하지ㅇㅇ\n"
     ]
    },
    {
     "name": "stderr",
     "output_type": "stream",
     "text": []
    },
    {
     "name": "stdout",
     "output_type": "stream",
     "text": [
      "Content: \n",
      "보일러영향 덜 받냐?- dc official App\n",
      "\n",
      "Comment: Pb는 모르겠는데 포맥스는 받을듯히팅필름 영향도 받는데\n",
      "Content: \n",
      "김레몬 노형석 ㅇㅇ 둘 다 상남자스타일에 복싱이나 mma 수련자일거 같고 기세가 엄청 드셈 웬만한 길거리 싸움에서는 절대 안질듯 걍 마초 상남자 그 자체임  - dc official App\n",
      "\n"
     ]
    },
    {
     "name": "stderr",
     "output_type": "stream",
     "text": []
    },
    {
     "name": "stdout",
     "output_type": "stream",
     "text": [
      "Content: \n",
      "비주류 수입이 줄어서?? 비주류들이 행사 안나와서?? 이유가뭐임  - dc official App\n",
      "\n",
      "Comment: 파샵이던 박람회건 죄다 크레로 도배된게 일단 개역겨움 짜피 크레 가격 떨어지면 싹 다 유기할거면서 ㅋㅋ - dc App\n",
      "Comment: 비주류만 있었음 박람회 자체가 멸종했겠지\n",
      "Comment: 크레를 누가 싫어하냐 컨설팅 사기치고 고퀄이 어떻고 하면서 사기치는 문신충을 싫어하는거지\n",
      "Comment: 문신충 금목걸이 금팔찌충이 싫어\n"
     ]
    },
    {
     "name": "stderr",
     "output_type": "stream",
     "text": []
    },
    {
     "name": "stdout",
     "output_type": "stream",
     "text": [
      "Content: \n",
      "여태 박람회 열린거 솔까 크레판인거 한 두번도 아니였고그나마 ㄷㅎ 포럼이 좀 볼만 했지만 이번 5월 메쎄에서도70프로는 크레판이라 크게 다르진 않았는데왜 이렇게 파동갖고만 지랄떠는 이유가 뭐임?ㄹㅇ궁금해서 그래난 우선 서울 거주 중으로 파동은 안가봄\n",
      "\n",
      "Comment: 사람이 엄청 많았는데 아이들 있는 가족단위가 많았음 할아버지 할머니랑 같이 오는 아이들도 있었고 동물원 느낌으로 구경+체험 생각한 사람들이 꽤 있었던 거 같음\n",
      "Comment: 그때까진 그냥 그럭저럭 참았는 데이번에도 참신하게 크레공장장들이 ㅈㄴ 판쳐서ㅋㅋ\n",
      "Comment: 이름도 한몫했다 ㅋㅋ 파충류 동반자 ㅇㅈㄹ 누가 동반자를 몸보다 작은 푸딩컵에 넣어두고 파냐?ㅋㅋㅋㅋㅋㅋ\n",
      "Comment: 홍보 돌릴 때 무료티켓 있던 게 가족단위로 오는 쪽에 뿌려졌던거 ㄹㅇ 그냥 일반인들\n",
      "Comment: 저런 안좋은 후기글을 정성스레 올린적이 없었던거같음  - dc App\n",
      "Comment: 가족단위여서 별로였던거 맞음. 직접 가봤는데 키울생각 1도 없는 관람객만 판쳐서 뭘 볼 수가 없었음\n",
      "Comment: 아니 근데 푸딩컵 욕하는건 솔까 웃기는거임. 개고양이 이동백 작다고 욕하는거랑 똑같음ㅇㅇ\n"
     ]
    },
    {
     "name": "stderr",
     "output_type": "stream",
     "text": []
    },
    {
     "name": "stdout",
     "output_type": "stream",
     "text": [
      "Content: \n",
      "유튭보이 생굼새가 존나 어렵게 생깃노ㅋㅋ 약간 모ㅈ란 ㅈ패고싶은ㅋ\n",
      "\n",
      "Comment: 미안해...\n"
     ]
    },
    {
     "name": "stderr",
     "output_type": "stream",
     "text": []
    },
    {
     "name": "stdout",
     "output_type": "stream",
     "text": [
      "Content: \n",
      "괜찮은거 있나요 \n",
      "\n"
     ]
    },
    {
     "name": "stderr",
     "output_type": "stream",
     "text": []
    },
    {
     "name": "stdout",
     "output_type": "stream",
     "text": [
      "Content: \n",
      "현장발권 눈나 ㅆㅅㅌㅊ로 이쁨  - dc official App\n",
      "\n",
      "Comment: ㄹㅇ? 아 갈껄\n"
     ]
    },
    {
     "name": "stderr",
     "output_type": "stream",
     "text": []
    },
    {
     "name": "stdout",
     "output_type": "stream",
     "text": [
      "Content: \n",
      "근데 또 점 많으면 개비싸네 ㅜ\n",
      "\n",
      "Comment: 돈없으면 사지마라그냥달마 존나 금방질림\n",
      "Comment: 나도 잠깐 달마 끌렸다가 노멀에 점 많은거 말고 달마라 부를만한 것들 가격 보곤 관뒀는데솔직히 그때 달마로 크레 입문했으면 지금쯤 땅을 치고 후회했을 듯\n",
      "Comment: 페일은 ㅈㄴ 이쁘긴 하더라 빨강 애들은 좀 빨리 질림. 노랑은 그냥저냥\n"
     ]
    },
    {
     "name": "stderr",
     "output_type": "stream",
     "text": []
    },
    {
     "name": "stdout",
     "output_type": "stream",
     "text": [
      "Content: \n",
      "ㅇㅇ?\n",
      "\n",
      "Comment: ㅇㅇ\n",
      "Comment: 크레갤로\n"
     ]
    },
    {
     "name": "stderr",
     "output_type": "stream",
     "text": []
    },
    {
     "name": "stdout",
     "output_type": "stream",
     "text": [
      "Content: \n",
      "김레몬 노형석 ㅇㅇ 둘 다 상남자스타일에 복싱이나 mma 수련자일거 같고 기세가 엄청 드셈 웬만한 길거리 싸움에서는 절대 안질듯 걍 마초 상남자 그 자체임  - dc official App\n",
      "\n"
     ]
    },
    {
     "name": "stderr",
     "output_type": "stream",
     "text": []
    },
    {
     "name": "stdout",
     "output_type": "stream",
     "text": [
      "Content: \n",
      "ㅋㅋㅋㅋㅋ\n",
      "\n",
      "Comment: 먼소리냐 무분해도 안나가는데?  - dc App\n"
     ]
    },
    {
     "name": "stderr",
     "output_type": "stream",
     "text": []
    },
    {
     "name": "stdout",
     "output_type": "stream",
     "text": [
      "Content: \n",
      "튼튼한 애들 중에 너무 큰 애들 말고 \n",
      "\n",
      "Comment: 아프리칸 드워프 머드 터틀(나누스)\n",
      "Comment: 커먼머스크 이스턴머드   - dc App\n",
      "Comment: 커먼머스크 ㅇㅇ\n"
     ]
    },
    {
     "name": "stderr",
     "output_type": "stream",
     "text": [
      "\n"
     ]
    },
    {
     "name": "stdout",
     "output_type": "stream",
     "text": [
      "Content: \n",
      "체험,전시하면 뭐 동물원?등록해야만 하는거라서 못꺼내놓고 판매만 하는거라는데 이것도 법 취지에 어긋나는거 아니냐 그런 동물팔이 시장판박람회 그냥 금지시켜야됨 업자들 아무것도모르는 일반인한테 똥퀄 악성재고 털이하는거 진짜 개역겨움\n",
      "\n",
      "Comment: 그걸하면 관상어박람회도 건드리게되는데그렇게되면 관상어업계가 지랄발광할거뻔해서 못건드리는거지 관상어쪽은 동물단체도 못건드릴정도로 파워쎈곳이고, 애초에 그쪽만 특수동물쪽에서는 유일하게 환경부관할이 아닌 그걸 밀어주는 해양수산부 관할이라 환경부가 그걸 완전히 못막음\n",
      "Comment: ㄴㄴ 물고기랑 ㅈ도 상관없는게 애초에 전시금지는 포유류만임 ㅋㅋ 고로 신고안한 판매업자는 포유류 전시든 꺼내놓고 판매든 걍 불법 맞음\n"
     ]
    },
    {
     "name": "stderr",
     "output_type": "stream",
     "text": [
      " 61%|██████    | 30/49 [01:02<00:42,  2.25s/it]\u001b[A\n"
     ]
    },
    {
     "name": "stdout",
     "output_type": "stream",
     "text": [
      "Content: \n",
      "탈피중  - dc official App\n",
      "\n",
      "Comment: 으 징그러\n"
     ]
    },
    {
     "name": "stderr",
     "output_type": "stream",
     "text": [
      " 63%|██████▎   | 31/49 [01:05<00:40,  2.25s/it]\u001b[A"
     ]
    },
    {
     "name": "stdout",
     "output_type": "stream",
     "text": [
      "Content: \n",
      "모기잡을려고 불켜니 이러고있네 \n",
      "\n",
      "Comment: ㅋㅋ자게 좀 둬라\n",
      "Comment: 오 우리집 애기랑 똑같은 애다  - dc App\n"
     ]
    },
    {
     "name": "stderr",
     "output_type": "stream",
     "text": []
    },
    {
     "name": "stdout",
     "output_type": "stream",
     "text": [
      "Content: \n",
      "나이 든 블나들 다 어디로 갔을까 \n",
      "\n",
      "Content: \n",
      "갑자기 사무실에 들어와서 그 종류가 궁금하여 질문합니다.\n",
      "\n",
      "Comment: 독사 까치살모사임 죽이셈\n",
      "Comment: 능구렁이 아님?\n",
      "Comment: 능글능글  - dc App\n",
      "Comment: 탈피부전인데 니가 좀 벗겨주지 그랬노\n"
     ]
    },
    {
     "name": "stderr",
     "output_type": "stream",
     "text": []
    },
    {
     "name": "stdout",
     "output_type": "stream",
     "text": [
      "Content: \n",
      "나 스무살때 한살 짜리 3만원 주고 델꼬 왔는데 9년 키우고 방금 죽은 거 확인함 흥미가 식은 건 솔직히 키우고 반년도 안 지나서였던 거 같음 모프 같은 것도 관심 없었고 브리딩 같은 것도 쳐다도 안 봤고 분양할까 싶다가도 이새끼가 모프도 없고 크레답지않게 입질 ㅈㄴ하고 성깔도 더러운게 무조건 전국 떠돌다 한달안에 사망하겠다 싶어서 걍 델꼬 있었음 ㅈㄴ 대충 키우긴 했는데 씁쓸하긴 하네 1 이미지 순서 ON2 이미지 순서 ON이게 첨 델꼬 왔을때 3 이미지 순서 ON뒤진 거 아님 살아계실 시절 (죽은 사진 같은 거 안 올린다) 4 이미지 순서 ON5 이미지 순서 ON6 이미지 순서 ON7 이미지 순서 ON이꼴만 ㅈㄴ 많이보고 키움 8 이미지 순서 ON9 이미지 순서 ON10 이미지 순서 ON11 이미지 순서 ON탈출하면 무조건 화장실 수건장들어가있음 그러고보니 저 집도 옛날에 살던 집이네 ㅅㅂ ㅋㅋㅋ 12 이미지 순서 ON관리 못해준 거 후회는 안 한다 끝까지 봤음 된 거지 잘가라 광분아 \n",
      "\n",
      "Comment: ㄱㅊ\n",
      "Comment: 레드바이 수컷 평생 아다로 행복하게 살다가네  - dc App\n",
      "Comment: 흥미 식었어도 잘 관리해줬나보네 좋은 주인이다\n",
      "Comment: 사실 중간에 안팔아먹고 죽을때까지 키우는 사람들 몇이나 있겠냐 죄다 돈벌이로만 보는게 솔직히 대부분인데 너가 진짜다\n",
      "Comment: 수명사할때까지 키우는게 참된 주인이지\n",
      "Comment: 관리못해줬는데 어찌 10년살겠냐 잘 키웠으니 10년살았지. 힘내라  - dc App\n",
      "Comment: 크레키우는 사람중 상위 1프로라고 생각한다 ㅎㅇㅌ\n",
      "Comment: 관리 대충했고 후회안한다면서 슬픈 마음 애써 외면하는거 같네힘내라\n",
      "Comment: 힘내 ㅜㅜ\n",
      "Comment: 고생했어요 관리 잘해줬으니 10년이나 곁에있다 갔겠지  - dc App\n",
      "Comment: 행복했던 모습이 보이네\n",
      "Comment: 1살때데려와서 대충키워9년이면 마음만대충이였던거지 싫은척하면서 해줄건다해줬구만  - dc App\n",
      "Comment: 애써 괜찮은 척 하는 글쓴이 때문에 ㅈㄴ슬프다ㅠㅠ 행복하게 갔을거야 힘내\n",
      "Comment: 좆같이 키우니깐 뒤지지 불쌍하다\n",
      "Comment: 이쁘네 오래키웠네. 좋은 주인 만나서 행복했을거임\n",
      "Comment: 츤데레네. 나는 왜 눈물나네  - dc App\n",
      "Comment: 화장실 수건장 ㅈㄴ 자연스럽네 ㅋㅋ 꾸준히 돌봤나보네. 좋은 데 갔을테니까 힘내셈\n",
      "Comment: 수명사했네\n",
      "Comment: 이게 파양갤인데 어쩌다 파양갤이 이모양이 됐노... 힘내라\n",
      "Comment: 오래 잘 키웠네\n",
      "Comment: 이게 진짜 퍙갤… - dc App\n",
      "Comment: 이건 찐 정성이다..   - dc App\n",
      "Comment: 다해줬구만\n"
     ]
    },
    {
     "name": "stderr",
     "output_type": "stream",
     "text": [
      "\n",
      " 73%|███████▎  | 36/49 [01:15<00:27,  2.15s/it]"
     ]
    },
    {
     "name": "stdout",
     "output_type": "stream",
     "text": [
      "Content: \n",
      "1 이미지 순서 ON2 이미지 순서 ON지금 리키 밥 맥일때 판게아 인섹트만 먹이는데칼슘제 이런거 뿌려줘야하냐이번에 알 낳은지도 모르고 사육장 햇빛에 말렸다가 계란찜 됬거든?그러니 밥 맥일때 칼슘제도 같이 넣어서 보충 해줘야하냐근데 준성체도 알 낳냐 ㅈㄴ 얼탱이없음 ㅋㅋㅋㅋㅋㅋ강제 일광욕 중인 육겁은 보너스참고로 저기서 알 줍함 ㅋ3 이미지 순서 ON\n",
      "\n",
      "Comment: ㄴㄴ 슈퍼퓨드로만 키워도 됨\n",
      "Comment: 릭히 1년반쯤 되면 산란가능  - dc App\n",
      "Comment: 육겁이 귀여워♡\n"
     ]
    },
    {
     "name": "stderr",
     "output_type": "stream",
     "text": [
      "\u001b[A"
     ]
    },
    {
     "name": "stdout",
     "output_type": "stream",
     "text": [
      "Content: \n",
      "어딜 보면 50~70이라 나와있고 딴데는 또 30~40이라 나와있고\n",
      "\n",
      "Comment: 낮게\n",
      "Comment: 외국 논문에선 50~70도 괜찮\n",
      "Comment: 30~70까지 다양함\n",
      "Content: \n",
      "이새끼 며칠전에 똥 푸짐하게 쌌고 비록 먹지않지만 먹이에 관심보이는거보면 거식은 아닌거같은데 씨발련아 좀 처먹어라  - dc official App\n",
      "\n",
      "Comment: 레게는 사실 죽어도 내상없는….ㅋㅋㅋ\n"
     ]
    },
    {
     "name": "stderr",
     "output_type": "stream",
     "text": []
    },
    {
     "name": "stdout",
     "output_type": "stream",
     "text": [
      "Content: \n",
      "자꾸 말 꺼내지말라고!!나 아직 크레 팔아야한다고!!!빼애애애애애액\n",
      "\n"
     ]
    },
    {
     "name": "stderr",
     "output_type": "stream",
     "text": []
    },
    {
     "name": "stdout",
     "output_type": "stream",
     "text": [
      "Content: \n",
      "근데 유리 비치는거때매 못찍음  - dc official App\n",
      "\n",
      "Comment: 사망기원\n"
     ]
    },
    {
     "name": "stderr",
     "output_type": "stream",
     "text": []
    },
    {
     "name": "stdout",
     "output_type": "stream",
     "text": [
      "Content: \n",
      "아파트 단지에 조그만 뱀이 있길래 궁금해서 올려봅니다\n",
      "\n",
      "Comment: 유혈목이\n",
      "Comment: 유혈목이 위험한 독사\n",
      "Comment: 유혈목이위험한 애는 아님 ㅋㅋ\n",
      "Content: \n",
      "왜이리 비싼겨- dc official App\n",
      "\n",
      "Comment: 너가 가난한거라 생각은 안해봄?\n",
      "Comment: 원래 그정도 한다\n"
     ]
    },
    {
     "name": "stderr",
     "output_type": "stream",
     "text": []
    },
    {
     "name": "stdout",
     "output_type": "stream",
     "text": [
      "Content: \n",
      "이리 큰걸 먹인다고?- dc official App\n",
      "\n",
      "Comment: 시;발ㅋㅋㅋㅋㅋㅋㅋㅋㅋㅋㅋㅋㅋㅋㅋㅋㅋ어이가없어서 터지네\n",
      "Comment: 좀 잘라서 줘라\n",
      "Comment: 남의꺼 신경 ㄴ\n",
      "Comment: 남의일 신경쓰지마라\n",
      "Comment: 바로 똥구멍으로 나오겠내 - dc App\n",
      "Comment: 일식 슈밀빡세네\n",
      "Comment: 그나저나 너무 귀엽네 ㅋㅋㅋ\n",
      "Comment: 이런 및 친\n",
      "Comment: 배때지 뚫고 나오겠노 에일리언마냥\n",
      "Comment: 열등민족쪽바리답군!!\n"
     ]
    },
    {
     "name": "stderr",
     "output_type": "stream",
     "text": []
    },
    {
     "name": "stdout",
     "output_type": "stream",
     "text": [
      "Content: \n",
      "벽 ㅈㄴ 느끼네 ㅋㅋㅋㅋㅋㅋㅋㅋㅋㅋㅋ 아니 단어 자체도 ㅈㄴ 어렵고 해석을 해도 이게 뭔 말인지를 모르겠네 ㅋㅋㅋㅋㅌㅋ 아 진짜 수능 영어는 재능인가... 왤케 어렵냐.... \n",
      "\n",
      "Comment: 5번 맞지\n",
      "Comment: 수능은 훈련임 존나 훈련해라  - dc App\n",
      "Content: \n",
      "릴리 고퀄빼면 뭐가 뭔지도 잘 모르겠음레게는 존나 직관적이라 좋음\n",
      "\n",
      "Comment: 뽑기 힘들수록 비쌈 ㅋㅋㅋ 개좆븅신호더업자새끼들 집합소라 크레판 탈출은 지능순임\n"
     ]
    },
    {
     "name": "stderr",
     "output_type": "stream",
     "text": []
    },
    {
     "name": "stdout",
     "output_type": "stream",
     "text": [
      "Content: \n",
      "ㅇㅇ\n",
      "\n",
      "Comment: 5\n",
      "Content: \n",
      "꼬리 괴사.... 지금잡고 때줘야하나 \n",
      "\n",
      "Comment: 글올리는거보니 너무 과한관심인듯스트레스 받겟노\n",
      "Comment: 레오파드 게코 마이너 갤러리로\n",
      "Comment: 다음 탈피 때까지 기다려봐 ㅇㅇ윗 댓에서 말했듯이 과한 관심은 파충류한테 독임더군다나 베이비면 더더욱이나 ㅋㅋ너딴에 신경 쓴다고 계속 귀찮게 하면 그 스트레스 더 악화 될 듯\n",
      "Comment: 냅둬라 좀\n",
      "Comment: 사육장 청결하게하고 밥잘주면 알아서 탈피할때 떨어져나감\n"
     ]
    },
    {
     "name": "stderr",
     "output_type": "stream",
     "text": [
      "\n"
     ]
    },
    {
     "name": "stdout",
     "output_type": "stream",
     "text": [
      "Content: \n",
      " 진짜 작아서 ㅈㄴ안보임  이 사이즈면 베이비냐? 성체냐?  쟤네 크기에 맞게 또 데려오게  - dc official App\n",
      "\n",
      "Comment: 손가락이랑 비교샷이라도 올려 생긴거 보면 베이비\n"
     ]
    },
    {
     "name": "stderr",
     "output_type": "stream",
     "text": [
      " 98%|█████████▊| 48/49 [01:40<00:01,  1.98s/it]\u001b[A"
     ]
    },
    {
     "name": "stdout",
     "output_type": "stream",
     "text": [
      "Content: \n",
      "생먹이 사러 고고 1 이미지 순서 ON그린트리모니터 2 이미지 순서 ON천장에 매달려 바닥을 보는걸 매우 좋아하는듯 3 이미지 순서 ON에이리언 같은 포즈... 발색 어둡고 등에 두꺼운 돌기 있으면 완전 제노모프 4 이미지 순서 ON스팟쬐는 베일드 카멜레온 5 이미지 순서 ON꼬물꼬물 귀엽다 6 이미지 순서 ON제브라스킨크 7 이미지 순서 ON블루텅스킨크 8 이미지 순서 ON골드버젼 9 이미지 순서 ON목도리도마뱀 10 이미지 순서 ON카이만리자드 쟤는 매번 같은자리에서 자고있네 11 이미지 순서 ON블로치드벨벳게코 12 이미지 순서 ON스팽글리 리프터틀 13 이미지 순서 ON앨레펀트트렁크스네이크 어느새 한마리 남았음 14 이미지 순서 ON화이트트리프록 15 이미지 순서 ON넓은 비바장에 웬 산?왕거미가... 16 이미지 순서 ON여름철 먹이배송은 엄선된 업체에서 빠르게 받거나 직접 가서 사야함... 요새 귀뚤병 다시 돈다는 말이 들려서 . . . 17 이미지 순서 ON재수없으면 지들끼리 뜯어먹는 좀비웜 온다 그신경 택배함 시켜봤는데 용품만 사라 살아숨쉬는건 비추 \n",
      "\n",
      "Comment: 저 뱀 엄청 쪼글쪼글하고 귀엽네ㅋㅋㅋ 이사하고서는 안가봤는데  궁금하다ㅎ\n",
      "Comment: 밀웜 사진만 봐도 썩은내가 나는것같네\n",
      "Comment: 저 개구리가 설마 30만원짜리??\n",
      "Comment: 밀웜사온건데 썩은거임?\n",
      "Comment: 저기도 다 똑같구나~ 유투버 라고 다를줄 알았는데 납품받는곳은 다 똑같네 ㅋㅋㅋㅋ - dc App\n",
      "Comment: 그린트리 키워보는게 소원이다 진짜\n",
      "Comment: 뉴런 ㅋ 믿거\n",
      "Comment: 밀웜 저렇게 오기 쉽지 않은데 뭐지  - dc App\n",
      "Comment: 신경은 ㄹㅇ 용품만 사라\n"
     ]
    },
    {
     "name": "stderr",
     "output_type": "stream",
     "text": [
      "100%|██████████| 49/49 [01:43<00:00,  2.10s/it]\n",
      " 48%|████▊     | 14/29 [25:56<26:18, 105.24s/it]"
     ]
    },
    {
     "name": "stdout",
     "output_type": "stream",
     "text": [
      "Content: \n",
      " 진짜 작아서 ㅈㄴ안보임  이 사이즈면 베이비냐? 성체냐?  쟤네 크기에 맞게 또 데려오게  - dc official App\n",
      "\n",
      "Comment: 손가락이랑 비교샷이라도 올려 생긴거 보면 베이비\n"
     ]
    },
    {
     "name": "stderr",
     "output_type": "stream",
     "text": []
    },
    {
     "name": "stdout",
     "output_type": "stream",
     "text": [
      "Content: \n",
      "생먹이 사러 고고 1 이미지 순서 ON그린트리모니터 2 이미지 순서 ON천장에 매달려 바닥을 보는걸 매우 좋아하는듯 3 이미지 순서 ON에이리언 같은 포즈... 발색 어둡고 등에 두꺼운 돌기 있으면 완전 제노모프 4 이미지 순서 ON스팟쬐는 베일드 카멜레온 5 이미지 순서 ON꼬물꼬물 귀엽다 6 이미지 순서 ON제브라스킨크 7 이미지 순서 ON블루텅스킨크 8 이미지 순서 ON골드버젼 9 이미지 순서 ON목도리도마뱀 10 이미지 순서 ON카이만리자드 쟤는 매번 같은자리에서 자고있네 11 이미지 순서 ON블로치드벨벳게코 12 이미지 순서 ON스팽글리 리프터틀 13 이미지 순서 ON앨레펀트트렁크스네이크 어느새 한마리 남았음 14 이미지 순서 ON화이트트리프록 15 이미지 순서 ON넓은 비바장에 웬 산?왕거미가... 16 이미지 순서 ON여름철 먹이배송은 엄선된 업체에서 빠르게 받거나 직접 가서 사야함... 요새 귀뚤병 다시 돈다는 말이 들려서 . . . 17 이미지 순서 ON재수없으면 지들끼리 뜯어먹는 좀비웜 온다 그신경 택배함 시켜봤는데 용품만 사라 살아숨쉬는건 비추 \n",
      "\n",
      "Comment: 저 뱀 엄청 쪼글쪼글하고 귀엽네ㅋㅋㅋ 이사하고서는 안가봤는데  궁금하다ㅎ\n",
      "Comment: 밀웜 사진만 봐도 썩은내가 나는것같네\n",
      "Comment: 저 개구리가 설마 30만원짜리??\n",
      "Comment: 밀웜사온건데 썩은거임?\n",
      "Comment: 저기도 다 똑같구나~ 유투버 라고 다를줄 알았는데 납품받는곳은 다 똑같네 ㅋㅋㅋㅋ - dc App\n",
      "Comment: 그린트리 키워보는게 소원이다 진짜\n",
      "Comment: 뉴런 ㅋ 믿거\n",
      "Comment: 밀웜 저렇게 오기 쉽지 않은데 뭐지  - dc App\n",
      "Comment: 신경은 ㄹㅇ 용품만 사라\n"
     ]
    },
    {
     "name": "stderr",
     "output_type": "stream",
     "text": []
    },
    {
     "name": "stdout",
     "output_type": "stream",
     "text": [
      "Content: \n",
      "종류도 적은데 크레가 대부분임 크레 그만 보고싶다 뭐만하면 크레전문샵이냐\n",
      "\n",
      "Comment: 김대중컨벤션센터\n",
      "Comment: 그럼 안가면 됨  - dc App\n",
      "Comment: 외국샵을 왜 여기서 찾노 - dc App\n"
     ]
    },
    {
     "name": "stderr",
     "output_type": "stream",
     "text": [
      "\n"
     ]
    },
    {
     "name": "stdout",
     "output_type": "stream",
     "text": [
      "Content: \n",
      "1 이미지 순서 ON2 이미지 순서 ON이때랑 3 이미지 순서 ON4 이미지 순서 ON5 이미지 순서 ON이게지금임 \n",
      "\n",
      "Comment: 레오파드 게코 마이너 갤러리로\n",
      "Comment: ㅇㅇ 꼬리부터 차이나네 챗바퀴를 선풍기로 잘못 봤네 ㅅㅂㅋㅋㅋㅋㅋ\n",
      "Comment: 잘 크고 있노\n"
     ]
    },
    {
     "name": "stderr",
     "output_type": "stream",
     "text": [
      "  8%|▊         | 4/49 [00:08<01:32,  2.05s/it]\u001b[A"
     ]
    },
    {
     "name": "stdout",
     "output_type": "stream",
     "text": [
      "Content: \n",
      "빨리 tbq개체수 늘어나서 혐오동물인 파충류가 멸종되어야하기 때문  \n",
      "\n"
     ]
    },
    {
     "name": "stderr",
     "output_type": "stream",
     "text": [
      "\n"
     ]
    },
    {
     "name": "stdout",
     "output_type": "stream",
     "text": [
      "Content: \n",
      "블나 석어서 몇십에 받으려고만 하네- dc official App\n",
      "\n"
     ]
    },
    {
     "name": "stderr",
     "output_type": "stream",
     "text": [
      " 12%|█▏        | 6/49 [00:12<01:31,  2.12s/it]\u001b[A"
     ]
    },
    {
     "name": "stdout",
     "output_type": "stream",
     "text": [
      "Content: \n",
      "1. 래트 집사 남친 볼파이톤 브리더2. 천만원대 고가 외래종 양도받아 키우게 된 초딩3. 퀄높은 릴리 아잔틱 5만원에 몰래 내다판 엄마4. 지네 키우는 보양식집 아들\n",
      "\n",
      "Comment: 천만원짜리 릴잔틱 양도받은거 5만원짜리 볼파한테 먹인 보양식집 남친\n",
      "Comment: 지네랑 보양식이랑 뭔상관? 누가 보신탕 삼계탕에 오공을 넣음  - dc App\n",
      "Comment: 나는 1번ㅋㅋ 2, 3번은 머쓱이라기보다는 개꿀이나 개욕이기 때문..ㅎ 4번은 이해가능\n"
     ]
    },
    {
     "name": "stderr",
     "output_type": "stream",
     "text": []
    },
    {
     "name": "stdout",
     "output_type": "stream",
     "text": [
      "Content: \n",
      "슈푸만 쳐 먹이면서 안큰다고 지랄하는 새끼들슈푸랑 같이 갈아서 쳐맥이고싶네\n",
      "\n"
     ]
    },
    {
     "name": "stderr",
     "output_type": "stream",
     "text": []
    },
    {
     "name": "stdout",
     "output_type": "stream",
     "text": [
      "Content: \n",
      "생후 2개월된 베이비 바닥 시트 갈아주는 과정에서 한 30cm 높이에서 떨어뜨렸는데 먹이 잘받아먹고 움직임도 활발한데 괜찮은거겠지?  - dc official App\n",
      "\n",
      "Comment: ㅇㅇㅇㅇㅇㅇ\n",
      "Comment: 레오파드 게코 마이너 갤러리로\n"
     ]
    },
    {
     "name": "stderr",
     "output_type": "stream",
     "text": []
    },
    {
     "name": "stdout",
     "output_type": "stream",
     "text": [
      "Content: \n",
      "스노우나 알비노 텐저린 같은 모프로 데려오고 싶은데- dc official App\n",
      "\n",
      "Comment: 찻집 싼마이로 ㄱ\n",
      "Comment: 레오파드 게코 마이너 갤러리로\n",
      "Comment: 내꺼 데려가셈 사료붙임도 돼있음ㅋㅋ\n"
     ]
    },
    {
     "name": "stderr",
     "output_type": "stream",
     "text": []
    },
    {
     "name": "stdout",
     "output_type": "stream",
     "text": [
      "Content: \n",
      "오늘도 분실해서 월급에서 깎임 내탓이다\n",
      "\n",
      "Comment: 멋지다 !!! 다 흘림 더 멋짐 ㅋ\n",
      "Comment: 오 김도연 다른말도 할 줄 알았노 ㄷ - dc App\n"
     ]
    },
    {
     "name": "stderr",
     "output_type": "stream",
     "text": []
    },
    {
     "name": "stdout",
     "output_type": "stream",
     "text": [
      "Content: \n",
      "지갑에 십만원도 없는 새끼들이남걱정은 무슨니 인생 걱정이나해\n",
      "\n",
      "Comment: 여기 고귀한 신자들이라니까 남 걱정만 하고 사는듯ㅋㅋㅋㅋ  - dc App\n"
     ]
    },
    {
     "name": "stderr",
     "output_type": "stream",
     "text": []
    },
    {
     "name": "stdout",
     "output_type": "stream",
     "text": [
      "Content: \n",
      "안고있으면 내 체온때문에 따끈따끈해짐ㅋㅋ\n",
      "\n",
      "Comment: 그러다 골든샤워 맞는다\n",
      "Content: \n",
      "레게 입양 할 때 염두해서 보려는데 ㅇㅇ\n",
      "\n",
      "Comment: 그딴거없다 그냥 이뻐보이는애가 이쁜거지퀄 도살 뭐어쩌구 이딴말들은 다 크레팔이들이 입털어서 돈 더 받아처먹으려고만든 문화임레게는 아직까지 레게팔이들이 별로없어서 그런게없음ㅋㅋ   - dc App\n",
      "Comment: 모프별로 따지는게 다름 캐럿테일 애들은 주황색 부분이 꼬리를 얼마나 덮는다던가 이런거\n",
      "Comment: 레오파드 게코 마이너 갤러리로\n",
      "Comment: 레게는 내 눈에 이쁜게 장땡인듯\n"
     ]
    },
    {
     "name": "stderr",
     "output_type": "stream",
     "text": []
    },
    {
     "name": "stdout",
     "output_type": "stream",
     "text": [
      "Content: \n",
      "신선센터로 가서 냉동 소리때매 소리가 다 묻히는데 작게 말하고 그나마 교육 들을땐 잘 들었는데 처음에 재고조회하고 진열2번 하라고 해서 그대로 했거든? 근데 갑자기 다 끝나고 (교육한 직원이랑 다른 직원이였음) 나한테만 진열 2번 한 다음에 마지막에 재고조회 왜 안 했냐고 ㅈㄴ 뭐라 하는 거임 난 그런 소리 들은 적 없는데 처음 할때만 재고조회 하라고만 들었는데 ㅈㄴ 뭐라하는데 그리고 처음인데 처음 아니시잖아요 이러고.. 이게 내 탓이야?  그래 백번 양보해서 내가 설명을 잘 이해 못한 거라도 쳐도 한번은 확인해야하는 거 아님? 노트북에 다 뜨던데 처음 하는 건데 그냥 처음 몇마디만 하고 그대로 확인 안 하고 방치한다고?? 이게 맞나 진짜  그리고 댓글로 이게 내 탓이라는 사람들은 뭐임? 설명 안 들은 걸 못한 건데 이게 내 탓임? 모르겠으면 물어보라고? 진열 완료라고 잘 떠서 당연히 문제 없는 줄 알지 그러면 진열 완료라고 떴는데 \"어.. 뭔가 잘못된 거 아닐까? 물어봐야겠다 진열 완료라고 떴지만 뭔가 이상해\" ㅋㅋㅋㅋㅋㅋㅋㅋㅋㅋㅋㅋ ㅇㅈㄹ하냐? ㅈㄴ 웃기네 \"저기.. 진열완료라고 잘 떴는데 뭔가 이상해서요 제가 잘하고 있는 건가요?\" ㅇㅈㄹ하냐 ㅋㅋㅋㅋㅋㅋㅋㅋㅋㅋㅋㅋㅋㅋㅋ 자꾸 걍 니 탓이라고 하는데 왜 내 탓인지 근거를 담아서 말해주셈 무지성 니 탓 이러면 내가 어떻게 납득함?  무지성 걍 니 탓임 이런 건 이제 걍 무시하겠음 \n",
      "\n",
      "Comment: 니 탓 아님 걍 뚝심있게 그대로 ㄱㄱ\n",
      "Comment: 여기 쿠팡갤임?파갤에서 징징거리노 3줄 요약하던가  - dc App\n",
      "Comment: 혀가 ㅈㄴ 기네\n"
     ]
    },
    {
     "name": "stderr",
     "output_type": "stream",
     "text": [
      "\n"
     ]
    },
    {
     "name": "stdout",
     "output_type": "stream",
     "text": [
      "Content: \n",
      "주사기로 주면 잘 안먹는데 숟가락으로 주면 씹어먹고 핥아먹고 잘머금 \n",
      "\n"
     ]
    },
    {
     "name": "stderr",
     "output_type": "stream",
     "text": [
      " 33%|███▎      | 16/49 [00:36<01:18,  2.39s/it]\u001b[A"
     ]
    },
    {
     "name": "stdout",
     "output_type": "stream",
     "text": [
      "Content: \n",
      "ㅈ되기전에 몰래몰래  소비자들한테 떠넘겨야겠지??? 개토나오내 하는거보면  - dc official App\n",
      "\n",
      "Comment: https://m.dcinside.com/board/reptile/811078\n",
      "Comment: ㄹㅇ\n",
      "Comment: ㅈ됫다싶으니 분산해서 급분 떨이함\n",
      "Comment: 쉬쉬안하는 김군은 ?\n",
      "Comment: 에휴.... 크래 82들\n"
     ]
    },
    {
     "name": "stderr",
     "output_type": "stream",
     "text": []
    },
    {
     "name": "stdout",
     "output_type": "stream",
     "text": [
      "Content: \n",
      "미리 규마워- dc official App\n",
      "\n",
      "Comment: 레오파드 게코 마이너 갤러리로\n",
      "Comment: Wy트램퍼 , 아래사진 검정색이 블나 딴애가 맥스노우\n"
     ]
    },
    {
     "name": "stderr",
     "output_type": "stream",
     "text": []
    },
    {
     "name": "stdout",
     "output_type": "stream",
     "text": [
      "Content: \n",
      "이런데 샵이라고 하기도 그렇고 걍 사육방이라 렉사에 적재통밖에 없음 용품도 없음 ㅇㅇ 그나마 지들도 써야하는 슈푸에 새끼까면 쳐넣으려고 여분 적재통에 백업정도??\n",
      "\n"
     ]
    },
    {
     "name": "stderr",
     "output_type": "stream",
     "text": []
    },
    {
     "name": "stdout",
     "output_type": "stream",
     "text": [
      "Content: \n",
      "주 3일 안주면 배고파 디지는 거 아니지? \n",
      "\n",
      "Comment: 뭐하노 야생처럼 주 1회 피딩 and 분무만해줘도 안뒤짐\n",
      "Comment: 나도 그럼오히려 애들 배고파서 잘먹더라분무만 잘해주면 뭐  - dc App\n",
      "Comment: 주 3회가 오히려 많은거..ㅋㅋ 근데 파워피딩이라 그쪽이 잘크긴 하더라\n",
      "Comment: 그냥 일주일에 한번만줘\n",
      "Content: \n",
      "귀뚜리 지 머리통 절반만한거 일곱마리 자시고 또 먹이반응 나오시는데\n",
      "\n",
      "Comment: 그러는거보면 모르는거같음ㅋㅋㅋ그러고 토함  - dc App\n",
      "Comment: 최소한 베이비는 모르는거 같음\n",
      "Comment: 레오파드 게코 마이너 갤러리로\n",
      "Comment: 개빡통대갈이라 그런거 모름\n"
     ]
    },
    {
     "name": "stderr",
     "output_type": "stream",
     "text": [
      "\n"
     ]
    },
    {
     "name": "stdout",
     "output_type": "stream",
     "text": [
      "Content: \n",
      "홍리도 문제많긴한데 애는 이쁘니까 걍 넣었다 친절한새끼한테 낚여서 입문퀄 몇배 비싸게 주고사는것보단 낫자나\n",
      "\n",
      "Comment: ㅗ\n",
      "Comment: 광고.. 레게는 무분이답..\n",
      "Comment: 친절하고 미소지으며 사기덤탱이\n",
      "Comment: 과연 거기도? ㅋ - dc App\n",
      "Comment: S엠모프구분불가o지환불사건 홍리 미성년자X희롱그냥 찻집에서 적당한 개인분양 입양해\n"
     ]
    },
    {
     "name": "stderr",
     "output_type": "stream",
     "text": [
      " 45%|████▍     | 22/49 [00:49<00:58,  2.17s/it]\u001b[A"
     ]
    },
    {
     "name": "stdout",
     "output_type": "stream",
     "text": [
      "Content: \n",
      "한마리 얻어다 잘기르는중\n",
      "\n",
      "Comment: 와따 색 잘빠졌네 눈이랑 꼬리를 더 봐야 알듯  - dc App\n",
      "Comment: 울트라 기네스 알비노무현 만다린레게\n",
      "Comment: 만다린? 눈 하야면 레드데빌  - dc App\n",
      "Comment: 레오파드 게코 마이너 갤러리로\n",
      "Comment: 레몬프로스트\n"
     ]
    },
    {
     "name": "stderr",
     "output_type": "stream",
     "text": []
    },
    {
     "name": "stdout",
     "output_type": "stream",
     "text": [
      "Content: \n",
      "보면 꼭 허위신고좀 작작넣으라는 영상하나씩 다나옴 \n",
      "\n"
     ]
    },
    {
     "name": "stderr",
     "output_type": "stream",
     "text": []
    },
    {
     "name": "stdout",
     "output_type": "stream",
     "text": [
      "Content: \n",
      "솔직히 진상당한거보면 진상손님 면전에다 쌩극딜박아도 이해될정도였음  걍 지하고싶은 연못가꾸기나 농장컨텐츠하면서 즐겁게 사는게 낫지 ㅋㅋ  매장운영하몀서 당장기억나는 진상썰이, 악어 자꾸 허위신고넣는놈 + 생태계교란종이라 거둬주지도 못하는종 정중하게 받아달라한것도 아닌 그냥 매장문앞에 던져놓고 튀기라던가  그사람 물거북 유기말아달라고 차라리 자기한테 가져와서 부탁하면 거둬준다고 말할정도로 열심히 했는데 그걸 포기하게 만들정도로 무개념들이 너무 좆쓰레기짓함 \n",
      "\n",
      "Comment: 털리고 쪽팔려서 그만둔거다ㅋ\n"
     ]
    },
    {
     "name": "stderr",
     "output_type": "stream",
     "text": []
    },
    {
     "name": "stdout",
     "output_type": "stream",
     "text": [
      "Content: \n",
      "흰거 그렇게 좋아하는 사람들이릴리말고 뭔 프랖이나 세이블릴리를 해칭하고 선호하는 경향이있음대머리같이 생긴애들보면 이쁘다고 물빨 엄청 해줌모프들 처음 나왔을때도 누가봐도 다른 값싼 노멀들이 훨 이쁜데사진만 올라오면 돈에 눈이먼자들은 이쁘다고 개빨아주는거보거 너무 엮겨워서 카페나 채팅방 다 나옴정신좀 차리시길 파충류판을 키우긴 뭘 키워파충류판이 커져야 니네 주머니가 두둑해지니까 그렇지 싯팔업체뿐아니라 좀 많이 입양한 갠분양자들도 마찬가지이뻐서 비싸야하는데 비싸서 이뻐지는 아이러니한 현상\n",
      "\n",
      "Comment: ㄹㅇ팩트 업자들 좆목방 카르텔로 역겨운짓 존나함\n",
      "Comment: ㅇㅇ 솔직히 지금 초초 하나도 안예쁜데 빠는거 보면 웃김ㅋㅋㅋㅋ 초초가 문제가 아니라 똥퀄 초초 보고도 빠는게 웃긴거\n",
      "Comment: 크레가 파충류판 크게 만들었다는 개소리가 있었는데크레덕분에 다른 비주류들 수입도 안들어왔드만\n",
      "Comment: 개인 취향이겠지만 펫테일 키우다가 크레보면 흉물같음\n",
      "Comment: 초초가 뭐냐고 ㅋㅋㅋ 크레 물소새끼들오늘도 크레공장주인들 크레풀발기 메이팅 고?\n",
      "Comment: https://m.dcinside.com/board/reptile/811078\n",
      "Comment: 이상 신모프 가지고 싶은데 돈 없어 울고 있는 거지들 잘봤어 ♡\n",
      "Comment: 초초 실물 개이쁘던데? ㅋㅋㅋㅋ 좀 집밖에 나와서 봐라 히키코모리야 ㅌㅌㅌ\n",
      "Comment: 아니 니 병신퀄 세이블은 좆도 관심없다니까? - dc App\n",
      "Comment: 제한된 양의 물건이 있다면 그 물건은 값이 오르죠 초초는 처음부터 많이 분양을 하지 않았기에 더욱 더 사람들은 가지고 싶어하고 높은 가격이 형성되어도 가지고 싶어하는거죠 (수요와 공급)\n"
     ]
    },
    {
     "name": "stderr",
     "output_type": "stream",
     "text": []
    },
    {
     "name": "stdout",
     "output_type": "stream",
     "text": [
      "Content: \n",
      "진정으로 올까? \n",
      "\n",
      "Comment: 6년뒤\n",
      "Comment: 30도온다ㅋ안팔림그러고도\n",
      "Comment: 곧 옴 수요가 없음 공급은 점점 높아지는중\n",
      "Content: \n",
      "아잔 이제 많이 죽엇네.. 트익은 1000에도 거래되던데 노말힌테 따잇당함 ㅋㅋ\n",
      "\n",
      "Comment: 세이블은 고퀄50은 받냐? - dc App\n",
      "Comment: 고퀄이 아닌거지\n",
      "Comment: 트익 1000에 거래한놈 ㅋㅋ 양심무엇\n"
     ]
    },
    {
     "name": "stderr",
     "output_type": "stream",
     "text": []
    },
    {
     "name": "stdout",
     "output_type": "stream",
     "text": [
      "Content: \n",
      "방문예약제없어도 개좆그지동네라  오는사람 별로 없을텐데  예약제를 ㄹㅇ 왜하노  누가 보면 강남,송파에서 샵차리는줄 ㅋㅋ  - dc official App\n",
      "\n",
      "Comment: 파충류의 도시 일산!\n",
      "Comment: 호구 등처먹는 도시겠지\n"
     ]
    },
    {
     "name": "stderr",
     "output_type": "stream",
     "text": []
    },
    {
     "name": "stdout",
     "output_type": "stream",
     "text": [
      "Content: \n",
      "줄사장 살아 있을 시절엔 매장 급습해서 몇 시간을 죽치고 있어도 야지 안 줬는데 좆방매들이 샵 차렸다고 존나게 꺼드럭 거리노 ㅋㅋㅋㅋ \n",
      "\n",
      "Comment: ㅋㅋㅋㅋㅋㅋㅋㅋㅋㅋㅋㅋㅋㅋㅋ - dc App\n",
      "Comment: 진짜 찢마렵긴 함 ㅋㅋ예약은 ㅅㅂㅋㅋㅋㅋ\n",
      "Comment: 야야 줄사장 그거때문에 너무 스트레스받아했다...\n",
      "Comment: ㅋㅋㅋㅋ\n",
      "Comment: ㅋㅋㅋㅋㅋㅋㅋㅋ\n",
      "Comment: 사육방 운영한답시고 예약 받는 ㅅㄲ들도 좆같음ㅋㅋㅋㅋㅋ\n",
      "Comment: 그냥 부업아녀? 주에 한번만 여는거\n"
     ]
    },
    {
     "name": "stderr",
     "output_type": "stream",
     "text": []
    },
    {
     "name": "stdout",
     "output_type": "stream",
     "text": [
      "Content: \n",
      "34 22 14 정도 되는 리빙박슨데 청개 몇마리 해야됨?\n",
      "\n",
      "Comment: 세네마리. 충분\n",
      "Comment: 와 높이 14면 고시원이노\n"
     ]
    },
    {
     "name": "stderr",
     "output_type": "stream",
     "text": []
    },
    {
     "name": "stdout",
     "output_type": "stream",
     "text": [
      "Content: \n",
      "공룡하고 가까운 정도로 따지면 새 악어 도마뱀 이순서 맞냐\n",
      "\n",
      "Comment: 도마뱀보다 거북이가 더 가깝다는데  - dc App\n",
      "Comment: 악어는 존나 아니었던 것 같음\n",
      "Comment: 맞음새는 애초에 공룡의 한 종류임\n"
     ]
    },
    {
     "name": "stderr",
     "output_type": "stream",
     "text": []
    },
    {
     "name": "stdout",
     "output_type": "stream",
     "text": [
      "Content: \n",
      "아오 씨발 ㅋㅋㅋㅋㅋㅋㅋㅋㅋㅋㅋㅋㅋㅋ \n",
      "\n",
      "Comment: ㅈㄴ 똑똑한 거지~\n",
      "Comment: 존나현명한대?\n",
      "Comment: 하고싶은말이 뭐임? 귀농하러 간거니 채소도 팔겟지 돈  모아놓고 시골 조용한데 가서 하고싶은거 하면서 전보다 나은 삶은 사는것 같은데 성공한거지  - dc App\n",
      "Comment: 퍙판뜨고 귀농해서 잘 사는거 같은디 뭐 어쩌라는 글임?\n",
      "Comment: 알아서 하는 거지 뭔 상관\n",
      "Comment: 애미 뒤졌나 - dc App\n"
     ]
    },
    {
     "name": "stderr",
     "output_type": "stream",
     "text": []
    },
    {
     "name": "stdout",
     "output_type": "stream",
     "text": [
      "Content: \n",
      "좋은글도 많지만나쁜글보고 실망하지말어 나는 낭게이 호감이여\n",
      "\n",
      "Comment: 피드백 받아서 발전하는 거지 뭐\n",
      "Comment: 돈 받음?\n",
      "Comment: 낭게이 벼락부자임 사업장 3개에 박람회 주최까지 돈 쓸어담음  - dc App\n",
      "Comment: ㅠㅋㅠ ㅋㅋ\n",
      "Content: \n",
      "크레3키우고레게 진짜 딱하나만 키워보고싶은데블나가 좋은거 같아서ㅍㅂㅅ 여기가 좀 짱짱한거같은데 비싸긴한거같음가격 좀주고 데려올만할까?아니면 블나 좋은샵 추천좀알아보니 역변이 심해서 걱정임\n",
      "\n",
      "Comment: 성체를 들이는게 제일 나음 블나는\n",
      "Comment: ㅍㅂㅅ..? 블나 그냥 사이즈 좀 있는거루 파사모 개인분양 받으셈 훨씬 싸가 ㅍㅂㅅ는 쓸데없이 ㅈㄴ 비쌈\n",
      "Comment: 돈 상관 없으면 퀄 보장 해주는 곳으로돈 아끼려면 찻집 좀 큰 애로 개인분양\n"
     ]
    },
    {
     "name": "stderr",
     "output_type": "stream",
     "text": []
    },
    {
     "name": "stdout",
     "output_type": "stream",
     "text": [
      "Content: \n",
      "파충류판 마약사건 ㅎㄷㄷ이게 무슨 말이야?\n",
      "\n",
      "Comment: 파ㅣ충류 밀수업자들 마약까지 밀수함\n",
      "Comment: 퍙밀수 마약넣어밀수\n",
      "Content: \n",
      "니 수출좀 햇다며 니 아는 바이어한테 국내 상황 좀 알려드려라 외국인이라고 아무것도 모르고 호구 당하는건 불공평하자나  25년12월 이후엔 마리당 200원에 받을수있을텐데 지금상황에 어짜피 수출도  ㅈ도 안될거같긴하지만 그럼 그뒤론 \"헤비좌\"야  - dc official App\n",
      "\n",
      "Comment: ㅇㅋ\n"
     ]
    },
    {
     "name": "stderr",
     "output_type": "stream",
     "text": []
    },
    {
     "name": "stdout",
     "output_type": "stream",
     "text": [
      "Content: \n",
      "슈퍼푸드먹네  - dc official App\n",
      "\n",
      "Comment: 리키\n",
      "Comment: 벨뱃게코\n",
      "Comment: 슈퍼푸드게코\n"
     ]
    },
    {
     "name": "stderr",
     "output_type": "stream",
     "text": []
    },
    {
     "name": "stdout",
     "output_type": "stream",
     "text": [
      "Content: \n",
      "제곧내.말이되나 게이들아 이건 선을 넘은듯. 아잔틱때 눈탱이 쳐맏고 당하고도 저가격을 공지한다는게 말뿐인줄알았더니 진짜네 ㅋ 희귀한거도 아니고 공장처럼 찍으면 나올수 있는걸 아직도 천따리에 분양하는게 이판 수준이다. 흑우들없지 우리 겔럼은 당하지 말자 ! 좀! 그리고 초보자 지인이면 널리 알려서 이런 말도안되는 가격은 좀 ㅂㄱㅈ라 일러주고 . 어휴... 진짜 개선되는 모습 1도 없는 그지같은 파양판 내로남불 + 후기봐도 상도덕없음+ ㄷㅁㅅ\n",
      "\n",
      "Comment: ㅅㅈ게이야. 영상에선 초반 초초 소개 유툽에서 저렴하게 분양할꺼로 이미지 좋게 쌓았는데 공하나가 더붙은건 우찌된기고....\n",
      "Comment: 슈퍼 카푸치노도 처음에 2천따리였다가 고자엔딩...\n",
      "Comment: 한탕주의지 머 ㅋㅋ\n",
      "Comment: 곧 그거 사줄 방구석 재테크충들 박멸될예정이라팝콘 씹으면서 구경하면됨   - dc App\n",
      "Comment: 초초는 중국으로 거진 넘어가서... 비싸게 다 사주니까 쉽게는 안떨어질듯  - dc App\n",
      "Comment: 못사서 긁혔노 ㅋㅋㅋ\n",
      "Comment: 갤럼은 애초에 살돈이없어... ㅠㅠ\n",
      "Comment: 초초 ㅅㅂ ㅈㄴ 웃기다 욕나오네 그돈가지고있으면 엄마한테 효도나해러\n",
      "Comment: 싸게 못사서 기분 나빠!!! 근데 넌 싸게 팔아도 살돈없잔아 ㅋㅋㅋㅋㅋㅋㅋㅋㅋㅋㅋㅋ\n"
     ]
    },
    {
     "name": "stderr",
     "output_type": "stream",
     "text": []
    },
    {
     "name": "stdout",
     "output_type": "stream",
     "text": [
      "Content: \n",
      " 개시발병신동네  - dc official App\n",
      "\n",
      "Comment: ㅆㄹㄱ같노 코로나도 아니고 아직도 그러나 ㅋㅋㅋ 파양판이 그렇지 뭐 ㅋ\n",
      "Comment: 평상시에 청소안하고 날먹하다가 갱킹방지용으로 그렇다던데\n",
      "Comment: 1.예약자에 따라서 가격변동 (호구로보일수록 상승)2.ㅈ같이 관리하다 예약즉시 청소 들어감  - dc App\n",
      "Comment: 3출근 늦게하는경우나 다른데출장갈때있어서 그런듯\n"
     ]
    },
    {
     "name": "stderr",
     "output_type": "stream",
     "text": []
    },
    {
     "name": "stdout",
     "output_type": "stream",
     "text": [
      "Content: \n",
      " 비바에서 개미 개 ㅈ만한거 조금씩 나오던데  - dc official App\n",
      "\n"
     ]
    },
    {
     "name": "stderr",
     "output_type": "stream",
     "text": []
    },
    {
     "name": "stdout",
     "output_type": "stream",
     "text": [
      "Content: \n",
      "너 계속 괴롭히는 놈은 아닌데 저거 너가 브리딩해서 만든거 아니잔냐ㅋㅋㅋㅋㅋㅋ 너 괴롭히는 놈한테 말 못하게 퀄리티로 혼내주려면 적어도 너개체로 번식해서 나온 2세를 보여줘야지..ㅋㅋ\n",
      "\n",
      "Comment: 뭐노 비-------싸앙\n",
      "Comment: 아무도 안궁금한 어그로글싸는게 님 이미지씹창낸다고 생각안함? 분양글에서 댓글로 좆목하는것도 역한데 갤까지와서 반고닉ㅇㅇ으로 똥글은 싸고싶고 -하키- 이러면서 티는내고싶고 뭘하고싶은거임? 어른이돼라라고 댓글썼더니 쫄삭튀한거냐ㅋㅋ 레전드네\n",
      "Comment: 자연광에서 블랙나이트 만다린을 저렇게 자랑한다고? ㅋㅋㅋㅋㅋㅋㅋ 병신새끼 변기퀄 좆밥인게 어디 가겠냐고\n",
      "Comment: 장담하는데 헷느와르 무조건임 번식해봐 바로 노말텐저린 나옴   - dc App\n",
      "Comment: 그리고 저거 탈기임   - dc App\n",
      "Content: \n",
      "나는 빅혼부스에서 룰렛돌리다가 25만원이 사라졌다  1 이미지 순서 ON2 이미지 순서 ON3 이미지 순서 ON그치만 귀여운 토케이를 한쌍얻었다  첨 돌릴때 만원 나오길래 이거 잘만하면 싸게데려오겠다싶었는데 그딴건없다..  - dc official App\n",
      "\n",
      "Comment: 몇번돌려서 몇만원씩에입양함? 나도 존나혹했는데 못가서 못함..\n",
      "Comment: 돌리고 안사도 됨?  - dc App\n"
     ]
    },
    {
     "name": "stderr",
     "output_type": "stream",
     "text": []
    },
    {
     "name": "stdout",
     "output_type": "stream",
     "text": [
      "Content: \n",
      "찻집에 어떤분이 입양받고 지나가는데 다른업체에서 개체 보여달라하더니 막 만지면서 이거랑 비슷한거있으니깐 데려가라 했다고 올라옴ㅋㅋㅋㅋㅋ저런식으로 하는 사람있으면 담에 또 그럴텐데 색출해서 받지마라..진짜 저건 아니다 싶다\n",
      "\n",
      "Comment: 저기 어디 업체냐?\n",
      "Comment: 저런 업체 많더라.. 에휴... 상도덕도 없는 그냥 ㅆㄹㄱ판 파양판의 수준임.\n",
      "Comment: 지금 찾고있다 누군지\n",
      "Comment: 이건 진짜 착출해내야함\n",
      "Content: \n",
      "아침에 일어나서 열어보니 집안이 피 범벅이고 생식기 탈갤해서 바로 병원감 생식기 집어넣고 부은것도 가라앉았다는데 힘주다 다시 빠지면 꼬매던지 조금 절제해야 한다함 약은 3일치 내돈ㅅㅂ  - dc official App\n",
      "\n",
      "Comment: 머노 생각보다 저렴하네?레게 앞으로 보험 들어놧냐\n",
      "Comment: 그돈이면 새로 하나 사겠다\n",
      "Comment: 존나 싸네 - dc App\n"
     ]
    },
    {
     "name": "stderr",
     "output_type": "stream",
     "text": []
    },
    {
     "name": "stdout",
     "output_type": "stream",
     "text": [
      "Content: \n",
      "요즘 크레 유튜브들 보면 찻집이랑 다를게 없더라정보성 영상도 주제 하나가지고 존나 쓸데없이 길기만함 크레ㅍㅅ가 초반엔 정보많아서 좋았는데 요즘 보면 자사 제품이나 크레만 홍보ㅡㅡ제대로된 채널 추천좀 \n",
      "\n",
      "Comment: 한국엔 제대로 된 정보 채널은 없음 있더라도 틀린경우도 있었고\n",
      "Comment: 정보는 그게 전부인거임 뭘 더 그리 알려고하나 박사 될거임?  - dc App\n",
      "Comment: ppt 대본없이 아가리로만 조잘거리는게 무슨 정보채널이냐ㅋㅋ 책이나 해외칼럼 봐라\n",
      "Comment: 장사홍보밖에안하더라\n",
      "Comment: 크팍은 유튭 돌아온거 자체가 웃긴거지, 판 ㅈㄴ커지고 가격 떨어지기 시작하니 똥줄타서 허겁지겁 팔아치우려고 다시 시작한거ㅋㅋㅋ 갖잖은 소리로 어그로 ㅈㄴ끌고 워딩이 강하네 ㅇㅈㄹ ㅋㅋㅋㅋㅋㅋㅋㅋㅋ 이제는 밑천 다 들어나니 그냥 쩌리행이지 뭐~ㅎ\n"
     ]
    },
    {
     "name": "stderr",
     "output_type": "stream",
     "text": []
    },
    {
     "name": "stdout",
     "output_type": "stream",
     "text": [
      "Content: \n",
      "??  - dc official App\n",
      "\n"
     ]
    },
    {
     "name": "stderr",
     "output_type": "stream",
     "text": []
    },
    {
     "name": "stdout",
     "output_type": "stream",
     "text": [
      "Content: \n",
      "아니 왜 샵에 3마리밖에 없는건데.....  - dc official App\n",
      "\n"
     ]
    },
    {
     "name": "stderr",
     "output_type": "stream",
     "text": [
      "100%|██████████| 49/49 [01:50<00:00,  2.26s/it]\n",
      " 52%|█████▏    | 15/29 [27:48<25:03, 107.37s/it]"
     ]
    },
    {
     "name": "stdout",
     "output_type": "stream",
     "text": [
      "Content: \n",
      "다시 후퇴중이네 우주가 성장을 막는중  - dc official App\n",
      "\n"
     ]
    },
    {
     "name": "stderr",
     "output_type": "stream",
     "text": []
    },
    {
     "name": "stdout",
     "output_type": "stream",
     "text": [
      "Content: \n",
      "밥잘먹음 핸들링됨  - dc official App\n",
      "\n",
      "Comment: 촉감 원톨 - dc App\n",
      "Comment: 님네 리키 귀뚜라미 먹음?\n",
      "Comment: 짖으면 악어로 돌변\n",
      "Comment: 발톱 개아픈데 ㅇㅅㅇ\n",
      "Comment: 귀여워\n"
     ]
    },
    {
     "name": "stderr",
     "output_type": "stream",
     "text": []
    },
    {
     "name": "stdout",
     "output_type": "stream",
     "text": [
      "Content: \n",
      "데이게코류 말고  - dc official App\n",
      "\n",
      "Comment: 거의 없지 않나\n",
      "Comment: 도마뱀이긴한데 그린에놀\n",
      "Comment: 옐로헤드드워프게코라고 걔도 주행성으로 알고 있음\n"
     ]
    },
    {
     "name": "stderr",
     "output_type": "stream",
     "text": []
    },
    {
     "name": "stdout",
     "output_type": "stream",
     "text": [
      "Content: \n",
      "1 이미지 순서 ON2 이미지 순서 ON3 이미지 순서 ON4 이미지 순서 ON하품~  - dc official App\n",
      "\n",
      "Content: \n",
      "방에서 나와서 일단 잡긴 했는데풀어줘야 하나\n",
      "\n",
      "Comment: 재패니즈게코 같음뭐 풀어주셈\n"
     ]
    },
    {
     "name": "stderr",
     "output_type": "stream",
     "text": []
    },
    {
     "name": "stdout",
     "output_type": "stream",
     "text": [
      "Content: \n",
      "5마리정도 키우고싶었는데 혹시 얘네랑 합사가능한 타종없냐?  - dc official App\n",
      "\n",
      "Comment: 없어\n",
      "Content: \n",
      "김레몬 노형석 ㅇㅇ 둘 다 상남자스타일에 복싱이나 mma 수련자일거 같고 기세가 엄청 드셈 웬만한 길거리 싸움에서는 절대 안질듯 걍 마초 상남자 그 자체임  - dc official App\n",
      "\n",
      "Comment: 이거 ㄹㅇ\n",
      "Comment: ㅈㄴ눈빛약하고 ㅈ찐따임\n"
     ]
    },
    {
     "name": "stderr",
     "output_type": "stream",
     "text": []
    },
    {
     "name": "stdout",
     "output_type": "stream",
     "text": [
      "Content: \n",
      "난 죽은거 확인하고 개쌍욕하면서 짜증내다가 새벽에 울었다  - dc official App\n",
      "\n",
      "Comment: 왜 움? 난 단물빠지기전에 뒤져도 걍 돈아깝던데\n",
      "Comment: 묻어줄때 눈물 콧물 다 뺌\n",
      "Comment: 돈 없어져서 빡치긴 하지운다? 그런적은 없음\n",
      "Comment: 초딩때나 죽으면 울것지  - dc App\n",
      "Comment: 강아지, 육지거북 죽었을땐 울었는데도마뱀새끼들은 죽으니까 돈 아깝단 생각뿐\n",
      "Comment: 아 내돈 ㅅㅂ\n"
     ]
    },
    {
     "name": "stderr",
     "output_type": "stream",
     "text": []
    },
    {
     "name": "stdout",
     "output_type": "stream",
     "text": [
      "Content: \n",
      "ㅈㄱㄴ\n",
      "\n",
      "Comment: 레게 멜라계열 중에 하나\n"
     ]
    },
    {
     "name": "stderr",
     "output_type": "stream",
     "text": []
    },
    {
     "name": "stdout",
     "output_type": "stream",
     "text": [
      "Content: \n",
      "행사가 그렇게 돈이 되나바 여기저기 난리네 ㅋㅋㅋ여태 행사가 다 짭짤했으니 이런거겠지..?\n",
      "\n",
      "Comment: 거기라도 나가야 누가 사줌  - dc App\n",
      "Comment: 파충류 자체가 개씹마이너 취미니깐\n",
      "Comment: 행사냐 바자회 시장이지ㅋㅋㅋ\n",
      "Comment: 티켓파라 소비자삥 + 부스료받아 업체삥 + 지꺼파라 삥 = 을마나 좋노 일타 3피 ㅋ 이맛을 주최자는 잊지못하재잉  나가자 ㅈㄸ뱅이들아~~~~\n"
     ]
    },
    {
     "name": "stderr",
     "output_type": "stream",
     "text": [
      "\n"
     ]
    },
    {
     "name": "stdout",
     "output_type": "stream",
     "text": [
      "Content: \n",
      " - dc official App\n",
      "\n",
      "Comment: 100마리 사와랴ㅏ\n",
      "Comment: 이륙허가  - dc App\n"
     ]
    },
    {
     "name": "stderr",
     "output_type": "stream",
     "text": [
      " 20%|██        | 10/49 [00:23<01:27,  2.25s/it]\u001b[A"
     ]
    },
    {
     "name": "stdout",
     "output_type": "stream",
     "text": [
      "Content: \n",
      "1. 뒤주같은 사육장 좁아도 죽진 않기 때문에 공간차지 x2. 슈퍼푸드충식에 비해 존나 안크고 별로지만 죽진 않기 때문에귀여운 애기 모습 오래 유지가능3. 특성개구리 처럼 벽에 똥칠하고 펄떡펄떡 뛰어다녀서 주인새끼 부지런해짐, 눈깔을 못 감기 때문에 아이컨텍 항시 가능\n",
      "\n",
      "Comment: 장점 4 ㅈ퀄 뜨면 뱀이나 모니터 먹이가능\n"
     ]
    },
    {
     "name": "stderr",
     "output_type": "stream",
     "text": []
    },
    {
     "name": "stdout",
     "output_type": "stream",
     "text": [
      "Content: \n",
      "겠냐?  동물학대를 사육메뉴얼이라고 내는 새끼들인데 겠냐고 ~ 크레때매 안밀어주는거라고 본다 크레게 말고 타종은 많은 사육자들이 사육장에 신경많이 쓰고 환경을 만들어주려 한다 물론 병신들 10%정도가 있겠지  하지만 90%이상에 타종 사육문화는 매년 좋아지고있다 근데 크레는? 90%이상이 감옥사육 또 그게 정석이라고 밀고있다 ㅋ ㅅㅂ 정상이냐 이게?  해수부처럼 안밀어주냐 입털시간에  본인들 사육장앞에서 ㅈ잡고 반성해 새끼들아 크레 재테크충들 없어지면 산업 망한다 하는데 망하는건 니들 재테크충들이고  그뒤에 살궁리해서 또 잘벌어먹고 사는사람은 나와 ㅂㅅ들아 그게 니가 아닐뿐이지   - dc official App\n",
      "\n",
      "Comment: 물판 부럽다ㅠ  - dc App\n",
      "Comment: 크레 없으면 솔직히 파충류는 음지 아니노?\n",
      "Comment: 혐오생물 취급이니까\n",
      "Comment: 양서류는 해수부관활이니깐 이제 파충류만 ㅈ된거지\n",
      "Comment: 그냥 물시장은 동물보호라는 개념이 번지기전에 유행했고 돈이되는 시장이라는걸 판단하고 성장시킨거지 베타 전시해두는것만봐도 괜찮은건아님  - dc App\n",
      "Content: \n",
      "1 이미지 순서 ON2 이미지 순서 ON3 이미지 순서 ON4 이미지 순서 ON5 이미지 순서 ON리키 크레마냥 가만히 안 있고 뽈뽈 거리는거 졸귀네 쉬밬 적응하니깐 잘 숨지도않네 6 이미지 순서 ON7 이미지 순서 ON공벌레도 번식하는 맛이 개오짐 유체 쌀보다 작아서 돋보기 끼고봐야함 ㄹㅇ  - dc official App\n",
      "\n",
      "Comment: 진짜 멋있네\n",
      "Comment: 같은 단톡사람이였구만 - dc App\n",
      "Comment: 어 멋지다 사육장 크기몇자임\n",
      "Comment: 콩 종류 뮤ㅓ임? 이쁘다\n"
     ]
    },
    {
     "name": "stderr",
     "output_type": "stream",
     "text": []
    },
    {
     "name": "stdout",
     "output_type": "stream",
     "text": [
      "Content: \n",
      "ㅆㅂ 크레는  시설등록종이 되는게 맞다  이러면 또 크레는 원래 작은곳 좋아한다 하려나 ㅋ ㅆㅂ 큰사육장에 구조물은신처 많이 해줘서 개체가 숨고싶고 쉬고싶은대서 쉬는거랑 숨을데가 그 사육통 자체인거랑 뭐가낫냐 ㅋ 이거 이해못하면 평생 2평 고시원 살아라 존나 이해못하겟내 ㅋㅋ해가 갈수록  사육문화는 x2로 후퇴하는게 ㅋ 역시 업자+업자지망생 99% 크레시장 답긴함  - dc official App\n",
      "\n",
      "Comment: ㄹㅇ빡통들이네\n",
      "Content: \n",
      "수컷성체한테는 무리?\n",
      "\n",
      "Comment: 성체사이즈 보면 2자로도 빡세고 2자광폭 가야 되겠더라\n",
      "Comment: 높이도 너무 낮음\n",
      "Comment: 활동량 없다고 좁은곳에 키우는건 키우는게 아니라 보관하는거임 우리 안 볼때 싸돌아다니니깐 사육장 정도껏 해줘야됌\n",
      "Comment: 개작음\n"
     ]
    },
    {
     "name": "stderr",
     "output_type": "stream",
     "text": [
      "\n"
     ]
    },
    {
     "name": "stdout",
     "output_type": "stream",
     "text": [
      "Content: \n",
      "감기걸려서 병원가서 엑스레이찍고 감기약 한달치 받으니까 35만원. ㅋㅋ 네블 약값만 15고 항생제 진통제 등등 가루약이 11만에 엑스레이 6만. 애기하나 살리려다 초가삼간 다타게쓰.. 2주치 준다는거 괜히 한달치 달라했네 약값 ㅈㄴ 비싸누2주만 먹이고 2주치는 킵해놨다가 나중에 아프면 먹여도 되겠지? 그래도 똥잘싸고 활동성 좋아진거 보니까 좋다. 폐렴은 심하지 않았는데 수의사가 입천장에 고름 잔뜩낀거 떼주는데 안쓰럽더라. 약먹을때 하악질 하는거 은근 웃김 ㅋㅋ\n",
      "\n",
      "Comment: ㅂㅅ이냐?5만짜리 거북이를35주고치료함?ㅂㅅㅋㅋㅋㅋ\n",
      "Comment: 그게 의료민영화 체험임\n",
      "Comment: 나도 우리집 호스필드 감기걸렸을때 있는 돈 없는 돈 다 땡겨서 그 정도 주고 치료했음ㅠㅠ 지금은 다행히 매우 건강해짐\n"
     ]
    },
    {
     "name": "stderr",
     "output_type": "stream",
     "text": [
      " 33%|███▎      | 16/49 [00:36<01:12,  2.20s/it]\u001b[A"
     ]
    },
    {
     "name": "stdout",
     "output_type": "stream",
     "text": [
      "Content: \n",
      "그런건 따로 명칭없나? 개뽐뿌오는데  - dc official App\n",
      "\n",
      "Comment: 카본\n",
      "Comment: 명칭 있음 ”저퀄“ 팔아먹기 좋게 포장하면 ”카본“\n",
      "Comment: 걍 저퀄이지 카본 ㅇㅈㄹ하는데 있으면 거기서는 입양하면 안됨\n"
     ]
    },
    {
     "name": "stderr",
     "output_type": "stream",
     "text": []
    },
    {
     "name": "stdout",
     "output_type": "stream",
     "text": [
      "Content: \n",
      "ㅇ  - dc official App\n",
      "\n",
      "Comment: 크레  - dc App\n"
     ]
    },
    {
     "name": "stderr",
     "output_type": "stream",
     "text": []
    },
    {
     "name": "stdout",
     "output_type": "stream",
     "text": [
      "Content: \n",
      "뱀 데려오여 하려고 좀 알아봤는데 감당안되서싱싱한 생선 한마리로 만족하기로 함 \n",
      "\n",
      "Comment: ?\n",
      "Comment: 죽은거같은데?\n"
     ]
    },
    {
     "name": "stderr",
     "output_type": "stream",
     "text": [
      "\n"
     ]
    },
    {
     "name": "stdout",
     "output_type": "stream",
     "text": [
      "Content: \n",
      "아무리봐도 쉘롯인거같은데 수족관에 환불하면안봐도 걍 방치할거같아서좀따 수족관 오픈하면 데리고가서 상태 보여주고데려왔던 가격의 절반만 환불받고 내가 데려와서 케어하려고하거든 쉘롯 완치경험 많음휴.. 잘 보고 데려왔어야되는데 못봤네 ㅜ\n",
      "\n",
      "Comment: 크 멋있다 어케보면 게이가 그 레이저백 데려가서 걔는 그래도 살 수 있는 운명 지닌거임  - dc App\n",
      "Comment: 게이야 멋있노\n"
     ]
    },
    {
     "name": "stderr",
     "output_type": "stream",
     "text": [
      " 41%|████      | 20/49 [00:44<01:02,  2.17s/it]\u001b[A"
     ]
    },
    {
     "name": "stdout",
     "output_type": "stream",
     "text": [
      "Content: \n",
      "디스플레이용 케이지를 사육용 케이지로 출시한다니까 댓글 달린 거 봐라ㄷㄷ 저기서 인간적으로 생명체를 어케 키우냐? 진심 크레판은 유독 파양판에서도 적재형 사육이 제일 당연하게 받아지는 최악의 쓰레기 집합소인듯. 걍 크레판 다 망해버리길. 왜 크레판은 죄다 이꼬라지냐\n",
      "\n",
      "Comment: 저것도 공간 아까움...\n",
      "Comment: 크레공장들 메이킹기계 돈앞에서 이성잃음이번에 디ㅇ렙 업체 크레 마리당 2100에 파는 거 봄?\n",
      "Comment: 빡통들 천지노\n",
      "Comment: 역한 주댕이 보고 ㅋㅍ인지 바로 알았다ㅋㅋㅋ 역시는 역시네~ 주딩이로는 파충류 문화 어쩌고 하지ㅋㅋ 역시 그냥 ㅆㄹㄱ였음ㅎ\n"
     ]
    },
    {
     "name": "stderr",
     "output_type": "stream",
     "text": []
    },
    {
     "name": "stdout",
     "output_type": "stream",
     "text": [
      "Content: \n",
      "제목 그대로다 21년 11월 암확으로 낙찰 받았는데 24년 8월 지금까지 키워보니 수컷인데 환불 가능할까? \n",
      "\n",
      "Comment: 아니근데 그정도 키웠는데 이제 알았다는게 ... 뭐 얘기하면 해주긴 하겠다만 나같으면 이제 3년동안 키운 개체인데 그냥 키울듯\n",
      "Comment: 그 정도면 걍 키워라 자식아\n",
      "Comment: 연락해서 부분환불이라듀 받으셈\n"
     ]
    },
    {
     "name": "stderr",
     "output_type": "stream",
     "text": []
    },
    {
     "name": "stdout",
     "output_type": "stream",
     "text": [
      "Content: \n",
      "타투기술 배워라그다음 연구해서 연약한 파충류 피부에도 적용가능한 타투시술법을 개발해라똥퀄노말이 수백만원 호가하는애로 탈바꿈할수있음단 핸들링시 손도 이염됨ㅋㅋ\n",
      "\n",
      "Comment: 게이는 타투가 뭔질 모르는거 같은디\n",
      "Comment: ㄵ\n"
     ]
    },
    {
     "name": "stderr",
     "output_type": "stream",
     "text": []
    },
    {
     "name": "stdout",
     "output_type": "stream",
     "text": [
      "Content: \n",
      "파충류 모프중 하이포가 종에따라 열성일때 우성일때도 있던데 이게 정확히 우성인거임 열성인거임? 아님 내가 잘못 주워들은거임? 콘은 열성이라며? 크레는 우성이고? ㅁ뭐임? 그리고 하이포 특징이 뭔지 알려줄 사람 있음? 핑프라 미안한데 검색해도 이해가 안가서 그럼 넓은 아량으로 부탁한다 진짜 크레든 비어디든 콘이든 알려주라 \n",
      "\n",
      "Comment: ㄴㅇㅁ\n",
      "Comment: 하이포이요  - dc App\n",
      "Comment: 특정 유전자 형태를 하이포라고 부르는게 아닌, 각 종마다 다른 모프명을 하이포라고 부르는 거라고 보면 편합니다.예를 들어 비어디 에게서 나오는 특정 열성 모프를 하이포라고 부르는데, 옆동네 크레스티드게코 에게서 비슷하게 생긴 공우성 모프를 하이포 라는 모프명을 붙인다고 생각하면 편합니다.물론 파충류 모프 국룰은 하이포멜라니스틱은 열성 유전자이긴 합니다만, 결론적으로 모프명을 김치라고 부르든 아메리카노라고 부르든 하이포라고 부르든, 이름 붙인 사람이 결국 하이포라는 이름을 붙인겁니다  - dc App\n",
      "Content: \n",
      "냉뚤로 오래오래 키울 수 있어야한다 \n",
      "\n",
      "Comment: 냉뚤캔 가격봄? ㅗㅜㅑ던데\n",
      "Comment: ? 냉뚤이면 귀뚜라미를 냉장고에 처박아야 하는건데 그것부터가 혐오임 레게가 크레랑 유사하게 뜨려면 사료가 발전해야함\n",
      "Comment: 냉뚤로 사육해도 건강에 이상없고 사료로 키워도 번식 잘하고 잘 크던디\n"
     ]
    },
    {
     "name": "stderr",
     "output_type": "stream",
     "text": []
    },
    {
     "name": "stdout",
     "output_type": "stream",
     "text": [
      "Content: \n",
      "1 이미지 순서 ON2 이미지 순서 ON3 이미지 순서 ON4 이미지 순서 ON이런 소저형 쳇바퀴 놨는데 오고가는 동선에 배치했음 근데 가면서 헛바퀴도는게 짜증났는지 피해서 가더라.. 남들은 잘 쓰는데 왜..? 5 이미지 순서 ON6 이미지 순서 ON7 이미지 순서 ON8 이미지 순서 ON9 이미지 순서 ON10 이미지 순서 ON할말이 없아서 짤 올리기 11 이미지 순서 ON12 이미지 순서 ON - dc official App\n",
      "\n",
      "Comment: 넘 평평해서 그럴지도?굴곡지게 턱 만들어바바\n",
      "Comment: 저렇게 밥먹일때 쓰면 ㄹㅇ 개빡칠듯ㅋㅋㅋ 기냥 사육장 내 구조물로서는 적합하지 않을까..?\n"
     ]
    },
    {
     "name": "stderr",
     "output_type": "stream",
     "text": []
    },
    {
     "name": "stdout",
     "output_type": "stream",
     "text": [
      "Content: \n",
      "1 이미지 순서 ON2 이미지 순서 ON3 이미지 순서 ON4 이미지 순서 ON5 이미지 순서 ON다이어트 시킨답시고 귀뚤이 두마리씩만 주는데도 살이안빠진다;; 그리고 다른 레게에비해서 더 크기가 큰것같음 모프는 슈스디블 6 이미지 순서 ON7 이미지 순서 ON다른 슈스디블인데 얘는 체형이 딱 적당함 왜 쟤만 저러는지 모르겠음 8 이미지 순서 ON9 이미지 순서 ON슈스 화이트나이트 수컷 구해요  갠적으론 슈스디블보다 화이트나이트가 더 하얀듯  - dc official App\n",
      "\n",
      "Comment: 다이어트 안시켜도되요! 체형을 보면 몸보다 꼬리가 두꺼우니 엄청 잘키우신거에요~ 다이어트는 배만 살쪘을때 꼬리보다 몸통이 더 클때 그때 시키는거구 지금 너무 좋아요~!!  - dc App\n",
      "Comment: 꼬리 시발 ㅋㅋㅋ\n",
      "Comment: 통통하이\n",
      "Comment: 어휴 비만이고 아니고 구분을 못하네..   - dc App\n",
      "Comment: 얘네 성격은 어때??? 블리자드치곤 얌전해 버인다 - dc App\n"
     ]
    },
    {
     "name": "stderr",
     "output_type": "stream",
     "text": []
    },
    {
     "name": "stdout",
     "output_type": "stream",
     "text": [
      "Content: \n",
      " 근데 니네 좆목방에서 일어난일을 알아야함? - 야옹이 갤러리진짜 몰라서 물어봄 좆월묘주고 평택시 검버섯이고 뭐고간에 알게뭐임? 니네 좆목방에서 일어난거 왜알아야함?? 나진짜몰라서물어보는거임m.dcinside.com 그러니까 - 야옹이 갤러리지들끼리 단톡방팠는데 거기 냥갤에서도 활동하는 멘쿤 파딱이 있었음 얘가 다른 묘주네 고양이 심장병 걸렸다니까 캐터리산 아니고 펫샵이라그럼 이러면서 조롱하고 모 고닉 싫다 저격함 그리고 톡방에서 님 꼴봬기싫으니 꺼져 이m.dcinside.com1 이미지 순서 ON2 이미지 순서 ON3 이미지 순서 ON4 이미지 순서 ON\n",
      "\n",
      "Comment: 니들 고닉 냥갤와서 설치는데 좀 데려가주세요\n",
      "Comment: 무고 안당하고 깔끔하게 먹버한 슈스 레전드네\n",
      "Comment: 아이고 관심없다\n",
      "Comment: 쟤 진짜 정신에 좀 문제있냐? ㅋㅋ\n"
     ]
    },
    {
     "name": "stderr",
     "output_type": "stream",
     "text": []
    },
    {
     "name": "stdout",
     "output_type": "stream",
     "text": [
      "Content: \n",
      "아 ㅆㅂ련 짜증나게 하네 레게는 파충류 아니냐??? 니는 뭐키우길래 저 좃ㅂㅅ짓 하고 다님 존나 꼴사납네 크레 키우는거면 그냥 비응신이 맞음 차단 쳐박는다 비응신 대방어 대가리새끼 육각렌치로 댜가리 쪼여주고 싶네 씨바랄련  - dc official App\n",
      "\n",
      "Comment: ㄷㄷ.. 병원가보시는기  - dc App\n",
      "Comment: 니가 참아\n",
      "Content: \n",
      "마구마구 조물딱거리고 싶지만 방금 밥먹었으니 참겠다\n",
      "\n"
     ]
    },
    {
     "name": "stderr",
     "output_type": "stream",
     "text": []
    },
    {
     "name": "stdout",
     "output_type": "stream",
     "text": [
      "Content: \n",
      "옆에 선풍기도있고 컴퓨터도 있어서 시끄러우ㅏ사 스트레스받는지 바닥재 물어뜯어서 바닥 엉망되고 마음에안드나... 키친타월인데 배고파서 그런건가.. 나 쳐다보고   - dc official App\n",
      "\n",
      "Comment: 온습도만 맞으면 안 좋을건 없어보이는데\n",
      "Comment: 전기장판 안 보이네\n",
      "Comment: 컴퓨터 소음은 거슬릴듯\n"
     ]
    },
    {
     "name": "stderr",
     "output_type": "stream",
     "text": []
    },
    {
     "name": "stdout",
     "output_type": "stream",
     "text": [
      "Content: \n",
      "다른 행사와 같은날에 연다는 소식대 행사시대\n",
      "\n",
      "Comment: 9월 아님?  - dc App\n",
      "Comment: 크레팔이 업체들 풀칠 하러 출격\n",
      "Comment: 대전이랑 같은날 행사도 고려해봐\n"
     ]
    },
    {
     "name": "stderr",
     "output_type": "stream",
     "text": []
    },
    {
     "name": "stdout",
     "output_type": "stream",
     "text": [
      "Content: \n",
      "병먹금 ㅋㅋㅋㅋㅋㅋㅋㅋㅋㅋㅋㅋㅋㅋㅋㅋㅋㅋㅋㅋㅋㅋㅋㅋㅋㅋ목소리는 왜떨었어?? ㅋㅋㅋㅋㅋㅋㅋㅋㅋ걍 주댕이 그만털고 야차룰 가자~~ㅋㅋㅋㅋㅋㅋㅋㅋ\n",
      "\n",
      "Comment: ㅋㅋㅋㅋㅋㅋㅋㅋㅋㅋㅋㅋ 실업자 - dc App\n",
      "Comment: 겁쟁이였냐?  - dc App\n",
      "Comment: ㅋㅋㅋㅋㅋ 파충류알공장브리더에서 방구석 주식코인전문가로 전직\n",
      "Comment: 둘이 야차룰로 붙으면 안되나\n",
      "Comment: 둘 다 서로 도움 1도 안되는데 저 ㅈㄹ 하는거 보면 대충 어떤 인생인지 보인다 ㅋㅋ 부스 얼씬도 안해야지\n",
      "Comment: 헤비는 좀 감정이 너무 앞서서...설득력이 떨어짐\n",
      "Comment: 헤비 돈도없어 거지야 사업망해 ㅋㅋ야차룰 함 하자 왜까불고댕겨 여기가 니앞마당이여?너빨아주는애들있으니까 영웅심리생겨?왜찻집에선 까불더니 입꾹닫하고 있냐  - dc App\n",
      "Comment: 댓글만 보면 둘다 머저리 같은데\n",
      "Comment: 헤비는 항상옳음 정상인들전부헤비편임 헤비까는ㅅㄲ들 전부 업자들\n",
      "Comment: 누가 옳소 그르고를 떠나서 좀 일방적인 딜교긴 하네 ㅋㅋㅋㅋㅋ\n",
      "Comment: ㅅㅂ 떨었다고 ..? ㅎㅂ야 믿었는데 ㅡㅡ 파양갤에선 여포더니 ㅠ\n",
      "Comment: https://m.dcinside.com/board/reptile/811078\n",
      "Comment: 무서움ㅜㅜ\n",
      "Content: \n",
      "\n",
      "\n",
      "Comment: 근데 텐저린 데려온 이유가 머임?\n",
      "Comment: 존나 이쁘게 꾸몄네  - dc App\n"
     ]
    },
    {
     "name": "stderr",
     "output_type": "stream",
     "text": []
    },
    {
     "name": "stdout",
     "output_type": "stream",
     "text": [
      "Content: \n",
      "다흑피셜 같은날이나 전 주에 행사 연다고함 ㅋㅋ더쥬가서 직접 들었음\n",
      "\n",
      "Comment: 다흑이 거기 싫어함 강동 모샵  - dc App\n",
      "Comment: 더쥬에서 하는 애니멀포럼은 9월 22~23일임\n"
     ]
    },
    {
     "name": "stderr",
     "output_type": "stream",
     "text": []
    },
    {
     "name": "stdout",
     "output_type": "stream",
     "text": [
      "Content: \n",
      "하얀애는 습은 좋아하는데 노란애는 그냥 높은데가 좋은지 올라만 가고 안들어간다근데 이거 쓰는 동안 노란애 처음으로 습은 들어감...\n",
      "\n",
      "Comment: 베이비 끼리 합사 안 좋다 들었는데 ㄱㅊ?  - dc App\n"
     ]
    },
    {
     "name": "stderr",
     "output_type": "stream",
     "text": [
      "\n"
     ]
    },
    {
     "name": "stdout",
     "output_type": "stream",
     "text": [
      "Content: \n",
      "좀 허연애들이 사납나보네 \n",
      "\n",
      "Comment: 개체 바이 개체인데 머피가 조금 더 지랄맞은 느낌  - dc App\n",
      "Comment: 레오파드 게코 마이너 갤러리로\n",
      "Comment: 내가 데리고 있는놈은 존나 무던한데\n"
     ]
    },
    {
     "name": "stderr",
     "output_type": "stream",
     "text": [
      " 76%|███████▌  | 37/49 [01:22<00:25,  2.15s/it]\u001b[A"
     ]
    },
    {
     "name": "stdout",
     "output_type": "stream",
     "text": [
      "Content: \n",
      "ㅇㅇ\n",
      "\n"
     ]
    },
    {
     "name": "stderr",
     "output_type": "stream",
     "text": []
    },
    {
     "name": "stdout",
     "output_type": "stream",
     "text": [
      "Content: \n",
      "누가 더 살릴 가치있냐? - dc official App\n",
      "\n",
      "Comment: 독사는 생태계라도 수호하는데 레몬이는 산소 더 씀  - dc App\n",
      "Comment: 막 태어난 살모사랑 해도 누가 이길지 예상이 안 된다ㄷ\n",
      "Content: \n",
      "1 이미지 순서 ON2 이미지 순서 ON3 이미지 순서 ON4 이미지 순서 ON오랜만에 사진 찍는데 많이도 컸네 이제 큰사육장으로 다 바꿔줘야겠다. 건강하게만 커라 씹련들~  - dc official App\n",
      "\n",
      "Comment: 두번째는 모프 뭐야? 이쁘다\n",
      "Comment: 블랙나이트갤럭시썬글로우 풀캐롯물대신 바나나 우유 먹은 블리자드?\n",
      "Comment: ㄷㄷ 3번4번 모프좀 개이쁘당\n",
      "Comment: 레오파드 게코 마이너 갤러리로\n"
     ]
    },
    {
     "name": "stderr",
     "output_type": "stream",
     "text": []
    },
    {
     "name": "stdout",
     "output_type": "stream",
     "text": [
      "Content: \n",
      ".\n",
      "\n",
      "Comment: 케바케라 소용량사서 테스트해봐\n",
      "Comment: 저건 뜨거운 물로 배합해야돼서 번거롭고 푸디파이가 좀 더 만들기 편함\n",
      "Comment: 이번에 한방애 레게좋아인가 그거 기호도 엄청 좋더라  - dc App\n"
     ]
    },
    {
     "name": "stderr",
     "output_type": "stream",
     "text": []
    },
    {
     "name": "stdout",
     "output_type": "stream",
     "text": [
      "Content: \n",
      "\n",
      "\n",
      "Comment: 뭔들 크좆보단 이뿌지\n",
      "Comment: 얜머노\n"
     ]
    },
    {
     "name": "stderr",
     "output_type": "stream",
     "text": []
    },
    {
     "name": "stdout",
     "output_type": "stream",
     "text": [
      "Content: \n",
      "블루테구 삽나 유로 비어디 블킹 레게 액키 크레 해봤는데 레게가 짱이야 레게만 키울래 \n",
      "\n",
      "Comment: 스오야 내 애기들도 볼래?\n",
      "Comment: 레오파드 게코 마이너 갤러리로\n"
     ]
    },
    {
     "name": "stderr",
     "output_type": "stream",
     "text": []
    },
    {
     "name": "stdout",
     "output_type": "stream",
     "text": [
      "Content: \n",
      "랜덤으로 받았는데 밑에는 알비노 같은데 위에는 색깔이 애매해서 뭔지 모르겠음. 그리고 지금 꼬리흡수단계인데 7일 지나고 밥주면 되는거맞음?\n",
      "\n",
      "Comment: 오즈베리 슈퍼 아잔틱알비노 팩맨\n",
      "Comment: 부랄같내  - dc App\n",
      "Content: \n",
      "밥을 매일줘서그런가 잡는데 그립감이 애 배 존나똥똥해짐 뒷다리에도 살 붙기 시작하고 \n",
      "\n",
      "Comment: 못생겻오\n",
      "Comment: 얼마나 먹인거야...\n"
     ]
    },
    {
     "name": "stderr",
     "output_type": "stream",
     "text": []
    },
    {
     "name": "stdout",
     "output_type": "stream",
     "text": [
      "Content: \n",
      "쉬쉬 하면서 정리중이라고 하더라  이와중에 제일 마지막까지 크레만 들고있는  너는 뭐다?  쓰레기통  구라같지? ㅋ 그럼 너주변을 다시봐라  그럼 니가 돈써서 만나주는 사장들뿐일걸 ㅋ  - dc official App\n",
      "\n",
      "Comment: 정리할수 밖에 없지 너무 기형적으로 빨리 올라왔어   - dc App\n",
      "Comment: 우리톡방에도 그런눈치더라ㅇㅇ말이랑 행동이다름 빨리 분양해서 없애려는눈치임\n",
      "Comment: 정리해야지 이제 좀 빠질때가 되었어\n"
     ]
    },
    {
     "name": "stderr",
     "output_type": "stream",
     "text": []
    },
    {
     "name": "stdout",
     "output_type": "stream",
     "text": [
      "Content: \n",
      "ㅇㅇ  - dc official App\n",
      "\n",
      "Comment: 개씹 하타치임동농에 크레공장 제보해야함 ㅋㅋ\n"
     ]
    },
    {
     "name": "stderr",
     "output_type": "stream",
     "text": []
    },
    {
     "name": "stdout",
     "output_type": "stream",
     "text": [
      "Content: \n",
      "안녕 나한테 마약 루트 알고있으면 구해달라하며 전화로 알려달라고 한 업자…. 시골가보는게 어때나보고 정병 가스라이팅 ㅇㅈㄹ하면서 파양갤 디씨 단톡방에서 컨셉이 반말 이여서 사회에서 갑자기 반말 찍찍대며 생물 정리하는거 싸게 달라해서나도 똑같이 디씨 단톡방에서 욕하듯이 하니 지혼자 뜨끔 쳐하고 정병 ㅇㅈㄹ하는 업자들…지가 하는 행동들은 ㅈ도 생각안하고 지 쳐 당한거만 생각하는 전형적인.사기꾼 마인드 업자들아또 니네들끼리 단톡방에서 이러겠지 헤비 정병이다…이런 여론 만드는 병신들그거 아냐 애들아 여기 부정적인 댓다는 븅신들 업자인데 ㅈㄴ 떳떳하지 못하고 은근 네임드라고 하는 새끼들인거ㅋㅋㅋㅋ사기꾼들이니까 어떻게든 뒤에서 그리 쳐하는거지 뭐… 지네들도 아니까 ㅋㅋㅋ에휴 애들아 사기꾼들한테 낚이지마라 꼽음 실명제하라하면 다들 ㅂㅅ같은 욕이나 한다ㅋㅋㅋㅋㅋ\n",
      "\n",
      "Comment: 손뗐는데 시원하게 녹취록 대화내역 올리고 실명까셈욕박고 선동하는거 알공장들인거 알고있는데 그새끼가 맞는지 궁금함ㅋㅋ\n",
      "Comment: 정상인들은 전부 형편이야 형힘내\n",
      "Comment: 마약이랑 시골이랑은 뭔 연관임\n"
     ]
    },
    {
     "name": "stderr",
     "output_type": "stream",
     "text": [
      "100%|██████████| 49/49 [01:47<00:00,  2.20s/it]\n",
      " 55%|█████▌    | 16/29 [29:37<23:21, 107.83s/it]"
     ]
    },
    {
     "name": "stdout",
     "output_type": "stream",
     "text": [
      "Content: \n",
      "맞는 표기릴리 het(헷) 아잔틱 노멀 het(헷) 아잔틱릴리 50het(헷) 아잔틱노멀 50het(헷) 아진틱머가리 나쁜 애들 het 뒤에 들어간 열성이 아닌 우성 붙이는 바보쉑50헷 릴리100헷 노멀지능 박살 난애들 표기 헷 쓰고 퍼센티지쓰고 뒤에 우성붙이는 지능 박살난애들헷 50 릴리 헷 100 릴리 제발 모르면 쓰질말든가 쓸꺼면 알고 쓰든가\n",
      "\n",
      "Comment: 그거 알고 풀발기 메이팅 하겠음? 그냥 ㅈㄴ 시키는 거지\n"
     ]
    },
    {
     "name": "stderr",
     "output_type": "stream",
     "text": []
    },
    {
     "name": "stdout",
     "output_type": "stream",
     "text": [
      "Content: \n",
      "크레 컬러링북 박람회가 맞지?\n",
      "\n"
     ]
    },
    {
     "name": "stderr",
     "output_type": "stream",
     "text": []
    },
    {
     "name": "stdout",
     "output_type": "stream",
     "text": [
      "Content: \n",
      "레게붐은 오는가...\n",
      "\n",
      "Comment: 그럴리가\n",
      "Comment: 여기도 요즘 레게글이 늘었어\n"
     ]
    },
    {
     "name": "stderr",
     "output_type": "stream",
     "text": []
    },
    {
     "name": "stdout",
     "output_type": "stream",
     "text": [
      "Content: \n",
      "ㅋㅋㅋㅋㅋ디렉터가 괜히 있겠냐ㅋㅍㄱㅋㅋㅋㅋㄱㅋㅋㅋ\n",
      "\n"
     ]
    },
    {
     "name": "stderr",
     "output_type": "stream",
     "text": [
      "\n"
     ]
    },
    {
     "name": "stdout",
     "output_type": "stream",
     "text": [
      "Content: \n",
      "이거보고 김치로 정함 김치닮음\n",
      "\n",
      "Comment: 종갓집이구만\n",
      "Comment: 레오파드 게코 마이너 갤러리로\n"
     ]
    },
    {
     "name": "stderr",
     "output_type": "stream",
     "text": [
      "  8%|▊         | 4/49 [00:10<01:52,  2.50s/it]\u001b[A"
     ]
    },
    {
     "name": "stdout",
     "output_type": "stream",
     "text": [
      "Content: \n",
      "1 이미지 순서 ON2 이미지 순서 ON3 이미지 순서 ON3.5자에서 습은, 먹이 그릇 못찾아서보름동안 굶은 새끼..얼굴에 탈피껍질 붙이고 한쪽눈 못뜨고 있는 새끼..개 좆 빡 통 씹 코\n",
      "\n",
      "Comment: 니가 ㅂㅅ인거 같은데?  - dc App\n",
      "Comment: ㅅㅂ 레전드\n",
      "Comment: 집 별로임\n"
     ]
    },
    {
     "name": "stderr",
     "output_type": "stream",
     "text": [
      "\n"
     ]
    },
    {
     "name": "stdout",
     "output_type": "stream",
     "text": [
      "Content: \n",
      "- dc official App\n",
      "\n"
     ]
    },
    {
     "name": "stderr",
     "output_type": "stream",
     "text": [
      " 12%|█▏        | 6/49 [00:15<01:43,  2.40s/it]\u001b[A"
     ]
    },
    {
     "name": "stdout",
     "output_type": "stream",
     "text": [
      "Content: \n",
      "일반인들 입장에서 보면63빌딩, 코엑스 갔는데, 출구쪽 구쯔판매가 70프로고생물 구경은 20~30프로면 질릴듯ㅋㅋㅋ최소한 크레만 파는 곳이면, 각 업체만의 제품이라도 있든가뭐 없으면 적어도 구쯔나 기념품, 카탈로그라도ㅋㅋ주구장창 자기네 돈되는거만 늘어놓는데, 다 똑같으면 기억에도 안남고, 뭐 특색이라도 있어야 기억에 남고 재방문 할거 아님..ㅎ영세 업체라도 작은 노력 흔적이라도 있으면 좋겠음ㅇㅇ\n",
      "\n",
      "Comment: 형 오늘도 풀발기 크레숫 메이팅시키고 있는 거 아니지?\n"
     ]
    },
    {
     "name": "stderr",
     "output_type": "stream",
     "text": []
    },
    {
     "name": "stdout",
     "output_type": "stream",
     "text": [
      "Content: \n",
      "아 모르겠고 사람 ㅈㄴ많고 크레 ㅈㄴ많고 가족 ㅈㄴ많이오고비주류 ㅈㄴ없고  살사람은 사고 내 돈은 없고 걍 꼴리는대로 살고한잔해\n",
      "\n",
      "Comment: 크레 팔린만큼 호구 다시 잡으려고 오늘밤 크레공장 억지 메이팅 ㅈㄴ 시작개불쌍이게 진짜 파충류 사랑 맞냐?ㅅㅂㅋㅋㅋㅋ\n",
      "Comment: 비주류 많던데 눈이 없나봄\n"
     ]
    },
    {
     "name": "stderr",
     "output_type": "stream",
     "text": [
      "\n"
     ]
    },
    {
     "name": "stdout",
     "output_type": "stream",
     "text": [
      "Content: \n",
      "브리딩 가능함?\n",
      "\n"
     ]
    },
    {
     "name": "stderr",
     "output_type": "stream",
     "text": [
      " 18%|█▊        | 9/49 [00:22<01:33,  2.33s/it]\u001b[A"
     ]
    },
    {
     "name": "stdout",
     "output_type": "stream",
     "text": [
      "Content: \n",
      "올바른 한표 부탁드립니다\n",
      "\n",
      "Comment: 열원 씀? 쓴다면 상부? 하부?\n",
      "Comment: 하단은 측정할거면 자외선온도계 ㄱㄱ   - dc App\n"
     ]
    },
    {
     "name": "stderr",
     "output_type": "stream",
     "text": []
    },
    {
     "name": "stdout",
     "output_type": "stream",
     "text": [
      "Content: \n",
      "쉭쉭거리는건 쫄아있는거죠?밥먹을땐 조용하죠?\n",
      "\n",
      "Comment: 뱀 얘기야?\n",
      "Comment: 모니터?\n"
     ]
    },
    {
     "name": "stderr",
     "output_type": "stream",
     "text": []
    },
    {
     "name": "stdout",
     "output_type": "stream",
     "text": [
      "Content: \n",
      "1마리 데려올계획이고 돈은 20만원 정도 쓸수있습니다 그거보다 중요한건 데려오고 난 후 인데 각각 장단점 알려주세요 특히 똥이나 냄새 관련해서 궁금해요\n",
      "\n",
      "Comment: 볼파가 똥 냄새는 더많이 난다는데 콘스라고 냄새 안나는건 아님\n",
      "Comment: 예산 20이면 쟤네보다 블킹이 딱인디\n",
      "Comment: 냄새는 볼파가 덩치가 더크니까 똥도 더 많아서 나는거지 별차이없음볼파-크고 동글동글 볼살 귀여움 겁많긴해도 순함콘스-작음,순함\n",
      "Comment: 너가좋아하는 외형으로 데려와~\n",
      "Content: \n",
      " - dc official App\n",
      "\n",
      "Comment: 싸가지없게생겼네 좀 버려ㅕ라\n",
      "Comment: 얼마노\n",
      "Comment: 부럽노\n",
      "Comment: 귀여워\n"
     ]
    },
    {
     "name": "stderr",
     "output_type": "stream",
     "text": []
    },
    {
     "name": "stdout",
     "output_type": "stream",
     "text": [
      "Content: \n",
      "제곧내\n",
      "\n",
      "Comment: 유혈? 목이?\n",
      "Comment: 유혈목이\n",
      "Content: \n",
      "수컷도 대려올까 고민중 \n",
      "\n",
      "Comment: 이제 새끼면서 벌써 알공장 차릴려하노 텐져린따리라 굳이 메이팅 해야되냐\n",
      "Comment: 블러드 ㄱㄱ\n"
     ]
    },
    {
     "name": "stderr",
     "output_type": "stream",
     "text": []
    },
    {
     "name": "stdout",
     "output_type": "stream",
     "text": [
      "Content: \n",
      "커어 \n",
      "\n"
     ]
    },
    {
     "name": "stderr",
     "output_type": "stream",
     "text": []
    },
    {
     "name": "stdout",
     "output_type": "stream",
     "text": [
      "Content: \n",
      "박람회랍시고 도마뱀팔이하는거 다른곳에서도 많이 했는데 이번처럼 반응 씹창난건 처음 봄\n",
      "\n",
      "Comment: 서울은 진짜 3일장이었거든\n",
      "Comment: 일반인들이 많이 왔어\n",
      "Comment: 국제양서파충 전에서도 크레만 ㅈㄴ팔면욕오지게 먹을 듯\n",
      "Comment: 파충류를 모르는 일반인이 엄청 많았다더라. 글고 이벤트나 무대가 아예없고 휴게존은 가려져 있다보니 기억에 남는건 오로지 분양이라는 이미지\n",
      "Comment: 시골사람들이라 수도권 행사도 보통 그런지 몰랐는듯ㅎ\n",
      "Comment: 대전이 원래 짠 동네임 지자체에서 진행하는 무료 행사가 ㅈㄴ많은데 시발 6천원이나 내고 갔는데 저러니 뿔났지 뭐\n",
      "Content: \n",
      " 뱀 키우는 애들은 다 이런가? 진짜 대단하다 \n",
      "\n",
      "Comment: 자이비<< 리키글 80만원에 낚아서들어가면 950만원짜리 개씹 호구 기다리는프로 낚시왕\n"
     ]
    },
    {
     "name": "stderr",
     "output_type": "stream",
     "text": []
    },
    {
     "name": "stdout",
     "output_type": "stream",
     "text": [
      "Content: \n",
      "장롱 위에 불투명 리빙박스 올려놓고 귀뚜라미 키울생각중(200~300마리정도)성충직전 수컷들은 전부 픽시한테 투여해서 싹다 없애고 나머지 애들만 조용히 먹일건데몰래 키우기 가능함?걸리면 쫓겨날듯\n",
      "\n",
      "Comment: 무조건 걸리니 걍 당당히 길러라..\n",
      "Comment: 악담은 아닌데, 최악의 경우에는 너가 원치 않게 실수로 엎지르면서 사방에 튀게 될거임.. 숨기는건 어떻게든 탄로나게 되어있더라 ㅠ\n",
      "Comment: 냄새 존나남\n",
      "Comment: 가족이 귀뚜리 존재자체도 모르게 키워봄. 만약 글쓴이 부모가 글쓴이 방에 잘 안들어가면 어느정도 가능. 30~50마리면 쌉가능이긴 한데 200~300마리를 '몰래' 관리하는건 글쎄다.. 신규 수컷성충 나올때마다 자주 살펴서 날개 잘라야함. 귀뚜리 200~300만큼 필요할 정도면 파충류를 절대 몰래 키울 수 있는 규모는 아닌데?\n"
     ]
    },
    {
     "name": "stderr",
     "output_type": "stream",
     "text": []
    },
    {
     "name": "stdout",
     "output_type": "stream",
     "text": [
      "Content: \n",
      "크레는 냉뚜리 주면 진짜 미친새끼들마냥 달려들던데 레게는 어떠노? \n",
      "\n",
      "Comment: 아무거나 다 잘먹어\n",
      "Comment: 좀 익숙해지면 잘 먹음\n",
      "Comment: 케바케 ㅇㅇ\n",
      "Content: \n",
      "키우고 있는 비주류 한마리라도 인증하고 까라크레밖에 없다고 징징댈꺼면 가질 말던가더 보고 싶으면 동물원을 가던가가놓고는 징징거리노누가 가서 구경하라고 칼들고 협박함?\n",
      "\n",
      "Comment: 싸장뉨 크레퀄 좋구려요우\n",
      "Comment: 크레 집단돌연사 기원\n",
      "Comment: 딸배 예정자내  - dc App\n",
      "Comment: 사장님 크레만 키우시나요? 어디샵알바세요?\n",
      "Comment: 크평ㅋㅋ\n",
      "Comment: 갔으니까 징징대지 안가고 징징대나\n",
      "Comment: 박람회랑 시장이랑 구분 좀 해라\n",
      "Comment: 박람회 =  광고, 홍보 ( 돈을 쓸 생각이 있어야 함)\n",
      "Comment: 박람회 : 홍보, 광고 ( 돈을 쓸 생각을 어느 정도는 해야 함 ) / 신규 거래처 발굴 , 내 개체 홍보, 인지도 상승시키기장  터  : 판매목적,  수익 창출.박람회라고 이름 붙였음 어느 정도는 해야지 박람회에 수익이 1목적이라는건.ㅋㅋㅋㅋㅋ\n",
      "Comment: 크레 하나도 안기르고 비주류만 기르면 욕해도 ㅇㅈ인거지?\n"
     ]
    },
    {
     "name": "stderr",
     "output_type": "stream",
     "text": [
      "\n",
      " 45%|████▍     | 22/49 [00:53<01:05,  2.41s/it]"
     ]
    },
    {
     "name": "stdout",
     "output_type": "stream",
     "text": [
      "Content: \n",
      "ㄹㅇ  - dc official App\n",
      "\n",
      "Comment: 이름뭐노\n",
      "Comment: 머리만 둥둥떠다니게 미용해놧노 ㅋㅋㅋ\n",
      "Comment: 개가 참 귀엽게 생겼네요\n",
      "Comment: 한번 삶았냐?\n",
      "Comment: 포징 좀 치누 ㅋㅋ\n"
     ]
    },
    {
     "name": "stderr",
     "output_type": "stream",
     "text": [
      "\u001b[A"
     ]
    },
    {
     "name": "stdout",
     "output_type": "stream",
     "text": [
      "Content: \n",
      "부산 센텀시티 주변에서 볼파 노멀 입양가능한 파충류샵 있나요?입문자라 서류관련 한것들은 잘 모르겠어서 샵에서 분양하려는데네이버에 주위 파충류샵들을 쳐보니 이름과 위치만 뜨고 사진,관련 정보들은 적어서 다른 샵들을 알아보려하니 너무 멀리있네요 부산 센텀시티 주위 볼 파이톤 노멀 데려올수있는 파충류샵 아시는분\n",
      "\n"
     ]
    },
    {
     "name": "stderr",
     "output_type": "stream",
     "text": []
    },
    {
     "name": "stdout",
     "output_type": "stream",
     "text": [
      "Content: \n",
      "급떨이 하는거 보니 양서류 시작은 한계가 심각함 - dc official App\n",
      "\n",
      "Comment: ㅇㄷ?\n",
      "Comment: 나무타는 개구리 조심해라 똥폭탄에 냄새 폭팔이라 결혼한 남자라면 이혼대상감\n"
     ]
    },
    {
     "name": "stderr",
     "output_type": "stream",
     "text": [
      "\n"
     ]
    },
    {
     "name": "stdout",
     "output_type": "stream",
     "text": [
      "Content: \n",
      "레게만 키워보다 양서류도 도전하고싶은데 북방산 개구리 키우려면 집적 채집밖에 답이없는거임?\n",
      "\n",
      "Comment: 인터넷에 팜\n"
     ]
    },
    {
     "name": "stderr",
     "output_type": "stream",
     "text": [
      " 51%|█████     | 25/49 [01:00<00:56,  2.36s/it]\u001b[A"
     ]
    },
    {
     "name": "stdout",
     "output_type": "stream",
     "text": [
      "Content: \n",
      "꺼내면 승천하는 똥뱀 키워라\n",
      "\n",
      "Comment: 지티피는 진짜 예쁘노\n"
     ]
    },
    {
     "name": "stderr",
     "output_type": "stream",
     "text": []
    },
    {
     "name": "stdout",
     "output_type": "stream",
     "text": [
      "Content: \n",
      "옛날엔 존나 많았던 것 같은데 \n",
      "\n",
      "Comment: 좆목갤로 이주함\n",
      "Comment: 다 결혼하고 탈퍙 탈갤했을듯\n",
      "Comment: 다 업자좃목 밀수불법좃목인거 들통나서 버러우ㅇㅇ\n"
     ]
    },
    {
     "name": "stderr",
     "output_type": "stream",
     "text": [
      "\n"
     ]
    },
    {
     "name": "stdout",
     "output_type": "stream",
     "text": [
      "Content: \n",
      "원동기면허나 빨리 따라  내가 치킨 많이 시켜먹어줄게 새끼들아 ㅋ  - dc official App\n",
      "\n",
      "Comment: ㅋㅋㅋㅋㅋㅋㅋㅋㅋㅋㅋㅋㅋㅋㅋㅅㅂ\n",
      "Comment: 본업다있어서 괜춘\n"
     ]
    },
    {
     "name": "stderr",
     "output_type": "stream",
     "text": [
      " 57%|█████▋    | 28/49 [01:07<00:48,  2.30s/it]\u001b[A"
     ]
    },
    {
     "name": "stdout",
     "output_type": "stream",
     "text": [
      "Content: \n",
      "초등학교에서 안배웠냐?) \n",
      "\n",
      "Comment: 크레 모프 박람회\n",
      "Comment: 맞말추 크레만 팔거면서 제목은 ㅋㅋ\n",
      "Comment: 크레박람회…ㅅㅂ 보기만해도 가기싫어짐\n",
      "Comment: 크레 색깔놀이 박람회가 딱임\n",
      "Comment: 그래서 크레 말고 다른거 데려가긴함?\n"
     ]
    },
    {
     "name": "stderr",
     "output_type": "stream",
     "text": []
    },
    {
     "name": "stdout",
     "output_type": "stream",
     "text": [
      "Content: \n",
      "걍 푸드트럭 몰려가놓고 지들끼리 세계음식 박람회 ㅇㅈㄹ하는거임 ㅇㅇ그리고 일주일뒤에 다른곳으로 장소옮겨서 또 박람회랍시고 물건팔고\n",
      "\n",
      "Comment: ㅇㅂ ㅋㅋ\n",
      "Comment: 쌉ㄹㅇ이네ㅅㅂㅋㅋㅋㅋㅋㅋ\n"
     ]
    },
    {
     "name": "stderr",
     "output_type": "stream",
     "text": [
      "\n"
     ]
    },
    {
     "name": "stdout",
     "output_type": "stream",
     "text": [
      "Content: \n",
      "커서 생각보다 안이쁜지 분양보내는데 잘 안나가네 ㅋㅋ들여온가격은 비싸고 커서 봤더니 그냥 10만원짜리같고 금액은 포기를 못하고.. 웃음벨트익이 더 이쁜듯\n",
      "\n",
      "Comment: 크레는 역시!\n",
      "Comment: 모자이크 왜 함?\n",
      "Comment: 그거 그냥 200마리중 10마리정도 이쁜거 아님?  - dc App\n",
      "Comment: 유모보단 노모  - dc App\n"
     ]
    },
    {
     "name": "stderr",
     "output_type": "stream",
     "text": [
      " 63%|██████▎   | 31/49 [01:14<00:42,  2.34s/it]\u001b[A"
     ]
    },
    {
     "name": "stdout",
     "output_type": "stream",
     "text": [
      "Content: \n",
      "볼거리랑 종류 훨씬다양한 식물쪽은 잘만붙이고 잘만파는데 왜 박람회 칭호에 집착하냐\n",
      "\n",
      "Comment: 있어보이잖아 한잔해\n",
      "Comment: 야생동물 파는건데 식물파는거랑은 좀 다른느낌인듯박람회라고 포장해야만 할거같음 마켙? ㅅㅂ 모란시장 개장수 이미지랑 비슷해짐  - dc App\n",
      "Content: \n",
      "크레가 대다수인것도 문제인데 막상 크레팔이들 머릿수 조절해서 가려받으면 부스 반도 못채움파우나 워터테일 이런데랑 뱀 레게업체 조금 빼면 죄다 크레팔이자나 크레 적당히있는 좀 구실하는 박람회 열려면다같이 힘모아서 반년에 한번정도나 열어야하는데 그게 되겠노\n",
      "\n",
      "Comment: 박람회로 돈 벌어야제!!\n",
      "Comment: 그게 오ㅐ 문제임?식자재 전문 마트에서 컴퓨터 안판다고 문제라고 하는거랑 똑같은 논리노\n"
     ]
    },
    {
     "name": "stderr",
     "output_type": "stream",
     "text": []
    },
    {
     "name": "stdout",
     "output_type": "stream",
     "text": [
      "Content: \n",
      "크레 몇마리 사서 번식한다고 ○○크레로 개업자영업 참 쉽다 그죠?병새들이 사장님 사장님 해주니까이제 크레판도 끝났어\n",
      "\n",
      "Comment: 10년 전 파양갤: 파양판 끝났다\n",
      "Comment: ㄹㅇ\n",
      "Comment: 진짜 오래한분들은 좋아졌다고하는데 대체..\n",
      "Content: \n",
      "변기통 드갈 운명인 저퀄 숫 적재통세트로 3만원 언저리에 재고떨이나 하지 이벤트열어서 몇몇은 걍 주고 \n",
      "\n"
     ]
    },
    {
     "name": "stderr",
     "output_type": "stream",
     "text": []
    },
    {
     "name": "stdout",
     "output_type": "stream",
     "text": [
      "Content: \n",
      "1 이미지 순서 ON2 이미지 순서 ON3 이미지 순서 ON 어떰????  503030인데 좀 작아보여 크면 바꿔줘야할지도 4 이미지 순서 ON 은신처 뒀더니 저 뒤에 들어감.. 5 이미지 순서 ON 이녀석집임 \n",
      "\n",
      "Comment: 레오파드 게코 마이너 갤러리로\n",
      "Comment: 한마리 쓰는데 50이면 괜찮은거 같음\n",
      "Comment: 나무넝쿨은 굳이..? 라는 생각이 든다 ㅋㅋ 레게에게 실용적이기 보다는 사육자 만족으로 넣어둔 느낌임 갠적으로 ㅇㅇ\n",
      "Comment: ㅋㅋ저기가 더 아늑해 보이긴하네\n"
     ]
    },
    {
     "name": "stderr",
     "output_type": "stream",
     "text": []
    },
    {
     "name": "stdout",
     "output_type": "stream",
     "text": [
      "Content: \n",
      "뭐든 급식갤 들어와서 혼자 무ㅓ 세상 깨우친거 마냥 ㅋㅋ븅신들 거리는것보단 낫지..?ㅋㅋㅋ\n",
      "\n",
      "Comment: 루카리오는 세상에 나온 지 몇 년이나 됐을까\n"
     ]
    },
    {
     "name": "stderr",
     "output_type": "stream",
     "text": []
    },
    {
     "name": "stdout",
     "output_type": "stream",
     "text": [
      "Content: \n",
      "왜 그러시지 ㅋㅋ \n",
      "\n",
      "Comment: 고라~ 빠크~~ 동입니다!  - dc App\n",
      "Comment: ㅋㅋㅋ ㅈㅇ\n"
     ]
    },
    {
     "name": "stderr",
     "output_type": "stream",
     "text": []
    },
    {
     "name": "stdout",
     "output_type": "stream",
     "text": [
      "Content: \n",
      "일반인들 낚아서 표팔아먹어야되는데 프리마켓이라고 하겠음???ㅈ같은게 뭐냐면 적어도 남들한테 피해는 주지말아야지남들 피해주면서까지 지 잇속챙기는게 문제 아님??그러니 사람들이 고퀄같지도 않은거 눈탱이치는걸로 욕하는거고경매도 부모개체 속여가며 경매하니 욕하는거고박람회라고 낚아서 표팔아먹으니 욕하는거아냐 병ㅅ들아내 아는 지인한테 간만에 연락와서 파충류행사 맞냐고 승질 ㅈㄴ내던데방송쪽에 일하는 친구인데 조만간 뭐하나 터지긴 할거임\n",
      "\n",
      "Comment: ㅋ ㅋ ㅋ 터지긴 뭘 터져 개웃기네\n",
      "Comment: 니가 방송일하는거 아니면 정신차려라..허세부리지말고..\n"
     ]
    },
    {
     "name": "stderr",
     "output_type": "stream",
     "text": []
    },
    {
     "name": "stdout",
     "output_type": "stream",
     "text": [
      "Content: \n",
      "바닥에 놔도 지들이 알아서 잘 먹음?  - dc official App\n",
      "\n",
      "Comment: ㅇㅇ 잘만먹음\n"
     ]
    },
    {
     "name": "stderr",
     "output_type": "stream",
     "text": [
      "\n"
     ]
    },
    {
     "name": "stdout",
     "output_type": "stream",
     "text": [
      "Content: \n",
      "근데 베타는 좆만한데 키울지언정 일단 애들 자체는 존나게 잘보여서 관상이라는 본연의 목적을 안잃어버렸는데  크레는 저따위로 키울거면 왜키우는지 모르겠다적재 쌓아놓으면 밥먹을때나 겨우 얼굴보는데 크레 여러마리 밥먹이면 애들 답답해가지고 개좆같아서 감정만 상할듯  \n",
      "\n"
     ]
    },
    {
     "name": "stderr",
     "output_type": "stream",
     "text": [
      " 84%|████████▎ | 41/49 [01:38<00:19,  2.44s/it]\u001b[A"
     ]
    },
    {
     "name": "stdout",
     "output_type": "stream",
     "text": [
      "Content: \n",
      "븅신들ㅋㅋ \n",
      "\n",
      "Comment: 틀\n",
      "Comment: 루카리오 알면 급식이 아니라 2~30대다 뭐라노\n",
      "Comment: 루카리오 나올정도면 20-30이라 잼민이한테 딸피소리듣는 세대요\n",
      "Comment: 개소리 함 했다가 개뚜드려맞노\n",
      "Comment: 과거에서 옴?\n",
      "Comment: 병신이냐? - dc App\n",
      "Content: \n",
      "철저하게 크레원툴이라 샵이라 치기도 뭣한 사육방 말고 그래도 얼추 구실은 하는 동네 샵만 가도 사장님들이 본인 사리사욕 채우려고 테구 액키 리키나 이런애들 비바 얼추 만들어서 박아놓고 여기에 돈많으면 육겁 방사장도 만들어놓는데 이정도만 해놔도 걍 앵간한 박람회랑 볼거리 비슷한수준임 저기서 반찬통 523개 널어놓음 그게 박람회거든 \n",
      "\n",
      "Comment: 그래도 대깨들 많이 감\n"
     ]
    },
    {
     "name": "stderr",
     "output_type": "stream",
     "text": [
      "\n"
     ]
    },
    {
     "name": "stdout",
     "output_type": "stream",
     "text": [
      "Content: \n",
      "ㅂㅅ \n",
      "\n",
      "Comment: ㅋㅋㅋ캬\n",
      "Comment: ㅋㅋㅋㅋㅋ\n",
      "Comment: ㅋㅋㅋㅋ\n",
      "Comment: ㅋㅋㅋㅋㅋㅋㅋㅋ\n"
     ]
    },
    {
     "name": "stderr",
     "output_type": "stream",
     "text": [
      " 90%|████████▉ | 44/49 [01:45<00:11,  2.32s/it]\u001b[A"
     ]
    },
    {
     "name": "stdout",
     "output_type": "stream",
     "text": [
      "Content: \n",
      "걍 임시로 다이소에서 항아리사옴\n",
      "\n",
      "Comment: 레오파드 게코 마이너 갤러리로\n"
     ]
    },
    {
     "name": "stderr",
     "output_type": "stream",
     "text": []
    },
    {
     "name": "stdout",
     "output_type": "stream",
     "text": [
      "Content: \n",
      "물릴 확률 큼? \n",
      "\n",
      "Comment: 항시 설사똥 싸게인게 제일 치명적임\n",
      "Comment: 수컷이 조금더 사나운 편인거같긴한데 케바케심함\n",
      "Comment: 난 두마리 키우고 지금 둘다 준성체 말 쯤 되는데 설사 싸는거 단 한번도 못봤음 근데 물리긴 몇번 물려서 피 난적 있음\n",
      "Comment: ㅇㅇ\n",
      "Comment: 형 리키 물리면 거의 악어하타치 수준\n"
     ]
    },
    {
     "name": "stderr",
     "output_type": "stream",
     "text": []
    },
    {
     "name": "stdout",
     "output_type": "stream",
     "text": [
      "Content: \n",
      "하 \n",
      "\n",
      "Comment: ㅈ뺑이쳐라ㅋㅋ\n",
      "Comment: 복귀하노ㅋㅋ\n",
      "Comment: ㅇㄷ?\n",
      "Comment: 거기가 집이잖아\n",
      "Comment: 우왕 나 부사관 됴와행\n"
     ]
    },
    {
     "name": "stderr",
     "output_type": "stream",
     "text": []
    },
    {
     "name": "stdout",
     "output_type": "stream",
     "text": [
      "Content: \n",
      "https://cafe.naver.com/reptilia/4247685?tc=shared_link\n",
      "\n",
      "Comment: 저럴바엔 택배박스에 키우는 것도 절약일듯\n",
      "Comment: 문신충 알공장은 대부분 저렇던데\n",
      "Comment: 문.신.\n",
      "Content: \n",
      "어제 블리자드 데리고 왔는데 얘네 성격 파탄자인 걸 이제 알음 ㅠㅠ- dc official App\n",
      "\n",
      "Comment: 레오파드 게코 마이너 갤러리로\n",
      "Comment: 블리자드랑 디아블로블랑코 얘네들이 성격 엄청 예민하다는데 또 하얀애들인 갤럭시애들은 순하더라\n"
     ]
    },
    {
     "name": "stderr",
     "output_type": "stream",
     "text": [
      "100%|██████████| 49/49 [01:57<00:00,  2.39s/it]\n",
      " 59%|█████▊    | 17/29 [31:35<22:11, 110.99s/it]"
     ]
    },
    {
     "name": "stdout",
     "output_type": "stream",
     "text": [
      "Content: \n",
      "파동인지 포동인지 개까이노..? ㅋㅋㅋ ㅠ \n",
      "\n",
      "Comment: 나 낭게인데 안ㄱㅊ\n"
     ]
    },
    {
     "name": "stderr",
     "output_type": "stream",
     "text": []
    },
    {
     "name": "stdout",
     "output_type": "stream",
     "text": [
      "Content: \n",
      "1 이미지 순서 ON2 이미지 순서 ON3 이미지 순서 ON도착하자마자 같이 사온 밀웜 계속 쳐다보길래 한 마리 줘봤드만 잘 먹음 ㅋㅋㅋ 크레도 한 마리 집어왔는데 레게는 10년 만이라서 너무 설렌다.. 레게 슈퍼푸드도 있길래 샀는데 잘 먹을라나?? 옛날엔 밀웜만 주고도 잘 키웠는데 밀웜만 주면 별로임?- dc official App\n",
      "\n",
      "Comment: 요즘 레게 인기가 다시 오르나?\n",
      "Comment: 비어디갤에도 인증 ㄱㄱ\n",
      "Comment: 크레 보다가 레게 보니 외모레는  눈이 중요하다는건 알겠네\n",
      "Comment: 레오파드 게코 마이너 갤러리로\n",
      "Comment: 모프머야 이쁘당\n",
      "Comment: 굿\n",
      "Comment: 슈푸 호불호 갈리긴 한데 어릴수록 붙임하기 쉽더라 ㅇㅇ 그리거 밀웜만 줘도 ㄱㅊ\n",
      "Comment: 레게 냉뚜리도 잘 먹음?움직여야 먹이반응 보이나\n",
      "Comment: 밀웜만 줄거면 것로딩, 더스팅 잘해주셈\n"
     ]
    },
    {
     "name": "stderr",
     "output_type": "stream",
     "text": []
    },
    {
     "name": "stdout",
     "output_type": "stream",
     "text": [
      "Content: \n",
      "일반인한테 파양판 = 크레코인판인거 인식시켜 줬으면 그 목적 훌륭하게 완수했다고 본다이제 파충류 키우는 새끼들은 생물을 돈으로 보는 냉혈한들이라고 여론에 몰매 맞으면서 규제를 담담히 받아들이면 되는거\n",
      "\n",
      "Comment: 갔다온사람들이 동물학대 민원 넣어보는것도규제만드는데 도움될수도  - dc App\n"
     ]
    },
    {
     "name": "stderr",
     "output_type": "stream",
     "text": []
    },
    {
     "name": "stdout",
     "output_type": "stream",
     "text": [
      "Content: \n",
      "ㄷㄷㄷㄷ \n",
      "\n",
      "Comment: 가만보니 김콘 쟤가 문제네. 벼갤에서도 영구제명할까\n",
      "Comment: 비번뭐임?  - dc App\n",
      "Content: \n",
      "미구분 기준노멀 1-릴리 2-카푸 5-세이블 10아잔틱 20성별,퀄에 따라 2~3배까지 가능그 위로는 니네 개죳으로 보고 웃으면서 사기치는 바가지 업자다 무조건ㅇㅇ\n",
      "\n",
      "Comment: 슈달은?\n",
      "Comment: 적어도 25년12월 전엔 저 가격 이하 확정  - dc App\n",
      "Comment: 그것도 비쌈 그냥 릴리들 전체 무분에풀커버vip급 10\n",
      "Comment: 25년에 진짜 이정도일듯  - dc App\n"
     ]
    },
    {
     "name": "stderr",
     "output_type": "stream",
     "text": []
    },
    {
     "name": "stdout",
     "output_type": "stream",
     "text": [
      "Content: \n",
      "답글 쉴드 오지네그냥 자기들 방어기제임 내가 만약 가족끼리 돈내고 갔드만온 천지에 크레만 천지빼까리인거 잘 알지도 못하고 비슷하게 생긴새끼들만 깔려있는데 이게 뭐하는건가 싶기도 하고크레 키우는새끼들만 신나서 줄스고 입양하고 이런거지 즉 그들만의 리그라는거임 그냥댓글보니 만지는 체험은 안되고(이건 불법 맏긴함)  무슨 구경에 의미를 두자는데..크레만 한트럭 가져온년들이 뭘 보라고 구경하라고 하는거냐 ㅋㅋ 안키우는 새끼는 관심 좆도없어 병신들아 뭔 모프고 뭔 타입이고 어캐알아 여친도 다 똑같은새끼들 아니냐고 하는데 박람회가 원래 판매목적 홍보목적이라고? 맞는 말이지근디 보통 기업마다 추구하는게 다있고 특색있는 아이템들이 있기마련인데 이새끼들은 업체 30개가 왔으면 25개는 다 크레팔이들인데그냥 시장이지 시장 박람회가아니고 박람회라고 그러니까사람들 다 낚여서 오지 평소알던 박람회인줄알고..ㅋㅋㅋ다음부터는 이딴거할때 크레벼룩시장 크레시장 이런거로해라\n",
      "\n",
      "Comment: 맏x맞\n",
      "Comment: 만지는거 이제 불법이구나. 어렸을때 파충류 박람회 가면 뱀같은거 목에 걸어주고 했었는데\n",
      "Comment: ㄹㅇㅋㅋ  - dc App\n",
      "Comment: 크레마켇!\n",
      "Comment: 줄스? 이 새끼 봐라\n",
      "Comment: 제발 업자님들 똥구녕에 콩나물은 좀 빼고 똥꼬쑈들 하세요 역겹습니다  - dc App\n",
      "Comment: 업자새끼들 유튭 역겹다 ㅅㅂ\n",
      "Comment: 처음온 사람들 대부분 좋아하던데 이런게 이렇게 크고 많이 인기있는줄도몰랏다고\n",
      "Comment: 다른 행사도 크레가 반 이상 아님?\n"
     ]
    },
    {
     "name": "stderr",
     "output_type": "stream",
     "text": []
    },
    {
     "name": "stdout",
     "output_type": "stream",
     "text": [
      "Content: \n",
      "1 이미지 순서 ON2 이미지 순서 ON 한 살 수컷임... 3 이미지 순서 ON 저덩치로 저걸 점프해서 나오네 ㄷㄷ 4 이미지 순서 ON성인 남성 주먹과 비교  - dc official App\n",
      "\n",
      "Comment: 두살치고작아보이네\n",
      "Comment: 두꺼비 왜 때림?\n"
     ]
    },
    {
     "name": "stderr",
     "output_type": "stream",
     "text": []
    },
    {
     "name": "stdout",
     "output_type": "stream",
     "text": [
      "Content: \n",
      "파동행사 유튜브 보다보니비주얼  초초데리고 온 업체있네 것도 3마리나...최근에 경매가 1800선낙찰인데행사장에서 2100에 분양하네\n",
      "\n",
      "Comment: 실물로 봤는데 색감 특이하긴 하더라 - dc App\n",
      "Comment: 지금상황 제일 불쌍한놈이이상황 아무것도 모르고 초초매입한놈임   - dc App\n",
      "Comment: 되팔이 고수네 ㅅㅂ 300업!!\n"
     ]
    },
    {
     "name": "stderr",
     "output_type": "stream",
     "text": [
      "\n"
     ]
    },
    {
     "name": "stdout",
     "output_type": "stream",
     "text": [
      "Content: \n",
      "어제는 또 릴잔 아잔등등 암컷들 포함24마리 180만에도 올라왔는데아잔애들아 빨리 털어라\n",
      "\n",
      "Comment: 나 1주일전에 80에 보냈는데  - dc App\n"
     ]
    },
    {
     "name": "stderr",
     "output_type": "stream",
     "text": [
      " 18%|█▊        | 9/49 [00:22<01:38,  2.47s/it]\u001b[A"
     ]
    },
    {
     "name": "stdout",
     "output_type": "stream",
     "text": [
      "Content: \n",
      "야생동물을 돈주고 사고팔며  자유시장이라고하는 개병신 집단이 여기있습니다. 말이좋아 자유시장이지  99%업자 및 업자지망생으로 이루어진 기이한 시장입니다 그중 사기꾼 및 호구잡이 80%로 보시면 보수적접근일겁니다 이런걸 보시면 시장에 허들이 많이 낮아 보이지않나요? 앞으로와는 다르게 허가제를 실시한다고 들었습니다 허가제의 허들이 아주 많이 높아져야  저런 불량업자들이 그나마 줄어들지않을까 싶습니다. 생물로 재테크? 그게 일반적인시선에서 정상적인 발상인지부터 확인해주시기바랍니다. 허가제의 허들을 아주 많이 높게 설정해주시기바랍니다 눈팅하고 계신거 다압니다. 환경부 형님들 응원합니다.  - dc official App\n",
      "\n",
      "Comment: 환경부 화이팅 취미는 취미로만 ..!\n",
      "Comment: ㅋㅋ되겠냐\n",
      "Comment: 인정합니다\n",
      "Comment: ㅇㅈ\n",
      "Comment: 선량한 생업자들이 얼마나 많은데 벼룩 잡자고 초가삼간 태우냐피눈물 쏟아지는 소리 그만해라\n",
      "Comment: ㅇㅈ 규제가 필요하긴 함\n"
     ]
    },
    {
     "name": "stderr",
     "output_type": "stream",
     "text": []
    },
    {
     "name": "stdout",
     "output_type": "stream",
     "text": [
      "Content: \n",
      "민물거북이 세계관 1티어  바다거북이 세계관 1티어 -> 장수거북  - dc official App\n",
      "\n"
     ]
    },
    {
     "name": "stderr",
     "output_type": "stream",
     "text": []
    },
    {
     "name": "stdout",
     "output_type": "stream",
     "text": [
      "Content: \n",
      "얘는 핸들링 가능해 형들?조온나빠르던데\n",
      "\n",
      "Comment: ㅇㅇ 가능하다 집에서 갑툭튀하는 재미로 키우면 됨\n"
     ]
    },
    {
     "name": "stderr",
     "output_type": "stream",
     "text": []
    },
    {
     "name": "stdout",
     "output_type": "stream",
     "text": [
      "Content: \n",
      "문재인 따까리새끼 아니랄까봐 규제는 존나 해요 병신새끼 아 근데 애초에 우파가 맞나?  - dc official App\n",
      "\n",
      "Comment: 탄핵하고 이재명대통령 만들어야함\n",
      "Comment: 김건희:우리남편은 문재앙 충신 ㅋㅋㅋㅋㅋㅋ\n",
      "Comment: 쟤는 우파라 국짐당 간 게 아니라 문재인한테 적으로 찍혔는데 (검찰총장으로서는)우수하고 여론도 좋아서 문재인 적대진영에서 주워갔을 뿐인 거지\n",
      "Content: \n",
      "걍 5마리갈까 씨발 5마리면 12만5천원인데  - dc official App\n",
      "\n",
      "Comment: 모어닝 10마리 일괄로 데려갈래? 경기도 성남이고 마리당 1.5에 줄게\n",
      "Comment: 303045면 10마리 키워야 좀 재밌을듯\n"
     ]
    },
    {
     "name": "stderr",
     "output_type": "stream",
     "text": []
    },
    {
     "name": "stdout",
     "output_type": "stream",
     "text": [
      "Content: \n",
      "육겁 떡상 ㄱㄴ?씹 비주류에서 주류로 발 한짝 걸치기 가능한 부분이냐\n",
      "\n",
      "Comment: 육겁 정도면 주류 아님?\n",
      "Comment: 같이 조져지는거 아님?\n",
      "Comment: 재테크 충들 싹다 박멸취미충들 세상옴  - dc App\n",
      "Comment: 생업이 최소 몇천명인데  폭동 난다\n"
     ]
    },
    {
     "name": "stderr",
     "output_type": "stream",
     "text": [
      "\n"
     ]
    },
    {
     "name": "stdout",
     "output_type": "stream",
     "text": [
      "Content: \n",
      "박람회에서 저렇게 사는애드리 있음?한놈걸려라인가무한번식하는데 10만원 이상은 좀...퀄리티 고만고만하고 다 똑같이 크레파는데 염치가...\n",
      "\n"
     ]
    },
    {
     "name": "stderr",
     "output_type": "stream",
     "text": [
      " 33%|███▎      | 16/49 [00:39<01:20,  2.43s/it]\u001b[A"
     ]
    },
    {
     "name": "stdout",
     "output_type": "stream",
     "text": [
      "Content: \n",
      "게코류 뺴곤 싹다 노답아님?\n",
      "\n"
     ]
    },
    {
     "name": "stderr",
     "output_type": "stream",
     "text": []
    },
    {
     "name": "stdout",
     "output_type": "stream",
     "text": [
      "Content: \n",
      "이거 303045인데 여기다 총 몇마리까지 키울수있음? 그리고 레게 베이비가 큼? 모어닝게코 성체가 큼?  - dc official App\n",
      "\n",
      "Comment: 레게 베이비가 더 큼10마리 들어가고도 남을듯\n",
      "Comment: 모어닝 성체가 더 작을걸 모어닝 성체 새끼손가락만함\n",
      "Comment: 어차피 처녀생식이라 그냥 냅두면 늘어난다\n"
     ]
    },
    {
     "name": "stderr",
     "output_type": "stream",
     "text": []
    },
    {
     "name": "stdout",
     "output_type": "stream",
     "text": [
      "Content: \n",
      "일단 사이테스 필요한거부터 존나 벽인데 사나움 + 테임힘듬이 막타 쳤다고 봐야.. ㅋㅋㅋ \n",
      "\n",
      "Comment: ■2024년 9월 1일 오후 6시 윤하 '7집' 앨범 발매\n",
      "Comment: 리키도 성깔 고약함\n"
     ]
    },
    {
     "name": "stderr",
     "output_type": "stream",
     "text": [
      "\n"
     ]
    },
    {
     "name": "stdout",
     "output_type": "stream",
     "text": [
      "Content: \n",
      "동남아 출신이라는거 보면 워터모니터 새끼인가?\n",
      "\n",
      "Comment: 나일인줄 알았는데동남아 출신이면 워터겠지\n",
      "Comment: 워터 맞음  - dc App\n"
     ]
    },
    {
     "name": "stderr",
     "output_type": "stream",
     "text": [
      " 41%|████      | 20/49 [00:48<01:06,  2.28s/it]\u001b[A\n"
     ]
    },
    {
     "name": "stdout",
     "output_type": "stream",
     "text": [
      "Content: \n",
      "비주류싹다조지고 건강하고크레만키울수있게 한대  - dc official App\n",
      "\n",
      "Comment: 레게 봐준데  - dc App\n",
      "Comment: 인증사진 ㄱㄱ\n"
     ]
    },
    {
     "name": "stderr",
     "output_type": "stream",
     "text": [
      " 43%|████▎     | 21/49 [00:51<01:06,  2.37s/it]\u001b[A"
     ]
    },
    {
     "name": "stdout",
     "output_type": "stream",
     "text": [
      "Content: \n",
      "세비야 카메라 바까라 실물쳐도띾 돼지빡빡이들 사이에서 혼자 그저빛이네\n",
      "\n",
      "Comment: 문신충컷\n",
      "Comment: 지금 앞머리하고 있음?그누나 숏츠에서 앞머리한거 개이쁘더라  - dc App\n",
      "Comment: 개꼴깝 떠네 진짜 ㅋㅋㅋㅋㅋㅋㅋㅋ 토요일 오후 열시에 압구정 거리가면 혼자 팬티속에서 정자방출할 색히네 ㅋㅋㅋㅋㅋ 방에서 좀 나와라\n"
     ]
    },
    {
     "name": "stderr",
     "output_type": "stream",
     "text": []
    },
    {
     "name": "stdout",
     "output_type": "stream",
     "text": [
      "Content: \n",
      "여기서 개집 저집 욕하지말고인스타 팔로우하고 릴스로 정화해라역시 천조국 형님들 윽쾌한 계정 많누\n",
      "\n"
     ]
    },
    {
     "name": "stderr",
     "output_type": "stream",
     "text": []
    },
    {
     "name": "stdout",
     "output_type": "stream",
     "text": [
      "Content: \n",
      "걍 추욱 죽어버림? \n",
      "\n",
      "Comment: 그걸 리키가 일으키려고 하는 데 ㅈㄴ 웃기다 리키 개고가 분양하려는 업자새끼들 쳐죽여야함\n",
      "Content: \n",
      "그 양반 있을 때도 병신력 지존에 좆목질 오졌는데 퍙카페가 개병신 아니었던 적 있음? \n",
      "\n"
     ]
    },
    {
     "name": "stderr",
     "output_type": "stream",
     "text": []
    },
    {
     "name": "stdout",
     "output_type": "stream",
     "text": [
      "Content: \n",
      "찻집에서는 판매자가 안보이네요금시뉴트 판매자가 디시에 있다고 하던데 파시는분 계세요?\n",
      "\n",
      "Comment: 안팔아\n",
      "Comment: 크레였으면 계집인플루언서들이 당장강제 메이킹 들어갔을 텐데 아쉽습니다\n",
      "Content: \n",
      "댓글들 논리면 참가업체들 10월 공청회 싹 다 손잡고 나가라  쉴드칠걸 쳐야지 ㅋㅋㅋ  대가리 크레에 절여졌네 그냥ㅋㅋ  파충류 동반자 해놓고 안엔 소스통에 처박힌 도마뱀만  팔고있는데 뭔 동반자 ㅋㅋㅋㅋㅋ  도마뱀들이 ㅈㄴ 참 같이 동반하고싶겠다 그죠? 아무것도 모르는 일반인들 반응 저러는건 당연한거임 ㅋㅋ 다양한 파충류 문화를 접하긴 ㅋㅋ  파충류 문화가 소스통에 처박힌 도마뱀파는 문화냐?  물론 맞긴함 이제 돈벌이 수단이니까  근데 일반인들은 아니라고 ㅋㅋ  지들처럼 대깨 크레에 절여진줄아나 ㅋㅋㅋㅋ  하여간 업체 돈줄들 얼마나 팅이라스가 당했으면 어휴  업체들은 아직 살만하다 ~ 절여진넘들이 야광봉 흔들면서 파이팅하세용 ㅠㅠ ㅋㅋㅋㅋㅋㅋㅋ답이없노 \n",
      "\n",
      "Comment: 니는 갔냐 근데? - dc App\n",
      "Comment: 이런글쓰면 크창들한테 혼나는데 ㅜㅠ\n",
      "Comment: ㅋㅋㅋㅋㅋ 너 부럽지??\n",
      "Comment: 바른 말을 한 죄!!!!!!\n",
      "Comment: 이런식의 쇼는 파충류업계를 더 쇠퇴시킬뿐이라 아쉬움..\n",
      "Comment: 그 소스통도 돈없어서 새거 안사고분양받았을 때 쓰던거 닦아서 쓸 듯 ㅋㅋㅋ\n",
      "Comment: 찻집 파동 쉴드친 놈들 지금 반지하 투룸에서 카페 되팔이충들임돈 모아서 리키나 입양해서 비싸게 팔생각ㅈㄴ 할텐데ㅋㅋㅋ\n"
     ]
    },
    {
     "name": "stderr",
     "output_type": "stream",
     "text": []
    },
    {
     "name": "stdout",
     "output_type": "stream",
     "text": [
      "Content: \n",
      "물갈다가 내가 실수해서 돌로 애 발을 찧어서 발톱 하나 빠지고 피나는데 이거 조치 어케해야됨..\n",
      "\n",
      "Comment: 병원 빨리 데려가 ㅅㅂ\n"
     ]
    },
    {
     "name": "stderr",
     "output_type": "stream",
     "text": []
    },
    {
     "name": "stdout",
     "output_type": "stream",
     "text": [
      "Content: \n",
      "빨리 못~생긴 레게글 올려라\n",
      "\n",
      "Comment: 요네가 솔킬내서 탈주함\n"
     ]
    },
    {
     "name": "stderr",
     "output_type": "stream",
     "text": []
    },
    {
     "name": "stdout",
     "output_type": "stream",
     "text": [
      "Content: \n",
      "ㅇㄷ나부터  - dc official App\n",
      "\n",
      "Content: \n",
      "스엠 다녀옴\n",
      "\n",
      "Comment: 스엠 어떰\n",
      "Comment: 얼마노\n",
      "Comment: 님 닉을보아하니 김도연24인가요\n",
      "Comment: 비어디갤로\n",
      "Comment: 스엠이 뭐임 스피드엠창?\n",
      "Comment: 오 이쁘넹\n"
     ]
    },
    {
     "name": "stderr",
     "output_type": "stream",
     "text": []
    },
    {
     "name": "stdout",
     "output_type": "stream",
     "text": [
      "Content: \n",
      "개나소나 행사 주최하면서 나 행사 총괄이야 빽빽 대는것 구경하고 싶고 좃목하고 싶은 이유가 아니라면악성재고 쓰레기스티드게코 반찬통에서 썩어가는 절경을 보려고 내돈시간 투자하며 주말을 낭비 왜함?\n",
      "\n",
      "Comment: 안가는건 당연한거고 톡방에도 퍼뜨리고 퍙걀에도 까야지\n",
      "Comment: 넌 사기당해도 안당하면그만ㅋ이라고 말해라  - dc App\n"
     ]
    },
    {
     "name": "stderr",
     "output_type": "stream",
     "text": [
      "\n"
     ]
    },
    {
     "name": "stdout",
     "output_type": "stream",
     "text": [
      "Content: \n",
      "즈그들 톡방에서 하던말을 처가져오노 \n",
      "\n",
      "Comment: 아마 메이플 유래인거 같던데\n",
      "Comment: -메- 용어잉 - dc App\n",
      "Comment: 노가다해서 얻은 게임템 팔아서 쌀사먹는사람 이라고했던가\n",
      "Comment: 요즘 여기저기서 써먹는거 같더만\n",
      "Comment: 메이플하는 원숭이 메숭이메소로 쌀사먹는 쌀숭이  - dc App\n",
      "Comment: 정병 -메- 거르면됨\n"
     ]
    },
    {
     "name": "stderr",
     "output_type": "stream",
     "text": [
      " 67%|██████▋   | 33/49 [01:20<00:38,  2.39s/it]\u001b[A"
     ]
    },
    {
     "name": "stdout",
     "output_type": "stream",
     "text": [
      "Content: \n",
      "옛날 미리내시절엔 낭만밖에없어서 뭐하나 수틀리면 걍 정의구현 다구리 놨는데 전 매니저가 업자라  업체를 대놓고 모시는 시스템을 싸질러놔서 비호하는거 개역하다 진짜  - dc official App\n",
      "\n",
      "Comment: 카페이름 바꿔야함 파충류를 사고파는 사람들의 모임\n",
      "Comment: 게코팔이 업자 20% + 업체똥꼬빨이 60% + 나머지 일반 사육자 ㅇㅈ?\n",
      "Comment: 돈받고 선처하는 꼬라지 좆같음\n"
     ]
    },
    {
     "name": "stderr",
     "output_type": "stream",
     "text": []
    },
    {
     "name": "stdout",
     "output_type": "stream",
     "text": [
      "Content: \n",
      "어제쯤에 꼬리랑 몸통 사이에 균열이 있는 걸 발견했는데 어떻게 해줘야 할까? 감염될까봐 무서워서.. 최근에 구개호흡도 하고 초록색 변도 보고.. 총체적인 문제가 있는 거 같아서 병원도 데려가려고 하는데.. 대처법 알려줄 수 있을까\n",
      "\n"
     ]
    },
    {
     "name": "stderr",
     "output_type": "stream",
     "text": []
    },
    {
     "name": "stdout",
     "output_type": "stream",
     "text": [
      "Content: \n",
      "딸피라 그런가 낯짝두껍노ㅋㅋㅋㅋㅋㅋ- dc official App\n",
      "\n",
      "Comment: 점 많은 개 똥퀄은 그 값에 팔릴만 하지 않음?\n",
      "Comment: 걍 무시지 뭐ㅋㅋ\n"
     ]
    },
    {
     "name": "stderr",
     "output_type": "stream",
     "text": [
      "\n"
     ]
    },
    {
     "name": "stdout",
     "output_type": "stream",
     "text": [
      "Content: \n",
      "고양이 키우는데 밀웜 잘먹어서 가끔 주는데밀웜을 자가증식하게 해서 주면 괜찮겠다는 생각드는데링크나 영상있나??- dc official App\n",
      "\n",
      "Comment: 그리고 밀웜이 톱밥만 먹어도 살수있지? - dc App\n",
      "Comment: 나도 밀웜 키우는데 유튭에 밀웜판다동물농장 이거 보고 있어\n"
     ]
    },
    {
     "name": "stderr",
     "output_type": "stream",
     "text": [
      " 76%|███████▌  | 37/49 [01:30<00:29,  2.44s/it]\u001b[A"
     ]
    },
    {
     "name": "stdout",
     "output_type": "stream",
     "text": [
      "Content: \n",
      "   https://youtu.be/r7ViabfaOgU?si=xGZvSOpVCdJXzakA   작은물결: 파동~작은물결: 파동~youtu.be 우린 다 알고 있어 이건 체계적인 거야   돈 벌기 위한 쇼 그 끝은 다 뻔하지   얼굴 안 보여도 괜찮아 그들은 그냥 설거지   새로운 퐁퐁이들 찾아 계속 돌려가  체험부스 대신에 또 쌀팔아   이윤만 남으면 돼 그게 너희 기준   허가제 시발 슈푸만 주면 되지   렉사에 키우는 법 키우기 쉬워요~  변명은 계속해 예측 못했다고   하지만 다들 알아 이건 그냥 너희 계획   다음 목표는 뭐야 또 뭘 팔아야 해   얼굴 가려도 소용없어 진실은 다 알아  우린 다 알고 있어 이건 체계적인 거야   돈 벌기 위한 쇼 그 끝은 다 뻔하지   얼굴 안 보여도 괜찮아 그들은 그냥 설거지   새로운 퐁퐁이들 찾아 계속 돌려가  룰루랄라 너희 계획은 다 보여   하지만 끝은 없지 또 시작할 뿐   사람들은 다시 한 번 속겠지   그들은 계속 돈을 쓸 테니까 룰루랄라  룰루랄라 룰루랄라   악성재고 처리 쌀팔아 먹지   룰루랄라 룰루랄라   다들 알면서도 또 속아 넘어가지  - dc official App\n",
      "\n",
      "Comment: 뇌절씨발아 - dc App\n"
     ]
    },
    {
     "name": "stderr",
     "output_type": "stream",
     "text": []
    },
    {
     "name": "stdout",
     "output_type": "stream",
     "text": [
      "Content: \n",
      "장문으로 발기하는 댓글 보면 다 ☆☆크레임 시발ㅋㅋ \n",
      "\n",
      "Comment: 으데? 팝콘들고 뛰간다 링크 남겨라\n",
      "Comment: 역설적이게도 해당글 쓴 새끼도 퍙판에 돈보고 들어온 새끼임ㅋㅋㅋㅋ - dc App\n",
      "Comment: 링크좀\n",
      "Comment: https://cafe.naver.com/reptilia/4246300?tc=shared_link\n",
      "Comment: ㄷㅇㄴ글쓴거 개 킹받네ㅋㅋㅋㅋ 아 이런거 댓글끄면 ㅅㅎ쌤한테 혼나는데 ㅇㅈㄹ ㅋㅋㅋㅋㅋ\n",
      "Comment: 근데 사실 박람회 자체가 보여주는곳이니까 나는 나쁘게는 안봄 근데 이번에는 좀 다른게 제목 주제로 어그로를 끌어버림 동반자?? 어떤 동반자가 저렇게 좃만한 케이스에 넣어놓고 보여주냐  파충류 안키우는 일반인들 입장에서는 저 워딩보고 아~ 뭔가 파충류 인식을 개선 시켜주는 축제 개념이구나 하고 참석했다가 실망 해버리잖아 다음부터는 이름을: 파충류 야시장  우리꺼 이뻐요~ 이런걸로 지어라 가줄게 입장료는 알빠노 니까   - dc App\n",
      "Comment: 장문러들 ㅅㅂ 크레공장 물소년들\n"
     ]
    },
    {
     "name": "stderr",
     "output_type": "stream",
     "text": [
      "\n"
     ]
    },
    {
     "name": "stdout",
     "output_type": "stream",
     "text": [
      "Content: \n",
      "1. 인스타에 머리카락만 나오거나 본계 연결해둠 근데 본계 비공개로 해둬서 프로필밖에 안보이는 프사기 100퍼2. 단톡방에서 조오오오오온나 나댐다른 커뮤니티에선 예쁜애들도 많고 남자들도 ㅂㅃ 해주는 스타일 아니라 쥐죽은듯 인싸테크 타다가 조용하 나온후 그 한을 다 풀고잇음3. 마스크 꼈거나 눈 아래 사진 절대 비공개함코로나때 다들 기억하지? 마스크 끼면 70프로가 훈남훈녀 된다 결론: 이런 기집보다 그거 좋다고 빨아대는 너네가 레전드\n",
      "\n",
      "Comment: ㅋㅋㅌㅋㅋㅋㅋㅋ ㄹㅇ\n",
      "Comment: 게코팔이쇼 가면 알게된다...남자보다 강해보이는 여자 존나 많다는걸\n",
      "Comment: ㅋㅋㅋㅋㅅㅂ ㅇㅈ\n"
     ]
    },
    {
     "name": "stderr",
     "output_type": "stream",
     "text": [
      " 82%|████████▏ | 40/49 [01:38<00:23,  2.57s/it]\u001b[A\n"
     ]
    },
    {
     "name": "stdout",
     "output_type": "stream",
     "text": [
      "Content: \n",
      "카푸나 뭐 많다매 구경 좀 해보게 유명한 애\n",
      "\n",
      "Comment: 인기글 가보셈\n",
      "Comment: 링크 바로 보내주고 싶다 진짜\n",
      "Comment: 김콘 모프사기관련찾아보셈나옴\n"
     ]
    },
    {
     "name": "stderr",
     "output_type": "stream",
     "text": [
      " 84%|████████▎ | 41/49 [01:40<00:20,  2.53s/it]\u001b[A\n"
     ]
    },
    {
     "name": "stdout",
     "output_type": "stream",
     "text": [
      "Content: \n",
      "칼슘주머니가 저렇게까지 커지나?  - dc official App\n",
      "\n",
      "Comment: 저거 칼슘주머니 맞음?\n"
     ]
    },
    {
     "name": "stderr",
     "output_type": "stream",
     "text": [
      " 86%|████████▌ | 42/49 [01:42<00:16,  2.41s/it]\u001b[A"
     ]
    },
    {
     "name": "stdout",
     "output_type": "stream",
     "text": [
      "Content: \n",
      "독사 한마리잡으면 사람 10명 살리는거임 \n",
      "\n",
      "Comment: 독사에 물림?\n",
      "Comment: 닉보고 그냥 지나간가  - dc App\n",
      "Comment: 약 아직 안걸림?  - dc App\n",
      "Comment: 쇠살모사 개체수 생각해보면 우리나라 인구수 1/10은 죽었다 생각하면 되노\n"
     ]
    },
    {
     "name": "stderr",
     "output_type": "stream",
     "text": []
    },
    {
     "name": "stdout",
     "output_type": "stream",
     "text": [
      "Content: \n",
      "오줌은 냄새나서 그렇지세균은 걸러 나오는거잖아?똥은 바로 줍줍해주는데 요산은 그렇게하기 힘드니까좀 몰아서 치워도 되나 해서\n",
      "\n",
      "Comment: 먼 소리냐 총 배설강에서 같은곳으로 나오는디살모넬라균 전나 번식함\n",
      "Comment: 글고 설령 요산이 무균이라 해도 사육장과 개체는 무균 상태가 아니라싸는 순간부터 세균 번식해서 시간이 지날수록 악취 심해짐\n"
     ]
    },
    {
     "name": "stderr",
     "output_type": "stream",
     "text": [
      "\n"
     ]
    },
    {
     "name": "stdout",
     "output_type": "stream",
     "text": [
      "Content: \n",
      "1 이미지 순서 ON2 이미지 순서 ON3 이미지 순서 ON파동에서 트월킹 춤 \n",
      "\n",
      "Comment: 급호감ㅋㅋ\n",
      "Comment: 두비아 분양 가능?\n",
      "Comment: https://m.dcinside.com/board/reptile/812006\n",
      "Comment: 민주당 지지자인줄ㅡㅡ 실망이네\n",
      "Comment: 갤러리 놨두고 왜 단톡방함? 노이해노\n",
      "Comment: 나 김콘인데 저거 나 아니다  - dc App\n",
      "Comment: 이거말고 크레 인플루언서 좀 오려내기 시전 좀\n"
     ]
    },
    {
     "name": "stderr",
     "output_type": "stream",
     "text": [
      " 92%|█████████▏| 45/49 [01:50<00:09,  2.39s/it]\u001b[A"
     ]
    },
    {
     "name": "stdout",
     "output_type": "stream",
     "text": [
      "Content: \n",
      "독사면 큰일인데..\n",
      "\n",
      "Comment: 독사니까 돌로 찍어죽이셈\n",
      "Comment: 유혈목이 독사임 근데 순해서 가까이 가면 지가 도망감  - dc App\n",
      "Comment: 유혈목이갈 길 가게 놔두셈 ㅋㅋㅋ\n",
      "Comment: ㅋㅋ 단지내 아줌마들 난리났음 독사 나타났다고\n",
      "Comment: 유혈목이는 독사지만 독사다 아니다 논쟁이 벌어질만큼 중독되기 쉽지않은놈이니까 막 무서워 할 필욘 없음\n",
      "Comment: 능구렁이\n"
     ]
    },
    {
     "name": "stderr",
     "output_type": "stream",
     "text": []
    },
    {
     "name": "stdout",
     "output_type": "stream",
     "text": [
      "Content: \n",
      "진짜정말순수하게 궁금해서 물어봄 레게x크레 이런식으로 \n",
      "\n",
      "Comment: 같은 속이면 가능함. 근데 가능하다는거지 상대를 교미대상으로 보느냐는 별개 문제고 그렇게 태어난 새끼들은 보통 생식능력이 없음\n",
      "Comment: 사람이랑 원숭이랑 교배가 되니 - dc App\n",
      "Comment: 같은속만 교잡종 일어나고 하잖냐  - dc App\n",
      "Comment: 종마다 다름 과 수준에서 교미되는 경우도 있음보통은 타종간 교배 불가능가능해도 대부분 잡종 2세는 생식능력 없음아주 가까운 종 사이에서는 2세도 생식능력있음그 예시가 현생인류 호모 사피엔스 사피엔스임약 6~7만년 전 아프리카에서 호모 사피엔스 일부가 유라시아로 탈출했을때. 유라시아에 서식하던 호모 하이델베르겐시스의 후손들인 호모 네안데르탈렌시스, 호모 데니소반스랑 쓰리썸해서 현생인류 유전자풀에는 이들의 유전자가 적지 않게 포함되어 있음 우리 몸 속에도 약 4~5% 정도\n",
      "Comment: 생물시간에 배웠을텐데 보통 염색체 갯수부터 달라서 수정이 안되고 수정되더라도 불임남. 아주 가까운 종들끼리는 유전적으로 비슷해서 가능할 수도 있음\n",
      "Comment: 유전자가 몸 설계도나 같은건데 섞어버리면 일단 살아남는것 부터가 힘들다\n"
     ]
    },
    {
     "name": "stderr",
     "output_type": "stream",
     "text": []
    },
    {
     "name": "stdout",
     "output_type": "stream",
     "text": [
      "Content: \n",
      "성체 사이즈가 작게 크는 모프  주둥이 짧은 모프  꼬리가 짧은 모프  다리가 굵은 모프  이런거 하는 브리더는 없냐?  \n",
      "\n",
      "Comment: 그게 됨?\n",
      "Comment: 옛날에는 자이언트 하면서 일반 레게 보다 더 큰애들 팔지 않았었나\n",
      "Comment: 팻테일  - dc App\n",
      "Comment: 그런건 돈이 안돼 다들 관심도 없고\n",
      "Content: \n",
      "오늘도 박살난 능지로현생 산다고 고생이 많다!밀수 떡락 사육제한 울부짖으며방구석에서 꼬긁이나 하도록ㅎㅎ\n",
      "\n",
      "Comment: 긁적!\n",
      "Comment: 네다음 밀수사기 빚쟁이업자ㅋㅋㅋ\n"
     ]
    },
    {
     "name": "stderr",
     "output_type": "stream",
     "text": [
      "100%|██████████| 49/49 [01:59<00:00,  2.45s/it]\n",
      " 62%|██████▏   | 18/29 [33:37<20:56, 114.20s/it]"
     ]
    },
    {
     "name": "stdout",
     "output_type": "stream",
     "text": [
      "Content: \n",
      "오늘도 박살난 능지로현생 산다고 고생이 많다!밀수 떡락 사육제한 울부짖으며방구석에서 꼬긁이나 하도록ㅎㅎ\n",
      "\n",
      "Comment: 긁적!\n",
      "Comment: 네다음 밀수사기 빚쟁이업자ㅋㅋㅋ\n"
     ]
    },
    {
     "name": "stderr",
     "output_type": "stream",
     "text": []
    },
    {
     "name": "stdout",
     "output_type": "stream",
     "text": [
      "Content: \n",
      "첨엔 거거익선인데 애들이 괜히 돈없어서 자위하는건줄 알았는데 베이비들 초반에 3자 때려박으니까 밥먹일때도 어딨는지 모르겠고 탈출했는지 안했는지 알수가없더라 존나 정신병오는줄알았다\n",
      "\n",
      "Comment: 이중지출이긴 하지만 키우다가 큰걸로 바꿔주는게 맞는거 같다...\n"
     ]
    },
    {
     "name": "stderr",
     "output_type": "stream",
     "text": []
    },
    {
     "name": "stdout",
     "output_type": "stream",
     "text": [
      "Content: \n",
      "??  - dc official App\n",
      "\n",
      "Comment: ㄴㄴ\n",
      "Comment: 빡머가리임\n"
     ]
    },
    {
     "name": "stderr",
     "output_type": "stream",
     "text": []
    },
    {
     "name": "stdout",
     "output_type": "stream",
     "text": [
      "Content: \n",
      "1 이미지 순서 ON2 이미지 순서 ON코코넛 밑에 아몬드잎 깔아주니 잘 논다 3 이미지 순서 ON4 이미지 순서 ON5 이미지 순서 ON눈싸움 둘 다 눈을 못 감아서  승부는 나지않음 6 이미지 순서 ON7 이미지 순서 ON팔굽혀펴기? 8 이미지 순서 ON9 이미지 순서 ON안아줘요 10 이미지 순서 ON11 이미지 순서 ON12 이미지 순서 ON13 이미지 순서 ON밥 먹고 만족한 표정 14 이미지 순서 ON참깨 쿠키 15 이미지 순서 ON눈가리고 자나? 16 이미지 순서 ON묘한 구도 17 이미지 순서 ON18 이미지 순서 ON - dc official App\n",
      "\n",
      "Comment: 참깨통깨가 이름이었다니\n",
      "Comment: 아홀찻집에서 본 것 같은 데…\n",
      "Comment: 참깨쿠키 누가 만든거냐곸ㅋㅋㅋㅋ\n",
      "Comment: 참깨 아가미 볼때마다 부럽네\n",
      "Comment: 츄릅  - dc App\n"
     ]
    },
    {
     "name": "stderr",
     "output_type": "stream",
     "text": []
    },
    {
     "name": "stdout",
     "output_type": "stream",
     "text": [
      "Content: \n",
      "롤하고 있는데 갑자기 튀어나오길래 깜짝놀람\n",
      "\n",
      "Comment: 정글좀 돌라고   - dc App\n",
      "Comment: 도마뱀붙이\n",
      "Comment: 마 니 부산살제\n"
     ]
    },
    {
     "name": "stderr",
     "output_type": "stream",
     "text": [
      "\n"
     ]
    },
    {
     "name": "stdout",
     "output_type": "stream",
     "text": [
      "Content: \n",
      "별 이쁘지도않은 좆마뱀갖다가 색깔뽑기놀이하면서 수십~수백에 파는게 말이되냐ㅋㅋ 크레장점이라곤 먹이 하나뿐인데ㅋㅋ 샵들 톡방같은거 운영해서 물타기 계집들 호들갑보면 진짜 어지러울정도로 역하더라 이번 시장박람회를 계기로 그냥 다 처망했으면 좋겠다 제발  - dc official App\n",
      "\n",
      "Comment: 니들이 까는거면 흥했다는 증거야ㅋㅋㅋㅋㅋㅋㅋ - dc App\n",
      "Comment: 부럽다고 발광하누 ㅋㅋㅋ\n",
      "Comment: 망할 길이 없어보이던데 모프도 뭐 존나 계속 나오고 뭔 레게 볼파 마냥 늘어나던데 - dc App\n",
      "Comment: ㄹㅇ\n"
     ]
    },
    {
     "name": "stderr",
     "output_type": "stream",
     "text": [
      " 12%|█▏        | 6/49 [00:17<01:53,  2.63s/it]\u001b[A"
     ]
    },
    {
     "name": "stdout",
     "output_type": "stream",
     "text": [
      "Content: \n",
      "원래 입 여는법은 아는건가 싶을정도로 핥는것 말곤 아무것도 못하던 놈인데  요근래들어 밥그릇을 한 번씩 낚아채듯 왁 무는 케이스가 늘어나더니  이젠 내 손만 보면 흥분해서 사냥모드가 되는 수준까지 됐음  정확히는 저 밥그릇으로 밥만들면 냄새때문인건지 거의 100퍼확률로 눈치채고 호다닥 오던데  종종 손으로 밥그릇 들고 입 앞에 대주면서 밥줫더니 손이 맛있는거라고 인식한건지  밥만들때 후다닥 와놓고 밥이 아니라 내 손에 흥분하더라  오늘 처음으로 물렷다 십련  원랜 엄청 순한놈이었는데 어쩌다 이렇게 흑흑  그래도 밥없이 만질땐 순함 밥줄때 흥분해서그렇지 \n",
      "\n",
      "Comment: 개이득\n",
      "Comment: 뭔 종임?\n",
      "Comment: 닌 운 좋은줄 알아라 가고일게코 한테 물리면 무조건 절단이다. 피조금 본거에 감사하고 이 한마디는 꼭 기억해라 가고일 게코는 맹수다.  - dc App\n",
      "Comment: 가고일한테 물리고 저 정도면쟤가 진짜 ㅈㄴ 봐준거다\n",
      "Comment: 까비  - dc App\n"
     ]
    },
    {
     "name": "stderr",
     "output_type": "stream",
     "text": []
    },
    {
     "name": "stdout",
     "output_type": "stream",
     "text": [
      "Content: \n",
      "벡스코에 파충류 박람회 열린다는데 가서 한마리 데려와서 입문해보고 싶은데 볼파 노말은 안나오나요?잘 몰라요\n",
      "\n",
      "Comment: 박람회는 노멀 잘안나옴 개인분양 싸니까 개인분양 ㄱ ㄱ\n",
      "Comment: 파이톤 자체가 너무 비주류 되버려서 파사모에서 개인분양하면 더 싸게 분양가능할듯하네여  - dc App\n",
      "Comment: 노말 데려가실?  - dc App\n",
      "Comment: 이번엔 안갔는데 보통 볼파 노멀 5만원에 입문용으로 항상있지않음??\n",
      "Comment: 노멀은 3만원따리도 많음 무분도 가끔 있고\n"
     ]
    },
    {
     "name": "stderr",
     "output_type": "stream",
     "text": []
    },
    {
     "name": "stdout",
     "output_type": "stream",
     "text": [
      "Content: \n",
      "생긴거 ㅈㄴ 비호감이던데  - dc official App\n",
      "\n",
      "Comment: 걍 대한민국 물타기 하는거 그대로 가는거임\n",
      "Comment: 머프이것저것만드는 거 극혐 동물 사랑하는척 존나 메이킹시킴 동물농장에서 개고양이 농장이랑 다를게 뭐임\n",
      "Comment: 개인 취향이 다 다르겠지만외형만 보면 주류파충류 중에선 레게가 가장 이쁘지비어디도 개못생김\n",
      "Comment: 너도그럼 - dc App\n",
      "Comment: 못생겼지\n",
      "Comment: 크레 못생긴건 팩트지\n",
      "Comment: 나도 그렇게 생각은 하는데 여친이랑 엄마랑 동생한테 보여주면 다른 파충류는 징그럽다고 싫어해도 크레는 좋아하더라 여자들에기 끌리는 뭔가가 있나봄\n",
      "Comment: 크레가 애초에 돋보적으로 귀엽고 예뻤으면 10년전부터 베스트셀러였음. 그게 아니고 가죽색으로 돈놀이가 되니까 이제 붐인거고ㅋㅋ\n",
      "Comment: ■2024년 9월 1일 오후 6시 윤하 '7집' 발매\n",
      "Content: \n",
      "피그미 관심 생겨서 쭉 둘러보는데 어린놈들 돌연사 했다는 댓글이 많이 보이길래 궁금함 무분별하게 근친 존나 때려서 그럼? \n",
      "\n",
      "Comment: 여기 파양갤인데스  - dc App\n",
      "Comment: 아니 무슨 피그미가 파충류인가먹이로 파는거면 생먹이용으로 파사모 ㄱㄱ\n",
      "Comment: 화이트모프가 근친 심해서 잘 뒤지는거임 노멀쪽은 안뒤짐  - dc App\n"
     ]
    },
    {
     "name": "stderr",
     "output_type": "stream",
     "text": []
    },
    {
     "name": "stdout",
     "output_type": "stream",
     "text": [
      "Content: \n",
      "이렇게 이쁜데- dc official App\n",
      "\n",
      "Comment: 카푸\n"
     ]
    },
    {
     "name": "stderr",
     "output_type": "stream",
     "text": []
    },
    {
     "name": "stdout",
     "output_type": "stream",
     "text": [
      "Content: \n",
      "ㅈㅈ이 지금까지 사고치고 다닌 행각들은 왜 좌표찍고 안오냐…spt건 니발이건ㅈㅈ이 챠콜 가지고 손닌한테 장난치고 다닌거랑 spt 빠는거나똑같은거 아닌가..?- dc official App\n",
      "\n",
      "Comment: ㅈㅈ이 누군데 씹덕아\n",
      "Comment: 꼭꼭 숨겨야되는일인데 하겠냐?  - dc App\n",
      "Comment: 카푸사건도 있었지\n",
      "Comment: 이런건 죽어도 피드백안하지 ㅋㅋㅋㅋ\n",
      "Comment: 해명해라 얼른 제목 캡쳐해서 찻집에 글써라\n",
      "Comment: 하겟냐?걔 내가 기어라하면 기는데 기어라할까?\n",
      "Comment: 아직도 찻집에 글 다 남아있는게 팩트\n",
      "Comment: 해명하면 혼나는디 ㅠㅠ\n",
      "Comment: 이쯤되면 자살해야 언급이 안되겠노 ㅋㅋ 죽어 !\n",
      "Comment: ㅈㅈ 유명했지...\n"
     ]
    },
    {
     "name": "stderr",
     "output_type": "stream",
     "text": []
    },
    {
     "name": "stdout",
     "output_type": "stream",
     "text": [
      "Content: \n",
      "자기들 도마뱀 팔아서 돈벌어야해서 어그로식 행사이름임 ㅇㅇ 게코장터라고 하면 아무 문제 안생길건데 ㅌㅋ \n",
      "\n",
      "Comment: 적어도 행사이름으로 속이진 않으니 ㅇㄴ\n",
      "Comment: 낚아서 표팔이해야지~~~\n",
      "Comment: 크레만 하는 곳 따로 했으면 좋겠음\n"
     ]
    },
    {
     "name": "stderr",
     "output_type": "stream",
     "text": []
    },
    {
     "name": "stdout",
     "output_type": "stream",
     "text": [
      "Content: \n",
      "1. 오늘 시작했는데 보통 얼마정도 걸림? 2. 벽에 몸 몇번 비비고 얼굴 핥다가 저러고 자는데 ㄱㅊ음?  - dc official App\n",
      "\n",
      "Comment: 아 알아서 잘 탈피하네  - dc App\n"
     ]
    },
    {
     "name": "stderr",
     "output_type": "stream",
     "text": [
      "\n"
     ]
    },
    {
     "name": "stdout",
     "output_type": "stream",
     "text": [
      "Content: \n",
      "200은 넘 돈아까웠는데 100은 좀 솔깃하노.. \n",
      "\n",
      "Comment: 애초에 키워보면 좆도 재미없는 거품임  - dc App\n",
      "Comment: 애초에 이더위에 사타닉…\n",
      "Comment: 사면 한달뒤 급사..\n"
     ]
    },
    {
     "name": "stderr",
     "output_type": "stream",
     "text": [
      " 31%|███       | 15/49 [00:39<01:23,  2.45s/it]\u001b[A"
     ]
    },
    {
     "name": "stdout",
     "output_type": "stream",
     "text": [
      "Content: \n",
      "킹스네이크 생물제외 5만에 세팅 가능한가요?가능하다면 알려주세요 고수님들\n",
      "\n",
      "Comment: 떡을 침 - dc App\n",
      "Comment: 리빙박스 히팅패드 신문지 물그릇5만이면 가능하긴 할듯근데 하다보면 결국에 싹 갈아 업고 중고로 2-3자 사육장 사와서 키워 구라같지?\n",
      "Content: \n",
      "뭐만 하면 네고를 왤케 치려하노 ㅋㅋㅋㅅㅂ 뭐 적당히 쿨거래하면 알아서 차비 빼주는데그지새끼들 어쩌고 저쩌고 아가리 존나 털면서 네고치려는거존나 비루하고 없어보여서 거래하기 싫어짐 ㅇㅈ? 귀뚜리에 칼슘제도 아껴서 털 년들한테동물 보내서 뭐하누 으휴 그지년들\n",
      "\n",
      "Comment: 여초화되서 아줌마들 거지근성 ㅈㄴ심함 - dc App\n",
      "Comment: 약간 정가주고 사몀 호구라는 심리가 있는듯 씨팔년들\n",
      "Comment: 비싸다고 생각하면 네고를 치려고 하지 말고 돈을 모아야지 ㅅㅂ것들이.. 안팔리면 알아서 가격 낮출건데 네고왕이라도 온것처럼 1) ~에 해주면 바로 입금 드릴게요 ㅇㅈㄹ 존나 하는 부류 2) 브리딩 이런거 모르고 애가 키울거라 어쩌고저쩌고.. (어쩌라고 ㅅㅂ려나 니 애가 키울건데 왜 싸게주노) 위 두부류 넝담아니고 20명 정도 만남\n",
      "Comment: 지금까지 싸고 비싸고 네고를  떠나서 파충류 개인 분양하는 새끼들 대부분 원룸촌이나 깡촌, 개구축빌라에서  분양함, 거기서 먹고자면서 단순 생물방인척 하는 새끼들 개웃김.\n",
      "Comment: 걍 안판다 하면 되는데\n",
      "Comment: 혓바닥 길면 나중에 문제걸고 넘어지는 사람이다 바로 패스해라  - dc App\n",
      "Comment: 네고치는 애들보다 분양자들이 힘겹게사는 노동자 같은 게 팩트취미생활 접고 얼른 제대로된 일이나 해라\n"
     ]
    },
    {
     "name": "stderr",
     "output_type": "stream",
     "text": [
      "\n"
     ]
    },
    {
     "name": "stdout",
     "output_type": "stream",
     "text": [
      "Content: \n",
      "남초에다가애시당초 찐따 비주류 애들이 대부분인 커뮤니티라 그런가머리만 길면 조회수 잘나오고 이쁘다고 ㅂ빨하고 또 기집ㄴ들은 그런거 알아가지고 어필 존나하네 ㅋㅋㅋㅋ어느판이나 그런게 있지만ㅅㅂ ㅈ도 예쁘지도 않고 평타 혹은 그 미만인데 빠는거 왤케 역겹누\n",
      "\n",
      "Comment: 퍙판은 양반이다 씨발 낚시쪽가봐라 스윗할배 ㅈㄴ많다 - dc App\n",
      "Comment: ㄹㅇ\n",
      "Comment: ㅋㅋㅋㅋㅋㅋㅋㅋㅋㅋㅋㅋㅋㅋㅋㅋㅋ\n",
      "Comment: 물소형들 제발 적당히해 ㅜㅜ빨게 없어서 그딴 하타치를..\n"
     ]
    },
    {
     "name": "stderr",
     "output_type": "stream",
     "text": [
      " 37%|███▋      | 18/49 [00:46<01:15,  2.42s/it]\u001b[A\n"
     ]
    },
    {
     "name": "stdout",
     "output_type": "stream",
     "text": [
      "Content: \n",
      "몇도로해놓고 다니냐여름도 끝나간다\n",
      "\n",
      "Comment: 창문형 에어컨 밤26도 낮24도 그래도 방안 온도 27~8 왔다갔다함 - dc App\n"
     ]
    },
    {
     "name": "stderr",
     "output_type": "stream",
     "text": [
      " 39%|███▉      | 19/49 [00:49<01:15,  2.51s/it]\u001b[A"
     ]
    },
    {
     "name": "stdout",
     "output_type": "stream",
     "text": [
      "Content: \n",
      "흥행만 성공해도 반은 성공아니노파충류동반자 이름도잘지엇고렙타일쇼 이지랄보다 훨씬 좋아보이는데수도권 닝겐으로서 게코나 파충류 직관적인단어써라\n",
      "\n",
      "Comment: 객관적으로 성공이지 ㅋㅋㅋ 여기서 욕나오면 잘하고 있는고야\n"
     ]
    },
    {
     "name": "stderr",
     "output_type": "stream",
     "text": [
      "\n"
     ]
    },
    {
     "name": "stdout",
     "output_type": "stream",
     "text": [
      "Content: \n",
      "여기도 설마 판매쇼인데 입장료 받음?\n",
      "\n",
      "Comment: 입장료 없는데 자발적으로 지불해주면 전액 기부하겠다고 함\n",
      "Comment: 1티어들도 이제 행사 나가야할정도로 크레시장이 힘들다는게 아닐까?\n"
     ]
    },
    {
     "name": "stderr",
     "output_type": "stream",
     "text": [
      " 43%|████▎     | 21/49 [00:54<01:13,  2.62s/it]\u001b[A\n"
     ]
    },
    {
     "name": "stdout",
     "output_type": "stream",
     "text": [
      "Content: \n",
      "정상화(크레 가격 폭락)로 평화를 되찾았지~ 나는 믿었어 시장 커주게 했던 쌀숭이 말을~ 근데 입문자가 줄었어 배신 당해버린거야~ 똥퀄크레 팔아 쌀 사먹는 쌀숭이였던 거야~  - dc official App\n",
      "\n",
      "Comment: 작은 파동: ~~\n"
     ]
    },
    {
     "name": "stderr",
     "output_type": "stream",
     "text": [
      " 45%|████▍     | 22/49 [00:57<01:09,  2.56s/it]\u001b[A"
     ]
    },
    {
     "name": "stdout",
     "output_type": "stream",
     "text": [
      "Content: \n",
      "1 이미지 순서 ON허가제 크악 씨이빨  바로 크레판 정상화 OUT!!  민심 돌리기 들어가는 환경청 (캬~)  “알공장 척결” 다섯 글자에 환호성  역시 정상화는 환 경 청  드디어 환경청이 크레판을 정상화 하네~~~   - dc official App\n",
      "\n",
      "Comment: ㄹㅇㅋㅋㅋ이게 진짜 진실의 거울이지ㅋㅋ\n",
      "Content: \n",
      "에어컨 틀고 히터 틀면 방온도 항상 26도쯤 맞춰저 있는데 온도 조절하는게 왜 필요한거임? 얘네 설명 보면 적정온도 26도 던데  - dc official App\n",
      "\n",
      "Comment: 니가 집을 나가든 여행을 가든 할때 항온되라고돈이 남아돌아서 계속 히터랑 에어컨 켜줄건 아니자너\n"
     ]
    },
    {
     "name": "stderr",
     "output_type": "stream",
     "text": [
      "\n"
     ]
    },
    {
     "name": "stdout",
     "output_type": "stream",
     "text": [
      "Content: \n",
      "난 그냥 뱀 키우면 뱀 키우는구나 하고 그려려니 할거 같은데 그렇게 특이한가\n",
      "\n",
      "Comment: 오 신기하다 할순 있는데 별로일것 까지야 뭐..\n",
      "Comment: 뱀 키우는것보다는 생김새가 더 문제임  - dc App\n",
      "Comment: 기독교 때문임ㅋㅋ\n",
      "Comment: 쥐 먹이는것도 한몫함\n",
      "Comment: 특이한거지 별로는 아님 - dc App\n",
      "Comment: 그냥 특이한 취미일 뿐임특이한 취미가 으레 그러하듯, 별 관심도 없는 새끼가 '나 뱀 키워ㅎㅎ' 하면 '어쩌라고' 하는 생각밖에 안 들어서 반응이 시원찮을 뿐매력있는 사람이 키운다면 '뱀이요? 그 기어다니는? 우와 안 물어요? 안 무서워요? 독 없어요? 한번 보고싶다~' 하면서 이야기가 계속 이어짐\n",
      "Comment: ㅇㅇ 괴짜들만 키우지\n"
     ]
    },
    {
     "name": "stderr",
     "output_type": "stream",
     "text": [
      " 51%|█████     | 25/49 [01:04<00:58,  2.44s/it]\u001b[A"
     ]
    },
    {
     "name": "stdout",
     "output_type": "stream",
     "text": [
      "Content: \n",
      "1 이미지 순서 ON2 이미지 순서 ON3 이미지 순서 ON근데 들어가보니 상품만 ㅈㄴ팔아서 당황한거고 \n",
      "\n",
      "Comment: ㅇㅇ  - dc App\n",
      "Comment: 이런 사진들은 다 어디서 구한거임ㅋㅋㅋ 존나 옛날 사진같은데ㅎ\n",
      "Comment: 이름을 시발 파충류 동반자 “파동” 이지랄로 지어놓고 막상 들어가보니까 반찬통에 똑같이 생긴 도마뱀들 넣어놧는데 가격보니까 100 200하네?? 존나당황스러울듯\n",
      "Comment: 대부분 정상인이면 저걸 생각하지  - dc App\n",
      "Comment: 시장에 저런걸왜해ㅋㅋㅋ\n"
     ]
    },
    {
     "name": "stderr",
     "output_type": "stream",
     "text": []
    },
    {
     "name": "stdout",
     "output_type": "stream",
     "text": [
      "Content: \n",
      "극소밀웜 와서 줘봤더니 첨엔 도망가다핀셋으로 입에 가져가니 먹고 눈돌아지금 계속 주는대로 먹는데 이거 하루에 몇마리씩 줘야할까요?계속 이렇게 쳐먹다간 돼지 청개굴개될거 같은데\n",
      "\n",
      "Comment: 걍 안 먹을때까지 줘\n"
     ]
    },
    {
     "name": "stderr",
     "output_type": "stream",
     "text": [
      "\n"
     ]
    },
    {
     "name": "stdout",
     "output_type": "stream",
     "text": [
      "Content: \n",
      " 여전히 성격 거지같음  테임은 갈길 멀어보임 ㅋㅋㅋ  - dc official App\n",
      "\n",
      "Comment: 커엽  - dc App\n"
     ]
    },
    {
     "name": "stderr",
     "output_type": "stream",
     "text": [
      " 57%|█████▋    | 28/49 [01:10<00:47,  2.26s/it]\u001b[A"
     ]
    },
    {
     "name": "stdout",
     "output_type": "stream",
     "text": [
      "Content: \n",
      "낭형 입장에서는 누구보다 성공한거 같은뎈ㅋㅋㅋㅋㅋ 1회차 대 성공 2회차 기정 사실화 업체들 만족 업체들 저퀄 떨이 성공  대전 입문자 증가 등등등  대전 업체인 낭형 입장이서는 그냥 오늘 발렌타인 졸라 마시고 웃고 있을듯 ㅋㅋㅋㅋㅋㅋㅋ  - dc official App\n",
      "\n",
      "Comment: 삼겹살먹었음\n",
      "Comment: 여기 천안인데 천안에서 가는 가족들도 많았을거임\n",
      "Comment: 대성공이지ㅋㅋㅋ\n",
      "Comment: 저퀄만팔려서 매출은 그닥이라던데  - dc App\n",
      "Comment: 낭게이 등판이누 ㅋㅋㅋ 걍 고닉으로 글써라\n",
      "Comment: 성공햇음됫다~!\n",
      "Comment: ㅋㅋㅋ 같은 챗방에서 한번 써준 듯\n",
      "Comment: 아니 형 돌려까기 ㅈㄴ 웃기네\n"
     ]
    },
    {
     "name": "stderr",
     "output_type": "stream",
     "text": [
      "\n",
      " 61%|██████    | 30/49 [01:15<00:43,  2.31s/it]"
     ]
    },
    {
     "name": "stdout",
     "output_type": "stream",
     "text": [
      "Content: \n",
      "컨벤션 옆에 성심당 있어서 부가효과 ㄱㅆㅅㅌㅊ 좆울 + 좆기도 남부권과 달리 가족단위 많음 심지어 개새끼 캐리어까지 있어서 혼잡도 쳐돌았는데 동선에 부스별 구매하기힘들정도로 씹창남 입문용 미구분st 저가크레팔이들 돈 낭낭이 수거함 비주류 쌓아둔데는 홍보효과는 그닥이지만 상대적으로 부유한 계층 모부한테서 돈 수금 좀 했을듯 생각보다 애들 많아서 체험부스 적은건 패착 체험관중에 퍙문신하는데는 걍 파리날림 헤냐든 스티커든 무료로 문신해준다는데 걍 휑하니 테이블만 놔두는건 주최측이나 담당업체 둘 다 병신인거 원래는 가장 핫해야할 체험부스임ㅇㅇ 총평 = 차기 행사때는 가족단위 체험 위주로 배치하고 나머지 샵팔이 배치하면 냥냥하게 잘팔듯 반박시 퍙붕이 \n",
      "\n",
      "Comment: 결론은 낭낭하게 벌엇다는거네  - dc App\n",
      "Comment: 타투 00시 마다 선착순으로 줬는데 그 시간대에 다들 오셔서 10~20분 받고 다들 사라지심.. 잉크 분배 문제로 체험을 길게 못하긴 했음..이번 행사는 어린이 동반 가족 단위가 이렇게 많이 올지 몰랐고, 다음 행사는 모든 변수를 고려해서 체험 학습 코너도 많이 만들어 두게. 사실 많이 반성 중임. 퍙인들은 대체적으로 사람 많은거 빼고는 만족을\n",
      "Comment: 했다고 하는데, 이정도 인파는 나도 전혀 예상하지 못해서 준비가 미흡하긴 했다 ㅋㅋ..\n",
      "Comment: 조또 쿠레 3일장 하..... 크레보부상만많고 볼거리 별로 낭게이 실망\n",
      "Comment: 맘카페에 물어보는 분들 많았는데 저거였구나\n",
      "Comment: 문신충 체험 누구아이디어냐 ㅋㅋㅋ\n",
      "Comment: 이욜 성공했네ㅊㅊ 고생 많아슴\n",
      "Comment: 오늘 갠적으로 난 재밌게 봤음  - dc App\n",
      "Comment: 아니 파동 맞나요? 크동아니구요?크레만을 위한 오직 크레를 위한 렙타일쇼크레 호구잡이쇼\n"
     ]
    },
    {
     "name": "stderr",
     "output_type": "stream",
     "text": [
      "\u001b[A\n"
     ]
    },
    {
     "name": "stdout",
     "output_type": "stream",
     "text": [
      "Content: \n",
      "몇달전에 볼파이톤에 우연히 접한뒤 빠져 입문 고민중입니다 곧 벡스코에 파충류 박람회 열리는데  그곳 가서 물품사고 볼파 입양해도 괜찮나요?물품키우는데 필요한것들이나 환경을 구비하는걸 어떻게 하면 좋을지 고민중입니다\n",
      "\n",
      "Comment: 검색을 하세요\n",
      "Comment: 그런데서 사면 개호구임 그냥 개인입양하는게 두배는 더 싸고 건강한데\n",
      "Comment: 박람회가 더 쌀수도 있으니 마음에 드는 모프 시세 알아보고 가셔~  - dc App\n",
      "Comment: 볼파는 업자들 경우에 미국 모프 마켓 기준으로 100달러면 10만원에 책정함 그게 기준임국제적으로 시세가 정해져 있다보니 거기서 특별히 싸게 주지도 않고개인분양은 이것보다 저렴함용품은 사육장 취향에따라 다르긴 한데 박람회가 간혹 싼 경우도 있긴한데 통상적으로는 네이버 최저가가 더쌈사육장은 중고로 들이는것도 추천\n",
      "Comment: 일단 렉사에서 키울것인지 포맥스사육장에서 키울것인지 부터 정하시는것이 좋습니다. 볼파이톤의 경우 열원이 있는 사육장과 물그릇 만있다면 충분히 건강하게 키우실수 있습니다 위에서 말씀하신것처럼 샵보단 개인이 저렴한것은 사실입니다. 만약 개인분양을 고려하신다면, 개체의 분양자가 사육했던 사육환경이나, 어느정도 개체에 예정이 있으신상태로 건강히 키우신 개체인지 확인하고 입양하시는것을 추천드립니다. 요즘은 마이트 문제가 많이없어졌다지만, 아직존재는 하고 있는점과 감기등으로 인한 개체의 폐사가 우려되기때문에 샵이나 브리더를 통한 입양을 더욱 추천드리긴합니다. 그래도 미국의 기준으로 대부분 가격이 비슷합니다, 너무 비싸다면 문제가 있지만 첫 개체인만큼 자기자신에게 정말 마음에 드는 개체를 입양하는것이 가장 좋을듯합니다.\n"
     ]
    },
    {
     "name": "stderr",
     "output_type": "stream",
     "text": [
      " 63%|██████▎   | 31/49 [01:18<00:45,  2.52s/it]\u001b[A\n"
     ]
    },
    {
     "name": "stdout",
     "output_type": "stream",
     "text": [
      "Content: \n",
      "무늬 거의사라지네 블나대신 얘키워도 될듯  - dc official App\n",
      "\n",
      "Comment: 오 성체 궁금했는데 처음봄 ㄱㅅㄱㅅ - dc App\n"
     ]
    },
    {
     "name": "stderr",
     "output_type": "stream",
     "text": [
      " 65%|██████▌   | 32/49 [01:21<00:42,  2.51s/it]\u001b[A\n"
     ]
    },
    {
     "name": "stdout",
     "output_type": "stream",
     "text": [
      "Content: \n",
      "판게아 브포? 이건 아직 안써봤는데 다써가니까 곧 사봐야지\n",
      "\n",
      "Comment: 브포는 건더기가 많아서 싫어하는 개체 꽤 많아\n",
      "Comment: 개인적으로 다잘먹었던건 뉴트리션\n"
     ]
    },
    {
     "name": "stderr",
     "output_type": "stream",
     "text": [
      " 67%|██████▋   | 33/49 [01:23<00:39,  2.49s/it]\u001b[A\n"
     ]
    },
    {
     "name": "stdout",
     "output_type": "stream",
     "text": [
      "Content: \n",
      "이게 될까 싶으면서 응모했는데 진짜 돼서 신기함 ㅎㅎ 사육장 깔끔하고 넓어서 진짜 개좋음 화트프도 잘돌아댕김 사육장 커졌으니까 식물 더 넣고 테라리움 꾸밀예정감사합니당 아그리고 사진에 비친거 내팬티맞음\n",
      "\n",
      "Comment: 누난지 형인지 모르겠지만 신경치료잘받으시오\n",
      "Comment: 비바리움 = 생물이사는것테라리움 = 식물만사는것화트프는 정글플랜츠사는 비바에못산다습도때문에\n",
      "Comment: 안보이니까 노팬티라는 소리냐\n",
      "Comment: 꾸벅 덕분에 신경치료 성공했수다! 무사히 조립된 모습 보니 좋다  - dc App\n"
     ]
    },
    {
     "name": "stderr",
     "output_type": "stream",
     "text": [
      " 69%|██████▉   | 34/49 [01:25<00:35,  2.39s/it]\u001b[A"
     ]
    },
    {
     "name": "stdout",
     "output_type": "stream",
     "text": [
      "Content: \n",
      "알바하다 잡았는데 뭔뱀임?\n",
      "\n",
      "Comment: 유혈목이  - dc App\n",
      "Comment: 독사니까 죽이셈\n",
      "Comment: 유혈목이 죽이지마 ㅠㅠ\n",
      "Comment: 독사 맞는데 독없는뱀보다 좃밥이고위의 김레몬씨는 독없는뱀 사진 올려도 \"독사니까 죽이셈\"이라고 댓글다는 사람임\n"
     ]
    },
    {
     "name": "stderr",
     "output_type": "stream",
     "text": []
    },
    {
     "name": "stdout",
     "output_type": "stream",
     "text": [
      "Content: \n",
      "가는게 병신이지 ㅎㅎ \n",
      "\n",
      "Comment: 인정\n",
      "Comment: ㅋㅋㅋㄹㅇ\n",
      "Comment: 이건 진짜 이상한게 업체들한테도 돈받고 손님한테도 돈받고   - dc App\n",
      "Comment: 대관비용을 소비자한테 전가하는거지\n"
     ]
    },
    {
     "name": "stderr",
     "output_type": "stream",
     "text": [
      "\n"
     ]
    },
    {
     "name": "stdout",
     "output_type": "stream",
     "text": [
      "Content: \n",
      "근데 온 사람중에 애 데리고 온 가족파티가 90퍼였음...파우나가 쌉캐리하긴했는데 테구성체나 알비노 이구아나도 있었고파인 스넼끼랑 제브라 스킨크랑 렉리스 리자드보고 살짝 눈돌아갈뻔함...ㅇㅇ...그래도 크레 7,80퍼긴했는데\n",
      "\n"
     ]
    },
    {
     "name": "stderr",
     "output_type": "stream",
     "text": [
      " 76%|███████▌  | 37/49 [01:33<00:28,  2.41s/it]\u001b[A"
     ]
    },
    {
     "name": "stdout",
     "output_type": "stream",
     "text": [
      "Content: \n",
      "업체들 보면 인스타던 찻집이던 유튜브던 아무도 법안관련해서 심각하게 받아들이고 있는사람 없는거같음그중 몇몇은 내년내로 털고 나갈라는게 대놓고 보이는 업자도 보이는듯- dc official App\n",
      "\n",
      "Comment: 어차피 법 나와봤자 알빠노 하면서 다 사고팔꺼라서\n",
      "Comment: 맞음ㅇㅇ빨리 사기쳐서 먹고빠지자ㅇㅇ\n"
     ]
    },
    {
     "name": "stderr",
     "output_type": "stream",
     "text": [
      "\n"
     ]
    },
    {
     "name": "stdout",
     "output_type": "stream",
     "text": [
      "Content: \n",
      "갤에서 처음 말해본다 가을에 사진 올릴게 기대해줘  - dc official App\n",
      "\n",
      "Comment: 가을 언제 딱말해, 입추 지났다 지금도 가을이다. 말 못하면 ㄱㄹ 인증임ㅇㅇ\n"
     ]
    },
    {
     "name": "stderr",
     "output_type": "stream",
     "text": [
      " 80%|███████▉  | 39/49 [01:38<00:25,  2.53s/it]\u001b[A"
     ]
    },
    {
     "name": "stdout",
     "output_type": "stream",
     "text": [
      "Content: \n",
      "걱정되네\n",
      "\n",
      "Comment: 다흑영상중에 여치에서 연가시 나오는거 있는데 보고오셈\n",
      "Content: \n",
      "씨발아 인생 한가해?니 말하는 핀트가 비꼬는 척 하면서 간담회 가달라는거 티나는데 ㅈ까 병신아 두비아로치 합법이라고 외치는 병신년이 로갓하고 글쓰고 있는거 존나 티나네 \n",
      "\n",
      "Comment: 아 순간 나인줄 알았네ㅋㅋㅋ 글이 많긴 하노  - dc App\n",
      "Comment: 한량 빡대가리 렉카년이지 뭐~\n"
     ]
    },
    {
     "name": "stderr",
     "output_type": "stream",
     "text": []
    },
    {
     "name": "stdout",
     "output_type": "stream",
     "text": [
      "Content: \n",
      "????  - dc official App\n",
      "\n",
      "Comment: 가능하고 실제로 저기로 탈출사례 많음\n",
      "Content: \n",
      "??  - dc official App\n",
      "\n",
      "Comment: 자율해  - dc App\n",
      "Comment: ㅇㅇ 자율 패시브임 그냥 따로 적응 시킬 필요 없음\n"
     ]
    },
    {
     "name": "stderr",
     "output_type": "stream",
     "text": [
      "\n"
     ]
    },
    {
     "name": "stdout",
     "output_type": "stream",
     "text": [
      "Content: \n",
      "10분정도 넣어봤는데 애가 너무 싫어하네.... 좋은집으로 이사시켜줄려했는데 내일 걍 모어닝 살러간다  - dc official App\n",
      "\n"
     ]
    },
    {
     "name": "stderr",
     "output_type": "stream",
     "text": [
      " 90%|████████▉ | 44/49 [01:51<00:13,  2.62s/it]\u001b[A"
     ]
    },
    {
     "name": "stdout",
     "output_type": "stream",
     "text": [
      "Content: \n",
      "ㅋㅋㅋㅋㅋㅋㅋㅋㅋ 재테크충들의 마지막똥꼬쑈 ㅋㅋㅋㅋㅋㅋ  - dc official App\n",
      "\n"
     ]
    },
    {
     "name": "stderr",
     "output_type": "stream",
     "text": []
    },
    {
     "name": "stdout",
     "output_type": "stream",
     "text": [
      "Content: \n",
      "홍보를 어케했길래 후기가 다 저모양이냐 \n",
      "\n",
      "Comment: 마트에 입장료내고 들어간 기분 ㅋㅋㅋㅋㅋㅋㅋㅋ\n",
      "Comment: 마지막 지방끝물쇼네ㅋ신규뉴비들충격\n",
      "Comment: 마트에 입장료 내고간기분 ㅋㅋㅋㅋㅋㅋㅋ일반인들이 업자들 보는 시선 변함없내 ㅋㅋㅋㅋㅋ  - dc App\n",
      "Comment: 일반인들 문화충격 ㅋㅋㅋㅋㅋㅋㅋㅋ\n",
      "Comment: 쌀숭이들 똥꼬쇼하는곳인데 당연한 후기\n",
      "Comment: 이게 맞다\n",
      "Comment: 이건좀 웃기내 ㅋ플리마켓따위를 뭐라고 홍보를했길래 반응이 저래 ㅋㅋㅋㅋㅋㅋ  - dc App\n",
      "Comment: 나도 갔는데 좆마뱀 키우는 입장에선 씹만족임 ㅋㅋ 쎄비누나도있고  - dc App\n",
      "Comment: 후기 보니까 애엄마아빠들은 파충류 체험, 전시하는 행사인줄 알고 간거였더라. 일반인 입장에서는 입장료도 있으니 그렇게 생각하는게 정상이긴 해 ㅋㅋ 기껏 입장료내고 들어갔더니 ㅈ만한 소스통에 도마뱀 넣어놓고 판매만 하고있으니 실망할만 하지 ㅋㅋㅋ\n",
      "Comment: 체험공간이 좀 있었는데 그거 다풀방이더라 애기들 엄청 많고 애기들 어디 두고 커피나 즐기려다 실패하니까 화난듯 ㅋㅋㅋ 게코 팔이 갬성을 아직 일반인이 이해하긴 어렵지\n",
      "Comment: 근데 파충류판 이미지는 원래 박살나있었는데..\n",
      "Comment: 행사때마다 크레 ㅋㅋㅋㅋ ㅅㅂ 그냥 파사모에서 무분이나 받고 무분이나 줘라  비싸게 파는 놈이나 그걸 사는 놈이나 이해 ㅈㄴ안됌 ㅋㅋㅋ\n",
      "Comment: 원래 그게 당연한건데 애들이 많이 왔나부네 역시 노키즈존 걸어야돼  - dc App\n",
      "Comment: ㅈ오온나 ㅈ같었나보네 다들 ㅋㅋㅋㅋ 안바도 뻔하지 파충류 3일장인데 뭐 ㅋㅋㅋㅌ 다신 안갈듯\n",
      "Comment: 팩트는 사람 ㅈㄴ 많긴했다는거임...크레 장사 안망할듯\n",
      "Comment: 사람 많앗으면 때돈 벌엇다는거잖아 그럼 성공한거지ㅋㅋ  - dc App\n",
      "Comment: 아잇! 미안합니다 다음 행사부터는 체험 학습 코너도 많이 만들어 모두가 만족 할 순 없겠지만 최대한 많은 사람이 만족 할 수 있게 하겠습니다!!\n",
      "Comment: 마트에 돈내고 입장하는건 코스트코 생각하면 되지 머..\n",
      "Comment: 크레쇼 아니었나요?파동 Nono 크동\n",
      "Comment: ㄹㅇ병신사기꾼새끼들ㅋㅋㅋ\n",
      "Comment: 학식브리더클럽 왔노\n"
     ]
    },
    {
     "name": "stderr",
     "output_type": "stream",
     "text": []
    },
    {
     "name": "stdout",
     "output_type": "stream",
     "text": [
      "Content: \n",
      "이끼 떨어져도 토대는 잡혀있으니깐 다른식물 심어야겠다  - dc official App\n",
      "\n",
      "Comment: 이끼 죽을 환경이면 다른식물 넣어도 죽음그냥 유목+코르크보드만 두셈\n",
      "Comment: 응~ 코르크보드에 요산칠 존나해서 하얘지고 똥은 존나 싸는데 오염 물질 분해 안돼서 곰팡이 존나 피고 코코피트 화이바 아가리에 꼈다고 이새끼 아픈거냐고 글 존나 쓸거면서~\n",
      "Content: \n",
      "유명샵빼곤 씹 불황에 호가충들그냥 크레 10마리씩 합사루 키울판인데아직도 싸우네\n",
      "\n"
     ]
    },
    {
     "name": "stderr",
     "output_type": "stream",
     "text": [
      "100%|██████████| 49/49 [02:04<00:00,  2.54s/it]\n",
      " 66%|██████▌   | 19/29 [35:43<19:36, 117.63s/it]"
     ]
    },
    {
     "name": "stdout",
     "output_type": "stream",
     "text": [
      "Content: \n",
      "풀핀 퀄좋은게 8만원에 거래되노..2년뒤면 반의반값 나오겠네 ㅋㅋㅋ케\n",
      "\n",
      "Comment: 바로 긁히노 세이블 물린 급식게이야ㅋㅋㅋㅋㅋㅋㅋㅋㅋㅋㅋㅋㅋㅋㅋㅋ - dc App\n",
      "Comment: ㅋㅋ아잔 50에 올려도 디져도 안팔리는거 매물은 졸라많고 카페 악성재고 봐라 익이야 ㅎㅎ\n",
      "Comment: 헷아잔암은 피들에 매물자체가 없음 아잔보다 비싼 느낌 귀해~  - dc App\n"
     ]
    },
    {
     "name": "stderr",
     "output_type": "stream",
     "text": []
    },
    {
     "name": "stdout",
     "output_type": "stream",
     "text": [
      "Content: \n",
      "- dc official App\n",
      "\n",
      "Comment: 끄억  - dc App\n"
     ]
    },
    {
     "name": "stderr",
     "output_type": "stream",
     "text": []
    },
    {
     "name": "stdout",
     "output_type": "stream",
     "text": [
      "Content: \n",
      "사람 개 많음 시원함 푸드코트 줄 김 크레가 그래도 반 정도 있더라 용품 많음 업자들 표정 슬퍼보이지는 않음 사람이 진짜 무슨 개미때 처럼 있음  - dc official App\n",
      "\n",
      "Comment: 별다를바 없는 크레 3일장\n",
      "Comment: 사람 많다는 얘기는 공통적으로 보이는듯 낭게이 좋겠노\n"
     ]
    },
    {
     "name": "stderr",
     "output_type": "stream",
     "text": []
    },
    {
     "name": "stdout",
     "output_type": "stream",
     "text": [
      "Content: \n",
      "구체적으로 밝혀진 것도, 확정된 것도 없으니 가상의 사례로 예를 들자면입문자 입장에서\"나중에 못 키우게 되면 어떡하지?팔려면 서류떼고 허가받고 해야 한다는데 귀찮아보인다그냥 사지 말아야지\"하는 식으로 새로 시작하려는 입문자 틀어막는 장벽이 하나씩 늘어나는거신규유입이 줄어든다고 취미 졸업하는 애들도 줄어드는게 아니니 장기적으로 가면 파이 자체가 작아져서 산업 규모도 축소되고극단적으로 가면 용품이나 먹이업체들 사업성 없다고 접어버리고 그냥 키우던 놈들도 이제 집에서 벌레 키우면서 과일갈아서 먹이 만들고 그러게 되는거근데 솔직히 내 알빠노?망해도 느덜취미지 난 즐길거 다 즐기고 떴는데 뭐 어쩌라고ㅋㅋ망하던 말던꼬우면 이민가시던가\n",
      "\n",
      "Comment: 근데 동물키우는 취미에 진입장벽이 없는것도 좀 그래\n",
      "Comment: 단기적으로는 잠깐 반짝했던 NFT처럼 될 수도 있음고가개체 여럿 갖고있던 놈들끼리 서로 주고받으면서 값어치 유지하거나 올리거나 하는 건데당연히 거기서 비롯되는 부가가치 창출 같은 것 없이 그냥 거래만 하면서 가격에 거품만 끼우는 거니까 NFT랑 똑같은 흐름으로 이어질 거임'오 이거 존나비싸네? 근데 뭐에다 써? 쓸 데가 없다고? 그럼 누가 사?'막판엔 폭탄돌리기가 되겠지\n",
      "Comment: 나도 서류때문에 안키운 개체 꽤 됨\n"
     ]
    },
    {
     "name": "stderr",
     "output_type": "stream",
     "text": [
      "\n"
     ]
    },
    {
     "name": "stdout",
     "output_type": "stream",
     "text": [
      "Content: \n",
      "가족들이 혐오스럽다고 느끼지 않을만한 쬠만한 양서류 추천좀 - dc official App\n",
      "\n",
      "Comment: 다트프록 파벨뉴트   - dc App\n",
      "Comment: 픽시\n",
      "Comment: 다트프록\n",
      "Comment: 리드프록\n",
      "Comment: 청개구리 존내무난함\n",
      "Comment: 밀키프록 ㅋㅋ\n"
     ]
    },
    {
     "name": "stderr",
     "output_type": "stream",
     "text": [
      "  8%|▊         | 4/49 [00:11<02:09,  2.88s/it]\u001b[A"
     ]
    },
    {
     "name": "stdout",
     "output_type": "stream",
     "text": [
      "Content: \n",
      "샵도 재테크충들이 쌀먹하게해준거였는데  재테크충들 박멸되면 샵에서 누가 크레삼 ㅋ 재테크빼면 아무것도없는게 크레인데 ㅋㅋ 업자새끼들 입터는거 보니까 존나 빡세개 법안 나와바야 정신좀 차릴것같내 25년12월까지 원동기면허나 따놓으라고 새끼들아 ㅋ  - dc official App\n",
      "\n",
      "Comment: 야 씨발련아 간담회 참여 인원 어떻게든 끌어서 너대신 참석하게 만드려는 니 발악은 잘봤다 그런데 너도 안가면서 존만한 새끼야 뒤질래? 손안대고 코풀으려고 지랄발광을 하고 있네 하루종일\n"
     ]
    },
    {
     "name": "stderr",
     "output_type": "stream",
     "text": []
    },
    {
     "name": "stdout",
     "output_type": "stream",
     "text": [
      "Content: \n",
      "1 이미지 순서 ON2 이미지 순서 ON3 이미지 순서 ON4 이미지 순서 ON씨발 이끼 좀 많이 뒤진거같은데  - dc official App\n",
      "\n",
      "Comment: 이끼는 고습+환기잘되야함 키우기 존나어려움 포기하셈\n",
      "Comment: 아 전부부수라고\n",
      "Comment: ㅋㅋ 파사모에서 봄 다트프록 키우기 ㄲ\n",
      "Comment: 굳이 이끼가 아니더라도 어차피 오래 못가니까 잘 알아보고 다시 만들어\n",
      "Comment: 말 ㅈㄴ 안듣네ㅋㅋ  - dc App\n",
      "Content: \n",
      "쌀먹충들이야 뒤지겠지만 소비자도 비싸게 사야하잖음크레 더 싸지면 사려고했는데 쌀먹들 떨이할때 살까\n",
      "\n",
      "Comment: 아니 우린전혀상관없음ㅋ\n",
      "Comment: 어차피 크레 모프는 알공장끼리 사는거고일반인은 망하면 그렇구나 하고 알아서 빠짐\n"
     ]
    },
    {
     "name": "stderr",
     "output_type": "stream",
     "text": []
    },
    {
     "name": "stdout",
     "output_type": "stream",
     "text": [
      "Content: \n",
      "서랍에 쳐박고 알공장 돌리고 물건취급하다가격떨어져서 ㅈ같다... ㅇㅈㄹ 떠는거 개ㅈ같다 얘네들 생명인건 아냐???전부터 봤는데 진짜 참병신들 좀 섞여있네\n",
      "\n",
      "Comment: 생명이라고 대우해줄 필요는없지 돈이 목적이면근데 인격체로써 할짓이 안되는거지\n",
      "Comment: 쌀숭이\n"
     ]
    },
    {
     "name": "stderr",
     "output_type": "stream",
     "text": []
    },
    {
     "name": "stdout",
     "output_type": "stream",
     "text": [
      "Content: \n",
      "겁나귀엽네\n",
      "\n",
      "Comment: 나?\n"
     ]
    },
    {
     "name": "stderr",
     "output_type": "stream",
     "text": [
      "\n"
     ]
    },
    {
     "name": "stdout",
     "output_type": "stream",
     "text": [
      "Content: \n",
      "절지판 마냥 좆까라 하고 거래 할텐데 뭐 \n",
      "\n",
      "Comment: 절지판에서 뭐가 막힌거?\n",
      "Comment: 사이테스라는게 멸종위기 동물들 거래 제한해서 보호하자고 마련된 걸텐데 그 거래주체가 되는 좆간들이 몇백 몇천마리 단위로 번식하고 있다는게 뭔가 좀 아이러니하네\n"
     ]
    },
    {
     "name": "stderr",
     "output_type": "stream",
     "text": [
      " 20%|██        | 10/49 [00:27<01:50,  2.82s/it]\u001b[A"
     ]
    },
    {
     "name": "stdout",
     "output_type": "stream",
     "text": [
      "Content: \n",
      "큰거 말고 새끼\n",
      "\n",
      "Comment: 번식을 안하니까 안나오는거임. 알받기가 힘들다함. 노력해봄\n",
      "Comment: 최근에 나도 궁금해서 갤에 질문 했는데 답이 없다..ㅠ\n"
     ]
    },
    {
     "name": "stderr",
     "output_type": "stream",
     "text": []
    },
    {
     "name": "stdout",
     "output_type": "stream",
     "text": [
      "Content: \n",
      "태어난지 2달 좀 안된 애인데 누구는 맨날 급여하라하고 누구는 이틀에 한번 급여하라는데 뭐가 맞음?  - dc official App\n",
      "\n",
      "Comment: 난 매일 주고 있는데. 하루 걸러서 더스팅하고\n",
      "Comment: 상관없음\n",
      "Comment: 난 월수금 정상 식사량 급여하고 화목토는 간식 수준으로 급여 중\n",
      "Comment: 매일3마리  - dc App\n",
      "Comment: 웜디쉬 비워져있으면 채워주는식으로 해\n",
      "Comment: 아직 베이비라 매일 아침저녁 두번줌\n",
      "Comment: 다들 고마워 ~~  - dc App\n"
     ]
    },
    {
     "name": "stderr",
     "output_type": "stream",
     "text": []
    },
    {
     "name": "stdout",
     "output_type": "stream",
     "text": [
      "Content: \n",
      "물은 그럼 어케마셔 얘 \n",
      "\n",
      "Comment: 사막에 살던애야. 며칠 안마셔도 안죽어\n",
      "Comment: 시ㅡ바 키친타올 깨끗한 걸로 깔고 거기다가 분무기로 물 존나 뿌려놓으면 혀로 핥짝거리면서 먹음\n",
      "Comment: 그냥 병원 한번 가보면 되잖슴\n"
     ]
    },
    {
     "name": "stderr",
     "output_type": "stream",
     "text": []
    },
    {
     "name": "stdout",
     "output_type": "stream",
     "text": [
      "Content: \n",
      "점 없고 숫에 퀄도 괜찮아보이는데.. 진짜 크레 ㅈ됐구나\n",
      "\n",
      "Comment: ㅈ이아니라 건강해지고있는거라고 말해줄래?\n",
      "Comment: 어디서 세이블숫 20에 판매함?  - dc App  - dc App\n",
      "Comment: 어디 점없고 퀄좋은숫20 링크 사야지  - dc App\n",
      "Comment: 어디야? 없눈디 뭐로검색함?\n",
      "Comment: 깨끗해지는 과정임  - dc App\n",
      "Comment: 착해졌내  - dc App\n",
      "Comment: 무분 ㄱ ㄱ\n"
     ]
    },
    {
     "name": "stderr",
     "output_type": "stream",
     "text": []
    },
    {
     "name": "stdout",
     "output_type": "stream",
     "text": [
      "Content: \n",
      "이거 쉽게 설명해주실분?\n",
      "\n"
     ]
    },
    {
     "name": "stderr",
     "output_type": "stream",
     "text": []
    },
    {
     "name": "stdout",
     "output_type": "stream",
     "text": [
      "Content: \n",
      "우흥\n",
      "\n",
      "Comment: 느금마\n",
      "Comment: 너 진짜 아니잖아 ㅋㅋ\n"
     ]
    },
    {
     "name": "stderr",
     "output_type": "stream",
     "text": []
    },
    {
     "name": "stdout",
     "output_type": "stream",
     "text": [
      "Content: \n",
      "솔직히 태백이가 ㅂㅅ이긴햇어도 태백이같이 찻집 어그로 끌어서  저런게 있다정도는 알려줘야되는데 괜히 저런거 모르는 소비자만 쉬쉬하는 업자들한테 뒤통수 당하는거아녀 ㅠㅠ  - dc official App\n",
      "\n"
     ]
    },
    {
     "name": "stderr",
     "output_type": "stream",
     "text": []
    },
    {
     "name": "stdout",
     "output_type": "stream",
     "text": [
      "Content: \n",
      "ㅈㅇ질하는거면 진짜 불쌍한 하남자다...개고양이도아니고 걍 니눈에 이쁘고싼거키워형질에 그만목메고이제 거기서거기드만\n",
      "\n"
     ]
    },
    {
     "name": "stderr",
     "output_type": "stream",
     "text": []
    },
    {
     "name": "stdout",
     "output_type": "stream",
     "text": [
      "Content: \n",
      "선동 날조에 ㅈㄴ 휘둘리는 지능내가 없으면 남이 가진거 까내리면서 자위질인생 최고업적 크레 해칭지 앞날보다 퍙 걱정이 우선흑우들아 현생을 살아야 취미도 있는거다ㅋㅋㅋㅋ과몰입 하지 말고 나가서 운동도 하고 친구도 만나라\n",
      "\n"
     ]
    },
    {
     "name": "stderr",
     "output_type": "stream",
     "text": []
    },
    {
     "name": "stdout",
     "output_type": "stream",
     "text": [
      "Content: \n",
      "개랑 고양이도 법안 ㅈㄴ 빡센데 파충류라고 해서 다를리가?- dc official App\n",
      "\n",
      "Comment: 다르지 개공장은 개빠들의 적이라 그사단 난거고 크레맘들은 오히려 알공장편임 지들도 해먹어야돼서\n"
     ]
    },
    {
     "name": "stderr",
     "output_type": "stream",
     "text": []
    },
    {
     "name": "stdout",
     "output_type": "stream",
     "text": [
      "Content: \n",
      "짜피 비양심 업자들 개ㅈ되는거라우린 걍 팝콘뜯으면서 가게 망하는거 구경하면됨지금 무서워서 싸그리 정리하고있는 업자면 개추 ㅋㅋ\n",
      "\n",
      "Comment: 이제 뱀밥 어디서 사오나...\n"
     ]
    },
    {
     "name": "stderr",
     "output_type": "stream",
     "text": []
    },
    {
     "name": "stdout",
     "output_type": "stream",
     "text": [
      "Content: \n",
      "?\n",
      "\n",
      "Comment: 15\n",
      "Comment: 점박이 달마아잔틱이 그가격임 못구함  - dc App\n",
      "Comment: 점 좀 있는거 40에 데려옴\n",
      "Comment: 얼마전에 50에 두마리 점 없는거 보냈는데  - dc App\n"
     ]
    },
    {
     "name": "stderr",
     "output_type": "stream",
     "text": []
    },
    {
     "name": "stdout",
     "output_type": "stream",
     "text": [
      "Content: \n",
      "빡쎄게 나오길 바라는거임? 좃 만한 시장에서 업자들 후려치는 법안 나오면 피해는 소비자들이 그대로 받는건데, 망하라고 이를 아득바득 갈고 있네 ㅂㅅ들 진심으로하는 말이냐?  - dc official App\n",
      "\n",
      "Comment: 소비 안할려고 법안뜨면\n",
      "Comment: 함께 폭사하자\n",
      "Comment: 진심이지\n",
      "Comment: 이미 내가 키울거 외엔 다 정리해서 그런 것도 있긴 함ㅋㅋ이쪽업계 이제 어찌되든 알 바 아님\n",
      "Comment: 원래 남의집 잘돌아가는 꼴 보려면 배아픈법  - dc App\n"
     ]
    },
    {
     "name": "stderr",
     "output_type": "stream",
     "text": [
      "\n",
      " 49%|████▉     | 24/49 [01:06<01:05,  2.61s/it]"
     ]
    },
    {
     "name": "stdout",
     "output_type": "stream",
     "text": [
      "Content: \n",
      "딱딱 소리 내면서 입질하고 가끔 자기 팔쪽으로 입질함 가끔씩은 육지에 올라와서 이상한 두꺼비 소리를 내기도 하고 물 관리는 나름 잘해주는데 문제 있는건가 \n",
      "\n",
      "Comment: 열악한 환경에서 개체가 앞으로 60년 살아갈 생각하니까 정신병걸린거지\n",
      "Comment: 너도 블츠하면 허공그랩하잖아\n",
      "Comment: 호흡기 질환 의심.  나라면 병원 데려가본다.  - dc App\n"
     ]
    },
    {
     "name": "stderr",
     "output_type": "stream",
     "text": [
      "\u001b[A"
     ]
    },
    {
     "name": "stdout",
     "output_type": "stream",
     "text": [
      "Content: \n",
      "샾에 오천원에 넘겨라 이거지? \n",
      "\n",
      "Comment: 건천휴게소에 유기 시켜라\n",
      "Comment: 뱀이나 픽시키우면됨\n",
      "Content: \n",
      "이제는 내가 사육장 앞에만 가도 밥주는 줄 알고 레게들이 마중나옴귀여워서 보기 좋긴 한데 이게 정말 나를 알아보는건가 궁금해짐그래서 나는 사육장 앞에 안가고 밥줄때 쓰는 핀셋만 사육장 앞에서 흔드니까 반응함이놈들은 주인이 아니라 핀셋을 반기는 거였다어쩐지 핀셋에 먹을게 없어도 덤벼들더라니\n",
      "\n"
     ]
    },
    {
     "name": "stderr",
     "output_type": "stream",
     "text": []
    },
    {
     "name": "stdout",
     "output_type": "stream",
     "text": [
      "Content: \n",
      "1 이미지 순서 ON2 이미지 순서 ON그때 3 이미지 순서 ON4 이미지 순서 ON지금 마데카솔 발라주니 이렇게됨 괴사맞나??? 이제 어케해야함 \n",
      "\n",
      "Comment: 괴사 맞네 ㄷㄷㄷㄷ\n",
      "Comment: 물에불려서 꼬리끝에 탈껍떼주는건어떰?  - dc App\n",
      "Content: \n",
      "https://youtube.com/shorts/asVbrhDOb7k?si=c5khcSPHgE3cBl8H 나랑 같이 도마뱀 보러 갈래 ?나랑 같이 도마뱀 보러 갈래 ?youtube.com앞머리 내린거 이쁘다  - dc official App\n",
      "\n",
      "Comment: 니는 성형이 이쁘냐?\n",
      "Comment: 여태 몇백명은 들락날락했을건데 이쁘다 이 지1랄 ㅋㅋㅋㅋ\n",
      "Comment: 쇼츠 찍을시간에 화리 공청회나 가지\n"
     ]
    },
    {
     "name": "stderr",
     "output_type": "stream",
     "text": []
    },
    {
     "name": "stdout",
     "output_type": "stream",
     "text": [
      "Content: \n",
      "고거슨 조류  - dc official App\n",
      "\n",
      "Comment: 다음은 차례는 영장류\n"
     ]
    },
    {
     "name": "stderr",
     "output_type": "stream",
     "text": []
    },
    {
     "name": "stdout",
     "output_type": "stream",
     "text": [
      "Content: \n",
      "탈피할때 된 기요미  - dc official App\n",
      "\n",
      "Comment: 어디로가야하오뱀  - dc App\n",
      "Comment: 캘킹?\n",
      "Comment: 오늘은 안무네ㅋㅋ 커엽ㅎ\n"
     ]
    },
    {
     "name": "stderr",
     "output_type": "stream",
     "text": []
    },
    {
     "name": "stdout",
     "output_type": "stream",
     "text": [
      "Content: \n",
      "경매방부터 단속해야지솔직히 흐지부지 각인데밀수만 안잡는거봐도머하누\n",
      "\n",
      "Comment: ㅅㅂ 경매방 싸그리 다 세금 먹여야함 현금장사에 현금영수증 안끊어주면 신고 ㄱㄱ\n"
     ]
    },
    {
     "name": "stderr",
     "output_type": "stream",
     "text": []
    },
    {
     "name": "stdout",
     "output_type": "stream",
     "text": [
      "Content: \n",
      "1 이미지 순서 ON2 이미지 순서 ON3 이미지 순서 ON4 이미지 순서 ON5 이미지 순서 ON6 이미지 순서 ON7 이미지 순서 ON8 이미지 순서 ON9 이미지 순서 ON10 이미지 순서 ON11 이미지 순서 ON12 이미지 순서 ON13 이미지 순서 ON사실 대부분 뱀짤  - dc official App\n",
      "\n",
      "Comment: 피쉬스킨 귀엽네  - dc App\n"
     ]
    },
    {
     "name": "stderr",
     "output_type": "stream",
     "text": []
    },
    {
     "name": "stdout",
     "output_type": "stream",
     "text": [
      "Content: \n",
      "현재처럼 알공장이 도매주고샵이 처분하것지샵 보다 큰 알공장은 샵차려야되고솔직히 나라 세금 없는데원룸 방한칸서 세금없이몇백만원짜리 몇백마리 사육하는게정상이냐이거 틀어막아야지고퀄네임드 알공장들 족치고영세알공장들은 망하던가 도매따리고\n",
      "\n"
     ]
    },
    {
     "name": "stderr",
     "output_type": "stream",
     "text": [
      "\n"
     ]
    },
    {
     "name": "stdout",
     "output_type": "stream",
     "text": [
      "Content: \n",
      "나는 저점 매수 해야지 ㅋㅋㅋㅋㅋ ㅂㅅ새끼들 세상 어는 국가에서 엄격하게 파충류 허가제를 하겠음? ㅋㅋ 앙 개꿀띠~ 아잔 10만에 풀 매수해버리기~  - dc official App\n",
      "\n",
      "Comment: 현실 찐따라 이세계 잔틱 풀매수?ㅋㅋ\n",
      "Comment: 아잔틱 5에 내가 다 쓸어담는다\n",
      "Comment: 모니터 밥으로 주겠지 10만에는 팔겠냐\n",
      "Comment: 나 ㄹㅇ 이거위해 총알 모았어 알공장도 아니고 그냥 아잔틱 길러보는게 소원이었다. 10마리 달려야지  - dc App\n"
     ]
    },
    {
     "name": "stderr",
     "output_type": "stream",
     "text": [
      " 69%|██████▉   | 34/49 [01:31<00:36,  2.45s/it]\u001b[A\n",
      " 71%|███████▏  | 35/49 [01:33<00:33,  2.41s/it]"
     ]
    },
    {
     "name": "stdout",
     "output_type": "stream",
     "text": [
      "Content: \n",
      "\"사지마세요 입양하세요\"  캠페인 나온다  샵에서 파충류사면 파렴치한 유기보호소가서 입양하면 깬사람 영포티 아줌마들이 샵에서 산사람들 집중타격하면서 유기보호소에서 입양햇습니다 인증글들이 찻집에 계속올라옴  그것 나름 재밌을듯  - dc official App\n",
      "\n",
      "Comment: 유기동물보호소에 파충류도 들어옴?\n",
      "Comment: 이거 예전에 레게 망했을때 나오던 얘기같은데ㅎ\n"
     ]
    },
    {
     "name": "stderr",
     "output_type": "stream",
     "text": [
      "\u001b[A"
     ]
    },
    {
     "name": "stdout",
     "output_type": "stream",
     "text": [
      "Content: \n",
      "1 이미지 순서 ON2 이미지 순서 ON3 이미지 순서 ON4 이미지 순서 ON트익할 호랭이 스타일 5만프라프치노 한마리 눈옆에 두줄이 넘 매력적이라 10만걍 가격 적당한거임?둘다 밥은 잘먹음 잘클듯\n",
      "\n",
      "Comment: 신중이란단어가 ㅅㅂ\n",
      "Comment: 프랍은 예쁘게 클거 같은디 근데 눈옆 두줄이 뭐 말하는거임?  - dc App\n",
      "Content: \n",
      "ㅇㅇ \n",
      "\n",
      "Comment: ㅇㅈ  - dc App\n",
      "Comment: ㅇㅈ  - dc App\n",
      "Comment: ㅇㅈ\n",
      "Comment: ㅈㄹ을 해라 ㅋㅋㅋㅋㅋㅋㅋㅋ - dc App\n"
     ]
    },
    {
     "name": "stderr",
     "output_type": "stream",
     "text": []
    },
    {
     "name": "stdout",
     "output_type": "stream",
     "text": [
      "Content: \n",
      "https://youtu.be/S5Hsg7iECeg?si=r4yTN_0FveNI_IlA 화이트리스트 공청회 소식화이트리스트 공청회 소식youtu.be세금 안 내는 알공장 쌀먹충만 ㅈ되지 않으련지?  - dc official App\n",
      "\n",
      "Comment: 그냥 애완동물로 키우는 사람은 뭐가 나오던 데미지 없음 쌀먹충들만 영점사격하는거임  - dc App\n",
      "Comment: 오 쌀숭이들 컷당하면 좋지\n",
      "Comment: 관심가지는 업자가 없네 그래도 스엠은 ...그래도 레게업체라 말해버리는듯\n",
      "Comment: 개인거래 제재 없으면 입법 하든말든 노상관임ㅋㅋ\n"
     ]
    },
    {
     "name": "stderr",
     "output_type": "stream",
     "text": [
      "\n"
     ]
    },
    {
     "name": "stdout",
     "output_type": "stream",
     "text": [
      "Content: \n",
      "카더라 하는 찌라시만 쳐 듣고 즈그들끼리 낄낄대면서 신나하는 수준이 진짜 대단함ㅋㅋㅋㅋㅋㅋㅋㅋㅋㅋㅋ \n",
      "\n",
      "Comment: 짖지마 업자씹새꺄\n",
      "Comment: 니가 대가리 깨진거임25년 12월 법안나오는거 확정임ㅋ잘가라  - dc App\n",
      "Comment: 닥치고 대출금이나 갚으세요 사장님\n",
      "Comment: 현실부정 단계\n",
      "Comment: 크레 시장이 부흥적으로 커지는 상황에 완전 망하게 만드려는 법안은 나올 확률이 낮음 단순 허가제도면 별 영향 없을거고 제제가 강하면 개인 브리더만 크게 손해보겠지 그럼 오프라인 업자들은 장기적으로 보면 되려 살아남 뭐 아직 법안 1도 안나왔으니 그냥 기다리면 됨  - dc App\n"
     ]
    },
    {
     "name": "stderr",
     "output_type": "stream",
     "text": [
      " 80%|███████▉  | 39/49 [01:43<00:25,  2.58s/it]\u001b[A"
     ]
    },
    {
     "name": "stdout",
     "output_type": "stream",
     "text": [
      "Content: \n",
      "8년간 똥치우랴 밥주랴 씨펄 힘들었다… 하지만 재밌었다 돈지랄…\n",
      "\n"
     ]
    },
    {
     "name": "stderr",
     "output_type": "stream",
     "text": []
    },
    {
     "name": "stdout",
     "output_type": "stream",
     "text": [
      "Content: \n",
      "파렴치한 생물갖고 돈놀이 하는놈들 박살내는 법안 잘 내주세요  최대한 개빡새게 내주세요 그래도 어짜피 대가리박고 따라야되는 개돼지아니면 불법저지르는 범법자들입니다   - dc official App\n",
      "\n",
      "Comment: ㅇㅈ하는 부분 개추\n",
      "Comment: ㄹㅇ쌉ㅇㅈ\n",
      "Comment: 퍙키우는사람들 모인 퍙갤인데 여기사람들마저 퍙샵업자들 이렇게 싫어하고 환경부편드는거보면 밀수사기덤탱이압자들은 인간적으로 뭐느끼는게없스까?ㅋㅋㅋ진짜 파렴치한 쓰레기 인간말종ㅅㄲ들이다ㄹㅇ\n",
      "Comment: 야씨 나 좀만 더 해먹게 살살해  - dc App\n",
      "Comment: 걍 인터넷상으로 생물거래 불가 하는순간 개꿀딱\n",
      "Comment: 아직 정해진게 1도 없다고 나와있음  - dc App\n",
      "Comment: 찻집 개인분양후 일 터지면 나몰라라하는 벌레 분양자들도 같이 조졌으면 좋겠어서 법안 씨게 걸었으면 ㅋㅋㅋ\n"
     ]
    },
    {
     "name": "stderr",
     "output_type": "stream",
     "text": []
    },
    {
     "name": "stdout",
     "output_type": "stream",
     "text": [
      "Content: \n",
      "돈안되고 청소하려니 개짜증나더라.냄새랑. ㅜㅜ내가 이상한건 아니지???그냥 많이 키우는앤 별로없자나 다 판매목적이지...\n",
      "\n",
      "Comment: 그래서 청소를 안하고 방을 버리고ㅜ나옴\n"
     ]
    },
    {
     "name": "stderr",
     "output_type": "stream",
     "text": [
      "\n"
     ]
    },
    {
     "name": "stdout",
     "output_type": "stream",
     "text": [
      "Content: \n",
      "기괴하노...퓨화 릴리를 뛰어넘는게없네대가리만 갈색인거 흉하다 ㅋㅋ\n",
      "\n"
     ]
    },
    {
     "name": "stderr",
     "output_type": "stream",
     "text": [
      " 88%|████████▊ | 43/49 [01:53<00:15,  2.52s/it]\u001b[A"
     ]
    },
    {
     "name": "stdout",
     "output_type": "stream",
     "text": [
      "Content: \n",
      "알공장+앵간한 업체들은알아서 해주겠지 마인드로 버티거나 관심 아예 없기 때문에할 사람이 알아서 해줘야함.아니면 그냥 다같이 죽던가어쩌겠냐 뭐 단합 이라는게 없는 판인데17년도 부터 단합 이라는걸 해본걸 본 적이 없음시기질투에 허구한날 사건사고에 단합이 되는게 이상하지 ㄹㅇ환경부가 이상황 알면 걍 개때려잡아도 그냥 헤헤헤헿 하고 당할듯\n",
      "\n",
      "Comment: 조선이 망한 이유가 퍙판보면 보임ㅋㅋ  - dc App\n",
      "Comment: 헤헤헿\n"
     ]
    },
    {
     "name": "stderr",
     "output_type": "stream",
     "text": []
    },
    {
     "name": "stdout",
     "output_type": "stream",
     "text": [
      "Content: \n",
      "간담회 왔어도 환경청이랑 민주당에서 와 시부럴 개고양이만 표가 많은게 아니구나 이거 민원ㅈ됫다 이랬을건대 왜안왔냐  - dc official App\n",
      "\n",
      "Comment: 관심이 없어서지 뭐다들 알아서 해주겠지~ 마인드\n"
     ]
    },
    {
     "name": "stderr",
     "output_type": "stream",
     "text": []
    },
    {
     "name": "stdout",
     "output_type": "stream",
     "text": [
      "Content: \n",
      "ㅈㄱㄴ\n",
      "\n",
      "Comment: 뇌손상  - dc App\n",
      "Comment: 한대 맞았겠지\n",
      "Content: \n",
      "25년 12월 갤 셔터 닫히냐?  - dc official App\n",
      "\n"
     ]
    },
    {
     "name": "stderr",
     "output_type": "stream",
     "text": []
    },
    {
     "name": "stdout",
     "output_type": "stream",
     "text": [
      "Content: \n",
      "데려온지 2주만에 처음으로 핸들링 해봄떨굴까봐 무섭다\n",
      "\n",
      "Comment: 조끄치 생깄노\n"
     ]
    },
    {
     "name": "stderr",
     "output_type": "stream",
     "text": [
      "100%|██████████| 49/49 [02:08<00:00,  2.62s/it]\n",
      " 69%|██████▉   | 20/29 [37:53<18:11, 121.32s/it]"
     ]
    },
    {
     "name": "stdout",
     "output_type": "stream",
     "text": [
      "Content: \n",
      "835 당한사람 유명한글도 있었는데그 업체 망했음?- dc official App\n",
      "\n",
      "Comment: 컨설팅이아니라 돈빨기 콘서트 --->ㅋㅅㅌ 무튼 그런데가 어디 한두곳이냐 딱찍어 좌표까 초성이나\n"
     ]
    },
    {
     "name": "stderr",
     "output_type": "stream",
     "text": []
    },
    {
     "name": "stdout",
     "output_type": "stream",
     "text": [
      "Content: \n",
      "다 아가리 묵념하고  쉬쉬하면서 지들 빨리 팔아먹을  생각만 하는거봐라 ㅋ 솔직히 양아치업자새끼들은 법안관련해서  알려지는걸 원치 않았을거다 ㅋ 왜냐면 지들 빨리 팔아먹고 빠져야되거든 90%이상이 양아치업자로 구성된 시장이라 아쉬울뿐이다 ㅋ 쉬쉬하는 모습 보기 좋내 씹새들아  저거 모르고 매입하는 대가리 깨진애들은 뭐가되냐 ㅋㅋ 능지를 탓해야하는거?  - dc official App\n",
      "\n",
      "Comment: 90프로 너무 낮음 그냥 저판은 99프로 본다 지들 아니라면서 내로남불새끼들 꼭 지들이 팔때되면 똑같아지는 마법이라 ㅋ 돈미새 천지라봄\n"
     ]
    },
    {
     "name": "stderr",
     "output_type": "stream",
     "text": []
    },
    {
     "name": "stdout",
     "output_type": "stream",
     "text": [
      "Content: \n",
      "생긴것도 귀여우면서 멋있고 사육난이도도 쉽고 돌연사도 없고 수명도 10년이상이라 길고 걍 ㅈㄴ완벽하다  - dc official App\n",
      "\n",
      "Comment: 난 그중 레게가 원탑이라고봄 발색하며 체형하며 게코GOAT는 레게다. - dc App\n",
      "Comment: \"먹이\"  - dc App\n",
      "Comment: 죽여먹는 사람들 ㅈㄴ 이해 안가긴해  - dc App\n"
     ]
    },
    {
     "name": "stderr",
     "output_type": "stream",
     "text": []
    },
    {
     "name": "stdout",
     "output_type": "stream",
     "text": [
      "Content: \n",
      "실망스럽다  - dc official App\n",
      "\n",
      "Comment: 오늘 중대장은 너희들에게 매우실망했다. - dc App\n",
      "Comment: 명단 취합해바라파양판 매국노  - dc App\n",
      "Comment: 왜? 무슨일 있음?  - dc App\n"
     ]
    },
    {
     "name": "stderr",
     "output_type": "stream",
     "text": []
    },
    {
     "name": "stdout",
     "output_type": "stream",
     "text": [
      "Content: \n",
      "아빠가 몇년전에 화분키운다고 샀던건가? 집 창고에서 주움  - dc official App\n",
      "\n",
      "Content: \n",
      "나라에 돈이 부족한거 모르노? 알공장 돌릴거면 사업자내고 세금 내라 이거지  세금내기 싫으면 금융투자하라 이거야 ㅋㅋㅋ \n",
      "\n",
      "Comment: 주식도 세금내야될판에 알공장? 어림도 없지ㅋㅋㅋㅋㅋㅋㅋ - dc App\n",
      "Comment: 그렇게 따지면 식집사도 돈내야함ㅎ\n"
     ]
    },
    {
     "name": "stderr",
     "output_type": "stream",
     "text": []
    },
    {
     "name": "stdout",
     "output_type": "stream",
     "text": [
      "Content: \n",
      "원래 데려올때부터 신장 안좋아서인지 요산문제 있었긴 해도이번처럼 오래 안싼적은 없는 것 같음 2주정도 안쌈이미 병원 다니고있고 약받아서 강급하고있는데거북이한테 ㅈㄴ 몹쓸짓하는 것 같고 미안하다변비있다는데 케어해줬더니 똥은 잘쌈근데 요산을 안싸 쉬 자체를 안쌈...\n",
      "\n",
      "Comment: 오래 안싸면 뱃속에서 요석으로 굳은거임 배출이 안되서 시한부라고 보면된다살리고 싶으면 병원 데려가서 엑스레이찍고 수술외에는 답없다\n",
      "Comment: 이미 엑스레이 찍어봤는데 요석이 발견되진 않음 병원 어제도 다녀옴 매 주마다 가고있음 걍 요산이 크게 만들어지지 않는 상태같다는데 병원에서도 항생제 말고는 해줄수 있는게 없다 함...\n",
      "Content: \n",
      "1 이미지 순서 ON2 이미지 순서 ON3 이미지 순서 ON4 이미지 순서 ON5 이미지 순서 ON6 이미지 순서 ON7 이미지 순서 ON8 이미지 순서 ON9 이미지 순서 ON10 이미지 순서 ON11 이미지 순서 ON12 이미지 순서 ON13 이미지 순서 ON14 이미지 순서 ON15 이미지 순서 ON16 이미지 순서 ON17 이미지 순서 ON18 이미지 순서 ON19 이미지 순서 ON20 이미지 순서 ON21 이미지 순서 ON22 이미지 순서 ON23 이미지 순서 ON24 이미지 순서 ON25 이미지 순서 ON26 이미지 순서 ON27 이미지 순서 ON28 이미지 순서 ON29 이미지 순서 ON30 이미지 순서 ON31 이미지 순서 ON32 이미지 순서 ON33 이미지 순서 ON34 이미지 순서 ON35 이미지 순서 ON36 이미지 순서 ON 갑자기 왜 죽는건데....  - dc official App\n",
      "\n"
     ]
    },
    {
     "name": "stderr",
     "output_type": "stream",
     "text": []
    },
    {
     "name": "stdout",
     "output_type": "stream",
     "text": [
      "Content: \n",
      "요런식으로 되어있으\n",
      "\n",
      "Comment: 좀 괜찮네\n"
     ]
    },
    {
     "name": "stderr",
     "output_type": "stream",
     "text": [
      "\n"
     ]
    },
    {
     "name": "stdout",
     "output_type": "stream",
     "text": [
      "Content: \n",
      "솔직히 크레 떡락한거 알겠고 모든 샵에서 거의 크레만 파는거 다 알겠고 너희의 마음 전부 이해한다 그런데 샵들이 왜 크레를 팔고 라인브리딩을 하고 그럴까? 그거야 당연히 돈때문이지 너네도 크레 떡락한거 왜 슬퍼해? 당연히 돈때문이잖아 지금 이시각 너네처럼 디시질하는 애들 말고 일반인들 기준에서 보면 가장 수요좋고 효율좋은게 뭐야? 알공장 돌리기 응디딱좋은 크레밖에 없다 이거야~ 샵들은 그래서 크레만 파는거고 왜냐?따로 수입 안해도 되고 떡만 존나치게하면 되는데 팔리는것도 무난하게 잘 팔린다?? 이게 지금 무슨느낌인지 아냐? 여자들이 스타킹 파는거랑 비슷한 원리다 이거야 그냥 늘상 신던거고 버리긴 아깝고 산다는사람 널리고널린거? 바로 팬티,스타킹 그럼 이시각 가장 이득을 볼수있는 선택지인 크레를 하는게 정베이지 않을까? 이상 크레팔이였습니다~  - dc official App\n",
      "\n",
      "Comment: 아니여ㅋ\n",
      "Comment: 돈미새\n",
      "Comment: 크레욕하는거 그냥 부럽고 배아파서 그런거ㅋㅋ 본인도 재미좀 보고 싶은데 들어가긴 돈없고 힘들고, 안하자니 자기 모프 겁라 나오니 식겁하는거지ㅎ 그래서 크레욕, 알공장 욕하는거 말고 뭘할수 있는데?ㅋㅋㅋ\n"
     ]
    },
    {
     "name": "stderr",
     "output_type": "stream",
     "text": [
      " 18%|█▊        | 9/49 [00:23<01:38,  2.47s/it]\u001b[A"
     ]
    },
    {
     "name": "stdout",
     "output_type": "stream",
     "text": [
      "Content: \n",
      "거지라 5만원이상은 비싸욧 \n",
      "\n",
      "Comment: 아크릴은 비쌀건데 햄스터 개조리빙 ㄱㄱ\n",
      "Comment: 타오바오 찾아봐라. 직구 그렇게 안어렵고 왠만한거 5만 이하로 구매가능\n"
     ]
    },
    {
     "name": "stderr",
     "output_type": "stream",
     "text": [
      "\n"
     ]
    },
    {
     "name": "stdout",
     "output_type": "stream",
     "text": [
      "Content: \n",
      "yo  - dc official App\n",
      "\n"
     ]
    },
    {
     "name": "stderr",
     "output_type": "stream",
     "text": [
      " 22%|██▏       | 11/49 [00:28<01:40,  2.63s/it]\u001b[A"
     ]
    },
    {
     "name": "stdout",
     "output_type": "stream",
     "text": [
      "Content: \n",
      "검은 사육장에 키우면 파업 하고있대서 이번에 사서 넣어줬는데확실히 색 올라와있긴 함어디서 검은 렉사 크레는 거르라는걸 봤는데 검은 사육장이 크레한텐 안좋음? 왜 그런거임\n",
      "\n",
      "Comment: 야행성 파충류라고 해도 24시간 저녁이면얼마나 ㅈ같겟누  - dc App\n"
     ]
    },
    {
     "name": "stderr",
     "output_type": "stream",
     "text": []
    },
    {
     "name": "stdout",
     "output_type": "stream",
     "text": [
      "Content: \n",
      "바퀴달려있어서 좀 ㅂㄹ임...키친타올깔면 바퀴틈땜에 붕 떠서 \n",
      "\n",
      "Comment: ㅇㅈㅇㅈ\n",
      "Comment: 없는버전으로 사야지 잘보고 엥이\n",
      "Comment: 중고도 괜찮으면 당근 봐바쓸만한것들 가끔 저렴하게 올라옴  - dc App\n",
      "Comment: 근데 도마뱀은 괜찮은데 뱀이면 저거 탈출함\n",
      "Comment: 야스오 글 좀 써 ㅔ\n",
      "Content: \n",
      "25년까지 내릴 기회 줬다 상폐예정 코인인거 모르면 당한다  쉬쉬하고 매도버튼 눌러라  - dc official App\n",
      "\n"
     ]
    },
    {
     "name": "stderr",
     "output_type": "stream",
     "text": []
    },
    {
     "name": "stdout",
     "output_type": "stream",
     "text": [
      "Content: \n",
      "반찬통에 크레 처박아놓고 알뽑아서 쌀먹하더니 꼴이 아주 좋아 ㅋㅋ\n",
      "\n",
      "Comment: 크레뿐만아닌 법안이다....  - dc App\n",
      "Comment: 볼파는 애초에 사테종이라 이번규제랑 무관하단다\n",
      "Comment: +밀수 사기 덤팅이ㅋ\n"
     ]
    },
    {
     "name": "stderr",
     "output_type": "stream",
     "text": []
    },
    {
     "name": "stdout",
     "output_type": "stream",
     "text": [
      "Content: \n",
      "귀신같이 쇼열리는타이밍이랑 겹친건 별수없다생각함하지만 10월은 아예 10월에 한다고 예고자체는 했으니까이땐 달라야지\n",
      "\n",
      "Comment: ㅇㅇ 10월 간담회주에 주최하는인간은 일단 개호로새끼 참여업체는 돈귀신임  - dc App\n"
     ]
    },
    {
     "name": "stderr",
     "output_type": "stream",
     "text": [
      "\n"
     ]
    },
    {
     "name": "stdout",
     "output_type": "stream",
     "text": [
      "Content: \n",
      " 왜 간담회 다음에 쇼잡음?  - dc official App\n",
      "\n",
      "Comment: 대가리 박고 반성할게\n"
     ]
    },
    {
     "name": "stderr",
     "output_type": "stream",
     "text": [
      " 35%|███▍      | 17/49 [00:43<01:18,  2.46s/it]\u001b[A"
     ]
    },
    {
     "name": "stdout",
     "output_type": "stream",
     "text": [
      "Content: \n",
      "or쇼 참여업체는 개씨벌 개쉑들 파양판보다 돈이 우선인 ㅈ같은 개쉑들이다 보이콧하고 양서파충류협회는 참여업체 따로정리해서 참여업체는 박제로 홍보해주고 비참여업체는 거숵 파양판보다 돈이 우선인 ㅈ같은 쉑들로 이미지 만들어버리자.  - dc official App\n",
      "\n",
      "Content: \n",
      "뭐가 수요가 더 많냐?\n",
      "\n",
      "Comment: 밀웜이지 슈밀은 비어디 키우는 사람 빼고는 키우는 사람 못본듯\n"
     ]
    },
    {
     "name": "stderr",
     "output_type": "stream",
     "text": []
    },
    {
     "name": "stdout",
     "output_type": "stream",
     "text": [
      "Content: \n",
      "202030vs303045 추천좀 \n",
      "\n"
     ]
    },
    {
     "name": "stderr",
     "output_type": "stream",
     "text": []
    },
    {
     "name": "stdout",
     "output_type": "stream",
     "text": [
      "Timeout while processing article 22. Moving to next article.\n"
     ]
    },
    {
     "name": "stderr",
     "output_type": "stream",
     "text": [
      "\n"
     ]
    },
    {
     "name": "stdout",
     "output_type": "stream",
     "text": [
      "Content: \n",
      "톡톡이인줄 알고 냅뒀는데 톡톡이보다 갈색이여서 찾아보니먼지 다듬이 같음;; 곰팡이 이런거 먹는다는데 냅둬도 ㄱㅊ나이거 발생해본 퍙붕이있냐\n",
      "\n"
     ]
    },
    {
     "name": "stderr",
     "output_type": "stream",
     "text": [
      " 45%|████▍     | 22/49 [02:12<08:17, 18.44s/it]\u001b[A"
     ]
    },
    {
     "name": "stdout",
     "output_type": "stream",
     "text": [
      "Content: \n",
      " - dc official App\n",
      "\n",
      "Content: \n",
      "   [시리즈] 24.08 제9회 코리아렙타일쇼 · [렙쇼] 코리아렙타일쇼 후기 1 (리키/가골/크레) · [렙쇼] 코리아렙타일쇼 후기 2 (카멜레온/대형종) · [렙쇼] 코리아렙타일쇼 후기 3 (거북/뱀) · [렙쇼] 코리아렙타일쇼 후기 4 (레게/펫게/비어디) · [렙쇼] 코리아렙타일쇼 후기 5 (비주류L) · [렙쇼] 코리아렙타일쇼 후기 6 (양서류/비주류G) · [렙쇼] 코리아렙타일쇼 후기 7 (굿즈/기타생물/자투리)   2024.08.03~04 SETEC 제3전시관   제9회 코리아렙타일쇼   끝이다   <양서파충류 굿즈> 1 이미지 순서 ON  큼직한 악어거북 피규어 전시용   보기만해도 든든듬직 2 이미지 순서 ON  비얌 인형 GTP 3 이미지 순서 ON  알록달록 엽서 4 이미지 순서 ON  눈사람개구리 당근코가 아니라 입벌린걸로 보면 더 귀여움 5 이미지 순서 ON  아기자기 개구리스티커 6 이미지 순서 ON  볼빵빵 토마토프록 키링 7 이미지 순서 ON  3D프린팅 먹이받침대   .   .   <갑각류> 8 이미지 순서 ON  자몽롱샤 9 이미지 순서 ON  육수까지 시원한 푸른색 10 이미지 순서 ON  수율 따질수가없는 가재   .   .   <등각류> 11 이미지 순서 ON  활발한 소일 12 이미지 순서 ON  간단명료 돋보기있었으면 더좋을텐데   폰카로 돋보기 망원경 둘다되니 그거까지 고려한 미니멀컨셉이면 인정   .   .   <절지류> 13 이미지 순서 ON  핑크풋골리앗 간질간질 14 이미지 순서 ON 노란겨털 오렌지프린지드 였던게 아니라  베트남실버 21년도즈음 보이기시작한 신종지구타이거 15 이미지 순서 ON  스트레이트혼드바분 16 이미지 순서 ON  닭잡는거미 볼비   거미도 추억이다 이젠   .   .   <털짐승> 17 이미지 순서 ON  사랑의 하츄토끼 18 이미지 순서 ON  얌전히 주인만 바라보는 앵무새   예전 행사때 금강앵무는 탈출해서 천장 날아다녔는데   .   .   <자투리> 19 이미지 순서 ON20 이미지 순서 ON21 이미지 순서 ON22 이미지 순서 ON23 이미지 순서 ON24 이미지 순서 ON25 이미지 순서 ON26 이미지 순서 ON27 이미지 순서 ON28 이미지 순서 ON29 이미지 순서 ON30 이미지 순서 ON31 이미지 순서 ON32 이미지 순서 ON33 이미지 순서 ON34 이미지 순서 ON  .   .   .   짬짬이 사진정리하고 순서맞추고 무슨종이었는지 찾고 시간오래걸리네   오늘 공청회 있었던데 합리적이고 실질적인 법안으로 건강한 퍙판되고, 이쁘고 귀한 양서파충류 오래오래 우리곁에 있길 35 이미지 순서 ON퍙-바  -완-  \n",
      "\n",
      "Comment: 14 베트남 실버\n",
      "Comment: 씹스압\n",
      "Comment: 간담회 갔음?\n",
      "Comment: 캬 30분 뚝딱이네 고생하셨슴당  - dc App\n"
     ]
    },
    {
     "name": "stderr",
     "output_type": "stream",
     "text": []
    },
    {
     "name": "stdout",
     "output_type": "stream",
     "text": [
      "Content: \n",
      "참여업체명단을 따로 만들어서 퍙협회에서 공개해주면 안되나 여기여기는 참여해줫고 나머지는 개씨벌 돈만밝히는 ㅈ같은 돈만보는 업자새끼들이다 이렇게  - dc official App\n",
      "\n",
      "Comment: 그래서 넌 갓고?\n",
      "Content: \n",
      "2024.08.03~04 SETEC 제3전시관 제9회 코리아렙타일쇼  양서류 개구리 유미류 도롱뇽 & 비주류 도마뱀붙이 게코 <양서류> 1 이미지 순서 ON독없는 독화살개구리 2 이미지 순서 ON흔적날개초파리 주면 잘먹음 3 이미지 순서 ON골드앤블랙 4 이미지 순서 ON민초맛 다트프록 5 이미지 순서 ON반짝반짝 아닌 번쩍번쩍 6 이미지 순서 ON별이빛나는밤개구리 스테리나잇 7 이미지 순서 ON노랑점박등산두꺼비 베이비 옐로스팟티드클라이밍토드 8 이미지 순서 ON보르네오 이어드 프록 9 이미지 순서 ON말차팩맨 그린포닷 10 이미지 순서 ON커피팩맨 브라운 11 이미지 순서 ON수리남 혼프록 브라운 12 이미지 순서 ON수리남 그린 13 이미지 순서 ON차코x수리남 핀타지팩맨 14 이미지 순서 ON버젯프록 15 이미지 순서 ON틈메이뤄개구리 짭토 16 이미지 순서 ON왁시몽키프록 . . <유미류> 17 이미지 순서 ON백숙도롱뇽 18 이미지 순서 ON알비노스패니쉬립뉴트 19 이미지 순서 ON이탈리안크레스티드뉴트 루시스틱 20 이미지 순서 ON우파루파 친구 타살유생 21 이미지 순서 ON바드타이거살라만다 . . <비주류 도마뱀붙이 Gecko> 22 이미지 순서 ON피그미 팬서게코 23 이미지 순서 ON고양이눈깔 24 이미지 순서 ON패턴 발색 다양한 25 이미지 순서 ON캣아이게코 26 이미지 순서 ON돌돌말이꼬리 27 이미지 순서 ON자다깼네 28 이미지 순서 ON앙굴리퍼 한쌍 29 이미지 순서 ON30 이미지 순서 ON31 이미지 순서 ON색감이쁜 납테일부스 32 이미지 순서 ON납테일 자체는 작고 눈에 안띄니까 좋은 전략인듯 33 이미지 순서 ON어머니눈 에이미아이 34 이미지 순서 ON신크 35 이미지 순서 ON뚝배기 헬멧티드게코 . . 36 이미지 순서 ON아그리콜레 카멜레온게코 37 이미지 순서 ON시라시노룸 사라신게코 38 이미지 순서 ON차화 39 이미지 순서 ON토 40 이미지 순서 ON케 41 이미지 순서 ON이 42 이미지 순서 ON게 43 이미지 순서 ON코 44 이미지 순서 ON생선비늘피게 피쉬스케일 45 이미지 순서 ON하얀점박이 화이트스팟 46 이미지 순서 ON핌브리아투스 47 이미지 순서 ON호주 리프테일게코 48 이미지 순서 ON사타닉 나뭇잎꼬리 49 이미지 순서 ON스텐딩데이게코 50 이미지 순서 ON아치위데게 . . . 한줄평) 한여름 검역 때문인지 양서류 비중이 파악 줄은듯한 기분 \n",
      "\n",
      "Comment: 캣아이게코도 색상이 다양하네 잘하면 쟤네도 모프 뽑을 수 있을거 같은데\n",
      "Comment: 납테일부스 참 잘 꾸몄다 싶긴했는데 워낙 비주류라 노력한만큼 벌어갔으려나 싶음  - dc App\n",
      "Comment: 33 40 43 얼마?\n"
     ]
    },
    {
     "name": "stderr",
     "output_type": "stream",
     "text": []
    },
    {
     "name": "stdout",
     "output_type": "stream",
     "text": [
      "Content: \n",
      "2024.08.03~04 SETEC 제3전시관 제9회 코리아렙타일쇼  비주류 도마뱀 리자드 <도마뱀 Lizard> 1 이미지 순서 ON아브로니아 그라미니아 칼리코 2 이미지 순서 ON에메랄드드래곤 아브로니아 그라미니아 3 이미지 순서 ON프라시나 4 이미지 순서 ON유럽초록도마뱀 5 이미지 순서 ON유러피안그린라세타 6 이미지 순서 ON웨스턴리프리자드 낙엽도마뱀 7 이미지 순서 ON이름모를도마뱀1 8 이미지 순서 ON이름모를도마뱀2 9 이미지 순서 ON슬라웨시 워터스킨크 10 이미지 순서 ON쉴드테일 아가마 11 이미지 순서 ON이집션 유로메틱스 12 이미지 순서 ON염색도마뱀 13 이미지 순서 ON페인티드 아가마 14 이미지 순서 ON도리아 앵글헤드 리자드 15 이미지 순서 ON아코 16 이미지 순서 ON아칸토사우라 코로나타 17 이미지 순서 ON돛단도마뱀 18 이미지 순서 ON뒤통수가 에이리언 닮았네 19 이미지 순서 ON20 이미지 순서 ON응애이리언 21 이미지 순서 ON22 이미지 순서 ON브로멜리아드에 올라타 23 이미지 순서 ON초록 콩 도마뱀 24 이미지 순서 ON멋드러진 볏과 눈주위 붉은무늬까지 25 이미지 순서 ON칼로테스 칼로테스 왜두번써지지 왜두번써지지 26 이미지 순서 ONkrcb블루뷰티에놀 27 이미지 순서 ON뭐시기 자이언트 워터스킨크 28 이미지 순서 ON포 라인 거들드 리자드 29 이미지 순서 ON조노사우르스 콰들리니아투스 30 이미지 순서 ON31 이미지 순서 ON조노사우르스 카스테니 32 이미지 순서 ON푸른혀도마뱀 33 이미지 순서 ON34 이미지 순서 ON블루텅스킨크 35 이미지 순서 ON아스퍼 슁글백 스킨크 36 이미지 순서 ON크고 두껍고 거친 비늘 37 이미지 순서 ON멕시칸 자이언트 혼리자드 38 이미지 순서 ON전문가의 촬영모습 찰칵 동공 클로즈업샷 개잘찍더라 39 이미지 순서 ON건들건들 40 이미지 순서 ON거들테일 리자드 41 이미지 순서 ON데프레샤아아앗 42 이미지 순서 ON같은속 다른종 노랭이 43 이미지 순서 ON수단 플레이트 리자드 . . . 한줄평) 비주류 오래 잘키우는 사람은 야수의 심장을 가진 낭만러인듯 \n",
      "\n"
     ]
    },
    {
     "name": "stderr",
     "output_type": "stream",
     "text": []
    },
    {
     "name": "stdout",
     "output_type": "stream",
     "text": [
      "Content: \n",
      "ㅇㅇ  - dc official App\n",
      "\n",
      "Comment: 라방인데 어쩌라고\n"
     ]
    },
    {
     "name": "stderr",
     "output_type": "stream",
     "text": []
    },
    {
     "name": "stdout",
     "output_type": "stream",
     "text": [
      "Content: \n",
      "아예 못키우게 하진 않겠지¿나만 바라보는 레오육겁 30급 20급 2마리에 등짝 맞아가면서 대려온 리키가 2마린데.....심지어 레오육겁은 브리딩도 해보고 싶어서 옥상에 흙 셋팅도 하려했는데...ㅠ\n",
      "\n",
      "Comment: 사테육겁은 애초에 이번 규제에 전혀해당안됨\n",
      "Comment: 그... 레오파드육겁 사테서류있어야 나중에 번식해서 증식신고할수있음\n"
     ]
    },
    {
     "name": "stderr",
     "output_type": "stream",
     "text": []
    },
    {
     "name": "stdout",
     "output_type": "stream",
     "text": [
      "Content: \n",
      "색 찐한 귤색이라 맘에듬 점만안나면돼 \n",
      "\n",
      "Comment: 점 500배  - dc App\n",
      "Comment: 밀웜맛 감귤 ㄷㄷㄷ\n",
      "Comment: 변기행ㄱ - dc App\n",
      "Comment: 꼬리 왤케 맛있어보이냐 꼭 아이스크림같내\n",
      "Comment: 못생김 점 잔뜩 생길듯\n",
      "Comment: 응애레게는 개추야\n",
      "Comment: 결국 데려왓구나 만원?  - dc App\n",
      "Comment: 이쁘네 뭐 애새끼들 말 듣지 말고 너가최선읗 다해 키우면 되는거야\n",
      "Comment: 잘생깄네  - dc App\n"
     ]
    },
    {
     "name": "stderr",
     "output_type": "stream",
     "text": []
    },
    {
     "name": "stdout",
     "output_type": "stream",
     "text": [
      "Content: \n",
      "강아지가 코에 물렸는데 점점 붓네요.. 무슨 뱀인가요\n",
      "\n",
      "Comment: 꽃뱀\n"
     ]
    },
    {
     "name": "stderr",
     "output_type": "stream",
     "text": []
    },
    {
     "name": "stdout",
     "output_type": "stream",
     "text": [
      "Content: \n",
      "ㅂㅅ들 왜제재가 되가는지 속내는 모르겟지ㅋㅋㅋ정부민원 계속넣는다 우린ㅋㅋㅋ\n",
      "\n",
      "Comment: 결론이 아직 \"아무것도 정해진게 없다\" 라네  - dc App\n"
     ]
    },
    {
     "name": "stderr",
     "output_type": "stream",
     "text": []
    },
    {
     "name": "stdout",
     "output_type": "stream",
     "text": [
      "Content: \n",
      "알공장들 안그래도 먹고살기 힘든데 완전 죽여버리네ㅋㅋㅋㅋㅋㅋㅋ- dc official App\n",
      "\n",
      "Comment: 중요한건 파충류판이 건강해지고있다는 거임\n"
     ]
    },
    {
     "name": "stderr",
     "output_type": "stream",
     "text": []
    },
    {
     "name": "stdout",
     "output_type": "stream",
     "text": [
      "Content: \n",
      "1 이미지 순서 ON이거 2 이미지 순서 ON방구석 잡동사니 박스에서 찾음 3 이미지 순서 ON4 이미지 순서 ON7년이라는 시간동안 모자도 레게도 꼬질꼬질해졌다 \n",
      "\n",
      "Comment: 딸피레게네\n",
      "Comment: 빻게 갤에서 첨 본게 중학생 때 였는데 지금은 군인 아저씨 돼버림..오래 오래 살았으면 좋겠다  - dc App\n",
      "Comment: 빻게 진짜 거대하네\n",
      "Comment: 모자색깔 깔맞춤이네 졸귀탱\n"
     ]
    },
    {
     "name": "stderr",
     "output_type": "stream",
     "text": []
    },
    {
     "name": "stdout",
     "output_type": "stream",
     "text": [
      "Content: \n",
      "조건이 붙는 순간 유명무실 해짐중고거래도 원래 10만원 이상부터는 현금영수증 의무화임.근데 누가지키냐 솔직히10원이던 1원이던 무조건 규제 때린다고 해야 제대로 효력을 발휘하는데그런 조건 달리기 시작하면 그냥 법안만 올려놓고 일한척 하겠다 이거지잡으러는 누가 다님?ㅋㅋㅋ\n",
      "\n",
      "Content: \n",
      "2024.08.03~04 SETEC 제3전시관 제9회 코리아렙타일쇼  근-본 라인업 레게비어디 사이 눈치없게 끼어든 펫테일 <레오파드게코> 1 이미지 순서 ON근-본 퍙 레게 2 이미지 순서 ON다크만다린 3 이미지 순서 ON블랙블러드 만다린 4 이미지 순서 ON쿨쿨 잘도잔다 5 이미지 순서 ON슈스Wy벨알비노 백숙 위에 초코시럽 6 이미지 순서 ON아름다운 파이드 갤럭시 7 이미지 순서 ON블랙나이트갤럭시 단돈백만 8 이미지 순서 ON블나만다린 9 이미지 순서 ON슈퍼스노우블랙나이트벨알비노 10 이미지 순서 ON하얀바탕에 노란패턴이 빼곡 11 이미지 순서 ONWY레인워터알비노 찐한 주황무늬 12 이미지 순서 ON(대충어두운라인)만다린 13 이미지 순서 ON싸이퍼 특징인 등줄기가 보이는 만다린 14 이미지 순서 ON스트라잎이 없어도 싸이퍼는 싸이퍼래 15 이미지 순서 ON싸이퍼콤보 완전히 머리부터 꼬리까지 쫙 이어지긴 어렵나봄 16 이미지 순서 ON노멀처럼 생긴 레게 17 이미지 순서 ON요래 쭈우우우욱 고속도로 개통한 무늬가 이쁘더라 18 이미지 순서 ON익스트림 파이드 갤럭시 19 이미지 순서 ON블나갤럭시 20 이미지 순서 ON요런 보랏빛도 매력있는듯 21 이미지 순서 ON퍼플헤드만다린 보라색머리?그게뭐임? 22 이미지 순서 ON눈여겨보던 레드데빌... 저상태 그대로 크면 좋을텐데 23 이미지 순서 ON많고 많은 레게들 24 이미지 순서 ON마지막은 고대하던 슼 25 이미지 순서 ON알비노 있고없고 느낌이 확다르네 26 이미지 순서 ON스 블블블 나 영롱한 콜라젤리 같음 27 이미지 순서 ON아마.. 블나이클립스썬셋?으로 기억 28 이미지 순서 ON슈스블나머피 잘안보이는 플래티넘 모프콤보 29 이미지 순서 ON블나스이클 (크로스) wy 머리에 죽은깨 쏟아진 레게 30 이미지 순서 ON블랙나이트랩터 속껍질벗긴 귤알맹이 31 이미지 순서 ON같은 블나랩터인데 많이 다름 32 이미지 순서 ON스노우 섞인 블나스랩 블나형질이 많이 발현돼서 채도가 진할수록 퀄리티가 높다고 보는듯 33 이미지 순서 ON스노우?블나랩터 성체 이런 느낌으로 성장하나봐 블나블리자드콤보 블나갤럭시 등등은 절찬리에 분양갔다고함 다음 행사에는 참여안한다는게 아쉽다 34 이미지 순서 ON붙이류에 권태를 느낀다면 이쁜 반려레게 키워봐라 속눈썹은 없지만 두툼한 눈꺼풀이 있어서 매일 윙크 가능함 . . <펫테일게코> 35 이미지 순서 ON락비노 이게 카라멜+아멜뭐시기 콤보명 36 이미지 순서 ON취침중 37 이미지 순서 ON화이트아웃 아멜라니스틱 패턴리스 38 이미지 순서 ON얘도 화패아멜 세로 줄무늬 쭈우우우욱 39 이미지 순서 ON꼬리로 눈가리고 숙면 40 이미지 순서 ON락비노 오레오 뚱뚱꼬리 닭백숙 41 이미지 순서 ON락비노줄루 42 이미지 순서 ON슈퍼제로 43 이미지 순서 ON소심예민 귀뚜라미편식 이라는 디버프는 귀여움으로 중화시키는 빻테일 . . <비어디 드래곤> 44 이미지 순서 ON알비노T+ 비어디 베이비 45 이미지 순서 ON근-본 턱수염 풍성충 46 이미지 순서 ON빼-액 47 이미지 순서 ON등 쓰다듬으면 가죽질감날듯 48 이미지 순서 ON밝은주황색 49 이미지 순서 ON하얀 제로라인 50 이미지 순서 ON매직조명아래 새빨간 턱수염 베이비보다는 성체급 큰애들이 많더라 . . . 한줄평) 근본의 필수요소, 열원 충식 미모 \n",
      "\n",
      "Comment: 모니터같은건 없었음?\n",
      "Comment: 캬~ 레게만 보고 다녔는데도 재밌네근데 22번 사진 레드데빌 아닌거 같은뎁숑  - dc App\n",
      "Comment: ㅅㅂㅋㅋ 크루껀 왜 없노~\n"
     ]
    },
    {
     "name": "stderr",
     "output_type": "stream",
     "text": []
    },
    {
     "name": "stdout",
     "output_type": "stream",
     "text": [
      "Content: \n",
      "팔까 걍 유목은 피그미똥 ㅈㄴ묻어서 재활용 못할거같고  - dc official App\n",
      "\n",
      "Comment: 좀 버려라나한테\n",
      "Comment: 햄스터라도 하나키워라\n",
      "Content: \n",
      "자본금 1도 없는 알공장새끼들이나 좆된거 아니누- dc official App\n",
      "\n",
      "Comment: 1차때 ㅈㄴ많이와서 개ㅈㄹ발광을하니 외주에 외주맡은업체에서 어우 우리 못하겠어요 어려워요 하고 다른곳으로넘겨서 지금 1개도 진행된거없대 1년동안  - dc App\n",
      "Comment: 화이트리스트는 세금 서류 이문제가 아니잖아아예 못키우게되느냐 마느냐따지는 기준이니까\n"
     ]
    },
    {
     "name": "stderr",
     "output_type": "stream",
     "text": [
      "\n"
     ]
    },
    {
     "name": "stdout",
     "output_type": "stream",
     "text": [
      "Content: \n",
      "간담회랑 쇼랑 겹치면안됨  다음간담회가 10월이라는대 간담회날짜에 쇼잡으면  주최한업체는 공식 퍙판 개쉐끼로 간주해야됨  그리고 보이콧 개념으로 참가업체도 ㅈ되바라하고 아무도 구경안가야지 어차피 다음주에 또 쇼있을건대 일주일참어  - dc official App\n",
      "\n",
      "Comment: 카운트다운 1년3개월남앗는데 그전에 바짝 빨아야지 걔내들이 간담회 가겠냐  - dc App\n"
     ]
    },
    {
     "name": "stderr",
     "output_type": "stream",
     "text": [
      " 80%|███████▉  | 39/49 [03:03<00:31,  3.12s/it]\u001b[A"
     ]
    },
    {
     "name": "stdout",
     "output_type": "stream",
     "text": [
      "Content: \n",
      "ㄹㅇ  - dc official App\n",
      "\n"
     ]
    },
    {
     "name": "stderr",
     "output_type": "stream",
     "text": []
    },
    {
     "name": "stdout",
     "output_type": "stream",
     "text": [
      "Content: \n",
      "안그래도 기분 더러운데 씨발  - dc official App\n",
      "\n"
     ]
    },
    {
     "name": "stderr",
     "output_type": "stream",
     "text": []
    },
    {
     "name": "stdout",
     "output_type": "stream",
     "text": [
      "Content: \n",
      "자꾸 ,손만지고 그러면, 싫어하지 ?\n",
      "\n",
      "Comment: 난 육겁 대리고 침대에 누워있다가 썅련이 골든샤워 보여준 이후로 핸들링은 해도 귀찮게는 안함\n"
     ]
    },
    {
     "name": "stderr",
     "output_type": "stream",
     "text": []
    },
    {
     "name": "stdout",
     "output_type": "stream",
     "text": [
      "Content: \n",
      "업체에서 3년정도된 성체를 처팔았나 갑자기 왜 뒤지지  - dc official App\n",
      "\n",
      "Comment: 3년 됐다고 안디짐. 5,6년차 애들 밥만 잘먹는다  - dc App\n"
     ]
    },
    {
     "name": "stderr",
     "output_type": "stream",
     "text": [
      "\n"
     ]
    },
    {
     "name": "stdout",
     "output_type": "stream",
     "text": [
      "Content: \n",
      "그래야 ,면역력 생기고 ,자기 계속 생활했던, 물이라 , 익숙하지 너무, 물 자주 바꿔주는것도 안좋지 않냐 ?\n",
      "\n",
      "Comment: 주딱은 얘 차단 언제함?  - dc App\n"
     ]
    },
    {
     "name": "stderr",
     "output_type": "stream",
     "text": [
      " 90%|████████▉ | 44/49 [03:17<00:14,  2.96s/it]\u001b[A"
     ]
    },
    {
     "name": "stdout",
     "output_type": "stream",
     "text": [
      "Content: \n",
      "1 이미지 순서 ON2 이미지 순서 ON3 이미지 순서 ON잘자라 \n",
      "\n",
      "Comment: 못생김\n",
      "Comment: 헐 귀엽다\n"
     ]
    },
    {
     "name": "stderr",
     "output_type": "stream",
     "text": []
    },
    {
     "name": "stdout",
     "output_type": "stream",
     "text": [
      "Content: \n",
      "참고로 1번사진 홈매트 저거 후딱 치워버렸음 오랫동안 알아보다 데려온거긴한데 아무래도 처음 키우는거다보니 사소한거 하나하나 신경쓰이네.. 1. 은신처 들어가서는 거의 안움직임 숨은 엄청 잘쉬긴하던데 정상이지? 오늘 데려온거다 보니.. 2. 어쩌다 한쪽눈만 감던데 혹시 눈에 이상있는건가 3. 거의 핫존에만 머무르던데 원래 이럼? 4. ㅈㄴ더워서 내 방 에어컨 하루종일 켜두는데 소음 ㄱㅊ으려나?  - dc official App\n",
      "\n",
      "Comment: 분양이 아니라 입양 ㅅㅂ1. 정상2. 정상3. 정상 4. ㄱㅊ\n",
      "Comment: 말그대로 은신하는데 안에서 돌아다니는게 이상한거 아닌가한쪽눈 감는건 자고있는데 니가 못살게 구는거임 수명장애생기니까 좀 냅둬라\n",
      "Comment: 이틀 사흘 정도는 없는 애라 생각하고 그냥 내비두셈ㅋㅋ\n",
      "Comment: 야행성이기도 하고 활동성은 애들마다 달라서 막 꼬물꼬물 움직이는건 크게 기대 안하는게 좋음  - dc App\n"
     ]
    },
    {
     "name": "stderr",
     "output_type": "stream",
     "text": []
    },
    {
     "name": "stdout",
     "output_type": "stream",
     "text": [
      "Content: \n",
      "뛰어나가다가 이렇게 죽었더라 ㅅㅂ 나때문인가 눈뜨고 죽었던데 심장마비로 죽은건가 하아 미안하다 불끄고 나올때까지 걍 기다렸으면 안죽는건데 씨발 진짜  - dc official App\n",
      "\n",
      "Comment: 그정도로 죽는다고?\n",
      "Comment: 죽은척아니야? 그렇게 죽는다는게 믿겨지지가않는데 - dc App\n",
      "Comment: 놀라서 심장마비인듯ㅠ 안그래도 초당 심박수도 높고 날씨 더워서 더 높았을텐데..ㅠ 그렇다고 게이 잘못은 아니니 자책은 하지마삼.. 명복을 빈다\n",
      "Comment: 동물학대\n",
      "Comment: 뭔 은신처 들췄다고 죽냐  - dc App\n",
      "Comment: 진지하게 뉴트가 더 생명력 좋을듯\n"
     ]
    },
    {
     "name": "stderr",
     "output_type": "stream",
     "text": []
    },
    {
     "name": "stdout",
     "output_type": "stream",
     "text": [
      "Content: \n",
      "사료 ,주는대로 먹고 사고 안치고, 말도 잘듣고, 주인 잘 따르고 ,애교도 많고 \n",
      "\n"
     ]
    },
    {
     "name": "stderr",
     "output_type": "stream",
     "text": [
      "\n"
     ]
    },
    {
     "name": "stdout",
     "output_type": "stream",
     "text": [
      "Content: \n",
      "그룹 하나 할려는데 뭐가 나아?돈없어서 둘다는 못함..;;\n",
      "\n",
      "Comment: 부모님 밥한끼 사드리는거 추천함  - dc App\n",
      "Comment: 돈있으면 잔틱, 없으면 세이블ㅇㅇ\n",
      "Comment: 열성은 생각해야할게 많다\n",
      "Comment: 둘중 뭐든 브리딩할거면,  지금은 성체로 시작해라..  - dc App\n",
      "Comment: 씹가성비로 헷 헷 가서 기도메타ㄱ - dc App\n",
      "Comment: 최소 5백이상 당장 쓸수잇다 아잔틱 그럴돈 없다 세이블  - dc App\n"
     ]
    },
    {
     "name": "stderr",
     "output_type": "stream",
     "text": [
      "100%|██████████| 49/49 [03:30<00:00,  4.30s/it]\u001b[A\n",
      " 72%|███████▏  | 21/29 [41:25<19:49, 148.63s/it]"
     ]
    },
    {
     "name": "stdout",
     "output_type": "stream",
     "text": [
      "Content: \n",
      "어제까제 유목에서 잘뛰고 놀고 멀쩡했는데 왜 죽은지 모르겠다 요즘 더워서 죽었나  - dc official App\n",
      "\n",
      "Comment: 밥 뭐먹엇냐  - dc App\n",
      "Comment: 와 존나 자는거 마냥 뒤져있네\n",
      "Comment: ㅠㅠ\n"
     ]
    },
    {
     "name": "stderr",
     "output_type": "stream",
     "text": [
      "\n",
      "  4%|▍         | 2/49 [00:05<02:00,  2.56s/it]"
     ]
    },
    {
     "name": "stdout",
     "output_type": "stream",
     "text": [
      "Content: \n",
      "작년 공청회때 갔었는데 그띤 의자부족으로 뒤에 서있을 정도로 사람들 많이왔고 그 중에 샵사장들이 특히 많았는데 이번에도 많이 옴? 이번엔 일때문에 못갔는데 샵사장들 많이왔어?\n",
      "\n",
      "Comment: 겠냐 내일 쇼라 최대한 빨아야되는데 쇼갓지  - dc App\n",
      "Comment: 안옴\n"
     ]
    },
    {
     "name": "stderr",
     "output_type": "stream",
     "text": [
      "\u001b[A"
     ]
    },
    {
     "name": "stdout",
     "output_type": "stream",
     "text": [
      "Content: \n",
      "공청회갔다온사람있으면 귀뜸좀해줘라 20마린지뭔지 유언비언지 아닌지 빨리 귀뜸이라도해줘라우리집 밍기가 쫄쫄굶고있다- dc official App\n",
      "\n"
     ]
    },
    {
     "name": "stderr",
     "output_type": "stream",
     "text": []
    },
    {
     "name": "stdout",
     "output_type": "stream",
     "text": [
      "Content: \n",
      "1 이미지 순서 ON2 이미지 순서 ON3 이미지 순서 ON4 이미지 순서 ON5 이미지 순서 ON겁내 빨빨거림 퀄어때 그리고 레게고수들아 얘 커서 점 자랄거같냐고 안같냐고ㅇㅇ \n",
      "\n",
      "Comment: 점안자랄듯\n",
      "Comment: 변기로 가는거야? - dc App\n",
      "Comment: 존나 귤처럼생겼네\n"
     ]
    },
    {
     "name": "stderr",
     "output_type": "stream",
     "text": [
      "\n"
     ]
    },
    {
     "name": "stdout",
     "output_type": "stream",
     "text": [
      "Content: \n",
      "\n",
      "\n",
      "Comment: 국꺼비www\n"
     ]
    },
    {
     "name": "stderr",
     "output_type": "stream",
     "text": [
      " 10%|█         | 5/49 [00:12<01:43,  2.36s/it]\u001b[A"
     ]
    },
    {
     "name": "stdout",
     "output_type": "stream",
     "text": [
      "Content: \n",
      "기쁜 일이다 \n",
      "\n",
      "Comment: 니 마약조사 안받노?  - dc App\n",
      "Comment: ㅅㅅ\n",
      "Comment: ㄹㅇ\n"
     ]
    },
    {
     "name": "stderr",
     "output_type": "stream",
     "text": []
    },
    {
     "name": "stdout",
     "output_type": "stream",
     "text": [
      "Content: \n",
      "당장 실무자부터가 그런거 하지말아달라법적책임질수있다고 언급했거든ㅋㅋㅋ방구석에서 뇌피셜 유언비어 퍼뜨리다 빨간줄그이는 짓하지마라\n",
      "\n",
      "Content: \n",
      "한치 앞도 못보는 애들만 있노 ㅋㅋㅋㅋㅋ이번 법안은 20마리? 30마리? 사육규제?도마뱀? 종류도 모르는 놈들이 걔들에 대한 복지?국개의원들이 그딴거에 관심이나 있을거 같음?얘들이 하고 싶은건 딱 하나임그냥 지들 실적그리고 세금근데 니들이 모르는게 있는데어차피 업자든 개인이든 법안이 통과되서 시행되든아니면 시행이 안되든세금은 원래 내야하는거야 병신들아 ㅋㅋㅋ그닌깐 니들이 한마리를 키우든 백마리든 천마리든세금만 제대로 내면 문제될거 없이법안이 통과된다오히려 헤비 브리더들은제발 법안 통과되라 바라고 있을거야 ㅋㅋㅋㅋㅋㅋㅋㅋㅋㅋ\n",
      "\n",
      "Comment: 법안이 통과된다가 아니라 이미 통과는 한참전에 된거란다세부내용을 유예기간내에 다 잡아서 최종적으로 유예기간 끝나면 시행하는거고\n",
      "Comment: 이런글을 쓸려면 3년전으로 돌아가서 글을 써라 타이밍늦었다\n",
      "Comment: 통과됐으면 더 좋지 ㅋㅋㅋㅋㅋㅋㅋㅋㅋㅋ 어차피 그게 통과되서 개좃같이 법안이 나오든 아니면 느슨하게 풀리든 사업자내고 세금만 내면 전혀 문제될게 없는 법안인데 여기 파충류판은 얼마나 덜떨어진 애들만 있는건지 저 법안 하나에 판이 망하니 마니 이런 소리나 짓거리고 있는 수준이 너무 한심해서 쓴 글이다 ㅋㅋ 법안이 어떻게 개정이 되든 세금만 잘 내면\n"
     ]
    },
    {
     "name": "stderr",
     "output_type": "stream",
     "text": []
    },
    {
     "name": "stdout",
     "output_type": "stream",
     "text": [
      "Content: \n",
      "조금만 더 쌀먹들 \"정진\" 해주시길 바랍니다 환경부 형님들 응원하면 개추박자  - dc official App\n",
      "\n",
      "Content: \n",
      "퍙이라고 잘 지킬거같노?- dc official App\n",
      "\n",
      "Comment: 절지는 사테종 오너멘탈이랑 황제전갈정돈데 번식량이 어마무시해서 그걸 다 커버를 못치니까 반쯤 손놓은거아니냐 ㅋㅋ 걍 신고하면 서류발급해주는정도고\n",
      "Comment: 걔들 한번 번식하면 600마리 나와\n"
     ]
    },
    {
     "name": "stderr",
     "output_type": "stream",
     "text": [
      "\n"
     ]
    },
    {
     "name": "stdout",
     "output_type": "stream",
     "text": [
      "Content: \n",
      "2달후에 이사시켜줘야지 파업시키고 사진찍고싶었는데 이놈 파업안하노  - dc official App\n",
      "\n",
      "Comment: 이사하고 나서 한 일주일 있으면 좆같은 새끼니 뭐니 개썅욕을 박는 글 올라올듯\n"
     ]
    },
    {
     "name": "stderr",
     "output_type": "stream",
     "text": [
      " 22%|██▏       | 11/49 [00:27<01:32,  2.43s/it]\u001b[A\n"
     ]
    },
    {
     "name": "stdout",
     "output_type": "stream",
     "text": [
      "Content: \n",
      "초안이며 검토중인 진짜가 아니기에 대외유포 금지고 유포시 형사처벌 한다고 했다. 조심해라\n",
      "\n",
      "Comment: 그리고 그 20마리 내용 반려동물법 기준으로 긁어온 예시라고 했음\n",
      "Comment: 작년 공청회때 갔었는데 저 20마리는 그냥 다른나라 사례였고 한다고 한적도 없었는데 저렇게 유언비어가 퍼졌었나보네\n",
      "Comment: 이건 반박못하고 추하게 비추박고 튀노ㅋㅋ\n",
      "Comment: 그런내용이 있긴햇나보내  - dc App\n",
      "Comment: 벌써 분양금지확정났다 25년부터 시행이다시행날짜도확정남\n"
     ]
    },
    {
     "name": "stderr",
     "output_type": "stream",
     "text": [
      " 24%|██▍       | 12/49 [00:29<01:25,  2.32s/it]\u001b[A"
     ]
    },
    {
     "name": "stdout",
     "output_type": "stream",
     "text": [
      "Content: \n",
      "1 이미지 순서 ON2 이미지 순서 ON3 이미지 순서 ON어떰 얜 점아예없이 자라겠지??? \n",
      "\n",
      "Comment: 야스오 레게 왤케 좋아함\n"
     ]
    },
    {
     "name": "stderr",
     "output_type": "stream",
     "text": []
    },
    {
     "name": "stdout",
     "output_type": "stream",
     "text": [
      "Content: \n",
      "서울역에서 근무한다고 엄청 편하다고 착각하는 사람들 많은데적은 인원으로 저렇게 많은 사람들 상대해야함사람1명이 3인분 수준으로 해야하는데 이게 편하다고?난 재입대 한다고 하면 TMO병 다시는 안함ㅅㅂ 니들이 TMO병으로 한 번 군복무 해봐야 저딴식으로 말 안하지\n",
      "\n",
      "Comment: 원래 군대는 자기가 안해본 일은 모르고 내 보직 빼고는 다 꿀임\n"
     ]
    },
    {
     "name": "stderr",
     "output_type": "stream",
     "text": []
    },
    {
     "name": "stdout",
     "output_type": "stream",
     "text": [
      "Content: \n",
      "냉동 창고애서 한거라서 목소리도 ㅈㄴ 안 들리는데 개작게 말하고 처음할때 재고조회하고 그다음 간편 진열이였나 그거 2번 하면 된다고 해서 그렇게 했는데 다 끝나고나서 왜 진열 2번 한 다음에 재고조회 안 했냐고 쿠사리 ㅈㄴ 주는데 이게 내 탓임?? 내가 못 들은 걸 수도 있는데 그럼 처음이니까 진작에 확인해서 잘하고 있나 확인 하던가 아예 처음 하는데 걍 처음 몇말만 알려주고 하라고 하면 이게 맞는 거냐 ㅈㄴ 어이없네ㅋㅋㅋㅋㅋㅋㅋㅋㅋㅋㅋㅋ ㅈㄴ어이없네 거기다가 처음인데 \"처음 아니시잖아요\" ㅇㅈㄹㅋㅋㅋㅋㅋㅋㅋㅋㅋㅋㅋㅋ \n",
      "\n"
     ]
    },
    {
     "name": "stderr",
     "output_type": "stream",
     "text": []
    },
    {
     "name": "stdout",
     "output_type": "stream",
     "text": [
      "Content: \n",
      "파충류 전문 배송업체 얘네가 제일 피해 많이 볼거임요즘 정거샵이니 뭐니 하면서 사업 확장 많이 해놨던데공급 확 줄면 물거품 될거 아녀\n",
      "\n",
      "Comment: 오히려 고택같은거 못쓰게 되면 그런 업체들만 써야하니까 이득볼지도?\n"
     ]
    },
    {
     "name": "stderr",
     "output_type": "stream",
     "text": []
    },
    {
     "name": "stdout",
     "output_type": "stream",
     "text": [
      "Content: \n",
      "오늘 회의에서 나온거자꾸 자기들 의견인것마냥특히 마릿수제한 이딴거 제대로 확정한것도 없고 자기들도 생각없이 질럿다가 문제터질거알아서 절대로 일반 포유류마냥 일괄규제는 안할거라고 하는데자꾸 넷상에서 유언비어 퍼뜨리는놈들한테 낚여서 민원거는 사람들 늘어서 미치겠다고\n",
      "\n"
     ]
    },
    {
     "name": "stderr",
     "output_type": "stream",
     "text": []
    },
    {
     "name": "stdout",
     "output_type": "stream",
     "text": [
      "Content: \n",
      "파충류 입문해보려는데 에그이터 알아본다고 파충류번식하는 친구한테 물어보니까 이왕 하는거 키우기 쉽고 이쁜 뱀으로 키우라던데 뱀이 거기서 거기지 키우고 쉽고 이쁜 뱀은 뭐임?\n",
      "\n",
      "Comment: 못생겼다까진 아닌거 같은데 다른 이쁜 뱀도 많아\n",
      "Comment: 색깔이 칙칙해서 그런 듯모프 콜루 같은게 화려하니까\n",
      "Comment: 자기거 사가라는거지 ㅅㅂ ㅋㅋㅋㅋ  - dc App\n",
      "Comment: 에그이터 내 기준 ㅆㅅㅌㅊ임\n"
     ]
    },
    {
     "name": "stderr",
     "output_type": "stream",
     "text": []
    },
    {
     "name": "stdout",
     "output_type": "stream",
     "text": [
      "Content: \n",
      "나는 솔직히 말해서 예전에 레게 폭락했을 때친하던 사장들 몇명 연락두절되고 개중 일부는 사기꾼으로 전락하는 꼴 보면서여지껏 경험해보지 못한 희열을 느꼈음그런거 다시한번 볼 수 있게환경부가 일 좀 열심히 해줬으면 좋겠음\n",
      "\n",
      "Comment: 짜릿할거같아..\n",
      "Content: \n",
      "규제확정내는거 시간 끌면서 도망치라고 기회주자나  환경청 형님들이 ㅋ 모르겠냐? ㅋ  - dc official App\n",
      "\n"
     ]
    },
    {
     "name": "stderr",
     "output_type": "stream",
     "text": []
    },
    {
     "name": "stdout",
     "output_type": "stream",
     "text": [
      "Content: \n",
      "규제생기는건 확실한거고  어떻게 ㅈ같이 생길지 공청회에서 야부리 터는건데 지금 생짜바리 도때기 시장이랑 똑같을거같냐? ㅋ 쌀먹하는놈들 지들 밥그릇 흠집생길까바 쫄아서 공청회가서 빌빌거렷다며 ㅋ  앞으로도 계속 가서 빌빌거려라  수고  - dc official App\n",
      "\n",
      "Comment: 올해 규제안생기고 내년에 규제생기면 규제 안생기는거냐 ㅋㅋㅋㅋ규제 생기는건 확정이자나 ㅋㅋ존나 빡통들 많은거같내업계 수준인가  - dc App\n",
      "Comment: 모르는건 죄가 아닌데 넌 일단 법 제정되고 시행되고 이런거 과정 검색이라도 해봐라...\n"
     ]
    },
    {
     "name": "stderr",
     "output_type": "stream",
     "text": []
    },
    {
     "name": "stdout",
     "output_type": "stream",
     "text": [
      "Content: \n",
      "일욜에 인천가보려구\n",
      "\n",
      "Comment: 만크다린은 오지가 볼만하지 - dc App\n",
      "Comment: 30이면 sm\n"
     ]
    },
    {
     "name": "stderr",
     "output_type": "stream",
     "text": []
    },
    {
     "name": "stdout",
     "output_type": "stream",
     "text": [
      "Content: \n",
      "뭐가 개 ㅈ됐다는 거 ㅋㅋ  - dc official App\n",
      "\n",
      "Comment: 공청회니까그냥 여러 의견을 듣기 위한 자리임\n"
     ]
    },
    {
     "name": "stderr",
     "output_type": "stream",
     "text": []
    },
    {
     "name": "stdout",
     "output_type": "stream",
     "text": [
      "Content: \n",
      "공급 좀 줄이자  - dc official App\n",
      "\n"
     ]
    },
    {
     "name": "stderr",
     "output_type": "stream",
     "text": []
    },
    {
     "name": "stdout",
     "output_type": "stream",
     "text": [
      "Content: \n",
      "믿는게 ㅂㅅ이지ㅋㅋㅋㅋㅋ공뭔들이 집집마다 다니면서 도마뱀 마릿수 세고 앉았겠냐?ㅎ구라도 좀 생각을 해가면서, 그럴듯하게 쳐봐라 좀ㅋㅋㅋㅋㅋ설령 그냥 ㅈㄴ 할일 없고 일손 처남아돌아서영장도 없이 집에 들이닥쳐서 도마뱀 호구조사 한다셈 치자ㅎ20마리면 무죄고 21마리면 유죄임?ㅋㅋㅋ어 지금 조사 끝나서 무죄였는데, 방금 해칭하면 유죄되는거임?ㅎ금새 뭐 하나 패사하면 또 무죄되는거고..??ㅋㅋㅋ와 법 존나 쉽네ㅋㅋㅋㅋㅋ빡대가리년들 수준ㅋㅋㅋㅋㅋ\n",
      "\n"
     ]
    },
    {
     "name": "stderr",
     "output_type": "stream",
     "text": []
    },
    {
     "name": "stdout",
     "output_type": "stream",
     "text": [
      "Content: \n",
      "어머니가 집 마당에서 식물 키우셔서 물 주는거 보다가 갑자기 튀어나와서 찍었는데 꽤 컸어요 \n",
      "\n",
      "Comment: 참개구리\n",
      "Comment: 참굴개\n",
      "Comment: 미스터 참\n"
     ]
    },
    {
     "name": "stderr",
     "output_type": "stream",
     "text": []
    },
    {
     "name": "stdout",
     "output_type": "stream",
     "text": [
      "Content: \n",
      "은 뭔소린지 모르겠고호더들 줄고 퍙박이가 늘면 벼디갤에 허버허버 성장할거란 이야기임\n",
      "\n"
     ]
    },
    {
     "name": "stderr",
     "output_type": "stream",
     "text": []
    },
    {
     "name": "stdout",
     "output_type": "stream",
     "text": [
      "Content: \n",
      "액침표본, 건조표본 같은 은어 사용하면서 은밀하게 거래하는거왠지 멋져보여그리고 이제 뭐 새 개체 들일 생각도 없고있는거 알 까서 분양할 일만 남았는데마약거래 하듯이 'XX역 X번출구 3번째 가로수 왼쪽 수풀' 이런 식으로 개체 던져놓고 위치 알려주는 식으로 거래하는 것도 경험해보고 싶음\n",
      "\n",
      "Comment: 어리네..\n"
     ]
    },
    {
     "name": "stderr",
     "output_type": "stream",
     "text": []
    },
    {
     "name": "stdout",
     "output_type": "stream",
     "text": [
      "Content: \n",
      "못키운다는거야 키워도 된다는거야 ..? \n",
      "\n",
      "Comment: 뭐긴 ㅈ된거지 - dc App\n",
      "Comment: 정해진게 없음\n",
      "Comment: ㅇㅇ ㅈ댐 이제 제태크는 끝났어\n"
     ]
    },
    {
     "name": "stderr",
     "output_type": "stream",
     "text": []
    },
    {
     "name": "stdout",
     "output_type": "stream",
     "text": [
      "Content: \n",
      "집이 적응된건가 나와서 뻗어잠 \n",
      "\n"
     ]
    },
    {
     "name": "stderr",
     "output_type": "stream",
     "text": []
    },
    {
     "name": "stdout",
     "output_type": "stream",
     "text": [
      "Content: \n",
      "비싼거 매물 막나온다 이거뭐냐?  - dc official App\n",
      "\n",
      "Comment: 눈치빠른 업자들부터 조금씩 줄이는거지 ㅋ  - dc App\n",
      "Content: \n",
      "1 이미지 순서 ON2 이미지 순서 ON3 이미지 순서 ON4 이미지 순서 ON5 이미지 순서 ON6 이미지 순서 ON낼롬 낼롬 \n",
      "\n",
      "Comment: 요망해\n"
     ]
    },
    {
     "name": "stderr",
     "output_type": "stream",
     "text": [
      "\n"
     ]
    },
    {
     "name": "stdout",
     "output_type": "stream",
     "text": [
      "Content: \n",
      "준성체 되니까 슬슬 버겁다ㅈㄴ빨리크네진짜\n",
      "\n",
      "Comment: ㅇㅇ바로 새먹이  - dc App\n",
      "Comment: ㅋㅋㅋ 논두렁에 놔두셈 올해가을까지 대장놀이하다가 마감하실듯\n",
      "Comment: 겨울에 죽겠지  - dc App\n",
      "Comment: 픽시가 버거우면.... 다른 동물은 키우지 마라  - dc App\n"
     ]
    },
    {
     "name": "stderr",
     "output_type": "stream",
     "text": [
      " 67%|██████▋   | 33/49 [01:20<00:38,  2.41s/it]\u001b[A"
     ]
    },
    {
     "name": "stdout",
     "output_type": "stream",
     "text": [
      "Content: \n",
      "저거 uvb 약하게 나오는거 아니냐?  - dc official App\n",
      "\n",
      "Comment: 약하긴한데 충분  - dc App\n",
      "Comment: 저게 단일제품보다 훨씬 좋은거임\n",
      "Comment: 사기먹엇노\n",
      "Comment: 사장이 개꿀 호구 아님?  - dc App\n",
      "Content: \n",
      "20마리 제한 크악 씨이빨  바로 크레판 정상화 OUT!!  민심 돌리기 들어가는 신태원 (캬~)  “알공장 척결” 다섯 글자에 환호성  역시 정상화는 신 태 원  드디어 신태원이 메이플을 정상화 하네~~~   - dc official App\n",
      "\n",
      "Comment: 정상화의 신\n"
     ]
    },
    {
     "name": "stderr",
     "output_type": "stream",
     "text": []
    },
    {
     "name": "stdout",
     "output_type": "stream",
     "text": [
      "Content: \n",
      "박람회 가보니까 하얗고 이쁜애들 가격도 3만원인가 5만원밖에 안하던데 이런애들 모프가모임?  - dc official App\n",
      "\n",
      "Comment: 릴리  - dc App\n",
      "Comment: 스노우 라거 내가 만든 모프임곧 세상에 공개할 예정임\n"
     ]
    },
    {
     "name": "stderr",
     "output_type": "stream",
     "text": []
    },
    {
     "name": "stdout",
     "output_type": "stream",
     "text": [
      "Content: \n",
      "ㅋㅋ \n",
      "\n",
      "Comment: 근데 지금 어디 주최 공청회야? 스트리밍 같은거 있음?\n"
     ]
    },
    {
     "name": "stderr",
     "output_type": "stream",
     "text": []
    },
    {
     "name": "stdout",
     "output_type": "stream",
     "text": [
      "Content: \n",
      "1 이미지 순서 ON2 이미지 순서 ON3 이미지 순서 ON 제발 공청회 화이팅!  똥퀄 저퀄 성비 1대 5로 렉사 특대에서 메이팅 알공장  시발련들 쳐 죽여버려야 공급 줄어서 크레판이 살음 이 시발련들 제발 제발  - dc official App\n",
      "\n",
      "Comment: 인권의 인은 사람을 뜻합니다. 차라리 동물권이라고 하던가\n",
      "Comment: 크레의 정상화를 위해\n"
     ]
    },
    {
     "name": "stderr",
     "output_type": "stream",
     "text": []
    },
    {
     "name": "stdout",
     "output_type": "stream",
     "text": [
      "Content: \n",
      "정상화좀 해보자잇!!!!!!  - dc official App\n",
      "\n",
      "Comment: 그건 정상화가 아니라 그냥 파충류판 망하는거임\n"
     ]
    },
    {
     "name": "stderr",
     "output_type": "stream",
     "text": [
      "\n"
     ]
    },
    {
     "name": "stdout",
     "output_type": "stream",
     "text": [
      "Content: \n",
      "몇년동안 게코 키우면서 귀뚜리는 내가 진짜 못주겟어서 밀웜만 줬는데 냉동은 줄만할거 같아서혹시 어디서 구매들하고 먹이 반응은 어떻고 해동했을때 많이 안역한지 경험좀 나눠줄 사람좀 잇냐아 참고로 생귀뚤 사서 얼리는건 못하겟다 와이프도 반대할거고 - dc official App\n",
      "\n",
      "Comment: 생귀뚤 사서 얼리고 주는데냉동귀뚤 인터넷에서 시키니까 냄시부터가 존나역하더라이걸 먹여도되나싶고 생귀뚤 그냥 샵에서 봉지째 주는거 그대로 냉동실 한시간 넣고 탈탈 털어서 플라스틱통에 옮겨놈줄때는 몇마리 따로빼서 해동후 급여함 잘먹음\n",
      "Comment: 네이버 검색해서 취향대로 사면 되고 먹이반응은 ㄱㅊ았음\n",
      "Comment: 나 냉동귀뚜라미 먹이는데 딱히 역하진 않음. 먹이반응은 좋음. 근데 난 냉동귀뚜라미로 먹이붙임 된 애들을 데려오긴 했어\n"
     ]
    },
    {
     "name": "stderr",
     "output_type": "stream",
     "text": [
      " 82%|████████▏ | 40/49 [01:37<00:21,  2.42s/it]\u001b[A"
     ]
    },
    {
     "name": "stdout",
     "output_type": "stream",
     "text": [
      "Content: \n",
      "이끼있으면 너무 습하다고 크레한테 안좋다는디 근데 이끼 적당히 습해도 살지않냐?  - dc official App\n",
      "\n",
      "Comment: 살기야 하겠지 대신 건강하게 못살지\n",
      "Comment: 찻집에 글쓰고 있다 딱기다려  - dc App\n"
     ]
    },
    {
     "name": "stderr",
     "output_type": "stream",
     "text": [
      "\n"
     ]
    },
    {
     "name": "stdout",
     "output_type": "stream",
     "text": [
      "Content: \n",
      "사각백업 파는데 있음? 집 근처 문구센터 돌았는데 동그란 백업도 없더라;; \n",
      "\n",
      "Comment: 까만색 네모난거 렙티버스에 팔더라  - dc App\n",
      "Comment: 대구에도 인터넷 되냐\n",
      "Comment: 너 갤식이지?\n",
      "Comment: 계산오거리에 샵 가 거기 사각백업 팜\n"
     ]
    },
    {
     "name": "stderr",
     "output_type": "stream",
     "text": [
      " 86%|████████▌ | 42/49 [01:42<00:17,  2.44s/it]\u001b[A"
     ]
    },
    {
     "name": "stdout",
     "output_type": "stream",
     "text": [
      "Content: \n",
      "이맛에 키우나 졸라귀엽노 \n",
      "\n",
      "Comment: 졸귀네\n",
      "Comment: ㄱㅇㅇ  - dc App\n",
      "Comment: 역시 애완은 레게다\n",
      "Comment: 레게임? 모프뭐노  - dc App\n"
     ]
    },
    {
     "name": "stderr",
     "output_type": "stream",
     "text": [
      "\n"
     ]
    },
    {
     "name": "stdout",
     "output_type": "stream",
     "text": [
      "Content: \n",
      "채집통대에 50마리 넣고 시작하는데 매일 3~5마리 뒤지는데 정상??\n",
      "\n",
      "Comment: 세팅이 안좋은가봐\n",
      "Comment: ㄴㄴ\n",
      "Comment: ㅇㅇ  - dc App\n",
      "Comment: 씹 재능러다. 나는 자고 인나면 4분의1씩 사라심  - dc App\n"
     ]
    },
    {
     "name": "stderr",
     "output_type": "stream",
     "text": [
      " 90%|████████▉ | 44/49 [01:47<00:11,  2.40s/it]\u001b[A\n"
     ]
    },
    {
     "name": "stdout",
     "output_type": "stream",
     "text": [
      "Content: \n",
      "안성에 괜찮은샵뭐있냐- dc official App\n",
      "\n"
     ]
    },
    {
     "name": "stderr",
     "output_type": "stream",
     "text": [
      " 92%|█████████▏| 45/49 [01:49<00:09,  2.46s/it]\u001b[A\n"
     ]
    },
    {
     "name": "stdout",
     "output_type": "stream",
     "text": [
      "Content: \n",
      "크레기준 1마리당 606090은 되야  그나마 동물복지 아니냐? 30마리당 전담 관리사 1명씩 고용해야되고 증식신고도 번식할때마다 필수신고해야  양도양수가능   - dc official App\n",
      "\n",
      "Comment: 노멀 미구분 크레 260만원에 모십니다 손님  - dc App\n"
     ]
    },
    {
     "name": "stderr",
     "output_type": "stream",
     "text": [
      " 94%|█████████▍| 46/49 [01:52<00:07,  2.51s/it]\u001b[A"
     ]
    },
    {
     "name": "stdout",
     "output_type": "stream",
     "text": [
      "Content: \n",
      "20마리 제한 뜬거야? 왜이렇게 난리냐ㅋ  - dc official App\n",
      "\n"
     ]
    },
    {
     "name": "stderr",
     "output_type": "stream",
     "text": [
      "\n",
      " 98%|█████████▊| 48/49 [01:57<00:02,  2.48s/it]"
     ]
    },
    {
     "name": "stdout",
     "output_type": "stream",
     "text": [
      "Content: \n",
      "'예전에봤던뱀인데 잡다가 실패함\n",
      "\n",
      "Comment: 능구렁이\n",
      "Comment: 누룩뱀임 능구렁이는 더크고 빨감 위에틀린거다\n",
      "Comment: 능구렁이 피 뭐냐 다쳤나\n",
      "Comment: 능구맞음 - dc App\n"
     ]
    },
    {
     "name": "stderr",
     "output_type": "stream",
     "text": [
      "100%|██████████| 49/49 [02:02<00:00,  2.50s/it]\n",
      " 76%|███████▌  | 22/29 [43:29<16:28, 141.21s/it]"
     ]
    },
    {
     "name": "stdout",
     "output_type": "stream",
     "text": [
      "Content: \n",
      "리키 한번 입문해보려고 사육정보 확인하는 중임 온도는 크레랑 똑같이 해서 키우면 되는 줄 알았는데, 25도 밑이면 먹성 떨어지거나 거식 걸린다는 말이 있네 이거 진짜임?? 겨울에 집 온도 평균 22도 정도인데 전기장판 하나 틀어줘야돼??  리키 고수분들 답변주시면 감사하겠습니당  - dc official App\n",
      "\n",
      "Comment: 상부든 하부든 열원 필요하지\n",
      "Comment: 또 어떤놈이 그딴 소리 한다냐?\n"
     ]
    },
    {
     "name": "stderr",
     "output_type": "stream",
     "text": []
    },
    {
     "name": "stdout",
     "output_type": "stream",
     "text": [
      "Content: \n",
      "타협할거에요?  그게 맞음?  환경청이 법안 개빡세게만들어도  그냥 따라야되는 개돼지들인데  그냥 하고싶은데로 내세요  뭔 타협?  - dc official App\n",
      "\n"
     ]
    },
    {
     "name": "stderr",
     "output_type": "stream",
     "text": [
      "\n"
     ]
    },
    {
     "name": "stdout",
     "output_type": "stream",
     "text": [
      "Content: \n",
      "https://youtu.be/kaAajLcmfuw?si=XLGxvLrypXzLh7uH [리 미제라블] No.2 - 200만 지르면 (Two Million Dreams)#리선족 #정상화 #ai노래 #메이플 #신창섭youtu.be이 세상에 공짜 없다지만 크레판은 얘기가 다르지 결국 회수하면 다 공짜야 오히려 돈이 벌린다구! 200정돈 다 있잖아 편돌이라도 한 달 해 뒷일 생각 할 거 없어 다시 팔면 되니까! 200만 지르면 200만 지르면 아잔틱 잡혀, 세이블 잡혀! 200만 지르면!! 1 이미지 순서 ON2 이미지 순서 ON - dc official App\n",
      "\n"
     ]
    },
    {
     "name": "stderr",
     "output_type": "stream",
     "text": [
      "  4%|▍         | 2/49 [00:05<02:02,  2.61s/it]\u001b[A"
     ]
    },
    {
     "name": "stdout",
     "output_type": "stream",
     "text": [
      "Content: \n",
      "ㅈㄱㄴ\n",
      "\n",
      "Comment: 공청회 있다는데? 어디서 하는건진 모르겠는데\n",
      "Comment: 구라임. PDF 따서 고소한다더라\n",
      "Comment: 공청회 참석중이다 그런소리구체적으로 하지도 않았고 자기들도 포유류기준으로는 절대 그대로 안갈거라고만함\n"
     ]
    },
    {
     "name": "stderr",
     "output_type": "stream",
     "text": []
    },
    {
     "name": "stdout",
     "output_type": "stream",
     "text": [
      "Content: \n",
      "  (사탄의 혈육 대형 유튜버 ㄷㅇㄴ, ㅋㄹㅍㅅ, ㄷㅎ, ㅈㅂㄹ)   와~ 개인 알공장 따잇하는 재미~   크레판이 갑자기 재밌어졌네~   수백만 원 안쓰고도 크레 팔리니   파양갤 유저들 눈물이 강물 되네~ 1 이미지 순서 ON2 이미지 순서 ON3 이미지 순서 ON4 이미지 순서 ON - dc official App\n",
      "\n",
      "Comment: 감동적이다.. ㄹㅇ 개추\n"
     ]
    },
    {
     "name": "stderr",
     "output_type": "stream",
     "text": []
    },
    {
     "name": "stdout",
     "output_type": "stream",
     "text": [
      "Content: \n",
      "업체 갑질과 강제 노역 엔딩이구나 \n",
      "\n",
      "Comment: 스스로 생각할줄 모르고 해결할 능력도 없으면 개돼지 짐승과 다를바 없지 코인 주식 모르노\n",
      "Comment: 사업자 내기 쉬운데?\n"
     ]
    },
    {
     "name": "stderr",
     "output_type": "stream",
     "text": []
    },
    {
     "name": "stdout",
     "output_type": "stream",
     "text": [
      "Content: \n",
      "20마리 제한 크악 씨이빨  바로 크레판 정상화 OUT!!  민심 돌리기 들어가는 신태원 (캬~)  “알공장 척결” 다섯 글자에 환호성  역시 정상화는 신 태 원  드디어 신태원이 크레판을 정상화 하네~~~   - dc official App\n",
      "\n",
      "Comment: 역시 정상화는 신창섭\n",
      "Comment: 마리 주작은 또 뭐야\n",
      "Comment: 불매가 쉬운줄 아나 일본 브랜드도 잠깐 그랫지 시간 지나면 다시 돌아옴  - dc App\n"
     ]
    },
    {
     "name": "stderr",
     "output_type": "stream",
     "text": []
    },
    {
     "name": "stdout",
     "output_type": "stream",
     "text": [
      "Content: \n",
      "걍 몰래 키우면서 똥퀄마냥 뒷산에 방생하는 재미로 키울랜다  \n",
      "\n",
      "Comment: 이럴때 모니터하나들이는거야 - dc App\n"
     ]
    },
    {
     "name": "stderr",
     "output_type": "stream",
     "text": []
    },
    {
     "name": "stdout",
     "output_type": "stream",
     "text": [
      "Content: \n",
      "나름 쏠쏠하다 나는 크레 도매 받아서 파는데 요즘 동네 크레 번식하는 아재, 아지메들 화 존나났음ㅋㅋㅋㅋㅋㅋㅋㅋ 데려올때 80주고 데려오고 몇백주고 데려왔는데 개인분양은 팔리지도 않아서 도매 보내려고 문의하니 5천원 만원 이지랄 해버리니까 개 질린다는 표정으로 어쩔수없이 들고와서 파는 느낌으로 보내주더라ㅋㅋㅋㅋㅋㅋ \n",
      "\n",
      "Comment: 불쌍하게 생각하고 대가리좀 쓰다듬어주면서 마리당 500원씩 더 쳐서 줘라 불쌍하다대가리 빡통이 죄는아니자나  - dc App\n",
      "Comment: 나도 샵차리고 개꿀임  - dc App\n",
      "Comment: ㄹㅇ공감 나도샵차린지 1년 쫌넘엇는데 월매출90억쫌 안됨 어제 대치동 아파트계약함\n",
      "Comment: 양심상 퀄보고 보통은 1000 존넘은 2000원은 더 줘라\n",
      "Content: \n",
      "징그러운 크레 제외하고 추천좀\n",
      "\n",
      "Comment: 모어닝 ㄱ - dc App\n"
     ]
    },
    {
     "name": "stderr",
     "output_type": "stream",
     "text": []
    },
    {
     "name": "stdout",
     "output_type": "stream",
     "text": [
      "Content: \n",
      "해외에 데려오고싶는거 있는데 수도권은 멀어서 가기싫다\n",
      "\n",
      "Comment: 슈밀대행 있슴\n",
      "Comment: 수입해드림 일단 오백선입금\n"
     ]
    },
    {
     "name": "stderr",
     "output_type": "stream",
     "text": []
    },
    {
     "name": "stdout",
     "output_type": "stream",
     "text": [
      "Content: \n",
      "나와서\n",
      "\n",
      "Comment: 황구렁이요 독없어요\n",
      "Comment: 누룩뱀이고 독없음. 황구렁이 아님  - dc App\n",
      "Comment: 누룩뱀\n",
      "Content: \n",
      " - dc official App\n",
      "\n",
      "Comment: 지금위치 좀 불편해서 내가 원하는위치로 배변 유도하고싶은데  - dc App\n",
      "Comment: 원래 보던곳 빡빡 닦아내고 똥들 담아서 원하는곳에 둬봐라\n",
      "Comment: 원하는 곳에 두면 됨 ㅇㅇ\n"
     ]
    },
    {
     "name": "stderr",
     "output_type": "stream",
     "text": []
    },
    {
     "name": "stdout",
     "output_type": "stream",
     "text": [
      "Content: \n",
      "똥꼬쑈 지겹다  똥꼬냄새남 먹고살기힘드냐  - dc official App\n",
      "\n",
      "Comment: 재래시장 원래 매주 여는거 몰름?\n"
     ]
    },
    {
     "name": "stderr",
     "output_type": "stream",
     "text": []
    },
    {
     "name": "stdout",
     "output_type": "stream",
     "text": [
      "Content: \n",
      "1 이미지 순서 ON2 이미지 순서 ON3 이미지 순서 ON부모사진은 아직 모르고 셋중에 누가더 예쁘게클가능성잇음?\n",
      "\n",
      "Comment: 1번 탈락2번 낫배드3번 굿  - dc App\n"
     ]
    },
    {
     "name": "stderr",
     "output_type": "stream",
     "text": []
    },
    {
     "name": "stdout",
     "output_type": "stream",
     "text": [
      "Content: \n",
      "1 이미지 순서 ON2 이미지 순서 ON얘네가 부모래 3 이미지 순서 ON대려올려는 애 5만원 4 이미지 순서 ON5 이미지 순서 ON대려올려는 애 후보2 2만원 뭐가나음 밑에애는 텐저린이래 위는 만다린이거 \n",
      "\n",
      "Comment: 난 아래가 더 취향  - dc App\n",
      "Comment: 만다린 절대아니고 텐져린은 만원이상이면 호구  - dc App\n",
      "Comment: 샵에 2-3만원임 ㅋㅋ\n",
      "Comment: 왜 삼?\n",
      "Comment: 부모 둘다 썬글로운데 만다린 이러고 있네ㅋㅋ  - dc App\n",
      "Comment: 차라리 저한테 사세요;;\n"
     ]
    },
    {
     "name": "stderr",
     "output_type": "stream",
     "text": []
    },
    {
     "name": "stdout",
     "output_type": "stream",
     "text": [
      "Content: \n",
      "퀄리티가 좋네  - dc official App\n",
      "\n",
      "Comment: 당연한 소리를ㅋ  - dc App\n",
      "Content: \n",
      "은신처용으로 쓰라고 저런 유목놓았는데  - dc official App\n",
      "\n",
      "Comment: 아늑허이 좋노\n",
      "Comment: 입구 말고 유목 밑에 좋아함  - dc App\n",
      "Comment: 은신처가 작아서 등이나 머리에 닿는 그런 크기를 더 조아하는 것 같아 보임\n"
     ]
    },
    {
     "name": "stderr",
     "output_type": "stream",
     "text": []
    },
    {
     "name": "stdout",
     "output_type": "stream",
     "text": [
      "Content: \n",
      "일부 상위 샵 브리더나 꿀매빼면 예전만하지 못한거같네 관심도 적어진건지 분양글이 더 많아지고 정리글도 꽤 많아진거같음 분양글도 올라오는것만 계속 올라오고 \n",
      "\n",
      "Comment: 밀수 사기 구라 원툴이었는데 탄로나서 그럼\n",
      "Comment: 너무 가격에 비해 알까기가 쉬움 ㅋㅋㅋ\n",
      "Comment: 상위 브리더 애들 꿀빠는거도 서서히 줄어들거임 ㅋ  - dc App\n",
      "Comment: 돈벌려고 들어온 사람만 많아서 그럼  - dc App\n"
     ]
    },
    {
     "name": "stderr",
     "output_type": "stream",
     "text": [
      "\n"
     ]
    },
    {
     "name": "stdout",
     "output_type": "stream",
     "text": [
      "Content: \n",
      "어제 등산하다가 뱀을 봤는데 한국뱀이 맞나해서요 유광검정에 몸에 주황색 흰색 줄이 있는 뱀이었는데 생긴게 이쁘고 특이해서 뭔가 애완용 뱀 같아서 질문드립니다\n",
      "\n",
      "Comment: 먹구렁이?\n",
      "Comment: 설명만 들으면 우유뱀 같은데\n",
      "Comment: 먹구렁이  - dc App\n"
     ]
    },
    {
     "name": "stderr",
     "output_type": "stream",
     "text": [
      " 39%|███▉      | 19/49 [00:49<01:19,  2.64s/it]\u001b[A"
     ]
    },
    {
     "name": "stdout",
     "output_type": "stream",
     "text": [
      "Content: \n",
      "ㅎ하들짝 놀라서 일어났는데못봤으면 죽는거였음?\n",
      "\n",
      "Comment: ㄲㅂ\n",
      "Comment: 물리면 서서히 죽어감  - dc App\n"
     ]
    },
    {
     "name": "stderr",
     "output_type": "stream",
     "text": []
    },
    {
     "name": "stdout",
     "output_type": "stream",
     "text": [
      "Content: \n",
      "ㅎ하들짝 놀라서 일어났는데못봤으면 죽는거였음?\n",
      "\n",
      "Comment: ㄲㅂ\n",
      "Comment: 물리면 서서히 죽어감  - dc App\n",
      "Content: \n",
      "박스헤드 국내에서만 쓰는 명칭인건 아는데 두상 이렇게 생긴 애들 뭐라 해야 할지 몰라서 일단 씀; 블랙스롯 데려 올까 했는데 얘 성체 크기 보니까 6자광으로도 안될 거 같아서이렇게 생긴 애들 중에 성체크기가 테구 성체급 정도? 대략 1m2-30정도로 크는 애들은 사바나 뿐임?\n",
      "\n",
      "Comment: 사바나 화이트스롯 블랙스롯 끝\n",
      "Comment: 사이즈 생각하면 사바나밖에 없는데 스롯뽕 한번 맛보면사바나로 만족할 수 없는 몸이 되어버림\n",
      "Comment: 사바나도 잘크면 ㅈㄴ크던데\n",
      "Comment: 사바나가 저렴이 이미지라 그렇지 키워보면 키울맛남\n"
     ]
    },
    {
     "name": "stderr",
     "output_type": "stream",
     "text": [
      "\n"
     ]
    },
    {
     "name": "stdout",
     "output_type": "stream",
     "text": [
      "Content: \n",
      "방학개짧네  - dc official App\n",
      "\n",
      "Comment: 니 급식임? 학식임?  - dc App\n"
     ]
    },
    {
     "name": "stderr",
     "output_type": "stream",
     "text": [
      " 47%|████▋     | 23/49 [02:50<06:00, 13.87s/it]\u001b[A\n"
     ]
    },
    {
     "name": "stdout",
     "output_type": "stream",
     "text": [
      "Content: \n",
      "1 이미지 순서 ON2 이미지 순서 ON3 이미지 순서 ONhttps://m.dcinside.com/board/reptile/802073 퍙갤 상황 완벽설명해줌~~~~~~~~~~~~~~~~~~~ - 파충류, 양서류 갤러리시작)ㄱㅋ고닉이랑 ㄱㅋ좆목 몇명이 불법파충류,밀수,샵뒷담,사육자뒷담,밀수분양,불법분양구라,1인5역선동,1인5역 여론주작한거 갤에 걸림ㄱㅋ고닉이랑 좆목 몇명이 빼박상황 빠져나갈길 없으니까 핑계댈꺼없어서 퍙업체 하나찍어서m.dcinside.com 퍙갤 상황 완벽설명해줌~~~~~~~~~~~~~~~~~~~span> - 파충류, 양서류 갤러리시작)ㄱㅋ고닉이랑 ㄱㅋ좆목 몇명이 불법파충류,밀수,샵뒷담,사육자뒷담,밀수분양,불법분양구라,1인5역선동,1인5역 여론주작한거 갤에 걸림ㄱㅋ고닉이랑 좆목 몇명이 빼박상황 빠져나갈길 없으니까 핑계댈꺼없어서 퍙업체 하나찍어서m.dcinside.com김콘이랑 파워섹스가 퍙갤 사기치다 실패ㅎhttps://youtube.com/v/6QnbgS1TEK4?feature=shared (실제상황)의정부 한복판에 악어가 출몰했습니다- 파충류, 양서류 갤러리- 파충류, 양서류 갤러리span&gt; - 파충류, 양서류 갤러리채널에 가입하여 혜택을 누려보세요.https://www.youtube.com/channel/UCSw1fvOcKP3AQ9aw-wtkpWg/joinyoutube.com김콘이랑 파워섹스 밀수좃목멤버가 밀수악어 분양하다 체포ㅎ수갑차고 검거된 밀수좃목멤버ㅎㅎ불법 밀수 사기 구라 김콘=파워섹스의 정체ㅎ여자손으로 퍙사진 찍는이유=경찰 환경청 걸렸을때 이거 저 아닌데요 이거여자손이잖아요 저는남자에요 하려고ㅎ\n",
      "\n",
      "Comment: 채포 영상 없잖아 ㅡㅡ\n",
      "Comment: ㅍㅇㅅㅅ 요즘 안나오긴 하네..\n",
      "Comment: 꽃뱀도 서류있다하더니 걍 입만열면 모든말이 거짓말임\n"
     ]
    },
    {
     "name": "stderr",
     "output_type": "stream",
     "text": [
      " 49%|████▉     | 24/49 [02:52<04:19, 10.38s/it]\u001b[A\n"
     ]
    },
    {
     "name": "stdout",
     "output_type": "stream",
     "text": [
      "Content: \n",
      "이제 딱2달된 게코도마뱀을키우는사람입니다무게를확인해보니 1.9 정도가나오는데보통 2개월차엔 3그람정도는 나와야한다하더라구요현재 슈퍼푸드만 주고있고 일주일에 2번정도 영양제섞어주는데귀뚜라미나 밀웜같은걸 먹여줘야할까요??\n",
      "\n",
      "Comment: 레게임? 크레면 잘 모르겜ㅅ고 레게면 제발 슈푸만 먹어서 키우지마… 그거 난 개인적으로 무책임한거같다고 생각해 성장속도도 훨씬 느릴거임 지금 1달반? 2달 쯤 된 갤럭시 10g임 2개월차에1.9g 이라는건.. 레게고 크레고 어떤 게코던 초소형 게코 아닌이상 엄청 말라 비틀어진거같은데? 해칭할 때 보다 더 마른거같애 - dc App\n"
     ]
    },
    {
     "name": "stderr",
     "output_type": "stream",
     "text": [
      " 51%|█████     | 25/49 [02:54<03:11,  8.00s/it]\u001b[A"
     ]
    },
    {
     "name": "stdout",
     "output_type": "stream",
     "text": [
      "Content: \n",
      "1 이미지 순서 ON2 이미지 순서 ON풀어놓으면 구석으로만 다니던 뱀에서 사람 앞이나 발 밑을 쏘다니는 뱀으로 발전을 이룩 3 이미지 순서 ON어디서 시선 느껴지면 이러고 있음ㅋㅋ 4 이미지 순서 ON숨었서요 5 이미지 순서 ON사람 없는 공원에 산책 나갔던 날 6 이미지 순서 ON지 집 안방인냥 널부렁 7 이미지 순서 ON지 집 안방 이게 뱀이야 민달팽이야 8 이미지 순서 ON입술은 흉터때문인지 아닌지 (다른 뱀 안키워봐서 모름) 항상 촉촉함. 강아지 코랑 비슷한 느낌 9 이미지 순서 ON많이 돌아다닌 날에는 피곤한지 불편한 자세로도 잘 잠 10 이미지 순서 ON11 이미지 순서 ON픽시랑 레게도 잘 지낸다 저 뱃살 구겨지는거보셈  - dc official App\n",
      "\n",
      "Comment: 뱀이 아니라 뭔 댕댕이노 ㅋㅋㅋ 너무귀엽다 - dc App\n",
      "Content: \n",
      "모프마켓에 이쁜 테구들 많던데 수입대행 해주는 곳 있음?\n",
      "\n"
     ]
    },
    {
     "name": "stderr",
     "output_type": "stream",
     "text": [
      "\n"
     ]
    },
    {
     "name": "stdout",
     "output_type": "stream",
     "text": [
      "Content: \n",
      "다이어트중 \n",
      "\n",
      "Comment: 좀 버려라\n",
      "Comment: 진짜 못생겼다\n"
     ]
    },
    {
     "name": "stderr",
     "output_type": "stream",
     "text": [
      " 57%|█████▋    | 28/49 [03:02<01:30,  4.31s/it]\u001b[A\n"
     ]
    },
    {
     "name": "stdout",
     "output_type": "stream",
     "text": [
      "Content: \n",
      "통통하니 보기좋다 \n",
      "\n",
      "Comment: 부럽노\n"
     ]
    },
    {
     "name": "stderr",
     "output_type": "stream",
     "text": [
      " 59%|█████▉    | 29/49 [03:04<01:14,  3.70s/it]\u001b[A"
     ]
    },
    {
     "name": "stdout",
     "output_type": "stream",
     "text": [
      "Content: \n",
      "군대갔을때 위탁 맡겨야할것 같은데 좀 믿음직스러운 사람 없나? 호텔링 비용은 상관 없고 지역도 솔직히 상관 없음 - dc official App\n",
      "\n",
      "Comment: 산에 유기하고 전역하고 다시 채집ㄱ - dc App\n",
      "Comment: 샵에다가 말해봐\n",
      "Comment: 갱 저렴하게팔자\n",
      "Comment: 종 뭔데  - dc App\n",
      "Comment: 군대갓다올정도면 업체 안남을듯 그전에 파충류 사육금지됨  - dc App\n",
      "Comment: 그건 장기간이 아니고 분양이란다  - dc App\n",
      "Comment: 그건 군대가게 될 운명임을 알았을때 생각해 뒀어야지\n"
     ]
    },
    {
     "name": "stderr",
     "output_type": "stream",
     "text": []
    },
    {
     "name": "stdout",
     "output_type": "stream",
     "text": [
      "Content: \n",
      "너혼자쓰기엔한없이 넓구나 \n",
      "\n",
      "Comment: 액키는 얼마나 합사 가능함..? 숫끼린 안되는거같던데\n",
      "Comment: 합사는 무조건 싸웠을때 여분의 사육장을 구비하고 키워라암수라고 안싸우는거 아니다\n",
      "Content: \n",
      "우리 할머니 정원 가꾸기 마스터인데할머니도 작가 해주냐언제부턴가 작가 작품 ㅅㅂ 농부도 작가 시켜줘라 그럼 \n",
      "\n",
      "Comment: 너도 사람이라고 해주는데그럴수도 있지\n",
      "Comment: 요즘 비바리움이 애들 소꿉놀이처럼 돼서 그렇지 진짜 제대로 된 비바리움은 작품 맞음식물 생태랑 구도를 모두 신경써서 생태 사이클 잘 구축된 비바리움은 웅장하기까지 함\n",
      "Comment: 할머님도 작가이시긴 함ㅇㅇ 상업성 정도의 차이일 뿐. 반 고흐도 생전엔 듣보 작가였음\n",
      "Comment: ???:작가님\n",
      "Comment: 할머니 작가 맞으시네\n",
      "Comment: 종이에 점찍는것도 작품이라고 해주는데 비바리움정도 노동력이면 작품 맞지 ㅇㅇ\n",
      "Comment: 할머니가 가꾼 정원이면 작품 맞지\n",
      "Comment: 정원이면 작가 맞지  - dc App\n",
      "Comment: 정원사는..  - dc App\n",
      "Comment: 제대로 만든거 보고와라\n",
      "Comment: 개조선은 3면백스에 우레탄폼 슝슝 이끼 본드로 붙혀놓고 비바라하지 ㅋㅋ\n"
     ]
    },
    {
     "name": "stderr",
     "output_type": "stream",
     "text": [
      "\n"
     ]
    },
    {
     "name": "stdout",
     "output_type": "stream",
     "text": [
      "Content: \n",
      "이거 왜 새까마냐 충청도인디\n",
      "\n",
      "Comment: 몸 생긴거만 보면 청개굴같은데\n",
      "Comment: 의태한 청개구리\n"
     ]
    },
    {
     "name": "stderr",
     "output_type": "stream",
     "text": [
      " 67%|██████▋   | 33/49 [03:14<00:44,  2.75s/it]\u001b[A\n"
     ]
    },
    {
     "name": "stdout",
     "output_type": "stream",
     "text": [
      "Content: \n",
      "직전에 찍었음\n",
      "\n",
      "Comment: 너도 거인이 와서 니 엉덩이 만지면 도망갈거잖아\n",
      "Comment: 참구리가 날래서 잡기어렵드라\n"
     ]
    },
    {
     "name": "stderr",
     "output_type": "stream",
     "text": [
      " 69%|██████▉   | 34/49 [03:16<00:39,  2.64s/it]\u001b[A"
     ]
    },
    {
     "name": "stdout",
     "output_type": "stream",
     "text": [
      "Content: \n",
      "1 이미지 순서 ON2 이미지 순서 ON3 이미지 순서 ON4번애 생각중인데 점없이 크겠지?? \n",
      "\n",
      "Comment: 타인이 아니라 본인 눈에 이쁜 애를 데려오는게 좋다고 생각함\n",
      "Comment: 저거 만다린 아닌데..?\n",
      "Comment: 만다린 아님 알비노 섞인 다른모프임\n",
      "Comment: 알비노임\n"
     ]
    },
    {
     "name": "stderr",
     "output_type": "stream",
     "text": []
    },
    {
     "name": "stdout",
     "output_type": "stream",
     "text": [
      "Content: \n",
      " 기준이 뭐임 베이비 일때 화이트많은거? 풀핀?? \n",
      "\n",
      "Comment: 취향따라 다름. 풀핀, 다크, 화이트 등등 성격이 다 다름\n"
     ]
    },
    {
     "name": "stderr",
     "output_type": "stream",
     "text": []
    },
    {
     "name": "stdout",
     "output_type": "stream",
     "text": [
      "Content: \n",
      "1 이미지 순서 ON2 이미지 순서 ON3 이미지 순서 ON같은 밥 나눠먹으면서 친해지는 그런 그림 원했는데 먹이반응을 밀웜이 아닌 상대 레게 주둥이에 보여서 실패 4 이미지 순서 ON한대 쏘이고 쭈구리 됨 \n",
      "\n",
      "Comment: 덩치차가 너무 나는데 따로 두는게 나을듯\n",
      "Comment: 둘이 너무 이쁘다 ㅠㅠㅠ - dc App\n",
      "Comment: 빻게 졸라크네\n",
      "Comment: 빻게 자식 이젠 분양안되나.. 자이언트 찾기 힘들다 - dc App\n"
     ]
    },
    {
     "name": "stderr",
     "output_type": "stream",
     "text": []
    },
    {
     "name": "stdout",
     "output_type": "stream",
     "text": [
      "Content: \n",
      "그렇게 변태에 실패한 다음에는 어떻게 됨? 그냥 그대로 원래 수명만큼 살다가 죽음? \n",
      "\n",
      "Comment: 익사하거나 사냥못해서 굶어죽음   - dc App\n",
      "Comment: 얼마 못살고 죽는다더라\n"
     ]
    },
    {
     "name": "stderr",
     "output_type": "stream",
     "text": []
    },
    {
     "name": "stdout",
     "output_type": "stream",
     "text": [
      "Content: \n",
      "처음 만들어본 비바리움인데 사이즈는 20x20x30으로 작음바닥에 양털이끼 심고, 벽면쪽에 참깃털이끼 심을건데 좀 뭔가 덜 풍성할 거 같음다른 식물으로는 제주애기모람, 야쿠시마 바위치 심을까 생각중인데 그래도 썰렁할거 같아서 조언 구함\n",
      "\n",
      "Comment: 스킨..? 이끼랑 같이 심으면 이쁠듯ㅇㅇ\n"
     ]
    },
    {
     "name": "stderr",
     "output_type": "stream",
     "text": [
      "\n"
     ]
    },
    {
     "name": "stdout",
     "output_type": "stream",
     "text": [
      "Content: \n",
      "성체 암컷 청개구리인데 며칠 전부터 가끔 발작?마비?처럼 다리를 쭉 펴고 다리를 떨어요 다리쪽 뱃살도 막 갑자기 발작처럼 들어갔다나왔다 하는데 멀쩡하다 갑자기 이런거라 뭔지 모르겠는데 이거 뭔가요ㅠㅠ \n",
      "\n",
      "Comment: 칼슘제 브랜드가 머임 유통기한 지낫는지 확인해보고한가지 먹이만 계속주거나 뇌진탕 있을때도 비슷한증상 보일수있음  - dc App\n"
     ]
    },
    {
     "name": "stderr",
     "output_type": "stream",
     "text": [
      " 82%|████████▏ | 40/49 [03:31<00:21,  2.39s/it]\u001b[A"
     ]
    },
    {
     "name": "stdout",
     "output_type": "stream",
     "text": [
      "Content: \n",
      "우리나라 불매운동은 기깔나게 잘하자나- dc official App\n",
      "\n",
      "Comment: 넌 어짜피 만원도없어서 슈푸도 못사잖아\n",
      "Comment: 그러면 폭락했다고 조롱하지 분양받을거 아니잖아 무분까지 존버하겠지 너네는\n",
      "Comment: 슈캅처럼 건강문제라도 발생하고 피들 분양 금지되면 폭락되기 쉽겠지ㅇㅇ 그런데 그럴일 없음ㅇㅇ\n",
      "Comment: 불매운동 ㅇㅈㄹㅋㅋㅋㅋㅋㅋㅋㅋㅋㅋ - dc App\n",
      "Comment: 불매해라 내가 다 사게 제발\n",
      "Comment: 초딩들ㅜㅜㅜ\n",
      "Comment: 진짜 ㅋㅋㅋㅋ 시발 수준  - dc App\n"
     ]
    },
    {
     "name": "stderr",
     "output_type": "stream",
     "text": [
      "\n"
     ]
    },
    {
     "name": "stdout",
     "output_type": "stream",
     "text": [
      "Content: \n",
      "네임드 똥꼬는 헐때까지 빨아되는새끼들일반사람들한텐 브리더란 완장달고 갑질 ㅈㄴ함- dc official App\n",
      "\n",
      "Comment: 꼬우면 뭐다?\n"
     ]
    },
    {
     "name": "stderr",
     "output_type": "stream",
     "text": [
      " 86%|████████▌ | 42/49 [03:36<00:17,  2.55s/it]\u001b[A\n"
     ]
    },
    {
     "name": "stdout",
     "output_type": "stream",
     "text": [
      "Content: \n",
      "피부병 같던데나만 플레이크 없는게 이쁜가;\n",
      "\n",
      "Comment: 개인 취향인거지\n",
      "Comment: 이쁘게 난애가 있고 징그럽게 난애가 있는거같음흰 점도 점 나름인듯\n",
      "Comment: 나만 이런 생각 하는게 아니었네나도 피부병 같아서 플레이크 없는게 낫더라\n"
     ]
    },
    {
     "name": "stderr",
     "output_type": "stream",
     "text": [
      " 88%|████████▊ | 43/49 [03:38<00:15,  2.51s/it]\u001b[A"
     ]
    },
    {
     "name": "stdout",
     "output_type": "stream",
     "text": [
      "Content: \n",
      "대체 얼마나 근친을 시킨거노  - dc official App\n",
      "\n",
      "Comment: 뭐냐 이거 ㅅㅂ 파충류도 동충화초 될 수 있었냐\n",
      "Comment: 아무리봐도 있어보이지 ㅋㅋㅋ\n"
     ]
    },
    {
     "name": "stderr",
     "output_type": "stream",
     "text": []
    },
    {
     "name": "stdout",
     "output_type": "stream",
     "text": [
      "Content: \n",
      "자폐아 정박아 정병들 인간대우 해주면 안된다고봄상상못할 진상천지임 ㅇㅇ\n",
      "\n",
      "Comment: 너 같은 ㅂㅅ 새끼들?  - dc App\n"
     ]
    },
    {
     "name": "stderr",
     "output_type": "stream",
     "text": []
    },
    {
     "name": "stdout",
     "output_type": "stream",
     "text": [
      "Content: \n",
      "1 이미지 순서 ON2 이미지 순서 ON3 이미지 순서 ON4 이미지 순서 ON방구석에서 이새끼들 똥싸는거 직관함ㅋㅋ \n",
      "\n",
      "Comment: 저게 좋아...?\n",
      "Comment: 가위로 싹둑 해보고싶노\n"
     ]
    },
    {
     "name": "stderr",
     "output_type": "stream",
     "text": [
      "\n",
      " 96%|█████████▌| 47/49 [03:49<00:05,  2.62s/it]"
     ]
    },
    {
     "name": "stdout",
     "output_type": "stream",
     "text": [
      "Content: \n",
      "1 이미지 순서 ON첨에 한거술통 + 코코피트 + 인공풀때기2 이미지 순서 ON공지보고 바꾼거사육통 + 치킨타올 + 롯데마트식물 제 청개굴개도 좋은지 뛰어다닙니다3 이미지 순서 ON개귀엽ㅋㅋ4 이미지 순서 ON기존 술통은 오늘 성충으로 진화한사마귀 줬읍니다5 이미지 순서 ON6 이미지 순서 ON굿\n",
      "\n",
      "Comment: 사마구 멋있네\n",
      "Comment: 먹이는 작은흔적날개초파리 줘러 안나는 초파리임\n",
      "Comment: 잘해놨네ㅋㅋ\n"
     ]
    },
    {
     "name": "stderr",
     "output_type": "stream",
     "text": [
      "\u001b[A"
     ]
    },
    {
     "name": "stdout",
     "output_type": "stream",
     "text": [
      "Content: \n",
      "릴리들 나중에 오줌색 나오는애들 ㅈㄴ 많던데베이비때 보통 어떤 너낌이어야지 오줌색 아닌 흰~크림색 나오냐걍 랜덤임?\n",
      "\n",
      "Comment: 니껀 오줌색확정\n",
      "Comment: 부모닮기가 쉬움ㅇㅇ\n",
      "Comment: 저런걸로 퓨화바라는건 도둑놈심보 - dc App\n"
     ]
    },
    {
     "name": "stderr",
     "output_type": "stream",
     "text": [
      "\n"
     ]
    },
    {
     "name": "stdout",
     "output_type": "stream",
     "text": [
      "Content: \n",
      "물, 너무 자주 갈아주는것도 ,안좋은거 아니냐 ?\n",
      "\n",
      "Comment: 정수로 자주 갈아줘라\n"
     ]
    },
    {
     "name": "stderr",
     "output_type": "stream",
     "text": [
      "100%|██████████| 49/49 [07:27<00:00,  9.13s/it]\u001b[A\n",
      " 79%|███████▉  | 23/29 [50:58<23:21, 233.53s/it]"
     ]
    },
    {
     "name": "stdout",
     "output_type": "stream",
     "text": [
      "Content: \n",
      "난 일단 4장 예매함 친구들이랑 가보게 ㅋㅋ 가는 갤럼 있냐?  - dc official App\n",
      "\n",
      "Comment: ?\n",
      "Comment: 성심당 세일하냐?\n",
      "Comment: 뭔 행사 ㅂㅅ아  - dc App\n",
      "Comment: 나 간다 ㅋㅋㅋ\n",
      "Comment: 바로 옆인데 입장료땜에 고민중\n",
      "Comment: 가는데 현피 뜨던가\n",
      "Comment: 인성터진새ㅡ끼야\n"
     ]
    },
    {
     "name": "stderr",
     "output_type": "stream",
     "text": []
    },
    {
     "name": "stdout",
     "output_type": "stream",
     "text": [
      "Content: \n",
      "너네 능력자임 ㄹㅇ찻집만 가봐도 7.8에도 안팔리는거 천지 인데그정도만 팔아도 너네 능력자임 진짜\n",
      "\n",
      "Comment: 그건 존나 못생기니깐 안팔리지 ㅋㅋㅋ - dc App\n",
      "Comment: 200에 팔았는데 이번주에\n",
      "Comment: 퀄따라 가격이 10배도 넘게 차이나는데 이런 소리가 의미가 있냐?\n",
      "Comment: 존나 무의미 너말고 1타들은 몇백씩 그거도 경매로 잘팔아먹던디\n",
      "Comment: 어제 트익암 120짜리 150짜리 나감 오늘 40짜리 나감  - dc App\n",
      "Comment: 진짜 없어보인다ㅋㅋ 사회부적응자 냄새남\n",
      "Comment: 시장 아줌마랑 분당 쌔끈한 미시랑  같은값에 팔리겠냐?\n"
     ]
    },
    {
     "name": "stderr",
     "output_type": "stream",
     "text": []
    },
    {
     "name": "stdout",
     "output_type": "stream",
     "text": [
      "Content: \n",
      "1 이미지 순서 ON이게 헤츨직후 2 이미지 순서 ON3 이미지 순서 ON4 이미지 순서 ON이게 지금 찍은거 딱 봐도 밴드 점점없어지지?  - dc official App\n",
      "\n",
      "Comment: 졸귀넹\n",
      "Comment: ㅋㅋㅋㅋ귀엽노\n",
      "Comment: 얼마에대려옴??\n",
      "Comment: 텐저린 헷 트램퍼  - dc App\n",
      "Comment: 아니근데 얘 분양안한다매\n",
      "Content: \n",
      "지금 볼파용 렉사 한칸 남아서 한마리 데려오려는데 레게, 킹, 볼파 선택장애와서 실물보고 데려가려는데 갈만한곳들 있음??\n",
      "\n",
      "Comment: 페부러스 수원점\n",
      "Comment: 렙타쿠아 - dc App\n"
     ]
    },
    {
     "name": "stderr",
     "output_type": "stream",
     "text": [
      "\n"
     ]
    },
    {
     "name": "stdout",
     "output_type": "stream",
     "text": [
      "Content: \n",
      "문의하고 끝마무리를 안짓는 사람들 너무 많아\n",
      "\n",
      "Comment: 나도 느낌 하응~\n",
      "Comment: 똥싸고 안닦는 새끼들임\n",
      "Comment: 그럼 거기다가 니 개체 ㅈ ㅂㅅ이라서 안 살게요~ ㅅㄱ 하냐 ㅂㅅ아?  - dc App\n",
      "Comment: 그런거 자꾸 의식하면 너만 힘듬개체랑 가격에 자신 있으면 걍 그런애들 차단하고 문의 오는 사람들 답장 잘하고 간보는 애들은 다른 사람도 고민중이라고 빨리 결정 안하면 못 데려갈 수도 있다고 하는게 베스트  - dc App\n",
      "Comment: 챗치귀 귀찮은데 입금한는놈한테 팔어 ㅂㅅ아\n"
     ]
    },
    {
     "name": "stderr",
     "output_type": "stream",
     "text": [
      " 10%|█         | 5/49 [00:12<01:55,  2.63s/it]\u001b[A"
     ]
    },
    {
     "name": "stdout",
     "output_type": "stream",
     "text": [
      "Content: \n",
      "레게가 진짜 모프보는 재미가있구나 \n",
      "\n",
      "Comment: 눈 못떠서 불쌍함\n"
     ]
    },
    {
     "name": "stderr",
     "output_type": "stream",
     "text": [
      "\n"
     ]
    },
    {
     "name": "stdout",
     "output_type": "stream",
     "text": [
      "Content: \n",
      "편하게 집에서 넷플 보면서 사냥만 하면 돼서 한달 하루종일 해서 200정도넘게  벌었는데 이제 대리재횓 막히니까 ㅈ같다 진짜 뭐해먹고 살아야 하냐... 대리재획 하다가 쿠팡 하러니까 진짜 인생 현타 ㅈㄴ어는데 김창섭 ㅈ같은 놈 ㅅㅂ... \n",
      "\n",
      "Comment: 여긴 파양갤이야  - dc App\n",
      "Comment: 쌀숭이 어서오고\n"
     ]
    },
    {
     "name": "stderr",
     "output_type": "stream",
     "text": [
      " 14%|█▍        | 7/49 [00:18<01:54,  2.72s/it]\u001b[A"
     ]
    },
    {
     "name": "stdout",
     "output_type": "stream",
     "text": [
      "Content: \n",
      "내일 본가가려고 했는데 이럼 택배 받고가야하나 메추리랑 쥐 시켜서 못받으먄 멸망인데 \n",
      "\n",
      "Comment: 일 존나 잘함 정글펫\n",
      "Comment: 운송장 등록만 미리 해놓은거 아님??\n",
      "Content: \n",
      " 2024.08.03~04 SETEC 제3전시관  제9회 코리아렙타일쇼  말복에는 용봉탕과 뱀술  <거북> 1 이미지 순서 ON 샛노랑 골든그리스 2 이미지 순서 ON 검은반점이 적은 상아색 그리스육지거북 3 이미지 순서 ON 헤르만육지거북 4 이미지 순서 ON 응애 설가타 5 이미지 순서 ON 최근 수입들어온 알다브라육지거북 베이비 6 이미지 순서 ON 지난 일산퍙샵일주에서 못봐서 아쉬웠는데 이렇게 보게되었다 7 이미지 순서 ON 밥잘먹는지 묵직하더라  한마리밖에 없긴했지만 8 이미지 순서 ON 이렇게 알다힐링하고갑니다  드워프알다 개량이 빠를까 경제적자유를 얻고 마당딸린 전원주택 자가마련하는게 빠를까 대결이다 9 이미지 순서 ON 버마별거북 10 이미지 순서 ON 물개북이 테라핀 11 이미지 순서 ON 화이트립머드터틀 12 이미지 순서 ON 응애 반수생/습지 거북이 13 이미지 순서 ON 아프리칸사이드넥터틀 14 이미지 순서 ON 나누스머드터틀 15 이미지 순서 ON 멕시칸머드터틀 진흙타코 16 이미지 순서 ON 수컷빅헤드스내퍼 피규어  이거 탐나더라  알다브라 준성체급 오픈합사장을 즉각 배치하라  .  .  <뱀> 17 이미지 순서 ON 초롱초롱한 눈망울 18 이미지 순서 ON 매끄러운 똬리 19 이미지 순서 ON 베어드 렛스네이크  잿빛 노랑 붉은색의 조화 20 이미지 순서 ON 초록코뿔뱀 21 이미지 순서 ON 라이노 렛스네이크 22 이미지 순서 ON 아마도 뷰티렛 종류 23 이미지 순서 ON 베트남 블루 뷰티 렛스네이크 24 이미지 순서 ON 블뷰왔노 성체모습이 한미모하더라 25 이미지 순서 ON 아잔틱 만다린 렛스네이크  밀크스네이크처럼 생김 26 이미지 순서 ON 노던 파인 스네이크 27 이미지 순서 ON 호그노우즈 28 이미지 순서 ON 돼지코뱀 29 이미지 순서 ON 블런트헤드 슬러그이터  하양 연두 붉은색 섞인게 차화같은 발색 30 이미지 순서 ON 에그이터 알먹는뱀  위협적이지도 않고 먹이수급도 걱정없어서 끌리지만 너무 수수한걸 31 이미지 순서 ON 러프스케일 샌드보아  거친비늘모래뱀이 지나간 흔적이 모래위에 파동처럼 남는게 멋짐 32 이미지 순서 ON아마도 아마존트리보아 아니라 카펫파이톤 베이베 33 이미지 순서 ON 파일스네이크 34 이미지 순서 ON 울트라그라닛 모프 불?스네이크 35 이미지 순서 ON 판다파이드보다 건강걱정없는 슈마파이드 36 이미지 순서 ON 슈마 =슈퍼마호가니 라는 뜻 37 이미지 순서 ON 고콤보 연노랑 볼파이톤 38 이미지 순서 ON 바나나 블랙파스텔 버터  맛있어보이는 모프명 39 이미지 순서 ON Bp블랙파스텔? 컨퓨전 파스텔 스팟노즈 het.클라운  패턴 이쁘더라 이미팔려서 전시용인듯 40 이미지 순서 ON 위에서 스팟노즈 빠지고 클라운 발현됨 옐로우밸리가 섞였을수도  탈모 대가리 보고 경악 °0° 하는 패턴 41 이미지 순서 ON 루쏘 스페셜 42 이미지 순서 ON 정글 카펫파이톤 43 이미지 순서 ON 정글 재규어  독일에서 개량된 이쁜카펫들 카라멜이 섞이면 오히려 색이 칙칙해지더라 44 이미지 순서 ON 슬라웨시레틱 그물무늬왕비단뱀 45 이미지 순서 ON 정글 롱기카우다 보아 46 이미지 순서 ON 하이포 레비린스 47 이미지 순서 ON 하얀바탕 연노랑무늬 48 이미지 순서 ON 야콥슨기관이 뻐키퍼키 49 이미지 순서 ON 영롱하다 50 이미지 순서 ON 다양한 종 사이즈 색깔의 별별 뱀들 많았다  의외로 항상 보이던 gtp는 안보였는데 내가 놓친듯  .  .  .  한줄평)  거북이 보려면 거북전문샵으로  스네이크데이는 렙쇼의 부분집합 \n",
      "\n",
      "Comment: ㄱㅅㄱㅅ 알다브라 키우고싶다ㅠ\n",
      "Comment: 32 카펫 파이톤 아님…?\n",
      "Comment: 난 태라핀 등껍질 발톱무좀같아서 존나별로던데 병걸린것마냥 색도 존나 드러움\n",
      "Comment: 16번 피규어 ㅈㄴ 깜짝 놀랐네  - dc App\n",
      "Comment: 이번엔 확실히 거북이도 좀 보이는것 같아서 좋은데 그래도 비중이 적다ㅜ\n",
      "Comment: 잘봄 ㄱㅅ\n"
     ]
    },
    {
     "name": "stderr",
     "output_type": "stream",
     "text": [
      "\n"
     ]
    },
    {
     "name": "stdout",
     "output_type": "stream",
     "text": [
      "Content: \n",
      "1 이미지 순서 ON2 이미지 순서 ON이런 몸이나 머리에 점없이 깔끔한애 대려오고싶은데 3 이미지 순서 ON이렇게 몸 머리에 점없이 밴드만 있는 베이비가 크면 위처럼 점없이 자란다 맞음?? \n",
      "\n",
      "Comment: ㅇㅇ맞음근데 저 베이비 최근에 해칭해서 키우고있는 우리애 닮았네ㄷㄷ  - dc App\n"
     ]
    },
    {
     "name": "stderr",
     "output_type": "stream",
     "text": [
      " 20%|██        | 10/49 [00:26<01:46,  2.73s/it]\u001b[A"
     ]
    },
    {
     "name": "stdout",
     "output_type": "stream",
     "text": [
      "Content: \n",
      "사진찍으려니 도망가서 못찍음 머리쪽은 주황색에 몸 아래는 초록색이었음 굵은 몸은 아니었고 좀 얇은편 어떤뱀인지 알수있음?  - dc official App\n",
      "\n",
      "Comment: 무늬는 따로 없었음  - dc App\n",
      "Comment: 유혈목이였다에 내 발톱때 건다\n",
      "Comment: 국내 녹색있는 뱀 유혈목이밖에 없어\n",
      "Comment: 검색해보니 좀 다르긴한데무늬없고 찐한 녹색이랑 찐한 주황에 매끈했음  - dc App\n",
      "Comment: 타이거킬백\n",
      "Comment: 움직이거나 역광으로 무늬를 못봤거나 변이로 무늬가 없는 개체일수도\n"
     ]
    },
    {
     "name": "stderr",
     "output_type": "stream",
     "text": []
    },
    {
     "name": "stdout",
     "output_type": "stream",
     "text": [
      "Content: \n",
      "업자들 돈으로 수익남냐?업체들 명단 마니바뀌던데\n",
      "\n",
      "Comment: ㅇㅇ\n",
      "Comment: 행사는 많고. 호구도 많다\n"
     ]
    },
    {
     "name": "stderr",
     "output_type": "stream",
     "text": []
    },
    {
     "name": "stdout",
     "output_type": "stream",
     "text": [
      "Content: \n",
      "못참고 자는거 강제로 들어서 확인했는데이 시팔 지금은 또 보라색으로 돌아왔는데 뭐냐 원래ㅇㅈㄹ 나는거냐어제 심란한 마음으로 잤는데 좀 얼탱이 없노\n",
      "\n",
      "Comment: 파업 논파 아님?\n"
     ]
    },
    {
     "name": "stderr",
     "output_type": "stream",
     "text": []
    },
    {
     "name": "stdout",
     "output_type": "stream",
     "text": [
      "Content: \n",
      "2024.08.03~04 SETEC 제3전시관 제9회 코리아렙타일쇼  매력적이지만 사육이 쉽지않은 모니터, 이구아나류, 테구 등등 <카멜레온> 1 이미지 순서 ON청아한 팬서카멜레온 2 이미지 순서 ON마가가스카 동북부 원산지 로컬에 따라 발색다양 3 이미지 순서 ON오렌지눈탱이 파슨 4 이미지 순서 ON세상에서 가장 덩치 큰 카멜레온 5 이미지 순서 ON6 이미지 순서 ON7 이미지 순서 ON비피더스 카멜레온 암컷은 평범하지만 8 이미지 순서 ON우솝 뭐해? 내려 이형적인 코뿔을 가진 비피더스 수컷 마다가스카 온난다습 중산지대 출신 9 이미지 순서 ON빨간맛 10 이미지 순서 ON줄무늬봐라 완전 공룡이잖아 11 이미지 순서 ON멀뚱멀뚱 12 이미지 순서 ON카멜레온이 몇마리있는지 맞춰보세요 13 이미지 순서 ON수태의태 14 이미지 순서 ONkrcb 베일드 베이비 독특하고 재밌는 카멜레온 볼수있어서 좋다 . . <이구아나> 15 이미지 순서 ON16 이미지 순서 ON멕시칸스파이니테일 이구아나 그... 바나나파이드 맞음? 아직 어린티를 못벗었네 17 이미지 순서 ON그린이구아나는 이정도 사이즈되면 발색 확 바뀌던데 스파니테일은 준성체 막바지까지 가야되는듯 아쉽게도 갈라파고스 라이노 등등 대형이구아나 없더라 그신경 매장에는 분명 그린이구아나 베이비 많았는데... . . <모니터> 18 이미지 순서 ON깐프 그린트리모니터 19 이미지 순서 ON블랙드래곤 멜라니스틱워터모니터 20 이미지 순서 ON흑진주 같다 21 이미지 순서 ON액키모니터 22 이미지 순서 ON두상은 스네이크헤드 23 이미지 순서 ON블랙헤드모니터 흑두 24 이미지 순서 ON프리모디우스 25 이미지 순서 ON26 이미지 순서 ON길쭉하고 두툼한 목 목줄하고 돌아다니는 성체급 워터모니터 없어서 시무룩 . . <중대형 리자드> 27 이미지 순서 ON카이만리자드 28 이미지 순서 ON우렁킬러 물테구 개체간발색차이가 좀있네 29 이미지 순서 ON필리핀 세일핀리자드 30 이미지 순서 ON패턴으로 세일핀 구분하는 글있었는데 관심있으면 검색해서보길 구글사진에는 쨍한 파란색이던데 빅베이비는 어째... 31 이미지 순서 ON호주목도리 목도리가 확연히 붉은빛이다 32 이미지 순서 ON날뛰지않고 나름 얌전한편 33 이미지 순서 ON호기심 왕성 34 이미지 순서 ON귀멸의 목도리 위개체와 사이즈 차이가 있긴하지만 패턴 발색이 다른게 인도네시아로 추정 목도리도 모프개량돼서 화려하면 인기많을텐데 . . <테구> 35 이미지 순서 ON너랑나 블랙앤화이트 아아 아르헨티나 36 이미지 순서 ON뀨 37 이미지 순서 ON블루테구 베이비였던걸로 기억 38 이미지 순서 ON인기만점 하얀블루테구 39 이미지 순서 ON쿨쿨 아마도 에너리레드테구 40 이미지 순서 ON흰부분이 많을수록 이뻐보이네 아이스테구였던가.. 41 이미지 순서 ON아주옅고 은은한 푸른빛이 감돌아서 블루라는 이름일까 42 이미지 순서 ON너무 얌전히 붙어있어서 피규어인줄 알비노블루테구 베이비 43 이미지 순서 ON지금껏봤던 레드테구는 건조하고 거칠던데 얘는 매끈부들촉촉했음 껴안고있으면 죽부인이 따로없겠다 44 이미지 순서 ON뽈살보니 우람한 수컷 레드테구 45 이미지 순서 ON티라노 닮은 두상 46 이미지 순서 ON다양한 모프테구 47 이미지 순서 ON에너리 블루 레드 알비노 등등 48 이미지 순서 ON뚠뚠한 테구 49 이미지 순서 ON배질질끌고다님 50 이미지 순서 ON블화테구 한쌍 아웃사이더햄이 들고온 묵직한 대두수컷 반려테구 씻길때 가만히있으면 너무좋을듯 큼직한 개체들 여러마리 데리고나와서 좋았음 모니터와는 다르게 사람들이 거부감없이 만지고 파충류계 강아지 포메라니안 포지션 . . . 한줄평) 렙쇼에 대형종은 많을수록 좋다 \n",
      "\n",
      "Comment: 블랙헤드 키우고싶은데 넘 비쌈 ㅠㅠ땅그지라 슬프당\n",
      "Comment: 테구 어디꺼임?\n",
      "Comment: ㄱㅅㄱㅅ 워터 멜라 간지..\n",
      "Comment: 대리만족추\n",
      "Comment: 좆\n",
      "Comment: 잘봄대형종은...\n"
     ]
    },
    {
     "name": "stderr",
     "output_type": "stream",
     "text": []
    },
    {
     "name": "stdout",
     "output_type": "stream",
     "text": [
      "Content: \n",
      "화트프 이클립스 멜라인가 화트프 모프인데 50만원이던데 살만함??잘 안풀리는건가\n",
      "\n",
      "Comment: 화트프하나가 뭐그리비싸 얼마나 이쁜진 몰라도 좀 아깝다그돈으로 왁시키우는게 더 만족감있고 재밌을듯왁시가 생각보다 엄청 강인한종임\n",
      "Comment: 몰라\n",
      "Comment: 개구리 한마리에 50주고 살 사람들은 극히 드물다100에 팔던걸 왜 반가격에 팔겠냐초반에는 ㅈㄴ사가고 이제는 살 사람은 끝난거라서 반토막인거임물량이 얼마나 되는지는 모르겟지만 비추다 - dc App\n",
      "Comment: 나도 비추 솔직히 그거 살빠엔 슈퍼플레이크 인가 그거 살듯ㅋㅋㅈㄴ 안예쁨\n",
      "Comment: 더 싸진다 사지마라.....\n"
     ]
    },
    {
     "name": "stderr",
     "output_type": "stream",
     "text": [
      "\n",
      " 33%|███▎      | 16/49 [00:44<01:30,  2.76s/it]"
     ]
    },
    {
     "name": "stdout",
     "output_type": "stream",
     "text": [
      "Content: \n",
      "이끼 자리잡을때까지 기달리라는데 너무 길다  - dc official App\n",
      "\n",
      "Comment: 심미안 좆박았냐\n",
      "Comment: 이끼 자리잡을 시간 냄새 독소빠질시간\n"
     ]
    },
    {
     "name": "stderr",
     "output_type": "stream",
     "text": [
      "\u001b[A"
     ]
    },
    {
     "name": "stdout",
     "output_type": "stream",
     "text": [
      "Content: \n",
      "언제쯤 올 거 같냐? \n",
      "\n",
      "Comment: 1년뒤\n"
     ]
    },
    {
     "name": "stderr",
     "output_type": "stream",
     "text": []
    },
    {
     "name": "stdout",
     "output_type": "stream",
     "text": [
      "Content: \n",
      "뭐하냐 버러지들아 생명을 돈벌이수단으로 ㅋ  - dc official App\n",
      "\n",
      "Comment: 함께 폭사하고 난 닭키워야지 ㅋㅋ어차피 공룡좋아해서\n",
      "Comment: 솔직히 파충류 싹다 못키우게하고 사육올금지 시켰으면좋겠다 개새끼고양이새끼 아니 사람이 뭔가를 키울수없게끔 했음좋겠는데\n"
     ]
    },
    {
     "name": "stderr",
     "output_type": "stream",
     "text": []
    },
    {
     "name": "stdout",
     "output_type": "stream",
     "text": [
      "Content: \n",
      "무한번식~안그래? 안그러냐고? ㅋㅋㅋ현생사니까 행복하다...그래도 광란의 시기에 돈벌고 나온거보면 재능러였다...지금은 아무리 꾼이어도 힘들어대가리만있어도 고퀄개체의 부모를 사서 그 애들이 다시 부모가 됬는데좆구리거든 ㅋㅋㅋㅋㅋㅋㅋㅋㅋㅋㅋ박람회 암컷 오픈런때가 좋았다~\n",
      "\n",
      "Comment: 낭만의 시대 ㅋㅋㅋㅋ너 그러면 지금은 다 손절함?\n"
     ]
    },
    {
     "name": "stderr",
     "output_type": "stream",
     "text": []
    },
    {
     "name": "stdout",
     "output_type": "stream",
     "text": [
      "Content: \n",
      "파충류 애들은 신분제도 처럼 자신이 가지고 있는 파충류 퀄리티로 신분을 나누더라 현생에서는 개찐따 혐오동물 키우는 병신으로 보는데 ㅋㅋㅋㅋㅋㅋㅋ    \n",
      "\n",
      "Comment: ㄹㅇㅋㅋ\n",
      "Comment: 너는 안그래?\n",
      "Comment: 씹선비 어서오고ㅎ\n",
      "Comment: 사람도 차은우랑 너랑 신분이달러...  - dc App\n",
      "Comment: ㄹㅇㅋㅋㅋ\n",
      "Comment: 사람도 신분이 있잖아 ㅋㅋ개나 고양이도 퀄리티에따라 신분이 달라지는데 새삼스럽긴\n",
      "Comment: 그래봤자 알공장 포주새끼들\n",
      "Comment: 한잔해 ㅋ\n",
      "Comment: 니 면상도 도매퀄인거 훤한데 개소리싸노 ㅋㅋ\n"
     ]
    },
    {
     "name": "stderr",
     "output_type": "stream",
     "text": []
    },
    {
     "name": "stdout",
     "output_type": "stream",
     "text": [
      "Content: \n",
      "릴리라는데 릴리는 베이비때 추측 힘든가? \n",
      "\n",
      "Comment: 등이 주황빛 진하게 나는애를 찾아봐\n"
     ]
    },
    {
     "name": "stderr",
     "output_type": "stream",
     "text": [
      "\n"
     ]
    },
    {
     "name": "stdout",
     "output_type": "stream",
     "text": [
      "Content: \n",
      "사러가게 \n",
      "\n",
      "Comment: 배가 불렀네  산다는데 비추눌렀노\n",
      "Comment: 모프마다 다름\n"
     ]
    },
    {
     "name": "stderr",
     "output_type": "stream",
     "text": [
      " 45%|████▍     | 22/49 [01:01<01:19,  2.95s/it]\u001b[A"
     ]
    },
    {
     "name": "stdout",
     "output_type": "stream",
     "text": [
      "Content: \n",
      "슈푸값은 나오냐..진짜 궁금하다인건비랑 슈푸값 안나올시기인데  아줌마들은 샵 계속열고뒤졋다진짜\n",
      "\n",
      "Comment: 그래서 슈푸값을 줄임ㅋㅋㅋ재료사서 직접 만들면 됨ㅎ\n"
     ]
    },
    {
     "name": "stderr",
     "output_type": "stream",
     "text": []
    },
    {
     "name": "stdout",
     "output_type": "stream",
     "text": [
      "Content: \n",
      "현생살면서 파충류 시장보면 동물원이 따로 없다 솔직히 업체들 보는게 파충류 구경하는것보다 더 재미있다 ㅋㅋㅋ \n",
      "\n",
      "Comment: ㄹㅇ쓰레기들끼리 뭉치고 싸우고 헐뜯고ㅈㄴ웃김ㅋㅋㅋㅋㅋ\n",
      "Comment: ㅋㅋㅋ원래 사회가 기본 아사리판인거임ㅎ\n",
      "Comment: 쓰레기 동물원 ㅋㅋ  - dc App\n",
      "Comment: 원래 퍙판이 병신들 성지임ㅋㄱㅋ\n"
     ]
    },
    {
     "name": "stderr",
     "output_type": "stream",
     "text": []
    },
    {
     "name": "stdout",
     "output_type": "stream",
     "text": [
      "Content: \n",
      "알공장이수요공급망쳣지근데 알공장 아닌사람이잇나광기의시대수컷한마리로 매일돌리는판인데\n",
      "\n",
      "Comment: 강한자 한두놈만 살아남는다\n",
      "Comment: ㄹㅇ\n",
      "Comment: ㅋㅋ환경청 투표하면 난 무조건 동의 ㅋㅋㅋ  - dc App\n"
     ]
    },
    {
     "name": "stderr",
     "output_type": "stream",
     "text": [
      "\n"
     ]
    },
    {
     "name": "stdout",
     "output_type": "stream",
     "text": [
      "Content: \n",
      "콜루나 비주류마뱀들 매물 씨가 말라서 좆같긴한데 예전같았음 20만원받아갈애들 개인브리더가 1-2만원에 팔아대니 거기서 예산아껴서 애들 집에 투자하기도 좋고\n",
      "\n"
     ]
    },
    {
     "name": "stderr",
     "output_type": "stream",
     "text": [
      " 53%|█████▎    | 26/49 [01:14<01:10,  3.05s/it]\u001b[A\n"
     ]
    },
    {
     "name": "stdout",
     "output_type": "stream",
     "text": [
      "Content: \n",
      "야생에서 1차나 2차 소비자 역할 맡은 애들 종 생존 전략이 많이 낳아서 많이 살아남기자이고 파충류는 악어라는 생태계 끝판왕이 이짓할정도로 저 전략에 ㅈㄴ 의존하는 생물임근데 인간 손에서 안전하게 부화에서 성체 까지 케어가 된다? 야생에선 뒤질 개체들이 살아남는다는거 당연히 수는 기하급수적으로 늘음즉 번식을 무리하게 강요하면 안 되고 수요 공급 맞게 번식을 해야 하는데 제테크충들은 일단 돈이 된다 하니까 낳고 보는거레게판 망한이유 충식이니 열원이니 다 필요 없다 저짓으로 무리한 개체 늘리다 망한거고 크레판도 슬슬 이 시기가 온거가격 유지 되려면 많은 입문자가 필요한게 아니라 수요와 공급을 맞출 시장이 필요한건데 제텤충들이 다 망친거60년대 나온 공유지의 비극이 딱 맞는게 지금 파충류판임가격 맞추고 샆으면 방법은 단 하나다 암컷 한마리가 일평생 한번 이상 번식 안하는거- dc official App\n",
      "\n",
      "Comment: 이건 번식력좋은 대부분의 동물사육판이 마찬가지다뭔 파충류만이겠노\n",
      "Comment: 아닌데??? 코로나시기 재테크 열풍이 더 큰 요인인데 예리한척 일침인척 오지네 ㅋㅋㅋㅋ 흐름좀 읽고 글 싸질러라 ㅋㅋㅋㅋ 아는척 오지네 ㅋㅋㅋㅋ\n",
      "Comment: 자본주의 시대는 수요가 공급을 만드는게 아님. 초과공급과 광고뽐뿌가 수요를 만들어내는거임. 특히 생필품도 아닌 귀중품, 사치품일수록 더욱 그렇지. 의식주 품목 공급초과로 가격경쟁해도 뭐랄거 없듯이, 명품 사치품 애완동물도 마찬가지임ㅇㅇ 흔퀄은 일상품이니 가격경쟁 가는거고, 고퀄은 계속 퀄리티 경쟁 갈거임\n",
      "Comment: 위에애들 레게때 못격어본 ㅈ뉴비로 조만간 냅두면알아서 크레 끌어안고 아파트 뛰어내릴듯 ㅇㅇ  - dc App\n",
      "Comment: 그러는 너는? 이판에 양심걸고 돈 1도 안보고 안팔면서 지가 다 키우는 놈이 저런말 하면 인정하는데 ㅋ 여긴 내로남불이 판치는 ㅂㅅ새끼들이 너무나 많아가 ㅋ 살때는 ㅈ같이 후려쳐서 사려하고 지들이 팔땐 개 ㅈ같이 불려파는 파렴치한 판이라 그냥 쓰레기 더미들이 널렸다보고 그런인간들판에서 뭘바라고 이런걸 시간아깝게 적고있은 너도 참. 불쌍노\n",
      "Comment: 먼 어린이집 댕기는 젖먹이도 아는 내용을  주저리 써놨노\n"
     ]
    },
    {
     "name": "stderr",
     "output_type": "stream",
     "text": [
      " 55%|█████▌    | 27/49 [01:17<01:07,  3.05s/it]\u001b[A"
     ]
    },
    {
     "name": "stdout",
     "output_type": "stream",
     "text": [
      "Content: \n",
      "체감상 3일에한번씩 박람회 열리는 기분임 ㅋㅋㅋㅋㅋ 플리마켓도 이정도로 안열리겠다 ㅋㅋ 파충류쇼가 약간 눈물의 똥꼬쇼 같은느낌인가 ?  그럼 ㅇㅈ\n",
      "\n",
      "Comment: 손가락만 빨수는 없자나 안팔리는거 렙쇼로 떨어내는거지\n",
      "Comment: 짜피 번식력 좋고 파판 계속 커지니 좋은거 아닌가 함ㅎ 여차하면 이후엔 지금 개고양이 수요 대체도 가능할수도\n",
      "Comment: ㄹㅇㅋㅋㅋㅋ\n",
      "Comment: 2일에 한번 ㅂㅅ아  - dc App\n"
     ]
    },
    {
     "name": "stderr",
     "output_type": "stream",
     "text": [
      "\n"
     ]
    },
    {
     "name": "stdout",
     "output_type": "stream",
     "text": [
      "Content: \n",
      "바보자식.. 밥은 잘먹더라 \n",
      "\n",
      "Comment: 마데카솔은 스테로이드제라, 후시딘 추천함ㅇㅇ 단 뭐가 나쁘냐 물어보면 설명 못함ㅋㅋ\n"
     ]
    },
    {
     "name": "stderr",
     "output_type": "stream",
     "text": [
      " 59%|█████▉    | 29/49 [01:23<00:59,  3.00s/it]\u001b[A"
     ]
    },
    {
     "name": "stdout",
     "output_type": "stream",
     "text": [
      "Content: \n",
      "1 이미지 순서 ON2 이미지 순서 ON3 이미지 순서 ON4 이미지 순서 ON21년 7월에 첫 크레 데려와서 벌써 3년이나 지났네 월요일에 데려오기로 한 피그미를 끝으로 쟤네 죽기 전까지 더 이상 동물은 늘리지 않을 생각임\n",
      "\n",
      "Comment: 모란앵무 키울만함? - dc App\n",
      "Comment: 두번째사진 예쁘게 잘나왔다\n",
      "Comment: 두 번째 애기 모프 머야?\n",
      "Content: \n",
      "주인 알아보는데밥 주려고 ,방에 들어가면, , 팔 흔들고 ,막, 사람에게 , , , 애교 부리던데 \n",
      "\n"
     ]
    },
    {
     "name": "stderr",
     "output_type": "stream",
     "text": []
    },
    {
     "name": "stdout",
     "output_type": "stream",
     "text": [
      "Content: \n",
      "사료, 주는대로 ,다 먹지 ?\n",
      "\n"
     ]
    },
    {
     "name": "stderr",
     "output_type": "stream",
     "text": []
    },
    {
     "name": "stdout",
     "output_type": "stream",
     "text": [
      "Content: \n",
      "친구가 준성체 준다고 키워보려는데생긴건 개복치거든잘 죽냐?\n",
      "\n",
      "Comment: 대강 분무해주고 먹이던져놓으면 잘살음 - dc App\n"
     ]
    },
    {
     "name": "stderr",
     "output_type": "stream",
     "text": []
    },
    {
     "name": "stdout",
     "output_type": "stream",
     "text": [
      "Content: \n",
      "1 이미지 순서 ON탈피 발 잘 못했길래 벗겨줄려고 꺼냈ㄴ데 저렇게 꼬리 끝부분 아주쪼금 빨갛더라고 왜저런거임???  혹시나해서 일단 마데카솔 발라줬는데  발라주교 집에 넣자마자 물그릇들어가서 꼬리까지넣고 난리치던데 다시 발라줘야하나?  2 이미지 순서 ON3 이미지 순서 ON4 이미지 순서 ON5 이미지 순서 ON추가사진 올림 며칠전에 대려올땐 꼬리끝 안빨갛다가 빨개짐ㅇㅇ 앞발 탈피가안되서 탈피부전인가 해서 물뭍힌 면봉으로 꼬리 살짝씩 쓸어봤는데 껍질같은건 안나옴 이유가뭘까 몸 다른곳은 육안상 괜찮아보이는데 어떰 일단 지금 매일 밥 급여하면서 살부터 찌우는중임 오늘은 탈피해서 밥 거부하긴했는데 매일주면 싹 비우더라 \n",
      "\n",
      "Comment: 게이야 근데 애가 왜케 말랐노 - dc App\n",
      "Comment: 괴사시작인가 싶기도하고.,.,. 다친거 같기도하고일단 밥잘멕이다 괴사맞는거 같으면 잘라주삼\n",
      "Comment: 일단 약바르고 냅두다가 심해지면 꼬짤시키면 된다\n",
      "Comment: 탈껍 남아서 괴사한거\n"
     ]
    },
    {
     "name": "stderr",
     "output_type": "stream",
     "text": []
    },
    {
     "name": "stdout",
     "output_type": "stream",
     "text": [
      "Content: \n",
      "아님 더 쌘걸로 바꿔야함? 어처피 2달간 저기서 동물 안키울건데 걍 uva,uvb 스팟 달아주는게 더 나을까?  - dc official App\n",
      "\n",
      "Comment: 오히려 너무쌔도 위에 이끼 뒤진다\n",
      "Content: \n",
      "2024.08.03~04 SETEC 제3전시관 제9회 코리아렙타일쇼  뉴칼레도니아 게코삼대장 <리키에너스> 1 이미지 순서 ONMela! 2 이미지 순서 ON울긋불긋 3 이미지 순서 ON길쭉해요 4 이미지 순서 ON리버만x모로 2년만에 50가까이 빠지는 매직 5 이미지 순서 ON진짜색깔 6 이미지 순서 ON찐색 7 이미지 순서 ONGT typeC 8 이미지 순서 ONF1 9 이미지 순서 ON쓰까색깔 10 이미지 순서 ON금수저리키 11 이미지 순서 ON늘씬한 포인디미에 12 이미지 순서 ON혼돈 파괴 망가 13 이미지 순서 ON물방울이 맺힐정도로 보드라운 질감 코기스(=고히스) 다크 x GTX 짬짜짬리키 14 이미지 순서 ON안녕색깔섞어 15 이미지 순서 ON댕청 16 이미지 순서 ON스트라이프라인gt 척추따라 이어진 등줄기 말하는거면 고로 믹스인듯? 17 이미지 순서 ON파이어다운이긴한데 유독 허여멀건했던 gt 18 이미지 순서 ON19 이미지 순서 ON곱다 20 이미지 순서 ON지티는 크면서 스팟이 없어진대 21 이미지 순서 ONGTX 22 이미지 순서 ON4살 모로 사이즈가 앵간한 지티만함 23 이미지 순서 ON다양한 색깔과 무늬, 로컬의 리키에너스가 있었음 . . <가고일게코> 24 이미지 순서 ON스켈레톤과 블로치드는 취향차이 25 이미지 순서 ON화이트베이스에 레드패턴 26 이미지 순서 ON울긋불긋 빨강 주황 노랑 하양 골고루 섞인게 난좋더라 백고일은 유행지났는지 따로안보이고 베이비는 스트라잎, 큰애들은 블로치드가 많았음 . . <크레스티드게코> 아직도 안질려? 아주그냥 실컷찍어봄 27 이미지 순서 ONC림C클L리 인줄 알았지만 C2시트러스릴리 28 이미지 순서 ON옐로우팬텀릴리 로 보이는데 RCK레드팬텀릴리 라네 핀이 레드?라 그런가 29 이미지 순서 ON스트로베리팬릴 이 아니라 C2 margin 팬릴 이라는데 margin 마진이 무슨형질임? 여백,미미한,수익.. 와닿는게없네 30 이미지 순서 ON옷벗는중인 레드릴리 31 이미지 순서 ON3차 화이트(형광)핀 / 2차 커피색 / 1차 블랙 등 스프라이프가 세가지 색으로 나뉜게 이쁘던 카푸치노 32 이미지 순서 ON엠티백에 몽글몽글 물거품무늬가 눈길을 끄는 게다가 풀핀에 크라운핀까지 33 이미지 순서 ONHWP??요건 뭐시여 카푸 텐져린 브린들 엠티백혈섞인대쉬드핀 달마시안점 온갖게 섞인듯한데 이번행사에는 달마캎 거의없더라... 상반기에는 재밌는애들 많이보였는데 아숩  34 이미지 순서 ON지저분하고 와일드한 마빡이 매력적인 프라푸치노 헷 아잔틱 35 이미지 순서 ON트라이익스트림릴리화이트 트익릴 라고할뻔 스노우플레이크릴리 도살스타일 이었다 슈퍼스트라이프 향이 나는 등짝 36 이미지 순서 ON간단심플 릴리 드리피x 머리까지화이트x 솔리드백x 퓨어화이트x 쿼드형 월 통상적인 퀄리티 기준에는 부합하지 않지만 오히려 깔끔하고 대비가 강한 스타일이라 매력적임 37 이미지 순서 ON무조건 화이트 많이 찼다고 고퀄이니하는것보다 자기눈에 이쁘고 자신만의 기준을 세우는게 맞다 38 이미지 순서 ON슈스나 엠티백 맛이 나는 프랖 39 이미지 순서 ON슈퍼스트라이프 가운데 선 진하고 양옆 화이트로 굵게 들어가야 이쁘더라 머리 누런부분이 화이트라면 좋을텐데 쩝  40 이미지 순서 ON서서히 카푸치노 따라가는 세이블 41 이미지 순서 ON문외한 일반인에게 세이블의 가치를 어떻게 설명해야할지 모르겠다면 6개월 뒤 다시와서 세이블 보여달라고 가격 물어보면 아실거라고 하면됨 42 이미지 순서 ON희끗희끗 연유뿌린 크레 43 이미지 순서 ON준성체 설악 슈퍼카푸치노릴리 저저 드리피 흘러내리는거보소 44 이미지 순서 ON띠용?? 싱기방기한 슈퍼카푸치노 발견 45 이미지 순서 ON파이드 형질로 발가락 까지고 지글지글한게 판게아?프레첼 느낌 46 이미지 순서 ON슈퍼카푸치노에 하이포가 섞였나? 신기한 크레 전시, 이게 SHOW지 캬 . . 번외) RCK부스 47 이미지 순서 ON차화 쫙 푸신다길래 줍줍하려했더니 이쁜애들은 첫날 오픈런에 쓸어간듯... 48 이미지 순서 ON10년이면 강산이 변하고 1년이면 크레는 뒷자리 0이 빠진다 프랖 이쁘던데.. 49 이미지 순서 ON보물찾기하려는데 비슷비슷한 애들밖에 없더라... 시무룩 이젠 KFC할아버지가 되신 sir.단... 다헹히 정정하시더라 . . . 50 이미지 순서 ON격세지감의 크레... 아직 새로운 발견이 계속되고 있는걸 보면 놀라울따름 전국민 1가정 1크레 할때까지 달려잇 한줄평) 리키는 가정적이고, 가골은 오솔길이며, 크레는 뺑뺑이다 \n",
      "\n",
      "Comment: ㄱㅅㄱㅅ\n",
      "Comment: 세이블가격에 대한 말은 시대를 관통하는 명언이네ㅋㅋㄱㄱ\n",
      "Comment: rck 저기 특이한 애들 많다 싶었는데 딱 그런애들 찍어왔네  - dc App\n",
      "Comment: 리키2번짤 얼마정도에팔고있었노? - dc App\n",
      "Comment: 이번에 쇼에서 슈캅도 분양함?\n",
      "Comment: 25 얼마?\n"
     ]
    },
    {
     "name": "stderr",
     "output_type": "stream",
     "text": []
    },
    {
     "name": "stdout",
     "output_type": "stream",
     "text": [
      "Content: \n",
      "집 앞에 렙타일 박람회 한다길래 가보려고 하는데 보통 가면 랜킨스 드래곤 이런 애들도 볼 수 있어? 키우고 싶었는데 개체가 없어서 못 키웠거든.. 가격은 막 50 넘고 그러진 않겠지?\n",
      "\n",
      "Comment: 보통샵보단 좀더쌈\n"
     ]
    },
    {
     "name": "stderr",
     "output_type": "stream",
     "text": []
    },
    {
     "name": "stdout",
     "output_type": "stream",
     "text": [
      "Content: \n",
      "이사이즈놈 절대안나오네  근데 먹이그릇보면 담아준 밀웜은 어느순간에 다 먹어치웠음  뭐지 \n",
      "\n",
      "Comment: 니가 안볼때만 나온거네  니가 문제임\n"
     ]
    },
    {
     "name": "stderr",
     "output_type": "stream",
     "text": []
    },
    {
     "name": "stdout",
     "output_type": "stream",
     "text": [
      "Content: \n",
      "ㅇㅇ? 그대로 가져감? \n",
      "\n",
      "Comment: 결국은 다 누렇게 변함 - dc App\n"
     ]
    },
    {
     "name": "stderr",
     "output_type": "stream",
     "text": []
    },
    {
     "name": "stdout",
     "output_type": "stream",
     "text": [
      "Content: \n",
      "좀 기괴하지 않나형질 미쳤다고 다들 칭찬만 하는데\n",
      "\n",
      "Comment: 어릴때 팝콘펜이라고 가열하면 저리되는거 생각나네  - dc App\n",
      "Comment: 기괴하긴한데 이 형질이 돈이 되거든돈이되면 원래 똥도 이뻐보이는거다\n",
      "Comment: 이건 싫어하는 사람들이 더 많음  - dc App\n",
      "Comment: 개드럽내  - dc App\n",
      "Comment: 저건 그냥 장애개체아니냐 모니터한입쏙~ - dc App\n",
      "Comment: 준다고 하면 바로받아가잖아 ㅋㅋㅋ\n",
      "Comment: 씨발 무슨 콜리플라워냐\n",
      "Comment: 온몸에 암걸린것 같네 ㄷㄷ\n",
      "Comment: 곰팡이같노 다썩은거같음\n",
      "Comment: 종양아님?\n",
      "Comment: 그들만의 리그\n",
      "Comment: 난 이쁨 ㅋㅋ\n",
      "Comment: 종양돈주고사기\n",
      "Comment: 우레탄 발라놨음?  - dc App\n"
     ]
    },
    {
     "name": "stderr",
     "output_type": "stream",
     "text": []
    },
    {
     "name": "stdout",
     "output_type": "stream",
     "text": [
      "Content: \n",
      "풀체리마 레드테일 엠페러 방사거북 블랙노비 꾸밍기 액키최근 하나라도 갑자기 분양하거나 분양한적있으면 밀수퍙 분양하는 밀수업자임ㅇㅇ무조건 거르고 톡방에도 거기 밀수업자라고 퍼트리면됨ㅇㅇ밀수확인되는퍙 확인되면또추가하겠음:)\n",
      "\n",
      "Comment: 액키가 밀수라고?\n",
      "Comment: 액키를 왜 밀수함ㅋㅋㄱ  - dc App\n",
      "Comment: 엠페러도 성체로 바꿔라 ㅂㅅ아ㅋㅋ짤도 좆찐따 같은거쓰노\n"
     ]
    },
    {
     "name": "stderr",
     "output_type": "stream",
     "text": [
      "\n"
     ]
    },
    {
     "name": "stdout",
     "output_type": "stream",
     "text": [
      "Content: \n",
      "1 이미지 순서 ON2 이미지 순서 ON3 이미지 순서 ON4 이미지 순서 ON5 이미지 순서 ON6 이미지 순서 ON7 이미지 순서 ON8 이미지 순서 ON후쿠오카 외곽에 있던 파충류 샵도마뱀 키워서 일본에는 뭐 파나 싶어 가봤는데 두비아로치와 사료 말고는 한국에서도 다 파는거라 약간 실망함9 이미지 순서 ON10 이미지 순서 ON막짤은 우리집 도마뱀이나 보고가라정면은 얼빵하게 생김\n",
      "\n",
      "Comment: 일본이 더 호더같이 키우네물론 샵이라 그럴수도있긴한데 샵도 호더스럽네\n"
     ]
    },
    {
     "name": "stderr",
     "output_type": "stream",
     "text": [
      " 86%|████████▌ | 42/49 [01:57<00:17,  2.49s/it]\u001b[A"
     ]
    },
    {
     "name": "stdout",
     "output_type": "stream",
     "text": [
      "Content: \n",
      "2마리 합사중임좀 치우기 편한 위치에 화장실 두려고 똥 싼것들 모아두고 있음한마리는 모아둔데 근처에서 변을 보기 시작했는데 한마리는 여전히 싸던데 쌈혹시 한마리가 화장실을 정해서 같은 자리 안싸는건가?아님 그냥 좀 더 시간이 필요한건가?화장실 교정 들어간지 10일쯤 됨\n",
      "\n",
      "Comment: 우리도 2마리 합사중인데 꼭 은신처 안에 싸는놈있는데 남은 한 마리도 이제 같이 은신처에 싸놓음..  - dc App\n",
      "Comment: ㅇㅇ 보통지들이 정해둔데에 각자 따로쌈\n"
     ]
    },
    {
     "name": "stderr",
     "output_type": "stream",
     "text": []
    },
    {
     "name": "stdout",
     "output_type": "stream",
     "text": [
      "Content: \n",
      "함 추천해줘라아크릴이냐 엑소테라냐 고민중인데- dc official App\n",
      "\n",
      "Comment: 스크린케이지 어때  - dc App\n"
     ]
    },
    {
     "name": "stderr",
     "output_type": "stream",
     "text": [
      "\n"
     ]
    },
    {
     "name": "stdout",
     "output_type": "stream",
     "text": [
      "Content: \n",
      "\n",
      "\n",
      "Comment: 인디고를 보여주떼욤  - dc App\n"
     ]
    },
    {
     "name": "stderr",
     "output_type": "stream",
     "text": [
      " 92%|█████████▏| 45/49 [02:08<00:11,  2.97s/it]\u001b[A"
     ]
    },
    {
     "name": "stdout",
     "output_type": "stream",
     "text": [
      "Content: \n",
      "1 이미지 순서 ON2 이미지 순서 ON3 이미지 순서 ON4 이미지 순서 ON어른되면 꼭 요나구니 키워야지  - dc official App\n",
      "\n",
      "Comment: 비만?\n",
      "Comment: 그게 킹스 아님?\n"
     ]
    },
    {
     "name": "stderr",
     "output_type": "stream",
     "text": []
    },
    {
     "name": "stdout",
     "output_type": "stream",
     "text": [
      "Content: \n",
      "리키 색 빠지기도하냐¿평소애 보라~연보라 들락날락 하던 쭉빵 암컷개체인데오늘보니 애가 갈색이네.....상태보니 파업60% 정도 되는듯한데 애가 갈색임......눈깔 씻고 다시봐도 보라는 하나도 안남고 갈색돌이 되버렸는대준성체 말기 정도되는 개체인데 색이 이렇게 갑자기 빠지냐진짜 물 뜨고 기도 ㅈㄴ 해야하나...\n",
      "\n",
      "Comment: 사기 ㅅㄱ\n",
      "Comment: ㅇ ㅇㅅ\n",
      "Comment: 완숙한 성체 될 때 색 변화가 있는 개체들이 많음\n",
      "Comment: ㅋㅋㅋㅋㅋㅋㅋㅋ 떡락잼\n",
      "Comment: 그냥 ㅈ퀄샀다 생각하고 맘편하게 있어 ㅋ 부모? 다의미 없고 니가 가진 그개체 현재 고유퀄이 중요한거고 역변이고 지랄정변이고 나발이고 다 ㅈ까는 소리 하지말라해라 부모팔이 징그럽네 아직도 ㅉㅉ 발전이 없는 쓰레기.\n",
      "Comment: 위에 잘ㅊ모르는거같은데 부모가 좋아야 후대 개체도 좋아질 확률이 높아. . 리핀이나 트루 개체가 똥퀄이어도 다른 국키 똥퀄이랑 은 가치가 다름. 리니지 좋은 개체는 똥퀄이어도 후대에 이쁜 개체가 나오기도 하니까. - dc App\n"
     ]
    },
    {
     "name": "stderr",
     "output_type": "stream",
     "text": []
    },
    {
     "name": "stdout",
     "output_type": "stream",
     "text": [
      "Content: \n",
      "색이 맘에드네 \n",
      "\n",
      "Comment: 와 저걸 대체 어케 살린거냐  - dc App\n",
      "Comment: 퍙ㅂㅅ이 감히 머피라고 추측해본다\n",
      "Comment: 바블\n",
      "Comment: 머피패턴 같음\n",
      "Comment: 아니 처음에 저건 어떻게 살아있는거냐\n",
      "Comment: 와 종잇장 같은 애를 용케도 살려놨네 출처 있음? 뭔 사정인지 구경 좀 하자\n",
      "Comment: 머팬임 내거가 저래 근데 저건 화탄데?\n"
     ]
    },
    {
     "name": "stderr",
     "output_type": "stream",
     "text": []
    },
    {
     "name": "stdout",
     "output_type": "stream",
     "text": [
      "Content: \n",
      "내가 처음 데려온 2마리는 모프 아무것도 모르고 그냥 유기된 애 데려왔는데 밥 주는대로 족족 다 받아먹고 편식도 안 함근데 이제 종이랑 모프 신경써서 데려온 애는 지금 거식이라 귀찮아 죽겠음 - dc official App\n",
      "\n",
      "Comment: ㅇㄱㄹㅇ밥 잘먹는애가 젤 이쁨그리기 안아픈 애도 이쁨\n",
      "Comment: 아무리 고퀄이라도 입 까다로우면 힘들더라. 1년키운 메인숫 분양 보내고 새로 데려왔는데 발색은 다운그레이드라도 밥잘먹어서 갠적으론 훨 좋음..ㅎ\n"
     ]
    },
    {
     "name": "stderr",
     "output_type": "stream",
     "text": [
      "100%|██████████| 49/49 [02:18<00:00,  2.83s/it]\n",
      " 83%|████████▎ | 24/29 [53:18<17:08, 205.64s/it]"
     ]
    },
    {
     "name": "stdout",
     "output_type": "stream",
     "text": [
      "Content: \n",
      "어떻게 노브라가 되었냐 내 자랑스러운 대통령중 1명인데\n",
      "\n"
     ]
    },
    {
     "name": "stderr",
     "output_type": "stream",
     "text": []
    },
    {
     "name": "stdout",
     "output_type": "stream",
     "text": [
      "Content: \n",
      "^^\n",
      "\n",
      "Comment: 이게뭔데그럼\n",
      "Comment: ㅅㅂ 또 혼자만 아는거 올리고 혼자 발기하노 같이 좀 알자..\n",
      "Comment: 집앞 찍어놓고 뭔일있는척 ㄷㄷ\n",
      "Comment: 화질도 뭔 로드뷰 캡쳐해온거마냥 그래서 이게 뭐\n"
     ]
    },
    {
     "name": "stderr",
     "output_type": "stream",
     "text": []
    },
    {
     "name": "stdout",
     "output_type": "stream",
     "text": [
      "Content: \n",
      "청개구리인데 2주째 밥을 안먹어요 어카죠 \n",
      "\n",
      "Comment: 풀어놓고 불끄고 냅둬봐쓤..?\n",
      "Comment: 그냥 산에다 풀어주자\n",
      "Comment: 밥을뭐주니?자기몸에 비해 너무 큰 먹이는 못먹는다이\n"
     ]
    },
    {
     "name": "stderr",
     "output_type": "stream",
     "text": []
    },
    {
     "name": "stdout",
     "output_type": "stream",
     "text": [
      "Content: \n",
      "토의 주제- 매물이 넘쳐나는 크레판 어떻게 정상화할 것인가?  1. 똥퀄 크레들--> 싹~~~다 대형 파충류 먹이용 영양만점 애기 간식화 추진( 영양있고 대형 파충류에 좋을 거라는 인식을 심어주기),  2. 문방구 크레 사육세트, 홈플러스 크레 사육방,  학교 앞 병아리로 타켓을 선정하여 똥퀄 크레를 팔기.  3. <크레로 얼마를 벌었다고?!!!!! 신기한 제태크 20대 사장님의 이야기> ,<ㅈ같은 ㅈ냥이 양산형 쇼츠> 유튜브로 --> 대중들에게 홍보  4. 크레의 고퀄 작업, 라인 브리딩으로 굳건한 고퀄 양성--> 에르메스, 디올 같은 명품 \"피규어\" 작업화 진행  5. 크레 알공장 '정상화'--> 언론화 이슈화 시켜서 알공장을 폐지 오직 1대1 메이팅 그룹만 되도록 바꿀 것.공급을 감소시킬 것  여러분들의 창의적인 의견 부탁드립니다.   - dc official App\n",
      "\n",
      "Comment: 먹이로 주는건 해칭하자마자 주는거지? 슈푸 값 아까우니까\n",
      "Comment: 먹이도 ㄱㅊ네 문방구는 요즘 없어져서 ㅠㅠㅠ\n",
      "Comment: 홈플러스에서 크레팜\n",
      "Comment: 크레 망한거맞냐?\n",
      "Comment: 생각보다 안망함\n",
      "Comment: 야야 그런다고 안바뀐다 ㄹㅇ ㅋㅋ\n",
      "Comment: 학교앞 크레팔이는 괜찮을듯 한마리 사육세트 만원으로\n",
      "Comment: 1번이 좋은듯\n",
      "Comment: 내가 무분 모아다가 뉴칼레도니아 환경청에 연락해서 현지에 방생할거임ㅇㅇ 그렇게 종 복원에 기여했다고 뉴칼레도니아 정부랑 세계자연기금(WWF)이랑 그린피스에서 표창장 받을거임ㅎ\n",
      "Content: \n",
      "1 이미지 순서 ON2 이미지 순서 ON원래 얘 줄려고 만들었는데 이새끼 병신같이 생겨서 멋이 안남 3 이미지 순서 ON걍 가고일이 더 간지나니깐 얘 넣을까?  - dc official App\n",
      "\n",
      "Comment: 가고일 크레 둘다 너무 습하면 안 좋고 다 비바리움 망가질듯 그리고 놀고 숨을 공간이 없음\n",
      "Comment: 일단 저 도일부터 빼라  솔직히 말하면 붙이류보단 뉴트나 다트프록 넣는게 나을거같긴함 굳이 넣는다면 크레정도 가고일은 뭔가 다 뜯을거같음\n",
      "Comment: 넣자마자 비바리움 다 파괴되겠노 ㅋㅋ\n",
      "Comment: 트리케라톱스 왤캐 웃기냐 ㅋㅋㅋㅋㅋㅋㅋㅋ - dc App\n"
     ]
    },
    {
     "name": "stderr",
     "output_type": "stream",
     "text": []
    },
    {
     "name": "stdout",
     "output_type": "stream",
     "text": [
      "Content: \n",
      "크레 적재형 소짜리는 렉사를 살 이유가 ㄹㅇ 없어그냥 쌓아놓고 환기구멍으로 물 쫙 뿌리면 뚜껑에 맺혀서 깨꿀이다뚜껑 하나하나 열면서 할 필요 없는데 대부분이 그러는것 같더라 내방법대로 하면 렉사랑 별차이가 안남ㄹㅇ 소짜리는 렉사 쓰질 마라 100마리 넘어가도 전혀 안힘듬ㄷㅇㄴ 만 봐도 렉사 안쓰는것 같더만 대형은 렉사 쓰는거 여유 있다면 강력 추천 하는데소짜리는 ㄹㅇ 필요 없다 가격이 너무 비싸 중고로 겁나 싸면 사는건 나쁘지 않은데. 제값 주고 사지는 마삼 백퍼 후회한다\n",
      "\n"
     ]
    },
    {
     "name": "stderr",
     "output_type": "stream",
     "text": [
      "\n"
     ]
    },
    {
     "name": "stdout",
     "output_type": "stream",
     "text": [
      "Content: \n",
      "내 먹이도 떨어지고 애들 먹이도 떨어져서 걍 집앞 식자재마트에서 생연어 사다가 나눠먹으려하는데나랑 호그만 먹으면 블킹이 서운해하자나요 블킹도 연어 먹슴까\n",
      "\n",
      "Comment: 일단 개구리는 안먹음 다양하게 먹어보라고 사서 줬더니 고개 쳐돌리더라 ㅅㅂ ㅋㅋㅋ 연어도 안 먹을듯 - dc App\n",
      "Comment: 뭔지 못알아보게 존나 흔들면 먹음다만 평소에 쥐 줄때도 이렇게 흔들어 줬어야함\n"
     ]
    },
    {
     "name": "stderr",
     "output_type": "stream",
     "text": [
      " 14%|█▍        | 7/49 [00:38<04:06,  5.87s/it]\u001b[A"
     ]
    },
    {
     "name": "stdout",
     "output_type": "stream",
     "text": [
      "Content: \n",
      "훨씬 귀엽고 저렴한 대채제가 존재함\n",
      "\n",
      "Comment: 시발  - dc App\n",
      "Comment: 혐짤 주의 써놔라 앞에  - dc App\n",
      "Comment: 동네연못에서 국산청개굴 잡으면 돈도 안든다\n",
      "Comment: ㅋㅋㅋ 댓글 병신들 퍙 이미지 개떡인 건 피차일반인데어떻게든 급 나누려고 하는 꼬라지봐ㅋㅋㅋ\n",
      "Content: \n",
      "진짜 팔릴만한 것들도 안팔리고 있네안타깝다 안타까워\n",
      "\n",
      "Comment: ㅍㄷ 쌓인물량 2만마리 될듯 찻집은 x3하면 될듯  - dc App\n",
      "Comment: 물량이 존느 넘치긴 하는듯.. ㅠㅠ\n"
     ]
    },
    {
     "name": "stderr",
     "output_type": "stream",
     "text": []
    },
    {
     "name": "stdout",
     "output_type": "stream",
     "text": [
      "Content: \n",
      "uvb,스팟,핫존쿨존 유지시키려고 24시간 내내 계속 틀어두면 1인 전기세 얼마나나와?  - dc official App\n",
      "\n",
      "Comment: 그렇게 전기세가 눈에 띄게 올랐다는 느낌은 안들던데\n",
      "Comment: 지난달 전기사용량에 스팟 UVB 사용량 더해서 계산기 돌리던지 해라제일 중요한 데이터가 없는데 그걸 누가 알겠냐\n",
      "Comment: 너가 어디 사는지랑 원룸 인지 아파트 인지가정내에 너 혼자 사는지 가족이랑 사는지원래 전기를 어느정도로 쓰는지 이것도 하나 안적어두고 저렇게만 질문 하는거 보면 백퍼 급식인데 그냥 그런 걱정을 할거면 키우지를 마라~만약에 성인인데 이런 질문을 하는 수준이면 도마뱀이랑 지능 수준 다른게 없어보이니 역시 키우지말고\n",
      "Comment: 다른 전기사용량과 합산돼서 기본료에 기후환경 연료비조정 전력기금 부가가치세 포함되는거라.. 비포함일 때 2500원~ 5천원 사이 나오는 듯\n"
     ]
    },
    {
     "name": "stderr",
     "output_type": "stream",
     "text": []
    },
    {
     "name": "stdout",
     "output_type": "stream",
     "text": [
      "Content: \n",
      "\"아이스 에이지\" 쓰면 되는 걸 왜 일일이 ㅈ같이 바퀴벌레랑 동급인 ㅈ같은 벌레를 키움? ㄹㅇ 모름 ㅇㅇ  - dc official App\n",
      "\n",
      "Comment: 그럴거면 처음부터 냉동귀뚜라미를 사면 되지 않음?\n",
      "Comment: 울집애는 빠르게안움직이면 쳐다도안본다 모니터라그런지\n"
     ]
    },
    {
     "name": "stderr",
     "output_type": "stream",
     "text": []
    },
    {
     "name": "stdout",
     "output_type": "stream",
     "text": [
      "Content: \n",
      "??\n",
      "\n",
      "Comment: 나 번식시킴ㅇㅇ\n",
      "Comment: 여름이라 잘 안함  - dc App\n",
      "Comment: ㅇㅇ  - dc App\n",
      "Comment: 여름철이라 3세대 번식중임. 적당히 넓은 통에 물먹이 챙겨주고 시체 솎아주면 동포도 안하고 잘안죽고 냄새도 안남. 체감상 야채만 줄때보다 물그릇을 주는게 폐사율 적은듯. 야채도 가끔 소량씩 사서 줌.\n"
     ]
    },
    {
     "name": "stderr",
     "output_type": "stream",
     "text": [
      "\n"
     ]
    },
    {
     "name": "stdout",
     "output_type": "stream",
     "text": [
      "Content: \n",
      "성체처럼 우는 건 아니고 아침에 계속 삐약삐약 울더라  - dc official App\n",
      "\n",
      "Comment: 수컷당첨\n",
      "Comment: 딱밤 존나 세게 치니까 안울던데\n",
      "Comment: 삐약삐약 ㅋㅋ 개귀엽네\n"
     ]
    },
    {
     "name": "stderr",
     "output_type": "stream",
     "text": [
      " 27%|██▋       | 13/49 [00:53<01:43,  2.87s/it]\u001b[A"
     ]
    },
    {
     "name": "stdout",
     "output_type": "stream",
     "text": [
      "Content: \n",
      "내가 벌레를 엄청 싫어하는데크레스티드 게코 5그램 조금 넘는 애가와서 시도해보고 싶었어 2그람 안넘는 애도주고싶어서 찾아보는데 귀뚜라미가 뛰면 어쩌지?싶어서 찾아보니 어딘지는 모르겠는데다리 뜯어서 파시는 곳이 있다 들었는데혹시 어딘지 아는 사람..?\n",
      "\n",
      "Comment: 냉동사\n",
      "Comment: 벌레주고 싶으면 차라리 밀웜줘\n"
     ]
    },
    {
     "name": "stderr",
     "output_type": "stream",
     "text": []
    },
    {
     "name": "stdout",
     "output_type": "stream",
     "text": [
      "Content: \n",
      "그사이 물 상하거나 그럴수도있나  - dc official App\n",
      "\n",
      "Comment: 환기 잘 되면 3박 4일 정도로 뱀이 탈날만큼 상하지는 않을듯\n",
      "Comment: 찝찝하면 물 통 빼놔요 일주일 물 안먹어도 큰 문제 없을듯\n"
     ]
    },
    {
     "name": "stderr",
     "output_type": "stream",
     "text": [
      "\n"
     ]
    },
    {
     "name": "stdout",
     "output_type": "stream",
     "text": [
      "Content: \n",
      " 공룡시대 컨셉 ㅁㅌㅊ?  처음만든거임  - dc official App\n",
      "\n",
      "Comment: 공룡빼고 비바용암석같은거넣고 다트ㄱㄱ - dc App\n",
      "Comment: 공룡 소형종으로 ㄱ\n",
      "Comment: 이정도면 비바한다는새키들 120에 팔듯  - dc App\n",
      "Comment: 고사리 좀 넣어야 할듯\n"
     ]
    },
    {
     "name": "stderr",
     "output_type": "stream",
     "text": [
      " 33%|███▎      | 16/49 [01:01<01:25,  2.59s/it]\u001b[A"
     ]
    },
    {
     "name": "stdout",
     "output_type": "stream",
     "text": [
      "Content: \n",
      "ㅇㅇ- dc official App\n",
      "\n",
      "Comment: 또이또이할걸 퀄리티따라다르겠지만 - dc App\n",
      "Comment: 샵에서 보통 5만원이면 구함 ㅇㅅㅇ아니면 개인분양이나 피들 가봐 만원부터 다양함\n"
     ]
    },
    {
     "name": "stderr",
     "output_type": "stream",
     "text": []
    },
    {
     "name": "stdout",
     "output_type": "stream",
     "text": [
      "Content: \n",
      "관상은 과학이다\n",
      "\n",
      "Comment: 잘생기셨네요 혹시 본인이신가요?\n",
      "Comment: 아 쟤가 그 피방 살인사건 그놈맞나  - dc App\n",
      "Content: \n",
      "어떠한거같음?\n",
      "\n",
      "Comment: 청소좀 해줘라 이 씨발 호더새꺄\n",
      "Comment: 물때 이지랄로 심한건 진짜 처음보네\n",
      "Comment: 걍 죽여라\n"
     ]
    },
    {
     "name": "stderr",
     "output_type": "stream",
     "text": [
      "\n"
     ]
    },
    {
     "name": "stdout",
     "output_type": "stream",
     "text": [
      "Content: \n",
      "1 이미지 순서 ON우선, 참여해준 고마운 리스트들 추첨은 공명정대하게 대기업에 맡김 2 이미지 순서 ON당첨자는 유일한 엠피비언 참가자 화트프와 그의 손 사진은 귀여워서 돚거해옴 미안 ㅊㅋㅊㅋㅊㅊㅋㅊㅋ 참여글에 댓글 남길테니 오늘안에 연락 없으면 재추첨함  - dc official App\n",
      "\n",
      "Comment: 개굴추\n",
      "Comment: 축하드립니다\n",
      "Comment: 몸건강하세요 담수님\n",
      "Comment: 오 나임\n",
      "Comment: ㄱㅅㄱㅅㄱㅅ\n"
     ]
    },
    {
     "name": "stderr",
     "output_type": "stream",
     "text": [
      " 41%|████      | 20/49 [01:11<01:09,  2.39s/it]\u001b[A"
     ]
    },
    {
     "name": "stdout",
     "output_type": "stream",
     "text": [
      "Content: \n",
      "주말에 집에서 5분거리에서 크레 베이비 무분해서 받아왔거든 무분 이유는 집에 자리도 없고 너무 많아서 케어가 힘들다였음 난 아직 3마리라서 걍 4마리 맞추자 느낌으로 받아옴 귀엽기도하고 근데 어쩌다가 무분해준 사람 글봤는데 화요일에 근처 크레카페가서 한마리 분양받아왔네 뭐지? 자리 없다메~  - dc official App\n",
      "\n",
      "Comment: 분양보내서 자리생겼자너~\n",
      "Comment: 처치곤란 똥퀄크레가 자리차지하니까 그렇지 그럼 밟아죽이랴??\n",
      "Comment: 무료로 받았으면 그런갑다 하는거지 크맘 빙의라도 했노?\n"
     ]
    },
    {
     "name": "stderr",
     "output_type": "stream",
     "text": []
    },
    {
     "name": "stdout",
     "output_type": "stream",
     "text": [
      "Content: \n",
      "주문하는 순간 사람이길 포기하는 금단의 영역을 넘는 기분이였는데 막상 키워보니 별거 아니네;;밀웜보다 훨씬 잘먹는거보고 뿌듯함\n",
      "\n",
      "Comment: ㄹㅇ? 할만함? 혐뚤 온습도 먹이 어떰? - dc App\n",
      "Comment: 500마리정도 기르나본데 3000마리 해본 소감은 극헬임  - dc App\n",
      "Comment: 여름에 귀뚜리 사이클끝나고 청소할때 냄새가 ㄹㅇ헬이야바닥 똥이랑 시체들로 냄새 ㅈ된다\n"
     ]
    },
    {
     "name": "stderr",
     "output_type": "stream",
     "text": []
    },
    {
     "name": "stdout",
     "output_type": "stream",
     "text": [
      "Content: \n",
      "얼마전 파충류양서류 갤러리엔 흥미로운 글이 하나 올라왔다 바로 자신이 마약을 샀다고 주장하며 인증을 하는 글이였다 그 마약의 이름은 메스암페타민 일명 \"아이스\" 보통은 히로뽕이나 다들 흔히 아는 \"필로폰\"으로 부른다 자 그럼 사진을 보도록하자 1 이미지 순서 ON이것이 바로 아이스라고 주장하던 그 물체이다 바로 메스암페타민염산염이지 자 그럼 다른 아이스의 사진들을 보자 2 이미지 순서 ON자 딱 봤을때 둘이 그냥 똑같아보일수있다 하지만 내가 지금부터 엄청난 사실을 알려주도록 하겠다 1.두 사진속 물체는 색이 다르다??!? 딱 봤을때 당신들은 나 말을 듣고 코웃음을 쳤을것이다 당연히 바닥의 색도 다르고 명과암의차이가 있으니 달라보일수밖에없지않느냐 라고 생각할수있다 그런데 아래 물체의 사진을 보아라 투명해보이지만 전혀 바닥의 색에 영향을 받지않는 모습이다 그리고 위 물체의 사진을 보게되면 오른쪽과 왼쪽의 명암이 확실히 구분이 되는데 오른쪽과 왼쪽의 색은 동일하다 고로 아래 아이스와 위 아이스는 색이 다르다 2.자 그럼 이제 추측을 해보아야 하는데 흠... ​아하! 3 이미지 순서 ON위 사진은 \"암염\"이다 내가 위에 올렸던 사진들과​ 매우 흡사하지않는가? 그런데 ​두번째 아이스 사진을 보게되면 가느다란 결정들이 많은데 위 아이스의 사진은 대체로 뭉툭하고 두껍고 동그랗지않은가?​ 내가 첨부한 바로 위에 올린 저 암염의 생김새를 보아라 마치 첫번째에 올린 그 사진과 매우 비슷하지않은가? ​자 답은 나왔으니 알아서 잘~~~ 생각해보도록  - dc official App\n",
      "\n",
      "Comment: 그래도 신고는 해보자 혹시 모르니께\n",
      "Comment: 암염빼고 다 똑같아보이는데?\n",
      "Comment: 레몬이 잘못 올렸다 싶어서 주작하는거봐라\n",
      "Comment: 걍 워터젤 인데 어그로 끌려고 올린듯\n",
      "Comment: 설령 아니어도 저딴 어그로 끄는 새끼는 한 번 데여봐야 됨\n",
      "Comment: 필로폰 순도높은건 투명함\n",
      "Comment: 조명차이아님? 결정은 부서져있어서 잘모르겠음\n",
      "Comment: 알빠쓰레빠 걍 닥 신고 - dc App\n"
     ]
    },
    {
     "name": "stderr",
     "output_type": "stream",
     "text": [
      "\n"
     ]
    },
    {
     "name": "stdout",
     "output_type": "stream",
     "text": [
      "Content: \n",
      "1 이미지 순서 ON2 이미지 순서 ON3 이미지 순서 ON담배피는데 이새끼 머임?? 저 틈으로 들어갔음- dc official App\n",
      "\n",
      "Comment: 누룩뱀  - dc App\n"
     ]
    },
    {
     "name": "stderr",
     "output_type": "stream",
     "text": [
      " 49%|████▉     | 24/49 [01:20<00:59,  2.38s/it]\u001b[A"
     ]
    },
    {
     "name": "stdout",
     "output_type": "stream",
     "text": [
      "Content: \n",
      "한쌍 저거 옥시 맞냐?비늘 ㅈㄴ작노- dc official App\n",
      "\n"
     ]
    },
    {
     "name": "stderr",
     "output_type": "stream",
     "text": [
      "\n"
     ]
    },
    {
     "name": "stdout",
     "output_type": "stream",
     "text": [
      "Content: \n",
      " 배가 왜저러냐 \n",
      "\n",
      "Comment: 밟아죽여\n"
     ]
    },
    {
     "name": "stderr",
     "output_type": "stream",
     "text": [
      " 53%|█████▎    | 26/49 [01:25<00:54,  2.36s/it]\u001b[A"
     ]
    },
    {
     "name": "stdout",
     "output_type": "stream",
     "text": [
      "Content: \n",
      "렙쇼한지얼마나됏다고되파누 \n",
      "\n",
      "Comment: 글게\n",
      "Content: \n",
      "그냥 구경 좀 하고 싶은데  - dc official App\n",
      "\n",
      "Comment: ㅇㅇ 가능\n",
      "Comment: 상품이 맘에 안들면 안사는거지  문제될게 있나?\n",
      "Comment: 애초에 전시회인데 상관없지\n",
      "Comment: ㅇㅇ 구경하면서 왔다갔다하는거 별로 신경안쓰더라 크게 호객행위도 안하고\n"
     ]
    },
    {
     "name": "stderr",
     "output_type": "stream",
     "text": []
    },
    {
     "name": "stdout",
     "output_type": "stream",
     "text": [
      "Content: \n",
      "생물을 돈이랑 퀄로만 본다고 파사모 존나게 까더니 정작 지들이 제일 돈과 퀄에 눈깔 돌아갔음ㅋㅋㅋ 모순덩어리 급학식거지새끼들 천지노 \n",
      "\n"
     ]
    },
    {
     "name": "stderr",
     "output_type": "stream",
     "text": [
      "\n"
     ]
    },
    {
     "name": "stdout",
     "output_type": "stream",
     "text": [
      "Content: \n",
      "카푸치노라고 20에 팔았는데 카푸치노 맞냐?  - dc official App\n",
      "\n",
      "Comment: 잘샀네 내가볼땐 한 1억 이상의 가치가 있어보이는데?  - dc App\n",
      "Comment: 카푸는 맞는데 카푸 20이라 뭐.. 그냥저냥 인데 나는 안삼\n"
     ]
    },
    {
     "name": "stderr",
     "output_type": "stream",
     "text": [
      " 61%|██████    | 30/49 [01:35<00:44,  2.35s/it]\u001b[A"
     ]
    },
    {
     "name": "stdout",
     "output_type": "stream",
     "text": [
      "Content: \n",
      "햄스터 키우던 개조리빙박스 하나 남는데 레게나 크레 키워볼까 \n",
      "\n"
     ]
    },
    {
     "name": "stderr",
     "output_type": "stream",
     "text": [
      "\n"
     ]
    },
    {
     "name": "stdout",
     "output_type": "stream",
     "text": [
      "Content: \n",
      "얘는 여과기없이 4~5일마다 물갈아줬거든? 근데 애기 키우려면 내 생각엔 환수만 중요한 게 아니고 상시 수질관리도 중요해서 여과기 있어야겠지? \n",
      "\n",
      "Comment: 여과기가 없으먼 상시수질을 관리하기 위해 100%환수를 해주는건데 아무래도 여과기로 관리하는게 낫다는 주의임\n",
      "Comment: 뭔 늍 키우는데?\n"
     ]
    },
    {
     "name": "stderr",
     "output_type": "stream",
     "text": [
      " 65%|██████▌   | 32/49 [01:40<00:42,  2.51s/it]\u001b[A"
     ]
    },
    {
     "name": "stdout",
     "output_type": "stream",
     "text": [
      "Content: \n",
      "내가 지금 코로나 걸렸는데 먹이주기 좀 그래서 당분간 부모한테 맡기는데 거북이도 코로나 걸리나 모르겠네\n",
      "\n",
      "Comment: 감기는 걸리더만  - dc App\n",
      "Comment: 인수공통감염병에 대해 모르지?\n",
      "Comment: ㅇㅁㅇ\n"
     ]
    },
    {
     "name": "stderr",
     "output_type": "stream",
     "text": []
    },
    {
     "name": "stdout",
     "output_type": "stream",
     "text": [
      "Content: \n",
      "이거 전화해서 화내도 됨? 사이즈도 안맞음. 대사이즈인데 소중대 섞임  폐사율도 높고 \n",
      "\n",
      "Comment: 지랄해야지 이건\n"
     ]
    },
    {
     "name": "stderr",
     "output_type": "stream",
     "text": [
      "\n"
     ]
    },
    {
     "name": "stdout",
     "output_type": "stream",
     "text": [
      "Content: \n",
      "이번 대전 렙타일 갈만함?- dc official App\n",
      "\n",
      "Comment: 내가 조금 유명함\n"
     ]
    },
    {
     "name": "stderr",
     "output_type": "stream",
     "text": [
      " 71%|███████▏  | 35/49 [01:49<00:37,  2.66s/it]\u001b[A\n"
     ]
    },
    {
     "name": "stdout",
     "output_type": "stream",
     "text": [
      "Content: \n",
      "예전에 크레 숫 성체 2마리 합사한적있는데 크게 문제없었거든 이번에도 할까 생각중인데 1년반짜리, 3개월짜리라서 좀 걱정되네 ㅋㅋ 근데 합사하면 밥그릇 2개둬야하나 예전에는 주사기피딩했는데  - dc official App\n",
      "\n",
      "Comment: 성체랑 베비 합사는 에바지..\n",
      "Comment: 사이즈차이 존나나면 입질감당못하고 뒤질듯\n",
      "Comment: 덩치차이도 고려해야댐\n",
      "Comment: 그냥 해 작은게 사라지겟지만  - dc App\n"
     ]
    },
    {
     "name": "stderr",
     "output_type": "stream",
     "text": [
      " 73%|███████▎  | 36/49 [01:52<00:36,  2.79s/it]\u001b[A\n"
     ]
    },
    {
     "name": "stdout",
     "output_type": "stream",
     "text": [
      "Content: \n",
      "1 이미지 순서 ON2 이미지 순서 ON3 이미지 순서 ON4 이미지 순서 ON5 이미지 순서 ON할리 3릴리 솔리드백 10달마 10주고 데려옴다들 먹성이 좋아서 그런지 엄청 잘크더라\n",
      "\n",
      "Comment: 트익할은 내가 키우는 트익할이랑 꽤 비슷해보이고 저렴해서 데려왔는데. 비슷하게 커줄라나 모르겠네\n",
      "Comment: 애들 커엽네\n",
      "Comment: 가성비 괜춘함ㅇㅇ 점없고 체형좋고 밥잘먹으면 뭐 더 바랄거 있나ㅎ\n",
      "Comment: 밥잘먹으면 좋은거지\n",
      "Comment: 귀엽다 달마 내취향\n"
     ]
    },
    {
     "name": "stderr",
     "output_type": "stream",
     "text": [
      " 76%|███████▌  | 37/49 [01:54<00:31,  2.60s/it]\u001b[A"
     ]
    },
    {
     "name": "stdout",
     "output_type": "stream",
     "text": [
      "Content: \n",
      "8년차 집사인데 3마리에서 시작해서 현재 30마리 좀 넘었는데 넘 많으니 귀찮아지네.. 다들 몇마리 키워..?\n",
      "\n",
      "Comment: 7마리\n",
      "Comment: 80정도. 도매퀄이라 도매만 보냄ㅇㅇ\n",
      "Comment: 30??지금 5마리 키우는것도 귀찮은데  - dc App\n",
      "Comment: 2달차인데 8마리.... 벌써 좀 귀찮아져서 더 안늘릴라고.. 번식도 안하고\n",
      "Comment: 저는 1년 4개월 정도에 7마리인데 다들 빠르게 늘리셨네\n",
      "Comment: 4년쯤댄듯  100마리 넘게키우다 싹다 도매치고 20마리 남기고 그냥저냥키우는중\n",
      "Comment: 6개왈차 2마리 키워요\n",
      "Comment: 500마리쯤  - dc App\n",
      "Comment: 1972마리\n",
      "Comment: 3마리.. 알공장 할거아니면 적당히 키우자\n"
     ]
    },
    {
     "name": "stderr",
     "output_type": "stream",
     "text": []
    },
    {
     "name": "stdout",
     "output_type": "stream",
     "text": [
      "Content: \n",
      "청개구리 키우는데 바닥재 키친타올 많이 추천하더라고!이거 깔아줄때 물에 뿔려서 줘야함??아님 걍 뽀송뽀송한거 넣는거임??\n",
      "\n",
      "Comment: 뽀송\n",
      "Comment: 몸 전체가 들어갈만한 물그릇 넣을거면 뽀송아니면 축축\n",
      "Content: \n",
      " - dc official App\n",
      "\n",
      "Comment: 잘모르지만 장지뱀 아닐까요\n",
      "Comment: 미끈도마뱀임  - dc App\n",
      "Comment: 도마뱀\n"
     ]
    },
    {
     "name": "stderr",
     "output_type": "stream",
     "text": []
    },
    {
     "name": "stdout",
     "output_type": "stream",
     "text": [
      "Content: \n",
      "1 이미지 순서 ON2 이미지 순서 ON3 이미지 순서 ON4 이미지 순서 ON아니 얘가 크면 저렇게 노래진다는게 안믿기네 \n",
      "\n",
      "Comment: 스노우가 크면서 노래짐\n",
      "Comment: 맨윗넘 내가 키우는 애랑 똑닮았네 건강하고 밥잘먹더라활발하고\n"
     ]
    },
    {
     "name": "stderr",
     "output_type": "stream",
     "text": []
    },
    {
     "name": "stdout",
     "output_type": "stream",
     "text": [
      "Content: \n",
      "하얀애들 좋은데 민무늬도좋고 근데 하얀데 점없는 애들은 대부분 엄청 예민하대해서 \n",
      "\n",
      "Comment: 알빠노긴 함화이트나이트나 디블 ㄱㄱ\n",
      "Comment: 만다린이나 블랙나이트추천함 - dc App\n",
      "Comment: 점은 있다만 스이클,갤럭시,파이드 갤럭시 알아보는게.. 얘들 진짜 귀여움 ㅋㅋㅋㅋ - dc App\n",
      "Comment: 갤럭시 블나 스디블 고퀄만다린 얘네가이쁘긴 이뻐요\n"
     ]
    },
    {
     "name": "stderr",
     "output_type": "stream",
     "text": []
    },
    {
     "name": "stdout",
     "output_type": "stream",
     "text": [
      "Content: \n",
      "거식아니니깐 안심해도 되는거냐? 참고로 정상변임  - dc official App\n",
      "\n",
      "Comment: 거식증일때도 응가는 싸던데.. 그대신 쓸개즙까지 같이 나와서 녹변을 싸긴 하지만..\n"
     ]
    },
    {
     "name": "stderr",
     "output_type": "stream",
     "text": []
    },
    {
     "name": "stdout",
     "output_type": "stream",
     "text": [
      "Content: \n",
      "1 이미지 순서 ON2 이미지 순서 ON3 이미지 순서 ON4 이미지 순서 ON스이클 원래 이렇게생김? \n",
      "\n",
      "Comment: 맞는듯 스노우하고 이클립스는 확실히 들어감\n",
      "Comment: 왜이리 마름?  - dc App\n",
      "Comment: wy나 이니그마 들어간거 같긴한데 일단 커봐야 알듯 몇년전에 키운 스노우wy가 저런 생김새에 크면서 군데 군데 노란색 발색이 올라왔었음\n"
     ]
    },
    {
     "name": "stderr",
     "output_type": "stream",
     "text": []
    },
    {
     "name": "stdout",
     "output_type": "stream",
     "text": [
      "Content: \n",
      "솔직히 개체에 대한 사랑은 퀄 보고 따지는 니들보다 훨씬 클텐데 니들이 ㄹㅇ 돈벌이로 개체 대할 때 그분들은 ㄹㅇ로 개체 사랑해서 키우는거 아니냐  - dc official App\n",
      "\n",
      "Comment: 하든말든 상관없음. 다만 좋아요 버튼 옆에 싫어요 버튼도 있는거임ㅇㅇ\n",
      "Comment: 생물을 ㄹㅇ 돈벌이 그 이상 그이하로 안보는거임 - dc App\n"
     ]
    },
    {
     "name": "stderr",
     "output_type": "stream",
     "text": []
    },
    {
     "name": "stdout",
     "output_type": "stream",
     "text": [
      "Content: \n",
      "크레처럼 슈퍼푸드로 사육 가능한 뱀 없나요 에그이터는 너무 못생겨서 싫어요- dc official App\n",
      "\n",
      "Comment: 그린부쉬인가 러프그린인가 하는 풀뱀  - dc App\n",
      "Comment: 달팽이먹는 슬러그이터\n",
      "Comment: 슈푸 이러네ㅋㅋㅋ  - dc App\n",
      "Comment: 슬러그이터ㄱ\n",
      "Comment: 뱀한테 슈푸 생각하는 능지면 걍 뱀키우지마라\n"
     ]
    },
    {
     "name": "stderr",
     "output_type": "stream",
     "text": []
    },
    {
     "name": "stdout",
     "output_type": "stream",
     "text": [
      "Content: \n",
      "크레처럼 슈퍼푸드로 사육 가능한 뱀 없나요 에그이터는 너무 못생겨서 싫어요- dc official App\n",
      "\n",
      "Comment: 그린부쉬인가 러프그린인가 하는 풀뱀  - dc App\n",
      "Comment: 달팽이먹는 슬러그이터\n",
      "Comment: 슈푸 이러네ㅋㅋㅋ  - dc App\n",
      "Comment: 슬러그이터ㄱ\n",
      "Comment: 뱀한테 슈푸 생각하는 능지면 걍 뱀키우지마라\n"
     ]
    },
    {
     "name": "stderr",
     "output_type": "stream",
     "text": [
      "\n"
     ]
    },
    {
     "name": "stdout",
     "output_type": "stream",
     "text": [
      "Content: \n",
      "전에 증식신고는 보완신청까지 빠르게 처리되던데이건 2주가 넘어가네 보완신청도 안오고 흠.. 공무원들 일이 많나\n",
      "\n",
      "Comment: 그건 분양자가 처리를 안하고 있는거임\n"
     ]
    },
    {
     "name": "stderr",
     "output_type": "stream",
     "text": [
      " 98%|█████████▊| 48/49 [03:08<00:08,  8.41s/it]\u001b[A"
     ]
    },
    {
     "name": "stdout",
     "output_type": "stream",
     "text": [
      "Content: \n",
      "사람들 세팅보면 한쪽에 핫존이라고 해서 전등?같은거 달아서 빛 받게해주던데 필수임?그냥 왼쪽에는 얼음팩 올려서 23도 중간에는 중림느낌으로 27도 오른쪽은 장판깔아서 31도정도로 핫존하면 안되나 안달아주고 저리 키우면 사람으로 치면 광합성 아에 못받고 살아가는 느낌인가? \n",
      "\n",
      "Comment: 주행성 애들은 해주는게 맞다고 봄  - dc App\n"
     ]
    },
    {
     "name": "stderr",
     "output_type": "stream",
     "text": [
      "100%|██████████| 49/49 [03:37<00:00,  4.43s/it]\n",
      " 86%|████████▌ | 25/29 [56:57<13:58, 209.55s/it]\n"
     ]
    },
    {
     "name": "stdout",
     "output_type": "stream",
     "text": [
      "Content: \n",
      "1 이미지 순서 ON2 이미지 순서 ON\n",
      "\n",
      "Comment: 똥 지려놓고 갸우뚱은\n",
      "Comment: ㅈㄱㄴ 원래 저렇게 묽음..??\n",
      "Comment: 아 ㅅㅂ\n",
      "Comment: 내가 저래서 밖에 오래 못풀어두겠음....\n"
     ]
    },
    {
     "name": "stderr",
     "output_type": "stream",
     "text": [
      "  2%|▏         | 1/49 [00:02<02:01,  2.52s/it]\u001b[A"
     ]
    },
    {
     "name": "stdout",
     "output_type": "stream",
     "text": [
      "Content: \n",
      "ㅅㅂ 죄다 월 1000이네  - dc official App\n",
      "\n",
      "Comment: 원래 못벌어도 잘버는척해야 사람이 꼬이는거임\n",
      "Comment: 다 뻥이다.. 컵라면도 할인 안하면 못 사먹는다..\n",
      "Comment: 월10억인데 먼소리임\n",
      "Comment: 아재요...  - dc App\n",
      "Comment: 버는 놈은 범 - dc App\n"
     ]
    },
    {
     "name": "stderr",
     "output_type": "stream",
     "text": []
    },
    {
     "name": "stdout",
     "output_type": "stream",
     "text": [
      "Content: \n",
      "파충류판 망하는 이유는 파충류가 징그러워서가 아니라 수준 미달인 사람들이 ㅈㄴ 많아서구나임  - dc official App\n",
      "\n",
      "Comment: 정답  - dc App\n",
      "Comment: 비추 수 ㅅㅂ ㅋㅋㅋㅋㅋㅋㅋ개추해줬다\n"
     ]
    },
    {
     "name": "stderr",
     "output_type": "stream",
     "text": []
    },
    {
     "name": "stdout",
     "output_type": "stream",
     "text": [
      "Content: \n",
      "크기많이안컸음  - dc official App\n",
      "\n",
      "Comment: 입에넣어봐\n",
      "Comment: ㅇ\n",
      "Comment: ㅇㅇ\n",
      "Comment: 당첨\n",
      "Comment: 바퀴벌레도 구분할줄 모르닝 저 대가리와 더듬이를 봐  - dc App\n",
      "Content: \n",
      "필름히터보다 걍 상부해줄까 \n",
      "\n",
      "Comment: 상부 ㄱㄱ 난 레게 상부포맥스에 키움 사육장 공기까지 따떳해져서 좋아  - dc App\n"
     ]
    },
    {
     "name": "stderr",
     "output_type": "stream",
     "text": []
    },
    {
     "name": "stdout",
     "output_type": "stream",
     "text": [
      "Content: \n",
      "온도없어서 필름히터 사서 자온조에 연결해 쓸려는데. 필름히터 불 안남? 안전도 어느정도임? \n",
      "\n",
      "Comment: 자온조 연결할거면 화재걱정은 안해도 될듯. 몇자야?\n",
      "Comment: 오 이거 어디서삼  - dc App\n"
     ]
    },
    {
     "name": "stderr",
     "output_type": "stream",
     "text": []
    },
    {
     "name": "stdout",
     "output_type": "stream",
     "text": [
      "Content: \n",
      "모든 여자가 그런건 아님빠르면 20대 중후반쯤 부터 아줌마로 변이가 시작됨이때부터 남들 말하는거, 사회적 통념이뇌에서 삭제되면서 지가 세상의 기준이 되어버림퍙 톡방 예를 들면, 똑같은 질문 무한반복,누군가 조언 해줘도 좆같은 핑계질로고칠 생각은 뒤져도 안하고, 똑같은 질문 반복함아줌마가 둘, 셋 모이면 지들끼리 좆같은 소리 하면서존나 꺄륵 거리고, 감성팔이 하는데 씨발꺼 진짜일반적인 여성과 아줌마는 다른 종인걸 느낀다법적으로 아줌마는 자식새끼 말고는 다른거 못키우게법적으로 금지시켜야함\n",
      "\n",
      "Comment: 뻔뻔함\n",
      "Comment: 개저씨도 그럼\n"
     ]
    },
    {
     "name": "stderr",
     "output_type": "stream",
     "text": []
    },
    {
     "name": "stdout",
     "output_type": "stream",
     "text": [
      "Content: \n",
      "깜빡했는데 \n",
      "\n",
      "Comment: 우리도 주행성인데 야식 처먹잖아  - dc App\n",
      "Comment: 난 야행성 애들 아침이나 낮에 주는데 잘 무금\n",
      "Comment: 나도 그런적있어서 사육장 열고 주면 눈뜨고와서 먹던데\n",
      "Content: \n",
      "=고닉중 한명 념글갈시 공개함\n",
      "\n",
      "Comment: 개추\n",
      "Comment: 니애미\n",
      "Comment: ㄱㄱㄱㄱㄱ 근데 밑에 글 뭐 낚시링크라도 걸었노? 저게 뭐냐\n",
      "Comment: ㄱㄱㄱㄱㄱ\n",
      "Comment: 념글감\n",
      "Comment: 예상 : 어제오늘\n"
     ]
    },
    {
     "name": "stderr",
     "output_type": "stream",
     "text": [
      "\n"
     ]
    },
    {
     "name": "stdout",
     "output_type": "stream",
     "text": [
      "Content: \n",
      "개구리라고 무시하지말라고- dc official App\n",
      "\n",
      "Comment: 잘 생각해봐라 좁은가\n",
      "Comment: 내 픽시 너보다 작은데 2자씀  - dc App\n",
      "Comment: 좁아내 밀키프록 베이비 집이 쟤보단 넓음 ㅠ\n",
      "Comment: 충분  - dc App\n",
      "Comment: 3번째 물으면 알려줄께  - dc App\n",
      "Comment: 니네집도 저렇개 ㅈ만하지? - dc App\n",
      "Comment: 감옥임?\n",
      "Comment: 픽시는 저기 물담아놓은 통에  키워도 사는게 픽시임\n",
      "Comment: 픽시 저기서 살긴 함근데 최대한 더 잘 살게 해줘야지\n"
     ]
    },
    {
     "name": "stderr",
     "output_type": "stream",
     "text": [
      " 20%|██        | 10/49 [00:25<01:44,  2.69s/it]\u001b[A"
     ]
    },
    {
     "name": "stdout",
     "output_type": "stream",
     "text": [
      "Content: \n",
      "베이비 너무 키우고 싶은뎅..\n",
      "\n",
      "Comment: 나도 궁금해..\n"
     ]
    },
    {
     "name": "stderr",
     "output_type": "stream",
     "text": [
      "\n"
     ]
    },
    {
     "name": "stdout",
     "output_type": "stream",
     "text": [
      "Content: \n",
      "하 \n",
      "\n",
      "Comment: ㅋㅋ기노띠\n",
      "Comment: 하나 우리는 국가와 국민에 충성을 다하는 대한민국 육군이다  - dc App\n"
     ]
    },
    {
     "name": "stderr",
     "output_type": "stream",
     "text": [
      " 24%|██▍       | 12/49 [00:31<01:37,  2.62s/it]\u001b[A"
     ]
    },
    {
     "name": "stdout",
     "output_type": "stream",
     "text": [
      "Content: \n",
      "사육장 언제치워놓냐 ㅡㅡ3자세개에5자 한개인데내용물 다버려야하는데 하개노답이다 ㅠㅠ- dc official App\n",
      "\n"
     ]
    },
    {
     "name": "stderr",
     "output_type": "stream",
     "text": []
    },
    {
     "name": "stdout",
     "output_type": "stream",
     "text": [
      "Content: \n",
      "킁킁\n",
      "\n"
     ]
    },
    {
     "name": "stderr",
     "output_type": "stream",
     "text": []
    },
    {
     "name": "stdout",
     "output_type": "stream",
     "text": [
      "Content: \n",
      "밥주는데 같이 딸려들어감  얇기는 새끼손톱 반만함ㅠ 임팩션 오면 어캄   - dc official App\n",
      "\n",
      "Comment: 조금 먹는걸론 괜찮다던데 나이에따라 다를듯\n",
      "Comment: 울집애들은 항상 같이 먹던데 아직 3년째 안죽고 살아있다\n"
     ]
    },
    {
     "name": "stderr",
     "output_type": "stream",
     "text": []
    },
    {
     "name": "stdout",
     "output_type": "stream",
     "text": [
      "Content: \n",
      "피딩하기귀찮다...  - dc official App\n",
      "\n",
      "Content: \n",
      "올 초에 동물들 다 버리고 튄 ㅂㅂㄹㅇㅍㅋ에 몇번 갔었는데그때 봤던 애들이랑 똑같은 개체 몇마리랑 같이해서ㅈㅇㅈ실내동물원 생겼던데그때 유기동물들은 대부분 구출했다고 했던거같거든같은 사장 아니겠지?- dc official App\n",
      "\n",
      "Comment: ㅈㅇㅈ가 뭐임?\n",
      "Comment: 딱보면눈치못채냐\n",
      "Comment: 사장이 문신쟁이면 같은사장임\n"
     ]
    },
    {
     "name": "stderr",
     "output_type": "stream",
     "text": []
    },
    {
     "name": "stdout",
     "output_type": "stream",
     "text": [
      "Content: \n",
      "안녕하세요.대단하다 대단해 ...진짜 요즘 너무 피곤하다 피로도 MAX!감사합니다.\n",
      "\n",
      "Comment: 워터크리스탈같은대  - dc App\n",
      "Comment: 곧 행사네 힘내!\n"
     ]
    },
    {
     "name": "stderr",
     "output_type": "stream",
     "text": []
    },
    {
     "name": "stdout",
     "output_type": "stream",
     "text": [
      "Content: \n",
      "저걸 잡아오노 근데 너구리 꼬추 하찮은거 개귀엽네 ㅋㅋ  - dc official App\n",
      "\n"
     ]
    },
    {
     "name": "stderr",
     "output_type": "stream",
     "text": []
    },
    {
     "name": "stdout",
     "output_type": "stream",
     "text": [
      "Content: \n",
      "지금은 늙어서 하늘나라 갔는데 밀웜이 지방이 많으니 먹이지 말라는 말이 너무많네 - dc official App\n",
      "\n",
      "Comment: 밀웜보다는 귀뚜리가 훨신좋은건 사실임지방많고 껍질 소화안되고 먹이반응 떨어지고 닥 귀뚜리 쓰셈\n",
      "Comment: 밀웜 돼지고기 혐뚤 소고기  슈푸 밥\n",
      "Comment: 밀웜먹여서 5년 덜살았네  - dc App\n"
     ]
    },
    {
     "name": "stderr",
     "output_type": "stream",
     "text": []
    },
    {
     "name": "stdout",
     "output_type": "stream",
     "text": [
      "Content: \n",
      "Tokopedia 어플,웹사이트 들어가고Varanus,porosus,iguana등등 학명이나 영명 적으면 현지 평균가 나온다ㅋㅋ1 이미지 순서 ON2 이미지 순서 ON3 이미지 순서 ON4 이미지 순서 ON\n",
      "\n",
      "Comment: 여기 구경하는게 찻집보다 재밌다\n",
      "Comment: 인도네시아 사는데 확실히 눈팅할맛 남ㅇㅇ\n"
     ]
    },
    {
     "name": "stderr",
     "output_type": "stream",
     "text": []
    },
    {
     "name": "stdout",
     "output_type": "stream",
     "text": [
      "Content: \n",
      "뭔짓거리하나 궁금해서 링크걸어놨더니 타고 들어오는 저능아들이 많네ㅋㅋㅋㅋㅋ 고닉님들 로그인,로그아웃 번복하는거 안힘드세요??^^  \n",
      "\n",
      "Comment: 그래서 누군데 리스트ㄱㄱ\n"
     ]
    },
    {
     "name": "stderr",
     "output_type": "stream",
     "text": [
      "\n"
     ]
    },
    {
     "name": "stdout",
     "output_type": "stream",
     "text": [
      "Content: \n",
      "ㅋㅋㅋ 카푸랑 뭐가 다름 ㄹㅇ루??  - dc official App\n",
      "\n",
      "Comment: 3차형질이 더 잘퍼짐 도살도 특유의 형질이있음\n"
     ]
    },
    {
     "name": "stderr",
     "output_type": "stream",
     "text": [
      " 47%|████▋     | 23/49 [01:00<01:09,  2.68s/it]\u001b[A"
     ]
    },
    {
     "name": "stdout",
     "output_type": "stream",
     "text": [
      "Content: \n",
      "ㅋ\n",
      "\n",
      "Comment: ㅈ가튼 소리가 핫하노 ㅋ\n"
     ]
    },
    {
     "name": "stderr",
     "output_type": "stream",
     "text": []
    },
    {
     "name": "stdout",
     "output_type": "stream",
     "text": [
      "Content: \n",
      "댓좀 싸게줌\n",
      "\n",
      "Comment: 제시\n",
      "Comment: 사진이나 올려라  - dc App\n",
      "Comment: 나옵톡줘\n",
      "Comment: 10\n",
      "Comment: 1.5에 삼 - dc App\n",
      "Comment: 옵톡줘  - dc App\n",
      "Comment: 옵텁 ㄱ\n",
      "Comment: 내가 살래 - dc App\n",
      "Comment: 10에 주면 내가삼  - dc App\n"
     ]
    },
    {
     "name": "stderr",
     "output_type": "stream",
     "text": []
    },
    {
     "name": "stdout",
     "output_type": "stream",
     "text": [
      "Content: \n",
      "이색기 너무 빨리크네- dc official App\n",
      "\n",
      "Comment: 시발 감옥이네\n",
      "Comment: ㅋㄱㅋㄱㄱㅋㄱㅋㅋㅋㅋ개구ㅏ얍네\n"
     ]
    },
    {
     "name": "stderr",
     "output_type": "stream",
     "text": []
    },
    {
     "name": "stdout",
     "output_type": "stream",
     "text": [
      "Content: \n",
      "여기 수백명있는 단톡방인데 그냥 뭐 입고되면 사진보려고 몇주전부터 들어가있음 근데 원래 단톡방들 원래 판매가 주인건 알겠는데 정보같은거 물어보거나 뭐 개체관련 질문하면 답없다가 누가 구매하고싶다 늬앙스풍기면 바로 나타나는게 좀 웃음벨임 ㅋㅋㅋ아니면 톡방장와서 사진보내면 다들 급 찬양릴레이 ㅋㅋㅋ그러다 일반인이 뭐 또 개체 아프거나 뭐 관리문제 물어보면 급조용 그 방장아니더라도 관리자?? 딱지 붙어있는사람들도 몇명더있는데 이런사람들도 그런 질문 답안해주거나 존나 단답임그냥 몇주간 눈팅만 해본거라 뭐 다른덴 어떤진 모르겠으나 너무 지들 이익보는거에만 즉각 반응하고 나머진 썡까는게 안좋게보여서 곧 나갈거같음 \n",
      "\n",
      "Comment: 내가있는 톡방은 질문하면 달려들던데ㅋㅋㅋㅋ - dc App\n",
      "Comment: ㄹㅇ맞음ㅋㅋ속으론 싹다 걍 장사꾼들임\n",
      "Comment: 대부분 그럼 몇몇 좆목팸들끼리 좆목질하다 조용 무한반복 - dc App\n",
      "Comment: 전부똑같음 안그런곳없음 정상인은 오톡방안함  - dc App\n",
      "Comment: 다 똑같음ㅋㅋㅋㅋ\n",
      "Comment: 근데 왜 들어감? 어떤 의도로?  - dc App\n",
      "Comment: ㅋㅋㅋㅋㅋㅋ어디냐 뱀팔이시끼들\n",
      "Comment: 아닌곳도있고 그런곳도있고 가려가면 될거같음\n"
     ]
    },
    {
     "name": "stderr",
     "output_type": "stream",
     "text": []
    },
    {
     "name": "stdout",
     "output_type": "stream",
     "text": [
      "Content: \n",
      "- dc official App\n",
      "\n"
     ]
    },
    {
     "name": "stderr",
     "output_type": "stream",
     "text": []
    },
    {
     "name": "stdout",
     "output_type": "stream",
     "text": [
      "Content: \n",
      "리핀총판있던데\n",
      "\n",
      "Comment: 국내가 두배 생각하면됨\n",
      "Comment: 개쓰레기임\n",
      "Comment: 국내250이면 구할텐데리핀에서 사면 500이상이다\n",
      "Comment: 리핀총판 ㅋㅋㅋㅋㅋㅋ 그냥 웃음이절로 ㅋ 아재요 그냥 국내브리더꺼도 가격좋고 퀄좋은애들 많소 엄한데 돈그마가져다바치고 그돈모아 다른거하는데 백번 좋을교 매번이야기 하지만 외국인놈들 호구좀 그만 되이소\n"
     ]
    },
    {
     "name": "stderr",
     "output_type": "stream",
     "text": []
    },
    {
     "name": "stdout",
     "output_type": "stream",
     "text": [
      "Content: \n",
      "아님말고\n",
      "\n",
      "Comment: 탈락개체 방출이 맞지 고퀄은 킵해서 알공장 돌리면 돈복산데 팔겠냐 ㅋㅋㅋ\n",
      "Comment: 맞음\n"
     ]
    },
    {
     "name": "stderr",
     "output_type": "stream",
     "text": []
    },
    {
     "name": "stdout",
     "output_type": "stream",
     "text": [
      "Content: \n",
      "귀뚜라미 입에 대니까 안먹는다고 빽!!! 하던데 얘 수컷이냐?\n",
      "\n",
      "Comment: 암컷도냄\n"
     ]
    },
    {
     "name": "stderr",
     "output_type": "stream",
     "text": []
    },
    {
     "name": "stdout",
     "output_type": "stream",
     "text": [
      "Content: \n",
      "1 이미지 순서 ON2 이미지 순서 ON3 이미지 순서 ON4 이미지 순서 ON칼슘 주머니가 수상할정도로 거대함최근에 자꾸 붙어 다니던데 메이팅 한듯엑테 303045 쓰는중인데 좀 작은거 같아서이벤트 신청 해봅니다.마침 암컷 알도 밴거 같아서 이번 기회에 사육장 바꿔주고 싶어요- dc official App\n",
      "\n",
      "Comment: 사육환경 이쁘다 당첨기원!참여확인~  - dc App\n",
      "Comment: 칼슘너무크면안좋아 조절해줘\n"
     ]
    },
    {
     "name": "stderr",
     "output_type": "stream",
     "text": []
    },
    {
     "name": "stdout",
     "output_type": "stream",
     "text": [
      "Content: \n",
      "24살인데 수의대 꿈으로 하다가 포기했는데 등급은 걍 4등급정도인데 여기서 더 열심히해서 하위인서울 대학간다고 의미가 있나? 그냥 순경 준비하려고 하는데 어떰 진지하게 조언 좀 참고로 수의대 목표인데 4등급이라고 ㅈㄴ ㅈㄹ하던데 올해 개씹노베에서 시작한 거다  \n",
      "\n",
      "Comment: 니 꿈이 뭔데\n",
      "Comment: 나도 어영부영 대학교 나왔는데 학교다니면서 놀아서 학점 말아먹고 군대다녀와서 그냥 공기업준비해서 지금 다니고있다 학교에 쓴 돈 ㅈㄴ아깝다 일찍 들어가서 호봉수나 쌓을껄 - dc App\n",
      "Comment: 요즘은 대학 중요도가 높지 않음 대신 그시간에 다른 경력을 확실히 쌓아야겟지  - dc App\n",
      "Comment: 그닥? 대기업 갈거 아님 노상관\n",
      "Comment: ——————먹이 금지——————이새키 맨날 ㅇㅈㄹ임 ㅋㅋ - dc App\n",
      "Comment: 순경ㄱㄱ\n",
      "Comment: 대학가라 수의대로 가라\n",
      "Comment: 운지좀\n"
     ]
    },
    {
     "name": "stderr",
     "output_type": "stream",
     "text": []
    },
    {
     "name": "stdout",
     "output_type": "stream",
     "text": [
      "Content: \n",
      "소리없이 지나가던데\n",
      "\n",
      "Comment: 밀뱀  - dc App\n",
      "Comment: 누룩  - dc App\n"
     ]
    },
    {
     "name": "stderr",
     "output_type": "stream",
     "text": []
    },
    {
     "name": "stdout",
     "output_type": "stream",
     "text": [
      "Content: \n",
      "난 모니터만 17년째 키우는 사람임 쥬만지펫시절부터 키웠고 사바나 12살에 수명다해 죽고 다시 키우는중이고 알거스랑 블스도 지금 8살임 커뮤활동엔 나같은 전문가는 ㅈ도없고 몇달키우면서 아는척은 시발 20년차 전문가급ㅋㅋ 이런 분위기인거 알고도 워낙 정보교류할 애 없고 따분해서 오톡방 몇개 드가봤음ㅋㅋ ㅅㅂ 사바나 나일 시설등록도 쳐안하고 3달 깔짝 키우면서 톡방내 사람들한테 온갖 훈수란 훈수 다 두고 자기는 모니터로 이럴거다 저럴거다 온갖 미래지향적 허세 다 떨더라 ㅋㅋ 예시: 저 사바나농장 꾸려서 번식해서 해외수출할거예요ㅋㅋ(베이비입문한지 2달된 새키가 호언장담하면서 저럼ㅋㅋ), 내년에 번식해서 수출하려고요ㅋ 해외유명브리더랑 친해요ㅋ(미친놈이 베이비 키우면서 내년번식 이지랄ㅋㅋ걍 개념이 없음) 진짜 그냥 파충류사육도 지능순이다ㅇㅇ 온갖 아는척 전문가인척 우월한척 2달 내내 저지랄 떨다가 오늘 분양하고 접는댄다 ㅋㅋㅋㅋㅋㅋ 저런 애새키들이 한둘이 아니다 수두룩함ㅋㅋ 나 18년차인거 얘기하니깐 뭐 기싸움하자는건지 자기사바나 사진 ㅈㄴ 올림ㅋㅋ 진짜할말이없다 하나같이다병신들이야  - dc official App\n",
      "\n",
      "Comment: 입문2달만에 번식수출?삽나를?ㅋㅋ\n",
      "Comment: 사바나랑 나일을 시등을왜해?\n",
      "Comment: 재민이짆아\n",
      "Comment: 죄송한데 개체짤좀 한번ㅂㅗ고싶\n"
     ]
    },
    {
     "name": "stderr",
     "output_type": "stream",
     "text": []
    },
    {
     "name": "stdout",
     "output_type": "stream",
     "text": [
      "Content: \n",
      "ㅈㄱㄴ\n",
      "\n",
      "Comment: 고물가 땜에 요즘은 6천웡정도\n",
      "Comment: 10마리 천원\n",
      "Comment: 50마리 9천원 이던데 ㄷㄷ\n",
      "Comment: 요즘 마리당200원도많더라  - dc App\n",
      "Comment: 개후라달년들이네 ㅋ 지평선 농장  ㄱㄱ\n"
     ]
    },
    {
     "name": "stderr",
     "output_type": "stream",
     "text": []
    },
    {
     "name": "stdout",
     "output_type": "stream",
     "text": [
      "Content: \n",
      "파양갤은 왜 저럼?  - dc official App\n",
      "\n",
      "Comment: 다 옛말임파양판뿐만 아니라 개고양이쪽부터도 정병천국인데\n",
      "Comment: ㄴㄴ 좋아하는 척임 동물 좋아하는 사람중에 악인 없다는건 맞음  - dc App\n",
      "Comment: 히틀러도 동물좋아해서 동물복지법도 만들었는데\n",
      "Comment: 찐으로 좋아하는게 아닌거지ㅋㅋ\n",
      "Comment: 나도 그게 의문임ㅋㅋㅋ 고민을 좀 해봤는데 사람들이 너무 순수해진 나머지 그냥 돌아버린거 아닐까 추측중ㅎ\n",
      "Comment: 동물빠중에 인간혐오 걸린 사람들 많음\n",
      "Comment: 왜냐면 동물을 좋아하는게 아니기 때문임ㅋ 순수히 파충류를 좋아하는게 아니라 '남들이 안하는 신기한걸 키우는 나'를 좋아하는 애들이 많아서 괴상할 정도로 자기애가 강하고 시기질투가 심함ㅋ 그래서 남 헐뜯기를 좋아하고 '뭐뭐 푼다 뭐뭐 알려준다'하는 식으로 호응과 관심 받기를 즐기는 거다\n",
      "Comment: 진짜 동물을 사랑하는 사람들은 동물을 분양보내질 않지 ㅋㅋㅋ개인분양이나 업자들은 동물을 사랑하는게 아니라 돈을 사랑하는거\n"
     ]
    },
    {
     "name": "stderr",
     "output_type": "stream",
     "text": [
      "\n"
     ]
    },
    {
     "name": "stdout",
     "output_type": "stream",
     "text": [
      "Content: \n",
      "proven 발음하면 프루븐이 맞는데 푸르븐부터 푸루분 푸르분 ㅇㅈㄹ하는거 왜케 ㅄ같지 내가 너무 과민한가\n",
      "\n",
      "Comment: frogㅡprogㅡprovㅡproven 좀 빡치냐?ㅋㅋ  - dc App\n",
      "Comment: ㄹㅇㅋㅋ저게맞는건데\n",
      "Comment: 푸루분 슈프 객체 저에\n",
      "Comment: 프로븐 아니었구나?\n",
      "Comment: 특익할. RT 차콜이라는 무식한 새키들도 많은데 뭘\n",
      "Comment: 프로븐\n"
     ]
    },
    {
     "name": "stderr",
     "output_type": "stream",
     "text": [
      " 78%|███████▊  | 38/49 [01:49<00:36,  3.30s/it]\u001b[A"
     ]
    },
    {
     "name": "stdout",
     "output_type": "stream",
     "text": [
      "Content: \n",
      "ㅈㄱㄴ \n",
      "\n",
      "Comment: 그거 김레몬임\n",
      "Comment: 근데 한번씩 넣어본경험없음? - dc App\n"
     ]
    },
    {
     "name": "stderr",
     "output_type": "stream",
     "text": [
      "\n"
     ]
    },
    {
     "name": "stdout",
     "output_type": "stream",
     "text": [
      "Content: \n",
      "중지만한데 이정도면 말다했잖아 ㅇㅈ이잖아- dc official App\n",
      "\n",
      "Comment: ㅇㅈ\n",
      "Comment: ㅅㅂ 찐블랙이노 ㅋㅋ  - dc App\n",
      "Comment: 개쌉인정\n",
      "Comment: 브리딩 좀\n",
      "Comment: 보정 있음?  배경 너무 어두운데\n",
      "Comment: 역변해라 제발  - dc App\n",
      "Comment: 와 누끼따서 지운 것 같네 멋지노\n",
      "Comment: 이건 인정이지 존내멋있네\n"
     ]
    },
    {
     "name": "stderr",
     "output_type": "stream",
     "text": [
      " 82%|████████▏ | 40/49 [01:55<00:26,  2.96s/it]\u001b[A"
     ]
    },
    {
     "name": "stdout",
     "output_type": "stream",
     "text": [
      "Content: \n",
      "파벨 육생+ 물그릇으로 돌려볼까 \n",
      "\n"
     ]
    },
    {
     "name": "stderr",
     "output_type": "stream",
     "text": []
    },
    {
     "name": "stdout",
     "output_type": "stream",
     "text": [
      "Content: \n",
      "편식도 없고 온지 4개월만에 10그램이 늘어버린 돼지ㅋㅋㅋ 처음 내가 전적으로 책임지고 키우는 생물이라 너무 각별하다 오래오래 같이 살고싶다\n",
      "\n",
      "Comment: 잘 먹나봐 통통하네ㅋㅋㅋ 참여확인  - dc App\n",
      "Comment: 커엽노ㅎ ㅊㅊ\n",
      "Comment: 행복해보여\n"
     ]
    },
    {
     "name": "stderr",
     "output_type": "stream",
     "text": []
    },
    {
     "name": "stdout",
     "output_type": "stream",
     "text": [
      "Content: \n",
      "나도신고하면 나도주나?한명만줌?\n",
      "\n",
      "Comment: 주겠냐 우리나라에 마약하는놈이 한두명도 아니고 끽해야 몇십만원 백만원 주고 퉁치겠지\n",
      "Comment: 유통하는 업자를 잡는거면 몰라 마약하는 ㅅㄲ들 대부분이 노동력도없는 골방 폐인 ㄱㅈ새끼들이 태반인데 나라에서 돈을 퍼주겠니\n",
      "Comment: 최대 5억이라던데  - dc App\n"
     ]
    },
    {
     "name": "stderr",
     "output_type": "stream",
     "text": []
    },
    {
     "name": "stdout",
     "output_type": "stream",
     "text": [
      "Content: \n",
      "같이 키우면 육겁이가 달팽이 물어죽임? 아 근데 먹이가 많이 안겹치네\n",
      "\n",
      "Comment: 육겁 육식하는 기사 본 적 있는디  - dc App\n",
      "Comment: 그리스육지거북 서식지가면 그리스가 줏어먹은 껍질만 남은 달팽이들 잇음\n",
      "Comment: 되겠니\n",
      "Content: \n",
      "귀뚤 끊으니 알을 죄다 느네들 면상같이 낳아놔서 먹여야 될거같은데다 자기들은 한번도 병 돈적 없다고 하네.씨가 말랐던데.\n",
      "\n",
      "Comment: 게코스토리 더쥬 나뭇잎마을 귀뚜리 역병 피해서ㄱㅊ을걸\n"
     ]
    },
    {
     "name": "stderr",
     "output_type": "stream",
     "text": []
    },
    {
     "name": "stdout",
     "output_type": "stream",
     "text": [
      "Content: \n",
      "독은 없는거 같아서 잡아다 풀어줬음 독 없는거 맞냐?  - dc official App\n",
      "\n",
      "Comment: 무자치? 독없뱀  - dc App\n",
      "Comment: 누룩뱀\n",
      "Comment: 무자치처럼 색이 선명한게 이쁘네  - dc App\n"
     ]
    },
    {
     "name": "stderr",
     "output_type": "stream",
     "text": [
      "\n"
     ]
    },
    {
     "name": "stdout",
     "output_type": "stream",
     "text": [
      "Content: \n",
      "얘 밀웜 안먹음? 밀웜 있어서 줬더만 딱히 별 반응이 없네  - dc official App\n",
      "\n",
      "Comment: 재패니스게코? 밀웜작은거로 줘봐\n"
     ]
    },
    {
     "name": "stderr",
     "output_type": "stream",
     "text": [
      " 96%|█████████▌| 47/49 [02:14<00:05,  2.73s/it]\u001b[A"
     ]
    },
    {
     "name": "stdout",
     "output_type": "stream",
     "text": [
      "Content: \n",
      " 볼파이톤이나 킹스네이크 생각중인데 괜찮은 샵 있을까? 오늘 샵 방문하고 싶은데 추천좀해줘  - dc official App\n",
      "\n",
      "Comment: ㄴㄹ은 용품만 사고 개체입양은 비추  - dc App\n",
      "Comment: 페뷸 - dc App\n",
      "Comment: 개인입양해라  - dc App\n",
      "Comment: 페뷸미만잡\n"
     ]
    },
    {
     "name": "stderr",
     "output_type": "stream",
     "text": []
    },
    {
     "name": "stdout",
     "output_type": "stream",
     "text": [
      "Content: \n",
      "구글링은 거짓말을 안한다.필로폰(메스암페타민)이고 은어로 아이스라고 함\n",
      "\n",
      "Comment: 저거 pdf따서 사이버수사대에 신고ㄱ  - dc App\n",
      "Comment: 브레이킹 베드에서 본거같이 생겼노 ㅋㅋㅋㅋ\n"
     ]
    },
    {
     "name": "stderr",
     "output_type": "stream",
     "text": [
      "100%|██████████| 49/49 [02:20<00:00,  2.87s/it]\n",
      " 90%|████████▉ | 26/29 [59:19<09:28, 189.37s/it]"
     ]
    },
    {
     "name": "stdout",
     "output_type": "stream",
     "text": [
      "Content: \n",
      "2달전에 데려온 응애 크레임 지금 202030에 키우고 있는데큰 사육장에 비바처럼 꾸며서 이쁘게 키우고 시프다- dc official App\n",
      "\n",
      "Comment: 눈 엄청 땡그랗네참여 확인~~  - dc App\n"
     ]
    },
    {
     "name": "stderr",
     "output_type": "stream",
     "text": []
    },
    {
     "name": "stdout",
     "output_type": "stream",
     "text": [
      "Content: \n",
      "탈출은 지능순이잖아 ㅜㅜㅠ 끝난지가 언젠데 아직도 허우적대고 있어 ㅠㅠ 투자한게 아까워서그래???ㅠㅠ 이미 끝났다고 ㅠㅠ 너도 머리로 알고있잖아ㅠㅜㅜ 이제 놓아줘 ㅠㅜㅜㅜ 키키키키키키키키킼키키키키키키키키키키킼ㅋ\n",
      "\n"
     ]
    },
    {
     "name": "stderr",
     "output_type": "stream",
     "text": []
    },
    {
     "name": "stdout",
     "output_type": "stream",
     "text": [
      "Content: \n",
      "  아직도 크레 등가죽 색이 어쩌구 저쩌구   업자가 어쩌구 저쩌구   서로 wwe 하고 있노 진짜 이 좆병신들 ㄹㅇ 존나 한심하네..   누워봐 기술하나 넣어줄게.. \n",
      "\n",
      "Comment: 또 2년만에 들어와바  - dc App\n",
      "Comment: 크레팔아서 쌀사먹는 쌀숭이!\n",
      "Comment: 2년뒤 와도 똑같음ㅋㅋ  - dc App\n",
      "Comment: 2년동안 눈팅하다 글씀 ㅋㅋㅋ\n",
      "Comment: 그래서 멀쩡한 글좀 보려고 작게나마 이벤트 열었는데 비추와다닥받음 흑흑  - dc App\n",
      "Comment: 개줌마 ㅎㅇ\n",
      "Comment: 언냐 말투라도 좀 바꾸시긔윤\n",
      "Comment: 한잔해~\n"
     ]
    },
    {
     "name": "stderr",
     "output_type": "stream",
     "text": []
    },
    {
     "name": "stdout",
     "output_type": "stream",
     "text": [
      "Content: \n",
      "얘때매 원래 키우던 크레 강제이주당했는데 이벤 사육장에 화트프 몇마리 더 들여서 테라리움 꾸미고 크레는 원래집으로 돌려보내주고싶음 ㅠㅠ 투명사육장이라 화트프 테라리움 꾸미면 잘보이고 이쁠듯..\n",
      "\n",
      "Comment: 화트프 키우면 이쁘겠다잉참여확인~  - dc App\n",
      "Comment: 깔끔하게 생겼네 ㅋㅋ\n",
      "Comment: 당첨 ㅊㅋㅊㅋㅊㅋ오픈채팅 주소 하나만 남겨줘  - dc App\n"
     ]
    },
    {
     "name": "stderr",
     "output_type": "stream",
     "text": []
    },
    {
     "name": "stdout",
     "output_type": "stream",
     "text": [
      "Content: \n",
      "카푸치노란다..\n",
      "\n",
      "Comment: 서로 대립유전자다  - dc App\n",
      "Comment: ㅂㅅ\n",
      "Comment: 카푸치노랑 가격차이도 어차피 없는데 ㅋㅋㅋㅋㅋㅋ 둘다 쌉떡락이라 ㅋㅋㅋㅋ\n",
      "Comment: 대립유전자일 가능성만 있는거 아니냐?  - dc App\n",
      "Comment: 자자 한잔하고\n"
     ]
    },
    {
     "name": "stderr",
     "output_type": "stream",
     "text": []
    },
    {
     "name": "stdout",
     "output_type": "stream",
     "text": [
      "Content: \n",
      "채집꾼들 많겠노  - dc official App\n",
      "\n"
     ]
    },
    {
     "name": "stderr",
     "output_type": "stream",
     "text": []
    },
    {
     "name": "stdout",
     "output_type": "stream",
     "text": [
      "Content: \n",
      " 오늘 경매하는곳도 그렇고 몇일전에 한곳도 그렇고  왜 부모 공개 안하는지 이유가 있는거노????  오늘 경매한곳은  경매조작에 별에별 갖가지 말 많던데  초초는 어캐해칭했누?  - dc official App\n",
      "\n",
      "Comment: 인브리딩이라서?  - dc App\n",
      "Comment: 아키미치 일족 전용이라 그럼\n",
      "Comment: ㄴㄴ 오픈하면 누대 어디인지 알아서 여기저기 초초 나올까봐 그럼\n",
      "Comment: 인브리딩보다 지들 단물빨고 돈먹기 바쁜께 니까지묵으면 쓰나 ㅋ 요것이 가장 클꺼고그리고 정보도 알려주기 싫을뿐더러 초초가 별볼일 없는조합에서 나왔응께 그럴수도 ㅋ 그퀄에 그조합에 돈아깝다 할까봐 ㅋ 한가지 소스뿌리면 트익할 조합에서 나왔다고 어디 유툽방송에서 나오더라 ㅋ\n",
      "Comment: 그 경매샵 문제 많다던데 믿을만한거?\n",
      "Comment: 아 되겠냐고 ㅋㅋ\n",
      "Comment: 그 경매샵 어디임??\n"
     ]
    },
    {
     "name": "stderr",
     "output_type": "stream",
     "text": [
      "\n"
     ]
    },
    {
     "name": "stdout",
     "output_type": "stream",
     "text": [
      "Content: \n",
      "이뱀은 뭔가요?\n",
      "\n",
      "Comment: 화질 구려서 잘 안보이는데 누룩뱀 아닐까  - dc App\n",
      "Comment: 감사합니다♡♡  아들이 궁금해해서\n"
     ]
    },
    {
     "name": "stderr",
     "output_type": "stream",
     "text": [
      " 16%|█▋        | 8/49 [00:22<02:03,  3.02s/it]\u001b[A"
     ]
    },
    {
     "name": "stdout",
     "output_type": "stream",
     "text": [
      "Content: \n",
      "전기세 많이나온다고 하면 50만원 이렇게 나오는줄 알았는데 20~30밖에 안나오는거였어?? 팔루다리움 전기세로 20~30이면 ㄱㅊ은거아냐? 야식 2~3번만 안하면 되네 머​ ​ ​  - dc official App\n",
      "\n",
      "Comment: 몇명이 사는데?\n",
      "Comment: 요즘 날씨면 다들 20은 나오자나~  한잔해~  - dc App\n",
      "Comment: 1인가구에 20~30이면 ㅈㄴ많이나오는거지 에어컨 풀가동해도 그정도 나올까말까한 수준인데 거기에 전기많이먹는 제품들 추가해봐라 누진세는 생각안하냐?\n",
      "Comment: 얼마나 먹길래 야식 한번에 10만원임?\n"
     ]
    },
    {
     "name": "stderr",
     "output_type": "stream",
     "text": []
    },
    {
     "name": "stdout",
     "output_type": "stream",
     "text": [
      "Content: \n",
      "잘은 모르지만 일단 좀 귀여운듯  - dc official App\n",
      "\n",
      "Comment: 도롱뇽인데?\n"
     ]
    },
    {
     "name": "stderr",
     "output_type": "stream",
     "text": [
      "\n"
     ]
    },
    {
     "name": "stdout",
     "output_type": "stream",
     "text": [
      "Content: \n",
      "부모 개짜증나네 진짜 ㅋㅋㅋㅋㅋㅋㅋㅋ내 돈으로 내가 원하는 거 하나도 못 사냐? 24살 재수생이면 뭐 피규어 하나 사면 안 됨? 내 돈으로 내가 산 건데 잔소리 ㅈㄴ 쳐 하네 ㅅㅂ 진짜 ㅋㅋㅋㅋ 가뜩이나 공부 ㅈㄴ 안 돼서 우울한데 총 130만원 좀 넘게 써서(한번에 쓴 것도 아님) 피규어, 갖고 싶은 거 좀 샀다고 ㅈㄴ 뭐라하네 진짜 ㅋㅋㅋㅋㅋㅋㅋ 인생 ㅈ같다 뭐든지 지들 맘이지? 내가 태어나게 해달라고 한 적도 없는데 내가 원한 적도 없는데 태어나게 해놓고 이래라 저래라 그거 해라 이거 하지마라 ㅇㅈㄹ 내가 지들 소유물인가 ㅋㅋㅋ ㅈㄴ 웃긴 게 게임에 현질 한 건 눈에 안 보여서 뭐라 안 함 ㅋㅋ ㅇㅋㅇㅋ 알겠어 이제 피규어 안 사고 게임에 몇백만원 현질 할게 ㅅㅂㅋㅋ 그럼 뭐라 못하지? ㅋㅋㅋㅋㅋㅋㅋㅋㅋㅋㅋㅋㅋㅋ \n",
      "\n",
      "Comment: 당연하지 하라는 공부는 쳐 안하고 돈도 안버는데 피규어에 130 만원 쳐쓰고있으니\n",
      "Comment: 니가 번돈이면 ㅇㅈ 근데 부모님이 준 용돈가지고 피규어 사는거면 싸대기 맞아야됨\n",
      "Comment: 미래가 어두컴컴하네  - dc App\n"
     ]
    },
    {
     "name": "stderr",
     "output_type": "stream",
     "text": [
      " 22%|██▏       | 11/49 [00:31<01:51,  2.93s/it]\u001b[A"
     ]
    },
    {
     "name": "stdout",
     "output_type": "stream",
     "text": [
      "Content: \n",
      "왜 분양이 잘되는거임 얘네 키워서 새끼낳으면 부자되는거 아냐?  - dc official App\n",
      "\n",
      "Comment: 역겹다 진짜 인간스래기ㅅㄲ\n",
      "Comment: 그런애들 새끼 낳기가 쉽겠냐 이 머저리야\n"
     ]
    },
    {
     "name": "stderr",
     "output_type": "stream",
     "text": [
      "\n"
     ]
    },
    {
     "name": "stdout",
     "output_type": "stream",
     "text": [
      "Content: \n",
      "1 이미지 순서 ON2 이미지 순서 ON3 이미지 순서 ON4 이미지 순서 ON5 이미지 순서 ON6 이미지 순서 ON7 이미지 순서 ON8 이미지 순서 ON9 이미지 순서 ON10 이미지 순서 ON11 이미지 순서 ON우리집 크레 자랑글당첨된다면 2마리 합사할 계획입니다!둘다 릴리화이트 베이비입니다 귀엽죠ㅎㅎ 청계천에서 2마리 15만원에 데려옴\n",
      "\n",
      "Comment: 똥퀄은 크레갤로 - dc App\n",
      "Comment: 굿굿 근데 크레 합사해도 되나  - dc App\n",
      "Comment: 사육장 바꿔라  - dc App\n"
     ]
    },
    {
     "name": "stderr",
     "output_type": "stream",
     "text": [
      " 27%|██▋       | 13/49 [00:37<01:46,  2.97s/it]\u001b[A"
     ]
    },
    {
     "name": "stdout",
     "output_type": "stream",
     "text": [
      "Content: \n",
      "도대체 크레는 왜 비싼가에 대해서 질문 받겠습니다정말로 크레가 몇백이상 가야되는가? 참견일순 있겠지만난 내돈주고 안키우지만 찻집이나 행사장만봐도 이게 맞나싶다 님들 생각은?\n",
      "\n",
      "Comment: 집은 왜비싼가?건물은 왜비싼가?차는 왜비싼가?\n",
      "Comment: 님이 정상임\n",
      "Comment: 사람들이 취미인것에 발을 들이면 항상 하이엔드를 찾기 마련임 어찌보면 인간의 본능 아닐까 소속된 곳에서 제일 높은 서열을 차지하기위한 - dc App\n",
      "Comment: 결국 수익이돼야 퀄리티 발전이 있는거고 수요가있으니 공급자가 노력하는거고 들어간 돈이 있으니 가격이 형성되는거지  - dc App\n",
      "Comment: 크레가 최소100이상 하는거도 아니고 돈없으면 퀄리티 타협보고 입양하는거지  - dc App\n",
      "Comment: 그 가격에 데려가려는 사람이 있으니 비싼거겠지. 싼건 싸잖아\n",
      "Comment: 릴리라는 모프가 처음 나오고 수컷 하나 들고 있으면 1년에 50마리 100마리 복사가 되는데 한마리에 100 이상으로 팔림 -> 아잔틱 등장 -> 수정률 극악에 고자 불임 많음 -> 풀린지 몇년 됐는데 아직 안떨어지네(?) + 아잔 브리더들 수정률 쉬쉬함 + 코로나 특수 + 주식 부동산 떡락 -> 버블\n",
      "Comment: 지들돈으로 그돈주고 산다는데 무슨 상관인가 싶다\n",
      "Comment: 그래서 떡락중이잖아 한잔해\n",
      "Comment: 이거 모르는 사람이 있나?  팬데믹때 경기활성화 시킨다고 푼 돈이 다 주식으로 흘러들어가고. 주식은 머리 아프고 자신없는 애들이 무슨 테라?  몬스테라?  식테크 나 크레에 투자했는데 나락간거임10만원에 산거 암놈되면 50만원 된다는데 땅짚고 헤엄치기였지.. 만 문제는 딴놈한테도 너무 쉬웠다는거\n",
      "Comment: 티벳 사자개 혈통강아지 60억이상인데 어떻게 설명할래?\n",
      "Comment: 존나 사는놈이 ㅂㅅ이지 ㅋ 그들만에 리그에 희소성하락 가격폭락이 눈이보이거든 제데로 된 투자자들은 그걸 보고 뭐라 보는줄 아니? ㅂㅅ들이 삽질하는구나 한다 ㅋ\n"
     ]
    },
    {
     "name": "stderr",
     "output_type": "stream",
     "text": []
    },
    {
     "name": "stdout",
     "output_type": "stream",
     "text": [
      "Content: \n",
      "저저번주 토요일부터 저번주 수요일까지 호텔링 맡긴 후 얘가 먹이반응이 예전보다 약하고 똥도 묽어졌는데 스트레스때문에 임시적인건가요..? 이럴때 유산균 먹이면 조금 괜찮아질까요?- dc official App\n",
      "\n",
      "Comment: ㅇㅇ\n"
     ]
    },
    {
     "name": "stderr",
     "output_type": "stream",
     "text": []
    },
    {
     "name": "stdout",
     "output_type": "stream",
     "text": [
      "Content: \n",
      "?  - dc official App\n",
      "\n",
      "Comment: 저렴히(410000)\n",
      "Comment: 애미뒤졌노  - dc App\n",
      "Comment: 달마급으로 점이 많네\n",
      "Comment: 이거보다 더 고퀄 40에 보냈는데ㅜㅡㅜ  - dc App\n"
     ]
    },
    {
     "name": "stderr",
     "output_type": "stream",
     "text": []
    },
    {
     "name": "stdout",
     "output_type": "stream",
     "text": [
      "Content: \n",
      "1. 먹이크레가 충식이 필요없어서 메리트인건 당연히 알꺼고, 레게는 충식 베이스 + 거식이 존나게 많음. 거식 이거 밥 줄때마다 스트레스 이만저만이 아님. 레게 사료 잘 먹는 놈들도 몇주동안 사료만 주면 슬슬 먹이반응 떨어지고 결국 덜 쳐먹어서 살 빠지거나 사료 거부 옴.2. 열원크레 렉사나 레게 렉사나 그게 그거라고 말하면 틀린 말도 아니지만, 처음 시작할때부터 렉사 들여서 10마리 20마리 키우는 종목이 아님. 크레는 한두마리 적재형에 넣어놓고 대충 던져두면 되지만, 레게는 한마리를 키우더라도 기본 셋팅이 필요함.3. 모프와 형질크레는 현재는 모프 위주의 시장이지만 각 모프 안에서도 형질의 발현에 의한 퀄리티의 합의가 잘 이루어지는 편이며 노멀에서도 퀄의 차등이 판단됨. 반면 레게는 형질 쌈싸먹고 모프로 밀고나가며 모프의 콤보가 대부분임. 노멀은 이제 눈 씻고 찾아봐도 없으며 노멀 안에서는 퀄 구분 전혀 불가함. 그나마 몇 모프는 때깔로 고퀄 저퀄을 구별하는데 뽀샵에 뭐에 말도 많고 탈도 많음. 블랙나이트처럼 모프 안에서 어쨋거나 퀄의 차등이 생기는 모프는 인기가 오래가는게 그 증거임. 모프 안에서도 퀄 구분이 가능하고 그 퀄의 차등에 대한 합의가 있어야지만 소유욕도 생기고 수요도 생기기 마련임.\n",
      "\n",
      "Comment: 온도해칭 가능 여부도 있다 들었음ㅇㅇ 암컷이 많으면 그만큼 번식은 압도적으로 쉬워지니..\n",
      "Comment: ㅋㅋ\n",
      "Comment: 레게 좆도 모르는거 같은데ㅋㅋ 요즘 그나마 인기있는게 다크만다린 계열인데 콤보가 대부분이고 노멀 안에서 퀄 구분이 전혀 불가하다니\n",
      "Comment: 크레는 대가리 ㅈㄴ크고 빡통처럼 생기고 원형탈모온거마냥 생겨서 도저히 정이 안가던데; 뭐 너만 좋으면 만족이다만 난 무조건 레게임 ㅋㅋㅋ  - dc App\n",
      "Comment: ㅋㅋㅋㅋㅋ아니 아는척 그만하고 학교공부나 하세요ㅋㅋ 레개 ㅈ도 아는거 없는데 뭘 아는착하면서 설명하냐\n"
     ]
    },
    {
     "name": "stderr",
     "output_type": "stream",
     "text": []
    },
    {
     "name": "stdout",
     "output_type": "stream",
     "text": [
      "Content: \n",
      "1 이미지 순서 ON2 이미지 순서 ON3 이미지 순서 ON아기악어 표본 병사들 귀여워 사고 싶다\n",
      "\n",
      "Comment: 아니 이게 뭐람 ㅋㅋㅋㅋㅋㅋㅋㅋㅋㅋㅋㅋㅋㅋㅋ\n",
      "Comment: 귀여운데?  - dc App\n",
      "Comment: 주소불러\n"
     ]
    },
    {
     "name": "stderr",
     "output_type": "stream",
     "text": []
    },
    {
     "name": "stdout",
     "output_type": "stream",
     "text": [
      "Content: \n",
      "아는형님 크레 많이 모으다 크레가 뭉치더니 크레모아가 되서 터져서 돌아가셨다아직도 그일이 잊혀지지 않는다...니들도 조심해라...\n",
      "\n",
      "Comment: 명심하겠읍니다\n",
      "Comment: 자존심상해 사진만 보고 ㅇㅣ해해버렸어ㅡㅡ  - dc App\n"
     ]
    },
    {
     "name": "stderr",
     "output_type": "stream",
     "text": []
    },
    {
     "name": "stdout",
     "output_type": "stream",
     "text": [
      "Content: \n",
      "렛킹 하자 \n",
      "\n",
      "Comment: 황동 공예품같다 이쁨  - dc App\n",
      "Comment: 애오나동물이 물면 분노조절장애오던데\n",
      "Comment: 줘도 안키움 - dc App\n",
      "Comment: 주면 키우고싶고 안줘도 키우고싶음 - dc App\n",
      "Comment: ㄹㅇ줘도안키우는뱀\n",
      "Comment: 히히 물똥발싸  - dc App\n"
     ]
    },
    {
     "name": "stderr",
     "output_type": "stream",
     "text": []
    },
    {
     "name": "stdout",
     "output_type": "stream",
     "text": [
      "Content: \n",
      "1 이미지 순서 ON포맥스랑 아크릴로 된 햄스터 사육장 개체 이쁘게 키우고 싶은 사람 드림 리키 크레 가골.. 아니면 열원 필요없는 종류면 다 괜찮을듯. 참여방법 1. '이 사육장에 키우고 싶은 개체 자랑글' 올리고 2. 여기 댓글로 자랑글 링크 달기 3. 화요일 자정 마감, 수요일 중으로 랜덤 추첨 4. 당첨자 연락 안되면 재추첨 받으면 이사갈 친구랑 같이 사진 한 장 찍어서 올려줘 내 신경치료가 무사히 진행되길 빌어주면 더 고맙고 주의 * 분해해서 보내는거라 배송중에 휘거나 파손될 수 있음 * 나사 20개만 조립하면 되는데 드라이버 없으면 미리 말하고 * 택배비 내가 냄 2 이미지 순서 ON* 좌측하단: 전기장판 깔았더니 들뜸현상 있음 3t 짜리 아크릴이라 금방 휘더라.. 열원 필요없는 종류로 한정한 이유임 3 이미지 순서 ON중간에 나사 박으면 정상적으로 쓸 수 있을듯함 영 귀찮으면 테이프만 해도 될듯 이외에 큰 하자 없음 4 이미지 순서 ON유목 큰거 넣어도 이쁨 (유목은 팔림) 5 이미지 순서 ON사이즈 확인 참여자 없으면 그냥 분해해서 여과기 만드는데 씀 6 이미지 순서 ON적당한 관심 부탁  - dc official App\n",
      "\n",
      "Comment: 개추 사육장 이쁘다\n",
      "Comment: 레전드네  - dc App\n",
      "Comment: 좀버려라  - dc App\n",
      "Comment: 니엄마\n",
      "Comment: 하고싶어도 너무커서부담스럽다 꾸미는거에 한계가잇을듯\n",
      "Comment: 하우스게코 500마리 키우기 딱이네\n",
      "Comment: 우리집 크레가 좋아하겠다.. - dc App\n",
      "Comment: 참여합니다!! https://m.dcinside.com/board/reptile/811752\n",
      "Comment: https://m.dcinside.com/board/reptile/811766\n",
      "Comment: 참여합니다ㅏhttps://m.dcinside.com/board/reptile/811769 - dc App\n",
      "Comment: https://m.dcinside.com/board/reptile/811770신청해봄니다 - dc App\n",
      "Comment: 오~ 내가 찜해둔 사육장이네!! 지금 당장은 사육장 둘 곳 없어서 이벤트 참여는 못하지만 좋은 사람에게 갔으면 좋겠다.\n",
      "Comment: 딱 방금 크레갤에 자랑글 올리고 이 글 봤는디 그거 링크 걸어도 돼?\n",
      "Comment: ㄴㄴㅊ\n",
      "Comment: 나도 이벤트 참여함 게이 무병장수 기원한다노https://m.dcinside.com/board/reptile/811804 - dc App\n"
     ]
    },
    {
     "name": "stderr",
     "output_type": "stream",
     "text": []
    },
    {
     "name": "stdout",
     "output_type": "stream",
     "text": [
      "Content: \n",
      "spt가 아니라ptsd 온다장애 얻고 싶으면 하던가\n",
      "\n",
      "Comment: 와 참 재밌다\n"
     ]
    },
    {
     "name": "stderr",
     "output_type": "stream",
     "text": []
    },
    {
     "name": "stdout",
     "output_type": "stream",
     "text": [
      "Content: \n",
      "개구리한테 직빵으로 물 뿌리면 안됨?ㅈㄴ 처음 알았네\n",
      "\n"
     ]
    },
    {
     "name": "stderr",
     "output_type": "stream",
     "text": []
    },
    {
     "name": "stdout",
     "output_type": "stream",
     "text": [
      "Content: \n",
      "블뷰렛 키울만함?성체 얼마나 커지려나\n",
      "\n",
      "Comment: 성질 개더러움\n",
      "Comment: 다비추하심\n",
      "Comment: 키울만함 성체는 2미터 넘게 크는거같던데  - dc App\n",
      "Comment: 장점: 이쁨 단점: 까칠함\n",
      "Comment: 성질 개더러움\n",
      "Comment: 성격은 그런데 이쁘긴하드라 시팔.. 예민해서 그런가어둡게 안해주면 밥도 안쳐머금\n",
      "Comment: 테임 금방된다 테임돼면 키우기싶다했는데 조진건가  - dc App\n"
     ]
    },
    {
     "name": "stderr",
     "output_type": "stream",
     "text": []
    },
    {
     "name": "stdout",
     "output_type": "stream",
     "text": [
      "Content: \n",
      "https://youtube.com/shorts/g3rsJlqqfcY?si=ITrSjOMW7BfsTZka 레오파드 게코레오파드 게코youtube.com탈피부전에다 ㅈㄴ말랐네  - dc official App\n",
      "\n"
     ]
    },
    {
     "name": "stderr",
     "output_type": "stream",
     "text": []
    },
    {
     "name": "stdout",
     "output_type": "stream",
     "text": [
      "Content: \n",
      "자기 원하는만큼 가격 안나왔다고 기분 안좋은 티 다 남 ㅋㅋㅋㅋㅋㅋ 충분히 비싸게 나왔던데 뭐가 문제지\n",
      "\n",
      "Comment: ㅋㄹㅇㅌ? - dc App\n",
      "Comment: 장난이지 진지충이노?  - dc App\n"
     ]
    },
    {
     "name": "stderr",
     "output_type": "stream",
     "text": []
    },
    {
     "name": "stdout",
     "output_type": "stream",
     "text": [
      "Content: \n",
      "사실상 헷미구분이 지금 마리당 10만원꼴임근디 이런애들이 지금 일년에 2천마리씩는 나옴 숫은 물론 걸러지겠지만 이중 암컷들 아잔틱이랑 한판뜨면 아잔틱은 쏟아져나옴 실제로 헷미구분들만해도 100-200이엿음 ㅋ 지금 10ㅋ아잔틱? 2천만원에 거래됐음 미구분 지금? 50ㅋㅋ 지금 또 과열되가고있는데 과연 아잔틱이 더 오르는게 빠를까 내리는게 빠를까판단은 너가\n",
      "\n",
      "Comment: 그래서 세이블은 얼만데ㅋㅋㅋㅋㅋㅋㅋㅋㅋ - dc App\n",
      "Comment: 삐약삐약  - dc App\n",
      "Comment: 너 대전사는 급식 맞냐고 - dc App\n",
      "Comment: 지도 뭐가 문제인지 아네 ㅋㅋ세이블--> 그냥 세이블이랑 노말이랑 메이팅하면 끝 세이블 50퍼 확률로 나옴아잔틱-->아잔틱이랑 노말이랑 교배 후 그 후대를 성체까지 키운 후 아잔틱이랑 교배시켜야 함 시발 ㅋㅋㅋㅋㅋ세이블 -->가격 계속 쭈욱~ 쭈욱 하향곡선아잔틱--> 2023 겨울 크레 대폭락 가격= 현재 아잔틱 가격  - dc App\n",
      "Comment: 헷미구분 최저퀄 10만원아잔틱 최저퀄 50만원세이블 최저퀄 16만원판단은 너가\n",
      "Comment: 이야 너 진짜 멍청하다 니가 파양갤 짱 해라 그래 ㅋㅋ - dc App\n"
     ]
    },
    {
     "name": "stderr",
     "output_type": "stream",
     "text": []
    },
    {
     "name": "stdout",
     "output_type": "stream",
     "text": [
      "Content: \n",
      "요즘 암컷 성체 가격이 얼마인지 앎? 8~10이면 떡을 치고도 남음 ㅇㅇ 이런 암컷 성체 10마리 100 투자해서 사오고 세이블 미구분으로 숫 100에 사서 이미 가지고 있다 치자 ㅇㅇ  그럼 총 200 투자지? 근데 달마다 반 반확룰로 세이블 뜨니까  5마리씩 세이블이 나옴 ㅇㅇ  ㅋㅋㅋㅋㅋㅋ 최소 20 최대 40해서 팔아도 달마다 최소 100~400 ㅇㅇ 바로 원금회수 ㅋㅋㅋㅋㅋㅋㅋ  이렇게 될거라고 생각함? 당연히 떨어지지 ㅂㅅ아 spt도 똑같다고 봐야지 이런식으로 얘는 더 심한게 반반 확률도 아니더만 ㅋㅋㅋㅋ 75퍼인가?? 그냥 노말 암컷이랑 메이팅시키기만 해도 되고 ㅋㅋㅋㅋ 이럼 얘네 가격 얼마나 떨어질까 생각이 듬??  한달 회수 될 거 같음? 세상이 쉽지가 않아요 ㅋㅋㅋ 바로 세이블, spt 가격 릴리랑 똑같이 되는 절차를 밟겠지 시발~  미구분 2만원이요~ ㅋㅋ   - dc official App\n",
      "\n",
      "Comment: 들이 아니라 한새끼다ㅋㅋㅋㅋㅋ - dc App\n",
      "Comment: 세이블 저렴히 구해보려하는데 계속 오르는중인디 뭘 알긴함?\n",
      "Comment: 어떤 암컷성체가 8~10만원짜리 퀄리티좀 태그 몇개만 줘봐 ㅋㅋㅋㅋㅋ\n",
      "Comment: 퀄은 옆집 개 줌?요즘 누가 그냥 세이블이기만 하면 데려가냐 퀄싸움을 해야지\n",
      "Comment: 이런애들은 왜 인건비 개념이 없노.고퀄 소수정예 키울라하지 누가 무식하게 싼마이 사서 시간 다 뺏기게 알공장 돌리겠누싼마이 암컷이 팔리는거는 뉴비가 해칭이라도 함해볼라고 찾는거지 고수들은 저퀄암은 그냥줘도 안받음\n"
     ]
    },
    {
     "name": "stderr",
     "output_type": "stream",
     "text": []
    },
    {
     "name": "stdout",
     "output_type": "stream",
     "text": [
      "Content: \n",
      "예전에는 암컷이면 ㅈㄴ게 비쌌는데 ㅋㅋㅋㅋㅋ 지금은 어떰?  - dc official App\n",
      "\n",
      "Comment: 변기퀄 7~10\n",
      "Comment: 샾가면 모니터 먹이로 던져줌\n"
     ]
    },
    {
     "name": "stderr",
     "output_type": "stream",
     "text": []
    },
    {
     "name": "stdout",
     "output_type": "stream",
     "text": [
      "Content: \n",
      "아잔틱 많이 해봐라~\n",
      "\n",
      "Comment: ㅋㅋㅋㅋㅋㅋㅋㅋㅋㅋㅋㅋㅋㅋpt ㅋㅋㅋㅋㅋㅋ\n",
      "Comment: 내가 하면 무적권 성공이고 니가하면 떡락ㅋㅋㅋㅋㅋㅋㅋㅋㅋㅋ애미뒤진 심보가진새끼네ㅋㅋㅋㅋㅋㅋㅋㅋㅋㅋㅋㅋㅋㅋㅋㅋㅋ - dc App\n",
      "Comment: 고생해라\n",
      "Comment: 잘 그리네. 화가 같노\n"
     ]
    },
    {
     "name": "stderr",
     "output_type": "stream",
     "text": []
    },
    {
     "name": "stdout",
     "output_type": "stream",
     "text": [
      "Content: \n",
      "누구인지 맞춰봐\n",
      "\n",
      "Comment: 위에게 국키ㅇㅇ\n"
     ]
    },
    {
     "name": "stderr",
     "output_type": "stream",
     "text": []
    },
    {
     "name": "stdout",
     "output_type": "stream",
     "text": [
      "Content: \n",
      "세이블은 한마리만 있어도되서씹초고퀄 하이엔드 아닌이상값은 당연 존나떨어짐아잔틱보다 당연 훨 싸질수밖에그래도 느그가 원하는 거처럼 십만원 아래론 안떨어진다 ㅋㅋ- dc official App\n",
      "\n",
      "Comment: 어허!!! 세이블이 우세라는데 어딜감히\n",
      "Comment: ㅋㅋ아잔틱 풀매수했노 게이\n"
     ]
    },
    {
     "name": "stderr",
     "output_type": "stream",
     "text": []
    },
    {
     "name": "stdout",
     "output_type": "stream",
     "text": [
      "Content: \n",
      "ㅅㅌㅊ??두마리키운다 암컷- dc official App\n",
      "\n",
      "Comment: 이쁘노 - dc App\n",
      "Comment: 간지난다\n"
     ]
    },
    {
     "name": "stderr",
     "output_type": "stream",
     "text": []
    },
    {
     "name": "stdout",
     "output_type": "stream",
     "text": [
      "Content: \n",
      "인생최대업적이 세이블 하나 사서 올려치기 씨발ㅋㅋㅋㅋㅋㅋㅋㅋㅋ- dc official App\n",
      "\n",
      "Comment: 형 ㄷㅇㄴ 톡방에서 그래도 좀 유명하다 자중해라 이제\n",
      "Comment: 세이블 고퀄은 존나예쁜데\n"
     ]
    },
    {
     "name": "stderr",
     "output_type": "stream",
     "text": []
    },
    {
     "name": "stdout",
     "output_type": "stream",
     "text": [
      "Content: \n",
      "ㅎ\n",
      "\n",
      "Comment: 지들만재밋음\n",
      "Comment: 맘까페\n",
      "Comment: 그래서 ㄴㅌㅇㅈ가 뭔데\n"
     ]
    },
    {
     "name": "stderr",
     "output_type": "stream",
     "text": []
    },
    {
     "name": "stdout",
     "output_type": "stream",
     "text": [
      "Content: \n",
      "얼마나올까? 난1800\n",
      "\n",
      "Comment: 1500\n"
     ]
    },
    {
     "name": "stderr",
     "output_type": "stream",
     "text": []
    },
    {
     "name": "stdout",
     "output_type": "stream",
     "text": [
      "Content: \n",
      "내 레오육겁 30급 쭉빵 암컷인데오늘 와서 핸들링 겸 들었다가 등딱지 꾹 누르니깐 살짝 말랑 거린다는 느낌이 들더라어느정도냐면 집에 같이 서식중인20급 따리는 눌러도 들어가는 느낌이 없는데30급은 꾹 누르면 들어가는 느낌이 듦비타민D인가 뭔가 다써서 풀때기 줄때 안뿌린지 한 2년 언저리 됬거든이제라도 다시 뿌려줘야 하나일광욕은 집에 풀어놔서 지들 알아 하는것 같긴한데옛날에 햇빛이 창문 통과하면 영양가 없는 빛 이라는 썰 들어본것 같은데지금이라도 다시 3 자에 처박고 일광욕 시켜야하냐부디 육겁 쌉고수 현자들아 나한테 지식을 좀 나눠줘\n",
      "\n",
      "Comment: 등갑연화증 맞음 칼슘먹이고 일광욕 ㄱ\n",
      "Comment: 지금 햇빛도좋은데댈꺼 나가라\n",
      "Comment: 갑연화증 ㅈ되노.....야외 일광욕 물 뿌려주면서 1시간 정도 꾸준히 하면서 상태 지켜봐라\n",
      "Comment: 고맙다 니들이 거북이 하나 살렸다\n"
     ]
    },
    {
     "name": "stderr",
     "output_type": "stream",
     "text": []
    },
    {
     "name": "stdout",
     "output_type": "stream",
     "text": [
      "Content: \n",
      "어그로끌더니 일주일째 뭐함  - dc official App\n",
      "\n",
      "Comment: 등짝맞것지\n",
      "Comment: 유미 무덤에서 귀신한테 등짝맞는중인듯\n"
     ]
    },
    {
     "name": "stderr",
     "output_type": "stream",
     "text": [
      "\n"
     ]
    },
    {
     "name": "stdout",
     "output_type": "stream",
     "text": [
      "Content: \n",
      "건실한 뱃살  - dc official App\n",
      "\n",
      "Comment: ㅋㅋㅋㅋㅋ개기엽다\n"
     ]
    },
    {
     "name": "stderr",
     "output_type": "stream",
     "text": [
      " 80%|███████▉  | 39/49 [02:20<00:27,  2.72s/it]\u001b[A"
     ]
    },
    {
     "name": "stdout",
     "output_type": "stream",
     "text": [
      "Content: \n",
      "굳이 성체되면 세이블이랑 비슷한 모프면서열성따위로 만들기도 어렵고 이런 모프를 뭐하러 가는거임? 진짜 궁금해서그럼 고통받는거 좋아하는 변태라그럼? \n",
      "\n",
      "Comment: 부러우면 부럽다고 말해라 게이야ㅠ - dc App\n",
      "Comment: 비슷이 아니라 솔직히 말해서 세이블보다 못생김\n",
      "Comment: 등 하얀거보단 빨간게 포인트 아닌감\n",
      "Comment: 그렇게따지면 크레중에 어릴때 발색유지하는 크레가 어딧음? ㅋㅋㅋ 전부 메이팅 시작하면 발색 개똥되서 브리더들 사진도 안찍는구만 ㅋㅋㅋ 초초는 어릴때 이쁘기라도하지 세이블은 어릴때도 구려 커서도 구려 ㅇㅋ?\n",
      "Comment: 돈때문에 하는거면 제발 근본크레만 해라릴리 트익  - dc App\n"
     ]
    },
    {
     "name": "stderr",
     "output_type": "stream",
     "text": [
      "\n"
     ]
    },
    {
     "name": "stdout",
     "output_type": "stream",
     "text": [
      "Content: \n",
      " 지능 개ㅆㅎㅌㅊ임 \n",
      "\n",
      "Comment: ㄹㅇㅋㅋ\n",
      "Comment: 개추\n"
     ]
    },
    {
     "name": "stderr",
     "output_type": "stream",
     "text": [
      " 84%|████████▎ | 41/49 [02:25<00:20,  2.60s/it]\u001b[A"
     ]
    },
    {
     "name": "stdout",
     "output_type": "stream",
     "text": [
      "Content: \n",
      "행사 갈만한거 있음?  - dc official App\n",
      "\n",
      "Comment: 뭐시기냐 대전에서하는\n",
      "Comment: 양재랑 선주네 강남\n"
     ]
    },
    {
     "name": "stderr",
     "output_type": "stream",
     "text": []
    },
    {
     "name": "stdout",
     "output_type": "stream",
     "text": [
      "Content: \n",
      "1. 비바리움 (이끼,식물 있는 303045)에 게코 못키우나요? 습도문제로 키우기 힘들다 듣긴 한거같은데 게코 모든 종이 안맞나요? 비바에서 키우기 좋은 종 있으면 추천 부탁드려요2. 게코가 다 키우기 힘들다면 대안으로 프록이나 뉴트 키워보려고 하는데 사료 먹는 종이 있을까요? 제가 귀뚤이나 초파리는 좀 어려울거같아서요.. (가족이 벌레극혐)\n",
      "\n",
      "Comment: 모어닝 말곤 없음지금 말하는 조건은 모어닝게코 하나만 키울수있음\n",
      "Comment: 세인트마틴드워프게코\n"
     ]
    },
    {
     "name": "stderr",
     "output_type": "stream",
     "text": []
    },
    {
     "name": "stdout",
     "output_type": "stream",
     "text": [
      "Content: \n",
      "인코딩 거지같은거 안되면 걍 글삭함  - dc official App\n",
      "\n",
      "Comment: 노래도 입혀줘라\n"
     ]
    },
    {
     "name": "stderr",
     "output_type": "stream",
     "text": []
    },
    {
     "name": "stdout",
     "output_type": "stream",
     "text": [
      "Content: \n",
      "대체할수있는 더 저렴한 유리장 잇노?\n",
      "\n"
     ]
    },
    {
     "name": "stderr",
     "output_type": "stream",
     "text": []
    },
    {
     "name": "stdout",
     "output_type": "stream",
     "text": [
      "Content: \n",
      "일반 바닥제 모레 같은거 오줌 싸고 그러면 감당 안될거 같아서- dc official App\n",
      "\n",
      "Comment: 요산으로 싸서 그렇게 안 힘듦.한곳에 모아싸는 특성도 있고입자있는 바닥재는 먹을 위험이 있으니 잘 생각해서 깔어  - dc App\n",
      "Comment: 그냥 키친타월이 젤 나음\n"
     ]
    },
    {
     "name": "stderr",
     "output_type": "stream",
     "text": []
    },
    {
     "name": "stdout",
     "output_type": "stream",
     "text": [
      "Content: \n",
      "액키 3개월된 베이비 데려온지 2주찬데 3일차까지는 뽈뽈거리면서 돌아다니다가 굴 파기 시작하더니 이제 3일에 한 번 나올까 말까 한데 원래 이럼? 사육장은 4자 초광폭이고 바닥재는 세경팜 바닥재+ 엑소테라 모래로 6-7cm 깔아줌. 얘 이렇게 uvb 안 쬐도 되는거임?\n",
      "\n",
      "Comment: 그냥 애가 버로우 ㅈㄴ좋아하는듯울집애는 꼬박꼬박 나오고 잠만 거기서자는데너가 나오는걸 그냥 못본거아님?\n",
      "Comment: 최근 2주간은 재택이라서 집에만 있어서 계속 봤는데 딱 3일에 한 번씩만 나오더라고. 구멍에 먹이가 있던 없던;; 이번에는 나왔는데 먹이 안 먹고 배변만 하고 다시 들어감\n"
     ]
    },
    {
     "name": "stderr",
     "output_type": "stream",
     "text": [
      "\n"
     ]
    },
    {
     "name": "stdout",
     "output_type": "stream",
     "text": [
      "Content: \n",
      "돈없는 학식이라 큰 케이지는 비용적으로 넘 부담임..이것 저것 보다 이거 발견 했는데글루건으로 경첩 박고 고정 빡빡하게 해도 못쓸만 정도려나\n",
      "\n",
      "Comment: 환기는 멀로 시키게\n",
      "Comment: 뭐 키울건데\n",
      "Comment: 지역 어디임나 햄스터용 아크릴 사육장 남는거 있는데이거라도 괜찮으면 가져가셈  - dc App\n"
     ]
    },
    {
     "name": "stderr",
     "output_type": "stream",
     "text": [
      " 98%|█████████▊| 48/49 [02:44<00:02,  2.67s/it]\u001b[A"
     ]
    },
    {
     "name": "stdout",
     "output_type": "stream",
     "text": [
      "Content: \n",
      "너무 돼진가  \n",
      "\n",
      "Comment: 보기 좋구먼\n",
      "Comment: 체형좋은데?\n",
      "Comment: 화덕피자같노\n"
     ]
    },
    {
     "name": "stderr",
     "output_type": "stream",
     "text": [
      "100%|██████████| 49/49 [02:47<00:00,  3.41s/it]\n",
      " 93%|█████████▎| 27/29 [1:02:08<06:06, 183.19s/it]"
     ]
    },
    {
     "name": "stdout",
     "output_type": "stream",
     "text": [
      "Content: \n",
      "일주일전에 부화했는데 탈출해서 포기하고있었는데 세탁기에서 놀고있었노 ㅋㅋ\n",
      "\n",
      "Comment: ㅊㅊ ㅋㅋㅋ\n"
     ]
    },
    {
     "name": "stderr",
     "output_type": "stream",
     "text": []
    },
    {
     "name": "stdout",
     "output_type": "stream",
     "text": [
      "Content: \n",
      "두마리 키우는데 둘다 쿠터종류임. 근데 좀 꽤 키운것 같은데 다른 영상이나 인스타같은데서 보는 애들보다 좀 작은편이어서 그런데 개체따라서 작게 자라는 경우도 있는거?? \n",
      "\n",
      "Comment: 적게먹이면 적게큼\n",
      "Comment: 적게 먹이고 싸구려 uvb 쬐어주면 잘 안큼\n"
     ]
    },
    {
     "name": "stderr",
     "output_type": "stream",
     "text": []
    },
    {
     "name": "stdout",
     "output_type": "stream",
     "text": [
      "Content: \n",
      "1 이미지 순서 ON  신두형 2 이미지 순서 ON  배나윤 3 이미지 순서 ON4 이미지 순서 ON  둘 중에 누가 윤빛가람인지 권도안인지 모르겠다 군캉스 간 사이 역변해서 5 이미지 순서 ON  배나윤 6 이미지 순서 ON  조수아 7 이미지 순서 ON  무당개구리 1군 8 이미지 순서 ON  우리집 최고참 병장 심익현 턱살 성욕주머니 귀여워♡ 9 이미지 순서 ON10 이미지 순서 ON  2군 무당개구리   배나윤과 섹스하는 윤빛가람?권도안?   둘이 다른 종 11 이미지 순서 ON  우리집 최고참 병장 배예린 개인기 12 이미지 순서 ON  투고 김미희 큐티주머니 13 이미지 순서 ON  우리집 최고참 아스필리쿠에타 14 이미지 순서 ON  1군 멤버 중 막내 병장 이과인 15 이미지 순서 ON  코바치치 16 이미지 순서 ON17 이미지 순서 ON18 이미지 순서 ON19 이미지 순서 ON20 이미지 순서 ON일병 털바퀴  우리집 도마뱀 영입순서  2019.06.27~2024.01.14 하사 류수정  2019.07.07~2024.03.20 하사 소윤주  1군  2019.10.19~ 병장 심익현(C)  2019.10.19~ 병장 아스필리쿠에타  2019.10.19~ 병장 배예린(VC)  2020.05.04~ 병장 김미희  2020.06.14~ 병장 코바치치  2020.10.16~ 병장 조수아  2021.07~ 병장 이과인  2023.01~ 일병 털바퀴 2군  2023~ 훈련병 윤빛가람, 권도안, 배나윤 신두형  21 이미지 순서 ON\n",
      "\n",
      "Comment: 병장됬누 ㅊㅊ\n",
      "Comment: 무당 독 괜찮음?\n"
     ]
    },
    {
     "name": "stderr",
     "output_type": "stream",
     "text": []
    },
    {
     "name": "stdout",
     "output_type": "stream",
     "text": [
      "Content: \n",
      "애미 속만 펑펑 터짐\n",
      "\n",
      "Comment: ㅋㅋㅋㅋㅋ ㄹㅇ 암것도 아는거 없음 ㅎㅂ렙타일도 마약 어쩌구하더니 ㅋㅋㅋ 걍 관종\n",
      "Comment: ㅋㅋㅋㅋㅋㅋㅋㄹㅇ\n",
      "Comment: ㅋㅋㅋㅋㅋㅋㅋㅋㅋㅋㅋㅋㅋ   - dc App\n",
      "Comment: 증거물까지 보여줘야 믿을까말까인데 잼민이마냥 지들만아는 유행어로 떠드는거처럼 보임\n",
      "Comment: ㅋㅋㅋㅋㅌㅌㅋㅋㅌㅋㅌ  - dc App\n",
      "Comment: ㅋㅋㅋㅋㅋㅋㅋㅋㅋ관통!\n",
      "Comment: ㅋㅋㅋㅋㅋㅋㅋㅋㅋㅋㅋ웃음싸악 지어지노\n",
      "Comment: ㅋㅋㅋㅋㅋㅋㅋㅋㅋㅋㅋㅋㅋㅋㅋㅋ - dc App\n",
      "Comment: 긁힌 허버파충류 추종자들 비추 ㅈㄴ웃기네 ㅋㅋㅋ\n",
      "Comment: 비추뭐냐 ㅋㅋㅋㅋㅋㅋㅋ\n"
     ]
    },
    {
     "name": "stderr",
     "output_type": "stream",
     "text": []
    },
    {
     "name": "stdout",
     "output_type": "stream",
     "text": [
      "Content: \n",
      "병원안가고 인터넷으로 살 수있는 네블라이저 없을까? 도와줘... 갓난아기 쓰는거 많이 팔던데 그거 써도 됨?\n",
      "\n",
      "Comment: 샤오미 강추. 가성비에다가 성능도 훌륭함. 그걸로 우리 육겁도 폐렴 완치함\n",
      "Comment: 써도 되는데 약재는 어차피 병원가야 되지 않냐\n",
      "Comment: 약은 어케 구하게??  네블라이져가 뭔진 알지?  - dc App\n",
      "Comment: 아 사람쓰는 약재 쓰면 안되는거?\n",
      "Comment: 걍 병원가서 받아라\n"
     ]
    },
    {
     "name": "stderr",
     "output_type": "stream",
     "text": []
    },
    {
     "name": "stdout",
     "output_type": "stream",
     "text": [
      "Content: \n",
      "난 적어도 7~8g되면 대형으로 바꿔줘야할거같은데\n",
      "\n",
      "Comment: 난 10g 되면 대자로 바꿔줌\n",
      "Comment: 난 소에 5~7 소롱에10 그위로는 대\n",
      "Comment: 성체까지 키워라 시발 크레에 인권이 어딨노\n"
     ]
    },
    {
     "name": "stderr",
     "output_type": "stream",
     "text": [
      "\n"
     ]
    },
    {
     "name": "stdout",
     "output_type": "stream",
     "text": [
      "Content: \n",
      "주둥이 특이하게 생김  - dc official App\n",
      "\n",
      "Comment: ㄹㅇ 존나이쁨 내 위시종인데 성격때문에 참는중  - dc App\n"
     ]
    },
    {
     "name": "stderr",
     "output_type": "stream",
     "text": [
      " 14%|█▍        | 7/49 [00:18<01:45,  2.52s/it]\u001b[A"
     ]
    },
    {
     "name": "stdout",
     "output_type": "stream",
     "text": [
      "Content: \n",
      "어제 아버지께 혼나지 않은게 다행이다그리고 파양갤에 쓴글덕분에 자존감도 많이 올라갔다나는 이제 파충류판 시세를 움직이는 남자가 된거야!자신감이 많이 올라갔다확김에 대학생때 차인 첫사랑에게 연락해봤다\"안녕,,, 잘 지내,,,? 나 그 박아무개야,,, 그냥 너 생각해서 연락해봤어,,, 오늘은 답장 해줬으면 좋겠어,,, 나 조만간 취업 할거 같으니 밥 한끼 하자!!! 내가 살께!!!\" 한시간이 지나도 메시지창 옆1이 사라지지 않았다순간 화가 났다\"내가 누군지 모르나... 나 파양갤에서 시세를 움직이는 남잔데 나를 몰라보네\"카톡을 다시 한번 보냈다\",,,?\" 그리고 1시간뒤 답장이 왔다\"미안한데 내가 너랑 왜 밥을 먹어? 너 얼굴보면 토나와 밥 쩝쩝 거리면서 씹을때 너 얼굴에 여드름 터질거 같다 연락하지마 한번 더 연락하면 스토커로 신고한다\"이시발년이 화가 치밀어 올랐다그때 노크 소리가 들린다똑똑\"아들 밥먹어\"역시나 이번에도 가장 만만한 유일한 나의 편인 엄마에게 화를 냈다아버지도 없었다\"아 엄마 분위기 파악 안돼? 내가 지금 밥 먹을 상황으로 보여?\"\"아... 아들 왜 그래? 무슨일 있어?\"엄마에게 물컵을 던지며\"나가라고 내가 밥 차려달라고 할때까지 가만히 있어라 나 진짜 뚜껑 열린다\" 그때 마침 아버지가 들어오신다- 다음화 계속\n",
      "\n",
      "Comment: 얼굴 개토나오네 진짴ㅋㅋㅋ\n",
      "Comment: ㅋㅋㅋㅋㅋㅋㅋㅋㅋ 시발 내 얼굴 봤냐? ㅋㅋㅋㅋㅋㅋㅋㅋㅋㅋ\n",
      "Comment: 일기 몇편까지 쓸거고?\n"
     ]
    },
    {
     "name": "stderr",
     "output_type": "stream",
     "text": []
    },
    {
     "name": "stdout",
     "output_type": "stream",
     "text": [
      "Content: \n",
      "ㅈㄴ 헷갈림\n",
      "\n",
      "Comment: 물겁처럼 3d 위아래로 못 움직이고 그냥 2d로 밖에 못 다니니까 물겁보다 훨씬 커야돼ㅇㅇ 4광~5광 정도 해라\n"
     ]
    },
    {
     "name": "stderr",
     "output_type": "stream",
     "text": []
    },
    {
     "name": "stdout",
     "output_type": "stream",
     "text": [
      "Content: \n",
      "구라쟁이 ㅋㅋㅋ내가 조만간 한번 폭탄 터뜨려줄께그때까지 열심히 벌어놔 ^^어차피 다 토해내야할거닌깐\n",
      "\n",
      "Comment: 누구 ?\n",
      "Comment: 이런새끼들 특  주어 절대 말 안하고 쉐도우복싱\n"
     ]
    },
    {
     "name": "stderr",
     "output_type": "stream",
     "text": []
    },
    {
     "name": "stdout",
     "output_type": "stream",
     "text": [
      "Content: \n",
      "생긴것만 보면 귀여움 압도적인데- dc official App\n",
      "\n",
      "Comment: 뭐든 정도를 넘어서면 언젠가는 기반마저 무너짐크레도 다름 없음 적당히 해먹어야함\n",
      "Comment: 충식?\n",
      "Comment: 크레로 넘어갔어\n"
     ]
    },
    {
     "name": "stderr",
     "output_type": "stream",
     "text": []
    },
    {
     "name": "stdout",
     "output_type": "stream",
     "text": [
      "Content: \n",
      "수위 2cm로 3일, 4cm로 3일 이렇게 2주정도해서수위 10cm됬는데 아직도 물에 들어가는거 거부함그 사이에 허물도 벗었는데 육지에서도 밥안먹고 물에서도 밥안먹고물에 넣으면 난리치면서 올라오는데같이키운 한마리는 일찍이 수생적응 끝났는데이시키 걍 물에 넣어버려? 익사할수도 있나\n",
      "\n"
     ]
    },
    {
     "name": "stderr",
     "output_type": "stream",
     "text": []
    },
    {
     "name": "stdout",
     "output_type": "stream",
     "text": [
      "Content: \n",
      " - dc official App\n",
      "\n",
      "Comment: ㅇㅇ  - dc App\n",
      "Comment: 메추리알은 어떰?  - dc App\n"
     ]
    },
    {
     "name": "stderr",
     "output_type": "stream",
     "text": []
    },
    {
     "name": "stdout",
     "output_type": "stream",
     "text": [
      "Content: \n",
      "제보해야겠다적당히해야지  - dc official App\n",
      "\n"
     ]
    },
    {
     "name": "stderr",
     "output_type": "stream",
     "text": []
    },
    {
     "name": "stdout",
     "output_type": "stream",
     "text": [
      "Content: \n",
      "본인은 한마디도 안하면서 방에서 눈팅중 ㅋㅋㅋㅋㅋㅋ느그매가 고로게 자라라고 교육시켰냐? 음침하노\n",
      "\n"
     ]
    },
    {
     "name": "stderr",
     "output_type": "stream",
     "text": []
    },
    {
     "name": "stdout",
     "output_type": "stream",
     "text": [
      "Content: \n",
      "1 이미지 순서 ON2 이미지 순서 ON3 이미지 순서 ON4 이미지 순서 ON화질 구진건 미안한데  청개구리 닮은종도 있음? 얘 누군지 궁금한데 아는사람  - dc official App\n",
      "\n",
      "Comment: 뒷다리나온 올챙이\n",
      "Comment: 청개굴  - dc App\n"
     ]
    },
    {
     "name": "stderr",
     "output_type": "stream",
     "text": []
    },
    {
     "name": "stdout",
     "output_type": "stream",
     "text": [
      "Content: \n",
      "??\n",
      "\n",
      "Comment: 적금통장 다깨고 사고 싶었던거 다사고 해외여행감\n",
      "Comment: 좋아하던 여자 바로 따먹으러가야지\n",
      "Comment: 개월수에 따라 생보들고 대출 겁라 받아서 호텔가고 맛있는거ㄱㄱㅎ\n",
      "Comment: 강간\n"
     ]
    },
    {
     "name": "stderr",
     "output_type": "stream",
     "text": []
    },
    {
     "name": "stdout",
     "output_type": "stream",
     "text": [
      "Content: \n",
      "그냥 뒤졌구니하고 120짜리 분양받고 키우고있는데 베란다 모기장에서 발견 ㅋㅋ 더 커진듯 이거 생존력뭐노? 베란다 35도까지 올라가는디\n",
      "\n",
      "Comment: 얼마전 나도 한달정도 된거 찾은적있는데 환기가 잘되면 아주 더워도 한동안은 버티는거같아.\n",
      "Comment: ㅊㅋ함 ㅋ\n",
      "Comment: ㅆㅂㅋㅋㅋ 명줄 ㅈㄴ질기네 잘키워라\n",
      "Comment: 찝리꺼 부모 좋더라\n",
      "Comment: ㅊㅊ~ 거봐 내가 찾는다고 해짜나ㅋㅋ\n",
      "Content: \n",
      "평소보다 밥도 잘 안먹고 똥도 잘 안싸고 잠만자고..하품 겁나하고 코에서 방울 한번 생겼다 없어진거 보니 감기나 호흡기같긴한데 원래 호흡기문제있으면 물토도 함? 병원은 죄다 풀이고 집에서 당장 할 수 있는거 뭐있는지 알려줘...매일 온욕하고 온도 33도로 3도 올려줬어\n",
      "\n",
      "Comment: 감기임 병원가서 네뷸 받아와야댐  - dc App\n",
      "Comment: 감기ㅇㅇ\n"
     ]
    },
    {
     "name": "stderr",
     "output_type": "stream",
     "text": []
    },
    {
     "name": "stdout",
     "output_type": "stream",
     "text": [
      "Content: \n",
      "스킨크 키우는중인데 보면 핫존은 32, 전체적으로는 27도 쿨존 22도라는데 그래서 따로 한쪽 구석에 얼음팩 싸서 올려서 23도정도 되있거든 근데 그쪽으로 거의 안감 물 마실때 빼고는 아에 안가는데 필수임? \n",
      "\n"
     ]
    },
    {
     "name": "stderr",
     "output_type": "stream",
     "text": []
    },
    {
     "name": "stdout",
     "output_type": "stream",
     "text": [
      "Content: \n",
      "삼겹살집이 아녓어?? 삼겹살집에서 회식했다고 올라온게아녓네  - dc official App\n",
      "\n",
      "Comment: 뭔 노잼이고\n"
     ]
    },
    {
     "name": "stderr",
     "output_type": "stream",
     "text": []
    },
    {
     "name": "stdout",
     "output_type": "stream",
     "text": [
      "Content: \n",
      "원. 다 재끼고 운영진이 관리를 안함ㅋㅋㅋ투. 급식련이 고인물들 다 나가게함ㅋㅋㅋ쓰뤼. 퍙갤에 귬 저격하는 ㅂㅅ들이 있음ㅋㅋㅋ윤들이 어쩌고 하는데 윤들 입 닫으면 그냥 잠수방 아니노?ㅋㅋㅋ\n",
      "\n",
      "Comment: 니가 떠들면 되겠네\n"
     ]
    },
    {
     "name": "stderr",
     "output_type": "stream",
     "text": []
    },
    {
     "name": "stdout",
     "output_type": "stream",
     "text": [
      "Content: \n",
      "파충류랑 양서류는  항상 겨울여름이문제인거같음히터랑 에어컨같은 온도조절기없이도 심한기온변화에도  잘살아남는 애들추천좀! ㅠ습도도 딱히 안타는애들로그냥 지나지지말구 추천\"해줘.\"잉\n",
      "\n",
      "Comment: 없음\n",
      "Comment: 일단 너부터 그거 안틀고 살 수 있으면 추천해줄게\n",
      "Comment: 렉사있으면 레게  - dc App\n",
      "Comment: 애완돌이나 키워라\n",
      "Comment: 레게나 콜루는 열원만 해놓으면 일반적인 실내 온도로도 될걸겨울에 막 18도로 사는거 아니면\n",
      "Comment: 히터는 왜?? 여름엔 거진 작동 안하고 전기세 많이 먹는것도 아닌데\n"
     ]
    },
    {
     "name": "stderr",
     "output_type": "stream",
     "text": []
    },
    {
     "name": "stdout",
     "output_type": "stream",
     "text": [
      "Content: \n",
      "레드액키 옐로우액키 둘다 밀수했다네 갤러들아조심하자 밀수목록 액키추가다\n",
      "\n",
      "Comment: 신고 ㄱ  - dc App\n"
     ]
    },
    {
     "name": "stderr",
     "output_type": "stream",
     "text": []
    },
    {
     "name": "stdout",
     "output_type": "stream",
     "text": [
      "Content: \n",
      "ㅈㄱㄴ\n",
      "\n",
      "Comment: 점은 그냥 슈달 빼고 다 감가임\n",
      "Comment: 달마 슈달 말고는 다 감가\n"
     ]
    },
    {
     "name": "stderr",
     "output_type": "stream",
     "text": []
    },
    {
     "name": "stdout",
     "output_type": "stream",
     "text": [
      "Content: \n",
      "와트 높을수록 더 좋은거임?\n",
      "\n"
     ]
    },
    {
     "name": "stderr",
     "output_type": "stream",
     "text": []
    },
    {
     "name": "stdout",
     "output_type": "stream",
     "text": [
      "Content: \n",
      "지들이 알아서 잘사는 야생동물인데 ㅋㅋㅋ  - dc official App\n",
      "\n",
      "Comment: ㅆㅂ 고양이 개지랄 울음소리 때문에 노이로제 걸려봐야 저짓거리 안해지 ㄹㅇ 개빡침\n",
      "Comment: 불쌍해\n",
      "Content: \n",
      "1,2번이 현재 사용중인 사육장아래 베란다에 빼놓은게 구매한 사육장입니다.1 이미지 순서 ON2 이미지 순서 ON3 이미지 순서 ON4 이미지 순서 ON5 이미지 순서 ON\n",
      "\n",
      "Comment: 원래 개구리한테서 냄새가 나지는 않아서...이것만 보면 사육장 환기문제 같은데요? 엑소테라같이 위가 전부 뚫려있는게 어떤지\n"
     ]
    },
    {
     "name": "stderr",
     "output_type": "stream",
     "text": []
    },
    {
     "name": "stdout",
     "output_type": "stream",
     "text": [
      "Content: \n",
      "파충류 시장이 대단한줄 알고있음 당장 역주변 분식집이 더 대단한지 모름부러워서 까는줄알고있음 ㅋㅋ인생 최대업적 무시당해서 개빡쳐함  현생을 살아야하는데 맨날 파충류 키우는 사람들끼리만 만나니 시야가 파충류처럼 변함진짜루 우리집에서 라면먹고 갈래보다 파충류 보고 갈래가 먹히는줄암 \n",
      "\n",
      "Comment: 전부 동감하지만 마지막은 아님!그래도 최소한 파충류욕보다는 성욕이 세다\n"
     ]
    },
    {
     "name": "stderr",
     "output_type": "stream",
     "text": [
      "\n"
     ]
    },
    {
     "name": "stdout",
     "output_type": "stream",
     "text": [
      "Content: \n",
      "올 해 딸내미 보여줄 겸 집 앞에서 청개구리 한마리 잡았다가인터넷을 통해서 사육장과 개구리2마리를 추가로 얻어 키우고 있습니다습도 조절에 실패했는지 사육장(이끼 고사리 등)에서 곰팡이가 펴서 과산화수소 등을 이용했지만 소용이 없었어요그래서 여분의 빈 아크릴 사육장에 키친타올 깔고 키우는데요개구리에게서 냄새가 납니다.팔각회향이라고 해야할지 약간 매콤한 흙냄새 같기도 하고 설명하기 좀 어렵네요배설물에서 나는가 싶어 매일 통 세척하고 해도 개구리 자체에서도 나더라구요정수기 물로 살짝 헹궈줘도 소용없고 사육장 판매업체에서도 냄새가 안나는게 정상이라고 하시는데 왜 이런지 아시는 분 계신가요?먹이는 흔적초파리와 밀웜을 먹이다가 요새는 밀웜만 먹이고 있습니다.\n",
      "\n",
      "Comment: 사육장 사진 ㄱㄱ\n",
      "Comment: 정수기는 코웨이가 압도적으로 1등이고 다른데는 고만고만한듯ㅇㅇ그래서 난 걍 코웨이꺼 중에서 제일 잘팔리는 아이콘 정수기로 렌탈 했음http://water.esink.kr/coway 이런 코웨이 전문 견적사이트에서 알아보니까얼음포함하면 월2만원대, 얼음빼면 월1만원대로 가능한듯ㅇㅇ 참고해\n"
     ]
    },
    {
     "name": "stderr",
     "output_type": "stream",
     "text": [
      " 61%|██████    | 30/49 [01:31<01:01,  3.26s/it]\u001b[A"
     ]
    },
    {
     "name": "stdout",
     "output_type": "stream",
     "text": [
      "Content: \n",
      "1. 22년에 인생배팅했다가 ㅈ망해서 접음 2. 학창시절 대형종 비주류키우는게 특별하고 대단한 ㅈ같은 인생에 유일한 자랑거리였는대 ㅈ만한 크레에 밀려서 그냥 싫음 3.개백수로 살면서 유튭보는대 막 수천 수억을 번다고 ㅈㄴ떠서 디시들어와서 알아보니 1, 2번이 ㅈㄴ욕하는거보고 배알꼴렸는대 잘됫다 하면서 같이욕함  - dc official App\n",
      "\n",
      "Comment: 천재누\n"
     ]
    },
    {
     "name": "stderr",
     "output_type": "stream",
     "text": []
    },
    {
     "name": "stdout",
     "output_type": "stream",
     "text": [
      "Content: \n",
      "품절안된곳도 많네..??? 원래 이럼? \n",
      "\n",
      "Comment: 밀수업자가 밀수해서 밀수퍙분양샵에 도매주는거\n",
      "Comment: 번식 쉬워 밀수는 씨발 개좆같응소리\n"
     ]
    },
    {
     "name": "stderr",
     "output_type": "stream",
     "text": []
    },
    {
     "name": "stdout",
     "output_type": "stream",
     "text": [
      "Content: \n",
      "우리부대 생물에 관대해서 어항이 참 많았음 통신반 대대장실 군수과 등등 ㅈㄴ 많아서생활반에도 어항 있는반 있을정도 그래서 상병때 휴가갔다가 돌아올때 레게 알 두개 품고 복귀함검문소 앞 화장실에서 팬티에 넣어서 통과함 (팬티속 알 4개)근데 부화기나 그런게 없어서 어항에 전투식량 발열팩넣고 덮고덮고 온도 안새나가게 해서 적당히 따뜻하게 만듬5일뒤에 부화했고 쭉 어항에 잔가지랑 돌맹이 넣어서 키웠음전역할때 나보다 후임들이 더 좋아해서 두고 나왔음군대라 인증사진 없는건 양해좀- dc official App\n",
      "\n",
      "Comment: 먹이는 뭐잡아줌?\n",
      "Comment: 나는 친한간부가 뚫어줘서 몰래 기름. 후임들 주고 왔는데...  지금은 죽었겠지?  - dc App\n"
     ]
    },
    {
     "name": "stderr",
     "output_type": "stream",
     "text": []
    },
    {
     "name": "stdout",
     "output_type": "stream",
     "text": [
      "Content: \n",
      "연령대 80% 20대 애들이 존나 창업함 창업 이유 : 남 밑에서 일하기 싫어서 남들 경력 쌓는거 병신으로 보고 인생 베팅함결과는 커리어 개박살나서 다른 업계 못 가고 인생 나락행맨날 기웃거리면서 사기 밀수 같은거 하면서 인생 조짐마지막은 부모님한테 기생하는 엔딩인생 최대 업적 20대 사장 월천만원 쉽게벌죠 같은 유튜브 출현 또는 군대랑 파충류 특이한거 키운거만 남음 \n",
      "\n",
      "Comment: 왜 무슨일 있어?  - dc App\n",
      "Comment: 너도 그거라도해...\n",
      "Comment: ㄹㅇ\n",
      "Comment: 창업할 돈은 있고 일침놓는거 맞제?\n",
      "Comment: ㄹㅇ 퍙사x에서 급매 개인분양받고 방송 올리고 ㅈㄴ 되팔더라 ㅋㅋ\n",
      "Comment: 출현 x 출연 o\n",
      "Comment: 젊은 사장 하나 퍙샵 하다 망하고 타이어 판다던데\n"
     ]
    },
    {
     "name": "stderr",
     "output_type": "stream",
     "text": []
    },
    {
     "name": "stdout",
     "output_type": "stream",
     "text": [
      "Content: \n",
      "우리나라 토종 거북이 자라, 남생이 이거 2개 뿐임? 왜 육지거북은 없는걸까 \n",
      "\n",
      "Comment: 옛날에 다 잡아먹혔지  - dc App\n",
      "Comment: 한국에 육지거북이 어캐 사냐 겨울에 다 얼어죽지\n",
      "Comment: 호스필드육지거북 일부는 겨울 온도가 영하 30~40도임. 거기 서식하는 애들은 겨울에 1m밑으로 땅굴파고 들어가서 동면함.\n"
     ]
    },
    {
     "name": "stderr",
     "output_type": "stream",
     "text": []
    },
    {
     "name": "stdout",
     "output_type": "stream",
     "text": [
      "Content: \n",
      "그것은 애기 유혈목이- dc official App\n",
      "\n",
      "Comment: 기엽다  - dc App\n",
      "Comment: 밟아라\n"
     ]
    },
    {
     "name": "stderr",
     "output_type": "stream",
     "text": []
    },
    {
     "name": "stdout",
     "output_type": "stream",
     "text": [
      "Content: \n",
      "아파트 인공 연못에 올챙이들이 생겼는데검색해봐도 어떤 개구리 올챙이인지 모르겠어요딸이 몹시 궁금해 하고 있어요\n",
      "\n",
      "Comment: 팩맨임  - dc App\n",
      "Comment: 청개굴  - dc App\n"
     ]
    },
    {
     "name": "stderr",
     "output_type": "stream",
     "text": []
    },
    {
     "name": "stdout",
     "output_type": "stream",
     "text": [
      "Content: \n",
      "거북이크레이거빼곤 절대없지ㅡㅡ마이너 종목유튜버들이 살린거고크레처럼 온순하고사료에 인간형온도?징그럽게 안생기고?읍자나\n",
      "\n",
      "Comment: 은근슬쩍 거북이 끼는거봐라 ㅋㅋㅋㅋ  - dc App\n",
      "Comment: 대세는 아니지만 테라핀도 돈이 꽤 된다  - dc App\n",
      "Comment: 거북이가 어딜 끼냐  - dc App\n",
      "Comment: 거북이 하는 놈이네\n",
      "Comment: 유투버가 살렸단다 ㅅㅂㅋㅋ\n"
     ]
    },
    {
     "name": "stderr",
     "output_type": "stream",
     "text": []
    },
    {
     "name": "stdout",
     "output_type": "stream",
     "text": [
      "Content: \n",
      "마지막 산란때 50그램까지 빠졌는데 이젠 알 안낳아서 68그램까지 찜  - dc official App\n",
      "\n"
     ]
    },
    {
     "name": "stderr",
     "output_type": "stream",
     "text": []
    },
    {
     "name": "stdout",
     "output_type": "stream",
     "text": [
      "Content: \n",
      "손가락 한마디 보다도 작은데 그냥두면 햇빛에 말라죽을거같아서 일단 데려옴. 풀밭에 놔줄예정.\n",
      "\n"
     ]
    },
    {
     "name": "stderr",
     "output_type": "stream",
     "text": []
    },
    {
     "name": "stdout",
     "output_type": "stream",
     "text": [
      "Content: \n",
      "어서 분양받음?- dc official App\n",
      "\n",
      "Comment: 이번에 토마시 나왔던데?\n"
     ]
    },
    {
     "name": "stderr",
     "output_type": "stream",
     "text": []
    },
    {
     "name": "stdout",
     "output_type": "stream",
     "text": [
      "Content: \n",
      "안아줘요\n",
      "\n"
     ]
    },
    {
     "name": "stderr",
     "output_type": "stream",
     "text": []
    },
    {
     "name": "stdout",
     "output_type": "stream",
     "text": [
      "Content: \n",
      "사육장 청소하면서 칩시엑스트라 세면대로 좀 드갔는데 물 안내랴간다 어카냐 좀 도와줘 제발 ㅠㅠ  - dc official App\n",
      "\n",
      "Comment: 119전화해서 동물꼈다해\n",
      "Comment: 와서 뚫어줌\n",
      "Comment: 무식한방법은 그냥 물 양동이나 대야같은데 받아서 존나 부어넣는거고, 더러운방법은 철사 옷걸이같은거 쫙 펴서 그 안에 집어넣고 쑤셔서 내려보내는거, 더욱 더러운 방법은 세면대 파이프를 분리해서 뜯어낸다음에 그 안을 청소하는건데.. 세면대 파이프를 분리하면 굉장한 것들을 보게 될거야\n",
      "Comment: 관리소에서 몽키스패너 두개 빌려서 열고 꺼내\n"
     ]
    },
    {
     "name": "stderr",
     "output_type": "stream",
     "text": []
    },
    {
     "name": "stdout",
     "output_type": "stream",
     "text": [
      "Content: \n",
      "잘생긷놈들은 이판에 안 들어왔으면 좋겠는데 시발롬들아제발 딴데 가서 인싸놀이 해라 ㅅ1..ㅂ..진심 천따리부터 봐오던 여자유튜버 있는데다른 파충류판 젊은 유튜버 만날까봐 불안함그냥 좀 생긴 사장도 포함 ㅇㅇ 하지마라 시발 건들지마라 내꺼다진심으로 난 얘 보려고 입장료 꼬박꼬박 내고 행사장도 가는데요즘 좀 생긴 애들이 파충류판에 유입돼서 불안하다 십발\n",
      "\n",
      "Comment: 그래서 누구?\n",
      "Comment: 세비가 왜  - dc App\n",
      "Comment: 개찐따새끼ㅋㅋ\n",
      "Comment: ㅋㅋㅋㅋ너같이 존못만 있으면 짜증나서라도 여자들 다 나갈거같은데ㅋㅋㅋ 심지어 유입도 안됨ㅠㅋ 그냥 니가 퀄업을 해라 게이야ㅎ\n",
      "Comment: 퍙키우는 여자 정상없다ㅋㅋ\n",
      "Comment: ㅅㅂ꺼야 말하는거임?\n",
      "Comment: 진짜 한남충마냥 개음침하네 ㅋㅋ\n",
      "Comment: 이런 음침한 좆병신들떄문에 이쪽판애들 인식이 병신되는거임ㅉㅉ 씨발 걍 해오던 애니피규어나 모아 좆병신아 헛짓거리 앵간히하고\n",
      "Comment: 여자유튜버 예쁜애가 있나? 그정도면 걍 고백해라\n",
      "Comment: 고백공격\n",
      "Comment: 퍙키우는여자들 퍙유투브하는여자들 영상보니까 개못생겼던데전부ㅋㅋ못생긴얼굴에 졸라꾸며놓고 유투브찍드라ㅋㅋ\n",
      "Comment: 너 눈 너무낮음;;\n"
     ]
    },
    {
     "name": "stderr",
     "output_type": "stream",
     "text": []
    },
    {
     "name": "stdout",
     "output_type": "stream",
     "text": [
      "Content: \n",
      "ㅇㅇ \n",
      "\n",
      "Comment: 내가 구하고있단 얘기임 댓 달아라\n",
      "Comment: 분양 완료 감사합니다 ^~^\n",
      "Comment: 20에 도매 보냈읍니다~~  - dc App\n",
      "Comment: 523마리 매입완료! - dc App\n",
      "Comment: 미쳤다고?ㅎ 수출을 보내지ㅋㅋ\n"
     ]
    },
    {
     "name": "stderr",
     "output_type": "stream",
     "text": []
    },
    {
     "name": "stdout",
     "output_type": "stream",
     "text": [
      "Content: \n",
      "좀 많이 구매해야하는데 도매나 저렴하게 구하는 법 아는 사람?\n",
      "\n",
      "Comment: 나도 구해볼려고 했는데 사업자 없어서 도매가로는 못준다던데 최소주문 가격도 100개인가 그렇더라\n",
      "Comment: 몇개  - dc App\n",
      "Comment: 바보임?테무 알리에서 사업자들도 그렇게 사서 되파는거임 물론 되파는거 불법이지만 밥먹고 밀수사기만 하는업자들이 그런거 신경쓸리없지ㅇㅇ\n",
      "Comment: 테무가 도매야 바보야\n"
     ]
    },
    {
     "name": "stderr",
     "output_type": "stream",
     "text": []
    },
    {
     "name": "stdout",
     "output_type": "stream",
     "text": [
      "Content: \n",
      "1. 영원히 크레다2. 뉴칼종 안에서 논다 3. 시장이 망한다당신들의 선택은?\n",
      "\n",
      "Comment: 3\n",
      "Comment: 1  - dc App\n",
      "Comment: 한 30년 지나면 뭐가좀 바뀔듯?  - dc App\n",
      "Comment: 레게붐은 돌아온다 - dc App\n",
      "Comment: 사타닉\n",
      "Comment: 콜루붐은 온다\n",
      "Comment: 다음종 찾지말고 다음 모프를 찾아라\n"
     ]
    },
    {
     "name": "stderr",
     "output_type": "stream",
     "text": []
    },
    {
     "name": "stdout",
     "output_type": "stream",
     "text": [
      "Content: \n",
      "모르겠고 오늘 볼파 첫 피딩 성공해서 기분째짐ㅎㅎㅎㅎㅎㅎㅎ\n",
      "\n",
      "Comment: 추카해\n",
      "Comment: ㅊㅊ 뱀도 환영임\n",
      "Comment: 추카해\n"
     ]
    },
    {
     "name": "stderr",
     "output_type": "stream",
     "text": []
    },
    {
     "name": "stdout",
     "output_type": "stream",
     "text": [
      "Content: \n",
      "\n",
      "\n",
      "Comment: 민물 대형 부럽\n"
     ]
    },
    {
     "name": "stderr",
     "output_type": "stream",
     "text": [
      "100%|██████████| 49/49 [02:27<00:00,  3.01s/it]\n",
      " 97%|█████████▋| 28/29 [1:04:37<02:53, 173.01s/it]"
     ]
    },
    {
     "name": "stdout",
     "output_type": "stream",
     "text": [
      "Content: \n",
      "설명좀 해주셈..\n",
      "\n",
      "Comment: 머리무늬\n",
      "Comment: 무늬패턴\n"
     ]
    },
    {
     "name": "stderr",
     "output_type": "stream",
     "text": []
    },
    {
     "name": "stdout",
     "output_type": "stream",
     "text": [
      "Content: \n",
      "180 숫 저거 가져올까싶은데 이제서야 프랖들어가는건 오반가?릴세 300이상하는거보고 멈칫함..\n",
      "\n",
      "Comment: 그거 이미 예약됨\n",
      "Comment: 아 진짜?? 이쁘긴하지 ㅠ\n",
      "Comment: 걔를 왜 데려가냐고 대체프랍 숫이 의미가 없다니까??\n",
      "Comment: ㅋㅋㅋ 개지랄들을 떤다 진짜 - dc App\n",
      "Comment: 요즘 프랍숫은 갠취 아니면 ㄹㅇ 에바지.. 숫세 가야ㅇㅇ\n",
      "Comment: 댓글들 지들은 못사서 부러워서 저러는거다 - dc App\n",
      "Comment: 단순히 이뻐서 사는거면 안말리는데투자용으론 하지마라 세이블, 릴세도 하지말고\n"
     ]
    },
    {
     "name": "stderr",
     "output_type": "stream",
     "text": []
    },
    {
     "name": "stdout",
     "output_type": "stream",
     "text": [
      "Content: \n",
      "개기르고싶다\n",
      "\n",
      "Comment: ㅇㅈ\n"
     ]
    },
    {
     "name": "stderr",
     "output_type": "stream",
     "text": []
    },
    {
     "name": "stdout",
     "output_type": "stream",
     "text": [
      "Content: \n",
      "부모님이 제대로 관리할거같진 않은데 어디 맡겨야함?\n",
      "\n",
      "Comment: 샵 찾아가서 친해져라  - dc App\n",
      "Comment: 저렴하게 매각하는 방법말곤 없음 다른사람이 못키워주잖슴 ㅋㅋ\n",
      "Comment: 근처에 지인 브리더 없음?? 없으면 파는 수밖에\n",
      "Comment: 팔거나 지인한테 위탁하거나\n",
      "Comment: 동반입대\n",
      "Comment: 지인한테 부탁 했다가 지인이 도저희 안되겠다 해서 분양 하라 하고 돈은 넘김\n",
      "Comment: 분양해야지  - dc App\n",
      "Comment: 걍 밟아죽여\n",
      "Comment: 이런건 입양할때 생각했어야지\n",
      "Comment: 군대를 제껴야지 무슨수를 쓰더라도\n"
     ]
    },
    {
     "name": "stderr",
     "output_type": "stream",
     "text": [
      "\n"
     ]
    },
    {
     "name": "stdout",
     "output_type": "stream",
     "text": [
      "Content: \n",
      "얜 분양가 250정도 해서 비벼볼만하던데 멕시칸혼리자드 사육 힘듬??\n",
      "\n",
      "Comment: 돈모아서 선게이저 사라 다른거 사면 결국 나중에 선게이저도 삼\n",
      "Comment: 이샠 거미산 계속 먹어야될걸?\n",
      "Comment: 이거 그 눈에서 피나오는 애 아닌가\n"
     ]
    },
    {
     "name": "stderr",
     "output_type": "stream",
     "text": [
      " 10%|█         | 5/49 [02:53<12:05, 16.48s/it]\u001b[A\n"
     ]
    },
    {
     "name": "stdout",
     "output_type": "stream",
     "text": [
      "Content: \n",
      "햄버거 먹다가 유기견 발견해서 잡아다가 풀어줫다\n",
      "\n"
     ]
    },
    {
     "name": "stderr",
     "output_type": "stream",
     "text": [
      " 12%|█▏        | 6/49 [02:55<08:21, 11.67s/it]\u001b[A"
     ]
    },
    {
     "name": "stdout",
     "output_type": "stream",
     "text": [
      "Content: \n",
      "보면 패턴리스라곤 하는데 팬텀 형질인거같진 않아서 그럼 팬텀 가진 애랑 패턴 있는 차콜이랑 교배 시켜서 팬텀 차콜 만드는게 낫지 않냐\n",
      "\n",
      "Comment: 차콜이 팬텀 하위 개념 아님?\n",
      "Comment: 챠콜이 팬텀이다 다크벅\n",
      "Comment: 팬텀 아니면 차콜 아니지 않나?  - dc App\n",
      "Comment: 다크벅도 팬텀이고 차콜도 팬텀임.\n",
      "Comment: 팬텀=패턴리스=다크벅 말장난좀 그만허자\n",
      "Comment: 이거 ㅇㅇㅌ가 개소리 해서 퍼진거지ㅋㅋ 내가 알티에 디엠 넣어서 차콜이면 팬텀이어야 하냐고 물어봤는데, 아니라던데? 차콜 = 팬텀 완전 개쌉소리지ㅎ\n",
      "Comment: 팬텀도 패턴 패턴리스 가지각색임  - dc App\n",
      "Comment: 팬텀이 등과 옆구리 색감이 같거나 비슷하면 팬텀임 팬텀이아닌 차콜은 다크플레임,다크할리퀸임\n",
      "Comment: 흔히말하는 차콜은 색감을 칭하는거고팬텀은 유전적 형질이다고로 우리가 알고있는 챠콜 또한다 팬텀유전이있어야 만들어지는것\n"
     ]
    },
    {
     "name": "stderr",
     "output_type": "stream",
     "text": []
    },
    {
     "name": "stdout",
     "output_type": "stream",
     "text": [
      "Content: \n",
      "https://youtu.be/XJ6KXmTGJGk위 영상 2분 50초에 벽에 붙이는 유목들 종류가 뭐임?\n",
      "\n"
     ]
    },
    {
     "name": "stderr",
     "output_type": "stream",
     "text": []
    },
    {
     "name": "stdout",
     "output_type": "stream",
     "text": [
      "Content: \n",
      "왼쪽 놈은 7-8개월 정도됐고오른쪽(동그라미친 오른쪽)놈은 10개월 좀 넘었는데왼쪽 녀석이 덩치도 얼굴 크기도 훨 커서 왼-수, 암-우라고 생각하고 있었거든근데 오른쪽놈 배옆쪽 라인 보면 또 진한 노란색이 보여서(사진 참고)수컷 같기도 하고.. 픽시 잘 아는 갤러 있으면 좀 알려줘~\n",
      "\n",
      "Comment: 암 - dc App\n",
      "Comment: 몸통대비 대가리가 암컷이네\n"
     ]
    },
    {
     "name": "stderr",
     "output_type": "stream",
     "text": []
    },
    {
     "name": "stdout",
     "output_type": "stream",
     "text": [
      "Content: \n",
      "뚜껑은 루바망대신 양파망했는데괜찮겠지요??근데 바닥재 코코피트 깔았는데개구락지가 싫어하고 그런건 아닐까요?벌써 코코피트 범벅이됐던데..\n",
      "\n",
      "Comment: 작은 개구리한텐 코코 깔지마 피부에 다 붙어서 안됨\n",
      "Comment: 키친타울 축축하게 해라 그리고 그냥 곤충통 특대 하나 사\n",
      "Comment: 트리프록은 코코피트 쓸거면 루바망을 사육장 사이즈로 잘라서 위에 깔아줘야됨\n"
     ]
    },
    {
     "name": "stderr",
     "output_type": "stream",
     "text": []
    },
    {
     "name": "stdout",
     "output_type": "stream",
     "text": [
      "Content: \n",
      "- dc official App\n",
      "\n",
      "Comment: 니가 뭔 상관인데\n",
      "Comment: 샵하다보면 컨설팅해달라는사람 존나많이옴 ㅋㅋㅋㅋ 그런사람들 물어서 존나하는거지\n",
      "Comment: 개많음 ㅋㅋㅋ 내 주변인도 샵갔더만 얼마있냐 대뜸 물어보고 대출받아오라고 했다함 ㅋㅋㅋ\n"
     ]
    },
    {
     "name": "stderr",
     "output_type": "stream",
     "text": []
    },
    {
     "name": "stdout",
     "output_type": "stream",
     "text": [
      "Content: \n",
      "ㅈㄴ 이쁘긴하네 이런 건 가격 얼마?  - dc official App\n",
      "\n",
      "Comment: 이쁘긴 하네, 잘 찾아보면 싼거도 잇음ㅇㅇ 많진 않을거임\n",
      "Comment: 1000만  - dc App\n",
      "Comment: 이거 씨분양합니다 머리가 회색이면 퓨화입니다 하던 놈 거잖아  - dc App\n",
      "Comment: 하이포 섞여서 퓨화로 나온듯\n"
     ]
    },
    {
     "name": "stderr",
     "output_type": "stream",
     "text": []
    },
    {
     "name": "stdout",
     "output_type": "stream",
     "text": [
      "Content: \n",
      "눈 광택으로 판단하기엔 각도 나름인거같은데\n",
      "\n"
     ]
    },
    {
     "name": "stderr",
     "output_type": "stream",
     "text": []
    },
    {
     "name": "stdout",
     "output_type": "stream",
     "text": [
      "Content: \n",
      "커먼머스크 1마리 키우고 있고 어항 사이즈는 2자 광폭 로우 604535 에서 키우고 있어.여과기는 외부여과기 한대 쓰고있어조명은 스팟조명 하나 가지고 있는데 평소에 잘 안 올라오길래 잘 켜주진 않는 편어항 뚜껑 달아주고 나서 육지에 올라와서 자는데 괜찮은걸까이전에는 히터기나 여과기나 어디 매달려서 자다가 이제 육지 올라와서 자고있어\n",
      "\n",
      "Comment: ㄱㅊ\n"
     ]
    },
    {
     "name": "stderr",
     "output_type": "stream",
     "text": []
    },
    {
     "name": "stdout",
     "output_type": "stream",
     "text": [
      "Content: \n",
      "거의 무슨 절대방어임손님 딱 그정도로만 취급 하는듯 귀뚜라미랑 용품 사러 그래도 거기만 가는데가서 말도 겁나 걸고 하는데 뭔가 거리가 안가까워져오히려 오래있으면 불편함그래서 사장님은 친하게 지내는 파충류 키우시는분들 있냐니까자기는 주변 동종업계 사장들하고도 안친하고 친한사람 한명도 없다네 ㅋㅋㅋ자기는 친목질 하는거 싫어한다고사업하면서 돈에 얽혀 만난 사람은 고객 그이상은 될수없다고선을 그어두고 지낸다는데뚫을 방법 없을까 ?\n",
      "\n",
      "Comment: 너가 만약 회사다니는데 거래처 직원이 일때문에 너네회사 왔다가 계속 친해지려고 말걸고 하면 좋음?? 밀린 일이 산더민데?? 거기는 그사람 직장이야 친해지고싶으면 끝나시고 맥주한잔 어떠세요 하던가 해라\n",
      "Comment: 거기서 일하면 된다\n",
      "Comment: 이놈은 똑같은 질문 또 올리네 진짜 사회생활 안해 본 놈인가?ㅋㅋ\n",
      "Comment: 이미 진상이라 생각하고잇을듯\n",
      "Comment: 커피 사가라 아아말고 바닐라 라떼로  - dc App\n",
      "Comment: 이미 진상임\n",
      "Comment: 그냥 포기해야겠다\n",
      "Comment: 아니ㅋㅋㅋ 파샵 사장이랑은 왜 친해지고싶은건데?\n",
      "Comment: 월매출 300정도써주면 자연스럽게 친해짐\n",
      "Comment: 당연히 돈 쓰면 친해지지\n",
      "Comment: vip가 되면 먼저 말검\n",
      "Comment: 자주간다고 과연 친목질이되냐?너는 고객 그이상은단골고객  그이하도아님 컨설팅같은 병신같은거받아도 고객임친목하는방법은 너가능력있는 고객,파충류계의 영향력있는 사람이되는거임  - dc App\n",
      "Comment: 그냥 그런 사람인데 뚫긴 뭘 어떻게 뚫냐\n",
      "Comment: 솔직히 말하면 친해지면 귀뚜라미 정도라도 공짜로 주고 그런다길래 ㅋㅋㅋ\n",
      "Comment: ㅋㅋㅋㅋㅋㅋㅋㅋㅋㅋㅋㅋ ㅅㅂ 나 파샵에서 일하는데 그거 티 안날거같냐? 존나 남 ㅋㅋㅋㅋㅋㅋㅋㅋㅋㅋ ㅅㅂ ㅋㅋㅋㅋㅋ 알아서 너랑은 안친해지는거고 다른 친한 손님들은 다 귀뚜라미 공짜로줌 ㅅㅂ ㅋㅋㅋㅋㅋ 개웃기면서 머리속으로 손님 한 열명정도 스쳐지나감 ㅅㅂ ㅋㅋㅋㅋ 얘들아 이게 파샵 현실이다.\n"
     ]
    },
    {
     "name": "stderr",
     "output_type": "stream",
     "text": []
    },
    {
     "name": "stdout",
     "output_type": "stream",
     "text": [
      "Content: \n",
      "1 이미지 순서 ON2 이미지 순서 ON3 이미지 순서 ON4 이미지 순서 ON5 이미지 순서 ON6 이미지 순서 ON7 이미지 순서 ON8 이미지 순서 ON9 이미지 순서 ON10 이미지 순서 ON11 이미지 순서 ON12 이미지 순서 ON13 이미지 순서 ON14 이미지 순서 ON15 이미지 순서 ON\n",
      "\n",
      "Comment: 와 공룡직찍\n"
     ]
    },
    {
     "name": "stderr",
     "output_type": "stream",
     "text": []
    },
    {
     "name": "stdout",
     "output_type": "stream",
     "text": [
      "Content: \n",
      "군대에서 정신병 생긴 상태로 전역함(현부심 안함)  ㅈ방 살다가 서울로 상경함(걍 혼자살고 싶었음)  가자마자 vr, 반신 리얼돌 사서 매일 5딸 중  군적금으로 산돈 낭비하면서 앰생 마냥 살아감  병신같은 취미 생겨서 애완도마뱀에 100만원씀 밥 안쳐먹고 딸만쳐대서 104kg 였는데 78키로 댐  취향도 ㅈ 병신이라 디시, 아카라이브 돌아니면서 근친물만 ㅈㄴ 찾아댐  티비에 나오는 사회적 문제라고 씨부려대는 그 개ㅈ병신 앰생이 나임  \n",
      "\n",
      "Comment: 살 뺐잖아 한잔해~\n",
      "Comment: 진짜 앰생 탈출하고 싶으면 일단 방에서 나가라동네 도서관 가서 앉아 있으셈  공부는 안해도 되니까 가서 식객을 보든 폰을 보든 밖에 나가서 앉아만 있다가 들어오셈\n",
      "Comment: 확실히 아무것도 안해도 나갔다 오는거 부터 시작하는게 좋음..조금씩 작은것부터 바꿔나가야지 난 가끔 자전거 1시간 정도 타고 오는데 이것도 괜찮다ㅇㅇ\n",
      "Comment: 일단 뛰어봐요\n"
     ]
    },
    {
     "name": "stderr",
     "output_type": "stream",
     "text": []
    },
    {
     "name": "stdout",
     "output_type": "stream",
     "text": [
      "Content: \n",
      "개미 넣줬는데 안먹음\n",
      "\n",
      "Comment: 맞음 근데 너무 피부가 말라보이고 먹일거면 인터넷에 작은흔적날개초파리 사서 톡톡 쳐서 사육통에 떨어트려서 줘라\n",
      "Comment: 분무 좀 많이 개구리한테 해줘라\n"
     ]
    },
    {
     "name": "stderr",
     "output_type": "stream",
     "text": [
      "\n"
     ]
    },
    {
     "name": "stdout",
     "output_type": "stream",
     "text": [
      "Content: \n",
      "크레버디나 꼰정 말고 유명한곳 없나?지역 상관없음 개체이쁘면 전국 다갈생각\n",
      "\n",
      "Comment: 새끼도 괜찮으면 내거사가요.   - dc App\n"
     ]
    },
    {
     "name": "stderr",
     "output_type": "stream",
     "text": [
      " 39%|███▉      | 19/49 [03:40<01:29,  2.98s/it]\u001b[A"
     ]
    },
    {
     "name": "stdout",
     "output_type": "stream",
     "text": [
      "Content: \n",
      "사람들이 분양 많이해가냐??  아님 비싸서 분양 잘 안함?  뭔가 존나 오래동안 알 관리하다가 15개월만에 부화하면 존나뿌듯할거 같아서 키워보고싶은데   - dc official App\n",
      "\n",
      "Comment: 카멜레온 = 비주류 파슨= 존나비쌈 수요가 많이 한정적이긴한데 싸게 팔면 잘팔리겠지뭐 근데 난 가정집에서 알 15개월동안 관리할 자신이없다\n",
      "Comment: 겠냐고 ㅎ 씹비주류에 몇백태우기가 쉽나?아 그리고 낭만이란 단어로 포장하지마라업자들은 결국안팔리믄 악성재고일뿐이다\n",
      "Comment: 쉽게 돈 버는거였으면 분양시장에 나오지도 않았다.원래 돈되는건 남 안줌\n",
      "Comment: 일단 번식이 힘듬 국내 사육자도 별로없고 데이터있고 cb번식사례는 노재님 밖에 없는걸로 암 그리고 알 부화기간도 거의 2년임 파슨은 카멜레온 키우는사람들은 다 키워보고 싶어하는 약간 로망종인데 분양가가 진짜 조낸게 비싸서 엄두를 못냄윗댓말대로 싸게만 분양하면 호다닥갈거임\n"
     ]
    },
    {
     "name": "stderr",
     "output_type": "stream",
     "text": []
    },
    {
     "name": "stdout",
     "output_type": "stream",
     "text": [
      "Content: \n",
      "ㅈㄴ정성들여서 한마리씩 낳는 그런 종 없음?\n",
      "\n",
      "Comment: 인간\n",
      "Comment: 그렇게 정성들여서 한마리씩 키우면 파충류는 진작에 멸종하지않았을까\n",
      "Comment: 포유류밖에없지산란종은 x  - dc App\n",
      "Comment: 에놀이 한번에 알 한개씩 까고 도주\n",
      "Comment: 거들테일 새끼 낳음\n",
      "Comment: 1년에 한 번 번식하고 1~2마리 새끼낳고 ㅇㅇ\n",
      "Comment: 썬게이저 같은 난태생 애들은 새끼 낳는 수가 적음. 썬게이저는 2~3년에 1~2마리 낳는 걸로 암\n",
      "Comment: 싱글백\n",
      "Comment: 코끼리\n",
      "Comment: 싱글백이 대표적\n",
      "Comment: 깃지, 거들테일 싱글백\n",
      "Comment: 몽키  - dc App\n",
      "Comment: 조센징\n"
     ]
    },
    {
     "name": "stderr",
     "output_type": "stream",
     "text": []
    },
    {
     "name": "stdout",
     "output_type": "stream",
     "text": [
      "Content: \n",
      "한달전에 우파루파 입양하고 잠잠했는데 왜케 수생뉴트가 땡기지... 라오스 알아보던 중에 히말이는 유생부터 성체까지 풀 수생 가능하다고해서 급땡기네 이미 엠페러있어서 좀 걸리긴 하는데 라오스랑 히말중에 고민이다  - dc official App\n",
      "\n"
     ]
    },
    {
     "name": "stderr",
     "output_type": "stream",
     "text": []
    },
    {
     "name": "stdout",
     "output_type": "stream",
     "text": [
      "Content: \n",
      "슈달 베이비라고 올라오는것들 보면 거의 누렇던데 쇼에서 본건 하얀 느낌이 강했거든?그게 잘나온 개체인거야?아님 크면서 하얘지는거야?\n",
      "\n",
      "Comment: 페일 개체가 따로 있음. 부모 따라가니까 부모상태 보고 데려와야함\n",
      "Comment: 하얀애들이 비쌈\n"
     ]
    },
    {
     "name": "stderr",
     "output_type": "stream",
     "text": []
    },
    {
     "name": "stdout",
     "output_type": "stream",
     "text": [
      "Content: \n",
      "나 핸들링을 별로안하고 키우는중인데 나중에 성체되면 사나움?막 카펫이나 락파이톤정도는 아니지?\n",
      "\n",
      "Comment: 핸들링 여부보다는 개체 자체의 성격차이임일반적으로 크면서 겁이 줄어서 유순해지는 경향은 있음\n",
      "Comment: 콘스면 지가 사나워봤자...\n",
      "Comment: 콘스면 진짜 지가 사나워봤자야... 머리통도 작고 이빨도 작은데다가 애초에 성질머리가 유순해서 보통은 문제 없더라\n",
      "Content: \n",
      "거들테일 아르마딜로 리자드가 2,300,000 원이라고 적혀있던데 크레스티드 비싼애들은 뭔 200~300이상이네 이게 맞아?  - dc official App\n",
      "\n",
      "Comment: 거들이 230만?ㅋㅋㅋㅋㅋㅋㅋㅋ 내가 산다 시발 어디냐 ㅋㅋ\n",
      "Comment: 2천300만 아니냐 ㅋㅋㅋ0 잘못봤노\n",
      "Comment: 크레 100넘어가는건 진짜 호갱이라고 생각한다. 옛날에 크레가격 몇백하던거 가격 박살난 거 보면 능지 문제 아닌 이상 그 가격에사는 건 호구지 ㅋㅋ  - dc App\n",
      "Comment: 크레 비싼건 30~40이지 희귀한것도 아니고 번식조차 쉬운데 100넘어가는게 웃긴거\n"
     ]
    },
    {
     "name": "stderr",
     "output_type": "stream",
     "text": []
    },
    {
     "name": "stdout",
     "output_type": "stream",
     "text": [
      "Content: \n",
      "자본주의에서 돈버는게 ㄹㅇ 찐 재능이다근데 투자는 재능의 영역이라 헬오브헬임\n",
      "\n"
     ]
    },
    {
     "name": "stderr",
     "output_type": "stream",
     "text": []
    },
    {
     "name": "stdout",
     "output_type": "stream",
     "text": [
      "Content: \n",
      "꾸밍기 모니터 입양 생각 중인데. 테임 많이 빡썐가? 블루테구랑 꾸밍기 둘다 테임 시키면 결국 성격/난이도 비슷하지 않음?가게에서 꾸밍기도 테구랑 크기 차이 별로 안난다해서 고민중\n",
      "\n",
      "Comment: 꾸밍기 키우는사람들 말 들어보니까 뒤진 먹이에 꼬리치기 히싱하고 먹이소화안될때 보면 먹이다시 뱉어버리고 그런다는대\n",
      "Comment: 워터류가 좀많이예민함 윗댓처럼 밥먹다 얼굴마주치면 토하는경우도있더라 ㅋㅋ\n"
     ]
    },
    {
     "name": "stderr",
     "output_type": "stream",
     "text": []
    },
    {
     "name": "stdout",
     "output_type": "stream",
     "text": [
      "Content: \n",
      "아들롬이 조그만 청개구리 잡아왔는데이렇게 키워도 됨???어항에 거북이처럼 물때려 부어서 키워야하나..\n",
      "\n",
      "Comment: 뚜껑을 닫아야 탈출 안하는데 환기가 안되는 구조라 비추\n",
      "Comment: 뚜따하고 루바망같은거 달면가능하긴함\n",
      "Comment: 우웩\n",
      "Comment: 좋은디\n"
     ]
    },
    {
     "name": "stderr",
     "output_type": "stream",
     "text": []
    },
    {
     "name": "stdout",
     "output_type": "stream",
     "text": [
      "Content: \n",
      "이글 작성한게 이미 작년 11월입니다.  근데 아직도 정신 못차린 분들이 많네여... ^^ㅎ 이 글에 등장하는 기관이나 단체, 인물등은 실존 인물이 아니며 비슷하다거나 같게느껴진다면 당신의 착각입니다. 전혀 관계가 없다는것을 알려드립니다. '일하기 싫어? 월말인데 모바일은 없고 핸드폰 개통 1개가 말이 돼? ! 이새끼가 장난 치나...가서 전화 안돌려?' 오늘도 휴대폰 대리점점장 (43)에게 깨지는 나엠생(28) 힘 없는 발걸음을 돌린 후 컴퓨터 앞에 앉아서 전달받은 무작위 전화번호 리스트를 보며 무의미한 시간을 보낸다. 단말기 값은 안알려주고 월요금이 얼마입니다 라는소리도 이젠 잘 통하지않는다 유튜브와 네이버를 보던 중 나엠생 눈에 들어온 기사가 있다. '돈을 부르는 이색 재테크 파충류 재테크' '서민갑부, 파충류는 내 친구 짱크레덕션 대표 짱크레 - 억대연봉의 사나이' 응..? 이게 뭐지..? 궁금해서 기사를 클릭해보는 나엠생 씨 기사 내용은 희귀한 파충류를 키워 성공적으로 알을 낳고 그 새끼들을 납품하여 돈을 번다는 난생 처음보는 희한한 재테크를 설명하는 내용이다. '이야.. 신기하구만' 기사에 나온 '크레스티드 게코' 를 유튜브에 검색했다. 무서운 백형이라는 100만 유튜버가 기사에 나온 짱크레 집으로 방문하여 작은 도마뱀을 보여주더니 수천만원 / 해외에서 억대로 팔아달라는 연락이 왔다는 등의 내용이 나온다 나엠생도 어릴적부터 뭘 키우는걸 좋아했던 기억이 있다. 장수풍뎅이도 잡아키우고, 물방개도 키웠던 추억에 빠져 관련 내용을 검색하다가 나엠생은 '파사모(파충류 사고파는 모임)'에 가입하게 되는데.. 회원가입한 나엠생은 그냥 아무생각 없이 가입인사를 작성하고 눈팅하던 중 도마뱀이 판매되는 가격을 보게된다. '무슨 도마뱀 새끼가 1600만원이야??' 인터넷 티비 팔아서 한회선에 2만원을 인센티브로 받는 나엠생은 금액을 보고 눈이 번뜩 뜨인다 라인, 모프, 차콜, 카푸치노, 세이블, 트익할 등등 도무지 알 수 없는 단어들로 구성된 판매 설명 글들과 부럽다 키우고싶다, 2세가 기대된다 등의 댓글... 그 와중에 나엠생의 눈길을 사로잡는 문구가 있었다. '컨설팅 문의 주시는 분들 많은데.. 아직까지 제 라인의 퀄리티 상승을 위해 위 개체들은 분양을 보류합니다.' '와 ㅋㅋ 도마뱀도 컨설팅 같은걸 하구나.. 신기하네' 퍽 갑자기 뒤통수가 얼얼한 나엠생... '이 새끼가 니실적 꼬라지보고 지금 이러고있지? ? 퇴근은 알아서하고 내일까지 실적가져와' '없으면 니네집에다가 인터넷 한회선 더 설치하던가' 아.. 점장이다.. 고등학교 선배새끼가 돈 많이 벌게해준다고 와서 앉아만 있으라더니 개씨발새기.. 퇴근길에 나의 애마 K5에 시동을 걸어놓고 담배를 하나 꺼내어 물어본다. '하.. 시발 차 리스 한거만 아니면 이지랄 안하고사는데...' 그런 생각에 잠길때쯤 아까 본 단어가 생각난다 '컨설팅' 나엠생은 늦은 저녁 퇴근 후, 집앞에 k5를 주차하고 호기심에 그 '컨설팅'에 대해 문의하기 위해 전화를 걸어본다. '네 여보세요?' 수화기 넘어 들려오는 남성의 목소리 20대 중후반, 많이치자면 30대의 목소리에 이질감이 들지만 힘겹게 입을 열어본다. '크레 컨설팅 문의로 연락을 드렸는데요.. NFS 안파신다고 하신글은 봤는데.. 제가 좀 꼭 해보고싶어서요 도와주시면 안될까요?' 그 말을 들은 남성은 무척이나 친절해지면서 크레의 수익성, 본인이 작년에 얼마나 벌었는지를 설명했다. 릴리, 아잔틱, 카푸치노, 열성 인자 우성인자 등 모르는 단어를 나열하던 남성은 이윽고 말을 꺼낸다. '아 선생님처럼 열정있는 분이시라면 제가 믿고 함께 할 수 있을거 같은데.. 통장 인증도 가능한데 이러지말고 가볍게 한번 뵙는건 어떨까요?' 뭐 따로 돈이 들어가는 것도 아니니 그게 좋다고 생각한 나엠생 금요일 저녁에 만나기로 약속을 하고 집에 들어온 그를 반겨주는건 어둠뿐이였다. 그때 울리는 핸드폰에 알림 '신용 대출 승인 되었습니다.' 나엠생의 마음 속에 뜨거운 무언가가 차오르기 시작한다. 바쁜 일과를 지내고 금요일 오후 7시. 점장 퇴근과 동시에 짐을 싸는 직원들 갑자기 내 옆구리를 콕콕 누가 찌른다. ''엠생형 ㅎㅎ 쭈꾸미에 쇠주한잔 어떻습니까 ㅎㅎ' 평소에 나와같이 점장에게 까임 당하는 박호구(26)가 히죽거리며 술을 한잔 털어넣는 제스쳐를 취하면서 말한다. '아.. 오늘은 급하게 다른데를 가봐야해서, 다음에 한잔하자' 아쉬워하는듯한 표정을 짓는 박호구를 뒤로하고 나의 애마 K-5에 몸을 싣고 네비를 찍는다.. '보자... xx동 xx빌.. 원룸인가?? 30분 걸리네..' '30분 후 도착합니다' 카톡을 하나 보내놓고 운전을 하는 나엠생 잠시 후, 도착한 곳에서 그를 마중나와 있는 통화를 하던 남성을 발견한다 '안녕하세요 ㅎㅎ 통화했던 흑우렙타일 홍크레 입니다. 오시느라 고생하셨죠' 반갑게 맞아주는 목소리와는 다르게 금팔찌 금반지 사이로 보이는 팔을 가득메운 문신에 위화감이 들었다. '들어가서 커피 한잔하면서 얘기하시죠' 나엠생이 들어온 원룸에는 양쪽 가득히 서랍장이 나열되어있었다. 회사에서 느꼇던 딱딱한 분위기와는 다른 느낌.. 향긋한 커피향이 나엠생 앞까지 왔을 무렵.. 남성은 세상 좋은 표정으로 말을 꺼낸다. '부담느끼시지 말구요 ㅎㅎ 근데 부업으로 이만한게 없긴 합니다.' '회사가 부업이 되는거죠 언제까지 휴대폰 팔고 계실꺼에요 저도 딸배뛰다가 이거하는데 이제는 본업이 바뀐거죠' 약 30분간 청산유수로 말을 쏟아붓는 남성 열성이 무엇이고 우성이 무엇이다 자본금이 얼마냐. 통장에 들어온 대출금 2000만원이면 충분하겠지 라고 생각하며 1500만원 정도를 얘기하자 '카푸'와 '릴리'만 가능하다는 소리를 한다. 그게 뭔데.. 죄송하지만 아잔틱이랑 멜라는 2천으로는 안된다. 라는말을 하며 '그래도 카푸랑 릴리가 꾸준히 하시면 수익 됩니다. 얘네는 절대 안떨어질꺼거든요' 라고하는 홍크레 그는 자신의 도마뱀이 팔린 가격과 계좌를 핸드폰으로 보여주며 연신 금팔찌와 반지를 만지작 거렸다. 나엠생은 덜컥걱정이 된다. 물건도 아니고 생물인데,,,, '제가 이런걸 아예 모르는데.. 괜찮을까요??' 홍크레가 말한다 '아.. 그래서 저희와 함께 하시면 따로 그룹을 짤 필요없이 저희가 다 알아서 해드립니다. 선생님은 그냥 키우시다가 팔면 그만이에요 ㅎㅎ' 정신을 차려보니 계약서에 싸인을 하고있는 나엠생 '네 그럼 말씀 드렸던데로 카푸+릴리 +풀커버 트익할까지 카드로 2천만원 결제하고 준비해드리겠습니다' 집으로 돌아온 나엠생은 렉 사육장을 알아본다. 6개월 후,,, 시간은 흘러흘러 그 흑우렙타일에서 받은 개체들을 키우면서 문제가 생겨났다. 풀커버 트익할이라고 받은 개체들이 하나둘씩 점이 올라오고 있고 카푸 . 릴리 라고 받은 개체들도 점박이가 되어가고있다. 카푸치노는 파사모에서 마리당 5~10만원에 판매하는 초등학생이 키우는 개체랑 다를바가 없어보인다. 흑우렙타일에 전화를 걸어 항의를 하는 나엠생 '아니 선생님 자라면서 달라지는게 크레인데요.. 그리고 2세 안볼겁니까? 지금 개체가 퀄이 좀 떨어져보여도 2세는 다르다니까요?? 그리고 카푸 계열은 혈통이 중요한데 그걸 비교하시나요??' 돌아오는 그의 대답에 열이 뻗쳤지만, 그래도 본인보다 전문성을 가진 양반이라 생각하여 꾹 참는 나엠생.. 파사모에 들어가서 흑우렙타일의 글을 검색해본다 2021.12.20 / 홍크레 안녕하세요. 도마뱀에 관심있어서 가입했습니다.ㅎㅎ 2022.02.20 . 홍크레 이거 배란인가요?? 2022.04.15 파사모 정식 브리더&업체 등록을 한 흑우렙타일(구 홍크레)입니다. 언제나 신뢰를 가장 우선시하며, 외국브리더 엘레강스 게코의 개체들을 받아 브리딩하고 있습니다. 릴리화이트, 트익할, 카푸 등 신뢰를 최우선으로 좋은 가격에 보답해드립니다 ^^ 각종 분양&컨설팅 문의 주시면 실망시켜 드리지 않겠습니다. ..... 갑자기 뒤통수를 맞은 느낌의 나엠생... 고작 6개월도 안키워본 놈에게 2천만원을 쏟아 부었다는 생각에 열이 뻗쳤지만 일단 원금을 최대한 회수하는게 중요하단 생각과 가지고 있는 개체라도 팔아서 신용대출을 갚고 보는게 급선무라는 생각이 먼저들어 파사모에 들어가본다. 릴리 미구분 급 분양함 10만원 릴리 미구분 10마리 일괄 분양합니다. 90만원 풀커버 트익할 암컷 성체 마지막 가격 하향 90만원 대한민국 16강진출 이벤트 입니다. 나엠생이 마리당 2~300만원씩 주고 흑우렙타일에서 데려온 개체들보다 퀄리티가 좋은 개체들이 저 가격에도 안팔린다는 생각에 힘이 빠진다. 흑우렙타일은 전화기를 꺼둔 상태다... 갑자기 앞길이 막막해진 나엠생... 그러던 중 갑자기 뭔가 번뜩이면서 글을 작성한다. '정식 업체&브리더 등록한 MS(엠생)게코입니다. 현재 카푸, 릴리 등을 중점 브리딩하고 있으며 컨설팅시 그동안 경험한 모든 노하우 개체 등 선별하여 드리고 있습니다. 언제든지 연라...' 글쓴이의 의견 08년부터 파충류 입문하여 소소하게 콘 킹 볼파도 새끼 받아보고 개체와 이별이 싫어 오래사는 거북이를 키운지 6년이 좀 넘었다. 지금의 판을 레오파드 게코의 사례를 보고서도 크레는 다르다 라고 생각하는 머저리들이 아직도 있다면 정신차리길 바란다 투자는 개인의 몫이며 나중가서 후회해도 아무소용없다. 떨어진 집값 금리 감당 못하고 헐값 매물로 던지면 시세 떨어지게 왜 그렇게 던졌냐고 그 복덕방 문닫고 장사 접는 요즘 부동산과 다를바가 없는상황이다. 퍙갤 여러분의 성공적인 투자와 자본금 회수를 기원하며 기존에 브리딩 하고 수익을 보고 있는 사람들은 성공과 앞으로의 전망에 대해 왈가왈부 서로의 의견이 있겠지만 확실한건 아직 발을 들이지 않고 고민하고 있는 엠생이 있다면 당장 머리속에서 지워라 니가 보고있는 그건 지옥이야 병신아...  - dc official App\n",
      "\n",
      "Comment: 개웃기노 ㅋㅋㅋㅋㅋㅋㅋㅋㅋㅋㅋㅋㅋ 아 근데 저 컨설팅 누군지 알겠노 ㅋㅋㅋㅋㅋㅋㅋㅋㅋㅋㅋㅋㅋ\n",
      "Comment: 너무 길다 간소화해 다 못읽겠다\n"
     ]
    },
    {
     "name": "stderr",
     "output_type": "stream",
     "text": [
      "\n"
     ]
    },
    {
     "name": "stdout",
     "output_type": "stream",
     "text": [
      "Content: \n",
      "이런 건계 비바리움에 파충류 넣고 기르는게 꿈임  - dc official App\n",
      "\n",
      "Comment: 레게정도 사이즈 도마뱀\n",
      "Comment: 레게\n",
      "Comment: 싼 거, 비싼 거?\n",
      "Comment: 레게가 딱 좋아할듯\n",
      "Comment: 엡시\n",
      "Comment: 깃지같은 지압봉 스킨크들\n",
      "Comment: 호주소형모니터\n",
      "Comment: 깃지류\n",
      "Comment: 레게 ㄱㄱㄱㄱ - dc App\n",
      "Comment: 거들테일\n"
     ]
    },
    {
     "name": "stderr",
     "output_type": "stream",
     "text": [
      " 61%|██████    | 30/49 [04:14<00:56,  2.96s/it]\u001b[A"
     ]
    },
    {
     "name": "stdout",
     "output_type": "stream",
     "text": [
      "Content: \n",
      "1 이미지 순서 ON2 이미지 순서 ON3 이미지 순서 ON4 이미지 순서 ON맨날 야행서만 키우다가 처음 주행성 키워보는데 키우는 재미가 있네밥도 잘먹고 성질도 순해서 귀엽다\n",
      "\n",
      "Comment: 느무 귀엽닼ㅋㅋㅋㅋㅋ\n"
     ]
    },
    {
     "name": "stderr",
     "output_type": "stream",
     "text": []
    },
    {
     "name": "stdout",
     "output_type": "stream",
     "text": [
      "Content: \n",
      "키우기 쉬움 ? \n",
      "\n"
     ]
    },
    {
     "name": "stderr",
     "output_type": "stream",
     "text": []
    },
    {
     "name": "stdout",
     "output_type": "stream",
     "text": [
      "Content: \n",
      " ㅇ?  - dc official App\n",
      "\n",
      "Comment: ㅇ\n",
      "Comment: 원가뽑기 힘듬니가 산 베이비 내후년에 절대 그 값 못한다\n"
     ]
    },
    {
     "name": "stderr",
     "output_type": "stream",
     "text": []
    },
    {
     "name": "stdout",
     "output_type": "stream",
     "text": [
      "Content: \n",
      "걍구경하고 얘기 나누면서 투표하는거 난재밋는데?  - dc official App\n",
      "\n",
      "Comment: 근데 행사이름이 폼평회인거냐 아님 품평회를 자꾸 오타내는거냐\n",
      "Comment: 호구 인증하러온건가?  - dc App\n",
      "Comment: 1 근데 왜 호구임?브리더들이 뽑는것도 아니고방문하는 사람 모두 투표하는건데\n",
      "Comment: 진지해서 더 재밌었음\n"
     ]
    },
    {
     "name": "stderr",
     "output_type": "stream",
     "text": [
      "\n"
     ]
    },
    {
     "name": "stdout",
     "output_type": "stream",
     "text": [
      "Content: \n",
      "이쁜개체 사진하고 정상가격 올리고 개발한 용품 홍보하고 다 좋지요 얼척없는 컨설팅이나 사람 보고 싯가판매 이지랄 커뮤니티 여론 조작  떡락한 크레 시세 담합 크레 경매 호가 조작 이래서야 살림살이 좀 나아지시겠습니까 돈버실려면 깨끗하게 버십시오 \n",
      "\n",
      "Comment: 내가 버는건 깨끗한거고 니가버는건 더러운거ㅋㅋㅋㅋㅋㅋㅋㅋㅋㅋ 마인드 지리노 - dc App\n",
      "Comment: 뒷돈이 더러운거지 새캬  - dc App\n",
      "Comment: 병신\n",
      "Comment: 경매조작 빼면 보통 다른 판이랑 다 마찬가지ㅇㅇ\n",
      "Comment: 나가서 노가다해서 버는 돈은 깨끗하지?\n"
     ]
    },
    {
     "name": "stderr",
     "output_type": "stream",
     "text": [
      " 71%|███████▏  | 35/49 [04:29<00:42,  3.06s/it]\u001b[A"
     ]
    },
    {
     "name": "stdout",
     "output_type": "stream",
     "text": [
      "Content: \n",
      "어제 그나마 피시방에서 파양갤 덕분에 내 자존감이 올라간거 같다하지만 집으로 돌아오니 달라진 현실은 없다내 방에 나는 홀애비 냄새어제 ㅈㅇ하고 치우지 않은 휴지들버럭 엄마에게 화를 냈다\"엄마!!! 내 방 치우라고 왜 안치웠어!!!\"\"아들 미안한데 엄마가 니 코푼 휴지까지 치울수는 없잖아 그리고 냄새는 너가 안씻어서 나는거야\" 그러더니 갑자기 술에 취한 아버지가 오신다\"이 상놈새끼 버러지 같은 놈이 나이 스물여섯 처먹고 니 방청소랑 니 딸딸이친 휴지는 니가 치워라 개놈샤끼 쓸모없는 샠끼 저딴걸 자식이라고 어휴\"갑자기 너무 화가 났다하지만 아버지는 너무 강했고 덤빌수 없었다홧김에 문을 쌔게 닫았고 소리가 너무 컷다무서웠다 아버지가 와서 무슨 버르장머리냐고 손지검 하실거 같았다먼저 문을 빼꼼 열어 \"바람이야 내가 쌔게 닫은거 아냐\"라고 이야기 했다뭔가 자존감이 더 떨어졌다화가 났고 소주 한잔 하고 싶었지만 오늘 받는 용돈 만원을피시방에서 모두 사용했다핸드폰을 켰다자존감을 올리고 싶었다그리고 디시 파양갤을 들어가 크레스티드게코 도매표를 작성했다역시나 반응이 좋았다노멀 3천원릴리 5천원아잔틱 만원카푸 만원세이블 만원역시 나와 같이 돈 없고 자존감 낮은 친구들이 호응을 해준다먼가 된거 같은 기분이다내일은 내 첫사랑에게 카톡을 보낼 용기도 낼수있을거 같았다그래 나는 디시 파양갤만 있으면 행복해여기서 나는 신이야 익명성이 보장되니 너무 좋잖아!내일은 크레 거물들 욕을 해보는거야앞에서는 절대하지 못하는 말이지만 여기선 할수있어그래 돈 많이 버닌깐 욕먹는건 세금정도로 생각할꺼야- 다음화 계속\n",
      "\n",
      "Comment: 틀냄새나노\n",
      "Comment: 화가 많이 났나보네\n",
      "Comment: 근데 맞잖아 도매표 작성하는 아이들 크레 다섯마리도 안키우잖아 - dc App\n",
      "Comment: ㅋㅋㅋㅋㅋㅋㅋㅋ 열등감 그지들 많이 화나겠노 ㅋㅋㅋㅋㅋ 개꿀잼이네 ㅋㅋㅋㅋㅋㅋㅋㅋㅋㅋㅋㅋㅋㅋㅋㅋㅋㅋㅋㅋㅋㅋㅋㅋㅋㅋㅋㅋㅋㅋ 3화 얼른 부탁한다\n",
      "Comment: ㅋㅋㅋㅋㅋㅋ 개공감\n",
      "Comment: 비추 긁힌애들 많네 ㅋㅋㅋㅋㅋㅋㅋ\n",
      "Comment: ㅋㅋㅋㅋㅋㅋ  - dc App\n"
     ]
    },
    {
     "name": "stderr",
     "output_type": "stream",
     "text": []
    },
    {
     "name": "stdout",
     "output_type": "stream",
     "text": [
      "Content: \n",
      "레게 게시물에는 무조건이악물고 비추부터 박음 ㅋㅋ- dc official App\n",
      "\n",
      "Comment: 크레는 알비노 모프도 없는 잡도마뱀 ㅋㅋ\n"
     ]
    },
    {
     "name": "stderr",
     "output_type": "stream",
     "text": []
    },
    {
     "name": "stdout",
     "output_type": "stream",
     "text": [
      "Content: \n",
      "지겨워죽겠다~바퀴벌레도 자기 새끼는 예쁠듯.  남이 예쁘다 해야지 지가 지입으로 예쁘다 고퀄이다 희귀하다 그게 뭔 헛소리냐?? 원빈 주변 사람들이. 원빈 존나 멋져요! 잘 생겼어요!! 이러냐?그냥 보면 와… 하잖음?그게 예쁜거다 고퀄인거고  ㅇㅋ?\n",
      "\n",
      "Comment: 팔것도 아닌데 그냥 자기 보기 이쁘면 됐지\n",
      "Comment: 조금 내려놓으면 너도 세상이 좀 편해질거야\n",
      "Comment: 너도 세상살기 참 고달프겠구나  - dc App\n"
     ]
    },
    {
     "name": "stderr",
     "output_type": "stream",
     "text": []
    },
    {
     "name": "stdout",
     "output_type": "stream",
     "text": [
      "Content: \n",
      "1 이미지 순서 ON2 이미지 순서 ON3 이미지 순서 ON4 이미지 순서 ON5 이미지 순서 ON6 이미지 순서 ON7 이미지 순서 ON8 이미지 순서 ON9 이미지 순서 ON10 이미지 순서 ON11 이미지 순서 ON집가는길에 봄  - dc official App\n",
      "\n",
      "Comment: 국껍이 ㅈㄴ 예쁜듯  - dc App\n",
      "Comment: 자라 스팽킹 해보고 싶다  - dc App\n"
     ]
    },
    {
     "name": "stderr",
     "output_type": "stream",
     "text": []
    },
    {
     "name": "stdout",
     "output_type": "stream",
     "text": [
      "Content: \n",
      "귀여움\n",
      "\n",
      "Comment: ㄱㅇㅇ\n"
     ]
    },
    {
     "name": "stderr",
     "output_type": "stream",
     "text": []
    },
    {
     "name": "stdout",
     "output_type": "stream",
     "text": [
      "Content: \n",
      "레이다임?\n",
      "\n",
      "Comment: 발색은 맞아보임\n",
      "Comment: 레이다 맞음\n"
     ]
    },
    {
     "name": "stderr",
     "output_type": "stream",
     "text": []
    },
    {
     "name": "stdout",
     "output_type": "stream",
     "text": [
      "Content: \n",
      "화질이 구려서 모르겠지..??독사는 아니려나?  화분들 사이로 들어가서 지금은 안보이는데더울거 같아서 주변에 물을 흠뻑 뿌려줬다 잘함?\n",
      "\n",
      "Comment: 누룩뱀인듯  - dc App\n"
     ]
    },
    {
     "name": "stderr",
     "output_type": "stream",
     "text": []
    },
    {
     "name": "stdout",
     "output_type": "stream",
     "text": [
      "Content: \n",
      "ㅈ같은 제품 개선할 생각은 안하고 개체성격 탓, 주는방법 탓하고엄한 충식은 하지말라하고포스피딩 요령만 유도하네자율은 하지도 않으니 언급도 안하는듯ㅋㅋㅋ기호도 ㅈ박았으니 스푼으로 주는건 시연도 못하지?ㅎ\n",
      "\n",
      "Comment: ㅋㅋㅋㅋㅋㅋㅋ\n"
     ]
    },
    {
     "name": "stderr",
     "output_type": "stream",
     "text": []
    },
    {
     "name": "stdout",
     "output_type": "stream",
     "text": [
      "Content: \n",
      "규정위반 한거부지기한테 채팅으로 신고하면 어느순간 모가지 날라가있네 ㅋㅋ규정위반 발견하면 바로신고하는데 효과가 있으니 더 열심히 해야겠네\n",
      "\n",
      "Comment: 유토피아게코 금마 신고해봐라 업체등록 안하고 도매보낸다 ㅋㅋ\n",
      "Comment: 부지기한테 채팅으로 이사람 이렇게 규정위반했다고 캡쳐해서 보내면됨? 나도할래\n"
     ]
    },
    {
     "name": "stderr",
     "output_type": "stream",
     "text": []
    },
    {
     "name": "stdout",
     "output_type": "stream",
     "text": [
      "Content: \n",
      "펫테일게코 키울려고 사육장 찾아보고있는데 터브 사이즈 기준 26 37 17은 너무 작나? 펫테일이 활동이 많은건 아니라고 들어서 작을수록 관리 편할거같은데 총 2마리 키울거고 사진 크기 너무작으면 좀 더 큰거 살려고\n",
      "\n",
      "Comment: 너무 짝다\n"
     ]
    },
    {
     "name": "stderr",
     "output_type": "stream",
     "text": []
    },
    {
     "name": "stdout",
     "output_type": "stream",
     "text": [
      "Content: \n",
      "이미지 좋은 퍙샵에서 입양,구매하고싶습니다!\n",
      "\n",
      "Comment: 지역ㅇㄷ\n",
      "Comment: 더쥬\n",
      "Comment: 후기검색\n",
      "Comment: 더쥬\n"
     ]
    },
    {
     "name": "stderr",
     "output_type": "stream",
     "text": [
      "\n"
     ]
    },
    {
     "name": "stdout",
     "output_type": "stream",
     "text": [
      "Content: \n",
      "다들 어디사이트에서 보시나요..??\n",
      "\n"
     ]
    },
    {
     "name": "stderr",
     "output_type": "stream",
     "text": [
      " 96%|█████████▌| 47/49 [05:04<00:06,  3.01s/it]\u001b[A"
     ]
    },
    {
     "name": "stdout",
     "output_type": "stream",
     "text": [
      "Content: \n",
      "동생이 도마뱀 키우고 싶다고 용돈 30만원 모아둔걸로 사러가자는데 ㅋㅋ 이거 현실적으로 한두달 겨우 키우다 폐사한다고 봐야함?  - dc official App\n",
      "\n",
      "Comment: 크레스티드 이거 사자는데 초보자가 1년 이상 키우는거 불가능이라고 봐야대지?  - dc App\n",
      "Comment: 아무렴 너도 키웟는데 도마뱀은 못키워  - dc App\n"
     ]
    },
    {
     "name": "stderr",
     "output_type": "stream",
     "text": []
    },
    {
     "name": "stdout",
     "output_type": "stream",
     "text": [
      "Content: \n",
      "이새끼 ㄹㅇ뭐냐.. 개쫄았다진짜  - dc official App\n",
      "\n",
      "Comment: 구렁이 아나콘다 실제로 본적은 있음?\n",
      "Comment: 아나콘다 ㅇㅈㄹㅋㅋㅋㅋ  - dc App\n"
     ]
    },
    {
     "name": "stderr",
     "output_type": "stream",
     "text": [
      "100%|██████████| 49/49 [05:11<00:00,  6.35s/it]\n",
      "100%|██████████| 29/29 [1:09:50<00:00, 144.51s/it]\n"
     ]
    },
    {
     "name": "stdout",
     "output_type": "stream",
     "text": [
      "CSV 파일이 저장되었습니다.\n"
     ]
    }
   ],
   "source": [
    "contents = []\n",
    "\n",
    "driver = webdriver.Chrome()\n",
    "\n",
    "wait = WebDriverWait(driver, 10)\n",
    "\n",
    "# def close_survey_if_present(driver):\n",
    "#     try:\n",
    "#         # 최대 10초까지 기다리며 설문조사 팝업의 존재 여부를 확인합니다.\n",
    "#         WebDriverWait(driver, 10).until(\n",
    "#             EC.presence_of_element_located((By.ID, \"pop_survey\"))\n",
    "#         )\n",
    "#         print(\"설문조사 팝업이 존재합니다. 닫습니다.\")\n",
    "        \n",
    "#         # 팝업의 닫기 버튼을 클릭합니다.\n",
    "#         close_button = driver.find_element(By.CSS_SELECTOR, \"#pop_survey .btn_close\")\n",
    "#         close_button.click()\n",
    "        \n",
    "#         # 팝업이 닫힐 때까지 잠시 대기합니다.\n",
    "#         WebDriverWait(driver, 10).until(\n",
    "#             EC.invisibility_of_element_located((By.ID, \"pop_survey\"))\n",
    "#         )\n",
    "#         print(\"설문조사 팝업이 닫혔습니다.\")\n",
    "        \n",
    "#     except Exception as e:\n",
    "#         # 설문조사 팝업이 존재하지 않거나 다른 문제가 발생한 경우\n",
    "#         print(\"설문조사 팝업이 없거나 다른 오류가 발생했습니다:\", e)\n",
    "\n",
    "for page in tqdm(range(1, 30)):\n",
    "    url = f\"https://gall.dcinside.com/board/lists/?id=reptile&page={page}\"\n",
    "    driver.get(url)\n",
    "\n",
    "    # close_survey_if_present(driver)\n",
    "\n",
    "    try:\n",
    "        # Wait until the table containing the articles is present\n",
    "        wait.until(EC.presence_of_element_located((By.CSS_SELECTOR, \"#container > section.left_content > article:nth-child(3) > div.gall_listwrap.list > table > tbody\")))\n",
    "\n",
    "        # Determine the range for 'tr' based on the page number\n",
    "        tr_range = range(4, 51) if page == 1 else range(2, 51)\n",
    "\n",
    "        for tr in tqdm(tr_range):\n",
    "            try:\n",
    "                # Wait for the specific article element to be clickable\n",
    "                article_locator = (By.CSS_SELECTOR, f\"#container > section.left_content > article:nth-child(3) > div.gall_listwrap.list > table > tbody > tr:nth-child({tr}) > td > a\")\n",
    "                article = wait.until(EC.element_to_be_clickable(article_locator))\n",
    "                article.click()\n",
    "\n",
    "                # Wait for the content of the article to be present\n",
    "                wait.until(EC.presence_of_element_located((By.CSS_SELECTOR, \"#container > section > article:nth-child(3) > div.view_content_wrap > div > div.inner.clear > div.writing_view_box > div.write_div\")))\n",
    "\n",
    "                soup = bs(driver.page_source, 'html.parser')\n",
    "                content = soup.select_one(\"#container > section > article:nth-child(3) > div.view_content_wrap > div > div.inner.clear > div.writing_view_box > div.write_div\")\n",
    "                if content:\n",
    "                    contents.append(content.text)\n",
    "                    print(f\"Content: {content.text}\")\n",
    "\n",
    "                # Find all comments\n",
    "                comment_elements = soup.select(\"div.comment_box > ul > li.ub-content\")\n",
    "\n",
    "                for comment_element in comment_elements:\n",
    "                    comment_text = comment_element.select_one(\"div.cmt_txtbox p.usertxt\")\n",
    "\n",
    "                    if comment_text:\n",
    "                        comment_text = comment_text.text.strip()\n",
    "                        \n",
    "                        contents.append(comment_text)\n",
    "                        print(f\"Comment: {comment_text}\")\n",
    "\n",
    "                        # Find all replies to this comment\n",
    "                        reply_box = comment_element.select_one(\"div.reply_box\")\n",
    "                        if reply_box:\n",
    "                            reply_elements = reply_box.select(\"ul.reply_list > li.ub-content\")\n",
    "                            for reply_element in reply_elements:\n",
    "                                reply_text = reply_element.select_one(\"div.cmt_txtbox p.usertxt\")\n",
    "                                \n",
    "                                if reply_text:\n",
    "                                    reply_text = reply_text.text.strip()\n",
    "                                    \n",
    "                                    contents.append(reply_text)\n",
    "                                    print(f\"Reply: {reply_text}\")\n",
    "\n",
    "                # Go back to the list page and wait for it to load\n",
    "                driver.back()\n",
    "                wait.until(EC.presence_of_element_located((By.CSS_SELECTOR, \"#container > section.left_content > article:nth-child(3) > div.gall_listwrap.list > table > tbody\")))\n",
    "\n",
    "            except TimeoutException:\n",
    "                print(f\"Timeout while processing article {tr}. Moving to next article.\")\n",
    "            except Exception as e:\n",
    "                print(f\"Error while processing article {tr}: {e}\")\n",
    "\n",
    "    except TimeoutException:\n",
    "        print(f\"Timeout while loading page {page}. Skipping to next page.\")\n",
    "    except Exception as e:\n",
    "        print(f\"Error while loading page {page}: {e}\")\n",
    "\n",
    "# CSV 파일로 저장하기\n",
    "with open('contents.csv', 'w', newline='', encoding='utf-8') as csvfile:\n",
    "    writer = csv.writer(csvfile)\n",
    "    writer.writerow(['Text'])  # 헤더 작성 (필요에 따라 변경 가능)\n",
    "    \n",
    "    for item in contents:\n",
    "        writer.writerow([item])  # 각 아이템을 새 행에 기록\n",
    "\n",
    "print(\"CSV 파일이 저장되었습니다.\")\n",
    "driver.quit()\n"
   ]
  },
  {
   "cell_type": "code",
   "execution_count": 8,
   "metadata": {},
   "outputs": [
    {
     "name": "stdout",
     "output_type": "stream",
     "text": [
      "5110\n"
     ]
    }
   ],
   "source": [
    "print(len(contents))"
   ]
  },
  {
   "cell_type": "code",
   "execution_count": null,
   "metadata": {},
   "outputs": [],
   "source": []
  }
 ],
 "metadata": {
  "kernelspec": {
   "display_name": "base",
   "language": "python",
   "name": "python3"
  },
  "language_info": {
   "codemirror_mode": {
    "name": "ipython",
    "version": 3
   },
   "file_extension": ".py",
   "mimetype": "text/x-python",
   "name": "python",
   "nbconvert_exporter": "python",
   "pygments_lexer": "ipython3",
   "version": "3.11.7"
  }
 },
 "nbformat": 4,
 "nbformat_minor": 2
}
